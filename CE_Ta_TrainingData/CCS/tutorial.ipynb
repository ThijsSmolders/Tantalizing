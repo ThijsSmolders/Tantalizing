{
 "cells": [
  {
   "cell_type": "markdown",
   "id": "74f144dd",
   "metadata": {},
   "source": [
    "# Building Frederike's second force field"
   ]
  },
  {
   "cell_type": "code",
   "execution_count": 3,
   "id": "d88f1c57-aa71-4a19-9b6b-e9ada91bb1e6",
   "metadata": {},
   "outputs": [],
   "source": [
    "import matplotlib.pyplot as plt\n",
    "import ase as ase\n",
    "from ase.io import read,write\n",
    "from ase.build import bulk\n",
    "import numpy as np\n",
    "import ase.db as db\n",
    "from ase.visualize import view\n",
    "from ase.optimize import BFGS\n",
    "Fit_on_forces=True\n",
    "import os"
   ]
  },
  {
   "cell_type": "markdown",
   "id": "16cf8943-479f-4215-b40e-863f22c69e1e",
   "metadata": {},
   "source": [
    "### Generate training data\n",
    "Curvature Constrained Splines can be fitted to a reference data-set with energies (and optionally forces) of pre-calculated structures. In this example we generate the reference data-set using a Lennard-Jones potential. We use a LJ bulk structure that we randomly rattle and scale. \n"
   ]
  },
  {
   "cell_type": "code",
   "execution_count": 20,
   "id": "13b96562-b2ff-44e6-972b-d9fe03b5d085",
   "metadata": {},
   "outputs": [
    {
     "name": "stdout",
     "output_type": "stream",
     "text": [
      "Renamed OUTCARS\\1.OUTCAR to OUTCARS\\001.OUTCAR\n",
      "Renamed OUTCARS\\10.OUTCAR to OUTCARS\\010.OUTCAR\n",
      "Renamed OUTCARS\\100.OUTCAR to OUTCARS\\100.OUTCAR\n",
      "Renamed OUTCARS\\101.OUTCAR to OUTCARS\\101.OUTCAR\n",
      "Renamed OUTCARS\\102.OUTCAR to OUTCARS\\102.OUTCAR\n",
      "Renamed OUTCARS\\103.OUTCAR to OUTCARS\\103.OUTCAR\n",
      "Renamed OUTCARS\\104.OUTCAR to OUTCARS\\104.OUTCAR\n",
      "Renamed OUTCARS\\105.OUTCAR to OUTCARS\\105.OUTCAR\n",
      "Renamed OUTCARS\\106.OUTCAR to OUTCARS\\106.OUTCAR\n",
      "Renamed OUTCARS\\107.OUTCAR to OUTCARS\\107.OUTCAR\n",
      "Renamed OUTCARS\\108.OUTCAR to OUTCARS\\108.OUTCAR\n",
      "Renamed OUTCARS\\109.OUTCAR to OUTCARS\\109.OUTCAR\n",
      "Renamed OUTCARS\\11.OUTCAR to OUTCARS\\011.OUTCAR\n",
      "Renamed OUTCARS\\110.OUTCAR to OUTCARS\\110.OUTCAR\n",
      "Renamed OUTCARS\\111.OUTCAR to OUTCARS\\111.OUTCAR\n",
      "Renamed OUTCARS\\112.OUTCAR to OUTCARS\\112.OUTCAR\n",
      "Renamed OUTCARS\\113.OUTCAR to OUTCARS\\113.OUTCAR\n",
      "Renamed OUTCARS\\114.OUTCAR to OUTCARS\\114.OUTCAR\n",
      "Renamed OUTCARS\\115.OUTCAR to OUTCARS\\115.OUTCAR\n",
      "Renamed OUTCARS\\116.OUTCAR to OUTCARS\\116.OUTCAR\n",
      "Renamed OUTCARS\\117.OUTCAR to OUTCARS\\117.OUTCAR\n",
      "Renamed OUTCARS\\118.OUTCAR to OUTCARS\\118.OUTCAR\n",
      "Renamed OUTCARS\\119.OUTCAR to OUTCARS\\119.OUTCAR\n",
      "Renamed OUTCARS\\12.OUTCAR to OUTCARS\\012.OUTCAR\n",
      "Renamed OUTCARS\\120.OUTCAR to OUTCARS\\120.OUTCAR\n",
      "Renamed OUTCARS\\121.OUTCAR to OUTCARS\\121.OUTCAR\n",
      "Renamed OUTCARS\\122.OUTCAR to OUTCARS\\122.OUTCAR\n",
      "Renamed OUTCARS\\123.OUTCAR to OUTCARS\\123.OUTCAR\n",
      "Renamed OUTCARS\\124.OUTCAR to OUTCARS\\124.OUTCAR\n",
      "Renamed OUTCARS\\125.OUTCAR to OUTCARS\\125.OUTCAR\n",
      "Renamed OUTCARS\\126.OUTCAR to OUTCARS\\126.OUTCAR\n",
      "Renamed OUTCARS\\127.OUTCAR to OUTCARS\\127.OUTCAR\n",
      "Renamed OUTCARS\\128.OUTCAR to OUTCARS\\128.OUTCAR\n",
      "Renamed OUTCARS\\129.OUTCAR to OUTCARS\\129.OUTCAR\n",
      "Renamed OUTCARS\\13.OUTCAR to OUTCARS\\013.OUTCAR\n",
      "Renamed OUTCARS\\130.OUTCAR to OUTCARS\\130.OUTCAR\n",
      "Renamed OUTCARS\\131.OUTCAR to OUTCARS\\131.OUTCAR\n",
      "Renamed OUTCARS\\132.OUTCAR to OUTCARS\\132.OUTCAR\n",
      "Renamed OUTCARS\\133.OUTCAR to OUTCARS\\133.OUTCAR\n",
      "Renamed OUTCARS\\134.OUTCAR to OUTCARS\\134.OUTCAR\n",
      "Renamed OUTCARS\\135.OUTCAR to OUTCARS\\135.OUTCAR\n",
      "Renamed OUTCARS\\136.OUTCAR to OUTCARS\\136.OUTCAR\n",
      "Renamed OUTCARS\\137.OUTCAR to OUTCARS\\137.OUTCAR\n",
      "Renamed OUTCARS\\138.OUTCAR to OUTCARS\\138.OUTCAR\n",
      "Renamed OUTCARS\\139.OUTCAR to OUTCARS\\139.OUTCAR\n",
      "Renamed OUTCARS\\14.OUTCAR to OUTCARS\\014.OUTCAR\n",
      "Renamed OUTCARS\\140.OUTCAR to OUTCARS\\140.OUTCAR\n",
      "Renamed OUTCARS\\141.OUTCAR to OUTCARS\\141.OUTCAR\n",
      "Renamed OUTCARS\\142.OUTCAR to OUTCARS\\142.OUTCAR\n",
      "Renamed OUTCARS\\143.OUTCAR to OUTCARS\\143.OUTCAR\n",
      "Renamed OUTCARS\\144.OUTCAR to OUTCARS\\144.OUTCAR\n",
      "Renamed OUTCARS\\145.OUTCAR to OUTCARS\\145.OUTCAR\n",
      "Renamed OUTCARS\\146.OUTCAR to OUTCARS\\146.OUTCAR\n",
      "Renamed OUTCARS\\147.OUTCAR to OUTCARS\\147.OUTCAR\n",
      "Renamed OUTCARS\\148.OUTCAR to OUTCARS\\148.OUTCAR\n",
      "Renamed OUTCARS\\149.OUTCAR to OUTCARS\\149.OUTCAR\n",
      "Renamed OUTCARS\\15.OUTCAR to OUTCARS\\015.OUTCAR\n",
      "Renamed OUTCARS\\150.OUTCAR to OUTCARS\\150.OUTCAR\n",
      "Renamed OUTCARS\\151.OUTCAR to OUTCARS\\151.OUTCAR\n",
      "Renamed OUTCARS\\152.OUTCAR to OUTCARS\\152.OUTCAR\n",
      "Renamed OUTCARS\\153.OUTCAR to OUTCARS\\153.OUTCAR\n",
      "Renamed OUTCARS\\154.OUTCAR to OUTCARS\\154.OUTCAR\n",
      "Renamed OUTCARS\\155.OUTCAR to OUTCARS\\155.OUTCAR\n",
      "Renamed OUTCARS\\156.OUTCAR to OUTCARS\\156.OUTCAR\n",
      "Renamed OUTCARS\\157.OUTCAR to OUTCARS\\157.OUTCAR\n",
      "Renamed OUTCARS\\158.OUTCAR to OUTCARS\\158.OUTCAR\n",
      "Renamed OUTCARS\\159.OUTCAR to OUTCARS\\159.OUTCAR\n",
      "Renamed OUTCARS\\16.OUTCAR to OUTCARS\\016.OUTCAR\n",
      "Renamed OUTCARS\\160.OUTCAR to OUTCARS\\160.OUTCAR\n",
      "Renamed OUTCARS\\161.OUTCAR to OUTCARS\\161.OUTCAR\n",
      "Renamed OUTCARS\\162.OUTCAR to OUTCARS\\162.OUTCAR\n",
      "Renamed OUTCARS\\163.OUTCAR to OUTCARS\\163.OUTCAR\n",
      "Renamed OUTCARS\\164.OUTCAR to OUTCARS\\164.OUTCAR\n",
      "Renamed OUTCARS\\165.OUTCAR to OUTCARS\\165.OUTCAR\n",
      "Renamed OUTCARS\\166.OUTCAR to OUTCARS\\166.OUTCAR\n",
      "Renamed OUTCARS\\167.OUTCAR to OUTCARS\\167.OUTCAR\n",
      "Renamed OUTCARS\\168.OUTCAR to OUTCARS\\168.OUTCAR\n",
      "Renamed OUTCARS\\169.OUTCAR to OUTCARS\\169.OUTCAR\n",
      "Renamed OUTCARS\\17.OUTCAR to OUTCARS\\017.OUTCAR\n",
      "Renamed OUTCARS\\170.OUTCAR to OUTCARS\\170.OUTCAR\n",
      "Renamed OUTCARS\\171.OUTCAR to OUTCARS\\171.OUTCAR\n",
      "Renamed OUTCARS\\172.OUTCAR to OUTCARS\\172.OUTCAR\n",
      "Renamed OUTCARS\\173.OUTCAR to OUTCARS\\173.OUTCAR\n",
      "Renamed OUTCARS\\174.OUTCAR to OUTCARS\\174.OUTCAR\n",
      "Renamed OUTCARS\\175.OUTCAR to OUTCARS\\175.OUTCAR\n",
      "Renamed OUTCARS\\176.OUTCAR to OUTCARS\\176.OUTCAR\n",
      "Renamed OUTCARS\\177.OUTCAR to OUTCARS\\177.OUTCAR\n",
      "Renamed OUTCARS\\178.OUTCAR to OUTCARS\\178.OUTCAR\n",
      "Renamed OUTCARS\\179.OUTCAR to OUTCARS\\179.OUTCAR\n",
      "Renamed OUTCARS\\18.OUTCAR to OUTCARS\\018.OUTCAR\n",
      "Renamed OUTCARS\\180.OUTCAR to OUTCARS\\180.OUTCAR\n",
      "Renamed OUTCARS\\181.OUTCAR to OUTCARS\\181.OUTCAR\n",
      "Renamed OUTCARS\\182.OUTCAR to OUTCARS\\182.OUTCAR\n",
      "Renamed OUTCARS\\183.OUTCAR to OUTCARS\\183.OUTCAR\n",
      "Renamed OUTCARS\\184.OUTCAR to OUTCARS\\184.OUTCAR\n",
      "Renamed OUTCARS\\185.OUTCAR to OUTCARS\\185.OUTCAR\n",
      "Renamed OUTCARS\\186.OUTCAR to OUTCARS\\186.OUTCAR\n",
      "Renamed OUTCARS\\187.OUTCAR to OUTCARS\\187.OUTCAR\n",
      "Renamed OUTCARS\\188.OUTCAR to OUTCARS\\188.OUTCAR\n",
      "Renamed OUTCARS\\189.OUTCAR to OUTCARS\\189.OUTCAR\n",
      "Renamed OUTCARS\\19.OUTCAR to OUTCARS\\019.OUTCAR\n",
      "Renamed OUTCARS\\190.OUTCAR to OUTCARS\\190.OUTCAR\n",
      "Renamed OUTCARS\\191.OUTCAR to OUTCARS\\191.OUTCAR\n",
      "Renamed OUTCARS\\192.OUTCAR to OUTCARS\\192.OUTCAR\n",
      "Renamed OUTCARS\\193.OUTCAR to OUTCARS\\193.OUTCAR\n",
      "Renamed OUTCARS\\194.OUTCAR to OUTCARS\\194.OUTCAR\n",
      "Renamed OUTCARS\\195.OUTCAR to OUTCARS\\195.OUTCAR\n",
      "Renamed OUTCARS\\196.OUTCAR to OUTCARS\\196.OUTCAR\n",
      "Renamed OUTCARS\\197.OUTCAR to OUTCARS\\197.OUTCAR\n",
      "Renamed OUTCARS\\198.OUTCAR to OUTCARS\\198.OUTCAR\n",
      "Renamed OUTCARS\\199.OUTCAR to OUTCARS\\199.OUTCAR\n",
      "Renamed OUTCARS\\2.OUTCAR to OUTCARS\\002.OUTCAR\n",
      "Renamed OUTCARS\\20.OUTCAR to OUTCARS\\020.OUTCAR\n",
      "Renamed OUTCARS\\200.OUTCAR to OUTCARS\\200.OUTCAR\n",
      "Renamed OUTCARS\\201.OUTCAR to OUTCARS\\201.OUTCAR\n",
      "Renamed OUTCARS\\202.OUTCAR to OUTCARS\\202.OUTCAR\n",
      "Renamed OUTCARS\\203.OUTCAR to OUTCARS\\203.OUTCAR\n",
      "Renamed OUTCARS\\204.OUTCAR to OUTCARS\\204.OUTCAR\n",
      "Renamed OUTCARS\\205.OUTCAR to OUTCARS\\205.OUTCAR\n",
      "Renamed OUTCARS\\206.OUTCAR to OUTCARS\\206.OUTCAR\n",
      "Renamed OUTCARS\\207.OUTCAR to OUTCARS\\207.OUTCAR\n",
      "Renamed OUTCARS\\208.OUTCAR to OUTCARS\\208.OUTCAR\n",
      "Renamed OUTCARS\\209.OUTCAR to OUTCARS\\209.OUTCAR\n",
      "Renamed OUTCARS\\21.OUTCAR to OUTCARS\\021.OUTCAR\n",
      "Renamed OUTCARS\\210.OUTCAR to OUTCARS\\210.OUTCAR\n",
      "Renamed OUTCARS\\211.OUTCAR to OUTCARS\\211.OUTCAR\n",
      "Renamed OUTCARS\\212.OUTCAR to OUTCARS\\212.OUTCAR\n",
      "Renamed OUTCARS\\213.OUTCAR to OUTCARS\\213.OUTCAR\n",
      "Renamed OUTCARS\\214.OUTCAR to OUTCARS\\214.OUTCAR\n",
      "Renamed OUTCARS\\215.OUTCAR to OUTCARS\\215.OUTCAR\n",
      "Renamed OUTCARS\\216.OUTCAR to OUTCARS\\216.OUTCAR\n",
      "Renamed OUTCARS\\217.OUTCAR to OUTCARS\\217.OUTCAR\n",
      "Renamed OUTCARS\\218.OUTCAR to OUTCARS\\218.OUTCAR\n",
      "Renamed OUTCARS\\219.OUTCAR to OUTCARS\\219.OUTCAR\n",
      "Renamed OUTCARS\\22.OUTCAR to OUTCARS\\022.OUTCAR\n",
      "Renamed OUTCARS\\220.OUTCAR to OUTCARS\\220.OUTCAR\n",
      "Renamed OUTCARS\\221.OUTCAR to OUTCARS\\221.OUTCAR\n",
      "Renamed OUTCARS\\222.OUTCAR to OUTCARS\\222.OUTCAR\n",
      "Renamed OUTCARS\\223.OUTCAR to OUTCARS\\223.OUTCAR\n",
      "Renamed OUTCARS\\224.OUTCAR to OUTCARS\\224.OUTCAR\n",
      "Renamed OUTCARS\\225.OUTCAR to OUTCARS\\225.OUTCAR\n",
      "Renamed OUTCARS\\226.OUTCAR to OUTCARS\\226.OUTCAR\n",
      "Renamed OUTCARS\\227.OUTCAR to OUTCARS\\227.OUTCAR\n",
      "Renamed OUTCARS\\228.OUTCAR to OUTCARS\\228.OUTCAR\n",
      "Renamed OUTCARS\\229.OUTCAR to OUTCARS\\229.OUTCAR\n",
      "Renamed OUTCARS\\23.OUTCAR to OUTCARS\\023.OUTCAR\n",
      "Renamed OUTCARS\\230.OUTCAR to OUTCARS\\230.OUTCAR\n",
      "Renamed OUTCARS\\231.OUTCAR to OUTCARS\\231.OUTCAR\n",
      "Renamed OUTCARS\\232.OUTCAR to OUTCARS\\232.OUTCAR\n",
      "Renamed OUTCARS\\233.OUTCAR to OUTCARS\\233.OUTCAR\n",
      "Renamed OUTCARS\\234.OUTCAR to OUTCARS\\234.OUTCAR\n",
      "Renamed OUTCARS\\235.OUTCAR to OUTCARS\\235.OUTCAR\n",
      "Renamed OUTCARS\\236.OUTCAR to OUTCARS\\236.OUTCAR\n",
      "Renamed OUTCARS\\24.OUTCAR to OUTCARS\\024.OUTCAR\n",
      "Renamed OUTCARS\\25.OUTCAR to OUTCARS\\025.OUTCAR\n",
      "Renamed OUTCARS\\26.OUTCAR to OUTCARS\\026.OUTCAR\n",
      "Renamed OUTCARS\\27.OUTCAR to OUTCARS\\027.OUTCAR\n",
      "Renamed OUTCARS\\28.OUTCAR to OUTCARS\\028.OUTCAR\n",
      "Renamed OUTCARS\\29.OUTCAR to OUTCARS\\029.OUTCAR\n",
      "Renamed OUTCARS\\3.OUTCAR to OUTCARS\\003.OUTCAR\n",
      "Renamed OUTCARS\\30.OUTCAR to OUTCARS\\030.OUTCAR\n",
      "Renamed OUTCARS\\31.OUTCAR to OUTCARS\\031.OUTCAR\n",
      "Renamed OUTCARS\\32.OUTCAR to OUTCARS\\032.OUTCAR\n",
      "Renamed OUTCARS\\33.OUTCAR to OUTCARS\\033.OUTCAR\n",
      "Renamed OUTCARS\\34.OUTCAR to OUTCARS\\034.OUTCAR\n",
      "Renamed OUTCARS\\35.OUTCAR to OUTCARS\\035.OUTCAR\n",
      "Renamed OUTCARS\\36.OUTCAR to OUTCARS\\036.OUTCAR\n",
      "Renamed OUTCARS\\37.OUTCAR to OUTCARS\\037.OUTCAR\n",
      "Renamed OUTCARS\\38.OUTCAR to OUTCARS\\038.OUTCAR\n",
      "Renamed OUTCARS\\39.OUTCAR to OUTCARS\\039.OUTCAR\n",
      "Renamed OUTCARS\\4.OUTCAR to OUTCARS\\004.OUTCAR\n",
      "Renamed OUTCARS\\40.OUTCAR to OUTCARS\\040.OUTCAR\n",
      "Renamed OUTCARS\\41.OUTCAR to OUTCARS\\041.OUTCAR\n",
      "Renamed OUTCARS\\42.OUTCAR to OUTCARS\\042.OUTCAR\n",
      "Renamed OUTCARS\\43.OUTCAR to OUTCARS\\043.OUTCAR\n",
      "Renamed OUTCARS\\44.OUTCAR to OUTCARS\\044.OUTCAR\n",
      "Renamed OUTCARS\\45.OUTCAR to OUTCARS\\045.OUTCAR\n",
      "Renamed OUTCARS\\46.OUTCAR to OUTCARS\\046.OUTCAR\n",
      "Renamed OUTCARS\\47.OUTCAR to OUTCARS\\047.OUTCAR\n",
      "Renamed OUTCARS\\48.OUTCAR to OUTCARS\\048.OUTCAR\n",
      "Renamed OUTCARS\\49.OUTCAR to OUTCARS\\049.OUTCAR\n",
      "Renamed OUTCARS\\5.OUTCAR to OUTCARS\\005.OUTCAR\n",
      "Renamed OUTCARS\\50.OUTCAR to OUTCARS\\050.OUTCAR\n",
      "Renamed OUTCARS\\51.OUTCAR to OUTCARS\\051.OUTCAR\n",
      "Renamed OUTCARS\\52.OUTCAR to OUTCARS\\052.OUTCAR\n",
      "Renamed OUTCARS\\53.OUTCAR to OUTCARS\\053.OUTCAR\n",
      "Renamed OUTCARS\\54.OUTCAR to OUTCARS\\054.OUTCAR\n",
      "Renamed OUTCARS\\55.OUTCAR to OUTCARS\\055.OUTCAR\n",
      "Renamed OUTCARS\\56.OUTCAR to OUTCARS\\056.OUTCAR\n",
      "Renamed OUTCARS\\57.OUTCAR to OUTCARS\\057.OUTCAR\n",
      "Renamed OUTCARS\\58.OUTCAR to OUTCARS\\058.OUTCAR\n",
      "Renamed OUTCARS\\59.OUTCAR to OUTCARS\\059.OUTCAR\n",
      "Renamed OUTCARS\\6.OUTCAR to OUTCARS\\006.OUTCAR\n",
      "Renamed OUTCARS\\60.OUTCAR to OUTCARS\\060.OUTCAR\n",
      "Renamed OUTCARS\\61.OUTCAR to OUTCARS\\061.OUTCAR\n",
      "Renamed OUTCARS\\62.OUTCAR to OUTCARS\\062.OUTCAR\n",
      "Renamed OUTCARS\\63.OUTCAR to OUTCARS\\063.OUTCAR\n",
      "Renamed OUTCARS\\64.OUTCAR to OUTCARS\\064.OUTCAR\n",
      "Renamed OUTCARS\\65.OUTCAR to OUTCARS\\065.OUTCAR\n",
      "Renamed OUTCARS\\66.OUTCAR to OUTCARS\\066.OUTCAR\n",
      "Renamed OUTCARS\\67.OUTCAR to OUTCARS\\067.OUTCAR\n",
      "Renamed OUTCARS\\68.OUTCAR to OUTCARS\\068.OUTCAR\n",
      "Renamed OUTCARS\\69.OUTCAR to OUTCARS\\069.OUTCAR\n",
      "Renamed OUTCARS\\7.OUTCAR to OUTCARS\\007.OUTCAR\n",
      "Renamed OUTCARS\\70.OUTCAR to OUTCARS\\070.OUTCAR\n",
      "Renamed OUTCARS\\71.OUTCAR to OUTCARS\\071.OUTCAR\n",
      "Renamed OUTCARS\\72.OUTCAR to OUTCARS\\072.OUTCAR\n",
      "Renamed OUTCARS\\73.OUTCAR to OUTCARS\\073.OUTCAR\n",
      "Renamed OUTCARS\\74.OUTCAR to OUTCARS\\074.OUTCAR\n",
      "Renamed OUTCARS\\75.OUTCAR to OUTCARS\\075.OUTCAR\n",
      "Renamed OUTCARS\\76.OUTCAR to OUTCARS\\076.OUTCAR\n",
      "Renamed OUTCARS\\77.OUTCAR to OUTCARS\\077.OUTCAR\n",
      "Renamed OUTCARS\\78.OUTCAR to OUTCARS\\078.OUTCAR\n",
      "Renamed OUTCARS\\79.OUTCAR to OUTCARS\\079.OUTCAR\n",
      "Renamed OUTCARS\\8.OUTCAR to OUTCARS\\008.OUTCAR\n",
      "Renamed OUTCARS\\80.OUTCAR to OUTCARS\\080.OUTCAR\n",
      "Renamed OUTCARS\\81.OUTCAR to OUTCARS\\081.OUTCAR\n",
      "Renamed OUTCARS\\82.OUTCAR to OUTCARS\\082.OUTCAR\n",
      "Renamed OUTCARS\\83.OUTCAR to OUTCARS\\083.OUTCAR\n",
      "Renamed OUTCARS\\84.OUTCAR to OUTCARS\\084.OUTCAR\n",
      "Renamed OUTCARS\\85.OUTCAR to OUTCARS\\085.OUTCAR\n",
      "Renamed OUTCARS\\86.OUTCAR to OUTCARS\\086.OUTCAR\n",
      "Renamed OUTCARS\\87.OUTCAR to OUTCARS\\087.OUTCAR\n",
      "Renamed OUTCARS\\88.OUTCAR to OUTCARS\\088.OUTCAR\n",
      "Renamed OUTCARS\\89.OUTCAR to OUTCARS\\089.OUTCAR\n",
      "Renamed OUTCARS\\9.OUTCAR to OUTCARS\\009.OUTCAR\n",
      "Renamed OUTCARS\\90.OUTCAR to OUTCARS\\090.OUTCAR\n",
      "Renamed OUTCARS\\91.OUTCAR to OUTCARS\\091.OUTCAR\n",
      "Renamed OUTCARS\\92.OUTCAR to OUTCARS\\092.OUTCAR\n",
      "Renamed OUTCARS\\93.OUTCAR to OUTCARS\\093.OUTCAR\n",
      "Renamed OUTCARS\\94.OUTCAR to OUTCARS\\094.OUTCAR\n",
      "Renamed OUTCARS\\95.OUTCAR to OUTCARS\\095.OUTCAR\n",
      "Renamed OUTCARS\\96.OUTCAR to OUTCARS\\096.OUTCAR\n",
      "Renamed OUTCARS\\97.OUTCAR to OUTCARS\\097.OUTCAR\n",
      "Renamed OUTCARS\\98.OUTCAR to OUTCARS\\098.OUTCAR\n",
      "Renamed OUTCARS\\99.OUTCAR to OUTCARS\\099.OUTCAR\n",
      "data_list.txt has been deleted.\n"
     ]
    }
   ],
   "source": [
    "import os\n",
    "\n",
    "# Specify the directory path\n",
    "directory_path = \"OUTCARS\"\n",
    "\n",
    "# Get all files in the directory\n",
    "files = os.listdir(directory_path)\n",
    "\n",
    "# Loop through each file\n",
    "for file in files:\n",
    "    # Check if the file is a regular file\n",
    "    if os.path.isfile(os.path.join(directory_path, file)):\n",
    "        # Extract the file name and extension\n",
    "        file_name, file_ext = os.path.splitext(file)\n",
    "        \n",
    "        # Check if the file name consists of only digits\n",
    "        if file_name.isdigit():\n",
    "            # Add leading zeros to the file name\n",
    "            file_name = file_name.zfill(3)\n",
    "            \n",
    "            # Create the new file name with leading zeros\n",
    "            new_file_name = f\"{file_name}{file_ext}\"\n",
    "            \n",
    "            # Construct the old and new file paths\n",
    "            old_file_path = os.path.join(directory_path, file)\n",
    "            new_file_path = os.path.join(directory_path, new_file_name)\n",
    "            \n",
    "            # Rename the file\n",
    "            os.rename(old_file_path, new_file_path)\n",
    "            \n",
    "            print(f\"Renamed {old_file_path} to {new_file_path}\")\n",
    "\n",
    "\n",
    "file_path = \"data_list.txt\"\n",
    "\n",
    "# Check if the file exists\n",
    "if os.path.exists(file_path):\n",
    "    # Delete the file\n",
    "    os.remove(file_path)\n",
    "    print(f\"{file_path} has been deleted.\")\n",
    "else:\n",
    "    print(f\"{file_path} does not exist.\")\n",
    "    \n",
    "with open(\"data_list.txt\", \"a\") as file:\n",
    "    for f in os.listdir(\"OUTCARS/\"):\n",
    "        #print(f)\n",
    "        file.write(f\"OUTCARS/{f}\\n\")"
   ]
  },
  {
   "cell_type": "code",
   "execution_count": 21,
   "id": "97508293-ed0a-427a-9579-f72120576e12",
   "metadata": {},
   "outputs": [
    {
     "data": {
      "text/plain": [
       "['C:\\\\Users\\\\frede\\\\anaconda3\\\\envs\\\\Tantalizing\\\\lib\\\\site-packages\\\\ase']"
      ]
     },
     "execution_count": 21,
     "metadata": {},
     "output_type": "execute_result"
    }
   ],
   "source": [
    "import ase\n",
    "ase.__path__"
   ]
  },
  {
   "cell_type": "code",
   "execution_count": 26,
   "id": "387f54e1-dac6-4fc1-a0a9-b9ba8c045ec0",
   "metadata": {},
   "outputs": [
    {
     "name": "stderr",
     "output_type": "stream",
     "text": [
      "    Building data-bases: 100%|██████████████████████████████████████████████████████████| 236/236 [00:07<00:00, 33.26it/s]\n"
     ]
    }
   ],
   "source": [
    "from ccs_fit.scripts.ccs_build_db import ccs_build_db\n",
    "\n",
    "ccs_build_db(mode=\"CCS\",DFT_DB=\"DFT.db\",file_list=\"data_list.txt\",overwrite=True, greedy=False) #false only takes last Outcars"
   ]
  },
  {
   "cell_type": "markdown",
   "id": "bdb9cdef",
   "metadata": {},
   "source": [
    "### Generate the CCS_fit input file; structures.json\n",
    "The next commands fetch the training-set data from the ASE database containing the LJ structures and the corresponding energies. The reference data is called ``DFT_DB`` since the most common source of reference data is DFT."
   ]
  },
  {
   "cell_type": "code",
   "execution_count": 27,
   "id": "01508dd9-a761-4197-a132-114a87c0bc8b",
   "metadata": {},
   "outputs": [
    {
     "name": "stdout",
     "output_type": "stream",
     "text": [
      "id|age|formula    |calculator|  energy|natoms| fmax|pbc| volume|charge|    mass| smax|magmom\n",
      " 1|29s|Li16Ni16O32|vasp      |-382.504|    64|0.083|TTT|531.454| 0.000|1562.102|0.003|15.164\n",
      " 2|29s|Ni16O32    |vasp      |-303.015|    48|0.019|TTT|510.453| 0.000|1451.062|0.001| 0.000\n",
      " 3|29s|Li10Ni16O32|vasp      |-354.512|    58|0.056|TTT|531.261| 0.000|1520.462|0.000| 4.000\n",
      " 4|29s|Li6Ni16O32 |vasp      |-334.718|    54|0.045|TTT|525.598| 0.000|1492.702|0.001| 2.000\n",
      " 5|29s|Li10Ni16O32|vasp      |-354.515|    58|0.029|TTT|530.554| 0.000|1520.462|0.001| 6.000\n",
      " 6|29s|Li5Ni16O32 |vasp      |-329.567|    53|0.026|TTT|520.698| 0.000|1485.762|0.001| 0.752\n",
      " 7|29s|Li6Ni16O32 |vasp      |-334.819|    54|0.028|TTT|526.514| 0.000|1492.702|0.000| 2.000\n",
      " 8|29s|Li11Ni16O32|vasp      |-358.627|    59|0.019|TTT|526.514| 0.000|1527.402|0.000|11.000\n",
      " 9|29s|Li7Ni16O32 |vasp      |-339.505|    55|0.052|TTT|525.038| 0.000|1499.642|0.001| 2.975\n",
      "10|29s|Li10Ni16O32|vasp      |-354.532|    58|0.046|TTT|528.673| 0.000|1520.462|0.000| 6.000\n",
      "11|29s|Li11Ni16O32|vasp      |-359.086|    59|0.020|TTT|528.610| 0.000|1527.402|0.000| 6.999\n",
      "12|29s|Li7Ni16O32 |vasp      |-339.550|    55|0.037|TTT|526.223| 0.000|1499.642|0.000| 3.000\n",
      "13|29s|Li14Ni16O32|vasp      |-373.507|    62|0.014|TTT|527.334| 0.000|1548.222|0.000|10.000\n",
      "14|29s|Li6Ni16O32 |vasp      |-334.286|    54|0.036|TTT|526.430| 0.000|1492.702|0.001| 3.991\n",
      "15|29s|Li11Ni16O32|vasp      |-359.557|    59|0.020|TTT|525.564| 0.000|1527.402|0.000| 9.000\n",
      "16|29s|Li3Ni16O32 |vasp      |-319.275|    51|0.035|TTT|522.237| 0.000|1471.882|0.001| 0.986\n",
      "17|29s|Li15Ni16O32|vasp      |-378.214|    63|0.018|TTT|530.841| 0.000|1555.162|0.000| 9.000\n",
      "18|29s|Li4Ni16O32 |vasp      |-324.643|    52|0.025|TTT|526.013| 0.000|1478.822|0.000|-0.000\n",
      "19|29s|Li9Ni16O32 |vasp      |-349.789|    57|0.024|TTT|527.942| 0.000|1513.522|0.001| 6.997\n",
      "20|29s|Li12Ni16O32|vasp      |-364.063|    60|0.017|TTT|525.815| 0.000|1534.342|0.000|10.008\n",
      "Rows: 236 (showing first 20)\n",
      "Keys: PBE, key\n"
     ]
    }
   ],
   "source": [
    "!ase db DFT.db"
   ]
  },
  {
   "cell_type": "code",
   "execution_count": 28,
   "id": "e096b5f0",
   "metadata": {},
   "outputs": [
    {
     "name": "stderr",
     "output_type": "stream",
     "text": [
      "    Fetching data: 100%|\u001b[38;2;0;128;128m████████████████████████████████████████████████████████████████\u001b[0m| 236/236 [00:07<00:00, 31.71it/s]\u001b[0m\n"
     ]
    }
   ],
   "source": [
    "from ccs_fit.scripts.ccs_fetch import ccs_fetch\n",
    "\n",
    "ccs_fetch(mode=\"CCS\",DFT_DB=\"DFT.db\",include_forces=Fit_on_forces)"
   ]
  },
  {
   "cell_type": "markdown",
   "id": "59be3faa",
   "metadata": {},
   "source": [
    "### Fit training data to Curvature Constrained Splines\n",
    "Finally, the splines are fitted to the target defined in the structures.json input file. The splines can be restricted to be fully repulsive (\"rep\"), or have a turning point/switch (\"sw\"), which is defined by the \"Swtype\" key.\n"
   ]
  },
  {
   "cell_type": "code",
   "execution_count": 36,
   "id": "8c3ac0c1",
   "metadata": {},
   "outputs": [],
   "source": [
    "### Generate input.json file\n",
    "import json\n",
    "\n",
    "input={\n",
    "    \"General\": {\n",
    "        \"interface\": \"CCS\",\n",
    "        \"merging\"  : \"True\"\n",
    "    },\n",
    "    \"Twobody\": {\n",
    "                \"Xx-Xx\": {\n",
    "                        \"Rcut\": 6.0,\n",
    "                        \"Resolution\": 0.25,\n",
    "                        \"Swtype\": \"sw\",\n",
    "                        \"const_type\" : \"Mono\"\n",
    "                },\n",
    "                \"O-O\": {\n",
    "                        \"Rcut\": 6.0,\n",
    "                        \"Resolution\": 0.25,\n",
    "                        \"Swtype\": \"rep\",\n",
    "                        \"const_type\" : \"Mono\"\n",
    "                },\n",
    "                \"Ta-Ta\": {\n",
    "                        \"Rcut\": 6.0,\n",
    "                        \"Resolution\": 0.25,\n",
    "                        \"Swtype\": \"rep\",\n",
    "                        \"const_type\" : \"Mono\"\n",
    "                },\n",
    "        \n",
    "                \"Ta-Li\": {\n",
    "                        \"Rcut\": 6.0,\n",
    "                        \"Resolution\": 0.25,\n",
    "                        \"Swtype\": \"rep\",\n",
    "                        \"const_type\" : \"Mono\"\n",
    "                    },\n",
    "        \n",
    "                \"Ni-Li\": {\n",
    "                        \"Rcut\": 6.0,\n",
    "                        \"Resolution\": 0.25,\n",
    "                        \"Swtype\": \"rep\",\n",
    "                        \"const_type\" : \"Mono\"\n",
    "                },\n",
    "                \"Ni-Ni\": {\n",
    "                        \"Rcut\": 6.0,\n",
    "                        \"Resolution\": 0.25,\n",
    "                        \"Swtype\": \"rep\",\n",
    "                        \"const_type\" : \"Mono\"\n",
    "                },\n",
    "                \"Li-Li\": {\n",
    "                        \"Rcut\": 6.0,\n",
    "                        \"Resolution\": 0.25,\n",
    "                        \"Swtype\": \"rep\",\n",
    "                        \"const_type\" : \"Mono\"\n",
    "                }\n",
    "        }\n",
    "}\n",
    "#SAVE TO FILE\n",
    "with open('CCS_input.json', 'w') as f:\n",
    "    json.dump(input, f, indent=8)"
   ]
  },
  {
   "cell_type": "code",
   "execution_count": 37,
   "id": "df1f9f0f",
   "metadata": {},
   "outputs": [
    {
     "name": "stdout",
     "output_type": "stream",
     "text": [
      "    Generating one-body information from training-set.\n",
      "        Added elements:  ['Li', 'Ni', 'O', 'Ta']\n",
      "    Generating two-body potentials from one-body information.\n",
      "    Adding pair: Li-O\n",
      "    Adding pair: Ni-O\n",
      "    Adding pair: Ni-Ta\n",
      "    Adding pair: O-Ta\n",
      "    Applying monotonic constraints for pair:  O-O\n",
      "    Applying monotonic constraints for pair:  Ta-Ta\n",
      "    Applying monotonic constraints for pair:  Ta-Li\n",
      "    Applying monotonic constraints for pair:  Ni-Li\n",
      "    Applying monotonic constraints for pair:  Ni-Ni\n",
      "    Applying monotonic constraints for pair:  Li-Li\n",
      "    Applying monotonic constraints for pair:  Li-O\n",
      "    Applying monotonic constraints for pair:  Ni-O\n",
      "    Applying monotonic constraints for pair:  Ni-Ta\n",
      "    Applying monotonic constraints for pair:  O-Ta\n",
      "    Merging intervals for pair Ta-Ta; number of intervals reduced from 16 to 13. \n",
      "    Merging intervals for pair Ni-Ni; number of intervals reduced from 17 to 16. \n",
      "    Merging intervals for pair Li-Li; number of intervals reduced from 16 to 15. \n",
      "    Merging intervals for pair Ni-Ta; number of intervals reduced from 17 to 16. \n",
      "    Merging intervals for pair O-Ta; number of intervals reduced from 19 to 17. \n",
      "    There is linear dependence in stochiometry matrix!\n",
      "    Removing onebody term: Ta\n"
     ]
    },
    {
     "name": "stderr",
     "output_type": "stream",
     "text": [
      "    Finding optimum switch: 100%|\u001b[38;2;128;0;128m████████████████████████████████████████████████\u001b[0m| 98192/98192 [74:56:21<00:00,  2.75s/it]\u001b[0m\n"
     ]
    },
    {
     "name": "stdout",
     "output_type": "stream",
     "text": [
      "    The best switch is (16, 13, 14, 16, 16, 15, 11, 18, 8, 9) with rmse: 1.8458060569843193, corresponding to distances of [6.28 5.74 6.17 6.31 6.15 6.13 4.45 6.19 4.24 3.99] Å for element pairs ['O-O', 'Ta-Ta', 'Ta-Li', 'Ni-Li', 'Ni-Ni', 'Li-Li', 'Li-O', 'Ni-O', 'Ni-Ta', 'O-Ta'].\n",
      "WARNING: THE PAIR O-O IS ONLY SAMPLED IN A REGION WHERE IT IS STILL REPULSIVE. THIS INDICATES THAT THE INTERACTION IS MOST LIKELY POORLY RESOLVED, PROCEED WITH CAUTION!\n"
     ]
    }
   ],
   "source": [
    "#RUN FIT\n",
    "from ccs_fit import ccs_fit\n",
    "\n",
    "ccs_fit(\"CCS_input.json\")"
   ]
  },
  {
   "cell_type": "markdown",
   "id": "3d1f3117-cc0b-4a64-b62f-9ca57a3f0579",
   "metadata": {},
   "source": [
    "### 2nd iteration of fitting"
   ]
  },
  {
   "cell_type": "code",
   "execution_count": 8,
   "id": "dc7a2966-0d9b-40ab-90d4-cf155c134381",
   "metadata": {},
   "outputs": [],
   "source": [
    "### Generate input.json file\n",
    "import json\n",
    "\n",
    "input={\n",
    "    \"General\": {\n",
    "        \"interface\": \"CCS\",\n",
    "        \"merging\"  : \"True\"\n",
    "    },\n",
    "    \"Twobody\": {\n",
    "                \"Li-Ni\": {\n",
    "                        \"Rcut\": 6.0,\n",
    "                        \"Resolution\": 0.02,\n",
    "                        \"Swtype\": \"sw\",\n",
    "                        \"const_type\" : \"Mono\",\n",
    "                        \"search_mode\": \"range\",\n",
    "                        \"range_center\": 3.07,\n",
    "                        \"range_width\": 0.1\n",
    "                },\n",
    "                \"Li-O\": {\n",
    "                        \"Rcut\": 6.0,\n",
    "                        \"Resolution\": 0.02,\n",
    "                        \"Swtype\": \"sw\",\n",
    "                        \"const_type\" : \"Mono\",\n",
    "                        \"search_mode\": \"range\",\n",
    "                        \"range_center\": 2.29,\n",
    "                        \"range_width\": 0.1\n",
    "                },\n",
    "                \"Ni-O\": {\n",
    "                        \"Rcut\": 6.0,\n",
    "                        \"Resolution\": 0.02,\n",
    "                        \"Swtype\": \"sw\",\n",
    "                        \"const_type\" : \"Mono\",\n",
    "                        \"search_mode\": \"range\",\n",
    "                        \"range_center\": 1.89,\n",
    "                        \"range_width\": 0.1\n",
    "                },\n",
    "                \"O-O\": {\n",
    "                        \"Rcut\": 8.0,\n",
    "                        \"Resolution\": 0.02,\n",
    "                        \"Swtype\": \"sw\",\n",
    "                        \"const_type\" : \"Mono\",\n",
    "                        \"search_mode\": \"range\",\n",
    "                        \"range_center\": 2.78,\n",
    "                        \"range_width\": 0.1\n",
    "                },\n",
    "                \"Ni-Ni\": {\n",
    "                        \"Rcut\": 8.0,\n",
    "                        \"Resolution\": 0.02,\n",
    "                        \"Swtype\": \"sw\",\n",
    "                        \"const_type\" : \"Mono\",\n",
    "                        \"search_mode\": \"range\",\n",
    "                        \"range_center\": 2.9,\n",
    "                        \"range_width\": 0.1\n",
    "                },\n",
    "                \"Li-Li\": {\n",
    "                        \"Rcut\": 8.0,\n",
    "                        \"Resolution\": 0.02,\n",
    "                        \"Swtype\": \"sw\",\n",
    "                        \"const_type\" : \"Mono\",\n",
    "                        \"search_mode\": \"range\",\n",
    "                        \"range_center\": 4.82,\n",
    "                        \"range_width\": 0.1\n",
    "                }\n",
    "        }\n",
    "}\n",
    "#SAVE TO FILE\n",
    "with open('CCS_input.json', 'w') as f:\n",
    "    json.dump(input, f, indent=8)"
   ]
  },
  {
   "cell_type": "code",
   "execution_count": 9,
   "id": "73c38d09-fa8b-4445-a742-a00cea4069cc",
   "metadata": {},
   "outputs": [
    {
     "name": "stdout",
     "output_type": "stream",
     "text": [
      "    Generating one-body information from training-set.\n",
      "        Added elements:  ['Li', 'Ni', 'O']\n",
      "    Applying monotonic constraints for pair:  Li-Ni\n",
      "    Applying monotonic constraints for pair:  Li-O\n",
      "    Applying monotonic constraints for pair:  Ni-O\n",
      "    Applying monotonic constraints for pair:  O-O\n",
      "    Applying monotonic constraints for pair:  Ni-Ni\n",
      "    Applying monotonic constraints for pair:  Li-Li\n",
      "    Merging intervals for pair Li-Ni; number of intervals reduced from 125 to 74. \n",
      "    Merging intervals for pair Li-O; number of intervals reduced from 205 to 106. \n",
      "    Merging intervals for pair Ni-O; number of intervals reduced from 210 to 95. \n",
      "    Merging intervals for pair O-O; number of intervals reduced from 178 to 153. \n",
      "    Merging intervals for pair Ni-Ni; number of intervals reduced from 159 to 57. \n",
      "    Merging intervals for pair Li-Li; number of intervals reduced from 168 to 111. \n",
      "    There is linear dependence in stochiometry matrix!\n",
      "    Removing onebody term: O\n",
      "    Range search turned on for element pair Li-Ni; 5 possible switch indices in range of 2.97-3.17 Å.\n",
      "    Range search turned on for element pair Li-O; 5 possible switch indices in range of 2.19-2.39 Å.\n",
      "    Range search turned on for element pair Ni-O; 5 possible switch indices in range of 1.83-1.97 Å.\n",
      "    Range search turned on for element pair O-O; 5 possible switch indices in range of 2.68-2.88 Å.\n",
      "    Range search turned on for element pair Ni-Ni; 3 possible switch indices in range of 2.80-3.00 Å.\n",
      "    Range search turned on for element pair Li-Li; 5 possible switch indices in range of 4.70-4.90 Å.\n"
     ]
    },
    {
     "name": "stderr",
     "output_type": "stream",
     "text": [
      "    Finding optimum switch: 100%|\u001b[38;2;128;0;128m███████████████████████████████████████████████████████████████████\u001b[0m| 9375/9375 [1:28:44<00:00,  1.76it/s]\u001b[0m\n"
     ]
    },
    {
     "name": "stdout",
     "output_type": "stream",
     "text": [
      "    The best switch is (20, 20, 4, 20, 8, 109) with rmse: 0.39781905434506276, corresponding to distances of [3.11 2.33 1.91 2.82 2.9  4.84] Å for element pairs ['Li-Ni', 'Li-O', 'Ni-O', 'O-O', 'Ni-Ni', 'Li-Li'].\n",
      "STRONG WARNING: THE EXPONENTIAL WALL IS ACTUALLY ATTRACTIVE!!!!!!!\n",
      "WARNING: THE PAIR Ni-O IS ONLY SAMPLED IN A REGION WHERE IT IS STILL REPULSIVE. THIS INDICATES THAT THE INTERACTION IS MOST LIKELY POORLY RESOLVED, PROCEED WITH CAUTION!\n",
      "STRONG WARNING: THE EXPONENTIAL WALL IS ACTUALLY ATTRACTIVE!!!!!!!\n",
      "WARNING: THE PAIR Ni-Ni IS ONLY SAMPLED IN A REGION WHERE IT IS STILL REPULSIVE. THIS INDICATES THAT THE INTERACTION IS MOST LIKELY POORLY RESOLVED, PROCEED WITH CAUTION!\n"
     ]
    }
   ],
   "source": [
    "#RUN FIT\n",
    "from ccs_fit import ccs_fit\n",
    "\n",
    "ccs_fit(\"CCS_input.json\")"
   ]
  },
  {
   "cell_type": "markdown",
   "id": "2ce06ae5",
   "metadata": {},
   "source": [
    "### Validate your potential\n",
    "Make sure your potential (at least) reproduce the data points in your training-set. Performin further tests on strucutres not included in the training-set is recomended but not included in the tutorial."
   ]
  },
  {
   "cell_type": "code",
   "execution_count": 33,
   "id": "7e429885",
   "metadata": {},
   "outputs": [
    {
     "name": "stderr",
     "output_type": "stream",
     "text": [
      "  0%|\u001b[38;2;128;0;0m                                                                                             \u001b[0m| 0/236 [00:00<?, ?it/s]\u001b[0m"
     ]
    },
    {
     "name": "stdout",
     "output_type": "stream",
     "text": [
      "Warning: stress tensor calculation not fully tested\n"
     ]
    },
    {
     "name": "stderr",
     "output_type": "stream",
     "text": [
      "  1%|\u001b[38;2;128;0;0m▋                                                                                    \u001b[0m| 2/236 [00:00<00:46,  5.01it/s]\u001b[0m"
     ]
    },
    {
     "name": "stdout",
     "output_type": "stream",
     "text": [
      "Warning: stress tensor calculation not fully tested\n",
      "Warning: stress tensor calculation not fully tested\n"
     ]
    },
    {
     "name": "stderr",
     "output_type": "stream",
     "text": [
      "  2%|\u001b[38;2;128;0;0m█▍                                                                                   \u001b[0m| 4/236 [00:00<00:44,  5.25it/s]\u001b[0m"
     ]
    },
    {
     "name": "stdout",
     "output_type": "stream",
     "text": [
      "Warning: stress tensor calculation not fully tested\n",
      "Warning: stress tensor calculation not fully tested\n"
     ]
    },
    {
     "name": "stderr",
     "output_type": "stream",
     "text": [
      "  3%|\u001b[38;2;128;0;0m██▏                                                                                  \u001b[0m| 6/236 [00:01<00:44,  5.17it/s]\u001b[0m"
     ]
    },
    {
     "name": "stdout",
     "output_type": "stream",
     "text": [
      "Warning: stress tensor calculation not fully tested\n",
      "Warning: stress tensor calculation not fully tested\n"
     ]
    },
    {
     "name": "stderr",
     "output_type": "stream",
     "text": [
      "  3%|\u001b[38;2;128;0;0m██▌                                                                                  \u001b[0m| 7/236 [00:01<00:43,  5.25it/s]\u001b[0m"
     ]
    },
    {
     "name": "stdout",
     "output_type": "stream",
     "text": [
      "Warning: stress tensor calculation not fully tested\n"
     ]
    },
    {
     "name": "stderr",
     "output_type": "stream",
     "text": [
      "  4%|\u001b[38;2;128;0;0m███▏                                                                                 \u001b[0m| 9/236 [00:01<00:44,  5.10it/s]\u001b[0m"
     ]
    },
    {
     "name": "stdout",
     "output_type": "stream",
     "text": [
      "Warning: stress tensor calculation not fully tested\n"
     ]
    },
    {
     "name": "stderr",
     "output_type": "stream",
     "text": [
      "  4%|\u001b[38;2;128;0;0m███▌                                                                                \u001b[0m| 10/236 [00:01<00:44,  5.09it/s]\u001b[0m"
     ]
    },
    {
     "name": "stdout",
     "output_type": "stream",
     "text": [
      "Warning: stress tensor calculation not fully tested\n",
      "Warning: stress tensor calculation not fully tested\n"
     ]
    },
    {
     "name": "stderr",
     "output_type": "stream",
     "text": [
      "  5%|\u001b[38;2;128;0;0m████▎                                                                               \u001b[0m| 12/236 [00:02<00:43,  5.11it/s]\u001b[0m"
     ]
    },
    {
     "name": "stdout",
     "output_type": "stream",
     "text": [
      "Warning: stress tensor calculation not fully tested\n",
      "Warning: stress tensor calculation not fully tested\n"
     ]
    },
    {
     "name": "stderr",
     "output_type": "stream",
     "text": [
      "  6%|\u001b[38;2;128;0;0m████▉                                                                               \u001b[0m| 14/236 [00:02<00:44,  5.00it/s]\u001b[0m"
     ]
    },
    {
     "name": "stdout",
     "output_type": "stream",
     "text": [
      "Warning: stress tensor calculation not fully tested\n",
      "Warning: stress tensor calculation not fully tested\n"
     ]
    },
    {
     "name": "stderr",
     "output_type": "stream",
     "text": [
      "  7%|\u001b[38;2;128;0;0m█████▋                                                                              \u001b[0m| 16/236 [00:03<00:42,  5.19it/s]\u001b[0m"
     ]
    },
    {
     "name": "stdout",
     "output_type": "stream",
     "text": [
      "Warning: stress tensor calculation not fully tested\n",
      "Warning: stress tensor calculation not fully tested\n"
     ]
    },
    {
     "name": "stderr",
     "output_type": "stream",
     "text": [
      "  8%|\u001b[38;2;128;0;0m██████▍                                                                             \u001b[0m| 18/236 [00:03<00:42,  5.13it/s]\u001b[0m"
     ]
    },
    {
     "name": "stdout",
     "output_type": "stream",
     "text": [
      "Warning: stress tensor calculation not fully tested\n",
      "Warning: stress tensor calculation not fully tested\n"
     ]
    },
    {
     "name": "stderr",
     "output_type": "stream",
     "text": [
      "  8%|\u001b[38;2;128;0;0m██████▊                                                                             \u001b[0m| 19/236 [00:03<00:42,  5.11it/s]\u001b[0m"
     ]
    },
    {
     "name": "stdout",
     "output_type": "stream",
     "text": [
      "Warning: stress tensor calculation not fully tested\n"
     ]
    },
    {
     "name": "stderr",
     "output_type": "stream",
     "text": [
      "  8%|\u001b[38;2;128;0;0m███████                                                                             \u001b[0m| 20/236 [00:04<00:43,  4.94it/s]\u001b[0m"
     ]
    },
    {
     "name": "stdout",
     "output_type": "stream",
     "text": [
      "Warning: stress tensor calculation not fully tested\n"
     ]
    },
    {
     "name": "stderr",
     "output_type": "stream",
     "text": [
      "  9%|\u001b[38;2;128;0;0m███████▍                                                                            \u001b[0m| 21/236 [00:04<00:44,  4.79it/s]\u001b[0m"
     ]
    },
    {
     "name": "stdout",
     "output_type": "stream",
     "text": [
      "Warning: stress tensor calculation not fully tested\n"
     ]
    },
    {
     "name": "stderr",
     "output_type": "stream",
     "text": [
      "  9%|\u001b[38;2;128;0;0m███████▊                                                                            \u001b[0m| 22/236 [00:04<00:45,  4.66it/s]\u001b[0m"
     ]
    },
    {
     "name": "stdout",
     "output_type": "stream",
     "text": [
      "Warning: stress tensor calculation not fully tested\n"
     ]
    },
    {
     "name": "stderr",
     "output_type": "stream",
     "text": [
      " 10%|\u001b[38;2;128;0;0m████████▏                                                                           \u001b[0m| 23/236 [00:04<00:45,  4.65it/s]\u001b[0m"
     ]
    },
    {
     "name": "stdout",
     "output_type": "stream",
     "text": [
      "Warning: stress tensor calculation not fully tested\n"
     ]
    },
    {
     "name": "stderr",
     "output_type": "stream",
     "text": [
      " 11%|\u001b[38;2;128;0;0m████████▉                                                                           \u001b[0m| 25/236 [00:05<00:44,  4.72it/s]\u001b[0m"
     ]
    },
    {
     "name": "stdout",
     "output_type": "stream",
     "text": [
      "Warning: stress tensor calculation not fully tested\n"
     ]
    },
    {
     "name": "stderr",
     "output_type": "stream",
     "text": [
      " 11%|\u001b[38;2;128;0;0m█████████▎                                                                          \u001b[0m| 26/236 [00:05<00:44,  4.75it/s]\u001b[0m"
     ]
    },
    {
     "name": "stdout",
     "output_type": "stream",
     "text": [
      "Warning: stress tensor calculation not fully tested\n"
     ]
    },
    {
     "name": "stderr",
     "output_type": "stream",
     "text": [
      " 11%|\u001b[38;2;128;0;0m█████████▌                                                                          \u001b[0m| 27/236 [00:05<00:43,  4.82it/s]\u001b[0m"
     ]
    },
    {
     "name": "stdout",
     "output_type": "stream",
     "text": [
      "Warning: stress tensor calculation not fully tested\n"
     ]
    },
    {
     "name": "stderr",
     "output_type": "stream",
     "text": [
      " 12%|\u001b[38;2;128;0;0m█████████▉                                                                          \u001b[0m| 28/236 [00:05<00:41,  5.07it/s]\u001b[0m"
     ]
    },
    {
     "name": "stdout",
     "output_type": "stream",
     "text": [
      "Warning: stress tensor calculation not fully tested\n",
      "Warning: stress tensor calculation not fully tested\n"
     ]
    },
    {
     "name": "stderr",
     "output_type": "stream",
     "text": [
      " 12%|\u001b[38;2;128;0;0m██████████▎                                                                         \u001b[0m| 29/236 [00:05<00:39,  5.21it/s]\u001b[0m"
     ]
    },
    {
     "name": "stdout",
     "output_type": "stream",
     "text": [
      "Warning: stress tensor calculation not fully tested\n"
     ]
    },
    {
     "name": "stderr",
     "output_type": "stream",
     "text": [
      " 13%|\u001b[38;2;128;0;0m███████████                                                                         \u001b[0m| 31/236 [00:06<00:41,  4.91it/s]\u001b[0m"
     ]
    },
    {
     "name": "stdout",
     "output_type": "stream",
     "text": [
      "Warning: stress tensor calculation not fully tested\n",
      "Warning: stress tensor calculation not fully tested\n"
     ]
    },
    {
     "name": "stderr",
     "output_type": "stream",
     "text": [
      " 14%|\u001b[38;2;128;0;0m███████████▍                                                                        \u001b[0m| 32/236 [00:06<00:42,  4.75it/s]\u001b[0m"
     ]
    },
    {
     "name": "stdout",
     "output_type": "stream",
     "text": [
      "Warning: stress tensor calculation not fully tested\n"
     ]
    },
    {
     "name": "stderr",
     "output_type": "stream",
     "text": [
      " 14%|\u001b[38;2;128;0;0m████████████                                                                        \u001b[0m| 34/236 [00:06<00:41,  4.85it/s]\u001b[0m"
     ]
    },
    {
     "name": "stdout",
     "output_type": "stream",
     "text": [
      "Warning: stress tensor calculation not fully tested\n",
      "Warning: stress tensor calculation not fully tested\n"
     ]
    },
    {
     "name": "stderr",
     "output_type": "stream",
     "text": [
      " 15%|\u001b[38;2;128;0;0m████████████▊                                                                       \u001b[0m| 36/236 [00:07<00:37,  5.37it/s]\u001b[0m"
     ]
    },
    {
     "name": "stdout",
     "output_type": "stream",
     "text": [
      "Warning: stress tensor calculation not fully tested\n",
      "Warning: stress tensor calculation not fully tested\n"
     ]
    },
    {
     "name": "stderr",
     "output_type": "stream",
     "text": [
      " 16%|\u001b[38;2;128;0;0m█████████████▏                                                                      \u001b[0m| 37/236 [00:07<00:37,  5.24it/s]\u001b[0m"
     ]
    },
    {
     "name": "stdout",
     "output_type": "stream",
     "text": [
      "Warning: stress tensor calculation not fully tested\n"
     ]
    },
    {
     "name": "stderr",
     "output_type": "stream",
     "text": [
      " 16%|\u001b[38;2;128;0;0m█████████████▌                                                                      \u001b[0m| 38/236 [00:07<00:40,  4.93it/s]\u001b[0m"
     ]
    },
    {
     "name": "stdout",
     "output_type": "stream",
     "text": [
      "Warning: stress tensor calculation not fully tested\n"
     ]
    },
    {
     "name": "stderr",
     "output_type": "stream",
     "text": [
      " 17%|\u001b[38;2;128;0;0m█████████████▉                                                                      \u001b[0m| 39/236 [00:07<00:40,  4.86it/s]\u001b[0m"
     ]
    },
    {
     "name": "stdout",
     "output_type": "stream",
     "text": [
      "Warning: stress tensor calculation not fully tested\n"
     ]
    },
    {
     "name": "stderr",
     "output_type": "stream",
     "text": [
      " 17%|\u001b[38;2;128;0;0m██████████████▌                                                                     \u001b[0m| 41/236 [00:08<00:39,  4.97it/s]\u001b[0m"
     ]
    },
    {
     "name": "stdout",
     "output_type": "stream",
     "text": [
      "Warning: stress tensor calculation not fully tested\n"
     ]
    },
    {
     "name": "stderr",
     "output_type": "stream",
     "text": [
      " 18%|\u001b[38;2;128;0;0m██████████████▉                                                                     \u001b[0m| 42/236 [00:08<00:36,  5.35it/s]\u001b[0m"
     ]
    },
    {
     "name": "stdout",
     "output_type": "stream",
     "text": [
      "Warning: stress tensor calculation not fully tested\n",
      "Warning: stress tensor calculation not fully tested\n"
     ]
    },
    {
     "name": "stderr",
     "output_type": "stream",
     "text": [
      " 19%|\u001b[38;2;128;0;0m███████████████▋                                                                    \u001b[0m| 44/236 [00:08<00:35,  5.44it/s]\u001b[0m"
     ]
    },
    {
     "name": "stdout",
     "output_type": "stream",
     "text": [
      "Warning: stress tensor calculation not fully tested\n",
      "Warning: stress tensor calculation not fully tested\n"
     ]
    },
    {
     "name": "stderr",
     "output_type": "stream",
     "text": [
      " 19%|\u001b[38;2;128;0;0m████████████████                                                                    \u001b[0m| 45/236 [00:09<00:34,  5.46it/s]\u001b[0m"
     ]
    },
    {
     "name": "stdout",
     "output_type": "stream",
     "text": [
      "Warning: stress tensor calculation not fully tested\n"
     ]
    },
    {
     "name": "stderr",
     "output_type": "stream",
     "text": [
      " 19%|\u001b[38;2;128;0;0m████████████████▎                                                                   \u001b[0m| 46/236 [00:09<00:36,  5.19it/s]\u001b[0m"
     ]
    },
    {
     "name": "stdout",
     "output_type": "stream",
     "text": [
      "Warning: stress tensor calculation not fully tested\n"
     ]
    },
    {
     "name": "stderr",
     "output_type": "stream",
     "text": [
      " 20%|\u001b[38;2;128;0;0m█████████████████                                                                   \u001b[0m| 48/236 [00:09<00:38,  4.95it/s]\u001b[0m"
     ]
    },
    {
     "name": "stdout",
     "output_type": "stream",
     "text": [
      "Warning: stress tensor calculation not fully tested\n"
     ]
    },
    {
     "name": "stderr",
     "output_type": "stream",
     "text": [
      " 21%|\u001b[38;2;128;0;0m█████████████████▍                                                                  \u001b[0m| 49/236 [00:09<00:36,  5.17it/s]\u001b[0m"
     ]
    },
    {
     "name": "stdout",
     "output_type": "stream",
     "text": [
      "Warning: stress tensor calculation not fully tested\n",
      "Warning: stress tensor calculation not fully tested\n"
     ]
    },
    {
     "name": "stderr",
     "output_type": "stream",
     "text": [
      " 22%|\u001b[38;2;128;0;0m██████████████████▏                                                                 \u001b[0m| 51/236 [00:10<00:35,  5.19it/s]\u001b[0m"
     ]
    },
    {
     "name": "stdout",
     "output_type": "stream",
     "text": [
      "Warning: stress tensor calculation not fully tested\n"
     ]
    },
    {
     "name": "stderr",
     "output_type": "stream",
     "text": [
      " 22%|\u001b[38;2;128;0;0m██████████████████▌                                                                 \u001b[0m| 52/236 [00:10<00:35,  5.19it/s]\u001b[0m"
     ]
    },
    {
     "name": "stdout",
     "output_type": "stream",
     "text": [
      "Warning: stress tensor calculation not fully tested\n"
     ]
    },
    {
     "name": "stderr",
     "output_type": "stream",
     "text": [
      " 22%|\u001b[38;2;128;0;0m██████████████████▊                                                                 \u001b[0m| 53/236 [00:10<00:35,  5.15it/s]\u001b[0m"
     ]
    },
    {
     "name": "stdout",
     "output_type": "stream",
     "text": [
      "Warning: stress tensor calculation not fully tested\n",
      "Warning: stress tensor calculation not fully tested\n"
     ]
    },
    {
     "name": "stderr",
     "output_type": "stream",
     "text": [
      " 23%|\u001b[38;2;128;0;0m███████████████████▌                                                                \u001b[0m| 55/236 [00:11<00:35,  5.15it/s]\u001b[0m"
     ]
    },
    {
     "name": "stdout",
     "output_type": "stream",
     "text": [
      "Warning: stress tensor calculation not fully tested\n",
      "Warning: stress tensor calculation not fully tested\n"
     ]
    },
    {
     "name": "stderr",
     "output_type": "stream",
     "text": [
      " 24%|\u001b[38;2;128;0;0m████████████████████▎                                                               \u001b[0m| 57/236 [00:11<00:32,  5.48it/s]\u001b[0m"
     ]
    },
    {
     "name": "stdout",
     "output_type": "stream",
     "text": [
      "Warning: stress tensor calculation not fully tested\n",
      "Warning: stress tensor calculation not fully tested\n"
     ]
    },
    {
     "name": "stderr",
     "output_type": "stream",
     "text": [
      " 25%|\u001b[38;2;128;0;0m█████████████████████                                                               \u001b[0m| 59/236 [00:11<00:33,  5.28it/s]\u001b[0m"
     ]
    },
    {
     "name": "stdout",
     "output_type": "stream",
     "text": [
      "Warning: stress tensor calculation not fully tested\n",
      "Warning: stress tensor calculation not fully tested\n"
     ]
    },
    {
     "name": "stderr",
     "output_type": "stream",
     "text": [
      " 26%|\u001b[38;2;128;0;0m█████████████████████▋                                                              \u001b[0m| 61/236 [00:12<00:33,  5.30it/s]\u001b[0m"
     ]
    },
    {
     "name": "stdout",
     "output_type": "stream",
     "text": [
      "Warning: stress tensor calculation not fully tested\n",
      "Warning: stress tensor calculation not fully tested\n"
     ]
    },
    {
     "name": "stderr",
     "output_type": "stream",
     "text": [
      " 27%|\u001b[38;2;128;0;0m██████████████████████▍                                                             \u001b[0m| 63/236 [00:12<00:32,  5.37it/s]\u001b[0m"
     ]
    },
    {
     "name": "stdout",
     "output_type": "stream",
     "text": [
      "Warning: stress tensor calculation not fully tested\n",
      "Warning: stress tensor calculation not fully tested\n"
     ]
    },
    {
     "name": "stderr",
     "output_type": "stream",
     "text": [
      " 27%|\u001b[38;2;128;0;0m██████████████████████▊                                                             \u001b[0m| 64/236 [00:12<00:32,  5.37it/s]\u001b[0m"
     ]
    },
    {
     "name": "stdout",
     "output_type": "stream",
     "text": [
      "Warning: stress tensor calculation not fully tested\n"
     ]
    },
    {
     "name": "stderr",
     "output_type": "stream",
     "text": [
      " 28%|\u001b[38;2;128;0;0m███████████████████████▍                                                            \u001b[0m| 66/236 [00:13<00:32,  5.18it/s]\u001b[0m"
     ]
    },
    {
     "name": "stdout",
     "output_type": "stream",
     "text": [
      "Warning: stress tensor calculation not fully tested\n"
     ]
    },
    {
     "name": "stderr",
     "output_type": "stream",
     "text": [
      " 28%|\u001b[38;2;128;0;0m███████████████████████▊                                                            \u001b[0m| 67/236 [00:13<00:32,  5.17it/s]\u001b[0m"
     ]
    },
    {
     "name": "stdout",
     "output_type": "stream",
     "text": [
      "Warning: stress tensor calculation not fully tested\n"
     ]
    },
    {
     "name": "stderr",
     "output_type": "stream",
     "text": [
      " 29%|\u001b[38;2;128;0;0m████████████████████████▏                                                           \u001b[0m| 68/236 [00:13<00:31,  5.33it/s]\u001b[0m"
     ]
    },
    {
     "name": "stdout",
     "output_type": "stream",
     "text": [
      "Warning: stress tensor calculation not fully tested\n",
      "Warning: stress tensor calculation not fully tested\n"
     ]
    },
    {
     "name": "stderr",
     "output_type": "stream",
     "text": [
      " 29%|\u001b[38;2;128;0;0m████████████████████████▌                                                           \u001b[0m| 69/236 [00:13<00:31,  5.32it/s]\u001b[0m"
     ]
    },
    {
     "name": "stdout",
     "output_type": "stream",
     "text": [
      "Warning: stress tensor calculation not fully tested\n"
     ]
    },
    {
     "name": "stderr",
     "output_type": "stream",
     "text": [
      " 30%|\u001b[38;2;128;0;0m█████████████████████████▎                                                          \u001b[0m| 71/236 [00:14<00:30,  5.33it/s]\u001b[0m"
     ]
    },
    {
     "name": "stdout",
     "output_type": "stream",
     "text": [
      "Warning: stress tensor calculation not fully tested\n",
      "Warning: stress tensor calculation not fully tested\n"
     ]
    },
    {
     "name": "stderr",
     "output_type": "stream",
     "text": [
      " 31%|\u001b[38;2;128;0;0m█████████████████████████▉                                                          \u001b[0m| 73/236 [00:14<00:31,  5.24it/s]\u001b[0m"
     ]
    },
    {
     "name": "stdout",
     "output_type": "stream",
     "text": [
      "Warning: stress tensor calculation not fully tested\n",
      "Warning: stress tensor calculation not fully tested\n"
     ]
    },
    {
     "name": "stderr",
     "output_type": "stream",
     "text": [
      " 32%|\u001b[38;2;128;0;0m██████████████████████████▋                                                         \u001b[0m| 75/236 [00:14<00:29,  5.40it/s]\u001b[0m"
     ]
    },
    {
     "name": "stdout",
     "output_type": "stream",
     "text": [
      "Warning: stress tensor calculation not fully tested\n"
     ]
    },
    {
     "name": "stderr",
     "output_type": "stream",
     "text": [
      " 32%|\u001b[38;2;128;0;0m███████████████████████████                                                         \u001b[0m| 76/236 [00:14<00:30,  5.31it/s]\u001b[0m"
     ]
    },
    {
     "name": "stdout",
     "output_type": "stream",
     "text": [
      "Warning: stress tensor calculation not fully tested\n"
     ]
    },
    {
     "name": "stderr",
     "output_type": "stream",
     "text": [
      " 33%|\u001b[38;2;128;0;0m███████████████████████████▍                                                        \u001b[0m| 77/236 [00:15<00:30,  5.20it/s]\u001b[0m"
     ]
    },
    {
     "name": "stdout",
     "output_type": "stream",
     "text": [
      "Warning: stress tensor calculation not fully tested\n"
     ]
    },
    {
     "name": "stderr",
     "output_type": "stream",
     "text": [
      " 33%|\u001b[38;2;128;0;0m███████████████████████████▊                                                        \u001b[0m| 78/236 [00:15<00:31,  5.06it/s]\u001b[0m"
     ]
    },
    {
     "name": "stdout",
     "output_type": "stream",
     "text": [
      "Warning: stress tensor calculation not fully tested\n",
      "Warning: stress tensor calculation not fully tested\n"
     ]
    },
    {
     "name": "stderr",
     "output_type": "stream",
     "text": [
      " 33%|\u001b[38;2;128;0;0m████████████████████████████                                                        \u001b[0m| 79/236 [00:15<00:31,  4.91it/s]\u001b[0m"
     ]
    },
    {
     "name": "stdout",
     "output_type": "stream",
     "text": [
      "Warning: stress tensor calculation not fully tested\n"
     ]
    },
    {
     "name": "stderr",
     "output_type": "stream",
     "text": [
      " 34%|\u001b[38;2;128;0;0m████████████████████████████▊                                                       \u001b[0m| 81/236 [00:16<00:31,  4.93it/s]\u001b[0m"
     ]
    },
    {
     "name": "stdout",
     "output_type": "stream",
     "text": [
      "Warning: stress tensor calculation not fully tested\n"
     ]
    },
    {
     "name": "stderr",
     "output_type": "stream",
     "text": [
      " 35%|\u001b[38;2;128;0;0m█████████████████████████████▏                                                      \u001b[0m| 82/236 [00:16<00:30,  5.03it/s]\u001b[0m"
     ]
    },
    {
     "name": "stdout",
     "output_type": "stream",
     "text": [
      "Warning: stress tensor calculation not fully tested\n"
     ]
    },
    {
     "name": "stderr",
     "output_type": "stream",
     "text": [
      " 35%|\u001b[38;2;128;0;0m█████████████████████████████▌                                                      \u001b[0m| 83/236 [00:16<00:30,  5.02it/s]\u001b[0m"
     ]
    },
    {
     "name": "stdout",
     "output_type": "stream",
     "text": [
      "Warning: stress tensor calculation not fully tested\n"
     ]
    },
    {
     "name": "stderr",
     "output_type": "stream",
     "text": [
      " 36%|\u001b[38;2;128;0;0m█████████████████████████████▉                                                      \u001b[0m| 84/236 [00:16<00:30,  5.00it/s]\u001b[0m"
     ]
    },
    {
     "name": "stdout",
     "output_type": "stream",
     "text": [
      "Warning: stress tensor calculation not fully tested\n",
      "Warning: stress tensor calculation not fully tested\n"
     ]
    },
    {
     "name": "stderr",
     "output_type": "stream",
     "text": [
      " 36%|\u001b[38;2;128;0;0m██████████████████████████████▎                                                     \u001b[0m| 85/236 [00:16<00:30,  4.92it/s]\u001b[0m"
     ]
    },
    {
     "name": "stdout",
     "output_type": "stream",
     "text": [
      "Warning: stress tensor calculation not fully tested\n"
     ]
    },
    {
     "name": "stderr",
     "output_type": "stream",
     "text": [
      " 36%|\u001b[38;2;128;0;0m██████████████████████████████▌                                                     \u001b[0m| 86/236 [00:17<00:31,  4.82it/s]\u001b[0m"
     ]
    },
    {
     "name": "stdout",
     "output_type": "stream",
     "text": [
      "Warning: stress tensor calculation not fully tested\n"
     ]
    },
    {
     "name": "stderr",
     "output_type": "stream",
     "text": [
      " 37%|\u001b[38;2;128;0;0m███████████████████████████████▎                                                    \u001b[0m| 88/236 [00:17<00:28,  5.15it/s]\u001b[0m"
     ]
    },
    {
     "name": "stdout",
     "output_type": "stream",
     "text": [
      "Warning: stress tensor calculation not fully tested\n",
      "Warning: stress tensor calculation not fully tested\n"
     ]
    },
    {
     "name": "stderr",
     "output_type": "stream",
     "text": [
      " 38%|\u001b[38;2;128;0;0m████████████████████████████████                                                    \u001b[0m| 90/236 [00:17<00:25,  5.66it/s]\u001b[0m"
     ]
    },
    {
     "name": "stdout",
     "output_type": "stream",
     "text": [
      "Warning: stress tensor calculation not fully tested\n",
      "Warning: stress tensor calculation not fully tested\n"
     ]
    },
    {
     "name": "stderr",
     "output_type": "stream",
     "text": [
      " 39%|\u001b[38;2;128;0;0m████████████████████████████████▋                                                   \u001b[0m| 92/236 [00:18<00:25,  5.74it/s]\u001b[0m"
     ]
    },
    {
     "name": "stdout",
     "output_type": "stream",
     "text": [
      "Warning: stress tensor calculation not fully tested\n",
      "Warning: stress tensor calculation not fully tested\n"
     ]
    },
    {
     "name": "stderr",
     "output_type": "stream",
     "text": [
      " 40%|\u001b[38;2;128;0;0m█████████████████████████████████▍                                                  \u001b[0m| 94/236 [00:18<00:24,  5.69it/s]\u001b[0m"
     ]
    },
    {
     "name": "stdout",
     "output_type": "stream",
     "text": [
      "Warning: stress tensor calculation not fully tested\n",
      "Warning: stress tensor calculation not fully tested\n"
     ]
    },
    {
     "name": "stderr",
     "output_type": "stream",
     "text": [
      " 41%|\u001b[38;2;128;0;0m██████████████████████████████████▏                                                 \u001b[0m| 96/236 [00:18<00:26,  5.29it/s]\u001b[0m"
     ]
    },
    {
     "name": "stdout",
     "output_type": "stream",
     "text": [
      "Warning: stress tensor calculation not fully tested\n"
     ]
    },
    {
     "name": "stderr",
     "output_type": "stream",
     "text": [
      " 41%|\u001b[38;2;128;0;0m██████████████████████████████████▌                                                 \u001b[0m| 97/236 [00:19<00:27,  5.10it/s]\u001b[0m"
     ]
    },
    {
     "name": "stdout",
     "output_type": "stream",
     "text": [
      "Warning: stress tensor calculation not fully tested\n"
     ]
    },
    {
     "name": "stderr",
     "output_type": "stream",
     "text": [
      " 42%|\u001b[38;2;128;0;0m██████████████████████████████████▉                                                 \u001b[0m| 98/236 [00:19<00:25,  5.49it/s]\u001b[0m"
     ]
    },
    {
     "name": "stdout",
     "output_type": "stream",
     "text": [
      "Warning: stress tensor calculation not fully tested\n",
      "Warning: stress tensor calculation not fully tested\n"
     ]
    },
    {
     "name": "stderr",
     "output_type": "stream",
     "text": [
      " 42%|\u001b[38;2;128;0;0m███████████████████████████████████▏                                               \u001b[0m| 100/236 [00:19<00:23,  5.83it/s]\u001b[0m"
     ]
    },
    {
     "name": "stdout",
     "output_type": "stream",
     "text": [
      "Warning: stress tensor calculation not fully tested\n",
      "Warning: stress tensor calculation not fully tested\n"
     ]
    },
    {
     "name": "stderr",
     "output_type": "stream",
     "text": [
      " 43%|\u001b[38;2;128;0;0m███████████████████████████████████▊                                               \u001b[0m| 102/236 [00:19<00:22,  5.86it/s]\u001b[0m"
     ]
    },
    {
     "name": "stdout",
     "output_type": "stream",
     "text": [
      "Warning: stress tensor calculation not fully tested\n",
      "Warning: stress tensor calculation not fully tested\n"
     ]
    },
    {
     "name": "stderr",
     "output_type": "stream",
     "text": [
      " 44%|\u001b[38;2;128;0;0m████████████████████████████████████▌                                              \u001b[0m| 104/236 [00:20<00:23,  5.62it/s]\u001b[0m"
     ]
    },
    {
     "name": "stdout",
     "output_type": "stream",
     "text": [
      "Warning: stress tensor calculation not fully tested\n",
      "Warning: stress tensor calculation not fully tested\n"
     ]
    },
    {
     "name": "stderr",
     "output_type": "stream",
     "text": [
      " 45%|\u001b[38;2;128;0;0m█████████████████████████████████████▎                                             \u001b[0m| 106/236 [00:20<00:22,  5.74it/s]\u001b[0m"
     ]
    },
    {
     "name": "stdout",
     "output_type": "stream",
     "text": [
      "Warning: stress tensor calculation not fully tested\n",
      "Warning: stress tensor calculation not fully tested\n"
     ]
    },
    {
     "name": "stderr",
     "output_type": "stream",
     "text": [
      " 46%|\u001b[38;2;128;0;0m█████████████████████████████████████▉                                             \u001b[0m| 108/236 [00:20<00:22,  5.63it/s]\u001b[0m"
     ]
    },
    {
     "name": "stdout",
     "output_type": "stream",
     "text": [
      "Warning: stress tensor calculation not fully tested\n"
     ]
    },
    {
     "name": "stderr",
     "output_type": "stream",
     "text": [
      " 46%|\u001b[38;2;128;0;0m██████████████████████████████████████▎                                            \u001b[0m| 109/236 [00:21<00:23,  5.48it/s]\u001b[0m"
     ]
    },
    {
     "name": "stdout",
     "output_type": "stream",
     "text": [
      "Warning: stress tensor calculation not fully tested\n"
     ]
    },
    {
     "name": "stderr",
     "output_type": "stream",
     "text": [
      " 47%|\u001b[38;2;128;0;0m██████████████████████████████████████▋                                            \u001b[0m| 110/236 [00:21<00:23,  5.42it/s]\u001b[0m"
     ]
    },
    {
     "name": "stdout",
     "output_type": "stream",
     "text": [
      "Warning: stress tensor calculation not fully tested\n",
      "Warning: stress tensor calculation not fully tested\n"
     ]
    },
    {
     "name": "stderr",
     "output_type": "stream",
     "text": [
      " 47%|\u001b[38;2;128;0;0m███████████████████████████████████████                                            \u001b[0m| 111/236 [00:21<00:24,  5.15it/s]\u001b[0m"
     ]
    },
    {
     "name": "stdout",
     "output_type": "stream",
     "text": [
      "Warning: stress tensor calculation not fully tested\n"
     ]
    },
    {
     "name": "stderr",
     "output_type": "stream",
     "text": [
      " 47%|\u001b[38;2;128;0;0m███████████████████████████████████████▍                                           \u001b[0m| 112/236 [00:21<00:24,  5.07it/s]\u001b[0m"
     ]
    },
    {
     "name": "stdout",
     "output_type": "stream",
     "text": [
      "Warning: stress tensor calculation not fully tested\n"
     ]
    },
    {
     "name": "stderr",
     "output_type": "stream",
     "text": [
      " 48%|\u001b[38;2;128;0;0m███████████████████████████████████████▋                                           \u001b[0m| 113/236 [00:21<00:25,  4.78it/s]\u001b[0m"
     ]
    },
    {
     "name": "stdout",
     "output_type": "stream",
     "text": [
      "Warning: stress tensor calculation not fully tested\n"
     ]
    },
    {
     "name": "stderr",
     "output_type": "stream",
     "text": [
      " 48%|\u001b[38;2;128;0;0m████████████████████████████████████████                                           \u001b[0m| 114/236 [00:22<00:30,  3.94it/s]\u001b[0m"
     ]
    },
    {
     "name": "stdout",
     "output_type": "stream",
     "text": [
      "Warning: stress tensor calculation not fully tested\n"
     ]
    },
    {
     "name": "stderr",
     "output_type": "stream",
     "text": [
      " 49%|\u001b[38;2;128;0;0m████████████████████████████████████████▍                                          \u001b[0m| 115/236 [00:22<00:35,  3.37it/s]\u001b[0m"
     ]
    },
    {
     "name": "stdout",
     "output_type": "stream",
     "text": [
      "Warning: stress tensor calculation not fully tested\n"
     ]
    },
    {
     "name": "stderr",
     "output_type": "stream",
     "text": [
      " 49%|\u001b[38;2;128;0;0m████████████████████████████████████████▊                                          \u001b[0m| 116/236 [00:23<00:38,  3.10it/s]\u001b[0m"
     ]
    },
    {
     "name": "stdout",
     "output_type": "stream",
     "text": [
      "Warning: stress tensor calculation not fully tested\n"
     ]
    },
    {
     "name": "stderr",
     "output_type": "stream",
     "text": [
      " 50%|\u001b[38;2;128;0;0m█████████████████████████████████████████▏                                         \u001b[0m| 117/236 [00:23<00:41,  2.89it/s]\u001b[0m"
     ]
    },
    {
     "name": "stdout",
     "output_type": "stream",
     "text": [
      "Warning: stress tensor calculation not fully tested\n"
     ]
    },
    {
     "name": "stderr",
     "output_type": "stream",
     "text": [
      " 50%|\u001b[38;2;128;0;0m█████████████████████████████████████████▌                                         \u001b[0m| 118/236 [00:23<00:41,  2.81it/s]\u001b[0m"
     ]
    },
    {
     "name": "stdout",
     "output_type": "stream",
     "text": [
      "Warning: stress tensor calculation not fully tested\n"
     ]
    },
    {
     "name": "stderr",
     "output_type": "stream",
     "text": [
      " 50%|\u001b[38;2;128;0;0m█████████████████████████████████████████▊                                         \u001b[0m| 119/236 [00:24<00:41,  2.80it/s]\u001b[0m"
     ]
    },
    {
     "name": "stdout",
     "output_type": "stream",
     "text": [
      "Warning: stress tensor calculation not fully tested\n"
     ]
    },
    {
     "name": "stderr",
     "output_type": "stream",
     "text": [
      " 51%|\u001b[38;2;128;0;0m██████████████████████████████████████████▏                                        \u001b[0m| 120/236 [00:24<00:42,  2.74it/s]\u001b[0m"
     ]
    },
    {
     "name": "stdout",
     "output_type": "stream",
     "text": [
      "Warning: stress tensor calculation not fully tested\n"
     ]
    },
    {
     "name": "stderr",
     "output_type": "stream",
     "text": [
      " 51%|\u001b[38;2;128;0;0m██████████████████████████████████████████▌                                        \u001b[0m| 121/236 [00:25<00:42,  2.70it/s]\u001b[0m"
     ]
    },
    {
     "name": "stdout",
     "output_type": "stream",
     "text": [
      "Warning: stress tensor calculation not fully tested\n"
     ]
    },
    {
     "name": "stderr",
     "output_type": "stream",
     "text": [
      " 52%|\u001b[38;2;128;0;0m██████████████████████████████████████████▉                                        \u001b[0m| 122/236 [00:25<00:43,  2.65it/s]\u001b[0m"
     ]
    },
    {
     "name": "stdout",
     "output_type": "stream",
     "text": [
      "Warning: stress tensor calculation not fully tested\n"
     ]
    },
    {
     "name": "stderr",
     "output_type": "stream",
     "text": [
      " 52%|\u001b[38;2;128;0;0m███████████████████████████████████████████▎                                       \u001b[0m| 123/236 [00:25<00:42,  2.66it/s]\u001b[0m"
     ]
    },
    {
     "name": "stdout",
     "output_type": "stream",
     "text": [
      "Warning: stress tensor calculation not fully tested\n"
     ]
    },
    {
     "name": "stderr",
     "output_type": "stream",
     "text": [
      " 53%|\u001b[38;2;128;0;0m███████████████████████████████████████████▌                                       \u001b[0m| 124/236 [00:26<00:42,  2.65it/s]\u001b[0m"
     ]
    },
    {
     "name": "stdout",
     "output_type": "stream",
     "text": [
      "Warning: stress tensor calculation not fully tested\n"
     ]
    },
    {
     "name": "stderr",
     "output_type": "stream",
     "text": [
      " 53%|\u001b[38;2;128;0;0m███████████████████████████████████████████▉                                       \u001b[0m| 125/236 [00:26<00:41,  2.66it/s]\u001b[0m"
     ]
    },
    {
     "name": "stdout",
     "output_type": "stream",
     "text": [
      "Warning: stress tensor calculation not fully tested\n"
     ]
    },
    {
     "name": "stderr",
     "output_type": "stream",
     "text": [
      " 53%|\u001b[38;2;128;0;0m████████████████████████████████████████████▎                                      \u001b[0m| 126/236 [00:26<00:41,  2.65it/s]\u001b[0m"
     ]
    },
    {
     "name": "stdout",
     "output_type": "stream",
     "text": [
      "Warning: stress tensor calculation not fully tested\n"
     ]
    },
    {
     "name": "stderr",
     "output_type": "stream",
     "text": [
      " 54%|\u001b[38;2;128;0;0m████████████████████████████████████████████▋                                      \u001b[0m| 127/236 [00:27<00:40,  2.67it/s]\u001b[0m"
     ]
    },
    {
     "name": "stdout",
     "output_type": "stream",
     "text": [
      "Warning: stress tensor calculation not fully tested\n"
     ]
    },
    {
     "name": "stderr",
     "output_type": "stream",
     "text": [
      " 54%|\u001b[38;2;128;0;0m█████████████████████████████████████████████                                      \u001b[0m| 128/236 [00:27<00:40,  2.67it/s]\u001b[0m"
     ]
    },
    {
     "name": "stdout",
     "output_type": "stream",
     "text": [
      "Warning: stress tensor calculation not fully tested\n"
     ]
    },
    {
     "name": "stderr",
     "output_type": "stream",
     "text": [
      " 55%|\u001b[38;2;128;0;0m█████████████████████████████████████████████▎                                     \u001b[0m| 129/236 [00:28<00:40,  2.65it/s]\u001b[0m"
     ]
    },
    {
     "name": "stdout",
     "output_type": "stream",
     "text": [
      "Warning: stress tensor calculation not fully tested\n"
     ]
    },
    {
     "name": "stderr",
     "output_type": "stream",
     "text": [
      " 55%|\u001b[38;2;128;0;0m█████████████████████████████████████████████▋                                     \u001b[0m| 130/236 [00:28<00:40,  2.61it/s]\u001b[0m"
     ]
    },
    {
     "name": "stdout",
     "output_type": "stream",
     "text": [
      "Warning: stress tensor calculation not fully tested\n"
     ]
    },
    {
     "name": "stderr",
     "output_type": "stream",
     "text": [
      " 56%|\u001b[38;2;128;0;0m██████████████████████████████████████████████                                     \u001b[0m| 131/236 [00:28<00:40,  2.61it/s]\u001b[0m"
     ]
    },
    {
     "name": "stdout",
     "output_type": "stream",
     "text": [
      "Warning: stress tensor calculation not fully tested\n"
     ]
    },
    {
     "name": "stderr",
     "output_type": "stream",
     "text": [
      " 56%|\u001b[38;2;128;0;0m██████████████████████████████████████████████▍                                    \u001b[0m| 132/236 [00:29<00:40,  2.58it/s]\u001b[0m"
     ]
    },
    {
     "name": "stdout",
     "output_type": "stream",
     "text": [
      "Warning: stress tensor calculation not fully tested\n"
     ]
    },
    {
     "name": "stderr",
     "output_type": "stream",
     "text": [
      " 56%|\u001b[38;2;128;0;0m██████████████████████████████████████████████▊                                    \u001b[0m| 133/236 [00:29<00:39,  2.63it/s]\u001b[0m"
     ]
    },
    {
     "name": "stdout",
     "output_type": "stream",
     "text": [
      "Warning: stress tensor calculation not fully tested\n"
     ]
    },
    {
     "name": "stderr",
     "output_type": "stream",
     "text": [
      " 57%|\u001b[38;2;128;0;0m███████████████████████████████████████████████▏                                   \u001b[0m| 134/236 [00:29<00:38,  2.65it/s]\u001b[0m"
     ]
    },
    {
     "name": "stdout",
     "output_type": "stream",
     "text": [
      "Warning: stress tensor calculation not fully tested\n"
     ]
    },
    {
     "name": "stderr",
     "output_type": "stream",
     "text": [
      " 57%|\u001b[38;2;128;0;0m███████████████████████████████████████████████▍                                   \u001b[0m| 135/236 [00:30<00:38,  2.65it/s]\u001b[0m"
     ]
    },
    {
     "name": "stdout",
     "output_type": "stream",
     "text": [
      "Warning: stress tensor calculation not fully tested\n"
     ]
    },
    {
     "name": "stderr",
     "output_type": "stream",
     "text": [
      " 58%|\u001b[38;2;128;0;0m███████████████████████████████████████████████▊                                   \u001b[0m| 136/236 [00:30<00:38,  2.60it/s]\u001b[0m"
     ]
    },
    {
     "name": "stdout",
     "output_type": "stream",
     "text": [
      "Warning: stress tensor calculation not fully tested\n"
     ]
    },
    {
     "name": "stderr",
     "output_type": "stream",
     "text": [
      " 58%|\u001b[38;2;128;0;0m████████████████████████████████████████████████▏                                  \u001b[0m| 137/236 [00:31<00:37,  2.62it/s]\u001b[0m"
     ]
    },
    {
     "name": "stdout",
     "output_type": "stream",
     "text": [
      "Warning: stress tensor calculation not fully tested\n"
     ]
    },
    {
     "name": "stderr",
     "output_type": "stream",
     "text": [
      " 58%|\u001b[38;2;128;0;0m████████████████████████████████████████████████▌                                  \u001b[0m| 138/236 [00:31<00:37,  2.59it/s]\u001b[0m"
     ]
    },
    {
     "name": "stdout",
     "output_type": "stream",
     "text": [
      "Warning: stress tensor calculation not fully tested\n"
     ]
    },
    {
     "name": "stderr",
     "output_type": "stream",
     "text": [
      " 59%|\u001b[38;2;128;0;0m████████████████████████████████████████████████▉                                  \u001b[0m| 139/236 [00:31<00:36,  2.64it/s]\u001b[0m"
     ]
    },
    {
     "name": "stdout",
     "output_type": "stream",
     "text": [
      "Warning: stress tensor calculation not fully tested\n"
     ]
    },
    {
     "name": "stderr",
     "output_type": "stream",
     "text": [
      " 59%|\u001b[38;2;128;0;0m█████████████████████████████████████████████████▏                                 \u001b[0m| 140/236 [00:32<00:36,  2.60it/s]\u001b[0m"
     ]
    },
    {
     "name": "stdout",
     "output_type": "stream",
     "text": [
      "Warning: stress tensor calculation not fully tested\n"
     ]
    },
    {
     "name": "stderr",
     "output_type": "stream",
     "text": [
      " 60%|\u001b[38;2;128;0;0m█████████████████████████████████████████████████▌                                 \u001b[0m| 141/236 [00:32<00:35,  2.64it/s]\u001b[0m"
     ]
    },
    {
     "name": "stdout",
     "output_type": "stream",
     "text": [
      "Warning: stress tensor calculation not fully tested\n"
     ]
    },
    {
     "name": "stderr",
     "output_type": "stream",
     "text": [
      " 60%|\u001b[38;2;128;0;0m█████████████████████████████████████████████████▉                                 \u001b[0m| 142/236 [00:33<00:36,  2.57it/s]\u001b[0m"
     ]
    },
    {
     "name": "stdout",
     "output_type": "stream",
     "text": [
      "Warning: stress tensor calculation not fully tested\n"
     ]
    },
    {
     "name": "stderr",
     "output_type": "stream",
     "text": [
      " 61%|\u001b[38;2;128;0;0m██████████████████████████████████████████████████▎                                \u001b[0m| 143/236 [00:33<00:36,  2.57it/s]\u001b[0m"
     ]
    },
    {
     "name": "stdout",
     "output_type": "stream",
     "text": [
      "Warning: stress tensor calculation not fully tested\n"
     ]
    },
    {
     "name": "stderr",
     "output_type": "stream",
     "text": [
      " 61%|\u001b[38;2;128;0;0m██████████████████████████████████████████████████▋                                \u001b[0m| 144/236 [00:33<00:35,  2.61it/s]\u001b[0m"
     ]
    },
    {
     "name": "stdout",
     "output_type": "stream",
     "text": [
      "Warning: stress tensor calculation not fully tested\n"
     ]
    },
    {
     "name": "stderr",
     "output_type": "stream",
     "text": [
      " 61%|\u001b[38;2;128;0;0m██████████████████████████████████████████████████▉                                \u001b[0m| 145/236 [00:34<00:34,  2.60it/s]\u001b[0m"
     ]
    },
    {
     "name": "stdout",
     "output_type": "stream",
     "text": [
      "Warning: stress tensor calculation not fully tested\n"
     ]
    },
    {
     "name": "stderr",
     "output_type": "stream",
     "text": [
      " 62%|\u001b[38;2;128;0;0m███████████████████████████████████████████████████▎                               \u001b[0m| 146/236 [00:34<00:34,  2.61it/s]\u001b[0m"
     ]
    },
    {
     "name": "stdout",
     "output_type": "stream",
     "text": [
      "Warning: stress tensor calculation not fully tested\n"
     ]
    },
    {
     "name": "stderr",
     "output_type": "stream",
     "text": [
      " 62%|\u001b[38;2;128;0;0m███████████████████████████████████████████████████▋                               \u001b[0m| 147/236 [00:34<00:33,  2.64it/s]\u001b[0m"
     ]
    },
    {
     "name": "stdout",
     "output_type": "stream",
     "text": [
      "Warning: stress tensor calculation not fully tested\n"
     ]
    },
    {
     "name": "stderr",
     "output_type": "stream",
     "text": [
      " 63%|\u001b[38;2;128;0;0m████████████████████████████████████████████████████                               \u001b[0m| 148/236 [00:35<00:33,  2.65it/s]\u001b[0m"
     ]
    },
    {
     "name": "stdout",
     "output_type": "stream",
     "text": [
      "Warning: stress tensor calculation not fully tested\n"
     ]
    },
    {
     "name": "stderr",
     "output_type": "stream",
     "text": [
      " 63%|\u001b[38;2;128;0;0m████████████████████████████████████████████████████▍                              \u001b[0m| 149/236 [00:35<00:33,  2.58it/s]\u001b[0m"
     ]
    },
    {
     "name": "stdout",
     "output_type": "stream",
     "text": [
      "Warning: stress tensor calculation not fully tested\n"
     ]
    },
    {
     "name": "stderr",
     "output_type": "stream",
     "text": [
      " 64%|\u001b[38;2;128;0;0m████████████████████████████████████████████████████▊                              \u001b[0m| 150/236 [00:36<00:32,  2.62it/s]\u001b[0m"
     ]
    },
    {
     "name": "stdout",
     "output_type": "stream",
     "text": [
      "Warning: stress tensor calculation not fully tested\n"
     ]
    },
    {
     "name": "stderr",
     "output_type": "stream",
     "text": [
      " 64%|\u001b[38;2;128;0;0m█████████████████████████████████████████████████████                              \u001b[0m| 151/236 [00:36<00:32,  2.59it/s]\u001b[0m"
     ]
    },
    {
     "name": "stdout",
     "output_type": "stream",
     "text": [
      "Warning: stress tensor calculation not fully tested\n"
     ]
    },
    {
     "name": "stderr",
     "output_type": "stream",
     "text": [
      " 64%|\u001b[38;2;128;0;0m█████████████████████████████████████████████████████▍                             \u001b[0m| 152/236 [00:36<00:32,  2.55it/s]\u001b[0m"
     ]
    },
    {
     "name": "stdout",
     "output_type": "stream",
     "text": [
      "Warning: stress tensor calculation not fully tested\n"
     ]
    },
    {
     "name": "stderr",
     "output_type": "stream",
     "text": [
      " 65%|\u001b[38;2;128;0;0m█████████████████████████████████████████████████████▊                             \u001b[0m| 153/236 [00:37<00:31,  2.60it/s]\u001b[0m"
     ]
    },
    {
     "name": "stdout",
     "output_type": "stream",
     "text": [
      "Warning: stress tensor calculation not fully tested\n"
     ]
    },
    {
     "name": "stderr",
     "output_type": "stream",
     "text": [
      " 65%|\u001b[38;2;128;0;0m██████████████████████████████████████████████████████▏                            \u001b[0m| 154/236 [00:37<00:31,  2.60it/s]\u001b[0m"
     ]
    },
    {
     "name": "stdout",
     "output_type": "stream",
     "text": [
      "Warning: stress tensor calculation not fully tested\n"
     ]
    },
    {
     "name": "stderr",
     "output_type": "stream",
     "text": [
      " 66%|\u001b[38;2;128;0;0m██████████████████████████████████████████████████████▌                            \u001b[0m| 155/236 [00:38<00:30,  2.62it/s]\u001b[0m"
     ]
    },
    {
     "name": "stdout",
     "output_type": "stream",
     "text": [
      "Warning: stress tensor calculation not fully tested\n"
     ]
    },
    {
     "name": "stderr",
     "output_type": "stream",
     "text": [
      " 66%|\u001b[38;2;128;0;0m██████████████████████████████████████████████████████▊                            \u001b[0m| 156/236 [00:38<00:30,  2.65it/s]\u001b[0m"
     ]
    },
    {
     "name": "stdout",
     "output_type": "stream",
     "text": [
      "Warning: stress tensor calculation not fully tested\n"
     ]
    },
    {
     "name": "stderr",
     "output_type": "stream",
     "text": [
      " 67%|\u001b[38;2;128;0;0m███████████████████████████████████████████████████████▏                           \u001b[0m| 157/236 [00:38<00:29,  2.65it/s]\u001b[0m"
     ]
    },
    {
     "name": "stdout",
     "output_type": "stream",
     "text": [
      "Warning: stress tensor calculation not fully tested\n"
     ]
    },
    {
     "name": "stderr",
     "output_type": "stream",
     "text": [
      " 67%|\u001b[38;2;128;0;0m███████████████████████████████████████████████████████▌                           \u001b[0m| 158/236 [00:39<00:29,  2.60it/s]\u001b[0m"
     ]
    },
    {
     "name": "stdout",
     "output_type": "stream",
     "text": [
      "Warning: stress tensor calculation not fully tested\n"
     ]
    },
    {
     "name": "stderr",
     "output_type": "stream",
     "text": [
      " 67%|\u001b[38;2;128;0;0m███████████████████████████████████████████████████████▉                           \u001b[0m| 159/236 [00:39<00:29,  2.59it/s]\u001b[0m"
     ]
    },
    {
     "name": "stdout",
     "output_type": "stream",
     "text": [
      "Warning: stress tensor calculation not fully tested\n"
     ]
    },
    {
     "name": "stderr",
     "output_type": "stream",
     "text": [
      " 68%|\u001b[38;2;128;0;0m████████████████████████████████████████████████████████▎                          \u001b[0m| 160/236 [00:39<00:29,  2.59it/s]\u001b[0m"
     ]
    },
    {
     "name": "stdout",
     "output_type": "stream",
     "text": [
      "Warning: stress tensor calculation not fully tested\n"
     ]
    },
    {
     "name": "stderr",
     "output_type": "stream",
     "text": [
      " 68%|\u001b[38;2;128;0;0m████████████████████████████████████████████████████████▌                          \u001b[0m| 161/236 [00:40<00:28,  2.60it/s]\u001b[0m"
     ]
    },
    {
     "name": "stdout",
     "output_type": "stream",
     "text": [
      "Warning: stress tensor calculation not fully tested\n"
     ]
    },
    {
     "name": "stderr",
     "output_type": "stream",
     "text": [
      " 69%|\u001b[38;2;128;0;0m████████████████████████████████████████████████████████▉                          \u001b[0m| 162/236 [00:40<00:28,  2.58it/s]\u001b[0m"
     ]
    },
    {
     "name": "stdout",
     "output_type": "stream",
     "text": [
      "Warning: stress tensor calculation not fully tested\n"
     ]
    },
    {
     "name": "stderr",
     "output_type": "stream",
     "text": [
      " 69%|\u001b[38;2;128;0;0m█████████████████████████████████████████████████████████▎                         \u001b[0m| 163/236 [00:41<00:27,  2.62it/s]\u001b[0m"
     ]
    },
    {
     "name": "stdout",
     "output_type": "stream",
     "text": [
      "Warning: stress tensor calculation not fully tested\n"
     ]
    },
    {
     "name": "stderr",
     "output_type": "stream",
     "text": [
      " 69%|\u001b[38;2;128;0;0m█████████████████████████████████████████████████████████▋                         \u001b[0m| 164/236 [00:41<00:27,  2.63it/s]\u001b[0m"
     ]
    },
    {
     "name": "stdout",
     "output_type": "stream",
     "text": [
      "Warning: stress tensor calculation not fully tested\n"
     ]
    },
    {
     "name": "stderr",
     "output_type": "stream",
     "text": [
      " 70%|\u001b[38;2;128;0;0m██████████████████████████████████████████████████████████                         \u001b[0m| 165/236 [00:41<00:27,  2.63it/s]\u001b[0m"
     ]
    },
    {
     "name": "stdout",
     "output_type": "stream",
     "text": [
      "Warning: stress tensor calculation not fully tested\n"
     ]
    },
    {
     "name": "stderr",
     "output_type": "stream",
     "text": [
      " 70%|\u001b[38;2;128;0;0m██████████████████████████████████████████████████████████▍                        \u001b[0m| 166/236 [00:42<00:26,  2.65it/s]\u001b[0m"
     ]
    },
    {
     "name": "stdout",
     "output_type": "stream",
     "text": [
      "Warning: stress tensor calculation not fully tested\n"
     ]
    },
    {
     "name": "stderr",
     "output_type": "stream",
     "text": [
      " 71%|\u001b[38;2;128;0;0m██████████████████████████████████████████████████████████▋                        \u001b[0m| 167/236 [00:42<00:26,  2.62it/s]\u001b[0m"
     ]
    },
    {
     "name": "stdout",
     "output_type": "stream",
     "text": [
      "Warning: stress tensor calculation not fully tested\n"
     ]
    },
    {
     "name": "stderr",
     "output_type": "stream",
     "text": [
      " 71%|\u001b[38;2;128;0;0m███████████████████████████████████████████████████████████                        \u001b[0m| 168/236 [00:42<00:25,  2.62it/s]\u001b[0m"
     ]
    },
    {
     "name": "stdout",
     "output_type": "stream",
     "text": [
      "Warning: stress tensor calculation not fully tested\n"
     ]
    },
    {
     "name": "stderr",
     "output_type": "stream",
     "text": [
      " 72%|\u001b[38;2;128;0;0m███████████████████████████████████████████████████████████▍                       \u001b[0m| 169/236 [00:43<00:26,  2.57it/s]\u001b[0m"
     ]
    },
    {
     "name": "stdout",
     "output_type": "stream",
     "text": [
      "Warning: stress tensor calculation not fully tested\n"
     ]
    },
    {
     "name": "stderr",
     "output_type": "stream",
     "text": [
      " 72%|\u001b[38;2;128;0;0m███████████████████████████████████████████████████████████▊                       \u001b[0m| 170/236 [00:43<00:25,  2.56it/s]\u001b[0m"
     ]
    },
    {
     "name": "stdout",
     "output_type": "stream",
     "text": [
      "Warning: stress tensor calculation not fully tested\n"
     ]
    },
    {
     "name": "stderr",
     "output_type": "stream",
     "text": [
      " 72%|\u001b[38;2;128;0;0m████████████████████████████████████████████████████████████▏                      \u001b[0m| 171/236 [00:44<00:24,  2.60it/s]\u001b[0m"
     ]
    },
    {
     "name": "stdout",
     "output_type": "stream",
     "text": [
      "Warning: stress tensor calculation not fully tested\n"
     ]
    },
    {
     "name": "stderr",
     "output_type": "stream",
     "text": [
      " 73%|\u001b[38;2;128;0;0m████████████████████████████████████████████████████████████▍                      \u001b[0m| 172/236 [00:44<00:24,  2.60it/s]\u001b[0m"
     ]
    },
    {
     "name": "stdout",
     "output_type": "stream",
     "text": [
      "Warning: stress tensor calculation not fully tested\n"
     ]
    },
    {
     "name": "stderr",
     "output_type": "stream",
     "text": [
      " 73%|\u001b[38;2;128;0;0m████████████████████████████████████████████████████████████▊                      \u001b[0m| 173/236 [00:44<00:24,  2.57it/s]\u001b[0m"
     ]
    },
    {
     "name": "stdout",
     "output_type": "stream",
     "text": [
      "Warning: stress tensor calculation not fully tested\n"
     ]
    },
    {
     "name": "stderr",
     "output_type": "stream",
     "text": [
      " 74%|\u001b[38;2;128;0;0m█████████████████████████████████████████████████████████████▏                     \u001b[0m| 174/236 [00:45<00:23,  2.60it/s]\u001b[0m"
     ]
    },
    {
     "name": "stdout",
     "output_type": "stream",
     "text": [
      "Warning: stress tensor calculation not fully tested\n"
     ]
    },
    {
     "name": "stderr",
     "output_type": "stream",
     "text": [
      " 74%|\u001b[38;2;128;0;0m█████████████████████████████████████████████████████████████▌                     \u001b[0m| 175/236 [00:45<00:23,  2.58it/s]\u001b[0m"
     ]
    },
    {
     "name": "stdout",
     "output_type": "stream",
     "text": [
      "Warning: stress tensor calculation not fully tested\n"
     ]
    },
    {
     "name": "stderr",
     "output_type": "stream",
     "text": [
      " 75%|\u001b[38;2;128;0;0m█████████████████████████████████████████████████████████████▉                     \u001b[0m| 176/236 [00:46<00:23,  2.60it/s]\u001b[0m"
     ]
    },
    {
     "name": "stdout",
     "output_type": "stream",
     "text": [
      "Warning: stress tensor calculation not fully tested\n"
     ]
    },
    {
     "name": "stderr",
     "output_type": "stream",
     "text": [
      " 75%|\u001b[38;2;128;0;0m██████████████████████████████████████████████████████████████▎                    \u001b[0m| 177/236 [00:46<00:22,  2.62it/s]\u001b[0m"
     ]
    },
    {
     "name": "stdout",
     "output_type": "stream",
     "text": [
      "Warning: stress tensor calculation not fully tested\n"
     ]
    },
    {
     "name": "stderr",
     "output_type": "stream",
     "text": [
      " 75%|\u001b[38;2;128;0;0m██████████████████████████████████████████████████████████████▌                    \u001b[0m| 178/236 [00:46<00:22,  2.59it/s]\u001b[0m"
     ]
    },
    {
     "name": "stdout",
     "output_type": "stream",
     "text": [
      "Warning: stress tensor calculation not fully tested\n"
     ]
    },
    {
     "name": "stderr",
     "output_type": "stream",
     "text": [
      " 76%|\u001b[38;2;128;0;0m██████████████████████████████████████████████████████████████▉                    \u001b[0m| 179/236 [00:47<00:21,  2.62it/s]\u001b[0m"
     ]
    },
    {
     "name": "stdout",
     "output_type": "stream",
     "text": [
      "Warning: stress tensor calculation not fully tested\n"
     ]
    },
    {
     "name": "stderr",
     "output_type": "stream",
     "text": [
      " 76%|\u001b[38;2;128;0;0m███████████████████████████████████████████████████████████████▎                   \u001b[0m| 180/236 [00:47<00:21,  2.64it/s]\u001b[0m"
     ]
    },
    {
     "name": "stdout",
     "output_type": "stream",
     "text": [
      "Warning: stress tensor calculation not fully tested\n"
     ]
    },
    {
     "name": "stderr",
     "output_type": "stream",
     "text": [
      " 77%|\u001b[38;2;128;0;0m███████████████████████████████████████████████████████████████▋                   \u001b[0m| 181/236 [00:47<00:20,  2.65it/s]\u001b[0m"
     ]
    },
    {
     "name": "stdout",
     "output_type": "stream",
     "text": [
      "Warning: stress tensor calculation not fully tested\n"
     ]
    },
    {
     "name": "stderr",
     "output_type": "stream",
     "text": [
      " 77%|\u001b[38;2;128;0;0m████████████████████████████████████████████████████████████████                   \u001b[0m| 182/236 [00:48<00:20,  2.66it/s]\u001b[0m"
     ]
    },
    {
     "name": "stdout",
     "output_type": "stream",
     "text": [
      "Warning: stress tensor calculation not fully tested\n"
     ]
    },
    {
     "name": "stderr",
     "output_type": "stream",
     "text": [
      " 78%|\u001b[38;2;128;0;0m████████████████████████████████████████████████████████████████▎                  \u001b[0m| 183/236 [00:48<00:19,  2.66it/s]\u001b[0m"
     ]
    },
    {
     "name": "stdout",
     "output_type": "stream",
     "text": [
      "Warning: stress tensor calculation not fully tested\n"
     ]
    },
    {
     "name": "stderr",
     "output_type": "stream",
     "text": [
      " 78%|\u001b[38;2;128;0;0m████████████████████████████████████████████████████████████████▋                  \u001b[0m| 184/236 [00:49<00:19,  2.61it/s]\u001b[0m"
     ]
    },
    {
     "name": "stdout",
     "output_type": "stream",
     "text": [
      "Warning: stress tensor calculation not fully tested\n"
     ]
    },
    {
     "name": "stderr",
     "output_type": "stream",
     "text": [
      " 78%|\u001b[38;2;128;0;0m█████████████████████████████████████████████████████████████████                  \u001b[0m| 185/236 [00:49<00:19,  2.63it/s]\u001b[0m"
     ]
    },
    {
     "name": "stdout",
     "output_type": "stream",
     "text": [
      "Warning: stress tensor calculation not fully tested\n"
     ]
    },
    {
     "name": "stderr",
     "output_type": "stream",
     "text": [
      " 79%|\u001b[38;2;128;0;0m█████████████████████████████████████████████████████████████████▍                 \u001b[0m| 186/236 [00:49<00:18,  2.66it/s]\u001b[0m"
     ]
    },
    {
     "name": "stdout",
     "output_type": "stream",
     "text": [
      "Warning: stress tensor calculation not fully tested\n"
     ]
    },
    {
     "name": "stderr",
     "output_type": "stream",
     "text": [
      " 79%|\u001b[38;2;128;0;0m█████████████████████████████████████████████████████████████████▊                 \u001b[0m| 187/236 [00:50<00:18,  2.64it/s]\u001b[0m"
     ]
    },
    {
     "name": "stdout",
     "output_type": "stream",
     "text": [
      "Warning: stress tensor calculation not fully tested\n"
     ]
    },
    {
     "name": "stderr",
     "output_type": "stream",
     "text": [
      " 80%|\u001b[38;2;128;0;0m██████████████████████████████████████████████████████████████████                 \u001b[0m| 188/236 [00:50<00:18,  2.54it/s]\u001b[0m"
     ]
    },
    {
     "name": "stdout",
     "output_type": "stream",
     "text": [
      "Warning: stress tensor calculation not fully tested\n"
     ]
    },
    {
     "name": "stderr",
     "output_type": "stream",
     "text": [
      " 80%|\u001b[38;2;128;0;0m██████████████████████████████████████████████████████████████████▍                \u001b[0m| 189/236 [00:51<00:18,  2.56it/s]\u001b[0m"
     ]
    },
    {
     "name": "stdout",
     "output_type": "stream",
     "text": [
      "Warning: stress tensor calculation not fully tested\n"
     ]
    },
    {
     "name": "stderr",
     "output_type": "stream",
     "text": [
      " 81%|\u001b[38;2;128;0;0m██████████████████████████████████████████████████████████████████▊                \u001b[0m| 190/236 [00:51<00:17,  2.61it/s]\u001b[0m"
     ]
    },
    {
     "name": "stdout",
     "output_type": "stream",
     "text": [
      "Warning: stress tensor calculation not fully tested\n"
     ]
    },
    {
     "name": "stderr",
     "output_type": "stream",
     "text": [
      " 81%|\u001b[38;2;128;0;0m███████████████████████████████████████████████████████████████████▏               \u001b[0m| 191/236 [00:51<00:17,  2.64it/s]\u001b[0m"
     ]
    },
    {
     "name": "stdout",
     "output_type": "stream",
     "text": [
      "Warning: stress tensor calculation not fully tested\n"
     ]
    },
    {
     "name": "stderr",
     "output_type": "stream",
     "text": [
      " 81%|\u001b[38;2;128;0;0m███████████████████████████████████████████████████████████████████▌               \u001b[0m| 192/236 [00:52<00:16,  2.64it/s]\u001b[0m"
     ]
    },
    {
     "name": "stdout",
     "output_type": "stream",
     "text": [
      "Warning: stress tensor calculation not fully tested\n"
     ]
    },
    {
     "name": "stderr",
     "output_type": "stream",
     "text": [
      " 82%|\u001b[38;2;128;0;0m███████████████████████████████████████████████████████████████████▉               \u001b[0m| 193/236 [00:52<00:16,  2.60it/s]\u001b[0m"
     ]
    },
    {
     "name": "stdout",
     "output_type": "stream",
     "text": [
      "Warning: stress tensor calculation not fully tested\n"
     ]
    },
    {
     "name": "stderr",
     "output_type": "stream",
     "text": [
      " 82%|\u001b[38;2;128;0;0m████████████████████████████████████████████████████████████████████▏              \u001b[0m| 194/236 [00:52<00:16,  2.62it/s]\u001b[0m"
     ]
    },
    {
     "name": "stdout",
     "output_type": "stream",
     "text": [
      "Warning: stress tensor calculation not fully tested\n"
     ]
    },
    {
     "name": "stderr",
     "output_type": "stream",
     "text": [
      " 83%|\u001b[38;2;128;0;0m████████████████████████████████████████████████████████████████████▌              \u001b[0m| 195/236 [00:53<00:15,  2.63it/s]\u001b[0m"
     ]
    },
    {
     "name": "stdout",
     "output_type": "stream",
     "text": [
      "Warning: stress tensor calculation not fully tested\n"
     ]
    },
    {
     "name": "stderr",
     "output_type": "stream",
     "text": [
      " 83%|\u001b[38;2;128;0;0m████████████████████████████████████████████████████████████████████▉              \u001b[0m| 196/236 [00:53<00:15,  2.60it/s]\u001b[0m"
     ]
    },
    {
     "name": "stdout",
     "output_type": "stream",
     "text": [
      "Warning: stress tensor calculation not fully tested\n"
     ]
    },
    {
     "name": "stderr",
     "output_type": "stream",
     "text": [
      " 83%|\u001b[38;2;128;0;0m█████████████████████████████████████████████████████████████████████▎             \u001b[0m| 197/236 [00:54<00:15,  2.57it/s]\u001b[0m"
     ]
    },
    {
     "name": "stdout",
     "output_type": "stream",
     "text": [
      "Warning: stress tensor calculation not fully tested\n"
     ]
    },
    {
     "name": "stderr",
     "output_type": "stream",
     "text": [
      " 84%|\u001b[38;2;128;0;0m█████████████████████████████████████████████████████████████████████▋             \u001b[0m| 198/236 [00:54<00:14,  2.59it/s]\u001b[0m"
     ]
    },
    {
     "name": "stdout",
     "output_type": "stream",
     "text": [
      "Warning: stress tensor calculation not fully tested\n"
     ]
    },
    {
     "name": "stderr",
     "output_type": "stream",
     "text": [
      " 84%|\u001b[38;2;128;0;0m█████████████████████████████████████████████████████████████████████▉             \u001b[0m| 199/236 [00:54<00:14,  2.61it/s]\u001b[0m"
     ]
    },
    {
     "name": "stdout",
     "output_type": "stream",
     "text": [
      "Warning: stress tensor calculation not fully tested\n"
     ]
    },
    {
     "name": "stderr",
     "output_type": "stream",
     "text": [
      " 85%|\u001b[38;2;128;0;0m██████████████████████████████████████████████████████████████████████▎            \u001b[0m| 200/236 [00:55<00:13,  2.62it/s]\u001b[0m"
     ]
    },
    {
     "name": "stdout",
     "output_type": "stream",
     "text": [
      "Warning: stress tensor calculation not fully tested\n"
     ]
    },
    {
     "name": "stderr",
     "output_type": "stream",
     "text": [
      " 85%|\u001b[38;2;128;0;0m██████████████████████████████████████████████████████████████████████▋            \u001b[0m| 201/236 [00:55<00:13,  2.59it/s]\u001b[0m"
     ]
    },
    {
     "name": "stdout",
     "output_type": "stream",
     "text": [
      "Warning: stress tensor calculation not fully tested\n"
     ]
    },
    {
     "name": "stderr",
     "output_type": "stream",
     "text": [
      " 86%|\u001b[38;2;128;0;0m███████████████████████████████████████████████████████████████████████            \u001b[0m| 202/236 [00:56<00:13,  2.60it/s]\u001b[0m"
     ]
    },
    {
     "name": "stdout",
     "output_type": "stream",
     "text": [
      "Warning: stress tensor calculation not fully tested\n"
     ]
    },
    {
     "name": "stderr",
     "output_type": "stream",
     "text": [
      " 86%|\u001b[38;2;128;0;0m███████████████████████████████████████████████████████████████████████▍           \u001b[0m| 203/236 [00:56<00:12,  2.62it/s]\u001b[0m"
     ]
    },
    {
     "name": "stdout",
     "output_type": "stream",
     "text": [
      "Warning: stress tensor calculation not fully tested\n"
     ]
    },
    {
     "name": "stderr",
     "output_type": "stream",
     "text": [
      " 86%|\u001b[38;2;128;0;0m███████████████████████████████████████████████████████████████████████▋           \u001b[0m| 204/236 [00:56<00:12,  2.63it/s]\u001b[0m"
     ]
    },
    {
     "name": "stdout",
     "output_type": "stream",
     "text": [
      "Warning: stress tensor calculation not fully tested\n"
     ]
    },
    {
     "name": "stderr",
     "output_type": "stream",
     "text": [
      " 87%|\u001b[38;2;128;0;0m████████████████████████████████████████████████████████████████████████           \u001b[0m| 205/236 [00:57<00:11,  2.65it/s]\u001b[0m"
     ]
    },
    {
     "name": "stdout",
     "output_type": "stream",
     "text": [
      "Warning: stress tensor calculation not fully tested\n"
     ]
    },
    {
     "name": "stderr",
     "output_type": "stream",
     "text": [
      " 87%|\u001b[38;2;128;0;0m████████████████████████████████████████████████████████████████████████▍          \u001b[0m| 206/236 [00:57<00:11,  2.67it/s]\u001b[0m"
     ]
    },
    {
     "name": "stdout",
     "output_type": "stream",
     "text": [
      "Warning: stress tensor calculation not fully tested\n"
     ]
    },
    {
     "name": "stderr",
     "output_type": "stream",
     "text": [
      " 88%|\u001b[38;2;128;0;0m████████████████████████████████████████████████████████████████████████▊          \u001b[0m| 207/236 [00:57<00:10,  2.69it/s]\u001b[0m"
     ]
    },
    {
     "name": "stdout",
     "output_type": "stream",
     "text": [
      "Warning: stress tensor calculation not fully tested\n"
     ]
    },
    {
     "name": "stderr",
     "output_type": "stream",
     "text": [
      " 88%|\u001b[38;2;128;0;0m█████████████████████████████████████████████████████████████████████████▏         \u001b[0m| 208/236 [00:58<00:10,  2.68it/s]\u001b[0m"
     ]
    },
    {
     "name": "stdout",
     "output_type": "stream",
     "text": [
      "Warning: stress tensor calculation not fully tested\n"
     ]
    },
    {
     "name": "stderr",
     "output_type": "stream",
     "text": [
      " 89%|\u001b[38;2;128;0;0m█████████████████████████████████████████████████████████████████████████▌         \u001b[0m| 209/236 [00:58<00:09,  2.71it/s]\u001b[0m"
     ]
    },
    {
     "name": "stdout",
     "output_type": "stream",
     "text": [
      "Warning: stress tensor calculation not fully tested\n"
     ]
    },
    {
     "name": "stderr",
     "output_type": "stream",
     "text": [
      " 89%|\u001b[38;2;128;0;0m█████████████████████████████████████████████████████████████████████████▊         \u001b[0m| 210/236 [00:59<00:09,  2.68it/s]\u001b[0m"
     ]
    },
    {
     "name": "stdout",
     "output_type": "stream",
     "text": [
      "Warning: stress tensor calculation not fully tested\n"
     ]
    },
    {
     "name": "stderr",
     "output_type": "stream",
     "text": [
      " 89%|\u001b[38;2;128;0;0m██████████████████████████████████████████████████████████████████████████▏        \u001b[0m| 211/236 [00:59<00:09,  2.62it/s]\u001b[0m"
     ]
    },
    {
     "name": "stdout",
     "output_type": "stream",
     "text": [
      "Warning: stress tensor calculation not fully tested\n"
     ]
    },
    {
     "name": "stderr",
     "output_type": "stream",
     "text": [
      " 90%|\u001b[38;2;128;0;0m██████████████████████████████████████████████████████████████████████████▌        \u001b[0m| 212/236 [00:59<00:09,  2.64it/s]\u001b[0m"
     ]
    },
    {
     "name": "stdout",
     "output_type": "stream",
     "text": [
      "Warning: stress tensor calculation not fully tested\n"
     ]
    },
    {
     "name": "stderr",
     "output_type": "stream",
     "text": [
      " 90%|\u001b[38;2;128;0;0m██████████████████████████████████████████████████████████████████████████▉        \u001b[0m| 213/236 [01:00<00:08,  2.65it/s]\u001b[0m"
     ]
    },
    {
     "name": "stdout",
     "output_type": "stream",
     "text": [
      "Warning: stress tensor calculation not fully tested\n"
     ]
    },
    {
     "name": "stderr",
     "output_type": "stream",
     "text": [
      " 91%|\u001b[38;2;128;0;0m███████████████████████████████████████████████████████████████████████████▎       \u001b[0m| 214/236 [01:00<00:08,  2.62it/s]\u001b[0m"
     ]
    },
    {
     "name": "stdout",
     "output_type": "stream",
     "text": [
      "Warning: stress tensor calculation not fully tested\n"
     ]
    },
    {
     "name": "stderr",
     "output_type": "stream",
     "text": [
      " 91%|\u001b[38;2;128;0;0m███████████████████████████████████████████████████████████████████████████▌       \u001b[0m| 215/236 [01:00<00:08,  2.57it/s]\u001b[0m"
     ]
    },
    {
     "name": "stdout",
     "output_type": "stream",
     "text": [
      "Warning: stress tensor calculation not fully tested\n"
     ]
    },
    {
     "name": "stderr",
     "output_type": "stream",
     "text": [
      " 92%|\u001b[38;2;128;0;0m███████████████████████████████████████████████████████████████████████████▉       \u001b[0m| 216/236 [01:01<00:07,  2.59it/s]\u001b[0m"
     ]
    },
    {
     "name": "stdout",
     "output_type": "stream",
     "text": [
      "Warning: stress tensor calculation not fully tested\n"
     ]
    },
    {
     "name": "stderr",
     "output_type": "stream",
     "text": [
      " 92%|\u001b[38;2;128;0;0m████████████████████████████████████████████████████████████████████████████▎      \u001b[0m| 217/236 [01:01<00:07,  2.62it/s]\u001b[0m"
     ]
    },
    {
     "name": "stdout",
     "output_type": "stream",
     "text": [
      "Warning: stress tensor calculation not fully tested\n"
     ]
    },
    {
     "name": "stderr",
     "output_type": "stream",
     "text": [
      " 92%|\u001b[38;2;128;0;0m████████████████████████████████████████████████████████████████████████████▋      \u001b[0m| 218/236 [01:02<00:06,  2.64it/s]\u001b[0m"
     ]
    },
    {
     "name": "stdout",
     "output_type": "stream",
     "text": [
      "Warning: stress tensor calculation not fully tested\n"
     ]
    },
    {
     "name": "stderr",
     "output_type": "stream",
     "text": [
      " 93%|\u001b[38;2;128;0;0m█████████████████████████████████████████████████████████████████████████████      \u001b[0m| 219/236 [01:02<00:06,  2.66it/s]\u001b[0m"
     ]
    },
    {
     "name": "stdout",
     "output_type": "stream",
     "text": [
      "Warning: stress tensor calculation not fully tested\n"
     ]
    },
    {
     "name": "stderr",
     "output_type": "stream",
     "text": [
      " 93%|\u001b[38;2;128;0;0m█████████████████████████████████████████████████████████████████████████████▎     \u001b[0m| 220/236 [01:02<00:06,  2.66it/s]\u001b[0m"
     ]
    },
    {
     "name": "stdout",
     "output_type": "stream",
     "text": [
      "Warning: stress tensor calculation not fully tested\n"
     ]
    },
    {
     "name": "stderr",
     "output_type": "stream",
     "text": [
      " 94%|\u001b[38;2;128;0;0m█████████████████████████████████████████████████████████████████████████████▋     \u001b[0m| 221/236 [01:03<00:05,  2.67it/s]\u001b[0m"
     ]
    },
    {
     "name": "stdout",
     "output_type": "stream",
     "text": [
      "Warning: stress tensor calculation not fully tested\n"
     ]
    },
    {
     "name": "stderr",
     "output_type": "stream",
     "text": [
      " 94%|\u001b[38;2;128;0;0m██████████████████████████████████████████████████████████████████████████████     \u001b[0m| 222/236 [01:03<00:05,  2.68it/s]\u001b[0m"
     ]
    },
    {
     "name": "stdout",
     "output_type": "stream",
     "text": [
      "Warning: stress tensor calculation not fully tested\n"
     ]
    },
    {
     "name": "stderr",
     "output_type": "stream",
     "text": [
      " 94%|\u001b[38;2;128;0;0m██████████████████████████████████████████████████████████████████████████████▍    \u001b[0m| 223/236 [01:03<00:04,  2.63it/s]\u001b[0m"
     ]
    },
    {
     "name": "stdout",
     "output_type": "stream",
     "text": [
      "Warning: stress tensor calculation not fully tested\n"
     ]
    },
    {
     "name": "stderr",
     "output_type": "stream",
     "text": [
      " 95%|\u001b[38;2;128;0;0m██████████████████████████████████████████████████████████████████████████████▊    \u001b[0m| 224/236 [01:04<00:04,  2.73it/s]\u001b[0m"
     ]
    },
    {
     "name": "stdout",
     "output_type": "stream",
     "text": [
      "Warning: stress tensor calculation not fully tested\n"
     ]
    },
    {
     "name": "stderr",
     "output_type": "stream",
     "text": [
      " 95%|\u001b[38;2;128;0;0m███████████████████████████████████████████████████████████████████████████████▏   \u001b[0m| 225/236 [01:04<00:04,  2.74it/s]\u001b[0m"
     ]
    },
    {
     "name": "stdout",
     "output_type": "stream",
     "text": [
      "Warning: stress tensor calculation not fully tested\n"
     ]
    },
    {
     "name": "stderr",
     "output_type": "stream",
     "text": [
      " 96%|\u001b[38;2;128;0;0m███████████████████████████████████████████████████████████████████████████████▍   \u001b[0m| 226/236 [01:05<00:03,  2.68it/s]\u001b[0m"
     ]
    },
    {
     "name": "stdout",
     "output_type": "stream",
     "text": [
      "Warning: stress tensor calculation not fully tested\n"
     ]
    },
    {
     "name": "stderr",
     "output_type": "stream",
     "text": [
      " 96%|\u001b[38;2;128;0;0m███████████████████████████████████████████████████████████████████████████████▊   \u001b[0m| 227/236 [01:05<00:03,  2.69it/s]\u001b[0m"
     ]
    },
    {
     "name": "stdout",
     "output_type": "stream",
     "text": [
      "Warning: stress tensor calculation not fully tested\n"
     ]
    },
    {
     "name": "stderr",
     "output_type": "stream",
     "text": [
      " 97%|\u001b[38;2;128;0;0m████████████████████████████████████████████████████████████████████████████████▏  \u001b[0m| 228/236 [01:05<00:03,  2.64it/s]\u001b[0m"
     ]
    },
    {
     "name": "stdout",
     "output_type": "stream",
     "text": [
      "Warning: stress tensor calculation not fully tested\n"
     ]
    },
    {
     "name": "stderr",
     "output_type": "stream",
     "text": [
      " 97%|\u001b[38;2;128;0;0m████████████████████████████████████████████████████████████████████████████████▌  \u001b[0m| 229/236 [01:06<00:02,  2.65it/s]\u001b[0m"
     ]
    },
    {
     "name": "stdout",
     "output_type": "stream",
     "text": [
      "Warning: stress tensor calculation not fully tested\n"
     ]
    },
    {
     "name": "stderr",
     "output_type": "stream",
     "text": [
      " 97%|\u001b[38;2;128;0;0m████████████████████████████████████████████████████████████████████████████████▉  \u001b[0m| 230/236 [01:06<00:02,  2.67it/s]\u001b[0m"
     ]
    },
    {
     "name": "stdout",
     "output_type": "stream",
     "text": [
      "Warning: stress tensor calculation not fully tested\n"
     ]
    },
    {
     "name": "stderr",
     "output_type": "stream",
     "text": [
      " 98%|\u001b[38;2;128;0;0m█████████████████████████████████████████████████████████████████████████████████▏ \u001b[0m| 231/236 [01:06<00:01,  2.66it/s]\u001b[0m"
     ]
    },
    {
     "name": "stdout",
     "output_type": "stream",
     "text": [
      "Warning: stress tensor calculation not fully tested\n"
     ]
    },
    {
     "name": "stderr",
     "output_type": "stream",
     "text": [
      " 98%|\u001b[38;2;128;0;0m█████████████████████████████████████████████████████████████████████████████████▌ \u001b[0m| 232/236 [01:07<00:01,  2.65it/s]\u001b[0m"
     ]
    },
    {
     "name": "stdout",
     "output_type": "stream",
     "text": [
      "Warning: stress tensor calculation not fully tested\n"
     ]
    },
    {
     "name": "stderr",
     "output_type": "stream",
     "text": [
      " 99%|\u001b[38;2;128;0;0m█████████████████████████████████████████████████████████████████████████████████▉ \u001b[0m| 233/236 [01:07<00:01,  2.67it/s]\u001b[0m"
     ]
    },
    {
     "name": "stdout",
     "output_type": "stream",
     "text": [
      "Warning: stress tensor calculation not fully tested\n"
     ]
    },
    {
     "name": "stderr",
     "output_type": "stream",
     "text": [
      " 99%|\u001b[38;2;128;0;0m██████████████████████████████████████████████████████████████████████████████████▎\u001b[0m| 234/236 [01:08<00:00,  2.62it/s]\u001b[0m"
     ]
    },
    {
     "name": "stdout",
     "output_type": "stream",
     "text": [
      "Warning: stress tensor calculation not fully tested\n"
     ]
    },
    {
     "name": "stderr",
     "output_type": "stream",
     "text": [
      "100%|\u001b[38;2;128;0;0m██████████████████████████████████████████████████████████████████████████████████▋\u001b[0m| 235/236 [01:08<00:00,  2.64it/s]\u001b[0m"
     ]
    },
    {
     "name": "stdout",
     "output_type": "stream",
     "text": [
      "Warning: stress tensor calculation not fully tested\n"
     ]
    },
    {
     "name": "stderr",
     "output_type": "stream",
     "text": [
      "100%|\u001b[38;2;128;0;0m███████████████████████████████████████████████████████████████████████████████████\u001b[0m| 236/236 [01:08<00:00,  3.43it/s]\u001b[0m\n"
     ]
    }
   ],
   "source": [
    "from ccs_fit.scripts.ccs_validate import ccs_validate\n",
    "ccs_validate(mode=\"CCS\",CCS_params=\"CCS_params.json\",DFT_DB=\"DFT.db\")"
   ]
  },
  {
   "cell_type": "code",
   "execution_count": 34,
   "id": "26234bd3",
   "metadata": {},
   "outputs": [
    {
     "data": {
      "image/png": "[encoded data removed]",
      "text/plain": [
       "<Figure size 640x480 with 1 Axes>"
      ]
     },
     "metadata": {},
     "output_type": "display_data"
    },
    {
     "data": {
      "image/png": "[encoded data removed]",
      "text/plain": [
       "<Figure size 640x480 with 1 Axes>"
      ]
     },
     "metadata": {},
     "output_type": "display_data"
    }
   ],
   "source": [
    "try:\n",
    "    err=np.loadtxt(\"CCS_validate.dat\")\n",
    "    plt.xlabel('Reference energy (eV)')\n",
    "    plt.ylabel('Validation energy (eV)')\n",
    "    plt.plot( [min(err[:,0]),max(err[:,0])],[min(err[:,0]),max(err[:,0])],'--',color='black'  )\n",
    "    plt.scatter(err[:,0],err[:,1],facecolors='none', edgecolors='red')\n",
    "    plt.show()\n",
    "    plt.xlabel('Reference energy (eV)')\n",
    "    plt.ylabel('Error in fit (eV)')\n",
    "    plt.scatter(err[:,0],err[:,2],facecolors='none', edgecolors='red')\n",
    "    plt.show()\n",
    "except:\n",
    "    pass"
   ]
  },
  {
   "cell_type": "markdown",
   "id": "34edf9a9",
   "metadata": {},
   "source": [
    "### Cleaning up"
   ]
  },
  {
   "cell_type": "code",
   "execution_count": 11,
   "id": "6b63718b",
   "metadata": {},
   "outputs": [],
   "source": [
    "# import glob\n",
    "\n",
    "# def rm(file):\n",
    "#     try:\n",
    "#         os.remove(file)\n",
    "#     except OSError:\n",
    "#         pass\n",
    "\n",
    "\n",
    "# list=glob.glob(\"CALCULATED_DATA/*\")\n",
    "# for file in list:\n",
    "#     rm(file)\n",
    "# list=glob.glob(\"CCS_*\")\n",
    "# for file in list:\n",
    "#     rm(file)\n",
    "# list=glob.glob(\"UNC_*\")\n",
    "# for file in list:\n",
    "#     rm(file)\n",
    "# rm(\"structures.json\")\n",
    "# rm(\"file_list\")\n",
    "# rm(\"LJ.db\")"
   ]
  },
  {
   "cell_type": "markdown",
   "id": "1bb3295f-817b-4618-b63d-e019598b2a46",
   "metadata": {},
   "source": [
    "### Convex hull"
   ]
  },
  {
   "cell_type": "code",
   "execution_count": 12,
   "id": "291f7065-302e-4605-80fa-d8dd4c16137a",
   "metadata": {
    "tags": []
   },
   "outputs": [
    {
     "ename": "NameError",
     "evalue": "name 'io' is not defined",
     "output_type": "error",
     "traceback": [
      "\u001b[1;31m---------------------------------------------------------------------------\u001b[0m",
      "\u001b[1;31mNameError\u001b[0m                                 Traceback (most recent call last)",
      "Cell \u001b[1;32mIn[12], line 1\u001b[0m\n\u001b[1;32m----> 1\u001b[0m struct_no_Li \u001b[38;5;241m=\u001b[39m \u001b[43mio\u001b[49m\u001b[38;5;241m.\u001b[39mread(\u001b[38;5;124m'\u001b[39m\u001b[38;5;124mDFT.db@21\u001b[39m\u001b[38;5;124m'\u001b[39m)\n\u001b[0;32m      2\u001b[0m struct_full_Li \u001b[38;5;241m=\u001b[39m io\u001b[38;5;241m.\u001b[39mread(\u001b[38;5;124m'\u001b[39m\u001b[38;5;124mDFT.db@10\u001b[39m\u001b[38;5;124m'\u001b[39m)\n\u001b[0;32m      4\u001b[0m nrg_0 \u001b[38;5;241m=\u001b[39m struct_no_Li\u001b[38;5;241m.\u001b[39mget_potential_energy()\n",
      "\u001b[1;31mNameError\u001b[0m: name 'io' is not defined"
     ]
    }
   ],
   "source": [
    "struct_no_Li = io.read('DFT.db@21')\n",
    "struct_full_Li = io.read('DFT.db@10')\n",
    "\n",
    "nrg_0 = struct_no_Li.get_potential_energy()\n",
    "nrg_1 = struct_full_Li.get_potential_energy()\n",
    "\n",
    "print(struct_no_Li.get_chemical_formula())\n",
    "print(struct_full_Li.get_chemical_formula())"
   ]
  },
  {
   "cell_type": "code",
   "execution_count": 13,
   "id": "779408c2-46fc-4f36-8065-4a9b4c993a5d",
   "metadata": {},
   "outputs": [
    {
     "data": {
      "text/plain": [
       "Text(0, 0.5, 'Energy')"
      ]
     },
     "execution_count": 13,
     "metadata": {},
     "output_type": "execute_result"
    },
    {
     "data": {
      "image/png": "[encoded data removed]",
      "text/plain": [
       "<Figure size 640x480 with 1 Axes>"
      ]
     },
     "metadata": {},
     "output_type": "display_data"
    }
   ],
   "source": [
    "# CCS\n",
    "from ccs_fit.ase_calculator.ccs_ase_calculator import CCS \n",
    "from ase import io\n",
    "import json\n",
    "import ase.db as db\n",
    "import matplotlib.pyplot as plt\n",
    "\n",
    "with open(\"CCS_params.json\", 'r') as f:\n",
    "    CCS_params = json.load(f)\n",
    "\n",
    "nrg_Li = CCS_params['One_body']['Li']\n",
    "    \n",
    "CCS_calc=CCS(CCS_params=CCS_params)\n",
    "    \n",
    "DFT_DB = db.connect('DFT.db')\n",
    "    \n",
    "xs = []\n",
    "CCS_nrgs = []\n",
    "\n",
    "i = 0\n",
    "\n",
    "struct_no_Li_CCS = struct_no_Li.copy()\n",
    "struct_full_Li_CCS = struct_full_Li.copy()\n",
    "\n",
    "struct_no_Li_CCS.calc = CCS_calc\n",
    "struct_full_Li_CCS.calc = CCS_calc\n",
    "\n",
    "ECCS_no_Li = struct_no_Li_CCS.get_potential_energy()\n",
    "ECCS_full_Li = struct_full_Li_CCS.get_potential_energy()\n",
    "\n",
    "for row in DFT_DB.select():\n",
    "    structure = row.toatoms()\n",
    "    # print(structure.get_magnetic_moments())\n",
    "    elems = structure.get_chemical_symbols()\n",
    "    nr_Li = elems.count('Li')\n",
    "    nr_Ni = elems.count('Ni')\n",
    "    x = nr_Li/nr_Ni\n",
    "    EDFT = structure.get_potential_energy()\n",
    "    structure.calc = CCS_calc\n",
    "    ECCS = structure.get_potential_energy() - (ECCS_no_Li) - (ECCS_full_Li-ECCS_no_Li)/27*nr_Li\n",
    "    xs.append(x)\n",
    "    CCS_nrgs.append(ECCS)\n",
    "    i += 1\n",
    "\n",
    "plt.scatter(xs, CCS_nrgs)\n",
    "plt.xlabel(\"Li concentration\")\n",
    "plt.ylabel(\"Energy\")"
   ]
  },
  {
   "cell_type": "code",
   "execution_count": 4,
   "id": "4d6039ac-2120-4fb5-8463-749d3d8d5b6a",
   "metadata": {},
   "outputs": [
    {
     "name": "stdout",
     "output_type": "stream",
     "text": [
      "0 0.48148148148148145\n",
      "1 0.6296296296296297\n",
      "2 0.7407407407407407\n",
      "3 0.14814814814814814\n",
      "4 0.25925925925925924\n",
      "5 0.6666666666666666\n",
      "6 0.7407407407407407\n",
      "7 0.5925925925925926\n",
      "8 0.5555555555555556\n",
      "9 0.2962962962962963\n",
      "10 1.0\n",
      "11 0.37037037037037035\n",
      "12 0.6296296296296297\n",
      "13 0.14814814814814814\n",
      "14 0.037037037037037035\n",
      "15 0.8888888888888888\n",
      "16 0.18518518518518517\n",
      "17 0.8518518518518519\n",
      "18 0.2222222222222222\n",
      "19 0.7037037037037037\n",
      "20 0.4444444444444444\n",
      "21 0.0\n",
      "22 0.07407407407407407\n",
      "23 0.4074074074074074\n",
      "24 0.18518518518518517\n",
      "25 0.4444444444444444\n",
      "26 0.25925925925925924\n",
      "27 0.14814814814814814\n",
      "28 0.8148148148148148\n",
      "29 0.48148148148148145\n",
      "30 0.3333333333333333\n",
      "31 0.2962962962962963\n",
      "32 0.5185185185185185\n",
      "33 0.25925925925925924\n",
      "34 0.8148148148148148\n",
      "35 0.2222222222222222\n",
      "36 0.07407407407407407\n",
      "37 0.5925925925925926\n",
      "38 0.5555555555555556\n",
      "39 0.18518518518518517\n",
      "40 0.4444444444444444\n",
      "41 0.1111111111111111\n",
      "42 0.14814814814814814\n",
      "43 0.4074074074074074\n",
      "44 0.48148148148148145\n",
      "45 0.4074074074074074\n",
      "46 0.5185185185185185\n",
      "47 0.07407407407407407\n",
      "48 0.18518518518518517\n",
      "49 0.9629629629629629\n",
      "50 0.48148148148148145\n",
      "51 0.07407407407407407\n",
      "52 0.5555555555555556\n",
      "53 0.8888888888888888\n",
      "54 0.5185185185185185\n",
      "55 0.7407407407407407\n",
      "56 0.25925925925925924\n",
      "57 0.7777777777777778\n",
      "58 0.8518518518518519\n",
      "59 0.9259259259259259\n",
      "60 0.5185185185185185\n",
      "61 0.7777777777777778\n",
      "62 0.2222222222222222\n",
      "63 0.4444444444444444\n",
      "64 0.1111111111111111\n",
      "65 0.3333333333333333\n",
      "66 0.5925925925925926\n",
      "67 0.14814814814814814\n",
      "68 0.8148148148148148\n",
      "69 0.2222222222222222\n",
      "70 0.48148148148148145\n",
      "71 0.5185185185185185\n",
      "72 0.1111111111111111\n",
      "73 0.48148148148148145\n",
      "74 0.4074074074074074\n",
      "75 0.48148148148148145\n",
      "76 0.3333333333333333\n",
      "77 0.5185185185185185\n"
     ]
    },
    {
     "ename": "NameError",
     "evalue": "name 'plt' is not defined",
     "output_type": "error",
     "traceback": [
      "\u001b[1;31m---------------------------------------------------------------------------\u001b[0m",
      "\u001b[1;31mNameError\u001b[0m                                 Traceback (most recent call last)",
      "Cell \u001b[1;32mIn[4], line 36\u001b[0m\n\u001b[0;32m     33\u001b[0m     DFT_nrgs\u001b[38;5;241m.\u001b[39mappend(EDFT)\n\u001b[0;32m     34\u001b[0m     i \u001b[38;5;241m+\u001b[39m\u001b[38;5;241m=\u001b[39m \u001b[38;5;241m1\u001b[39m\n\u001b[1;32m---> 36\u001b[0m \u001b[43mplt\u001b[49m\u001b[38;5;241m.\u001b[39mscatter(xs, DFT_nrgs)\n\u001b[0;32m     37\u001b[0m plt\u001b[38;5;241m.\u001b[39mxlabel(\u001b[38;5;124m\"\u001b[39m\u001b[38;5;124mLi concentration\u001b[39m\u001b[38;5;124m\"\u001b[39m)\n\u001b[0;32m     38\u001b[0m plt\u001b[38;5;241m.\u001b[39mylabel(\u001b[38;5;124m\"\u001b[39m\u001b[38;5;124mEnergy\u001b[39m\u001b[38;5;124m\"\u001b[39m)\n",
      "\u001b[1;31mNameError\u001b[0m: name 'plt' is not defined"
     ]
    }
   ],
   "source": [
    "# CCS\n",
    "from ccs_fit.ase_calculator.ccs_ase_calculator import CCS \n",
    "from ase import io\n",
    "import json\n",
    "import ase.db as db\n",
    "\n",
    "with open(\"CCS_params.json\", 'r') as f:\n",
    "    CCS_params = json.load(f)\n",
    "\n",
    "nrg_Li = CCS_params['One_body']['Li']\n",
    "    \n",
    "CCS_calc=CCS(CCS_params=CCS_params)\n",
    "    \n",
    "DFT_DB = db.connect('DFT.db')\n",
    "    \n",
    "xs = []\n",
    "DFT_nrgs = []\n",
    "\n",
    "i = 0\n",
    "\n",
    "for row in DFT_DB.select():\n",
    "    structure = row.toatoms()\n",
    "    # print(i)\n",
    "    # print(dir(structure))\n",
    "    # print(structure.get_magnetic_moment())\n",
    "    elems = structure.get_chemical_symbols()\n",
    "    nr_Li = elems.count('Li')\n",
    "    nr_Ni = elems.count('Ni')\n",
    "    x = nr_Li/nr_Ni\n",
    "    print(i,x)\n",
    "    EDFT = structure.get_potential_energy() - (nrg_0) - (nrg_1-nrg_0)/27*nr_Li\n",
    "    xs.append(x)\n",
    "    DFT_nrgs.append(EDFT)\n",
    "    i += 1\n",
    "\n",
    "plt.scatter(xs, DFT_nrgs)\n",
    "plt.xlabel(\"Li concentration\")\n",
    "plt.ylabel(\"Energy\")"
   ]
  },
  {
   "cell_type": "code",
   "execution_count": 6,
   "id": "3131a848-f375-41c5-9cf7-d437aafb698a",
   "metadata": {},
   "outputs": [
    {
     "name": "stdout",
     "output_type": "stream",
     "text": [
      "      Step     Time          Energy         fmax\n",
      "BFGS:    0 10:48:52     -561.268213        0.1146\n",
      "BFGS:    1 10:48:54     -561.269643        0.1122\n",
      "BFGS:    2 10:48:56     -561.337006        0.0475\n",
      "BFGS:    3 10:48:58     -561.340016        0.0643\n",
      "BFGS:    4 10:49:01     -561.340464        0.0687\n",
      "BFGS:    5 10:49:03     -561.341483        0.0736\n",
      "BFGS:    6 10:49:05     -561.344638        0.0791\n",
      "BFGS:    7 10:49:07     -561.350090        0.0722\n",
      "BFGS:    8 10:49:09     -561.357177        0.0439\n",
      "BFGS:    9 10:49:10     -561.362048        0.0239\n",
      "BFGS:   10 10:49:12     -561.363869        0.0278\n",
      "BFGS:   11 10:49:14     -561.364192        0.0303\n",
      "BFGS:   12 10:49:15     -561.364356        0.0294\n",
      "BFGS:   13 10:49:17     -561.365060        0.0261\n",
      "BFGS:   14 10:49:19     -561.366362        0.0207\n",
      "BFGS:   15 10:49:21     -561.369031        0.0135\n",
      "BFGS:   16 10:49:23     -561.371671        0.0260\n",
      "BFGS:   17 10:49:25     -561.373150        0.0294\n",
      "BFGS:   18 10:49:28     -561.373529        0.0245\n",
      "BFGS:   19 10:49:29     -561.373612        0.0218\n",
      "BFGS:   20 10:49:32     -561.373841        0.0164\n",
      "BFGS:   21 10:49:34     -561.374337        0.0141\n",
      "BFGS:   22 10:49:36     -561.375568        0.0139\n",
      "BFGS:   23 10:49:38     -561.377556        0.0195\n",
      "BFGS:   24 10:49:40     -561.379205        0.0269\n",
      "BFGS:   25 10:49:42     -561.380124        0.0235\n",
      "BFGS:   26 10:49:45     -561.380414        0.0177\n",
      "BFGS:   27 10:49:47     -561.380486        0.0158\n",
      "BFGS:   28 10:49:49     -561.380758        0.0141\n",
      "BFGS:   29 10:49:51     -561.381295        0.0142\n",
      "BFGS:   30 10:49:53     -561.382508        0.0190\n",
      "BFGS:   31 10:49:55     -561.384597        0.0272\n",
      "BFGS:   32 10:49:57     -561.385790        0.0218\n",
      "BFGS:   33 10:49:59     -561.386220        0.0146\n",
      "BFGS:   34 10:50:01     -561.386286        0.0146\n",
      "BFGS:   35 10:50:04     -561.386384        0.0146\n",
      "BFGS:   36 10:50:06     -561.386581        0.0145\n",
      "BFGS:   37 10:50:08     -561.387048        0.0143\n",
      "BFGS:   38 10:50:10     -561.387897        0.0143\n",
      "BFGS:   39 10:50:12     -561.388917        0.0151\n",
      "BFGS:   40 10:50:14     -561.389582        0.0113\n",
      "BFGS:   41 10:50:16     -561.389757        0.0091\n",
      "BFGS:   42 10:50:19     -561.389794        0.0085\n",
      "BFGS:   43 10:50:21     -561.389839        0.0080\n",
      "BFGS:   44 10:50:23     -561.389954        0.0073\n",
      "BFGS:   45 10:50:25     -561.390208        0.0100\n",
      "BFGS:   46 10:50:27     -561.390703        0.0130\n",
      "BFGS:   47 10:50:29     -561.391301        0.0109\n",
      "BFGS:   48 10:50:31     -561.391583        0.0073\n",
      "BFGS:   49 10:50:33     -561.391642        0.0062\n",
      "BFGS:   50 10:50:35     -561.391658        0.0056\n",
      "BFGS:   51 10:50:37     -561.391681        0.0056\n",
      "BFGS:   52 10:50:40     -561.391739        0.0054\n",
      "BFGS:   53 10:50:42     -561.391864        0.0054\n",
      "BFGS:   54 10:50:44     -561.392066        0.0069\n",
      "BFGS:   55 10:50:46     -561.392266        0.0066\n",
      "BFGS:   56 10:50:48     -561.392350        0.0058\n",
      "BFGS:   57 10:50:50     -561.392368        0.0058\n",
      "BFGS:   58 10:50:52     -561.392377        0.0054\n",
      "BFGS:   59 10:50:54     -561.392397        0.0045\n",
      "BFGS:   60 10:50:56     -561.392443        0.0032\n",
      "BFGS:   61 10:50:58     -561.392535        0.0035\n",
      "BFGS:   62 10:51:00     -561.392665        0.0050\n",
      "BFGS:   63 10:51:02     -561.392749        0.0060\n",
      "BFGS:   64 10:51:04     -561.392770        0.0055\n",
      "BFGS:   65 10:51:06     -561.392778        0.0050\n",
      "BFGS:   66 10:51:08     -561.392787        0.0046\n",
      "BFGS:   67 10:51:10     -561.392813        0.0039\n",
      "BFGS:   68 10:51:12     -561.392865        0.0036\n",
      "BFGS:   69 10:51:15     -561.392958        0.0042\n",
      "BFGS:   70 10:51:17     -561.393052        0.0042\n",
      "BFGS:   71 10:51:19     -561.393095        0.0033\n",
      "BFGS:   72 10:51:21     -561.393105        0.0031\n",
      "BFGS:   73 10:51:23     -561.393109        0.0032\n",
      "BFGS:   74 10:51:25     -561.393117        0.0032\n",
      "BFGS:   75 10:51:27     -561.393134        0.0031\n",
      "BFGS:   76 10:51:29     -561.393173        0.0030\n",
      "BFGS:   77 10:51:31     -561.393241        0.0040\n",
      "BFGS:   78 10:51:33     -561.393323        0.0047\n",
      "BFGS:   79 10:51:35     -561.393351        0.0038\n",
      "BFGS:   80 10:51:37     -561.393361        0.0041\n",
      "BFGS:   81 10:51:40     -561.393364        0.0039\n",
      "BFGS:   82 10:51:42     -561.393379        0.0033\n",
      "BFGS:   83 10:51:43     -561.393404        0.0029\n",
      "BFGS:   84 10:51:46     -561.393453        0.0028\n",
      "BFGS:   85 10:51:48     -561.393502        0.0026\n",
      "BFGS:   86 10:51:50     -561.393529        0.0024\n",
      "BFGS:   87 10:51:52     -561.393535        0.0022\n",
      "BFGS:   88 10:51:54     -561.393537        0.0021\n",
      "BFGS:   89 10:51:56     -561.393539        0.0020\n",
      "BFGS:   90 10:51:58     -561.393546        0.0019\n",
      "BFGS:   91 10:52:04     -561.393562        0.0016\n",
      "BFGS:   92 10:52:06     -561.393590        0.0015\n",
      "BFGS:   93 10:52:08     -561.393626        0.0025\n",
      "BFGS:   94 10:52:10     -561.393652        0.0029\n",
      "BFGS:   95 10:52:12     -561.393659        0.0035\n",
      "BFGS:   96 10:52:15     -561.393662        0.0037\n",
      "BFGS:   97 10:52:17     -561.393666        0.0039\n",
      "BFGS:   98 10:52:19     -561.393678        0.0041\n",
      "BFGS:   99 10:52:21     -561.393704        0.0041\n",
      "BFGS:  100 10:52:23     -561.393749        0.0036\n",
      "BFGS:  101 10:52:25     -561.393799        0.0043\n",
      "BFGS:  102 10:52:28     -561.393821        0.0037\n",
      "BFGS:  103 10:52:30     -561.393829        0.0038\n",
      "BFGS:  104 10:52:32     -561.393831        0.0037\n",
      "BFGS:  105 10:52:34     -561.393838        0.0037\n",
      "BFGS:  106 10:52:37     -561.393855        0.0034\n",
      "BFGS:  107 10:52:39     -561.393893        0.0041\n",
      "BFGS:  108 10:52:41     -561.393952        0.0047\n",
      "BFGS:  109 10:52:44     -561.393996        0.0046\n",
      "BFGS:  110 10:52:46     -561.394017        0.0030\n",
      "BFGS:  111 10:52:48     -561.394020        0.0029\n",
      "BFGS:  112 10:52:51     -561.394022        0.0030\n",
      "BFGS:  113 10:52:53     -561.394028        0.0029\n",
      "BFGS:  114 10:52:55     -561.394045        0.0026\n",
      "BFGS:  115 10:52:57     -561.394070        0.0020\n",
      "BFGS:  116 10:53:00     -561.394095        0.0024\n",
      "BFGS:  117 10:53:03     -561.394105        0.0022\n",
      "BFGS:  118 10:53:05     -561.394108        0.0017\n",
      "BFGS:  119 10:53:33     -561.394109        0.0016\n",
      "BFGS:  120 10:53:40     -561.394111        0.0016\n",
      "BFGS:  121 10:53:44     -561.394116        0.0016\n",
      "BFGS:  122 10:53:48     -561.394126        0.0016\n",
      "BFGS:  123 10:53:52     -561.394142        0.0023\n",
      "BFGS:  124 10:53:55     -561.394157        0.0026\n",
      "BFGS:  125 10:53:58     -561.394163        0.0021\n",
      "BFGS:  126 10:54:02     -561.394164        0.0017\n",
      "BFGS:  127 10:54:04     -561.394165        0.0017\n",
      "BFGS:  128 10:54:06     -561.394168        0.0017\n",
      "BFGS:  129 10:54:08     -561.394173        0.0017\n",
      "BFGS:  130 10:54:10     -561.394184        0.0016\n",
      "BFGS:  131 10:54:11     -561.394198        0.0025\n",
      "BFGS:  132 10:54:13     -561.394208        0.0026\n",
      "BFGS:  133 10:54:15     -561.394212        0.0019\n",
      "BFGS:  134 10:54:17     -561.394213        0.0014\n",
      "BFGS:  135 10:54:19     -561.394213        0.0013\n",
      "BFGS:  136 10:54:21     -561.394216        0.0011\n",
      "BFGS:  137 10:54:24     -561.394221        0.0013\n",
      "BFGS:  138 10:54:25     -561.394230        0.0019\n",
      "BFGS:  139 10:54:27     -561.394242        0.0026\n",
      "BFGS:  140 10:54:29     -561.394249        0.0021\n",
      "BFGS:  141 10:54:31     -561.394251        0.0014\n",
      "BFGS:  142 10:54:33     -561.394251        0.0014\n",
      "BFGS:  143 10:54:35     -561.394252        0.0014\n",
      "BFGS:  144 10:54:37     -561.394254        0.0013\n",
      "BFGS:  145 10:54:40     -561.394258        0.0013\n",
      "BFGS:  146 10:54:41     -561.394266        0.0022\n",
      "BFGS:  147 10:54:44     -561.394276        0.0027\n",
      "BFGS:  148 10:54:46     -561.394282        0.0022\n",
      "BFGS:  149 10:54:48     -561.394283        0.0014\n",
      "BFGS:  150 10:54:50     -561.394284        0.0010\n",
      "BFGS:  151 10:54:52     -561.394284        0.0009\n"
     ]
    },
    {
     "data": {
      "text/plain": [
       "True"
      ]
     },
     "execution_count": 6,
     "metadata": {},
     "output_type": "execute_result"
    }
   ],
   "source": [
    "from ase.optimize import BFGS\n",
    "from ccs_fit.ase_calculator.ccs_ase_calculator import CCS\n",
    "from tqdm import tqdm\n",
    "from ase import io\n",
    "\n",
    "struct = io.read('DFT.db@11')\n",
    "\n",
    "struct = struct # * [2,2,2]\n",
    "\n",
    "CCS_calc = CCS(CCS_params=CCS_params)\n",
    "\n",
    "struct.rattle(0.05)\n",
    "struct.calc = CCS_calc\n",
    "\n",
    "opt = BFGS(struct, trajectory='opt.traj')\n",
    "opt.run(fmax=0.001)"
   ]
  },
  {
   "cell_type": "code",
   "execution_count": 11,
   "id": "4d72920f-6c7f-490c-bf07-46f4f7cc24f0",
   "metadata": {
    "tags": []
   },
   "outputs": [],
   "source": [
    "!ase gui opt.traj"
   ]
  },
  {
   "cell_type": "code",
   "execution_count": 1,
   "id": "f920709e-eb63-4393-8553-8a129b22a241",
   "metadata": {
    "tags": []
   },
   "outputs": [
    {
     "ename": "NameError",
     "evalue": "name 'struct' is not defined",
     "output_type": "error",
     "traceback": [
      "\u001b[1;31m---------------------------------------------------------------------------\u001b[0m",
      "\u001b[1;31mNameError\u001b[0m                                 Traceback (most recent call last)",
      "Cell \u001b[1;32mIn[1], line 13\u001b[0m\n\u001b[0;32m     11\u001b[0m dt \u001b[38;5;241m=\u001b[39m \u001b[38;5;241m0.5\u001b[39m \u001b[38;5;241m*\u001b[39m units\u001b[38;5;241m.\u001b[39mfs\n\u001b[0;32m     12\u001b[0m steps \u001b[38;5;241m=\u001b[39m \u001b[38;5;28mint\u001b[39m(\u001b[38;5;241m300\u001b[39m)\n\u001b[1;32m---> 13\u001b[0m MaxwellBoltzmannDistribution(\u001b[43mstruct\u001b[49m, temperature_K\u001b[38;5;241m=\u001b[39m\u001b[38;5;241m600\u001b[39m)\n\u001b[0;32m     14\u001b[0m dyn \u001b[38;5;241m=\u001b[39m VelocityVerlet(struct, timestep\u001b[38;5;241m=\u001b[39mdt)\n\u001b[0;32m     15\u001b[0m interval \u001b[38;5;241m=\u001b[39m \u001b[38;5;28mint\u001b[39m(\u001b[38;5;241m1\u001b[39m)\n",
      "\u001b[1;31mNameError\u001b[0m: name 'struct' is not defined"
     ]
    }
   ],
   "source": [
    "# Read geometry optimized structure and run NVE Molecular dynamics \n",
    "import numpy as np\n",
    "from ase import units\n",
    "from ase.io import read, write\n",
    "from ase.io.trajectory import Trajectory\n",
    "from ase.md import MDLogger\n",
    "from ase.md.verlet import VelocityVerlet\n",
    "from ase.md.velocitydistribution import (MaxwellBoltzmannDistribution,\n",
    "                                         Stationary, ZeroRotation)\n",
    "\n",
    "dt = 0.5 * units.fs\n",
    "steps = int(300)\n",
    "MaxwellBoltzmannDistribution(struct, temperature_K=600)\n",
    "dyn = VelocityVerlet(struct, timestep=dt)\n",
    "interval = int(1)\n",
    "dyn.attach(MDLogger(dyn, struct, 'output.log', mode=\"a\"), interval=interval)\n",
    "dyn.attach(Trajectory('output.traj', 'a', struct).write, interval=interval)\n",
    "dyn.run(steps)"
   ]
  },
  {
   "cell_type": "code",
   "execution_count": 2,
   "id": "7141703f-c730-4316-89f8-f40f060f9e3e",
   "metadata": {
    "tags": []
   },
   "outputs": [
    {
     "name": "stderr",
     "output_type": "stream",
     "text": [
      "usage: ase [-h] [--version] [-T]\n",
      "           {help,info,test,gui,db,run,band-structure,build,dimensionality,eos,ulm,find,nebplot,nomad-upload,nomad-get,convert,reciprocal,completion,diff,exec}\n",
      "           ...\n",
      "ase: error: FileNotFoundError: [Errno 2] No such file or directory: 'output.traj'\n",
      "To get a full traceback, use: ase -T gui ...\n"
     ]
    }
   ],
   "source": [
    "!ase gui output.traj"
   ]
  },
  {
   "cell_type": "code",
   "execution_count": 50,
   "id": "5a1203b4-384e-41b6-9fb1-c8c0cb7f02b1",
   "metadata": {},
   "outputs": [
    {
     "name": "stdout",
     "output_type": "stream",
     "text": [
      "      Step     Time          Energy         fmax\n",
      "BFGS:    0 12:20:11    -4056.685755        0.0000\n"
     ]
    },
    {
     "data": {
      "text/plain": [
       "True"
      ]
     },
     "execution_count": 50,
     "metadata": {},
     "output_type": "execute_result"
    }
   ],
   "source": [
    "## Stresses not currently implemented in ccs_fit yet!\n",
    "\n",
    "from ase.constraints import StrainFilter\n",
    "\n",
    "sf = StrainFilter(struct)\n",
    "opt = BFGS(sf)\n",
    "opt.run(0.005)"
   ]
  },
  {
   "cell_type": "code",
   "execution_count": 18,
   "id": "5b535de1-71fe-4fa3-a504-9f8ca07cbb9b",
   "metadata": {},
   "outputs": [
    {
     "name": "stdout",
     "output_type": "stream",
     "text": [
      "602\n"
     ]
    }
   ],
   "source": [
    "structs = io.read('output.traj@:')\n",
    "\n",
    "print(len(structs))"
   ]
  },
  {
   "cell_type": "code",
   "execution_count": 15,
   "id": "10c9240a-611c-4dc0-b547-5e6187bbb2f9",
   "metadata": {},
   "outputs": [
    {
     "name": "stdout",
     "output_type": "stream",
     "text": [
      "Atom('O', [1.5302522558471303, 0.6498901747917316, 8.350791516660168], momentum=[0.0014744864791352498, -0.0003861502676627821, -0.0013253298584316594], index=40)\n",
      "Atom('O', [4.184446643135762, 2.4776447376680752, 3.7608334497495246], momentum=[-0.0030845779832983197, 0.0027338945258879575, 0.0021347184935242842], index=80)\n"
     ]
    }
   ],
   "source": [
    "for i in range(2):\n",
    "    print(structs[(i+1)*50])\n",
    "    "
   ]
  },
  {
   "cell_type": "code",
   "execution_count": 35,
   "id": "34105646-c4dd-44ad-9a0f-e93492042ee6",
   "metadata": {
    "scrolled": true
   },
   "outputs": [
    {
     "name": "stdout",
     "output_type": "stream",
     "text": [
      "Buckingham fit (not optimised) for element pair O-O;     V(r) = 0.00*exp(-0.58*r) -(0.00)/r^6.\n",
      "Lennard Jones fit (not optimised) for element pair O-O;  V(r) = 4*-0.00*((2.25/r)^12 - (2.25/r)^6)\n",
      "Morse fit (not optimised) for element pair O-O;          V(r) = -0.00*((1-np.exp(-0.73*(r-2.64)))^2 - 1)\n",
      "Pedone fit (not optimised) for element pair O-O;         V(r) = -0.00*((1-np.exp(-0.93*(r-3.24)))^2 - 1) + 0.00/r^12\n"
     ]
    },
    {
     "data": {
      "image/png": "[encoded data removed]",
      "text/plain": [
       "<Figure size 640x480 with 1 Axes>"
      ]
     },
     "metadata": {},
     "output_type": "display_data"
    },
    {
     "name": "stdout",
     "output_type": "stream",
     "text": [
      "Buckingham fit (not optimised) for element pair Ta-Ta;     V(r) = 18.13*exp(-1.27*r) -(103.20)/r^6.\n",
      "Lennard Jones fit (not optimised) for element pair Ta-Ta;  V(r) = 4*-0.36*((2.38/r)^12 - (2.38/r)^6)\n",
      "Morse fit (not optimised) for element pair Ta-Ta;          V(r) = 3.68*((1-np.exp(-2.98*(r--6.83)))^2 - 1)\n",
      "Pedone fit (not optimised) for element pair Ta-Ta;         V(r) = 3.68*((1-np.exp(-2.98*(r--6.83)))^2 - 1) + 36922.34/r^12\n"
     ]
    },
    {
     "data": {
      "image/png": "[encoded data removed]",
      "text/plain": [
       "<Figure size 640x480 with 1 Axes>"
      ]
     },
     "metadata": {},
     "output_type": "display_data"
    },
    {
     "name": "stdout",
     "output_type": "stream",
     "text": [
      "Buckingham fit (not optimised) for element pair Ta-Ni;     V(r) = 52.11*exp(-2.11*r) -(42.86)/r^6.\n",
      "Lennard Jones fit (not optimised) for element pair Ta-Ni;  V(r) = 4*-0.13*((1.92/r)^12 - (1.92/r)^6)\n",
      "Morse fit (not optimised) for element pair Ta-Ni;          V(r) = -0.12*((1-np.exp(-2.50*(r-2.24)))^2 - 1)\n",
      "Pedone fit (not optimised) for element pair Ta-Ni;         V(r) = -0.00*((1-np.exp(-2.71*(r-3.50)))^2 - 1) + 23951.90/r^12\n"
     ]
    },
    {
     "data": {
      "image/png": "[encoded data removed]",
      "text/plain": [
       "<Figure size 640x480 with 1 Axes>"
      ]
     },
     "metadata": {},
     "output_type": "display_data"
    },
    {
     "name": "stdout",
     "output_type": "stream",
     "text": [
      "Buckingham fit (not optimised) for element pair Ta-Li;     V(r) = 38.93*exp(-2.14*r) -(25.51)/r^6.\n",
      "Lennard Jones fit (not optimised) for element pair Ta-Li;  V(r) = 4*-5901.61*((0.31/r)^12 - (0.31/r)^6)\n",
      "Morse fit (not optimised) for element pair Ta-Li;          V(r) = -0.05*((1-np.exp(-3.11*(r-2.64)))^2 - 1)\n",
      "Pedone fit (not optimised) for element pair Ta-Li;         V(r) = -181.56*((1-np.exp(-3.23*(r-0.29)))^2 - 1) + -15111.72/r^12\n"
     ]
    },
    {
     "data": {
      "image/png": "[encoded data removed]",
      "text/plain": [
       "<Figure size 640x480 with 1 Axes>"
      ]
     },
     "metadata": {},
     "output_type": "display_data"
    },
    {
     "name": "stdout",
     "output_type": "stream",
     "text": [
      "Buckingham fit (not optimised) for element pair Ni-Li;     V(r) = 2.75*exp(-1.14*r) -(9.46)/r^6.\n",
      "Lennard Jones fit (not optimised) for element pair Ni-Li;  V(r) = 4*-0.14*((2.21/r)^12 - (2.21/r)^6)\n",
      "Morse fit (not optimised) for element pair Ni-Li;          V(r) = -0.15*((1-np.exp(-1.18*(r-1.96)))^2 - 1)\n",
      "Pedone fit (not optimised) for element pair Ni-Li;         V(r) = -0.11*((1-np.exp(-1.24*(r-2.36)))^2 - 1) + 735.86/r^12\n"
     ]
    },
    {
     "data": {
      "image/png": "[encoded data removed]",
      "text/plain": [
       "<Figure size 640x480 with 1 Axes>"
      ]
     },
     "metadata": {},
     "output_type": "display_data"
    },
    {
     "name": "stdout",
     "output_type": "stream",
     "text": [
      "Buckingham fit (not optimised) for element pair Ni-Ni;     V(r) = 5.63*exp(-0.92*r) -(30.11)/r^6.\n",
      "Lennard Jones fit (not optimised) for element pair Ni-Ni;  V(r) = 4*-0.57*((2.10/r)^12 - (2.10/r)^6)\n",
      "Morse fit (not optimised) for element pair Ni-Ni;          V(r) = 2.84*((1-np.exp(-3.99*(r--6.06)))^2 - 1)\n",
      "Pedone fit (not optimised) for element pair Ni-Ni;         V(r) = 2.84*((1-np.exp(-3.99*(r--6.06)))^2 - 1) + 9183.87/r^12\n"
     ]
    },
    {
     "data": {
      "image/png": "[encoded data removed]",
      "text/plain": [
       "<Figure size 640x480 with 1 Axes>"
      ]
     },
     "metadata": {},
     "output_type": "display_data"
    },
    {
     "name": "stdout",
     "output_type": "stream",
     "text": [
      "Buckingham fit (not optimised) for element pair Li-Li;     V(r) = 2.03*exp(-1.00*r) -(13.72)/r^6.\n",
      "Lennard Jones fit (not optimised) for element pair Li-Li;  V(r) = 4*-0.13*((2.30/r)^12 - (2.30/r)^6)\n",
      "Morse fit (not optimised) for element pair Li-Li;          V(r) = 2.99*((1-np.exp(-3.73*(r--6.47)))^2 - 1)\n",
      "Pedone fit (not optimised) for element pair Li-Li;         V(r) = 2.99*((1-np.exp(-3.73*(r--6.47)))^2 - 1) + 7212.26/r^12\n"
     ]
    },
    {
     "data": {
      "image/png": "[encoded data removed]",
      "text/plain": [
       "<Figure size 640x480 with 1 Axes>"
      ]
     },
     "metadata": {},
     "output_type": "display_data"
    },
    {
     "name": "stdout",
     "output_type": "stream",
     "text": [
      "Buckingham fit (not optimised) for element pair Li-O;     V(r) = -0.10*exp(-0.64*r) -(-1.12)/r^6.\n",
      "Lennard Jones fit (not optimised) for element pair Li-O;  V(r) = 4*0.02*((1.78/r)^12 - (1.78/r)^6)\n",
      "Morse fit (not optimised) for element pair Li-O;          V(r) = 0.02*((1-np.exp(-0.88*(r-2.61)))^2 - 1)\n",
      "Pedone fit (not optimised) for element pair Li-O;         V(r) = 0.02*((1-np.exp(-0.94*(r-2.67)))^2 - 1) + -10.93/r^12\n"
     ]
    },
    {
     "data": {
      "image/png": "[encoded data removed]",
      "text/plain": [
       "<Figure size 640x480 with 1 Axes>"
      ]
     },
     "metadata": {},
     "output_type": "display_data"
    },
    {
     "name": "stdout",
     "output_type": "stream",
     "text": [
      "Buckingham fit (not optimised) for element pair Ni-O;     V(r) = 1.13*exp(-0.84*r) -(2.15)/r^6.\n",
      "Lennard Jones fit (not optimised) for element pair Ni-O;  V(r) = 4*-0.25*((1.67/r)^12 - (1.67/r)^6)\n",
      "Morse fit (not optimised) for element pair Ni-O;          V(r) = -0.19*((1-np.exp(-0.95*(r-1.68)))^2 - 1)\n",
      "Pedone fit (not optimised) for element pair Ni-O;         V(r) = -0.16*((1-np.exp(-1.02*(r-1.99)))^2 - 1) + 38.12/r^12\n"
     ]
    },
    {
     "data": {
      "image/png": "[encoded data removed]",
      "text/plain": [
       "<Figure size 640x480 with 1 Axes>"
      ]
     },
     "metadata": {},
     "output_type": "display_data"
    },
    {
     "name": "stdout",
     "output_type": "stream",
     "text": [
      "Buckingham fit (not optimised) for element pair O-Ta;     V(r) = -0.23*exp(-0.67*r) -(-2.00)/r^6.\n",
      "Lennard Jones fit (not optimised) for element pair O-Ta;  V(r) = 4*0.04*((1.78/r)^12 - (1.78/r)^6)\n",
      "Morse fit (not optimised) for element pair O-Ta;          V(r) = 0.04*((1-np.exp(-0.87*(r-2.49)))^2 - 1)\n",
      "Pedone fit (not optimised) for element pair O-Ta;         V(r) = 0.04*((1-np.exp(-0.97*(r-2.62)))^2 - 1) + -40.39/r^12\n"
     ]
    },
    {
     "data": {
      "image/png": "[encoded data removed]",
      "text/plain": [
       "<Figure size 640x480 with 1 Axes>"
      ]
     },
     "metadata": {},
     "output_type": "display_data"
    }
   ],
   "source": [
    "from ccs_fit.scripts.ccs_export_FF import write_FF\n",
    "write_FF(\"CCS_params.json\")"
   ]
  },
  {
   "cell_type": "code",
   "execution_count": null,
   "id": "fe5ae0df",
   "metadata": {},
   "outputs": [],
   "source": []
  }
 ],
 "metadata": {
  "kernelspec": {
   "display_name": "Tantalizing",
   "language": "python",
   "name": "tantalizing"
  },
  "language_info": {
   "codemirror_mode": {
    "name": "ipython",
    "version": 3
   },
   "file_extension": ".py",
   "mimetype": "text/x-python",
   "name": "python",
   "nbconvert_exporter": "python",
   "pygments_lexer": "ipython3",
   "version": "3.9.16"
  },
  "vscode": {
   "interpreter": {
    "hash": "f9cf24ff20edf0aae28141210fc773ab63efd2a56eb4d7d08651373a5d8a7dcd"
   }
  }
 },
 "nbformat": 4,
 "nbformat_minor": 5
}
