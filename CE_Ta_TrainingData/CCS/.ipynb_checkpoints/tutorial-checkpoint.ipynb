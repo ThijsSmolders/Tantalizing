{
 "cells": [
  {
   "cell_type": "markdown",
   "id": "74f144dd",
   "metadata": {},
   "source": [
    "# Building Frederike's second force field"
   ]
  },
  {
   "cell_type": "code",
   "execution_count": 3,
   "id": "d88f1c57-aa71-4a19-9b6b-e9ada91bb1e6",
   "metadata": {},
   "outputs": [],
   "source": [
    "import matplotlib.pyplot as plt\n",
    "import ase as ase\n",
    "from ase.io import read,write\n",
    "from ase.build import bulk\n",
    "import numpy as np\n",
    "import ase.db as db\n",
    "from ase.visualize import view\n",
    "from ase.optimize import BFGS\n",
    "Fit_on_forces=True\n",
    "import os"
   ]
  },
  {
   "cell_type": "markdown",
   "id": "16cf8943-479f-4215-b40e-863f22c69e1e",
   "metadata": {},
   "source": [
    "### Generate training data\n",
    "Curvature Constrained Splines can be fitted to a reference data-set with energies (and optionally forces) of pre-calculated structures. In this example we generate the reference data-set using a Lennard-Jones potential. We use a LJ bulk structure that we randomly rattle and scale. \n"
   ]
  },
  {
   "cell_type": "code",
   "execution_count": 20,
   "id": "13b96562-b2ff-44e6-972b-d9fe03b5d085",
   "metadata": {},
   "outputs": [
    {
     "name": "stdout",
     "output_type": "stream",
     "text": [
      "Renamed OUTCARS\\1.OUTCAR to OUTCARS\\001.OUTCAR\n",
      "Renamed OUTCARS\\10.OUTCAR to OUTCARS\\010.OUTCAR\n",
      "Renamed OUTCARS\\100.OUTCAR to OUTCARS\\100.OUTCAR\n",
      "Renamed OUTCARS\\101.OUTCAR to OUTCARS\\101.OUTCAR\n",
      "Renamed OUTCARS\\102.OUTCAR to OUTCARS\\102.OUTCAR\n",
      "Renamed OUTCARS\\103.OUTCAR to OUTCARS\\103.OUTCAR\n",
      "Renamed OUTCARS\\104.OUTCAR to OUTCARS\\104.OUTCAR\n",
      "Renamed OUTCARS\\105.OUTCAR to OUTCARS\\105.OUTCAR\n",
      "Renamed OUTCARS\\106.OUTCAR to OUTCARS\\106.OUTCAR\n",
      "Renamed OUTCARS\\107.OUTCAR to OUTCARS\\107.OUTCAR\n",
      "Renamed OUTCARS\\108.OUTCAR to OUTCARS\\108.OUTCAR\n",
      "Renamed OUTCARS\\109.OUTCAR to OUTCARS\\109.OUTCAR\n",
      "Renamed OUTCARS\\11.OUTCAR to OUTCARS\\011.OUTCAR\n",
      "Renamed OUTCARS\\110.OUTCAR to OUTCARS\\110.OUTCAR\n",
      "Renamed OUTCARS\\111.OUTCAR to OUTCARS\\111.OUTCAR\n",
      "Renamed OUTCARS\\112.OUTCAR to OUTCARS\\112.OUTCAR\n",
      "Renamed OUTCARS\\113.OUTCAR to OUTCARS\\113.OUTCAR\n",
      "Renamed OUTCARS\\114.OUTCAR to OUTCARS\\114.OUTCAR\n",
      "Renamed OUTCARS\\115.OUTCAR to OUTCARS\\115.OUTCAR\n",
      "Renamed OUTCARS\\116.OUTCAR to OUTCARS\\116.OUTCAR\n",
      "Renamed OUTCARS\\117.OUTCAR to OUTCARS\\117.OUTCAR\n",
      "Renamed OUTCARS\\118.OUTCAR to OUTCARS\\118.OUTCAR\n",
      "Renamed OUTCARS\\119.OUTCAR to OUTCARS\\119.OUTCAR\n",
      "Renamed OUTCARS\\12.OUTCAR to OUTCARS\\012.OUTCAR\n",
      "Renamed OUTCARS\\120.OUTCAR to OUTCARS\\120.OUTCAR\n",
      "Renamed OUTCARS\\121.OUTCAR to OUTCARS\\121.OUTCAR\n",
      "Renamed OUTCARS\\122.OUTCAR to OUTCARS\\122.OUTCAR\n",
      "Renamed OUTCARS\\123.OUTCAR to OUTCARS\\123.OUTCAR\n",
      "Renamed OUTCARS\\124.OUTCAR to OUTCARS\\124.OUTCAR\n",
      "Renamed OUTCARS\\125.OUTCAR to OUTCARS\\125.OUTCAR\n",
      "Renamed OUTCARS\\126.OUTCAR to OUTCARS\\126.OUTCAR\n",
      "Renamed OUTCARS\\127.OUTCAR to OUTCARS\\127.OUTCAR\n",
      "Renamed OUTCARS\\128.OUTCAR to OUTCARS\\128.OUTCAR\n",
      "Renamed OUTCARS\\129.OUTCAR to OUTCARS\\129.OUTCAR\n",
      "Renamed OUTCARS\\13.OUTCAR to OUTCARS\\013.OUTCAR\n",
      "Renamed OUTCARS\\130.OUTCAR to OUTCARS\\130.OUTCAR\n",
      "Renamed OUTCARS\\131.OUTCAR to OUTCARS\\131.OUTCAR\n",
      "Renamed OUTCARS\\132.OUTCAR to OUTCARS\\132.OUTCAR\n",
      "Renamed OUTCARS\\133.OUTCAR to OUTCARS\\133.OUTCAR\n",
      "Renamed OUTCARS\\134.OUTCAR to OUTCARS\\134.OUTCAR\n",
      "Renamed OUTCARS\\135.OUTCAR to OUTCARS\\135.OUTCAR\n",
      "Renamed OUTCARS\\136.OUTCAR to OUTCARS\\136.OUTCAR\n",
      "Renamed OUTCARS\\137.OUTCAR to OUTCARS\\137.OUTCAR\n",
      "Renamed OUTCARS\\138.OUTCAR to OUTCARS\\138.OUTCAR\n",
      "Renamed OUTCARS\\139.OUTCAR to OUTCARS\\139.OUTCAR\n",
      "Renamed OUTCARS\\14.OUTCAR to OUTCARS\\014.OUTCAR\n",
      "Renamed OUTCARS\\140.OUTCAR to OUTCARS\\140.OUTCAR\n",
      "Renamed OUTCARS\\141.OUTCAR to OUTCARS\\141.OUTCAR\n",
      "Renamed OUTCARS\\142.OUTCAR to OUTCARS\\142.OUTCAR\n",
      "Renamed OUTCARS\\143.OUTCAR to OUTCARS\\143.OUTCAR\n",
      "Renamed OUTCARS\\144.OUTCAR to OUTCARS\\144.OUTCAR\n",
      "Renamed OUTCARS\\145.OUTCAR to OUTCARS\\145.OUTCAR\n",
      "Renamed OUTCARS\\146.OUTCAR to OUTCARS\\146.OUTCAR\n",
      "Renamed OUTCARS\\147.OUTCAR to OUTCARS\\147.OUTCAR\n",
      "Renamed OUTCARS\\148.OUTCAR to OUTCARS\\148.OUTCAR\n",
      "Renamed OUTCARS\\149.OUTCAR to OUTCARS\\149.OUTCAR\n",
      "Renamed OUTCARS\\15.OUTCAR to OUTCARS\\015.OUTCAR\n",
      "Renamed OUTCARS\\150.OUTCAR to OUTCARS\\150.OUTCAR\n",
      "Renamed OUTCARS\\151.OUTCAR to OUTCARS\\151.OUTCAR\n",
      "Renamed OUTCARS\\152.OUTCAR to OUTCARS\\152.OUTCAR\n",
      "Renamed OUTCARS\\153.OUTCAR to OUTCARS\\153.OUTCAR\n",
      "Renamed OUTCARS\\154.OUTCAR to OUTCARS\\154.OUTCAR\n",
      "Renamed OUTCARS\\155.OUTCAR to OUTCARS\\155.OUTCAR\n",
      "Renamed OUTCARS\\156.OUTCAR to OUTCARS\\156.OUTCAR\n",
      "Renamed OUTCARS\\157.OUTCAR to OUTCARS\\157.OUTCAR\n",
      "Renamed OUTCARS\\158.OUTCAR to OUTCARS\\158.OUTCAR\n",
      "Renamed OUTCARS\\159.OUTCAR to OUTCARS\\159.OUTCAR\n",
      "Renamed OUTCARS\\16.OUTCAR to OUTCARS\\016.OUTCAR\n",
      "Renamed OUTCARS\\160.OUTCAR to OUTCARS\\160.OUTCAR\n",
      "Renamed OUTCARS\\161.OUTCAR to OUTCARS\\161.OUTCAR\n",
      "Renamed OUTCARS\\162.OUTCAR to OUTCARS\\162.OUTCAR\n",
      "Renamed OUTCARS\\163.OUTCAR to OUTCARS\\163.OUTCAR\n",
      "Renamed OUTCARS\\164.OUTCAR to OUTCARS\\164.OUTCAR\n",
      "Renamed OUTCARS\\165.OUTCAR to OUTCARS\\165.OUTCAR\n",
      "Renamed OUTCARS\\166.OUTCAR to OUTCARS\\166.OUTCAR\n",
      "Renamed OUTCARS\\167.OUTCAR to OUTCARS\\167.OUTCAR\n",
      "Renamed OUTCARS\\168.OUTCAR to OUTCARS\\168.OUTCAR\n",
      "Renamed OUTCARS\\169.OUTCAR to OUTCARS\\169.OUTCAR\n",
      "Renamed OUTCARS\\17.OUTCAR to OUTCARS\\017.OUTCAR\n",
      "Renamed OUTCARS\\170.OUTCAR to OUTCARS\\170.OUTCAR\n",
      "Renamed OUTCARS\\171.OUTCAR to OUTCARS\\171.OUTCAR\n",
      "Renamed OUTCARS\\172.OUTCAR to OUTCARS\\172.OUTCAR\n",
      "Renamed OUTCARS\\173.OUTCAR to OUTCARS\\173.OUTCAR\n",
      "Renamed OUTCARS\\174.OUTCAR to OUTCARS\\174.OUTCAR\n",
      "Renamed OUTCARS\\175.OUTCAR to OUTCARS\\175.OUTCAR\n",
      "Renamed OUTCARS\\176.OUTCAR to OUTCARS\\176.OUTCAR\n",
      "Renamed OUTCARS\\177.OUTCAR to OUTCARS\\177.OUTCAR\n",
      "Renamed OUTCARS\\178.OUTCAR to OUTCARS\\178.OUTCAR\n",
      "Renamed OUTCARS\\179.OUTCAR to OUTCARS\\179.OUTCAR\n",
      "Renamed OUTCARS\\18.OUTCAR to OUTCARS\\018.OUTCAR\n",
      "Renamed OUTCARS\\180.OUTCAR to OUTCARS\\180.OUTCAR\n",
      "Renamed OUTCARS\\181.OUTCAR to OUTCARS\\181.OUTCAR\n",
      "Renamed OUTCARS\\182.OUTCAR to OUTCARS\\182.OUTCAR\n",
      "Renamed OUTCARS\\183.OUTCAR to OUTCARS\\183.OUTCAR\n",
      "Renamed OUTCARS\\184.OUTCAR to OUTCARS\\184.OUTCAR\n",
      "Renamed OUTCARS\\185.OUTCAR to OUTCARS\\185.OUTCAR\n",
      "Renamed OUTCARS\\186.OUTCAR to OUTCARS\\186.OUTCAR\n",
      "Renamed OUTCARS\\187.OUTCAR to OUTCARS\\187.OUTCAR\n",
      "Renamed OUTCARS\\188.OUTCAR to OUTCARS\\188.OUTCAR\n",
      "Renamed OUTCARS\\189.OUTCAR to OUTCARS\\189.OUTCAR\n",
      "Renamed OUTCARS\\19.OUTCAR to OUTCARS\\019.OUTCAR\n",
      "Renamed OUTCARS\\190.OUTCAR to OUTCARS\\190.OUTCAR\n",
      "Renamed OUTCARS\\191.OUTCAR to OUTCARS\\191.OUTCAR\n",
      "Renamed OUTCARS\\192.OUTCAR to OUTCARS\\192.OUTCAR\n",
      "Renamed OUTCARS\\193.OUTCAR to OUTCARS\\193.OUTCAR\n",
      "Renamed OUTCARS\\194.OUTCAR to OUTCARS\\194.OUTCAR\n",
      "Renamed OUTCARS\\195.OUTCAR to OUTCARS\\195.OUTCAR\n",
      "Renamed OUTCARS\\196.OUTCAR to OUTCARS\\196.OUTCAR\n",
      "Renamed OUTCARS\\197.OUTCAR to OUTCARS\\197.OUTCAR\n",
      "Renamed OUTCARS\\198.OUTCAR to OUTCARS\\198.OUTCAR\n",
      "Renamed OUTCARS\\199.OUTCAR to OUTCARS\\199.OUTCAR\n",
      "Renamed OUTCARS\\2.OUTCAR to OUTCARS\\002.OUTCAR\n",
      "Renamed OUTCARS\\20.OUTCAR to OUTCARS\\020.OUTCAR\n",
      "Renamed OUTCARS\\200.OUTCAR to OUTCARS\\200.OUTCAR\n",
      "Renamed OUTCARS\\201.OUTCAR to OUTCARS\\201.OUTCAR\n",
      "Renamed OUTCARS\\202.OUTCAR to OUTCARS\\202.OUTCAR\n",
      "Renamed OUTCARS\\203.OUTCAR to OUTCARS\\203.OUTCAR\n",
      "Renamed OUTCARS\\204.OUTCAR to OUTCARS\\204.OUTCAR\n",
      "Renamed OUTCARS\\205.OUTCAR to OUTCARS\\205.OUTCAR\n",
      "Renamed OUTCARS\\206.OUTCAR to OUTCARS\\206.OUTCAR\n",
      "Renamed OUTCARS\\207.OUTCAR to OUTCARS\\207.OUTCAR\n",
      "Renamed OUTCARS\\208.OUTCAR to OUTCARS\\208.OUTCAR\n",
      "Renamed OUTCARS\\209.OUTCAR to OUTCARS\\209.OUTCAR\n",
      "Renamed OUTCARS\\21.OUTCAR to OUTCARS\\021.OUTCAR\n",
      "Renamed OUTCARS\\210.OUTCAR to OUTCARS\\210.OUTCAR\n",
      "Renamed OUTCARS\\211.OUTCAR to OUTCARS\\211.OUTCAR\n",
      "Renamed OUTCARS\\212.OUTCAR to OUTCARS\\212.OUTCAR\n",
      "Renamed OUTCARS\\213.OUTCAR to OUTCARS\\213.OUTCAR\n",
      "Renamed OUTCARS\\214.OUTCAR to OUTCARS\\214.OUTCAR\n",
      "Renamed OUTCARS\\215.OUTCAR to OUTCARS\\215.OUTCAR\n",
      "Renamed OUTCARS\\216.OUTCAR to OUTCARS\\216.OUTCAR\n",
      "Renamed OUTCARS\\217.OUTCAR to OUTCARS\\217.OUTCAR\n",
      "Renamed OUTCARS\\218.OUTCAR to OUTCARS\\218.OUTCAR\n",
      "Renamed OUTCARS\\219.OUTCAR to OUTCARS\\219.OUTCAR\n",
      "Renamed OUTCARS\\22.OUTCAR to OUTCARS\\022.OUTCAR\n",
      "Renamed OUTCARS\\220.OUTCAR to OUTCARS\\220.OUTCAR\n",
      "Renamed OUTCARS\\221.OUTCAR to OUTCARS\\221.OUTCAR\n",
      "Renamed OUTCARS\\222.OUTCAR to OUTCARS\\222.OUTCAR\n",
      "Renamed OUTCARS\\223.OUTCAR to OUTCARS\\223.OUTCAR\n",
      "Renamed OUTCARS\\224.OUTCAR to OUTCARS\\224.OUTCAR\n",
      "Renamed OUTCARS\\225.OUTCAR to OUTCARS\\225.OUTCAR\n",
      "Renamed OUTCARS\\226.OUTCAR to OUTCARS\\226.OUTCAR\n",
      "Renamed OUTCARS\\227.OUTCAR to OUTCARS\\227.OUTCAR\n",
      "Renamed OUTCARS\\228.OUTCAR to OUTCARS\\228.OUTCAR\n",
      "Renamed OUTCARS\\229.OUTCAR to OUTCARS\\229.OUTCAR\n",
      "Renamed OUTCARS\\23.OUTCAR to OUTCARS\\023.OUTCAR\n",
      "Renamed OUTCARS\\230.OUTCAR to OUTCARS\\230.OUTCAR\n",
      "Renamed OUTCARS\\231.OUTCAR to OUTCARS\\231.OUTCAR\n",
      "Renamed OUTCARS\\232.OUTCAR to OUTCARS\\232.OUTCAR\n",
      "Renamed OUTCARS\\233.OUTCAR to OUTCARS\\233.OUTCAR\n",
      "Renamed OUTCARS\\234.OUTCAR to OUTCARS\\234.OUTCAR\n",
      "Renamed OUTCARS\\235.OUTCAR to OUTCARS\\235.OUTCAR\n",
      "Renamed OUTCARS\\236.OUTCAR to OUTCARS\\236.OUTCAR\n",
      "Renamed OUTCARS\\24.OUTCAR to OUTCARS\\024.OUTCAR\n",
      "Renamed OUTCARS\\25.OUTCAR to OUTCARS\\025.OUTCAR\n",
      "Renamed OUTCARS\\26.OUTCAR to OUTCARS\\026.OUTCAR\n",
      "Renamed OUTCARS\\27.OUTCAR to OUTCARS\\027.OUTCAR\n",
      "Renamed OUTCARS\\28.OUTCAR to OUTCARS\\028.OUTCAR\n",
      "Renamed OUTCARS\\29.OUTCAR to OUTCARS\\029.OUTCAR\n",
      "Renamed OUTCARS\\3.OUTCAR to OUTCARS\\003.OUTCAR\n",
      "Renamed OUTCARS\\30.OUTCAR to OUTCARS\\030.OUTCAR\n",
      "Renamed OUTCARS\\31.OUTCAR to OUTCARS\\031.OUTCAR\n",
      "Renamed OUTCARS\\32.OUTCAR to OUTCARS\\032.OUTCAR\n",
      "Renamed OUTCARS\\33.OUTCAR to OUTCARS\\033.OUTCAR\n",
      "Renamed OUTCARS\\34.OUTCAR to OUTCARS\\034.OUTCAR\n",
      "Renamed OUTCARS\\35.OUTCAR to OUTCARS\\035.OUTCAR\n",
      "Renamed OUTCARS\\36.OUTCAR to OUTCARS\\036.OUTCAR\n",
      "Renamed OUTCARS\\37.OUTCAR to OUTCARS\\037.OUTCAR\n",
      "Renamed OUTCARS\\38.OUTCAR to OUTCARS\\038.OUTCAR\n",
      "Renamed OUTCARS\\39.OUTCAR to OUTCARS\\039.OUTCAR\n",
      "Renamed OUTCARS\\4.OUTCAR to OUTCARS\\004.OUTCAR\n",
      "Renamed OUTCARS\\40.OUTCAR to OUTCARS\\040.OUTCAR\n",
      "Renamed OUTCARS\\41.OUTCAR to OUTCARS\\041.OUTCAR\n",
      "Renamed OUTCARS\\42.OUTCAR to OUTCARS\\042.OUTCAR\n",
      "Renamed OUTCARS\\43.OUTCAR to OUTCARS\\043.OUTCAR\n",
      "Renamed OUTCARS\\44.OUTCAR to OUTCARS\\044.OUTCAR\n",
      "Renamed OUTCARS\\45.OUTCAR to OUTCARS\\045.OUTCAR\n",
      "Renamed OUTCARS\\46.OUTCAR to OUTCARS\\046.OUTCAR\n",
      "Renamed OUTCARS\\47.OUTCAR to OUTCARS\\047.OUTCAR\n",
      "Renamed OUTCARS\\48.OUTCAR to OUTCARS\\048.OUTCAR\n",
      "Renamed OUTCARS\\49.OUTCAR to OUTCARS\\049.OUTCAR\n",
      "Renamed OUTCARS\\5.OUTCAR to OUTCARS\\005.OUTCAR\n",
      "Renamed OUTCARS\\50.OUTCAR to OUTCARS\\050.OUTCAR\n",
      "Renamed OUTCARS\\51.OUTCAR to OUTCARS\\051.OUTCAR\n",
      "Renamed OUTCARS\\52.OUTCAR to OUTCARS\\052.OUTCAR\n",
      "Renamed OUTCARS\\53.OUTCAR to OUTCARS\\053.OUTCAR\n",
      "Renamed OUTCARS\\54.OUTCAR to OUTCARS\\054.OUTCAR\n",
      "Renamed OUTCARS\\55.OUTCAR to OUTCARS\\055.OUTCAR\n",
      "Renamed OUTCARS\\56.OUTCAR to OUTCARS\\056.OUTCAR\n",
      "Renamed OUTCARS\\57.OUTCAR to OUTCARS\\057.OUTCAR\n",
      "Renamed OUTCARS\\58.OUTCAR to OUTCARS\\058.OUTCAR\n",
      "Renamed OUTCARS\\59.OUTCAR to OUTCARS\\059.OUTCAR\n",
      "Renamed OUTCARS\\6.OUTCAR to OUTCARS\\006.OUTCAR\n",
      "Renamed OUTCARS\\60.OUTCAR to OUTCARS\\060.OUTCAR\n",
      "Renamed OUTCARS\\61.OUTCAR to OUTCARS\\061.OUTCAR\n",
      "Renamed OUTCARS\\62.OUTCAR to OUTCARS\\062.OUTCAR\n",
      "Renamed OUTCARS\\63.OUTCAR to OUTCARS\\063.OUTCAR\n",
      "Renamed OUTCARS\\64.OUTCAR to OUTCARS\\064.OUTCAR\n",
      "Renamed OUTCARS\\65.OUTCAR to OUTCARS\\065.OUTCAR\n",
      "Renamed OUTCARS\\66.OUTCAR to OUTCARS\\066.OUTCAR\n",
      "Renamed OUTCARS\\67.OUTCAR to OUTCARS\\067.OUTCAR\n",
      "Renamed OUTCARS\\68.OUTCAR to OUTCARS\\068.OUTCAR\n",
      "Renamed OUTCARS\\69.OUTCAR to OUTCARS\\069.OUTCAR\n",
      "Renamed OUTCARS\\7.OUTCAR to OUTCARS\\007.OUTCAR\n",
      "Renamed OUTCARS\\70.OUTCAR to OUTCARS\\070.OUTCAR\n",
      "Renamed OUTCARS\\71.OUTCAR to OUTCARS\\071.OUTCAR\n",
      "Renamed OUTCARS\\72.OUTCAR to OUTCARS\\072.OUTCAR\n",
      "Renamed OUTCARS\\73.OUTCAR to OUTCARS\\073.OUTCAR\n",
      "Renamed OUTCARS\\74.OUTCAR to OUTCARS\\074.OUTCAR\n",
      "Renamed OUTCARS\\75.OUTCAR to OUTCARS\\075.OUTCAR\n",
      "Renamed OUTCARS\\76.OUTCAR to OUTCARS\\076.OUTCAR\n",
      "Renamed OUTCARS\\77.OUTCAR to OUTCARS\\077.OUTCAR\n",
      "Renamed OUTCARS\\78.OUTCAR to OUTCARS\\078.OUTCAR\n",
      "Renamed OUTCARS\\79.OUTCAR to OUTCARS\\079.OUTCAR\n",
      "Renamed OUTCARS\\8.OUTCAR to OUTCARS\\008.OUTCAR\n",
      "Renamed OUTCARS\\80.OUTCAR to OUTCARS\\080.OUTCAR\n",
      "Renamed OUTCARS\\81.OUTCAR to OUTCARS\\081.OUTCAR\n",
      "Renamed OUTCARS\\82.OUTCAR to OUTCARS\\082.OUTCAR\n",
      "Renamed OUTCARS\\83.OUTCAR to OUTCARS\\083.OUTCAR\n",
      "Renamed OUTCARS\\84.OUTCAR to OUTCARS\\084.OUTCAR\n",
      "Renamed OUTCARS\\85.OUTCAR to OUTCARS\\085.OUTCAR\n",
      "Renamed OUTCARS\\86.OUTCAR to OUTCARS\\086.OUTCAR\n",
      "Renamed OUTCARS\\87.OUTCAR to OUTCARS\\087.OUTCAR\n",
      "Renamed OUTCARS\\88.OUTCAR to OUTCARS\\088.OUTCAR\n",
      "Renamed OUTCARS\\89.OUTCAR to OUTCARS\\089.OUTCAR\n",
      "Renamed OUTCARS\\9.OUTCAR to OUTCARS\\009.OUTCAR\n",
      "Renamed OUTCARS\\90.OUTCAR to OUTCARS\\090.OUTCAR\n",
      "Renamed OUTCARS\\91.OUTCAR to OUTCARS\\091.OUTCAR\n",
      "Renamed OUTCARS\\92.OUTCAR to OUTCARS\\092.OUTCAR\n",
      "Renamed OUTCARS\\93.OUTCAR to OUTCARS\\093.OUTCAR\n",
      "Renamed OUTCARS\\94.OUTCAR to OUTCARS\\094.OUTCAR\n",
      "Renamed OUTCARS\\95.OUTCAR to OUTCARS\\095.OUTCAR\n",
      "Renamed OUTCARS\\96.OUTCAR to OUTCARS\\096.OUTCAR\n",
      "Renamed OUTCARS\\97.OUTCAR to OUTCARS\\097.OUTCAR\n",
      "Renamed OUTCARS\\98.OUTCAR to OUTCARS\\098.OUTCAR\n",
      "Renamed OUTCARS\\99.OUTCAR to OUTCARS\\099.OUTCAR\n",
      "data_list.txt has been deleted.\n"
     ]
    }
   ],
   "source": [
    "import os\n",
    "\n",
    "# Specify the directory path\n",
    "directory_path = \"OUTCARS\"\n",
    "\n",
    "# Get all files in the directory\n",
    "files = os.listdir(directory_path)\n",
    "\n",
    "# Loop through each file\n",
    "for file in files:\n",
    "    # Check if the file is a regular file\n",
    "    if os.path.isfile(os.path.join(directory_path, file)):\n",
    "        # Extract the file name and extension\n",
    "        file_name, file_ext = os.path.splitext(file)\n",
    "        \n",
    "        # Check if the file name consists of only digits\n",
    "        if file_name.isdigit():\n",
    "            # Add leading zeros to the file name\n",
    "            file_name = file_name.zfill(3)\n",
    "            \n",
    "            # Create the new file name with leading zeros\n",
    "            new_file_name = f\"{file_name}{file_ext}\"\n",
    "            \n",
    "            # Construct the old and new file paths\n",
    "            old_file_path = os.path.join(directory_path, file)\n",
    "            new_file_path = os.path.join(directory_path, new_file_name)\n",
    "            \n",
    "            # Rename the file\n",
    "            os.rename(old_file_path, new_file_path)\n",
    "            \n",
    "            print(f\"Renamed {old_file_path} to {new_file_path}\")\n",
    "\n",
    "\n",
    "file_path = \"data_list.txt\"\n",
    "\n",
    "# Check if the file exists\n",
    "if os.path.exists(file_path):\n",
    "    # Delete the file\n",
    "    os.remove(file_path)\n",
    "    print(f\"{file_path} has been deleted.\")\n",
    "else:\n",
    "    print(f\"{file_path} does not exist.\")\n",
    "    \n",
    "with open(\"data_list.txt\", \"a\") as file:\n",
    "    for f in os.listdir(\"OUTCARS/\"):\n",
    "        #print(f)\n",
    "        file.write(f\"OUTCARS/{f}\\n\")"
   ]
  },
  {
   "cell_type": "code",
   "execution_count": 21,
   "id": "97508293-ed0a-427a-9579-f72120576e12",
   "metadata": {},
   "outputs": [
    {
     "data": {
      "text/plain": [
       "['C:\\\\Users\\\\frede\\\\anaconda3\\\\envs\\\\Tantalizing\\\\lib\\\\site-packages\\\\ase']"
      ]
     },
     "execution_count": 21,
     "metadata": {},
     "output_type": "execute_result"
    }
   ],
   "source": [
    "import ase\n",
    "ase.__path__"
   ]
  },
  {
   "cell_type": "code",
   "execution_count": 25,
   "id": "387f54e1-dac6-4fc1-a0a9-b9ba8c045ec0",
   "metadata": {},
   "outputs": [
    {
     "name": "stderr",
     "output_type": "stream",
     "text": [
      "    Building data-bases:  53%|██████████████████████████████▋                           | 125/236 [00:37<00:33,  3.34it/s]\n"
     ]
    },
    {
     "ename": "IndexError",
     "evalue": "list index out of range",
     "output_type": "error",
     "traceback": [
      "\u001b[1;31m---------------------------------------------------------------------------\u001b[0m",
      "\u001b[1;31mIndexError\u001b[0m                                Traceback (most recent call last)",
      "Cell \u001b[1;32mIn[25], line 3\u001b[0m\n\u001b[0;32m      1\u001b[0m \u001b[38;5;28;01mfrom\u001b[39;00m \u001b[38;5;21;01mccs_fit\u001b[39;00m\u001b[38;5;21;01m.\u001b[39;00m\u001b[38;5;21;01mscripts\u001b[39;00m\u001b[38;5;21;01m.\u001b[39;00m\u001b[38;5;21;01mccs_build_db\u001b[39;00m \u001b[38;5;28;01mimport\u001b[39;00m ccs_build_db\n\u001b[1;32m----> 3\u001b[0m \u001b[43mccs_build_db\u001b[49m\u001b[43m(\u001b[49m\u001b[43mmode\u001b[49m\u001b[38;5;241;43m=\u001b[39;49m\u001b[38;5;124;43m\"\u001b[39;49m\u001b[38;5;124;43mCCS\u001b[39;49m\u001b[38;5;124;43m\"\u001b[39;49m\u001b[43m,\u001b[49m\u001b[43mDFT_DB\u001b[49m\u001b[38;5;241;43m=\u001b[39;49m\u001b[38;5;124;43m\"\u001b[39;49m\u001b[38;5;124;43mDFT.db\u001b[39;49m\u001b[38;5;124;43m\"\u001b[39;49m\u001b[43m,\u001b[49m\u001b[43mfile_list\u001b[49m\u001b[38;5;241;43m=\u001b[39;49m\u001b[38;5;124;43m\"\u001b[39;49m\u001b[38;5;124;43mdata_list.txt\u001b[39;49m\u001b[38;5;124;43m\"\u001b[39;49m\u001b[43m,\u001b[49m\u001b[43moverwrite\u001b[49m\u001b[38;5;241;43m=\u001b[39;49m\u001b[38;5;28;43;01mTrue\u001b[39;49;00m\u001b[43m,\u001b[49m\u001b[43m \u001b[49m\u001b[43mgreedy\u001b[49m\u001b[38;5;241;43m=\u001b[39;49m\u001b[38;5;28;43;01mTrue\u001b[39;49;00m\u001b[43m)\u001b[49m\n",
      "File \u001b[1;32m~\\anaconda3\\envs\\Tantalizing\\lib\\site-packages\\ccs_fit\\scripts\\ccs_build_db.py:88\u001b[0m, in \u001b[0;36mccs_build_db\u001b[1;34m(mode, DFT_DB, DFTB_DB, file_list, greedy, greed_threshold, overwrite, verbose)\u001b[0m\n\u001b[0;32m     85\u001b[0m \u001b[38;5;28;01mfor\u001b[39;00m i \u001b[38;5;129;01min\u001b[39;00m uindices:\n\u001b[0;32m     86\u001b[0m     N_SCF \u001b[38;5;241m=\u001b[39m [(el \u001b[38;5;241m==\u001b[39m i) \u001b[38;5;28;01mfor\u001b[39;00m el \u001b[38;5;129;01min\u001b[39;00m indices]\n\u001b[0;32m     87\u001b[0m     \u001b[38;5;28;01mif\u001b[39;00m (\u001b[38;5;28msum\u001b[39m(N_SCF) \u001b[38;5;241m<\u001b[39m NELM) \u001b[38;5;241m&\u001b[39m (\n\u001b[1;32m---> 88\u001b[0m         \u001b[38;5;28mabs\u001b[39m(\u001b[43mall_energies\u001b[49m\u001b[43m[\u001b[49m\u001b[43mi\u001b[49m\u001b[43m]\u001b[49m \u001b[38;5;241m-\u001b[39m previous_E) \u001b[38;5;241m>\u001b[39m greed_threshold\n\u001b[0;32m     89\u001b[0m     ):\n\u001b[0;32m     90\u001b[0m         converged_indices\u001b[38;5;241m.\u001b[39mappend(i)\n\u001b[0;32m     91\u001b[0m         previous_E \u001b[38;5;241m=\u001b[39m all_energies[i]\n",
      "\u001b[1;31mIndexError\u001b[0m: list index out of range"
     ]
    }
   ],
   "source": [
    "from ccs_fit.scripts.ccs_build_db import ccs_build_db\n",
    "\n",
    "ccs_build_db(mode=\"CCS\",DFT_DB=\"DFT.db\",file_list=\"data_list.txt\",overwrite=True, greedy=False) #false only takes last Outcars"
   ]
  },
  {
   "cell_type": "markdown",
   "id": "bdb9cdef",
   "metadata": {},
   "source": [
    "### Generate the CCS_fit input file; structures.json\n",
    "The next commands fetch the training-set data from the ASE database containing the LJ structures and the corresponding energies. The reference data is called ``DFT_DB`` since the most common source of reference data is DFT."
   ]
  },
  {
   "cell_type": "code",
   "execution_count": 10,
   "id": "01508dd9-a761-4197-a132-114a87c0bc8b",
   "metadata": {},
   "outputs": [
    {
     "name": "stdout",
     "output_type": "stream",
     "text": [
      "id| age|formula    |calculator|  energy|natoms| fmax|pbc| volume|charge|    mass| smax|magmom\n",
      " 1|111s|Li16Ni16O32|vasp      |-382.504|    64|0.083|TTT|531.454| 0.000|1562.102|0.003|15.164\n",
      " 2|111s|Li16Ni16O32|vasp      |-382.473|    64|0.189|TTT|530.885| 0.000|1562.102|0.001|14.138\n",
      " 3|111s|Li16Ni16O32|vasp      |-382.485|    64|0.108|TTT|530.636| 0.000|1562.102|0.001|14.174\n",
      " 4|111s|Li16Ni16O32|vasp      |-382.500|    64|0.079|TTT|530.745| 0.000|1562.102|0.001|14.813\n",
      " 5|111s|Li16Ni16O32|vasp      |-382.508|    64|0.090|TTT|530.500| 0.000|1562.102|0.002|15.322\n",
      " 6|110s|Li16Ni16O32|vasp      |-382.490|    64|0.090|TTT|530.824| 0.000|1562.102|0.002|14.136\n",
      " 7|110s|Li16Ni16O32|vasp      |-382.482|    64|0.106|TTT|531.005| 0.000|1562.102|0.002|14.086\n",
      " 8|110s|Li16Ni16O32|vasp      |-382.497|    64|0.081|TTT|530.720| 0.000|1562.102|0.001|14.370\n",
      " 9|110s|Li10Ni16O32|vasp      |-354.532|    58|0.046|TTT|528.673| 0.000|1520.462|0.000| 6.000\n",
      "10|110s|Li10Ni16O32|vasp      |-354.331|    58|0.353|TTT|526.385| 0.000|1520.462|0.002| 6.665\n",
      "11|110s|Li10Ni16O32|vasp      |-354.377|    58|0.336|TTT|526.081| 0.000|1520.462|0.002| 6.444\n",
      "12|110s|Li10Ni16O32|vasp      |-354.404|    58|0.306|TTT|526.212| 0.000|1520.462|0.002| 6.004\n",
      "13|109s|Li10Ni16O32|vasp      |-354.425|    58|0.318|TTT|527.551| 0.000|1520.462|0.001| 6.000\n",
      "14|109s|Li10Ni16O32|vasp      |-354.465|    58|0.245|TTT|528.598| 0.000|1520.462|0.004| 6.000\n",
      "15|109s|Li10Ni16O32|vasp      |-354.499|    58|0.165|TTT|528.301| 0.000|1520.462|0.001| 6.000\n",
      "16|109s|Li10Ni16O32|vasp      |-354.505|    58|0.130|TTT|528.296| 0.000|1520.462|0.000| 6.000\n",
      "17|109s|Li10Ni16O32|vasp      |-354.515|    58|0.099|TTT|528.782| 0.000|1520.462|0.001| 6.000\n",
      "18|109s|Li10Ni16O32|vasp      |-354.524|    58|0.059|TTT|528.595| 0.000|1520.462|0.001| 6.000\n",
      "19|109s|Li10Ni16O32|vasp      |-354.530|    58|0.051|TTT|528.664| 0.000|1520.462|0.000| 6.000\n",
      "20|109s|Li3Ni16O32 |vasp      |-319.443|    51|0.016|TTT|521.047| 0.000|1471.882|0.001| 0.959\n",
      "Rows: 545 (showing first 20)\n",
      "Keys: PBE, key\n"
     ]
    }
   ],
   "source": [
    "!ase db DFT.db"
   ]
  },
  {
   "cell_type": "code",
   "execution_count": 11,
   "id": "e096b5f0",
   "metadata": {},
   "outputs": [
    {
     "name": "stderr",
     "output_type": "stream",
     "text": [
      "    Fetching data: 100%|\u001b[38;2;0;128;128m████████████████████████████████████████████████████████████████\u001b[0m| 545/545 [00:24<00:00, 22.50it/s]\u001b[0m\n"
     ]
    }
   ],
   "source": [
    "from ccs_fit.scripts.ccs_fetch import ccs_fetch\n",
    "\n",
    "ccs_fetch(mode=\"CCS\",DFT_DB=\"DFT.db\",include_forces=Fit_on_forces)"
   ]
  },
  {
   "cell_type": "markdown",
   "id": "59be3faa",
   "metadata": {},
   "source": [
    "### Fit training data to Curvature Constrained Splines\n",
    "Finally, the splines are fitted to the target defined in the structures.json input file. The splines can be restricted to be fully repulsive (\"rep\"), or have a turning point/switch (\"sw\"), which is defined by the \"Swtype\" key.\n"
   ]
  },
  {
   "cell_type": "code",
   "execution_count": 12,
   "id": "8c3ac0c1",
   "metadata": {},
   "outputs": [],
   "source": [
    "### Generate input.json file\n",
    "import json\n",
    "\n",
    "input={\n",
    "    \"General\": {\n",
    "        \"interface\": \"CCS\",\n",
    "        \"merging\"  : \"True\"\n",
    "    },\n",
    "    \"Twobody\": {\n",
    "                \"Xx-Xx\": {\n",
    "                        \"Rcut\": 6.0,\n",
    "                        \"Resolution\": 0.25,\n",
    "                        \"Swtype\": \"sw\",\n",
    "                        \"const_type\" : \"Mono\"\n",
    "                },\n",
    "                \"O-O\": {\n",
    "                        \"Rcut\": 6.0,\n",
    "                        \"Resolution\": 0.25,\n",
    "                        \"Swtype\": \"rep\",\n",
    "                        \"const_type\" : \"Mono\"\n",
    "                },\n",
    "                \"Ta-Ta\": {\n",
    "                        \"Rcut\": 6.0,\n",
    "                        \"Resolution\": 0.25,\n",
    "                        \"Swtype\": \"rep\",\n",
    "                        \"const_type\" : \"Mono\"\n",
    "                },\n",
    "                \"Ni-Ni\": {\n",
    "                        \"Rcut\": 6.0,\n",
    "                        \"Resolution\": 0.25,\n",
    "                        \"Swtype\": \"rep\",\n",
    "                        \"const_type\" : \"Mono\"\n",
    "                },\n",
    "                \"Li-Li\": {\n",
    "                        \"Rcut\": 6.0,\n",
    "                        \"Resolution\": 0.25,\n",
    "                        \"Swtype\": \"rep\",\n",
    "                        \"const_type\" : \"Mono\"\n",
    "                }\n",
    "        }\n",
    "}\n",
    "#SAVE TO FILE\n",
    "with open('CCS_input.json', 'w') as f:\n",
    "    json.dump(input, f, indent=8)"
   ]
  },
  {
   "cell_type": "code",
   "execution_count": 13,
   "id": "df1f9f0f",
   "metadata": {},
   "outputs": [
    {
     "name": "stdout",
     "output_type": "stream",
     "text": [
      "    Generating one-body information from training-set.\n",
      "        Added elements:  ['Li', 'Ni', 'O']\n",
      "    Generating two-body potentials from one-body information.\n",
      "    Adding pair: Li-Ni\n",
      "    Adding pair: Li-O\n",
      "    Adding pair: Ni-O\n",
      "    Applying monotonic constraints for pair:  O-O\n",
      "    Applying monotonic constraints for pair:  Ni-Ni\n",
      "    Applying monotonic constraints for pair:  Li-Li\n",
      "    Applying monotonic constraints for pair:  Li-Ni\n",
      "    Applying monotonic constraints for pair:  Li-O\n",
      "    Applying monotonic constraints for pair:  Ni-O\n",
      "    Merging intervals for pair Ni-Ni; number of intervals reduced from 15 to 9. \n",
      "    Merging intervals for pair Li-Li; number of intervals reduced from 15 to 13. \n",
      "    Merging intervals for pair Li-Ni; number of intervals reduced from 15 to 13. \n",
      "    Merging intervals for pair Li-O; number of intervals reduced from 18 to 16. \n",
      "    Merging intervals for pair Ni-O; number of intervals reduced from 19 to 13. \n",
      "    There is linear dependence in stochiometry matrix!\n",
      "    Removing onebody term: O\n"
     ]
    },
    {
     "name": "stderr",
     "output_type": "stream",
     "text": [
      "    Finding optimum switch: 100%|\u001b[38;2;128;0;128m█████████████████████████████████████████████████████\u001b[0m| 2704/2704 [02:06<00:00, 21.36it/s]\u001b[0m\n"
     ]
    },
    {
     "name": "stdout",
     "output_type": "stream",
     "text": [
      "    The best switch is (16, 9, 13, 10, 1, 7) with rmse: 0.38834263222056886, corresponding to distances of [6.28 4.87 5.77 5.05 2.04 3.44] Å for element pairs ['O-O', 'Ni-Ni', 'Li-Li', 'Li-Ni', 'Li-O', 'Ni-O'].\n"
     ]
    },
    {
     "name": "stderr",
     "output_type": "stream",
     "text": [
      "C:\\Users\\frede\\anaconda3\\envs\\Tantalizing\\lib\\site-packages\\ccs_fit\\fitting\\spline_functions.py:321: RuntimeWarning: invalid value encountered in log\n",
      "  beta = alpha * r0 + np.log(cc / alpha**2)\n"
     ]
    },
    {
     "name": "stdout",
     "output_type": "stream",
     "text": [
      "WARNING: THE PAIR Ni-O IS ONLY SAMPLED IN A REGION WHERE IT IS STILL REPULSIVE. THIS INDICATES THAT THE INTERACTION IS MOST LIKELY POORLY RESOLVED, PROCEED WITH CAUTION!\n"
     ]
    }
   ],
   "source": [
    "#RUN FIT\n",
    "from ccs_fit import ccs_fit\n",
    "\n",
    "ccs_fit(\"CCS_input.json\")"
   ]
  },
  {
   "cell_type": "markdown",
   "id": "3d1f3117-cc0b-4a64-b62f-9ca57a3f0579",
   "metadata": {},
   "source": [
    "### 2nd iteration of fitting"
   ]
  },
  {
   "cell_type": "code",
   "execution_count": 8,
   "id": "dc7a2966-0d9b-40ab-90d4-cf155c134381",
   "metadata": {},
   "outputs": [],
   "source": [
    "### Generate input.json file\n",
    "import json\n",
    "\n",
    "input={\n",
    "    \"General\": {\n",
    "        \"interface\": \"CCS\",\n",
    "        \"merging\"  : \"True\"\n",
    "    },\n",
    "    \"Twobody\": {\n",
    "                \"Li-Ni\": {\n",
    "                        \"Rcut\": 6.0,\n",
    "                        \"Resolution\": 0.02,\n",
    "                        \"Swtype\": \"sw\",\n",
    "                        \"const_type\" : \"Mono\",\n",
    "                        \"search_mode\": \"range\",\n",
    "                        \"range_center\": 3.07,\n",
    "                        \"range_width\": 0.1\n",
    "                },\n",
    "                \"Li-O\": {\n",
    "                        \"Rcut\": 6.0,\n",
    "                        \"Resolution\": 0.02,\n",
    "                        \"Swtype\": \"sw\",\n",
    "                        \"const_type\" : \"Mono\",\n",
    "                        \"search_mode\": \"range\",\n",
    "                        \"range_center\": 2.29,\n",
    "                        \"range_width\": 0.1\n",
    "                },\n",
    "                \"Ni-O\": {\n",
    "                        \"Rcut\": 6.0,\n",
    "                        \"Resolution\": 0.02,\n",
    "                        \"Swtype\": \"sw\",\n",
    "                        \"const_type\" : \"Mono\",\n",
    "                        \"search_mode\": \"range\",\n",
    "                        \"range_center\": 1.89,\n",
    "                        \"range_width\": 0.1\n",
    "                },\n",
    "                \"O-O\": {\n",
    "                        \"Rcut\": 8.0,\n",
    "                        \"Resolution\": 0.02,\n",
    "                        \"Swtype\": \"sw\",\n",
    "                        \"const_type\" : \"Mono\",\n",
    "                        \"search_mode\": \"range\",\n",
    "                        \"range_center\": 2.78,\n",
    "                        \"range_width\": 0.1\n",
    "                },\n",
    "                \"Ni-Ni\": {\n",
    "                        \"Rcut\": 8.0,\n",
    "                        \"Resolution\": 0.02,\n",
    "                        \"Swtype\": \"sw\",\n",
    "                        \"const_type\" : \"Mono\",\n",
    "                        \"search_mode\": \"range\",\n",
    "                        \"range_center\": 2.9,\n",
    "                        \"range_width\": 0.1\n",
    "                },\n",
    "                \"Li-Li\": {\n",
    "                        \"Rcut\": 8.0,\n",
    "                        \"Resolution\": 0.02,\n",
    "                        \"Swtype\": \"sw\",\n",
    "                        \"const_type\" : \"Mono\",\n",
    "                        \"search_mode\": \"range\",\n",
    "                        \"range_center\": 4.82,\n",
    "                        \"range_width\": 0.1\n",
    "                }\n",
    "        }\n",
    "}\n",
    "#SAVE TO FILE\n",
    "with open('CCS_input.json', 'w') as f:\n",
    "    json.dump(input, f, indent=8)"
   ]
  },
  {
   "cell_type": "code",
   "execution_count": 9,
   "id": "73c38d09-fa8b-4445-a742-a00cea4069cc",
   "metadata": {},
   "outputs": [
    {
     "name": "stdout",
     "output_type": "stream",
     "text": [
      "    Generating one-body information from training-set.\n",
      "        Added elements:  ['Li', 'Ni', 'O']\n",
      "    Applying monotonic constraints for pair:  Li-Ni\n",
      "    Applying monotonic constraints for pair:  Li-O\n",
      "    Applying monotonic constraints for pair:  Ni-O\n",
      "    Applying monotonic constraints for pair:  O-O\n",
      "    Applying monotonic constraints for pair:  Ni-Ni\n",
      "    Applying monotonic constraints for pair:  Li-Li\n",
      "    Merging intervals for pair Li-Ni; number of intervals reduced from 125 to 74. \n",
      "    Merging intervals for pair Li-O; number of intervals reduced from 205 to 106. \n",
      "    Merging intervals for pair Ni-O; number of intervals reduced from 210 to 95. \n",
      "    Merging intervals for pair O-O; number of intervals reduced from 178 to 153. \n",
      "    Merging intervals for pair Ni-Ni; number of intervals reduced from 159 to 57. \n",
      "    Merging intervals for pair Li-Li; number of intervals reduced from 168 to 111. \n",
      "    There is linear dependence in stochiometry matrix!\n",
      "    Removing onebody term: O\n",
      "    Range search turned on for element pair Li-Ni; 5 possible switch indices in range of 2.97-3.17 Å.\n",
      "    Range search turned on for element pair Li-O; 5 possible switch indices in range of 2.19-2.39 Å.\n",
      "    Range search turned on for element pair Ni-O; 5 possible switch indices in range of 1.83-1.97 Å.\n",
      "    Range search turned on for element pair O-O; 5 possible switch indices in range of 2.68-2.88 Å.\n",
      "    Range search turned on for element pair Ni-Ni; 3 possible switch indices in range of 2.80-3.00 Å.\n",
      "    Range search turned on for element pair Li-Li; 5 possible switch indices in range of 4.70-4.90 Å.\n"
     ]
    },
    {
     "name": "stderr",
     "output_type": "stream",
     "text": [
      "    Finding optimum switch: 100%|\u001b[38;2;128;0;128m███████████████████████████████████████████████████████████████████\u001b[0m| 9375/9375 [1:28:44<00:00,  1.76it/s]\u001b[0m\n"
     ]
    },
    {
     "name": "stdout",
     "output_type": "stream",
     "text": [
      "    The best switch is (20, 20, 4, 20, 8, 109) with rmse: 0.39781905434506276, corresponding to distances of [3.11 2.33 1.91 2.82 2.9  4.84] Å for element pairs ['Li-Ni', 'Li-O', 'Ni-O', 'O-O', 'Ni-Ni', 'Li-Li'].\n",
      "STRONG WARNING: THE EXPONENTIAL WALL IS ACTUALLY ATTRACTIVE!!!!!!!\n",
      "WARNING: THE PAIR Ni-O IS ONLY SAMPLED IN A REGION WHERE IT IS STILL REPULSIVE. THIS INDICATES THAT THE INTERACTION IS MOST LIKELY POORLY RESOLVED, PROCEED WITH CAUTION!\n",
      "STRONG WARNING: THE EXPONENTIAL WALL IS ACTUALLY ATTRACTIVE!!!!!!!\n",
      "WARNING: THE PAIR Ni-Ni IS ONLY SAMPLED IN A REGION WHERE IT IS STILL REPULSIVE. THIS INDICATES THAT THE INTERACTION IS MOST LIKELY POORLY RESOLVED, PROCEED WITH CAUTION!\n"
     ]
    }
   ],
   "source": [
    "#RUN FIT\n",
    "from ccs_fit import ccs_fit\n",
    "\n",
    "ccs_fit(\"CCS_input.json\")"
   ]
  },
  {
   "cell_type": "markdown",
   "id": "2ce06ae5",
   "metadata": {},
   "source": [
    "### Validate your potential\n",
    "Make sure your potential (at least) reproduce the data points in your training-set. Performin further tests on strucutres not included in the training-set is recomended but not included in the tutorial."
   ]
  },
  {
   "cell_type": "code",
   "execution_count": 14,
   "id": "7e429885",
   "metadata": {},
   "outputs": [
    {
     "name": "stderr",
     "output_type": "stream",
     "text": [
      "  0%|\u001b[38;2;128;0;0m                                                                                             \u001b[0m| 0/545 [00:00<?, ?it/s]\u001b[0mC:\\Users\\frede\\anaconda3\\envs\\Tantalizing\\lib\\site-packages\\ase\\utils\\__init__.py:62: FutureWarning: Please use atoms.cell.rank instead\n",
      "  warnings.warn(warning)\n"
     ]
    },
    {
     "name": "stdout",
     "output_type": "stream",
     "text": [
      "Warning: stress tensor calculation not fully tested\n"
     ]
    },
    {
     "name": "stderr",
     "output_type": "stream",
     "text": [
      "  0%|\u001b[38;2;128;0;0m▏                                                                                    \u001b[0m| 1/545 [00:00<02:33,  3.54it/s]\u001b[0m"
     ]
    },
    {
     "name": "stdout",
     "output_type": "stream",
     "text": [
      "Warning: stress tensor calculation not fully tested\n"
     ]
    },
    {
     "name": "stderr",
     "output_type": "stream",
     "text": [
      "  0%|\u001b[38;2;128;0;0m▎                                                                                    \u001b[0m| 2/545 [00:00<02:21,  3.84it/s]\u001b[0m"
     ]
    },
    {
     "name": "stdout",
     "output_type": "stream",
     "text": [
      "Warning: stress tensor calculation not fully tested\n"
     ]
    },
    {
     "name": "stderr",
     "output_type": "stream",
     "text": [
      "  1%|\u001b[38;2;128;0;0m▍                                                                                    \u001b[0m| 3/545 [00:00<02:17,  3.95it/s]\u001b[0m"
     ]
    },
    {
     "name": "stdout",
     "output_type": "stream",
     "text": [
      "Warning: stress tensor calculation not fully tested\n"
     ]
    },
    {
     "name": "stderr",
     "output_type": "stream",
     "text": [
      "  1%|\u001b[38;2;128;0;0m▌                                                                                    \u001b[0m| 4/545 [00:01<02:15,  3.98it/s]\u001b[0m"
     ]
    },
    {
     "name": "stdout",
     "output_type": "stream",
     "text": [
      "Warning: stress tensor calculation not fully tested\n"
     ]
    },
    {
     "name": "stderr",
     "output_type": "stream",
     "text": [
      "  1%|\u001b[38;2;128;0;0m▊                                                                                    \u001b[0m| 5/545 [00:01<02:14,  4.02it/s]\u001b[0m"
     ]
    },
    {
     "name": "stdout",
     "output_type": "stream",
     "text": [
      "Warning: stress tensor calculation not fully tested\n"
     ]
    },
    {
     "name": "stderr",
     "output_type": "stream",
     "text": [
      "  1%|\u001b[38;2;128;0;0m▉                                                                                    \u001b[0m| 6/545 [00:01<02:13,  4.04it/s]\u001b[0m"
     ]
    },
    {
     "name": "stdout",
     "output_type": "stream",
     "text": [
      "Warning: stress tensor calculation not fully tested\n"
     ]
    },
    {
     "name": "stderr",
     "output_type": "stream",
     "text": [
      "  1%|\u001b[38;2;128;0;0m█                                                                                    \u001b[0m| 7/545 [00:01<02:13,  4.03it/s]\u001b[0m"
     ]
    },
    {
     "name": "stdout",
     "output_type": "stream",
     "text": [
      "Warning: stress tensor calculation not fully tested\n"
     ]
    },
    {
     "name": "stderr",
     "output_type": "stream",
     "text": [
      "  2%|\u001b[38;2;128;0;0m█▍                                                                                   \u001b[0m| 9/545 [00:02<02:06,  4.24it/s]\u001b[0m"
     ]
    },
    {
     "name": "stdout",
     "output_type": "stream",
     "text": [
      "Warning: stress tensor calculation not fully tested\n"
     ]
    },
    {
     "name": "stderr",
     "output_type": "stream",
     "text": [
      "  2%|\u001b[38;2;128;0;0m█▌                                                                                  \u001b[0m| 10/545 [00:02<02:00,  4.43it/s]\u001b[0m"
     ]
    },
    {
     "name": "stdout",
     "output_type": "stream",
     "text": [
      "Warning: stress tensor calculation not fully tested\n",
      "Warning: stress tensor calculation not fully tested\n"
     ]
    },
    {
     "name": "stderr",
     "output_type": "stream",
     "text": [
      "  2%|\u001b[38;2;128;0;0m█▋                                                                                  \u001b[0m| 11/545 [00:02<02:00,  4.44it/s]\u001b[0m"
     ]
    },
    {
     "name": "stdout",
     "output_type": "stream",
     "text": [
      "Warning: stress tensor calculation not fully tested\n"
     ]
    },
    {
     "name": "stderr",
     "output_type": "stream",
     "text": [
      "  2%|\u001b[38;2;128;0;0m██                                                                                  \u001b[0m| 13/545 [00:03<01:55,  4.59it/s]\u001b[0m"
     ]
    },
    {
     "name": "stdout",
     "output_type": "stream",
     "text": [
      "Warning: stress tensor calculation not fully tested\n"
     ]
    },
    {
     "name": "stderr",
     "output_type": "stream",
     "text": [
      "  3%|\u001b[38;2;128;0;0m██▏                                                                                 \u001b[0m| 14/545 [00:03<01:53,  4.68it/s]\u001b[0m"
     ]
    },
    {
     "name": "stdout",
     "output_type": "stream",
     "text": [
      "Warning: stress tensor calculation not fully tested\n",
      "Warning: stress tensor calculation not fully tested\n"
     ]
    },
    {
     "name": "stderr",
     "output_type": "stream",
     "text": [
      "  3%|\u001b[38;2;128;0;0m██▍                                                                                 \u001b[0m| 16/545 [00:03<01:51,  4.76it/s]\u001b[0m"
     ]
    },
    {
     "name": "stdout",
     "output_type": "stream",
     "text": [
      "Warning: stress tensor calculation not fully tested\n",
      "Warning: stress tensor calculation not fully tested\n"
     ]
    },
    {
     "name": "stderr",
     "output_type": "stream",
     "text": [
      "  3%|\u001b[38;2;128;0;0m██▌                                                                                 \u001b[0m| 17/545 [00:03<01:51,  4.73it/s]\u001b[0m"
     ]
    },
    {
     "name": "stdout",
     "output_type": "stream",
     "text": [
      "Warning: stress tensor calculation not fully tested\n"
     ]
    },
    {
     "name": "stderr",
     "output_type": "stream",
     "text": [
      "  3%|\u001b[38;2;128;0;0m██▉                                                                                 \u001b[0m| 19/545 [00:04<01:49,  4.79it/s]\u001b[0m"
     ]
    },
    {
     "name": "stdout",
     "output_type": "stream",
     "text": [
      "Warning: stress tensor calculation not fully tested\n"
     ]
    },
    {
     "name": "stderr",
     "output_type": "stream",
     "text": [
      "  4%|\u001b[38;2;128;0;0m███                                                                                 \u001b[0m| 20/545 [00:04<01:42,  5.14it/s]\u001b[0m"
     ]
    },
    {
     "name": "stdout",
     "output_type": "stream",
     "text": [
      "Warning: stress tensor calculation not fully tested\n",
      "Warning: stress tensor calculation not fully tested\n"
     ]
    },
    {
     "name": "stderr",
     "output_type": "stream",
     "text": [
      "  4%|\u001b[38;2;128;0;0m███▍                                                                                \u001b[0m| 22/545 [00:04<01:32,  5.63it/s]\u001b[0m"
     ]
    },
    {
     "name": "stdout",
     "output_type": "stream",
     "text": [
      "Warning: stress tensor calculation not fully tested\n",
      "Warning: stress tensor calculation not fully tested\n"
     ]
    },
    {
     "name": "stderr",
     "output_type": "stream",
     "text": [
      "  4%|\u001b[38;2;128;0;0m███▋                                                                                \u001b[0m| 24/545 [00:05<01:31,  5.69it/s]\u001b[0m"
     ]
    },
    {
     "name": "stdout",
     "output_type": "stream",
     "text": [
      "Warning: stress tensor calculation not fully tested\n",
      "Warning: stress tensor calculation not fully tested\n"
     ]
    },
    {
     "name": "stderr",
     "output_type": "stream",
     "text": [
      "  5%|\u001b[38;2;128;0;0m████                                                                                \u001b[0m| 26/545 [00:05<01:31,  5.69it/s]\u001b[0m"
     ]
    },
    {
     "name": "stdout",
     "output_type": "stream",
     "text": [
      "Warning: stress tensor calculation not fully tested\n"
     ]
    },
    {
     "name": "stderr",
     "output_type": "stream",
     "text": [
      "  5%|\u001b[38;2;128;0;0m████▏                                                                               \u001b[0m| 27/545 [00:05<01:31,  5.65it/s]\u001b[0m"
     ]
    },
    {
     "name": "stdout",
     "output_type": "stream",
     "text": [
      "Warning: stress tensor calculation not fully tested\n",
      "Warning: stress tensor calculation not fully tested\n"
     ]
    },
    {
     "name": "stderr",
     "output_type": "stream",
     "text": [
      "  5%|\u001b[38;2;128;0;0m████▍                                                                               \u001b[0m| 29/545 [00:06<01:31,  5.66it/s]\u001b[0m"
     ]
    },
    {
     "name": "stdout",
     "output_type": "stream",
     "text": [
      "Warning: stress tensor calculation not fully tested\n",
      "Warning: stress tensor calculation not fully tested\n"
     ]
    },
    {
     "name": "stderr",
     "output_type": "stream",
     "text": [
      "  6%|\u001b[38;2;128;0;0m████▊                                                                               \u001b[0m| 31/545 [00:06<01:33,  5.52it/s]\u001b[0m"
     ]
    },
    {
     "name": "stdout",
     "output_type": "stream",
     "text": [
      "Warning: stress tensor calculation not fully tested\n"
     ]
    },
    {
     "name": "stderr",
     "output_type": "stream",
     "text": [
      "  6%|\u001b[38;2;128;0;0m████▉                                                                               \u001b[0m| 32/545 [00:06<01:33,  5.49it/s]\u001b[0m"
     ]
    },
    {
     "name": "stdout",
     "output_type": "stream",
     "text": [
      "Warning: stress tensor calculation not fully tested\n",
      "Warning: stress tensor calculation not fully tested\n"
     ]
    },
    {
     "name": "stderr",
     "output_type": "stream",
     "text": [
      "  6%|\u001b[38;2;128;0;0m█████▏                                                                              \u001b[0m| 34/545 [00:06<01:33,  5.47it/s]\u001b[0m"
     ]
    },
    {
     "name": "stdout",
     "output_type": "stream",
     "text": [
      "Warning: stress tensor calculation not fully tested\n",
      "Warning: stress tensor calculation not fully tested\n"
     ]
    },
    {
     "name": "stderr",
     "output_type": "stream",
     "text": [
      "  7%|\u001b[38;2;128;0;0m█████▌                                                                              \u001b[0m| 36/545 [00:07<01:33,  5.44it/s]\u001b[0m"
     ]
    },
    {
     "name": "stdout",
     "output_type": "stream",
     "text": [
      "Warning: stress tensor calculation not fully tested\n"
     ]
    },
    {
     "name": "stderr",
     "output_type": "stream",
     "text": [
      "  7%|\u001b[38;2;128;0;0m█████▋                                                                              \u001b[0m| 37/545 [00:07<01:33,  5.41it/s]\u001b[0m"
     ]
    },
    {
     "name": "stdout",
     "output_type": "stream",
     "text": [
      "Warning: stress tensor calculation not fully tested\n",
      "Warning: stress tensor calculation not fully tested\n"
     ]
    },
    {
     "name": "stderr",
     "output_type": "stream",
     "text": [
      "  7%|\u001b[38;2;128;0;0m██████                                                                              \u001b[0m| 39/545 [00:07<01:33,  5.42it/s]\u001b[0m"
     ]
    },
    {
     "name": "stdout",
     "output_type": "stream",
     "text": [
      "Warning: stress tensor calculation not fully tested\n",
      "Warning: stress tensor calculation not fully tested\n"
     ]
    },
    {
     "name": "stderr",
     "output_type": "stream",
     "text": [
      "  8%|\u001b[38;2;128;0;0m██████▎                                                                             \u001b[0m| 41/545 [00:08<01:33,  5.40it/s]\u001b[0m"
     ]
    },
    {
     "name": "stdout",
     "output_type": "stream",
     "text": [
      "Warning: stress tensor calculation not fully tested\n"
     ]
    },
    {
     "name": "stderr",
     "output_type": "stream",
     "text": [
      "  8%|\u001b[38;2;128;0;0m██████▍                                                                             \u001b[0m| 42/545 [00:08<01:34,  5.32it/s]\u001b[0m"
     ]
    },
    {
     "name": "stdout",
     "output_type": "stream",
     "text": [
      "Warning: stress tensor calculation not fully tested\n",
      "Warning: stress tensor calculation not fully tested\n"
     ]
    },
    {
     "name": "stderr",
     "output_type": "stream",
     "text": [
      "  8%|\u001b[38;2;128;0;0m██████▊                                                                             \u001b[0m| 44/545 [00:08<01:24,  5.95it/s]\u001b[0m"
     ]
    },
    {
     "name": "stdout",
     "output_type": "stream",
     "text": [
      "Warning: stress tensor calculation not fully tested\n",
      "Warning: stress tensor calculation not fully tested\n"
     ]
    },
    {
     "name": "stderr",
     "output_type": "stream",
     "text": [
      "  8%|\u001b[38;2;128;0;0m███████                                                                             \u001b[0m| 46/545 [00:09<01:23,  5.95it/s]\u001b[0m"
     ]
    },
    {
     "name": "stdout",
     "output_type": "stream",
     "text": [
      "Warning: stress tensor calculation not fully tested\n",
      "Warning: stress tensor calculation not fully tested\n"
     ]
    },
    {
     "name": "stderr",
     "output_type": "stream",
     "text": [
      "  9%|\u001b[38;2;128;0;0m███████▍                                                                            \u001b[0m| 48/545 [00:09<01:25,  5.82it/s]\u001b[0m"
     ]
    },
    {
     "name": "stdout",
     "output_type": "stream",
     "text": [
      "Warning: stress tensor calculation not fully tested\n",
      "Warning: stress tensor calculation not fully tested\n"
     ]
    },
    {
     "name": "stderr",
     "output_type": "stream",
     "text": [
      "  9%|\u001b[38;2;128;0;0m███████▋                                                                            \u001b[0m| 50/545 [00:09<01:25,  5.80it/s]\u001b[0m"
     ]
    },
    {
     "name": "stdout",
     "output_type": "stream",
     "text": [
      "Warning: stress tensor calculation not fully tested\n",
      "Warning: stress tensor calculation not fully tested\n"
     ]
    },
    {
     "name": "stderr",
     "output_type": "stream",
     "text": [
      " 10%|\u001b[38;2;128;0;0m████████                                                                            \u001b[0m| 52/545 [00:10<01:25,  5.76it/s]\u001b[0m"
     ]
    },
    {
     "name": "stdout",
     "output_type": "stream",
     "text": [
      "Warning: stress tensor calculation not fully tested\n",
      "Warning: stress tensor calculation not fully tested\n"
     ]
    },
    {
     "name": "stderr",
     "output_type": "stream",
     "text": [
      " 10%|\u001b[38;2;128;0;0m████████▎                                                                           \u001b[0m| 54/545 [00:10<01:29,  5.51it/s]\u001b[0m"
     ]
    },
    {
     "name": "stdout",
     "output_type": "stream",
     "text": [
      "Warning: stress tensor calculation not fully tested\n",
      "Warning: stress tensor calculation not fully tested\n"
     ]
    },
    {
     "name": "stderr",
     "output_type": "stream",
     "text": [
      " 10%|\u001b[38;2;128;0;0m████████▋                                                                           \u001b[0m| 56/545 [00:10<01:30,  5.43it/s]\u001b[0m"
     ]
    },
    {
     "name": "stdout",
     "output_type": "stream",
     "text": [
      "Warning: stress tensor calculation not fully tested\n",
      "Warning: stress tensor calculation not fully tested\n"
     ]
    },
    {
     "name": "stderr",
     "output_type": "stream",
     "text": [
      " 11%|\u001b[38;2;128;0;0m████████▉                                                                           \u001b[0m| 58/545 [00:11<01:30,  5.37it/s]\u001b[0m"
     ]
    },
    {
     "name": "stdout",
     "output_type": "stream",
     "text": [
      "Warning: stress tensor calculation not fully tested\n"
     ]
    },
    {
     "name": "stderr",
     "output_type": "stream",
     "text": [
      " 11%|\u001b[38;2;128;0;0m█████████                                                                           \u001b[0m| 59/545 [00:11<01:30,  5.38it/s]\u001b[0m"
     ]
    },
    {
     "name": "stdout",
     "output_type": "stream",
     "text": [
      "Warning: stress tensor calculation not fully tested\n",
      "Warning: stress tensor calculation not fully tested\n"
     ]
    },
    {
     "name": "stderr",
     "output_type": "stream",
     "text": [
      " 11%|\u001b[38;2;128;0;0m█████████▍                                                                          \u001b[0m| 61/545 [00:11<01:30,  5.37it/s]\u001b[0m"
     ]
    },
    {
     "name": "stdout",
     "output_type": "stream",
     "text": [
      "Warning: stress tensor calculation not fully tested\n"
     ]
    },
    {
     "name": "stderr",
     "output_type": "stream",
     "text": [
      " 11%|\u001b[38;2;128;0;0m█████████▌                                                                          \u001b[0m| 62/545 [00:12<01:30,  5.36it/s]\u001b[0m"
     ]
    },
    {
     "name": "stdout",
     "output_type": "stream",
     "text": [
      "Warning: stress tensor calculation not fully tested\n",
      "Warning: stress tensor calculation not fully tested\n"
     ]
    },
    {
     "name": "stderr",
     "output_type": "stream",
     "text": [
      " 12%|\u001b[38;2;128;0;0m█████████▊                                                                          \u001b[0m| 64/545 [00:12<01:32,  5.23it/s]\u001b[0m"
     ]
    },
    {
     "name": "stdout",
     "output_type": "stream",
     "text": [
      "Warning: stress tensor calculation not fully tested\n"
     ]
    },
    {
     "name": "stderr",
     "output_type": "stream",
     "text": [
      " 12%|\u001b[38;2;128;0;0m██████████                                                                          \u001b[0m| 65/545 [00:12<01:31,  5.25it/s]\u001b[0m"
     ]
    },
    {
     "name": "stdout",
     "output_type": "stream",
     "text": [
      "Warning: stress tensor calculation not fully tested\n",
      "Warning: stress tensor calculation not fully tested\n"
     ]
    },
    {
     "name": "stderr",
     "output_type": "stream",
     "text": [
      " 12%|\u001b[38;2;128;0;0m██████████▎                                                                         \u001b[0m| 67/545 [00:12<01:31,  5.22it/s]\u001b[0m"
     ]
    },
    {
     "name": "stdout",
     "output_type": "stream",
     "text": [
      "Warning: stress tensor calculation not fully tested\n"
     ]
    },
    {
     "name": "stderr",
     "output_type": "stream",
     "text": [
      " 12%|\u001b[38;2;128;0;0m██████████▍                                                                         \u001b[0m| 68/545 [00:13<01:31,  5.24it/s]\u001b[0m"
     ]
    },
    {
     "name": "stdout",
     "output_type": "stream",
     "text": [
      "Warning: stress tensor calculation not fully tested\n"
     ]
    },
    {
     "name": "stderr",
     "output_type": "stream",
     "text": [
      " 13%|\u001b[38;2;128;0;0m██████████▋                                                                         \u001b[0m| 69/545 [00:13<01:31,  5.22it/s]\u001b[0m"
     ]
    },
    {
     "name": "stdout",
     "output_type": "stream",
     "text": [
      "Warning: stress tensor calculation not fully tested\n"
     ]
    },
    {
     "name": "stderr",
     "output_type": "stream",
     "text": [
      " 13%|\u001b[38;2;128;0;0m██████████▊                                                                         \u001b[0m| 70/545 [00:13<01:30,  5.23it/s]\u001b[0m"
     ]
    },
    {
     "name": "stdout",
     "output_type": "stream",
     "text": [
      "Warning: stress tensor calculation not fully tested\n"
     ]
    },
    {
     "name": "stderr",
     "output_type": "stream",
     "text": [
      " 13%|\u001b[38;2;128;0;0m██████████▉                                                                         \u001b[0m| 71/545 [00:13<01:31,  5.21it/s]\u001b[0m"
     ]
    },
    {
     "name": "stdout",
     "output_type": "stream",
     "text": [
      "Warning: stress tensor calculation not fully tested\n",
      "Warning: stress tensor calculation not fully tested\n"
     ]
    },
    {
     "name": "stderr",
     "output_type": "stream",
     "text": [
      " 13%|\u001b[38;2;128;0;0m███████████▎                                                                        \u001b[0m| 73/545 [00:14<01:35,  4.95it/s]\u001b[0m"
     ]
    },
    {
     "name": "stdout",
     "output_type": "stream",
     "text": [
      "Warning: stress tensor calculation not fully tested\n",
      "Warning: stress tensor calculation not fully tested\n"
     ]
    },
    {
     "name": "stderr",
     "output_type": "stream",
     "text": [
      " 14%|\u001b[38;2;128;0;0m███████████▌                                                                        \u001b[0m| 75/545 [00:14<01:36,  4.89it/s]\u001b[0m"
     ]
    },
    {
     "name": "stdout",
     "output_type": "stream",
     "text": [
      "Warning: stress tensor calculation not fully tested\n"
     ]
    },
    {
     "name": "stderr",
     "output_type": "stream",
     "text": [
      " 14%|\u001b[38;2;128;0;0m███████████▋                                                                        \u001b[0m| 76/545 [00:14<01:34,  4.95it/s]\u001b[0m"
     ]
    },
    {
     "name": "stdout",
     "output_type": "stream",
     "text": [
      "Warning: stress tensor calculation not fully tested\n"
     ]
    },
    {
     "name": "stderr",
     "output_type": "stream",
     "text": [
      " 14%|\u001b[38;2;128;0;0m███████████▊                                                                        \u001b[0m| 77/545 [00:14<01:33,  4.99it/s]\u001b[0m"
     ]
    },
    {
     "name": "stdout",
     "output_type": "stream",
     "text": [
      "Warning: stress tensor calculation not fully tested\n"
     ]
    },
    {
     "name": "stderr",
     "output_type": "stream",
     "text": [
      " 14%|\u001b[38;2;128;0;0m████████████                                                                        \u001b[0m| 78/545 [00:15<01:31,  5.11it/s]\u001b[0m"
     ]
    },
    {
     "name": "stdout",
     "output_type": "stream",
     "text": [
      "Warning: stress tensor calculation not fully tested\n",
      "Warning: stress tensor calculation not fully tested\n"
     ]
    },
    {
     "name": "stderr",
     "output_type": "stream",
     "text": [
      " 15%|\u001b[38;2;128;0;0m████████████▎                                                                       \u001b[0m| 80/545 [00:15<01:32,  5.05it/s]\u001b[0m"
     ]
    },
    {
     "name": "stdout",
     "output_type": "stream",
     "text": [
      "Warning: stress tensor calculation not fully tested\n"
     ]
    },
    {
     "name": "stderr",
     "output_type": "stream",
     "text": [
      " 15%|\u001b[38;2;128;0;0m████████████▍                                                                       \u001b[0m| 81/545 [00:15<01:32,  5.02it/s]\u001b[0m"
     ]
    },
    {
     "name": "stdout",
     "output_type": "stream",
     "text": [
      "Warning: stress tensor calculation not fully tested\n"
     ]
    },
    {
     "name": "stderr",
     "output_type": "stream",
     "text": [
      " 15%|\u001b[38;2;128;0;0m████████████▋                                                                       \u001b[0m| 82/545 [00:15<01:31,  5.05it/s]\u001b[0m"
     ]
    },
    {
     "name": "stdout",
     "output_type": "stream",
     "text": [
      "Warning: stress tensor calculation not fully tested\n"
     ]
    },
    {
     "name": "stderr",
     "output_type": "stream",
     "text": [
      " 15%|\u001b[38;2;128;0;0m████████████▊                                                                       \u001b[0m| 83/545 [00:16<01:31,  5.05it/s]\u001b[0m"
     ]
    },
    {
     "name": "stdout",
     "output_type": "stream",
     "text": [
      "Warning: stress tensor calculation not fully tested\n",
      "Warning: stress tensor calculation not fully tested\n"
     ]
    },
    {
     "name": "stderr",
     "output_type": "stream",
     "text": [
      " 15%|\u001b[38;2;128;0;0m████████████▉                                                                       \u001b[0m| 84/545 [00:16<01:34,  4.88it/s]\u001b[0m"
     ]
    },
    {
     "name": "stdout",
     "output_type": "stream",
     "text": [
      "Warning: stress tensor calculation not fully tested\n"
     ]
    },
    {
     "name": "stderr",
     "output_type": "stream",
     "text": [
      " 16%|\u001b[38;2;128;0;0m█████████████                                                                       \u001b[0m| 85/545 [00:16<01:34,  4.86it/s]\u001b[0m"
     ]
    },
    {
     "name": "stdout",
     "output_type": "stream",
     "text": [
      "Warning: stress tensor calculation not fully tested\n"
     ]
    },
    {
     "name": "stderr",
     "output_type": "stream",
     "text": [
      " 16%|\u001b[38;2;128;0;0m█████████████▍                                                                      \u001b[0m| 87/545 [00:17<01:35,  4.79it/s]\u001b[0m"
     ]
    },
    {
     "name": "stdout",
     "output_type": "stream",
     "text": [
      "Warning: stress tensor calculation not fully tested\n",
      "Warning: stress tensor calculation not fully tested\n"
     ]
    },
    {
     "name": "stderr",
     "output_type": "stream",
     "text": [
      " 16%|\u001b[38;2;128;0;0m█████████████▌                                                                      \u001b[0m| 88/545 [00:17<01:36,  4.72it/s]\u001b[0m"
     ]
    },
    {
     "name": "stdout",
     "output_type": "stream",
     "text": [
      "Warning: stress tensor calculation not fully tested\n"
     ]
    },
    {
     "name": "stderr",
     "output_type": "stream",
     "text": [
      " 17%|\u001b[38;2;128;0;0m█████████████▊                                                                      \u001b[0m| 90/545 [00:17<01:16,  5.97it/s]\u001b[0m"
     ]
    },
    {
     "name": "stdout",
     "output_type": "stream",
     "text": [
      "Warning: stress tensor calculation not fully tested\n"
     ]
    },
    {
     "name": "stderr",
     "output_type": "stream",
     "text": [
      " 17%|\u001b[38;2;128;0;0m██████████████▏                                                                     \u001b[0m| 92/545 [00:17<01:21,  5.55it/s]\u001b[0m"
     ]
    },
    {
     "name": "stdout",
     "output_type": "stream",
     "text": [
      "Warning: stress tensor calculation not fully tested\n",
      "Warning: stress tensor calculation not fully tested\n"
     ]
    },
    {
     "name": "stderr",
     "output_type": "stream",
     "text": [
      " 17%|\u001b[38;2;128;0;0m██████████████▍                                                                     \u001b[0m| 94/545 [00:18<01:23,  5.40it/s]\u001b[0m"
     ]
    },
    {
     "name": "stdout",
     "output_type": "stream",
     "text": [
      "Warning: stress tensor calculation not fully tested\n",
      "Warning: stress tensor calculation not fully tested\n"
     ]
    },
    {
     "name": "stderr",
     "output_type": "stream",
     "text": [
      " 18%|\u001b[38;2;128;0;0m██████████████▊                                                                     \u001b[0m| 96/545 [00:18<01:23,  5.40it/s]\u001b[0m"
     ]
    },
    {
     "name": "stdout",
     "output_type": "stream",
     "text": [
      "Warning: stress tensor calculation not fully tested\n",
      "Warning: stress tensor calculation not fully tested\n"
     ]
    },
    {
     "name": "stderr",
     "output_type": "stream",
     "text": [
      " 18%|\u001b[38;2;128;0;0m███████████████                                                                     \u001b[0m| 98/545 [00:18<01:23,  5.36it/s]\u001b[0m"
     ]
    },
    {
     "name": "stdout",
     "output_type": "stream",
     "text": [
      "Warning: stress tensor calculation not fully tested\n",
      "Warning: stress tensor calculation not fully tested\n"
     ]
    },
    {
     "name": "stderr",
     "output_type": "stream",
     "text": [
      " 18%|\u001b[38;2;128;0;0m███████████████▏                                                                   \u001b[0m| 100/545 [00:19<01:24,  5.24it/s]\u001b[0m"
     ]
    },
    {
     "name": "stdout",
     "output_type": "stream",
     "text": [
      "Warning: stress tensor calculation not fully tested\n"
     ]
    },
    {
     "name": "stderr",
     "output_type": "stream",
     "text": [
      " 19%|\u001b[38;2;128;0;0m███████████████▍                                                                   \u001b[0m| 101/545 [00:19<01:25,  5.22it/s]\u001b[0m"
     ]
    },
    {
     "name": "stdout",
     "output_type": "stream",
     "text": [
      "Warning: stress tensor calculation not fully tested\n",
      "Warning: stress tensor calculation not fully tested\n"
     ]
    },
    {
     "name": "stderr",
     "output_type": "stream",
     "text": [
      " 19%|\u001b[38;2;128;0;0m███████████████▌                                                                   \u001b[0m| 102/545 [00:19<01:31,  4.86it/s]\u001b[0m"
     ]
    },
    {
     "name": "stdout",
     "output_type": "stream",
     "text": [
      "Warning: stress tensor calculation not fully tested\n"
     ]
    },
    {
     "name": "stderr",
     "output_type": "stream",
     "text": [
      " 19%|\u001b[38;2;128;0;0m███████████████▋                                                                   \u001b[0m| 103/545 [00:20<01:34,  4.67it/s]\u001b[0m"
     ]
    },
    {
     "name": "stdout",
     "output_type": "stream",
     "text": [
      "Warning: stress tensor calculation not fully tested\n"
     ]
    },
    {
     "name": "stderr",
     "output_type": "stream",
     "text": [
      " 19%|\u001b[38;2;128;0;0m███████████████▊                                                                   \u001b[0m| 104/545 [00:20<01:38,  4.49it/s]\u001b[0m"
     ]
    },
    {
     "name": "stdout",
     "output_type": "stream",
     "text": [
      "Warning: stress tensor calculation not fully tested\n"
     ]
    },
    {
     "name": "stderr",
     "output_type": "stream",
     "text": [
      " 19%|\u001b[38;2;128;0;0m████████████████▏                                                                  \u001b[0m| 106/545 [00:20<01:33,  4.68it/s]\u001b[0m"
     ]
    },
    {
     "name": "stdout",
     "output_type": "stream",
     "text": [
      "Warning: stress tensor calculation not fully tested\n"
     ]
    },
    {
     "name": "stderr",
     "output_type": "stream",
     "text": [
      " 20%|\u001b[38;2;128;0;0m████████████████▎                                                                  \u001b[0m| 107/545 [00:20<01:29,  4.90it/s]\u001b[0m"
     ]
    },
    {
     "name": "stdout",
     "output_type": "stream",
     "text": [
      "Warning: stress tensor calculation not fully tested\n",
      "Warning: stress tensor calculation not fully tested\n"
     ]
    },
    {
     "name": "stderr",
     "output_type": "stream",
     "text": [
      " 20%|\u001b[38;2;128;0;0m████████████████▌                                                                  \u001b[0m| 109/545 [00:21<01:24,  5.17it/s]\u001b[0m"
     ]
    },
    {
     "name": "stdout",
     "output_type": "stream",
     "text": [
      "Warning: stress tensor calculation not fully tested\n"
     ]
    },
    {
     "name": "stderr",
     "output_type": "stream",
     "text": [
      " 20%|\u001b[38;2;128;0;0m████████████████▊                                                                  \u001b[0m| 110/545 [00:21<01:23,  5.22it/s]\u001b[0m"
     ]
    },
    {
     "name": "stdout",
     "output_type": "stream",
     "text": [
      "Warning: stress tensor calculation not fully tested\n",
      "Warning: stress tensor calculation not fully tested\n"
     ]
    },
    {
     "name": "stderr",
     "output_type": "stream",
     "text": [
      " 20%|\u001b[38;2;128;0;0m████████████████▉                                                                  \u001b[0m| 111/545 [00:21<01:26,  5.05it/s]\u001b[0m"
     ]
    },
    {
     "name": "stdout",
     "output_type": "stream",
     "text": [
      "Warning: stress tensor calculation not fully tested\n"
     ]
    },
    {
     "name": "stderr",
     "output_type": "stream",
     "text": [
      " 21%|\u001b[38;2;128;0;0m█████████████████▏                                                                 \u001b[0m| 113/545 [00:22<01:30,  4.78it/s]\u001b[0m"
     ]
    },
    {
     "name": "stdout",
     "output_type": "stream",
     "text": [
      "Warning: stress tensor calculation not fully tested\n"
     ]
    },
    {
     "name": "stderr",
     "output_type": "stream",
     "text": [
      " 21%|\u001b[38;2;128;0;0m█████████████████▎                                                                 \u001b[0m| 114/545 [00:22<01:24,  5.09it/s]\u001b[0m"
     ]
    },
    {
     "name": "stdout",
     "output_type": "stream",
     "text": [
      "Warning: stress tensor calculation not fully tested\n",
      "Warning: stress tensor calculation not fully tested\n"
     ]
    },
    {
     "name": "stderr",
     "output_type": "stream",
     "text": [
      " 21%|\u001b[38;2;128;0;0m█████████████████▋                                                                 \u001b[0m| 116/545 [00:22<01:17,  5.55it/s]\u001b[0m"
     ]
    },
    {
     "name": "stdout",
     "output_type": "stream",
     "text": [
      "Warning: stress tensor calculation not fully tested\n",
      "Warning: stress tensor calculation not fully tested\n"
     ]
    },
    {
     "name": "stderr",
     "output_type": "stream",
     "text": [
      " 21%|\u001b[38;2;128;0;0m█████████████████▊                                                                 \u001b[0m| 117/545 [00:22<01:15,  5.68it/s]\u001b[0m"
     ]
    },
    {
     "name": "stdout",
     "output_type": "stream",
     "text": [
      "Warning: stress tensor calculation not fully tested\n"
     ]
    },
    {
     "name": "stderr",
     "output_type": "stream",
     "text": [
      " 22%|\u001b[38;2;128;0;0m█████████████████▉                                                                 \u001b[0m| 118/545 [00:23<01:24,  5.06it/s]\u001b[0m"
     ]
    },
    {
     "name": "stdout",
     "output_type": "stream",
     "text": [
      "Warning: stress tensor calculation not fully tested\n"
     ]
    },
    {
     "name": "stderr",
     "output_type": "stream",
     "text": [
      " 22%|\u001b[38;2;128;0;0m██████████████████                                                                 \u001b[0m| 119/545 [00:23<01:28,  4.79it/s]\u001b[0m"
     ]
    },
    {
     "name": "stdout",
     "output_type": "stream",
     "text": [
      "Warning: stress tensor calculation not fully tested\n"
     ]
    },
    {
     "name": "stderr",
     "output_type": "stream",
     "text": [
      " 22%|\u001b[38;2;128;0;0m██████████████████▍                                                                \u001b[0m| 121/545 [00:23<01:25,  4.97it/s]\u001b[0m"
     ]
    },
    {
     "name": "stdout",
     "output_type": "stream",
     "text": [
      "Warning: stress tensor calculation not fully tested\n",
      "Warning: stress tensor calculation not fully tested\n"
     ]
    },
    {
     "name": "stderr",
     "output_type": "stream",
     "text": [
      " 23%|\u001b[38;2;128;0;0m██████████████████▋                                                                \u001b[0m| 123/545 [00:23<01:18,  5.40it/s]\u001b[0m"
     ]
    },
    {
     "name": "stdout",
     "output_type": "stream",
     "text": [
      "Warning: stress tensor calculation not fully tested\n",
      "Warning: stress tensor calculation not fully tested\n"
     ]
    },
    {
     "name": "stderr",
     "output_type": "stream",
     "text": [
      " 23%|\u001b[38;2;128;0;0m███████████████████                                                                \u001b[0m| 125/545 [00:24<01:15,  5.54it/s]\u001b[0m"
     ]
    },
    {
     "name": "stdout",
     "output_type": "stream",
     "text": [
      "Warning: stress tensor calculation not fully tested\n"
     ]
    },
    {
     "name": "stderr",
     "output_type": "stream",
     "text": [
      " 23%|\u001b[38;2;128;0;0m███████████████████▏                                                               \u001b[0m| 126/545 [00:24<01:13,  5.68it/s]\u001b[0m"
     ]
    },
    {
     "name": "stdout",
     "output_type": "stream",
     "text": [
      "Warning: stress tensor calculation not fully tested\n",
      "Warning: stress tensor calculation not fully tested\n"
     ]
    },
    {
     "name": "stderr",
     "output_type": "stream",
     "text": [
      " 23%|\u001b[38;2;128;0;0m███████████████████▍                                                               \u001b[0m| 128/545 [00:24<01:17,  5.35it/s]\u001b[0m"
     ]
    },
    {
     "name": "stdout",
     "output_type": "stream",
     "text": [
      "Warning: stress tensor calculation not fully tested\n"
     ]
    },
    {
     "name": "stderr",
     "output_type": "stream",
     "text": [
      " 24%|\u001b[38;2;128;0;0m███████████████████▋                                                               \u001b[0m| 129/545 [00:25<01:18,  5.33it/s]\u001b[0m"
     ]
    },
    {
     "name": "stdout",
     "output_type": "stream",
     "text": [
      "Warning: stress tensor calculation not fully tested\n",
      "Warning: stress tensor calculation not fully tested\n"
     ]
    },
    {
     "name": "stderr",
     "output_type": "stream",
     "text": [
      " 24%|\u001b[38;2;128;0;0m███████████████████▉                                                               \u001b[0m| 131/545 [00:25<01:19,  5.18it/s]\u001b[0m"
     ]
    },
    {
     "name": "stdout",
     "output_type": "stream",
     "text": [
      "Warning: stress tensor calculation not fully tested\n"
     ]
    },
    {
     "name": "stderr",
     "output_type": "stream",
     "text": [
      " 24%|\u001b[38;2;128;0;0m████████████████████                                                               \u001b[0m| 132/545 [00:25<01:13,  5.63it/s]\u001b[0m"
     ]
    },
    {
     "name": "stdout",
     "output_type": "stream",
     "text": [
      "Warning: stress tensor calculation not fully tested\n",
      "Warning: stress tensor calculation not fully tested\n"
     ]
    },
    {
     "name": "stderr",
     "output_type": "stream",
     "text": [
      " 24%|\u001b[38;2;128;0;0m████████████████████▎                                                              \u001b[0m| 133/545 [00:25<01:09,  5.97it/s]\u001b[0m"
     ]
    },
    {
     "name": "stdout",
     "output_type": "stream",
     "text": [
      "Warning: stress tensor calculation not fully tested\n"
     ]
    },
    {
     "name": "stderr",
     "output_type": "stream",
     "text": [
      " 25%|\u001b[38;2;128;0;0m████████████████████▍                                                              \u001b[0m| 134/545 [00:25<01:15,  5.45it/s]\u001b[0m"
     ]
    },
    {
     "name": "stdout",
     "output_type": "stream",
     "text": [
      "Warning: stress tensor calculation not fully tested\n"
     ]
    },
    {
     "name": "stderr",
     "output_type": "stream",
     "text": [
      " 25%|\u001b[38;2;128;0;0m████████████████████▌                                                              \u001b[0m| 135/545 [00:26<01:19,  5.13it/s]\u001b[0m"
     ]
    },
    {
     "name": "stdout",
     "output_type": "stream",
     "text": [
      "Warning: stress tensor calculation not fully tested\n"
     ]
    },
    {
     "name": "stderr",
     "output_type": "stream",
     "text": [
      " 25%|\u001b[38;2;128;0;0m████████████████████▋                                                              \u001b[0m| 136/545 [00:26<01:22,  4.98it/s]\u001b[0m"
     ]
    },
    {
     "name": "stdout",
     "output_type": "stream",
     "text": [
      "Warning: stress tensor calculation not fully tested\n"
     ]
    },
    {
     "name": "stderr",
     "output_type": "stream",
     "text": [
      " 25%|\u001b[38;2;128;0;0m████████████████████▊                                                              \u001b[0m| 137/545 [00:26<01:21,  5.02it/s]\u001b[0m"
     ]
    },
    {
     "name": "stdout",
     "output_type": "stream",
     "text": [
      "Warning: stress tensor calculation not fully tested\n"
     ]
    },
    {
     "name": "stderr",
     "output_type": "stream",
     "text": [
      " 25%|\u001b[38;2;128;0;0m█████████████████████                                                              \u001b[0m| 138/545 [00:26<01:22,  4.96it/s]\u001b[0m"
     ]
    },
    {
     "name": "stdout",
     "output_type": "stream",
     "text": [
      "Warning: stress tensor calculation not fully tested\n"
     ]
    },
    {
     "name": "stderr",
     "output_type": "stream",
     "text": [
      " 26%|\u001b[38;2;128;0;0m█████████████████████▏                                                             \u001b[0m| 139/545 [00:27<01:22,  4.94it/s]\u001b[0m"
     ]
    },
    {
     "name": "stdout",
     "output_type": "stream",
     "text": [
      "Warning: stress tensor calculation not fully tested\n"
     ]
    },
    {
     "name": "stderr",
     "output_type": "stream",
     "text": [
      " 26%|\u001b[38;2;128;0;0m█████████████████████▎                                                             \u001b[0m| 140/545 [00:27<01:24,  4.81it/s]\u001b[0m"
     ]
    },
    {
     "name": "stdout",
     "output_type": "stream",
     "text": [
      "Warning: stress tensor calculation not fully tested\n"
     ]
    },
    {
     "name": "stderr",
     "output_type": "stream",
     "text": [
      " 26%|\u001b[38;2;128;0;0m█████████████████████▍                                                             \u001b[0m| 141/545 [00:27<01:27,  4.64it/s]\u001b[0m"
     ]
    },
    {
     "name": "stdout",
     "output_type": "stream",
     "text": [
      "Warning: stress tensor calculation not fully tested\n"
     ]
    },
    {
     "name": "stderr",
     "output_type": "stream",
     "text": [
      " 26%|\u001b[38;2;128;0;0m█████████████████████▋                                                             \u001b[0m| 142/545 [00:27<01:28,  4.56it/s]\u001b[0m"
     ]
    },
    {
     "name": "stdout",
     "output_type": "stream",
     "text": [
      "Warning: stress tensor calculation not fully tested\n"
     ]
    },
    {
     "name": "stderr",
     "output_type": "stream",
     "text": [
      " 26%|\u001b[38;2;128;0;0m█████████████████████▊                                                             \u001b[0m| 143/545 [00:27<01:26,  4.63it/s]\u001b[0m"
     ]
    },
    {
     "name": "stdout",
     "output_type": "stream",
     "text": [
      "Warning: stress tensor calculation not fully tested\n"
     ]
    },
    {
     "name": "stderr",
     "output_type": "stream",
     "text": [
      " 26%|\u001b[38;2;128;0;0m█████████████████████▉                                                             \u001b[0m| 144/545 [00:28<01:25,  4.70it/s]\u001b[0m"
     ]
    },
    {
     "name": "stdout",
     "output_type": "stream",
     "text": [
      "Warning: stress tensor calculation not fully tested\n"
     ]
    },
    {
     "name": "stderr",
     "output_type": "stream",
     "text": [
      " 27%|\u001b[38;2;128;0;0m██████████████████████                                                             \u001b[0m| 145/545 [00:28<01:24,  4.75it/s]\u001b[0m"
     ]
    },
    {
     "name": "stdout",
     "output_type": "stream",
     "text": [
      "Warning: stress tensor calculation not fully tested\n"
     ]
    },
    {
     "name": "stderr",
     "output_type": "stream",
     "text": [
      " 27%|\u001b[38;2;128;0;0m██████████████████████▏                                                            \u001b[0m| 146/545 [00:28<01:23,  4.78it/s]\u001b[0m"
     ]
    },
    {
     "name": "stdout",
     "output_type": "stream",
     "text": [
      "Warning: stress tensor calculation not fully tested\n"
     ]
    },
    {
     "name": "stderr",
     "output_type": "stream",
     "text": [
      " 27%|\u001b[38;2;128;0;0m██████████████████████▍                                                            \u001b[0m| 147/545 [00:28<01:26,  4.60it/s]\u001b[0m"
     ]
    },
    {
     "name": "stdout",
     "output_type": "stream",
     "text": [
      "Warning: stress tensor calculation not fully tested\n"
     ]
    },
    {
     "name": "stderr",
     "output_type": "stream",
     "text": [
      " 27%|\u001b[38;2;128;0;0m██████████████████████▌                                                            \u001b[0m| 148/545 [00:29<01:28,  4.48it/s]\u001b[0m"
     ]
    },
    {
     "name": "stdout",
     "output_type": "stream",
     "text": [
      "Warning: stress tensor calculation not fully tested\n"
     ]
    },
    {
     "name": "stderr",
     "output_type": "stream",
     "text": [
      " 27%|\u001b[38;2;128;0;0m██████████████████████▋                                                            \u001b[0m| 149/545 [00:29<01:28,  4.45it/s]\u001b[0m"
     ]
    },
    {
     "name": "stdout",
     "output_type": "stream",
     "text": [
      "Warning: stress tensor calculation not fully tested\n"
     ]
    },
    {
     "name": "stderr",
     "output_type": "stream",
     "text": [
      " 28%|\u001b[38;2;128;0;0m██████████████████████▊                                                            \u001b[0m| 150/545 [00:29<01:28,  4.47it/s]\u001b[0m"
     ]
    },
    {
     "name": "stdout",
     "output_type": "stream",
     "text": [
      "Warning: stress tensor calculation not fully tested\n"
     ]
    },
    {
     "name": "stderr",
     "output_type": "stream",
     "text": [
      " 28%|\u001b[38;2;128;0;0m██████████████████████▉                                                            \u001b[0m| 151/545 [00:29<01:29,  4.38it/s]\u001b[0m"
     ]
    },
    {
     "name": "stdout",
     "output_type": "stream",
     "text": [
      "Warning: stress tensor calculation not fully tested\n"
     ]
    },
    {
     "name": "stderr",
     "output_type": "stream",
     "text": [
      " 28%|\u001b[38;2;128;0;0m███████████████████████▏                                                           \u001b[0m| 152/545 [00:29<01:30,  4.33it/s]\u001b[0m"
     ]
    },
    {
     "name": "stdout",
     "output_type": "stream",
     "text": [
      "Warning: stress tensor calculation not fully tested\n"
     ]
    },
    {
     "name": "stderr",
     "output_type": "stream",
     "text": [
      " 28%|\u001b[38;2;128;0;0m███████████████████████▎                                                           \u001b[0m| 153/545 [00:30<01:30,  4.34it/s]\u001b[0m"
     ]
    },
    {
     "name": "stdout",
     "output_type": "stream",
     "text": [
      "Warning: stress tensor calculation not fully tested\n"
     ]
    },
    {
     "name": "stderr",
     "output_type": "stream",
     "text": [
      " 28%|\u001b[38;2;128;0;0m███████████████████████▍                                                           \u001b[0m| 154/545 [00:30<01:29,  4.35it/s]\u001b[0m"
     ]
    },
    {
     "name": "stdout",
     "output_type": "stream",
     "text": [
      "Warning: stress tensor calculation not fully tested\n"
     ]
    },
    {
     "name": "stderr",
     "output_type": "stream",
     "text": [
      " 29%|\u001b[38;2;128;0;0m███████████████████████▊                                                           \u001b[0m| 156/545 [00:30<01:23,  4.66it/s]\u001b[0m"
     ]
    },
    {
     "name": "stdout",
     "output_type": "stream",
     "text": [
      "Warning: stress tensor calculation not fully tested\n"
     ]
    },
    {
     "name": "stderr",
     "output_type": "stream",
     "text": [
      " 29%|\u001b[38;2;128;0;0m███████████████████████▉                                                           \u001b[0m| 157/545 [00:30<01:17,  4.98it/s]\u001b[0m"
     ]
    },
    {
     "name": "stdout",
     "output_type": "stream",
     "text": [
      "Warning: stress tensor calculation not fully tested\n",
      "Warning: stress tensor calculation not fully tested\n"
     ]
    },
    {
     "name": "stderr",
     "output_type": "stream",
     "text": [
      " 29%|\u001b[38;2;128;0;0m████████████████████████▏                                                          \u001b[0m| 159/545 [00:31<01:13,  5.28it/s]\u001b[0m"
     ]
    },
    {
     "name": "stdout",
     "output_type": "stream",
     "text": [
      "Warning: stress tensor calculation not fully tested\n",
      "Warning: stress tensor calculation not fully tested\n"
     ]
    },
    {
     "name": "stderr",
     "output_type": "stream",
     "text": [
      " 30%|\u001b[38;2;128;0;0m████████████████████████▌                                                          \u001b[0m| 161/545 [00:31<01:15,  5.11it/s]\u001b[0m"
     ]
    },
    {
     "name": "stdout",
     "output_type": "stream",
     "text": [
      "Warning: stress tensor calculation not fully tested\n",
      "Warning: stress tensor calculation not fully tested\n"
     ]
    },
    {
     "name": "stderr",
     "output_type": "stream",
     "text": [
      " 30%|\u001b[38;2;128;0;0m████████████████████████▊                                                          \u001b[0m| 163/545 [00:32<01:14,  5.14it/s]\u001b[0m"
     ]
    },
    {
     "name": "stdout",
     "output_type": "stream",
     "text": [
      "Warning: stress tensor calculation not fully tested\n",
      "Warning: stress tensor calculation not fully tested\n"
     ]
    },
    {
     "name": "stderr",
     "output_type": "stream",
     "text": [
      " 30%|\u001b[38;2;128;0;0m█████████████████████████▏                                                         \u001b[0m| 165/545 [00:32<01:16,  4.99it/s]\u001b[0m"
     ]
    },
    {
     "name": "stdout",
     "output_type": "stream",
     "text": [
      "Warning: stress tensor calculation not fully tested\n"
     ]
    },
    {
     "name": "stderr",
     "output_type": "stream",
     "text": [
      " 30%|\u001b[38;2;128;0;0m█████████████████████████▎                                                         \u001b[0m| 166/545 [00:32<01:15,  4.99it/s]\u001b[0m"
     ]
    },
    {
     "name": "stdout",
     "output_type": "stream",
     "text": [
      "Warning: stress tensor calculation not fully tested\n",
      "Warning: stress tensor calculation not fully tested\n"
     ]
    },
    {
     "name": "stderr",
     "output_type": "stream",
     "text": [
      " 31%|\u001b[38;2;128;0;0m█████████████████████████▍                                                         \u001b[0m| 167/545 [00:32<01:16,  4.95it/s]\u001b[0m"
     ]
    },
    {
     "name": "stdout",
     "output_type": "stream",
     "text": [
      "Warning: stress tensor calculation not fully tested\n"
     ]
    },
    {
     "name": "stderr",
     "output_type": "stream",
     "text": [
      " 31%|\u001b[38;2;128;0;0m█████████████████████████▋                                                         \u001b[0m| 169/545 [00:33<01:17,  4.82it/s]\u001b[0m"
     ]
    },
    {
     "name": "stdout",
     "output_type": "stream",
     "text": [
      "Warning: stress tensor calculation not fully tested\n"
     ]
    },
    {
     "name": "stderr",
     "output_type": "stream",
     "text": [
      " 31%|\u001b[38;2;128;0;0m█████████████████████████▉                                                         \u001b[0m| 170/545 [00:33<01:17,  4.87it/s]\u001b[0m"
     ]
    },
    {
     "name": "stdout",
     "output_type": "stream",
     "text": [
      "Warning: stress tensor calculation not fully tested\n"
     ]
    },
    {
     "name": "stderr",
     "output_type": "stream",
     "text": [
      " 31%|\u001b[38;2;128;0;0m██████████████████████████                                                         \u001b[0m| 171/545 [00:33<01:12,  5.15it/s]\u001b[0m"
     ]
    },
    {
     "name": "stdout",
     "output_type": "stream",
     "text": [
      "Warning: stress tensor calculation not fully tested\n",
      "Warning: stress tensor calculation not fully tested\n"
     ]
    },
    {
     "name": "stderr",
     "output_type": "stream",
     "text": [
      " 32%|\u001b[38;2;128;0;0m██████████████████████████▎                                                        \u001b[0m| 173/545 [00:34<01:07,  5.51it/s]\u001b[0m"
     ]
    },
    {
     "name": "stdout",
     "output_type": "stream",
     "text": [
      "Warning: stress tensor calculation not fully tested\n",
      "Warning: stress tensor calculation not fully tested\n"
     ]
    },
    {
     "name": "stderr",
     "output_type": "stream",
     "text": [
      " 32%|\u001b[38;2;128;0;0m██████████████████████████▋                                                        \u001b[0m| 175/545 [00:34<01:05,  5.62it/s]\u001b[0m"
     ]
    },
    {
     "name": "stdout",
     "output_type": "stream",
     "text": [
      "Warning: stress tensor calculation not fully tested\n",
      "Warning: stress tensor calculation not fully tested\n"
     ]
    },
    {
     "name": "stderr",
     "output_type": "stream",
     "text": [
      " 32%|\u001b[38;2;128;0;0m██████████████████████████▉                                                        \u001b[0m| 177/545 [00:34<01:04,  5.69it/s]\u001b[0m"
     ]
    },
    {
     "name": "stdout",
     "output_type": "stream",
     "text": [
      "Warning: stress tensor calculation not fully tested\n",
      "Warning: stress tensor calculation not fully tested\n"
     ]
    },
    {
     "name": "stderr",
     "output_type": "stream",
     "text": [
      " 33%|\u001b[38;2;128;0;0m███████████████████████████▎                                                       \u001b[0m| 179/545 [00:35<01:09,  5.28it/s]\u001b[0m"
     ]
    },
    {
     "name": "stdout",
     "output_type": "stream",
     "text": [
      "Warning: stress tensor calculation not fully tested\n"
     ]
    },
    {
     "name": "stderr",
     "output_type": "stream",
     "text": [
      " 33%|\u001b[38;2;128;0;0m███████████████████████████▍                                                       \u001b[0m| 180/545 [00:35<01:10,  5.17it/s]\u001b[0m"
     ]
    },
    {
     "name": "stdout",
     "output_type": "stream",
     "text": [
      "Warning: stress tensor calculation not fully tested\n"
     ]
    },
    {
     "name": "stderr",
     "output_type": "stream",
     "text": [
      " 33%|\u001b[38;2;128;0;0m███████████████████████████▌                                                       \u001b[0m| 181/545 [00:35<01:11,  5.11it/s]\u001b[0m"
     ]
    },
    {
     "name": "stdout",
     "output_type": "stream",
     "text": [
      "Warning: stress tensor calculation not fully tested\n"
     ]
    },
    {
     "name": "stderr",
     "output_type": "stream",
     "text": [
      " 33%|\u001b[38;2;128;0;0m███████████████████████████▋                                                       \u001b[0m| 182/545 [00:35<01:11,  5.09it/s]\u001b[0m"
     ]
    },
    {
     "name": "stdout",
     "output_type": "stream",
     "text": [
      "Warning: stress tensor calculation not fully tested\n"
     ]
    },
    {
     "name": "stderr",
     "output_type": "stream",
     "text": [
      " 34%|\u001b[38;2;128;0;0m███████████████████████████▊                                                       \u001b[0m| 183/545 [00:35<01:12,  5.01it/s]\u001b[0m"
     ]
    },
    {
     "name": "stdout",
     "output_type": "stream",
     "text": [
      "Warning: stress tensor calculation not fully tested\n"
     ]
    },
    {
     "name": "stderr",
     "output_type": "stream",
     "text": [
      " 34%|\u001b[38;2;128;0;0m████████████████████████████                                                       \u001b[0m| 184/545 [00:36<01:12,  5.00it/s]\u001b[0m"
     ]
    },
    {
     "name": "stdout",
     "output_type": "stream",
     "text": [
      "Warning: stress tensor calculation not fully tested\n",
      "Warning: stress tensor calculation not fully tested\n"
     ]
    },
    {
     "name": "stderr",
     "output_type": "stream",
     "text": [
      " 34%|\u001b[38;2;128;0;0m████████████████████████████▎                                                      \u001b[0m| 186/545 [00:36<01:12,  4.93it/s]\u001b[0m"
     ]
    },
    {
     "name": "stdout",
     "output_type": "stream",
     "text": [
      "Warning: stress tensor calculation not fully tested\n",
      "Warning: stress tensor calculation not fully tested\n"
     ]
    },
    {
     "name": "stderr",
     "output_type": "stream",
     "text": [
      " 34%|\u001b[38;2;128;0;0m████████████████████████████▍                                                      \u001b[0m| 187/545 [00:36<01:16,  4.71it/s]\u001b[0m"
     ]
    },
    {
     "name": "stdout",
     "output_type": "stream",
     "text": [
      "Warning: stress tensor calculation not fully tested\n"
     ]
    },
    {
     "name": "stderr",
     "output_type": "stream",
     "text": [
      " 35%|\u001b[38;2;128;0;0m████████████████████████████▊                                                      \u001b[0m| 189/545 [00:37<01:14,  4.79it/s]\u001b[0m"
     ]
    },
    {
     "name": "stdout",
     "output_type": "stream",
     "text": [
      "Warning: stress tensor calculation not fully tested\n",
      "Warning: stress tensor calculation not fully tested\n"
     ]
    },
    {
     "name": "stderr",
     "output_type": "stream",
     "text": [
      " 35%|\u001b[38;2;128;0;0m█████████████████████████████                                                      \u001b[0m| 191/545 [00:37<01:11,  4.96it/s]\u001b[0m"
     ]
    },
    {
     "name": "stdout",
     "output_type": "stream",
     "text": [
      "Warning: stress tensor calculation not fully tested\n"
     ]
    },
    {
     "name": "stderr",
     "output_type": "stream",
     "text": [
      " 35%|\u001b[38;2;128;0;0m█████████████████████████████▏                                                     \u001b[0m| 192/545 [00:37<01:08,  5.15it/s]\u001b[0m"
     ]
    },
    {
     "name": "stdout",
     "output_type": "stream",
     "text": [
      "Warning: stress tensor calculation not fully tested\n",
      "Warning: stress tensor calculation not fully tested\n"
     ]
    },
    {
     "name": "stderr",
     "output_type": "stream",
     "text": [
      " 36%|\u001b[38;2;128;0;0m█████████████████████████████▌                                                     \u001b[0m| 194/545 [00:38<01:08,  5.13it/s]\u001b[0m"
     ]
    },
    {
     "name": "stdout",
     "output_type": "stream",
     "text": [
      "Warning: stress tensor calculation not fully tested\n",
      "Warning: stress tensor calculation not fully tested\n"
     ]
    },
    {
     "name": "stderr",
     "output_type": "stream",
     "text": [
      " 36%|\u001b[38;2;128;0;0m█████████████████████████████▋                                                     \u001b[0m| 195/545 [00:38<01:08,  5.13it/s]\u001b[0m"
     ]
    },
    {
     "name": "stdout",
     "output_type": "stream",
     "text": [
      "Warning: stress tensor calculation not fully tested\n"
     ]
    },
    {
     "name": "stderr",
     "output_type": "stream",
     "text": [
      " 36%|\u001b[38;2;128;0;0m█████████████████████████████▊                                                     \u001b[0m| 196/545 [00:38<01:10,  4.93it/s]\u001b[0m"
     ]
    },
    {
     "name": "stdout",
     "output_type": "stream",
     "text": [
      "Warning: stress tensor calculation not fully tested\n"
     ]
    },
    {
     "name": "stderr",
     "output_type": "stream",
     "text": [
      " 36%|\u001b[38;2;128;0;0m██████████████████████████████                                                     \u001b[0m| 197/545 [00:38<01:13,  4.74it/s]\u001b[0m"
     ]
    },
    {
     "name": "stdout",
     "output_type": "stream",
     "text": [
      "Warning: stress tensor calculation not fully tested\n"
     ]
    },
    {
     "name": "stderr",
     "output_type": "stream",
     "text": [
      " 36%|\u001b[38;2;128;0;0m██████████████████████████████▏                                                    \u001b[0m| 198/545 [00:39<01:14,  4.66it/s]\u001b[0m"
     ]
    },
    {
     "name": "stdout",
     "output_type": "stream",
     "text": [
      "Warning: stress tensor calculation not fully tested\n"
     ]
    },
    {
     "name": "stderr",
     "output_type": "stream",
     "text": [
      " 37%|\u001b[38;2;128;0;0m██████████████████████████████▎                                                    \u001b[0m| 199/545 [00:39<01:16,  4.51it/s]\u001b[0m"
     ]
    },
    {
     "name": "stdout",
     "output_type": "stream",
     "text": [
      "Warning: stress tensor calculation not fully tested\n"
     ]
    },
    {
     "name": "stderr",
     "output_type": "stream",
     "text": [
      " 37%|\u001b[38;2;128;0;0m██████████████████████████████▍                                                    \u001b[0m| 200/545 [00:39<01:18,  4.42it/s]\u001b[0m"
     ]
    },
    {
     "name": "stdout",
     "output_type": "stream",
     "text": [
      "Warning: stress tensor calculation not fully tested\n"
     ]
    },
    {
     "name": "stderr",
     "output_type": "stream",
     "text": [
      " 37%|\u001b[38;2;128;0;0m██████████████████████████████▊                                                    \u001b[0m| 202/545 [00:39<01:13,  4.69it/s]\u001b[0m"
     ]
    },
    {
     "name": "stdout",
     "output_type": "stream",
     "text": [
      "Warning: stress tensor calculation not fully tested\n",
      "Warning: stress tensor calculation not fully tested\n"
     ]
    },
    {
     "name": "stderr",
     "output_type": "stream",
     "text": [
      " 37%|\u001b[38;2;128;0;0m███████████████████████████████                                                    \u001b[0m| 204/545 [00:40<01:06,  5.11it/s]\u001b[0m"
     ]
    },
    {
     "name": "stdout",
     "output_type": "stream",
     "text": [
      "Warning: stress tensor calculation not fully tested\n"
     ]
    },
    {
     "name": "stderr",
     "output_type": "stream",
     "text": [
      " 38%|\u001b[38;2;128;0;0m███████████████████████████████▏                                                   \u001b[0m| 205/545 [00:40<01:04,  5.30it/s]\u001b[0m"
     ]
    },
    {
     "name": "stdout",
     "output_type": "stream",
     "text": [
      "Warning: stress tensor calculation not fully tested\n",
      "Warning: stress tensor calculation not fully tested\n"
     ]
    },
    {
     "name": "stderr",
     "output_type": "stream",
     "text": [
      " 38%|\u001b[38;2;128;0;0m███████████████████████████████▌                                                   \u001b[0m| 207/545 [00:40<01:01,  5.52it/s]\u001b[0m"
     ]
    },
    {
     "name": "stdout",
     "output_type": "stream",
     "text": [
      "Warning: stress tensor calculation not fully tested\n",
      "Warning: stress tensor calculation not fully tested\n"
     ]
    },
    {
     "name": "stderr",
     "output_type": "stream",
     "text": [
      " 38%|\u001b[38;2;128;0;0m███████████████████████████████▊                                                   \u001b[0m| 209/545 [00:41<00:57,  5.80it/s]\u001b[0m"
     ]
    },
    {
     "name": "stdout",
     "output_type": "stream",
     "text": [
      "Warning: stress tensor calculation not fully tested\n",
      "Warning: stress tensor calculation not fully tested\n"
     ]
    },
    {
     "name": "stderr",
     "output_type": "stream",
     "text": [
      " 39%|\u001b[38;2;128;0;0m████████████████████████████████▏                                                  \u001b[0m| 211/545 [00:41<00:56,  5.96it/s]\u001b[0m"
     ]
    },
    {
     "name": "stdout",
     "output_type": "stream",
     "text": [
      "Warning: stress tensor calculation not fully tested\n",
      "Warning: stress tensor calculation not fully tested\n"
     ]
    },
    {
     "name": "stderr",
     "output_type": "stream",
     "text": [
      " 39%|\u001b[38;2;128;0;0m████████████████████████████████▍                                                  \u001b[0m| 213/545 [00:41<00:54,  6.08it/s]\u001b[0m"
     ]
    },
    {
     "name": "stdout",
     "output_type": "stream",
     "text": [
      "Warning: stress tensor calculation not fully tested\n",
      "Warning: stress tensor calculation not fully tested\n"
     ]
    },
    {
     "name": "stderr",
     "output_type": "stream",
     "text": [
      " 39%|\u001b[38;2;128;0;0m████████████████████████████████▋                                                  \u001b[0m| 215/545 [00:42<00:57,  5.78it/s]\u001b[0m"
     ]
    },
    {
     "name": "stdout",
     "output_type": "stream",
     "text": [
      "Warning: stress tensor calculation not fully tested\n"
     ]
    },
    {
     "name": "stderr",
     "output_type": "stream",
     "text": [
      " 40%|\u001b[38;2;128;0;0m████████████████████████████████▉                                                  \u001b[0m| 216/545 [00:42<00:59,  5.51it/s]\u001b[0m"
     ]
    },
    {
     "name": "stdout",
     "output_type": "stream",
     "text": [
      "Warning: stress tensor calculation not fully tested\n"
     ]
    },
    {
     "name": "stderr",
     "output_type": "stream",
     "text": [
      " 40%|\u001b[38;2;128;0;0m█████████████████████████████████                                                  \u001b[0m| 217/545 [00:42<01:00,  5.39it/s]\u001b[0m"
     ]
    },
    {
     "name": "stdout",
     "output_type": "stream",
     "text": [
      "Warning: stress tensor calculation not fully tested\n"
     ]
    },
    {
     "name": "stderr",
     "output_type": "stream",
     "text": [
      " 40%|\u001b[38;2;128;0;0m█████████████████████████████████▏                                                 \u001b[0m| 218/545 [00:42<01:01,  5.27it/s]\u001b[0m"
     ]
    },
    {
     "name": "stdout",
     "output_type": "stream",
     "text": [
      "Warning: stress tensor calculation not fully tested\n",
      "Warning: stress tensor calculation not fully tested\n"
     ]
    },
    {
     "name": "stderr",
     "output_type": "stream",
     "text": [
      " 40%|\u001b[38;2;128;0;0m█████████████████████████████████▎                                                 \u001b[0m| 219/545 [00:42<01:02,  5.22it/s]\u001b[0m"
     ]
    },
    {
     "name": "stdout",
     "output_type": "stream",
     "text": [
      "Warning: stress tensor calculation not fully tested\n"
     ]
    },
    {
     "name": "stderr",
     "output_type": "stream",
     "text": [
      " 40%|\u001b[38;2;128;0;0m█████████████████████████████████▌                                                 \u001b[0m| 220/545 [00:43<01:12,  4.49it/s]\u001b[0m"
     ]
    },
    {
     "name": "stdout",
     "output_type": "stream",
     "text": [
      "Warning: stress tensor calculation not fully tested\n"
     ]
    },
    {
     "name": "stderr",
     "output_type": "stream",
     "text": [
      " 41%|\u001b[38;2;128;0;0m█████████████████████████████████▊                                                 \u001b[0m| 222/545 [00:43<00:54,  5.89it/s]\u001b[0m"
     ]
    },
    {
     "name": "stdout",
     "output_type": "stream",
     "text": [
      "Warning: stress tensor calculation not fully tested\n"
     ]
    },
    {
     "name": "stderr",
     "output_type": "stream",
     "text": [
      " 41%|\u001b[38;2;128;0;0m█████████████████████████████████▉                                                 \u001b[0m| 223/545 [00:43<00:59,  5.44it/s]\u001b[0m"
     ]
    },
    {
     "name": "stdout",
     "output_type": "stream",
     "text": [
      "Warning: stress tensor calculation not fully tested\n"
     ]
    },
    {
     "name": "stderr",
     "output_type": "stream",
     "text": [
      " 41%|\u001b[38;2;128;0;0m██████████████████████████████████▎                                                \u001b[0m| 225/545 [00:44<01:01,  5.24it/s]\u001b[0m"
     ]
    },
    {
     "name": "stdout",
     "output_type": "stream",
     "text": [
      "Warning: stress tensor calculation not fully tested\n",
      "Warning: stress tensor calculation not fully tested\n"
     ]
    },
    {
     "name": "stderr",
     "output_type": "stream",
     "text": [
      " 42%|\u001b[38;2;128;0;0m██████████████████████████████████▌                                                \u001b[0m| 227/545 [00:44<00:58,  5.42it/s]\u001b[0m"
     ]
    },
    {
     "name": "stdout",
     "output_type": "stream",
     "text": [
      "Warning: stress tensor calculation not fully tested\n",
      "Warning: stress tensor calculation not fully tested\n"
     ]
    },
    {
     "name": "stderr",
     "output_type": "stream",
     "text": [
      " 42%|\u001b[38;2;128;0;0m██████████████████████████████████▉                                                \u001b[0m| 229/545 [00:44<00:57,  5.50it/s]\u001b[0m"
     ]
    },
    {
     "name": "stdout",
     "output_type": "stream",
     "text": [
      "Warning: stress tensor calculation not fully tested\n",
      "Warning: stress tensor calculation not fully tested\n"
     ]
    },
    {
     "name": "stderr",
     "output_type": "stream",
     "text": [
      " 42%|\u001b[38;2;128;0;0m███████████████████████████████████▏                                               \u001b[0m| 231/545 [00:45<00:56,  5.60it/s]\u001b[0m"
     ]
    },
    {
     "name": "stdout",
     "output_type": "stream",
     "text": [
      "Warning: stress tensor calculation not fully tested\n",
      "Warning: stress tensor calculation not fully tested\n"
     ]
    },
    {
     "name": "stderr",
     "output_type": "stream",
     "text": [
      " 43%|\u001b[38;2;128;0;0m███████████████████████████████████▍                                               \u001b[0m| 233/545 [00:45<00:56,  5.50it/s]\u001b[0m"
     ]
    },
    {
     "name": "stdout",
     "output_type": "stream",
     "text": [
      "Warning: stress tensor calculation not fully tested\n",
      "Warning: stress tensor calculation not fully tested\n"
     ]
    },
    {
     "name": "stderr",
     "output_type": "stream",
     "text": [
      " 43%|\u001b[38;2;128;0;0m███████████████████████████████████▋                                               \u001b[0m| 234/545 [00:45<00:58,  5.29it/s]\u001b[0m"
     ]
    },
    {
     "name": "stdout",
     "output_type": "stream",
     "text": [
      "Warning: stress tensor calculation not fully tested\n"
     ]
    },
    {
     "name": "stderr",
     "output_type": "stream",
     "text": [
      " 43%|\u001b[38;2;128;0;0m███████████████████████████████████▉                                               \u001b[0m| 236/545 [00:46<01:00,  5.07it/s]\u001b[0m"
     ]
    },
    {
     "name": "stdout",
     "output_type": "stream",
     "text": [
      "Warning: stress tensor calculation not fully tested\n",
      "Warning: stress tensor calculation not fully tested\n"
     ]
    },
    {
     "name": "stderr",
     "output_type": "stream",
     "text": [
      " 44%|\u001b[38;2;128;0;0m████████████████████████████████████▏                                              \u001b[0m| 238/545 [00:46<01:01,  5.03it/s]\u001b[0m"
     ]
    },
    {
     "name": "stdout",
     "output_type": "stream",
     "text": [
      "Warning: stress tensor calculation not fully tested\n"
     ]
    },
    {
     "name": "stderr",
     "output_type": "stream",
     "text": [
      " 44%|\u001b[38;2;128;0;0m████████████████████████████████████▍                                              \u001b[0m| 239/545 [00:46<00:59,  5.10it/s]\u001b[0m"
     ]
    },
    {
     "name": "stdout",
     "output_type": "stream",
     "text": [
      "Warning: stress tensor calculation not fully tested\n"
     ]
    },
    {
     "name": "stderr",
     "output_type": "stream",
     "text": [
      " 44%|\u001b[38;2;128;0;0m████████████████████████████████████▌                                              \u001b[0m| 240/545 [00:46<00:59,  5.09it/s]\u001b[0m"
     ]
    },
    {
     "name": "stdout",
     "output_type": "stream",
     "text": [
      "Warning: stress tensor calculation not fully tested\n"
     ]
    },
    {
     "name": "stderr",
     "output_type": "stream",
     "text": [
      " 44%|\u001b[38;2;128;0;0m████████████████████████████████████▋                                              \u001b[0m| 241/545 [00:47<00:59,  5.14it/s]\u001b[0m"
     ]
    },
    {
     "name": "stdout",
     "output_type": "stream",
     "text": [
      "Warning: stress tensor calculation not fully tested\n"
     ]
    },
    {
     "name": "stderr",
     "output_type": "stream",
     "text": [
      " 44%|\u001b[38;2;128;0;0m████████████████████████████████████▊                                              \u001b[0m| 242/545 [00:47<00:55,  5.50it/s]\u001b[0m"
     ]
    },
    {
     "name": "stdout",
     "output_type": "stream",
     "text": [
      "Warning: stress tensor calculation not fully tested\n",
      "Warning: stress tensor calculation not fully tested\n"
     ]
    },
    {
     "name": "stderr",
     "output_type": "stream",
     "text": [
      " 45%|\u001b[38;2;128;0;0m█████████████████████████████████████                                              \u001b[0m| 243/545 [00:47<00:52,  5.78it/s]\u001b[0m"
     ]
    },
    {
     "name": "stdout",
     "output_type": "stream",
     "text": [
      "Warning: stress tensor calculation not fully tested\n"
     ]
    },
    {
     "name": "stderr",
     "output_type": "stream",
     "text": [
      " 45%|\u001b[38;2;128;0;0m█████████████████████████████████████▎                                             \u001b[0m| 245/545 [00:47<00:58,  5.14it/s]\u001b[0m"
     ]
    },
    {
     "name": "stdout",
     "output_type": "stream",
     "text": [
      "Warning: stress tensor calculation not fully tested\n",
      "Warning: stress tensor calculation not fully tested\n"
     ]
    },
    {
     "name": "stderr",
     "output_type": "stream",
     "text": [
      " 45%|\u001b[38;2;128;0;0m█████████████████████████████████████▌                                             \u001b[0m| 247/545 [00:48<01:01,  4.87it/s]\u001b[0m"
     ]
    },
    {
     "name": "stdout",
     "output_type": "stream",
     "text": [
      "Warning: stress tensor calculation not fully tested\n"
     ]
    },
    {
     "name": "stderr",
     "output_type": "stream",
     "text": [
      " 46%|\u001b[38;2;128;0;0m█████████████████████████████████████▊                                             \u001b[0m| 248/545 [00:48<00:56,  5.26it/s]\u001b[0m"
     ]
    },
    {
     "name": "stdout",
     "output_type": "stream",
     "text": [
      "Warning: stress tensor calculation not fully tested\n",
      "Warning: stress tensor calculation not fully tested\n"
     ]
    },
    {
     "name": "stderr",
     "output_type": "stream",
     "text": [
      " 46%|\u001b[38;2;128;0;0m██████████████████████████████████████                                             \u001b[0m| 250/545 [00:48<00:53,  5.52it/s]\u001b[0m"
     ]
    },
    {
     "name": "stdout",
     "output_type": "stream",
     "text": [
      "Warning: stress tensor calculation not fully tested\n",
      "Warning: stress tensor calculation not fully tested\n"
     ]
    },
    {
     "name": "stderr",
     "output_type": "stream",
     "text": [
      " 46%|\u001b[38;2;128;0;0m██████████████████████████████████████▏                                            \u001b[0m| 251/545 [00:49<00:52,  5.55it/s]\u001b[0m"
     ]
    },
    {
     "name": "stdout",
     "output_type": "stream",
     "text": [
      "Warning: stress tensor calculation not fully tested\n"
     ]
    },
    {
     "name": "stderr",
     "output_type": "stream",
     "text": [
      " 46%|\u001b[38;2;128;0;0m██████████████████████████████████████▌                                            \u001b[0m| 253/545 [00:49<00:57,  5.11it/s]\u001b[0m"
     ]
    },
    {
     "name": "stdout",
     "output_type": "stream",
     "text": [
      "Warning: stress tensor calculation not fully tested\n",
      "Warning: stress tensor calculation not fully tested\n"
     ]
    },
    {
     "name": "stderr",
     "output_type": "stream",
     "text": [
      " 47%|\u001b[38;2;128;0;0m██████████████████████████████████████▋                                            \u001b[0m| 254/545 [00:49<00:58,  5.00it/s]\u001b[0m"
     ]
    },
    {
     "name": "stdout",
     "output_type": "stream",
     "text": [
      "Warning: stress tensor calculation not fully tested\n"
     ]
    },
    {
     "name": "stderr",
     "output_type": "stream",
     "text": [
      " 47%|\u001b[38;2;128;0;0m██████████████████████████████████████▊                                            \u001b[0m| 255/545 [00:49<00:59,  4.89it/s]\u001b[0m"
     ]
    },
    {
     "name": "stdout",
     "output_type": "stream",
     "text": [
      "Warning: stress tensor calculation not fully tested\n"
     ]
    },
    {
     "name": "stderr",
     "output_type": "stream",
     "text": [
      " 47%|\u001b[38;2;128;0;0m██████████████████████████████████████▉                                            \u001b[0m| 256/545 [00:50<00:59,  4.86it/s]\u001b[0m"
     ]
    },
    {
     "name": "stdout",
     "output_type": "stream",
     "text": [
      "Warning: stress tensor calculation not fully tested\n"
     ]
    },
    {
     "name": "stderr",
     "output_type": "stream",
     "text": [
      " 47%|\u001b[38;2;128;0;0m███████████████████████████████████████▏                                           \u001b[0m| 257/545 [00:50<00:59,  4.82it/s]\u001b[0m"
     ]
    },
    {
     "name": "stdout",
     "output_type": "stream",
     "text": [
      "Warning: stress tensor calculation not fully tested\n"
     ]
    },
    {
     "name": "stderr",
     "output_type": "stream",
     "text": [
      " 47%|\u001b[38;2;128;0;0m███████████████████████████████████████▎                                           \u001b[0m| 258/545 [00:50<01:01,  4.70it/s]\u001b[0m"
     ]
    },
    {
     "name": "stdout",
     "output_type": "stream",
     "text": [
      "Warning: stress tensor calculation not fully tested\n"
     ]
    },
    {
     "name": "stderr",
     "output_type": "stream",
     "text": [
      " 48%|\u001b[38;2;128;0;0m███████████████████████████████████████▍                                           \u001b[0m| 259/545 [00:50<01:01,  4.63it/s]\u001b[0m"
     ]
    },
    {
     "name": "stdout",
     "output_type": "stream",
     "text": [
      "Warning: stress tensor calculation not fully tested\n"
     ]
    },
    {
     "name": "stderr",
     "output_type": "stream",
     "text": [
      " 48%|\u001b[38;2;128;0;0m███████████████████████████████████████▋                                           \u001b[0m| 261/545 [00:51<01:00,  4.67it/s]\u001b[0m"
     ]
    },
    {
     "name": "stdout",
     "output_type": "stream",
     "text": [
      "Warning: stress tensor calculation not fully tested\n"
     ]
    },
    {
     "name": "stderr",
     "output_type": "stream",
     "text": [
      " 48%|\u001b[38;2;128;0;0m███████████████████████████████████████▉                                           \u001b[0m| 262/545 [00:51<00:59,  4.75it/s]\u001b[0m"
     ]
    },
    {
     "name": "stdout",
     "output_type": "stream",
     "text": [
      "Warning: stress tensor calculation not fully tested\n"
     ]
    },
    {
     "name": "stderr",
     "output_type": "stream",
     "text": [
      " 48%|\u001b[38;2;128;0;0m████████████████████████████████████████                                           \u001b[0m| 263/545 [00:51<00:57,  4.89it/s]\u001b[0m"
     ]
    },
    {
     "name": "stdout",
     "output_type": "stream",
     "text": [
      "Warning: stress tensor calculation not fully tested\n",
      "Warning: stress tensor calculation not fully tested\n"
     ]
    },
    {
     "name": "stderr",
     "output_type": "stream",
     "text": [
      " 49%|\u001b[38;2;128;0;0m████████████████████████████████████████▎                                          \u001b[0m| 265/545 [00:51<00:57,  4.85it/s]\u001b[0m"
     ]
    },
    {
     "name": "stdout",
     "output_type": "stream",
     "text": [
      "Warning: stress tensor calculation not fully tested\n"
     ]
    },
    {
     "name": "stderr",
     "output_type": "stream",
     "text": [
      " 49%|\u001b[38;2;128;0;0m████████████████████████████████████████▌                                          \u001b[0m| 266/545 [00:52<00:57,  4.89it/s]\u001b[0m"
     ]
    },
    {
     "name": "stdout",
     "output_type": "stream",
     "text": [
      "Warning: stress tensor calculation not fully tested\n",
      "Warning: stress tensor calculation not fully tested\n"
     ]
    },
    {
     "name": "stderr",
     "output_type": "stream",
     "text": [
      " 49%|\u001b[38;2;128;0;0m████████████████████████████████████████▊                                          \u001b[0m| 268/545 [00:52<00:54,  5.10it/s]\u001b[0m"
     ]
    },
    {
     "name": "stdout",
     "output_type": "stream",
     "text": [
      "Warning: stress tensor calculation not fully tested\n",
      "Warning: stress tensor calculation not fully tested\n"
     ]
    },
    {
     "name": "stderr",
     "output_type": "stream",
     "text": [
      " 50%|\u001b[38;2;128;0;0m█████████████████████████████████████████                                          \u001b[0m| 270/545 [00:52<00:50,  5.39it/s]\u001b[0m"
     ]
    },
    {
     "name": "stdout",
     "output_type": "stream",
     "text": [
      "Warning: stress tensor calculation not fully tested\n",
      "Warning: stress tensor calculation not fully tested\n"
     ]
    },
    {
     "name": "stderr",
     "output_type": "stream",
     "text": [
      " 50%|\u001b[38;2;128;0;0m█████████████████████████████████████████▍                                         \u001b[0m| 272/545 [00:53<00:52,  5.23it/s]\u001b[0m"
     ]
    },
    {
     "name": "stdout",
     "output_type": "stream",
     "text": [
      "Warning: stress tensor calculation not fully tested\n",
      "Warning: stress tensor calculation not fully tested\n"
     ]
    },
    {
     "name": "stderr",
     "output_type": "stream",
     "text": [
      " 50%|\u001b[38;2;128;0;0m█████████████████████████████████████████▋                                         \u001b[0m| 274/545 [00:53<00:53,  5.05it/s]\u001b[0m"
     ]
    },
    {
     "name": "stdout",
     "output_type": "stream",
     "text": [
      "Warning: stress tensor calculation not fully tested\n"
     ]
    },
    {
     "name": "stderr",
     "output_type": "stream",
     "text": [
      " 50%|\u001b[38;2;128;0;0m█████████████████████████████████████████▉                                         \u001b[0m| 275/545 [00:53<00:53,  5.02it/s]\u001b[0m"
     ]
    },
    {
     "name": "stdout",
     "output_type": "stream",
     "text": [
      "Warning: stress tensor calculation not fully tested\n"
     ]
    },
    {
     "name": "stderr",
     "output_type": "stream",
     "text": [
      " 51%|\u001b[38;2;128;0;0m██████████████████████████████████████████                                         \u001b[0m| 276/545 [00:54<00:54,  4.98it/s]\u001b[0m"
     ]
    },
    {
     "name": "stdout",
     "output_type": "stream",
     "text": [
      "Warning: stress tensor calculation not fully tested\n"
     ]
    },
    {
     "name": "stderr",
     "output_type": "stream",
     "text": [
      " 51%|\u001b[38;2;128;0;0m██████████████████████████████████████████▏                                        \u001b[0m| 277/545 [00:54<00:53,  4.98it/s]\u001b[0m"
     ]
    },
    {
     "name": "stdout",
     "output_type": "stream",
     "text": [
      "Warning: stress tensor calculation not fully tested\n"
     ]
    },
    {
     "name": "stderr",
     "output_type": "stream",
     "text": [
      " 51%|\u001b[38;2;128;0;0m██████████████████████████████████████████▎                                        \u001b[0m| 278/545 [00:54<00:53,  4.95it/s]\u001b[0m"
     ]
    },
    {
     "name": "stdout",
     "output_type": "stream",
     "text": [
      "Warning: stress tensor calculation not fully tested\n"
     ]
    },
    {
     "name": "stderr",
     "output_type": "stream",
     "text": [
      " 51%|\u001b[38;2;128;0;0m██████████████████████████████████████████▍                                        \u001b[0m| 279/545 [00:54<00:53,  4.96it/s]\u001b[0m"
     ]
    },
    {
     "name": "stdout",
     "output_type": "stream",
     "text": [
      "Warning: stress tensor calculation not fully tested\n"
     ]
    },
    {
     "name": "stderr",
     "output_type": "stream",
     "text": [
      " 51%|\u001b[38;2;128;0;0m██████████████████████████████████████████▋                                        \u001b[0m| 280/545 [00:54<00:52,  5.03it/s]\u001b[0m"
     ]
    },
    {
     "name": "stdout",
     "output_type": "stream",
     "text": [
      "Warning: stress tensor calculation not fully tested\n"
     ]
    },
    {
     "name": "stderr",
     "output_type": "stream",
     "text": [
      " 52%|\u001b[38;2;128;0;0m██████████████████████████████████████████▊                                        \u001b[0m| 281/545 [00:55<00:52,  5.06it/s]\u001b[0m"
     ]
    },
    {
     "name": "stdout",
     "output_type": "stream",
     "text": [
      "Warning: stress tensor calculation not fully tested\n"
     ]
    },
    {
     "name": "stderr",
     "output_type": "stream",
     "text": [
      " 52%|\u001b[38;2;128;0;0m██████████████████████████████████████████▉                                        \u001b[0m| 282/545 [00:55<00:51,  5.14it/s]\u001b[0m"
     ]
    },
    {
     "name": "stdout",
     "output_type": "stream",
     "text": [
      "Warning: stress tensor calculation not fully tested\n",
      "Warning: stress tensor calculation not fully tested\n"
     ]
    },
    {
     "name": "stderr",
     "output_type": "stream",
     "text": [
      " 52%|\u001b[38;2;128;0;0m███████████████████████████████████████████▎                                       \u001b[0m| 284/545 [00:55<00:49,  5.23it/s]\u001b[0m"
     ]
    },
    {
     "name": "stdout",
     "output_type": "stream",
     "text": [
      "Warning: stress tensor calculation not fully tested\n",
      "Warning: stress tensor calculation not fully tested\n"
     ]
    },
    {
     "name": "stderr",
     "output_type": "stream",
     "text": [
      " 52%|\u001b[38;2;128;0;0m███████████████████████████████████████████▌                                       \u001b[0m| 286/545 [00:56<00:47,  5.42it/s]\u001b[0m"
     ]
    },
    {
     "name": "stdout",
     "output_type": "stream",
     "text": [
      "Warning: stress tensor calculation not fully tested\n"
     ]
    },
    {
     "name": "stderr",
     "output_type": "stream",
     "text": [
      " 53%|\u001b[38;2;128;0;0m███████████████████████████████████████████▋                                       \u001b[0m| 287/545 [00:56<00:48,  5.34it/s]\u001b[0m"
     ]
    },
    {
     "name": "stdout",
     "output_type": "stream",
     "text": [
      "Warning: stress tensor calculation not fully tested\n"
     ]
    },
    {
     "name": "stderr",
     "output_type": "stream",
     "text": [
      " 53%|\u001b[38;2;128;0;0m███████████████████████████████████████████▊                                       \u001b[0m| 288/545 [00:56<00:45,  5.68it/s]\u001b[0m"
     ]
    },
    {
     "name": "stdout",
     "output_type": "stream",
     "text": [
      "Warning: stress tensor calculation not fully tested\n",
      "Warning: stress tensor calculation not fully tested\n"
     ]
    },
    {
     "name": "stderr",
     "output_type": "stream",
     "text": [
      " 53%|\u001b[38;2;128;0;0m████████████████████████████████████████████▏                                      \u001b[0m| 290/545 [00:56<00:43,  5.84it/s]\u001b[0m"
     ]
    },
    {
     "name": "stdout",
     "output_type": "stream",
     "text": [
      "Warning: stress tensor calculation not fully tested\n",
      "Warning: stress tensor calculation not fully tested\n"
     ]
    },
    {
     "name": "stderr",
     "output_type": "stream",
     "text": [
      " 53%|\u001b[38;2;128;0;0m████████████████████████████████████████████▎                                      \u001b[0m| 291/545 [00:56<00:45,  5.59it/s]\u001b[0m"
     ]
    },
    {
     "name": "stdout",
     "output_type": "stream",
     "text": [
      "Warning: stress tensor calculation not fully tested\n"
     ]
    },
    {
     "name": "stderr",
     "output_type": "stream",
     "text": [
      " 54%|\u001b[38;2;128;0;0m████████████████████████████████████████████▌                                      \u001b[0m| 293/545 [00:57<00:36,  6.81it/s]\u001b[0m"
     ]
    },
    {
     "name": "stdout",
     "output_type": "stream",
     "text": [
      "Warning: stress tensor calculation not fully tested\n"
     ]
    },
    {
     "name": "stderr",
     "output_type": "stream",
     "text": [
      " 54%|\u001b[38;2;128;0;0m████████████████████████████████████████████▊                                      \u001b[0m| 294/545 [00:57<00:40,  6.17it/s]\u001b[0m"
     ]
    },
    {
     "name": "stdout",
     "output_type": "stream",
     "text": [
      "Warning: stress tensor calculation not fully tested\n"
     ]
    },
    {
     "name": "stderr",
     "output_type": "stream",
     "text": [
      " 54%|\u001b[38;2;128;0;0m████████████████████████████████████████████▉                                      \u001b[0m| 295/545 [00:57<00:43,  5.74it/s]\u001b[0m"
     ]
    },
    {
     "name": "stdout",
     "output_type": "stream",
     "text": [
      "Warning: stress tensor calculation not fully tested\n"
     ]
    },
    {
     "name": "stderr",
     "output_type": "stream",
     "text": [
      " 54%|\u001b[38;2;128;0;0m█████████████████████████████████████████████▏                                     \u001b[0m| 297/545 [00:57<00:47,  5.23it/s]\u001b[0m"
     ]
    },
    {
     "name": "stdout",
     "output_type": "stream",
     "text": [
      "Warning: stress tensor calculation not fully tested\n"
     ]
    },
    {
     "name": "stderr",
     "output_type": "stream",
     "text": [
      " 55%|\u001b[38;2;128;0;0m█████████████████████████████████████████████▍                                     \u001b[0m| 298/545 [00:58<00:47,  5.16it/s]\u001b[0m"
     ]
    },
    {
     "name": "stdout",
     "output_type": "stream",
     "text": [
      "Warning: stress tensor calculation not fully tested\n"
     ]
    },
    {
     "name": "stderr",
     "output_type": "stream",
     "text": [
      " 55%|\u001b[38;2;128;0;0m█████████████████████████████████████████████▌                                     \u001b[0m| 299/545 [00:58<00:49,  4.99it/s]\u001b[0m"
     ]
    },
    {
     "name": "stdout",
     "output_type": "stream",
     "text": [
      "Warning: stress tensor calculation not fully tested\n",
      "Warning: stress tensor calculation not fully tested\n"
     ]
    },
    {
     "name": "stderr",
     "output_type": "stream",
     "text": [
      " 55%|\u001b[38;2;128;0;0m█████████████████████████████████████████████▋                                     \u001b[0m| 300/545 [00:58<00:49,  4.91it/s]\u001b[0m"
     ]
    },
    {
     "name": "stdout",
     "output_type": "stream",
     "text": [
      "Warning: stress tensor calculation not fully tested\n"
     ]
    },
    {
     "name": "stderr",
     "output_type": "stream",
     "text": [
      " 55%|\u001b[38;2;128;0;0m█████████████████████████████████████████████▊                                     \u001b[0m| 301/545 [00:58<00:50,  4.87it/s]\u001b[0m"
     ]
    },
    {
     "name": "stdout",
     "output_type": "stream",
     "text": [
      "Warning: stress tensor calculation not fully tested\n"
     ]
    },
    {
     "name": "stderr",
     "output_type": "stream",
     "text": [
      " 56%|\u001b[38;2;128;0;0m██████████████████████████████████████████████▏                                    \u001b[0m| 303/545 [00:59<00:48,  5.04it/s]\u001b[0m"
     ]
    },
    {
     "name": "stdout",
     "output_type": "stream",
     "text": [
      "Warning: stress tensor calculation not fully tested\n"
     ]
    },
    {
     "name": "stderr",
     "output_type": "stream",
     "text": [
      " 56%|\u001b[38;2;128;0;0m██████████████████████████████████████████████▎                                    \u001b[0m| 304/545 [00:59<00:46,  5.19it/s]\u001b[0m"
     ]
    },
    {
     "name": "stdout",
     "output_type": "stream",
     "text": [
      "Warning: stress tensor calculation not fully tested\n",
      "Warning: stress tensor calculation not fully tested\n"
     ]
    },
    {
     "name": "stderr",
     "output_type": "stream",
     "text": [
      " 56%|\u001b[38;2;128;0;0m██████████████████████████████████████████████▌                                    \u001b[0m| 306/545 [00:59<00:44,  5.37it/s]\u001b[0m"
     ]
    },
    {
     "name": "stdout",
     "output_type": "stream",
     "text": [
      "Warning: stress tensor calculation not fully tested\n",
      "Warning: stress tensor calculation not fully tested\n"
     ]
    },
    {
     "name": "stderr",
     "output_type": "stream",
     "text": [
      " 57%|\u001b[38;2;128;0;0m██████████████████████████████████████████████▉                                    \u001b[0m| 308/545 [01:00<00:42,  5.61it/s]\u001b[0m"
     ]
    },
    {
     "name": "stdout",
     "output_type": "stream",
     "text": [
      "Warning: stress tensor calculation not fully tested\n",
      "Warning: stress tensor calculation not fully tested\n"
     ]
    },
    {
     "name": "stderr",
     "output_type": "stream",
     "text": [
      " 57%|\u001b[38;2;128;0;0m███████████████████████████████████████████████▎                                   \u001b[0m| 311/545 [01:00<00:34,  6.82it/s]\u001b[0m"
     ]
    },
    {
     "name": "stdout",
     "output_type": "stream",
     "text": [
      "Warning: stress tensor calculation not fully tested\n"
     ]
    },
    {
     "name": "stderr",
     "output_type": "stream",
     "text": [
      " 57%|\u001b[38;2;128;0;0m███████████████████████████████████████████████▌                                   \u001b[0m| 312/545 [01:00<00:36,  6.39it/s]\u001b[0m"
     ]
    },
    {
     "name": "stdout",
     "output_type": "stream",
     "text": [
      "Warning: stress tensor calculation not fully tested\n",
      "Warning: stress tensor calculation not fully tested\n"
     ]
    },
    {
     "name": "stderr",
     "output_type": "stream",
     "text": [
      " 58%|\u001b[38;2;128;0;0m███████████████████████████████████████████████▊                                   \u001b[0m| 314/545 [01:00<00:37,  6.09it/s]\u001b[0m"
     ]
    },
    {
     "name": "stdout",
     "output_type": "stream",
     "text": [
      "Warning: stress tensor calculation not fully tested\n",
      "Warning: stress tensor calculation not fully tested\n"
     ]
    },
    {
     "name": "stderr",
     "output_type": "stream",
     "text": [
      " 58%|\u001b[38;2;128;0;0m████████████████████████████████████████████████                                   \u001b[0m| 316/545 [01:01<00:38,  5.92it/s]\u001b[0m"
     ]
    },
    {
     "name": "stdout",
     "output_type": "stream",
     "text": [
      "Warning: stress tensor calculation not fully tested\n",
      "Warning: stress tensor calculation not fully tested\n"
     ]
    },
    {
     "name": "stderr",
     "output_type": "stream",
     "text": [
      " 58%|\u001b[38;2;128;0;0m████████████████████████████████████████████████▍                                  \u001b[0m| 318/545 [01:01<00:39,  5.78it/s]\u001b[0m"
     ]
    },
    {
     "name": "stdout",
     "output_type": "stream",
     "text": [
      "Warning: stress tensor calculation not fully tested\n",
      "Warning: stress tensor calculation not fully tested\n"
     ]
    },
    {
     "name": "stderr",
     "output_type": "stream",
     "text": [
      " 59%|\u001b[38;2;128;0;0m████████████████████████████████████████████████▌                                  \u001b[0m| 319/545 [01:01<00:41,  5.49it/s]\u001b[0m"
     ]
    },
    {
     "name": "stdout",
     "output_type": "stream",
     "text": [
      "Warning: stress tensor calculation not fully tested\n"
     ]
    },
    {
     "name": "stderr",
     "output_type": "stream",
     "text": [
      " 59%|\u001b[38;2;128;0;0m████████████████████████████████████████████████▉                                  \u001b[0m| 321/545 [01:02<00:43,  5.14it/s]\u001b[0m"
     ]
    },
    {
     "name": "stdout",
     "output_type": "stream",
     "text": [
      "Warning: stress tensor calculation not fully tested\n"
     ]
    },
    {
     "name": "stderr",
     "output_type": "stream",
     "text": [
      " 59%|\u001b[38;2;128;0;0m█████████████████████████████████████████████████                                  \u001b[0m| 322/545 [01:02<00:44,  4.98it/s]\u001b[0m"
     ]
    },
    {
     "name": "stdout",
     "output_type": "stream",
     "text": [
      "Warning: stress tensor calculation not fully tested\n",
      "Warning: stress tensor calculation not fully tested\n"
     ]
    },
    {
     "name": "stderr",
     "output_type": "stream",
     "text": [
      " 59%|\u001b[38;2;128;0;0m█████████████████████████████████████████████████▎                                 \u001b[0m| 324/545 [01:02<00:44,  4.98it/s]\u001b[0m"
     ]
    },
    {
     "name": "stdout",
     "output_type": "stream",
     "text": [
      "Warning: stress tensor calculation not fully tested\n",
      "Warning: stress tensor calculation not fully tested\n"
     ]
    },
    {
     "name": "stderr",
     "output_type": "stream",
     "text": [
      " 60%|\u001b[38;2;128;0;0m█████████████████████████████████████████████████▋                                 \u001b[0m| 326/545 [01:03<00:44,  4.94it/s]\u001b[0m"
     ]
    },
    {
     "name": "stdout",
     "output_type": "stream",
     "text": [
      "Warning: stress tensor calculation not fully tested\n",
      "Warning: stress tensor calculation not fully tested\n"
     ]
    },
    {
     "name": "stderr",
     "output_type": "stream",
     "text": [
      " 60%|\u001b[38;2;128;0;0m█████████████████████████████████████████████████▉                                 \u001b[0m| 328/545 [01:03<00:45,  4.80it/s]\u001b[0m"
     ]
    },
    {
     "name": "stdout",
     "output_type": "stream",
     "text": [
      "Warning: stress tensor calculation not fully tested\n"
     ]
    },
    {
     "name": "stderr",
     "output_type": "stream",
     "text": [
      " 60%|\u001b[38;2;128;0;0m██████████████████████████████████████████████████                                 \u001b[0m| 329/545 [01:03<00:43,  4.93it/s]\u001b[0m"
     ]
    },
    {
     "name": "stdout",
     "output_type": "stream",
     "text": [
      "Warning: stress tensor calculation not fully tested\n"
     ]
    },
    {
     "name": "stderr",
     "output_type": "stream",
     "text": [
      " 61%|\u001b[38;2;128;0;0m██████████████████████████████████████████████████▎                                \u001b[0m| 330/545 [01:04<00:42,  5.05it/s]\u001b[0m"
     ]
    },
    {
     "name": "stdout",
     "output_type": "stream",
     "text": [
      "Warning: stress tensor calculation not fully tested\n"
     ]
    },
    {
     "name": "stderr",
     "output_type": "stream",
     "text": [
      " 61%|\u001b[38;2;128;0;0m██████████████████████████████████████████████████▍                                \u001b[0m| 331/545 [01:04<00:41,  5.18it/s]\u001b[0m"
     ]
    },
    {
     "name": "stdout",
     "output_type": "stream",
     "text": [
      "Warning: stress tensor calculation not fully tested\n",
      "Warning: stress tensor calculation not fully tested\n"
     ]
    },
    {
     "name": "stderr",
     "output_type": "stream",
     "text": [
      " 61%|\u001b[38;2;128;0;0m██████████████████████████████████████████████████▋                                \u001b[0m| 333/545 [01:04<00:40,  5.28it/s]\u001b[0m"
     ]
    },
    {
     "name": "stdout",
     "output_type": "stream",
     "text": [
      "Warning: stress tensor calculation not fully tested\n"
     ]
    },
    {
     "name": "stderr",
     "output_type": "stream",
     "text": [
      " 61%|\u001b[38;2;128;0;0m██████████████████████████████████████████████████▊                                \u001b[0m| 334/545 [01:04<00:39,  5.31it/s]\u001b[0m"
     ]
    },
    {
     "name": "stdout",
     "output_type": "stream",
     "text": [
      "Warning: stress tensor calculation not fully tested\n"
     ]
    },
    {
     "name": "stderr",
     "output_type": "stream",
     "text": [
      " 61%|\u001b[38;2;128;0;0m███████████████████████████████████████████████████                                \u001b[0m| 335/545 [01:05<00:38,  5.42it/s]\u001b[0m"
     ]
    },
    {
     "name": "stdout",
     "output_type": "stream",
     "text": [
      "Warning: stress tensor calculation not fully tested\n",
      "Warning: stress tensor calculation not fully tested\n"
     ]
    },
    {
     "name": "stderr",
     "output_type": "stream",
     "text": [
      " 62%|\u001b[38;2;128;0;0m███████████████████████████████████████████████████▎                               \u001b[0m| 337/545 [01:05<00:38,  5.44it/s]\u001b[0m"
     ]
    },
    {
     "name": "stdout",
     "output_type": "stream",
     "text": [
      "Warning: stress tensor calculation not fully tested\n",
      "Warning: stress tensor calculation not fully tested\n"
     ]
    },
    {
     "name": "stderr",
     "output_type": "stream",
     "text": [
      " 62%|\u001b[38;2;128;0;0m███████████████████████████████████████████████████▋                               \u001b[0m| 339/545 [01:05<00:36,  5.58it/s]\u001b[0m"
     ]
    },
    {
     "name": "stdout",
     "output_type": "stream",
     "text": [
      "Warning: stress tensor calculation not fully tested\n",
      "Warning: stress tensor calculation not fully tested\n"
     ]
    },
    {
     "name": "stderr",
     "output_type": "stream",
     "text": [
      " 62%|\u001b[38;2;128;0;0m███████████████████████████████████████████████████▊                               \u001b[0m| 340/545 [01:05<00:39,  5.20it/s]\u001b[0m"
     ]
    },
    {
     "name": "stdout",
     "output_type": "stream",
     "text": [
      "Warning: stress tensor calculation not fully tested\n"
     ]
    },
    {
     "name": "stderr",
     "output_type": "stream",
     "text": [
      " 63%|\u001b[38;2;128;0;0m███████████████████████████████████████████████████▉                               \u001b[0m| 341/545 [01:06<00:41,  4.94it/s]\u001b[0m"
     ]
    },
    {
     "name": "stdout",
     "output_type": "stream",
     "text": [
      "Warning: stress tensor calculation not fully tested\n"
     ]
    },
    {
     "name": "stderr",
     "output_type": "stream",
     "text": [
      " 63%|\u001b[38;2;128;0;0m████████████████████████████████████████████████████                               \u001b[0m| 342/545 [01:06<00:41,  4.83it/s]\u001b[0m"
     ]
    },
    {
     "name": "stdout",
     "output_type": "stream",
     "text": [
      "Warning: stress tensor calculation not fully tested\n"
     ]
    },
    {
     "name": "stderr",
     "output_type": "stream",
     "text": [
      " 63%|\u001b[38;2;128;0;0m████████████████████████████████████████████████████▏                              \u001b[0m| 343/545 [01:06<00:42,  4.70it/s]\u001b[0m"
     ]
    },
    {
     "name": "stdout",
     "output_type": "stream",
     "text": [
      "Warning: stress tensor calculation not fully tested\n"
     ]
    },
    {
     "name": "stderr",
     "output_type": "stream",
     "text": [
      " 63%|\u001b[38;2;128;0;0m████████████████████████████████████████████████████▍                              \u001b[0m| 344/545 [01:06<00:42,  4.70it/s]\u001b[0m"
     ]
    },
    {
     "name": "stdout",
     "output_type": "stream",
     "text": [
      "Warning: stress tensor calculation not fully tested\n"
     ]
    },
    {
     "name": "stderr",
     "output_type": "stream",
     "text": [
      " 63%|\u001b[38;2;128;0;0m████████████████████████████████████████████████████▌                              \u001b[0m| 345/545 [01:07<00:43,  4.58it/s]\u001b[0m"
     ]
    },
    {
     "name": "stdout",
     "output_type": "stream",
     "text": [
      "Warning: stress tensor calculation not fully tested\n"
     ]
    },
    {
     "name": "stderr",
     "output_type": "stream",
     "text": [
      " 64%|\u001b[38;2;128;0;0m████████████████████████████████████████████████████▊                              \u001b[0m| 347/545 [01:07<00:40,  4.94it/s]\u001b[0m"
     ]
    },
    {
     "name": "stdout",
     "output_type": "stream",
     "text": [
      "Warning: stress tensor calculation not fully tested\n",
      "Warning: stress tensor calculation not fully tested\n"
     ]
    },
    {
     "name": "stderr",
     "output_type": "stream",
     "text": [
      " 64%|\u001b[38;2;128;0;0m█████████████████████████████████████████████████████▏                             \u001b[0m| 349/545 [01:07<00:35,  5.48it/s]\u001b[0m"
     ]
    },
    {
     "name": "stdout",
     "output_type": "stream",
     "text": [
      "Warning: stress tensor calculation not fully tested\n",
      "Warning: stress tensor calculation not fully tested\n"
     ]
    },
    {
     "name": "stderr",
     "output_type": "stream",
     "text": [
      " 64%|\u001b[38;2;128;0;0m█████████████████████████████████████████████████████▎                             \u001b[0m| 350/545 [01:07<00:34,  5.65it/s]\u001b[0m"
     ]
    },
    {
     "name": "stdout",
     "output_type": "stream",
     "text": [
      "Warning: stress tensor calculation not fully tested\n"
     ]
    },
    {
     "name": "stderr",
     "output_type": "stream",
     "text": [
      " 65%|\u001b[38;2;128;0;0m█████████████████████████████████████████████████████▊                             \u001b[0m| 353/545 [01:08<00:26,  7.12it/s]\u001b[0m"
     ]
    },
    {
     "name": "stdout",
     "output_type": "stream",
     "text": [
      "Warning: stress tensor calculation not fully tested\n",
      "Warning: stress tensor calculation not fully tested\n"
     ]
    },
    {
     "name": "stderr",
     "output_type": "stream",
     "text": [
      " 65%|\u001b[38;2;128;0;0m██████████████████████████████████████████████████████                             \u001b[0m| 355/545 [01:08<00:29,  6.49it/s]\u001b[0m"
     ]
    },
    {
     "name": "stdout",
     "output_type": "stream",
     "text": [
      "Warning: stress tensor calculation not fully tested\n",
      "Warning: stress tensor calculation not fully tested\n"
     ]
    },
    {
     "name": "stderr",
     "output_type": "stream",
     "text": [
      " 66%|\u001b[38;2;128;0;0m██████████████████████████████████████████████████████▎                            \u001b[0m| 357/545 [01:09<00:32,  5.79it/s]\u001b[0m"
     ]
    },
    {
     "name": "stdout",
     "output_type": "stream",
     "text": [
      "Warning: stress tensor calculation not fully tested\n"
     ]
    },
    {
     "name": "stderr",
     "output_type": "stream",
     "text": [
      " 66%|\u001b[38;2;128;0;0m██████████████████████████████████████████████████████▌                            \u001b[0m| 358/545 [01:09<00:32,  5.70it/s]\u001b[0m"
     ]
    },
    {
     "name": "stdout",
     "output_type": "stream",
     "text": [
      "Warning: stress tensor calculation not fully tested\n",
      "Warning: stress tensor calculation not fully tested\n"
     ]
    },
    {
     "name": "stderr",
     "output_type": "stream",
     "text": [
      " 66%|\u001b[38;2;128;0;0m██████████████████████████████████████████████████████▊                            \u001b[0m| 360/545 [01:09<00:33,  5.54it/s]\u001b[0m"
     ]
    },
    {
     "name": "stdout",
     "output_type": "stream",
     "text": [
      "Warning: stress tensor calculation not fully tested\n",
      "Warning: stress tensor calculation not fully tested\n"
     ]
    },
    {
     "name": "stderr",
     "output_type": "stream",
     "text": [
      " 66%|\u001b[38;2;128;0;0m██████████████████████████████████████████████████████▉                            \u001b[0m| 361/545 [01:09<00:34,  5.29it/s]\u001b[0m"
     ]
    },
    {
     "name": "stdout",
     "output_type": "stream",
     "text": [
      "Warning: stress tensor calculation not fully tested\n"
     ]
    },
    {
     "name": "stderr",
     "output_type": "stream",
     "text": [
      " 67%|\u001b[38;2;128;0;0m███████████████████████████████████████████████████████▎                           \u001b[0m| 363/545 [01:10<00:35,  5.13it/s]\u001b[0m"
     ]
    },
    {
     "name": "stdout",
     "output_type": "stream",
     "text": [
      "Warning: stress tensor calculation not fully tested\n",
      "Warning: stress tensor calculation not fully tested\n"
     ]
    },
    {
     "name": "stderr",
     "output_type": "stream",
     "text": [
      " 67%|\u001b[38;2;128;0;0m███████████████████████████████████████████████████████▌                           \u001b[0m| 365/545 [01:10<00:33,  5.35it/s]\u001b[0m"
     ]
    },
    {
     "name": "stdout",
     "output_type": "stream",
     "text": [
      "Warning: stress tensor calculation not fully tested\n",
      "Warning: stress tensor calculation not fully tested\n"
     ]
    },
    {
     "name": "stderr",
     "output_type": "stream",
     "text": [
      " 67%|\u001b[38;2;128;0;0m███████████████████████████████████████████████████████▉                           \u001b[0m| 367/545 [01:10<00:32,  5.46it/s]\u001b[0m"
     ]
    },
    {
     "name": "stdout",
     "output_type": "stream",
     "text": [
      "Warning: stress tensor calculation not fully tested\n",
      "Warning: stress tensor calculation not fully tested\n"
     ]
    },
    {
     "name": "stderr",
     "output_type": "stream",
     "text": [
      " 68%|\u001b[38;2;128;0;0m████████████████████████████████████████████████████████▏                          \u001b[0m| 369/545 [01:11<00:33,  5.23it/s]\u001b[0m"
     ]
    },
    {
     "name": "stdout",
     "output_type": "stream",
     "text": [
      "Warning: stress tensor calculation not fully tested\n",
      "Warning: stress tensor calculation not fully tested\n"
     ]
    },
    {
     "name": "stderr",
     "output_type": "stream",
     "text": [
      " 68%|\u001b[38;2;128;0;0m████████████████████████████████████████████████████████▌                          \u001b[0m| 371/545 [01:11<00:33,  5.17it/s]\u001b[0m"
     ]
    },
    {
     "name": "stdout",
     "output_type": "stream",
     "text": [
      "Warning: stress tensor calculation not fully tested\n"
     ]
    },
    {
     "name": "stderr",
     "output_type": "stream",
     "text": [
      " 68%|\u001b[38;2;128;0;0m████████████████████████████████████████████████████████▋                          \u001b[0m| 372/545 [01:11<00:33,  5.10it/s]\u001b[0m"
     ]
    },
    {
     "name": "stdout",
     "output_type": "stream",
     "text": [
      "Warning: stress tensor calculation not fully tested\n"
     ]
    },
    {
     "name": "stderr",
     "output_type": "stream",
     "text": [
      " 68%|\u001b[38;2;128;0;0m████████████████████████████████████████████████████████▊                          \u001b[0m| 373/545 [01:12<00:32,  5.32it/s]\u001b[0m"
     ]
    },
    {
     "name": "stdout",
     "output_type": "stream",
     "text": [
      "Warning: stress tensor calculation not fully tested\n",
      "Warning: stress tensor calculation not fully tested\n"
     ]
    },
    {
     "name": "stderr",
     "output_type": "stream",
     "text": [
      " 69%|\u001b[38;2;128;0;0m█████████████████████████████████████████████████████████                          \u001b[0m| 375/545 [01:12<00:30,  5.53it/s]\u001b[0m"
     ]
    },
    {
     "name": "stdout",
     "output_type": "stream",
     "text": [
      "Warning: stress tensor calculation not fully tested\n",
      "Warning: stress tensor calculation not fully tested\n"
     ]
    },
    {
     "name": "stderr",
     "output_type": "stream",
     "text": [
      " 69%|\u001b[38;2;128;0;0m█████████████████████████████████████████████████████████▍                         \u001b[0m| 377/545 [01:12<00:29,  5.75it/s]\u001b[0m"
     ]
    },
    {
     "name": "stdout",
     "output_type": "stream",
     "text": [
      "Warning: stress tensor calculation not fully tested\n",
      "Warning: stress tensor calculation not fully tested\n"
     ]
    },
    {
     "name": "stderr",
     "output_type": "stream",
     "text": [
      " 70%|\u001b[38;2;128;0;0m█████████████████████████████████████████████████████████▋                         \u001b[0m| 379/545 [01:13<00:29,  5.61it/s]\u001b[0m"
     ]
    },
    {
     "name": "stdout",
     "output_type": "stream",
     "text": [
      "Warning: stress tensor calculation not fully tested\n",
      "Warning: stress tensor calculation not fully tested\n"
     ]
    },
    {
     "name": "stderr",
     "output_type": "stream",
     "text": [
      " 70%|\u001b[38;2;128;0;0m██████████████████████████████████████████████████████████                         \u001b[0m| 381/545 [01:13<00:28,  5.70it/s]\u001b[0m"
     ]
    },
    {
     "name": "stdout",
     "output_type": "stream",
     "text": [
      "Warning: stress tensor calculation not fully tested\n",
      "Warning: stress tensor calculation not fully tested\n"
     ]
    },
    {
     "name": "stderr",
     "output_type": "stream",
     "text": [
      " 70%|\u001b[38;2;128;0;0m██████████████████████████████████████████████████████████▎                        \u001b[0m| 383/545 [01:13<00:32,  4.98it/s]\u001b[0m"
     ]
    },
    {
     "name": "stdout",
     "output_type": "stream",
     "text": [
      "Warning: stress tensor calculation not fully tested\n"
     ]
    },
    {
     "name": "stderr",
     "output_type": "stream",
     "text": [
      " 70%|\u001b[38;2;128;0;0m██████████████████████████████████████████████████████████▍                        \u001b[0m| 384/545 [01:14<00:31,  5.07it/s]\u001b[0m"
     ]
    },
    {
     "name": "stdout",
     "output_type": "stream",
     "text": [
      "Warning: stress tensor calculation not fully tested\n"
     ]
    },
    {
     "name": "stderr",
     "output_type": "stream",
     "text": [
      " 71%|\u001b[38;2;128;0;0m██████████████████████████████████████████████████████████▋                        \u001b[0m| 385/545 [01:14<00:31,  5.15it/s]\u001b[0m"
     ]
    },
    {
     "name": "stdout",
     "output_type": "stream",
     "text": [
      "Warning: stress tensor calculation not fully tested\n"
     ]
    },
    {
     "name": "stderr",
     "output_type": "stream",
     "text": [
      " 71%|\u001b[38;2;128;0;0m██████████████████████████████████████████████████████████▊                        \u001b[0m| 386/545 [01:14<00:30,  5.20it/s]\u001b[0m"
     ]
    },
    {
     "name": "stdout",
     "output_type": "stream",
     "text": [
      "Warning: stress tensor calculation not fully tested\n"
     ]
    },
    {
     "name": "stderr",
     "output_type": "stream",
     "text": [
      " 71%|\u001b[38;2;128;0;0m██████████████████████████████████████████████████████████▉                        \u001b[0m| 387/545 [01:14<00:30,  5.24it/s]\u001b[0m"
     ]
    },
    {
     "name": "stdout",
     "output_type": "stream",
     "text": [
      "Warning: stress tensor calculation not fully tested\n"
     ]
    },
    {
     "name": "stderr",
     "output_type": "stream",
     "text": [
      " 71%|\u001b[38;2;128;0;0m███████████████████████████████████████████████████████████                        \u001b[0m| 388/545 [01:14<00:29,  5.30it/s]\u001b[0m"
     ]
    },
    {
     "name": "stdout",
     "output_type": "stream",
     "text": [
      "Warning: stress tensor calculation not fully tested\n",
      "Warning: stress tensor calculation not fully tested\n"
     ]
    },
    {
     "name": "stderr",
     "output_type": "stream",
     "text": [
      " 72%|\u001b[38;2;128;0;0m███████████████████████████████████████████████████████████▍                       \u001b[0m| 390/545 [01:15<00:29,  5.33it/s]\u001b[0m"
     ]
    },
    {
     "name": "stdout",
     "output_type": "stream",
     "text": [
      "Warning: stress tensor calculation not fully tested\n",
      "Warning: stress tensor calculation not fully tested\n"
     ]
    },
    {
     "name": "stderr",
     "output_type": "stream",
     "text": [
      " 72%|\u001b[38;2;128;0;0m███████████████████████████████████████████████████████████▋                       \u001b[0m| 392/545 [01:15<00:28,  5.41it/s]\u001b[0m"
     ]
    },
    {
     "name": "stdout",
     "output_type": "stream",
     "text": [
      "Warning: stress tensor calculation not fully tested\n",
      "Warning: stress tensor calculation not fully tested\n"
     ]
    },
    {
     "name": "stderr",
     "output_type": "stream",
     "text": [
      " 72%|\u001b[38;2;128;0;0m████████████████████████████████████████████████████████████                       \u001b[0m| 394/545 [01:16<00:27,  5.41it/s]\u001b[0m"
     ]
    },
    {
     "name": "stdout",
     "output_type": "stream",
     "text": [
      "Warning: stress tensor calculation not fully tested\n"
     ]
    },
    {
     "name": "stderr",
     "output_type": "stream",
     "text": [
      " 72%|\u001b[38;2;128;0;0m████████████████████████████████████████████████████████████▏                      \u001b[0m| 395/545 [01:16<00:28,  5.20it/s]\u001b[0m"
     ]
    },
    {
     "name": "stdout",
     "output_type": "stream",
     "text": [
      "Warning: stress tensor calculation not fully tested\n",
      "Warning: stress tensor calculation not fully tested\n"
     ]
    },
    {
     "name": "stderr",
     "output_type": "stream",
     "text": [
      " 73%|\u001b[38;2;128;0;0m████████████████████████████████████████████████████████████▍                      \u001b[0m| 397/545 [01:16<00:30,  4.92it/s]\u001b[0m"
     ]
    },
    {
     "name": "stdout",
     "output_type": "stream",
     "text": [
      "Warning: stress tensor calculation not fully tested\n"
     ]
    },
    {
     "name": "stderr",
     "output_type": "stream",
     "text": [
      " 73%|\u001b[38;2;128;0;0m████████████████████████████████████████████████████████████▌                      \u001b[0m| 398/545 [01:16<00:30,  4.87it/s]\u001b[0m"
     ]
    },
    {
     "name": "stdout",
     "output_type": "stream",
     "text": [
      "Warning: stress tensor calculation not fully tested\n",
      "Warning: stress tensor calculation not fully tested\n"
     ]
    },
    {
     "name": "stderr",
     "output_type": "stream",
     "text": [
      " 73%|\u001b[38;2;128;0;0m████████████████████████████████████████████████████████████▊                      \u001b[0m| 399/545 [01:17<00:30,  4.77it/s]\u001b[0m"
     ]
    },
    {
     "name": "stdout",
     "output_type": "stream",
     "text": [
      "Warning: stress tensor calculation not fully tested\n"
     ]
    },
    {
     "name": "stderr",
     "output_type": "stream",
     "text": [
      " 73%|\u001b[38;2;128;0;0m████████████████████████████████████████████████████████████▉                      \u001b[0m| 400/545 [01:17<00:29,  4.85it/s]\u001b[0m"
     ]
    },
    {
     "name": "stdout",
     "output_type": "stream",
     "text": [
      "Warning: stress tensor calculation not fully tested\n"
     ]
    },
    {
     "name": "stderr",
     "output_type": "stream",
     "text": [
      " 74%|\u001b[38;2;128;0;0m█████████████████████████████████████████████████████████████▏                     \u001b[0m| 402/545 [01:17<00:27,  5.11it/s]\u001b[0m"
     ]
    },
    {
     "name": "stdout",
     "output_type": "stream",
     "text": [
      "Warning: stress tensor calculation not fully tested\n",
      "Warning: stress tensor calculation not fully tested\n"
     ]
    },
    {
     "name": "stderr",
     "output_type": "stream",
     "text": [
      " 74%|\u001b[38;2;128;0;0m█████████████████████████████████████████████████████████████▎                     \u001b[0m| 403/545 [01:17<00:26,  5.30it/s]\u001b[0m"
     ]
    },
    {
     "name": "stdout",
     "output_type": "stream",
     "text": [
      "Warning: stress tensor calculation not fully tested\n"
     ]
    },
    {
     "name": "stderr",
     "output_type": "stream",
     "text": [
      " 74%|\u001b[38;2;128;0;0m█████████████████████████████████████████████████████████████▌                     \u001b[0m| 404/545 [01:18<00:28,  5.00it/s]\u001b[0m"
     ]
    },
    {
     "name": "stdout",
     "output_type": "stream",
     "text": [
      "Warning: stress tensor calculation not fully tested\n"
     ]
    },
    {
     "name": "stderr",
     "output_type": "stream",
     "text": [
      " 74%|\u001b[38;2;128;0;0m█████████████████████████████████████████████████████████████▋                     \u001b[0m| 405/545 [01:18<00:28,  4.86it/s]\u001b[0m"
     ]
    },
    {
     "name": "stdout",
     "output_type": "stream",
     "text": [
      "Warning: stress tensor calculation not fully tested\n"
     ]
    },
    {
     "name": "stderr",
     "output_type": "stream",
     "text": [
      " 75%|\u001b[38;2;128;0;0m█████████████████████████████████████████████████████████████▉                     \u001b[0m| 407/545 [01:18<00:27,  4.98it/s]\u001b[0m"
     ]
    },
    {
     "name": "stdout",
     "output_type": "stream",
     "text": [
      "Warning: stress tensor calculation not fully tested\n",
      "Warning: stress tensor calculation not fully tested\n"
     ]
    },
    {
     "name": "stderr",
     "output_type": "stream",
     "text": [
      " 75%|\u001b[38;2;128;0;0m██████████████████████████████████████████████████████████████▎                    \u001b[0m| 409/545 [01:19<00:25,  5.34it/s]\u001b[0m"
     ]
    },
    {
     "name": "stdout",
     "output_type": "stream",
     "text": [
      "Warning: stress tensor calculation not fully tested\n",
      "Warning: stress tensor calculation not fully tested\n"
     ]
    },
    {
     "name": "stderr",
     "output_type": "stream",
     "text": [
      " 75%|\u001b[38;2;128;0;0m██████████████████████████████████████████████████████████████▌                    \u001b[0m| 411/545 [01:19<00:24,  5.53it/s]\u001b[0m"
     ]
    },
    {
     "name": "stdout",
     "output_type": "stream",
     "text": [
      "Warning: stress tensor calculation not fully tested\n",
      "Warning: stress tensor calculation not fully tested\n"
     ]
    },
    {
     "name": "stderr",
     "output_type": "stream",
     "text": [
      " 76%|\u001b[38;2;128;0;0m██████████████████████████████████████████████████████████████▉                    \u001b[0m| 413/545 [01:19<00:23,  5.63it/s]\u001b[0m"
     ]
    },
    {
     "name": "stdout",
     "output_type": "stream",
     "text": [
      "Warning: stress tensor calculation not fully tested\n",
      "Warning: stress tensor calculation not fully tested\n"
     ]
    },
    {
     "name": "stderr",
     "output_type": "stream",
     "text": [
      " 76%|\u001b[38;2;128;0;0m███████████████████████████████████████████████████████████████▏                   \u001b[0m| 415/545 [01:20<00:23,  5.59it/s]\u001b[0m"
     ]
    },
    {
     "name": "stdout",
     "output_type": "stream",
     "text": [
      "Warning: stress tensor calculation not fully tested\n",
      "Warning: stress tensor calculation not fully tested\n"
     ]
    },
    {
     "name": "stderr",
     "output_type": "stream",
     "text": [
      " 77%|\u001b[38;2;128;0;0m███████████████████████████████████████████████████████████████▌                   \u001b[0m| 417/545 [01:20<00:22,  5.57it/s]\u001b[0m"
     ]
    },
    {
     "name": "stdout",
     "output_type": "stream",
     "text": [
      "Warning: stress tensor calculation not fully tested\n",
      "Warning: stress tensor calculation not fully tested\n"
     ]
    },
    {
     "name": "stderr",
     "output_type": "stream",
     "text": [
      " 77%|\u001b[38;2;128;0;0m███████████████████████████████████████████████████████████████▊                   \u001b[0m| 419/545 [01:20<00:22,  5.57it/s]\u001b[0m"
     ]
    },
    {
     "name": "stdout",
     "output_type": "stream",
     "text": [
      "Warning: stress tensor calculation not fully tested\n",
      "Warning: stress tensor calculation not fully tested\n"
     ]
    },
    {
     "name": "stderr",
     "output_type": "stream",
     "text": [
      " 77%|\u001b[38;2;128;0;0m████████████████████████████████████████████████████████████████                   \u001b[0m| 421/545 [01:21<00:22,  5.55it/s]\u001b[0m"
     ]
    },
    {
     "name": "stdout",
     "output_type": "stream",
     "text": [
      "Warning: stress tensor calculation not fully tested\n",
      "Warning: stress tensor calculation not fully tested\n"
     ]
    },
    {
     "name": "stderr",
     "output_type": "stream",
     "text": [
      " 78%|\u001b[38;2;128;0;0m████████████████████████████████████████████████████████████████▍                  \u001b[0m| 423/545 [01:21<00:22,  5.45it/s]\u001b[0m"
     ]
    },
    {
     "name": "stdout",
     "output_type": "stream",
     "text": [
      "Warning: stress tensor calculation not fully tested\n"
     ]
    },
    {
     "name": "stderr",
     "output_type": "stream",
     "text": [
      " 78%|\u001b[38;2;128;0;0m████████████████████████████████████████████████████████████████▌                  \u001b[0m| 424/545 [01:21<00:22,  5.46it/s]\u001b[0m"
     ]
    },
    {
     "name": "stdout",
     "output_type": "stream",
     "text": [
      "Warning: stress tensor calculation not fully tested\n"
     ]
    },
    {
     "name": "stderr",
     "output_type": "stream",
     "text": [
      " 78%|\u001b[38;2;128;0;0m████████████████████████████████████████████████████████████████▋                  \u001b[0m| 425/545 [01:21<00:22,  5.43it/s]\u001b[0m"
     ]
    },
    {
     "name": "stdout",
     "output_type": "stream",
     "text": [
      "Warning: stress tensor calculation not fully tested\n"
     ]
    },
    {
     "name": "stderr",
     "output_type": "stream",
     "text": [
      " 78%|\u001b[38;2;128;0;0m████████████████████████████████████████████████████████████████▉                  \u001b[0m| 426/545 [01:22<00:21,  5.46it/s]\u001b[0m"
     ]
    },
    {
     "name": "stdout",
     "output_type": "stream",
     "text": [
      "Warning: stress tensor calculation not fully tested\n"
     ]
    },
    {
     "name": "stderr",
     "output_type": "stream",
     "text": [
      " 78%|\u001b[38;2;128;0;0m█████████████████████████████████████████████████████████████████                  \u001b[0m| 427/545 [01:22<00:21,  5.44it/s]\u001b[0m"
     ]
    },
    {
     "name": "stdout",
     "output_type": "stream",
     "text": [
      "Warning: stress tensor calculation not fully tested\n",
      "Warning: stress tensor calculation not fully tested\n"
     ]
    },
    {
     "name": "stderr",
     "output_type": "stream",
     "text": [
      " 79%|\u001b[38;2;128;0;0m█████████████████████████████████████████████████████████████████▏                 \u001b[0m| 428/545 [01:22<00:22,  5.31it/s]\u001b[0m"
     ]
    },
    {
     "name": "stdout",
     "output_type": "stream",
     "text": [
      "Warning: stress tensor calculation not fully tested\n"
     ]
    },
    {
     "name": "stderr",
     "output_type": "stream",
     "text": [
      " 79%|\u001b[38;2;128;0;0m█████████████████████████████████████████████████████████████████▍                 \u001b[0m| 430/545 [01:22<00:22,  5.19it/s]\u001b[0m"
     ]
    },
    {
     "name": "stdout",
     "output_type": "stream",
     "text": [
      "Warning: stress tensor calculation not fully tested\n"
     ]
    },
    {
     "name": "stderr",
     "output_type": "stream",
     "text": [
      " 79%|\u001b[38;2;128;0;0m█████████████████████████████████████████████████████████████████▋                 \u001b[0m| 431/545 [01:23<00:22,  5.14it/s]\u001b[0m"
     ]
    },
    {
     "name": "stdout",
     "output_type": "stream",
     "text": [
      "Warning: stress tensor calculation not fully tested\n"
     ]
    },
    {
     "name": "stderr",
     "output_type": "stream",
     "text": [
      " 79%|\u001b[38;2;128;0;0m█████████████████████████████████████████████████████████████████▊                 \u001b[0m| 432/545 [01:23<00:22,  5.11it/s]\u001b[0m"
     ]
    },
    {
     "name": "stdout",
     "output_type": "stream",
     "text": [
      "Warning: stress tensor calculation not fully tested\n"
     ]
    },
    {
     "name": "stderr",
     "output_type": "stream",
     "text": [
      " 79%|\u001b[38;2;128;0;0m█████████████████████████████████████████████████████████████████▉                 \u001b[0m| 433/545 [01:23<00:22,  5.07it/s]\u001b[0m"
     ]
    },
    {
     "name": "stdout",
     "output_type": "stream",
     "text": [
      "Warning: stress tensor calculation not fully tested\n"
     ]
    },
    {
     "name": "stderr",
     "output_type": "stream",
     "text": [
      " 80%|\u001b[38;2;128;0;0m██████████████████████████████████████████████████████████████████                 \u001b[0m| 434/545 [01:23<00:21,  5.05it/s]\u001b[0m"
     ]
    },
    {
     "name": "stdout",
     "output_type": "stream",
     "text": [
      "Warning: stress tensor calculation not fully tested\n",
      "Warning: stress tensor calculation not fully tested\n"
     ]
    },
    {
     "name": "stderr",
     "output_type": "stream",
     "text": [
      " 80%|\u001b[38;2;128;0;0m██████████████████████████████████████████████████████████████████▍                \u001b[0m| 436/545 [01:24<00:23,  4.72it/s]\u001b[0m"
     ]
    },
    {
     "name": "stdout",
     "output_type": "stream",
     "text": [
      "Warning: stress tensor calculation not fully tested\n"
     ]
    },
    {
     "name": "stderr",
     "output_type": "stream",
     "text": [
      " 80%|\u001b[38;2;128;0;0m██████████████████████████████████████████████████████████████████▌                \u001b[0m| 437/545 [01:24<00:22,  4.74it/s]\u001b[0m"
     ]
    },
    {
     "name": "stdout",
     "output_type": "stream",
     "text": [
      "Warning: stress tensor calculation not fully tested\n",
      "Warning: stress tensor calculation not fully tested\n"
     ]
    },
    {
     "name": "stderr",
     "output_type": "stream",
     "text": [
      " 80%|\u001b[38;2;128;0;0m██████████████████████████████████████████████████████████████████▋                \u001b[0m| 438/545 [01:24<00:22,  4.74it/s]\u001b[0m"
     ]
    },
    {
     "name": "stdout",
     "output_type": "stream",
     "text": [
      "Warning: stress tensor calculation not fully tested\n"
     ]
    },
    {
     "name": "stderr",
     "output_type": "stream",
     "text": [
      " 81%|\u001b[38;2;128;0;0m███████████████████████████████████████████████████████████████████                \u001b[0m| 440/545 [01:24<00:22,  4.74it/s]\u001b[0m"
     ]
    },
    {
     "name": "stdout",
     "output_type": "stream",
     "text": [
      "Warning: stress tensor calculation not fully tested\n",
      "Warning: stress tensor calculation not fully tested\n"
     ]
    },
    {
     "name": "stderr",
     "output_type": "stream",
     "text": [
      " 81%|\u001b[38;2;128;0;0m███████████████████████████████████████████████████████████████████▏               \u001b[0m| 441/545 [01:25<00:21,  4.73it/s]\u001b[0m"
     ]
    },
    {
     "name": "stdout",
     "output_type": "stream",
     "text": [
      "Warning: stress tensor calculation not fully tested\n"
     ]
    },
    {
     "name": "stderr",
     "output_type": "stream",
     "text": [
      " 81%|\u001b[38;2;128;0;0m███████████████████████████████████████████████████████████████████▎               \u001b[0m| 442/545 [01:25<00:21,  4.74it/s]\u001b[0m"
     ]
    },
    {
     "name": "stdout",
     "output_type": "stream",
     "text": [
      "Warning: stress tensor calculation not fully tested\n"
     ]
    },
    {
     "name": "stderr",
     "output_type": "stream",
     "text": [
      " 81%|\u001b[38;2;128;0;0m███████████████████████████████████████████████████████████████████▍               \u001b[0m| 443/545 [01:25<00:21,  4.73it/s]\u001b[0m"
     ]
    },
    {
     "name": "stdout",
     "output_type": "stream",
     "text": [
      "Warning: stress tensor calculation not fully tested\n"
     ]
    },
    {
     "name": "stderr",
     "output_type": "stream",
     "text": [
      " 81%|\u001b[38;2;128;0;0m███████████████████████████████████████████████████████████████████▌               \u001b[0m| 444/545 [01:25<00:21,  4.75it/s]\u001b[0m"
     ]
    },
    {
     "name": "stdout",
     "output_type": "stream",
     "text": [
      "Warning: stress tensor calculation not fully tested\n"
     ]
    },
    {
     "name": "stderr",
     "output_type": "stream",
     "text": [
      " 82%|\u001b[38;2;128;0;0m███████████████████████████████████████████████████████████████████▉               \u001b[0m| 446/545 [01:26<00:20,  4.83it/s]\u001b[0m"
     ]
    },
    {
     "name": "stdout",
     "output_type": "stream",
     "text": [
      "Warning: stress tensor calculation not fully tested\n",
      "Warning: stress tensor calculation not fully tested\n"
     ]
    },
    {
     "name": "stderr",
     "output_type": "stream",
     "text": [
      " 82%|\u001b[38;2;128;0;0m████████████████████████████████████████████████████████████████████               \u001b[0m| 447/545 [01:26<00:20,  4.72it/s]\u001b[0m"
     ]
    },
    {
     "name": "stdout",
     "output_type": "stream",
     "text": [
      "Warning: stress tensor calculation not fully tested\n"
     ]
    },
    {
     "name": "stderr",
     "output_type": "stream",
     "text": [
      " 82%|\u001b[38;2;128;0;0m████████████████████████████████████████████████████████████████████▏              \u001b[0m| 448/545 [01:26<00:20,  4.75it/s]\u001b[0m"
     ]
    },
    {
     "name": "stdout",
     "output_type": "stream",
     "text": [
      "Warning: stress tensor calculation not fully tested\n"
     ]
    },
    {
     "name": "stderr",
     "output_type": "stream",
     "text": [
      " 82%|\u001b[38;2;128;0;0m████████████████████████████████████████████████████████████████████▍              \u001b[0m| 449/545 [01:26<00:20,  4.71it/s]\u001b[0m"
     ]
    },
    {
     "name": "stdout",
     "output_type": "stream",
     "text": [
      "Warning: stress tensor calculation not fully tested\n"
     ]
    },
    {
     "name": "stderr",
     "output_type": "stream",
     "text": [
      " 83%|\u001b[38;2;128;0;0m████████████████████████████████████████████████████████████████████▌              \u001b[0m| 450/545 [01:27<00:20,  4.67it/s]\u001b[0m"
     ]
    },
    {
     "name": "stdout",
     "output_type": "stream",
     "text": [
      "Warning: stress tensor calculation not fully tested\n"
     ]
    },
    {
     "name": "stderr",
     "output_type": "stream",
     "text": [
      " 83%|\u001b[38;2;128;0;0m████████████████████████████████████████████████████████████████████▊              \u001b[0m| 452/545 [01:27<00:19,  4.74it/s]\u001b[0m"
     ]
    },
    {
     "name": "stdout",
     "output_type": "stream",
     "text": [
      "Warning: stress tensor calculation not fully tested\n"
     ]
    },
    {
     "name": "stderr",
     "output_type": "stream",
     "text": [
      " 83%|\u001b[38;2;128;0;0m████████████████████████████████████████████████████████████████████▉              \u001b[0m| 453/545 [01:27<00:19,  4.82it/s]\u001b[0m"
     ]
    },
    {
     "name": "stdout",
     "output_type": "stream",
     "text": [
      "Warning: stress tensor calculation not fully tested\n",
      "Warning: stress tensor calculation not fully tested\n"
     ]
    },
    {
     "name": "stderr",
     "output_type": "stream",
     "text": [
      " 84%|\u001b[38;2;128;0;0m█████████████████████████████████████████████████████████████████████▍             \u001b[0m| 456/545 [01:28<00:14,  6.21it/s]\u001b[0m"
     ]
    },
    {
     "name": "stdout",
     "output_type": "stream",
     "text": [
      "Warning: stress tensor calculation not fully tested\n"
     ]
    },
    {
     "name": "stderr",
     "output_type": "stream",
     "text": [
      " 84%|\u001b[38;2;128;0;0m█████████████████████████████████████████████████████████████████████▌             \u001b[0m| 457/545 [01:28<00:14,  5.98it/s]\u001b[0m"
     ]
    },
    {
     "name": "stdout",
     "output_type": "stream",
     "text": [
      "Warning: stress tensor calculation not fully tested\n"
     ]
    },
    {
     "name": "stderr",
     "output_type": "stream",
     "text": [
      " 84%|\u001b[38;2;128;0;0m█████████████████████████████████████████████████████████████████████▊             \u001b[0m| 458/545 [01:28<00:14,  5.82it/s]\u001b[0m"
     ]
    },
    {
     "name": "stdout",
     "output_type": "stream",
     "text": [
      "Warning: stress tensor calculation not fully tested\n"
     ]
    },
    {
     "name": "stderr",
     "output_type": "stream",
     "text": [
      " 84%|\u001b[38;2;128;0;0m█████████████████████████████████████████████████████████████████████▉             \u001b[0m| 459/545 [01:28<00:15,  5.72it/s]\u001b[0m"
     ]
    },
    {
     "name": "stdout",
     "output_type": "stream",
     "text": [
      "Warning: stress tensor calculation not fully tested\n"
     ]
    },
    {
     "name": "stderr",
     "output_type": "stream",
     "text": [
      " 84%|\u001b[38;2;128;0;0m██████████████████████████████████████████████████████████████████████             \u001b[0m| 460/545 [01:28<00:15,  5.60it/s]\u001b[0m"
     ]
    },
    {
     "name": "stdout",
     "output_type": "stream",
     "text": [
      "Warning: stress tensor calculation not fully tested\n",
      "Warning: stress tensor calculation not fully tested\n"
     ]
    },
    {
     "name": "stderr",
     "output_type": "stream",
     "text": [
      " 85%|\u001b[38;2;128;0;0m██████████████████████████████████████████████████████████████████████▏            \u001b[0m| 461/545 [01:29<00:15,  5.40it/s]\u001b[0m"
     ]
    },
    {
     "name": "stdout",
     "output_type": "stream",
     "text": [
      "Warning: stress tensor calculation not fully tested\n"
     ]
    },
    {
     "name": "stderr",
     "output_type": "stream",
     "text": [
      " 85%|\u001b[38;2;128;0;0m██████████████████████████████████████████████████████████████████████▌            \u001b[0m| 463/545 [01:29<00:15,  5.31it/s]\u001b[0m"
     ]
    },
    {
     "name": "stdout",
     "output_type": "stream",
     "text": [
      "Warning: stress tensor calculation not fully tested\n"
     ]
    },
    {
     "name": "stderr",
     "output_type": "stream",
     "text": [
      " 85%|\u001b[38;2;128;0;0m██████████████████████████████████████████████████████████████████████▋            \u001b[0m| 464/545 [01:29<00:15,  5.28it/s]\u001b[0m"
     ]
    },
    {
     "name": "stdout",
     "output_type": "stream",
     "text": [
      "Warning: stress tensor calculation not fully tested\n"
     ]
    },
    {
     "name": "stderr",
     "output_type": "stream",
     "text": [
      " 85%|\u001b[38;2;128;0;0m██████████████████████████████████████████████████████████████████████▊            \u001b[0m| 465/545 [01:29<00:15,  5.28it/s]\u001b[0m"
     ]
    },
    {
     "name": "stdout",
     "output_type": "stream",
     "text": [
      "Warning: stress tensor calculation not fully tested\n"
     ]
    },
    {
     "name": "stderr",
     "output_type": "stream",
     "text": [
      " 86%|\u001b[38;2;128;0;0m██████████████████████████████████████████████████████████████████████▉            \u001b[0m| 466/545 [01:30<00:15,  5.23it/s]\u001b[0m"
     ]
    },
    {
     "name": "stdout",
     "output_type": "stream",
     "text": [
      "Warning: stress tensor calculation not fully tested\n"
     ]
    },
    {
     "name": "stderr",
     "output_type": "stream",
     "text": [
      " 86%|\u001b[38;2;128;0;0m███████████████████████████████████████████████████████████████████████            \u001b[0m| 467/545 [01:30<00:15,  5.16it/s]\u001b[0m"
     ]
    },
    {
     "name": "stdout",
     "output_type": "stream",
     "text": [
      "Warning: stress tensor calculation not fully tested\n"
     ]
    },
    {
     "name": "stderr",
     "output_type": "stream",
     "text": [
      " 86%|\u001b[38;2;128;0;0m███████████████████████████████████████████████████████████████████████▎           \u001b[0m| 468/545 [01:30<00:15,  5.12it/s]\u001b[0m"
     ]
    },
    {
     "name": "stdout",
     "output_type": "stream",
     "text": [
      "Warning: stress tensor calculation not fully tested\n"
     ]
    },
    {
     "name": "stderr",
     "output_type": "stream",
     "text": [
      " 86%|\u001b[38;2;128;0;0m███████████████████████████████████████████████████████████████████████▍           \u001b[0m| 469/545 [01:30<00:14,  5.12it/s]\u001b[0m"
     ]
    },
    {
     "name": "stdout",
     "output_type": "stream",
     "text": [
      "Warning: stress tensor calculation not fully tested\n"
     ]
    },
    {
     "name": "stderr",
     "output_type": "stream",
     "text": [
      " 86%|\u001b[38;2;128;0;0m███████████████████████████████████████████████████████████████████████▌           \u001b[0m| 470/545 [01:30<00:14,  5.11it/s]\u001b[0m"
     ]
    },
    {
     "name": "stdout",
     "output_type": "stream",
     "text": [
      "Warning: stress tensor calculation not fully tested\n"
     ]
    },
    {
     "name": "stderr",
     "output_type": "stream",
     "text": [
      " 86%|\u001b[38;2;128;0;0m███████████████████████████████████████████████████████████████████████▋           \u001b[0m| 471/545 [01:31<00:14,  5.13it/s]\u001b[0m"
     ]
    },
    {
     "name": "stdout",
     "output_type": "stream",
     "text": [
      "Warning: stress tensor calculation not fully tested\n"
     ]
    },
    {
     "name": "stderr",
     "output_type": "stream",
     "text": [
      " 87%|\u001b[38;2;128;0;0m███████████████████████████████████████████████████████████████████████▉           \u001b[0m| 472/545 [01:31<00:14,  5.06it/s]\u001b[0m"
     ]
    },
    {
     "name": "stdout",
     "output_type": "stream",
     "text": [
      "Warning: stress tensor calculation not fully tested\n"
     ]
    },
    {
     "name": "stderr",
     "output_type": "stream",
     "text": [
      " 87%|\u001b[38;2;128;0;0m████████████████████████████████████████████████████████████████████████           \u001b[0m| 473/545 [01:31<00:14,  5.00it/s]\u001b[0m"
     ]
    },
    {
     "name": "stdout",
     "output_type": "stream",
     "text": [
      "Warning: stress tensor calculation not fully tested\n"
     ]
    },
    {
     "name": "stderr",
     "output_type": "stream",
     "text": [
      " 87%|\u001b[38;2;128;0;0m████████████████████████████████████████████████████████████████████████▏          \u001b[0m| 474/545 [01:31<00:14,  5.00it/s]\u001b[0m"
     ]
    },
    {
     "name": "stdout",
     "output_type": "stream",
     "text": [
      "Warning: stress tensor calculation not fully tested\n",
      "Warning: stress tensor calculation not fully tested\n"
     ]
    },
    {
     "name": "stderr",
     "output_type": "stream",
     "text": [
      " 87%|\u001b[38;2;128;0;0m████████████████████████████████████████████████████████████████████████▎          \u001b[0m| 475/545 [01:31<00:14,  4.92it/s]\u001b[0m"
     ]
    },
    {
     "name": "stdout",
     "output_type": "stream",
     "text": [
      "Warning: stress tensor calculation not fully tested\n"
     ]
    },
    {
     "name": "stderr",
     "output_type": "stream",
     "text": [
      " 88%|\u001b[38;2;128;0;0m████████████████████████████████████████████████████████████████████████▋          \u001b[0m| 477/545 [01:32<00:13,  4.87it/s]\u001b[0m"
     ]
    },
    {
     "name": "stdout",
     "output_type": "stream",
     "text": [
      "Warning: stress tensor calculation not fully tested\n",
      "Warning: stress tensor calculation not fully tested\n"
     ]
    },
    {
     "name": "stderr",
     "output_type": "stream",
     "text": [
      " 88%|\u001b[38;2;128;0;0m████████████████████████████████████████████████████████████████████████▊          \u001b[0m| 478/545 [01:32<00:13,  4.82it/s]\u001b[0m"
     ]
    },
    {
     "name": "stdout",
     "output_type": "stream",
     "text": [
      "Warning: stress tensor calculation not fully tested\n"
     ]
    },
    {
     "name": "stderr",
     "output_type": "stream",
     "text": [
      " 88%|\u001b[38;2;128;0;0m████████████████████████████████████████████████████████████████████████▉          \u001b[0m| 479/545 [01:32<00:13,  4.82it/s]\u001b[0m"
     ]
    },
    {
     "name": "stdout",
     "output_type": "stream",
     "text": [
      "Warning: stress tensor calculation not fully tested\n"
     ]
    },
    {
     "name": "stderr",
     "output_type": "stream",
     "text": [
      " 88%|\u001b[38;2;128;0;0m█████████████████████████████████████████████████████████████████████████          \u001b[0m| 480/545 [01:32<00:13,  4.79it/s]\u001b[0m"
     ]
    },
    {
     "name": "stdout",
     "output_type": "stream",
     "text": [
      "Warning: stress tensor calculation not fully tested\n"
     ]
    },
    {
     "name": "stderr",
     "output_type": "stream",
     "text": [
      " 88%|\u001b[38;2;128;0;0m█████████████████████████████████████████████████████████████████████████▎         \u001b[0m| 481/545 [01:33<00:13,  4.71it/s]\u001b[0m"
     ]
    },
    {
     "name": "stdout",
     "output_type": "stream",
     "text": [
      "Warning: stress tensor calculation not fully tested\n"
     ]
    },
    {
     "name": "stderr",
     "output_type": "stream",
     "text": [
      " 88%|\u001b[38;2;128;0;0m█████████████████████████████████████████████████████████████████████████▍         \u001b[0m| 482/545 [01:33<00:13,  4.75it/s]\u001b[0m"
     ]
    },
    {
     "name": "stdout",
     "output_type": "stream",
     "text": [
      "Warning: stress tensor calculation not fully tested\n"
     ]
    },
    {
     "name": "stderr",
     "output_type": "stream",
     "text": [
      " 89%|\u001b[38;2;128;0;0m█████████████████████████████████████████████████████████████████████████▌         \u001b[0m| 483/545 [01:33<00:13,  4.69it/s]\u001b[0m"
     ]
    },
    {
     "name": "stdout",
     "output_type": "stream",
     "text": [
      "Warning: stress tensor calculation not fully tested\n"
     ]
    },
    {
     "name": "stderr",
     "output_type": "stream",
     "text": [
      " 89%|\u001b[38;2;128;0;0m█████████████████████████████████████████████████████████████████████████▋         \u001b[0m| 484/545 [01:33<00:12,  4.74it/s]\u001b[0m"
     ]
    },
    {
     "name": "stdout",
     "output_type": "stream",
     "text": [
      "Warning: stress tensor calculation not fully tested\n"
     ]
    },
    {
     "name": "stderr",
     "output_type": "stream",
     "text": [
      " 89%|\u001b[38;2;128;0;0m█████████████████████████████████████████████████████████████████████████▊         \u001b[0m| 485/545 [01:34<00:13,  4.53it/s]\u001b[0m"
     ]
    },
    {
     "name": "stdout",
     "output_type": "stream",
     "text": [
      "Warning: stress tensor calculation not fully tested\n"
     ]
    },
    {
     "name": "stderr",
     "output_type": "stream",
     "text": [
      " 89%|\u001b[38;2;128;0;0m██████████████████████████████████████████████████████████████████████████         \u001b[0m| 486/545 [01:34<00:12,  4.54it/s]\u001b[0m"
     ]
    },
    {
     "name": "stdout",
     "output_type": "stream",
     "text": [
      "Warning: stress tensor calculation not fully tested\n"
     ]
    },
    {
     "name": "stderr",
     "output_type": "stream",
     "text": [
      " 90%|\u001b[38;2;128;0;0m██████████████████████████████████████████████████████████████████████████▎        \u001b[0m| 488/545 [01:34<00:11,  4.89it/s]\u001b[0m"
     ]
    },
    {
     "name": "stdout",
     "output_type": "stream",
     "text": [
      "Warning: stress tensor calculation not fully tested\n",
      "Warning: stress tensor calculation not fully tested\n"
     ]
    },
    {
     "name": "stderr",
     "output_type": "stream",
     "text": [
      " 90%|\u001b[38;2;128;0;0m██████████████████████████████████████████████████████████████████████████▌        \u001b[0m| 490/545 [01:34<00:09,  5.57it/s]\u001b[0m"
     ]
    },
    {
     "name": "stdout",
     "output_type": "stream",
     "text": [
      "Warning: stress tensor calculation not fully tested\n",
      "Warning: stress tensor calculation not fully tested\n"
     ]
    },
    {
     "name": "stderr",
     "output_type": "stream",
     "text": [
      " 90%|\u001b[38;2;128;0;0m██████████████████████████████████████████████████████████████████████████▉        \u001b[0m| 492/545 [01:35<00:09,  5.66it/s]\u001b[0m"
     ]
    },
    {
     "name": "stdout",
     "output_type": "stream",
     "text": [
      "Warning: stress tensor calculation not fully tested\n",
      "Warning: stress tensor calculation not fully tested\n"
     ]
    },
    {
     "name": "stderr",
     "output_type": "stream",
     "text": [
      " 91%|\u001b[38;2;128;0;0m███████████████████████████████████████████████████████████████████████████▏       \u001b[0m| 494/545 [01:35<00:09,  5.50it/s]\u001b[0m"
     ]
    },
    {
     "name": "stdout",
     "output_type": "stream",
     "text": [
      "Warning: stress tensor calculation not fully tested\n"
     ]
    },
    {
     "name": "stderr",
     "output_type": "stream",
     "text": [
      " 91%|\u001b[38;2;128;0;0m███████████████████████████████████████████████████████████████████████████▍       \u001b[0m| 495/545 [01:35<00:09,  5.46it/s]\u001b[0m"
     ]
    },
    {
     "name": "stdout",
     "output_type": "stream",
     "text": [
      "Warning: stress tensor calculation not fully tested\n"
     ]
    },
    {
     "name": "stderr",
     "output_type": "stream",
     "text": [
      " 91%|\u001b[38;2;128;0;0m███████████████████████████████████████████████████████████████████████████▌       \u001b[0m| 496/545 [01:36<00:08,  5.46it/s]\u001b[0m"
     ]
    },
    {
     "name": "stdout",
     "output_type": "stream",
     "text": [
      "Warning: stress tensor calculation not fully tested\n"
     ]
    },
    {
     "name": "stderr",
     "output_type": "stream",
     "text": [
      " 91%|\u001b[38;2;128;0;0m███████████████████████████████████████████████████████████████████████████▋       \u001b[0m| 497/545 [01:36<00:08,  5.40it/s]\u001b[0m"
     ]
    },
    {
     "name": "stdout",
     "output_type": "stream",
     "text": [
      "Warning: stress tensor calculation not fully tested\n"
     ]
    },
    {
     "name": "stderr",
     "output_type": "stream",
     "text": [
      " 91%|\u001b[38;2;128;0;0m███████████████████████████████████████████████████████████████████████████▊       \u001b[0m| 498/545 [01:36<00:08,  5.40it/s]\u001b[0m"
     ]
    },
    {
     "name": "stdout",
     "output_type": "stream",
     "text": [
      "Warning: stress tensor calculation not fully tested\n"
     ]
    },
    {
     "name": "stderr",
     "output_type": "stream",
     "text": [
      " 92%|\u001b[38;2;128;0;0m███████████████████████████████████████████████████████████████████████████▉       \u001b[0m| 499/545 [01:36<00:08,  5.37it/s]\u001b[0m"
     ]
    },
    {
     "name": "stdout",
     "output_type": "stream",
     "text": [
      "Warning: stress tensor calculation not fully tested\n"
     ]
    },
    {
     "name": "stderr",
     "output_type": "stream",
     "text": [
      " 92%|\u001b[38;2;128;0;0m████████████████████████████████████████████████████████████████████████████▏      \u001b[0m| 500/545 [01:36<00:08,  5.40it/s]\u001b[0m"
     ]
    },
    {
     "name": "stdout",
     "output_type": "stream",
     "text": [
      "Warning: stress tensor calculation not fully tested\n",
      "Warning: stress tensor calculation not fully tested\n"
     ]
    },
    {
     "name": "stderr",
     "output_type": "stream",
     "text": [
      " 92%|\u001b[38;2;128;0;0m████████████████████████████████████████████████████████████████████████████▍      \u001b[0m| 502/545 [01:37<00:07,  5.56it/s]\u001b[0m"
     ]
    },
    {
     "name": "stdout",
     "output_type": "stream",
     "text": [
      "Warning: stress tensor calculation not fully tested\n",
      "Warning: stress tensor calculation not fully tested\n"
     ]
    },
    {
     "name": "stderr",
     "output_type": "stream",
     "text": [
      " 92%|\u001b[38;2;128;0;0m████████████████████████████████████████████████████████████████████████████▊      \u001b[0m| 504/545 [01:37<00:07,  5.84it/s]\u001b[0m"
     ]
    },
    {
     "name": "stdout",
     "output_type": "stream",
     "text": [
      "Warning: stress tensor calculation not fully tested\n",
      "Warning: stress tensor calculation not fully tested\n"
     ]
    },
    {
     "name": "stderr",
     "output_type": "stream",
     "text": [
      " 93%|\u001b[38;2;128;0;0m█████████████████████████████████████████████████████████████████████████████      \u001b[0m| 506/545 [01:37<00:06,  6.01it/s]\u001b[0m"
     ]
    },
    {
     "name": "stdout",
     "output_type": "stream",
     "text": [
      "Warning: stress tensor calculation not fully tested\n",
      "Warning: stress tensor calculation not fully tested\n"
     ]
    },
    {
     "name": "stderr",
     "output_type": "stream",
     "text": [
      " 93%|\u001b[38;2;128;0;0m█████████████████████████████████████████████████████████████████████████████▎     \u001b[0m| 508/545 [01:38<00:06,  5.84it/s]\u001b[0m"
     ]
    },
    {
     "name": "stdout",
     "output_type": "stream",
     "text": [
      "Warning: stress tensor calculation not fully tested\n",
      "Warning: stress tensor calculation not fully tested\n"
     ]
    },
    {
     "name": "stderr",
     "output_type": "stream",
     "text": [
      " 94%|\u001b[38;2;128;0;0m█████████████████████████████████████████████████████████████████████████████▋     \u001b[0m| 510/545 [01:38<00:06,  5.81it/s]\u001b[0m"
     ]
    },
    {
     "name": "stdout",
     "output_type": "stream",
     "text": [
      "Warning: stress tensor calculation not fully tested\n",
      "Warning: stress tensor calculation not fully tested\n"
     ]
    },
    {
     "name": "stderr",
     "output_type": "stream",
     "text": [
      " 94%|\u001b[38;2;128;0;0m█████████████████████████████████████████████████████████████████████████████▉     \u001b[0m| 512/545 [01:38<00:05,  5.77it/s]\u001b[0m"
     ]
    },
    {
     "name": "stdout",
     "output_type": "stream",
     "text": [
      "Warning: stress tensor calculation not fully tested\n",
      "Warning: stress tensor calculation not fully tested\n"
     ]
    },
    {
     "name": "stderr",
     "output_type": "stream",
     "text": [
      " 94%|\u001b[38;2;128;0;0m██████████████████████████████████████████████████████████████████████████████▎    \u001b[0m| 514/545 [01:39<00:05,  5.89it/s]\u001b[0m"
     ]
    },
    {
     "name": "stdout",
     "output_type": "stream",
     "text": [
      "Warning: stress tensor calculation not fully tested\n",
      "Warning: stress tensor calculation not fully tested\n"
     ]
    },
    {
     "name": "stderr",
     "output_type": "stream",
     "text": [
      " 95%|\u001b[38;2;128;0;0m██████████████████████████████████████████████████████████████████████████████▌    \u001b[0m| 516/545 [01:39<00:05,  5.62it/s]\u001b[0m"
     ]
    },
    {
     "name": "stdout",
     "output_type": "stream",
     "text": [
      "Warning: stress tensor calculation not fully tested\n"
     ]
    },
    {
     "name": "stderr",
     "output_type": "stream",
     "text": [
      " 95%|\u001b[38;2;128;0;0m██████████████████████████████████████████████████████████████████████████████▋    \u001b[0m| 517/545 [01:39<00:05,  5.60it/s]\u001b[0m"
     ]
    },
    {
     "name": "stdout",
     "output_type": "stream",
     "text": [
      "Warning: stress tensor calculation not fully tested\n",
      "Warning: stress tensor calculation not fully tested\n"
     ]
    },
    {
     "name": "stderr",
     "output_type": "stream",
     "text": [
      " 95%|\u001b[38;2;128;0;0m███████████████████████████████████████████████████████████████████████████████    \u001b[0m| 519/545 [01:40<00:04,  5.56it/s]\u001b[0m"
     ]
    },
    {
     "name": "stdout",
     "output_type": "stream",
     "text": [
      "Warning: stress tensor calculation not fully tested\n",
      "Warning: stress tensor calculation not fully tested\n"
     ]
    },
    {
     "name": "stderr",
     "output_type": "stream",
     "text": [
      " 96%|\u001b[38;2;128;0;0m███████████████████████████████████████████████████████████████████████████████▎   \u001b[0m| 521/545 [01:40<00:04,  5.55it/s]\u001b[0m"
     ]
    },
    {
     "name": "stdout",
     "output_type": "stream",
     "text": [
      "Warning: stress tensor calculation not fully tested\n",
      "Warning: stress tensor calculation not fully tested\n"
     ]
    },
    {
     "name": "stderr",
     "output_type": "stream",
     "text": [
      " 96%|\u001b[38;2;128;0;0m███████████████████████████████████████████████████████████████████████████████▋   \u001b[0m| 523/545 [01:40<00:04,  5.48it/s]\u001b[0m"
     ]
    },
    {
     "name": "stdout",
     "output_type": "stream",
     "text": [
      "Warning: stress tensor calculation not fully tested\n",
      "Warning: stress tensor calculation not fully tested\n"
     ]
    },
    {
     "name": "stderr",
     "output_type": "stream",
     "text": [
      " 96%|\u001b[38;2;128;0;0m███████████████████████████████████████████████████████████████████████████████▉   \u001b[0m| 525/545 [01:41<00:03,  5.39it/s]\u001b[0m"
     ]
    },
    {
     "name": "stdout",
     "output_type": "stream",
     "text": [
      "Warning: stress tensor calculation not fully tested\n"
     ]
    },
    {
     "name": "stderr",
     "output_type": "stream",
     "text": [
      " 97%|\u001b[38;2;128;0;0m████████████████████████████████████████████████████████████████████████████████   \u001b[0m| 526/545 [01:41<00:03,  5.42it/s]\u001b[0m"
     ]
    },
    {
     "name": "stdout",
     "output_type": "stream",
     "text": [
      "Warning: stress tensor calculation not fully tested\n"
     ]
    },
    {
     "name": "stderr",
     "output_type": "stream",
     "text": [
      " 97%|\u001b[38;2;128;0;0m████████████████████████████████████████████████████████████████████████████████▎  \u001b[0m| 527/545 [01:41<00:03,  5.42it/s]\u001b[0m"
     ]
    },
    {
     "name": "stdout",
     "output_type": "stream",
     "text": [
      "Warning: stress tensor calculation not fully tested\n",
      "Warning: stress tensor calculation not fully tested\n"
     ]
    },
    {
     "name": "stderr",
     "output_type": "stream",
     "text": [
      " 97%|\u001b[38;2;128;0;0m████████████████████████████████████████████████████████████████████████████████▌  \u001b[0m| 529/545 [01:41<00:03,  5.28it/s]\u001b[0m"
     ]
    },
    {
     "name": "stdout",
     "output_type": "stream",
     "text": [
      "Warning: stress tensor calculation not fully tested\n"
     ]
    },
    {
     "name": "stderr",
     "output_type": "stream",
     "text": [
      " 97%|\u001b[38;2;128;0;0m████████████████████████████████████████████████████████████████████████████████▋  \u001b[0m| 530/545 [01:42<00:02,  5.17it/s]\u001b[0m"
     ]
    },
    {
     "name": "stdout",
     "output_type": "stream",
     "text": [
      "Warning: stress tensor calculation not fully tested\n",
      "Warning: stress tensor calculation not fully tested\n"
     ]
    },
    {
     "name": "stderr",
     "output_type": "stream",
     "text": [
      " 98%|\u001b[38;2;128;0;0m█████████████████████████████████████████████████████████████████████████████████  \u001b[0m| 532/545 [01:42<00:02,  5.13it/s]\u001b[0m"
     ]
    },
    {
     "name": "stdout",
     "output_type": "stream",
     "text": [
      "Warning: stress tensor calculation not fully tested\n"
     ]
    },
    {
     "name": "stderr",
     "output_type": "stream",
     "text": [
      " 98%|\u001b[38;2;128;0;0m█████████████████████████████████████████████████████████████████████████████████▏ \u001b[0m| 533/545 [01:42<00:02,  5.14it/s]\u001b[0m"
     ]
    },
    {
     "name": "stdout",
     "output_type": "stream",
     "text": [
      "Warning: stress tensor calculation not fully tested\n"
     ]
    },
    {
     "name": "stderr",
     "output_type": "stream",
     "text": [
      " 98%|\u001b[38;2;128;0;0m█████████████████████████████████████████████████████████████████████████████████▎ \u001b[0m| 534/545 [01:42<00:02,  5.06it/s]\u001b[0m"
     ]
    },
    {
     "name": "stdout",
     "output_type": "stream",
     "text": [
      "Warning: stress tensor calculation not fully tested\n"
     ]
    },
    {
     "name": "stderr",
     "output_type": "stream",
     "text": [
      " 98%|\u001b[38;2;128;0;0m█████████████████████████████████████████████████████████████████████████████████▍ \u001b[0m| 535/545 [01:43<00:02,  4.99it/s]\u001b[0m"
     ]
    },
    {
     "name": "stdout",
     "output_type": "stream",
     "text": [
      "Warning: stress tensor calculation not fully tested\n",
      "Warning: stress tensor calculation not fully tested\n"
     ]
    },
    {
     "name": "stderr",
     "output_type": "stream",
     "text": [
      " 98%|\u001b[38;2;128;0;0m█████████████████████████████████████████████████████████████████████████████████▋ \u001b[0m| 536/545 [01:43<00:01,  4.96it/s]\u001b[0m"
     ]
    },
    {
     "name": "stdout",
     "output_type": "stream",
     "text": [
      "Warning: stress tensor calculation not fully tested\n"
     ]
    },
    {
     "name": "stderr",
     "output_type": "stream",
     "text": [
      " 99%|\u001b[38;2;128;0;0m█████████████████████████████████████████████████████████████████████████████████▊ \u001b[0m| 537/545 [01:43<00:01,  4.94it/s]\u001b[0m"
     ]
    },
    {
     "name": "stdout",
     "output_type": "stream",
     "text": [
      "Warning: stress tensor calculation not fully tested\n"
     ]
    },
    {
     "name": "stderr",
     "output_type": "stream",
     "text": [
      " 99%|\u001b[38;2;128;0;0m█████████████████████████████████████████████████████████████████████████████████▉ \u001b[0m| 538/545 [01:43<00:01,  4.93it/s]\u001b[0m"
     ]
    },
    {
     "name": "stdout",
     "output_type": "stream",
     "text": [
      "Warning: stress tensor calculation not fully tested\n"
     ]
    },
    {
     "name": "stderr",
     "output_type": "stream",
     "text": [
      " 99%|\u001b[38;2;128;0;0m██████████████████████████████████████████████████████████████████████████████████ \u001b[0m| 539/545 [01:43<00:01,  4.88it/s]\u001b[0m"
     ]
    },
    {
     "name": "stdout",
     "output_type": "stream",
     "text": [
      "Warning: stress tensor calculation not fully tested\n"
     ]
    },
    {
     "name": "stderr",
     "output_type": "stream",
     "text": [
      " 99%|\u001b[38;2;128;0;0m██████████████████████████████████████████████████████████████████████████████████▏\u001b[0m| 540/545 [01:44<00:01,  4.55it/s]\u001b[0m"
     ]
    },
    {
     "name": "stdout",
     "output_type": "stream",
     "text": [
      "Warning: stress tensor calculation not fully tested\n"
     ]
    },
    {
     "name": "stderr",
     "output_type": "stream",
     "text": [
      " 99%|\u001b[38;2;128;0;0m██████████████████████████████████████████████████████████████████████████████████▌\u001b[0m| 542/545 [01:44<00:00,  5.07it/s]\u001b[0m"
     ]
    },
    {
     "name": "stdout",
     "output_type": "stream",
     "text": [
      "Warning: stress tensor calculation not fully tested\n",
      "Warning: stress tensor calculation not fully tested\n"
     ]
    },
    {
     "name": "stderr",
     "output_type": "stream",
     "text": [
      "100%|\u001b[38;2;128;0;0m██████████████████████████████████████████████████████████████████████████████████▊\u001b[0m| 544/545 [01:44<00:00,  5.64it/s]\u001b[0m"
     ]
    },
    {
     "name": "stdout",
     "output_type": "stream",
     "text": [
      "Warning: stress tensor calculation not fully tested\n",
      "Warning: stress tensor calculation not fully tested\n"
     ]
    },
    {
     "name": "stderr",
     "output_type": "stream",
     "text": [
      "100%|\u001b[38;2;128;0;0m███████████████████████████████████████████████████████████████████████████████████\u001b[0m| 545/545 [01:45<00:00,  5.19it/s]\u001b[0m\n"
     ]
    }
   ],
   "source": [
    "from ccs_fit.scripts.ccs_validate import ccs_validate\n",
    "ccs_validate(mode=\"CCS\",CCS_params=\"CCS_params.json\",DFT_DB=\"DFT.db\")"
   ]
  },
  {
   "cell_type": "code",
   "execution_count": 15,
   "id": "26234bd3",
   "metadata": {},
   "outputs": [
    {
     "data": {
      "image/png": "[encoded data removed]",
      "text/plain": [
       "<Figure size 640x480 with 1 Axes>"
      ]
     },
     "metadata": {},
     "output_type": "display_data"
    },
    {
     "data": {
      "image/png": "[encoded data removed]",
      "text/plain": [
       "<Figure size 640x480 with 1 Axes>"
      ]
     },
     "metadata": {},
     "output_type": "display_data"
    }
   ],
   "source": [
    "try:\n",
    "    err=np.loadtxt(\"CCS_validate.dat\")\n",
    "    plt.xlabel('Reference energy (eV)')\n",
    "    plt.ylabel('Validation energy (eV)')\n",
    "    plt.plot( [min(err[:,0]),max(err[:,0])],[min(err[:,0]),max(err[:,0])],'--',color='black'  )\n",
    "    plt.scatter(err[:,0],err[:,1],facecolors='none', edgecolors='red')\n",
    "    plt.show()\n",
    "    plt.xlabel('Reference energy (eV)')\n",
    "    plt.ylabel('Error in fit (eV)')\n",
    "    plt.scatter(err[:,0],err[:,2],facecolors='none', edgecolors='red')\n",
    "    plt.show()\n",
    "except:\n",
    "    pass"
   ]
  },
  {
   "cell_type": "markdown",
   "id": "34edf9a9",
   "metadata": {},
   "source": [
    "### Cleaning up"
   ]
  },
  {
   "cell_type": "code",
   "execution_count": 11,
   "id": "6b63718b",
   "metadata": {},
   "outputs": [],
   "source": [
    "# import glob\n",
    "\n",
    "# def rm(file):\n",
    "#     try:\n",
    "#         os.remove(file)\n",
    "#     except OSError:\n",
    "#         pass\n",
    "\n",
    "\n",
    "# list=glob.glob(\"CALCULATED_DATA/*\")\n",
    "# for file in list:\n",
    "#     rm(file)\n",
    "# list=glob.glob(\"CCS_*\")\n",
    "# for file in list:\n",
    "#     rm(file)\n",
    "# list=glob.glob(\"UNC_*\")\n",
    "# for file in list:\n",
    "#     rm(file)\n",
    "# rm(\"structures.json\")\n",
    "# rm(\"file_list\")\n",
    "# rm(\"LJ.db\")"
   ]
  },
  {
   "cell_type": "markdown",
   "id": "1bb3295f-817b-4618-b63d-e019598b2a46",
   "metadata": {},
   "source": [
    "### Convex hull"
   ]
  },
  {
   "cell_type": "code",
   "execution_count": 12,
   "id": "291f7065-302e-4605-80fa-d8dd4c16137a",
   "metadata": {
    "tags": []
   },
   "outputs": [
    {
     "ename": "NameError",
     "evalue": "name 'io' is not defined",
     "output_type": "error",
     "traceback": [
      "\u001b[1;31m---------------------------------------------------------------------------\u001b[0m",
      "\u001b[1;31mNameError\u001b[0m                                 Traceback (most recent call last)",
      "Cell \u001b[1;32mIn[12], line 1\u001b[0m\n\u001b[1;32m----> 1\u001b[0m struct_no_Li \u001b[38;5;241m=\u001b[39m \u001b[43mio\u001b[49m\u001b[38;5;241m.\u001b[39mread(\u001b[38;5;124m'\u001b[39m\u001b[38;5;124mDFT.db@21\u001b[39m\u001b[38;5;124m'\u001b[39m)\n\u001b[0;32m      2\u001b[0m struct_full_Li \u001b[38;5;241m=\u001b[39m io\u001b[38;5;241m.\u001b[39mread(\u001b[38;5;124m'\u001b[39m\u001b[38;5;124mDFT.db@10\u001b[39m\u001b[38;5;124m'\u001b[39m)\n\u001b[0;32m      4\u001b[0m nrg_0 \u001b[38;5;241m=\u001b[39m struct_no_Li\u001b[38;5;241m.\u001b[39mget_potential_energy()\n",
      "\u001b[1;31mNameError\u001b[0m: name 'io' is not defined"
     ]
    }
   ],
   "source": [
    "struct_no_Li = io.read('DFT.db@21')\n",
    "struct_full_Li = io.read('DFT.db@10')\n",
    "\n",
    "nrg_0 = struct_no_Li.get_potential_energy()\n",
    "nrg_1 = struct_full_Li.get_potential_energy()\n",
    "\n",
    "print(struct_no_Li.get_chemical_formula())\n",
    "print(struct_full_Li.get_chemical_formula())"
   ]
  },
  {
   "cell_type": "code",
   "execution_count": 13,
   "id": "779408c2-46fc-4f36-8065-4a9b4c993a5d",
   "metadata": {},
   "outputs": [
    {
     "data": {
      "text/plain": [
       "Text(0, 0.5, 'Energy')"
      ]
     },
     "execution_count": 13,
     "metadata": {},
     "output_type": "execute_result"
    },
    {
     "data": {
      "image/png": "[encoded data removed]",
      "text/plain": [
       "<Figure size 640x480 with 1 Axes>"
      ]
     },
     "metadata": {},
     "output_type": "display_data"
    }
   ],
   "source": [
    "# CCS\n",
    "from ccs_fit.ase_calculator.ccs_ase_calculator import CCS \n",
    "from ase import io\n",
    "import json\n",
    "import ase.db as db\n",
    "import matplotlib.pyplot as plt\n",
    "\n",
    "with open(\"CCS_params.json\", 'r') as f:\n",
    "    CCS_params = json.load(f)\n",
    "\n",
    "nrg_Li = CCS_params['One_body']['Li']\n",
    "    \n",
    "CCS_calc=CCS(CCS_params=CCS_params)\n",
    "    \n",
    "DFT_DB = db.connect('DFT.db')\n",
    "    \n",
    "xs = []\n",
    "CCS_nrgs = []\n",
    "\n",
    "i = 0\n",
    "\n",
    "struct_no_Li_CCS = struct_no_Li.copy()\n",
    "struct_full_Li_CCS = struct_full_Li.copy()\n",
    "\n",
    "struct_no_Li_CCS.calc = CCS_calc\n",
    "struct_full_Li_CCS.calc = CCS_calc\n",
    "\n",
    "ECCS_no_Li = struct_no_Li_CCS.get_potential_energy()\n",
    "ECCS_full_Li = struct_full_Li_CCS.get_potential_energy()\n",
    "\n",
    "for row in DFT_DB.select():\n",
    "    structure = row.toatoms()\n",
    "    # print(structure.get_magnetic_moments())\n",
    "    elems = structure.get_chemical_symbols()\n",
    "    nr_Li = elems.count('Li')\n",
    "    nr_Ni = elems.count('Ni')\n",
    "    x = nr_Li/nr_Ni\n",
    "    EDFT = structure.get_potential_energy()\n",
    "    structure.calc = CCS_calc\n",
    "    ECCS = structure.get_potential_energy() - (ECCS_no_Li) - (ECCS_full_Li-ECCS_no_Li)/27*nr_Li\n",
    "    xs.append(x)\n",
    "    CCS_nrgs.append(ECCS)\n",
    "    i += 1\n",
    "\n",
    "plt.scatter(xs, CCS_nrgs)\n",
    "plt.xlabel(\"Li concentration\")\n",
    "plt.ylabel(\"Energy\")"
   ]
  },
  {
   "cell_type": "code",
   "execution_count": 4,
   "id": "4d6039ac-2120-4fb5-8463-749d3d8d5b6a",
   "metadata": {},
   "outputs": [
    {
     "name": "stdout",
     "output_type": "stream",
     "text": [
      "0 0.48148148148148145\n",
      "1 0.6296296296296297\n",
      "2 0.7407407407407407\n",
      "3 0.14814814814814814\n",
      "4 0.25925925925925924\n",
      "5 0.6666666666666666\n",
      "6 0.7407407407407407\n",
      "7 0.5925925925925926\n",
      "8 0.5555555555555556\n",
      "9 0.2962962962962963\n",
      "10 1.0\n",
      "11 0.37037037037037035\n",
      "12 0.6296296296296297\n",
      "13 0.14814814814814814\n",
      "14 0.037037037037037035\n",
      "15 0.8888888888888888\n",
      "16 0.18518518518518517\n",
      "17 0.8518518518518519\n",
      "18 0.2222222222222222\n",
      "19 0.7037037037037037\n",
      "20 0.4444444444444444\n",
      "21 0.0\n",
      "22 0.07407407407407407\n",
      "23 0.4074074074074074\n",
      "24 0.18518518518518517\n",
      "25 0.4444444444444444\n",
      "26 0.25925925925925924\n",
      "27 0.14814814814814814\n",
      "28 0.8148148148148148\n",
      "29 0.48148148148148145\n",
      "30 0.3333333333333333\n",
      "31 0.2962962962962963\n",
      "32 0.5185185185185185\n",
      "33 0.25925925925925924\n",
      "34 0.8148148148148148\n",
      "35 0.2222222222222222\n",
      "36 0.07407407407407407\n",
      "37 0.5925925925925926\n",
      "38 0.5555555555555556\n",
      "39 0.18518518518518517\n",
      "40 0.4444444444444444\n",
      "41 0.1111111111111111\n",
      "42 0.14814814814814814\n",
      "43 0.4074074074074074\n",
      "44 0.48148148148148145\n",
      "45 0.4074074074074074\n",
      "46 0.5185185185185185\n",
      "47 0.07407407407407407\n",
      "48 0.18518518518518517\n",
      "49 0.9629629629629629\n",
      "50 0.48148148148148145\n",
      "51 0.07407407407407407\n",
      "52 0.5555555555555556\n",
      "53 0.8888888888888888\n",
      "54 0.5185185185185185\n",
      "55 0.7407407407407407\n",
      "56 0.25925925925925924\n",
      "57 0.7777777777777778\n",
      "58 0.8518518518518519\n",
      "59 0.9259259259259259\n",
      "60 0.5185185185185185\n",
      "61 0.7777777777777778\n",
      "62 0.2222222222222222\n",
      "63 0.4444444444444444\n",
      "64 0.1111111111111111\n",
      "65 0.3333333333333333\n",
      "66 0.5925925925925926\n",
      "67 0.14814814814814814\n",
      "68 0.8148148148148148\n",
      "69 0.2222222222222222\n",
      "70 0.48148148148148145\n",
      "71 0.5185185185185185\n",
      "72 0.1111111111111111\n",
      "73 0.48148148148148145\n",
      "74 0.4074074074074074\n",
      "75 0.48148148148148145\n",
      "76 0.3333333333333333\n",
      "77 0.5185185185185185\n"
     ]
    },
    {
     "ename": "NameError",
     "evalue": "name 'plt' is not defined",
     "output_type": "error",
     "traceback": [
      "\u001b[1;31m---------------------------------------------------------------------------\u001b[0m",
      "\u001b[1;31mNameError\u001b[0m                                 Traceback (most recent call last)",
      "Cell \u001b[1;32mIn[4], line 36\u001b[0m\n\u001b[0;32m     33\u001b[0m     DFT_nrgs\u001b[38;5;241m.\u001b[39mappend(EDFT)\n\u001b[0;32m     34\u001b[0m     i \u001b[38;5;241m+\u001b[39m\u001b[38;5;241m=\u001b[39m \u001b[38;5;241m1\u001b[39m\n\u001b[1;32m---> 36\u001b[0m \u001b[43mplt\u001b[49m\u001b[38;5;241m.\u001b[39mscatter(xs, DFT_nrgs)\n\u001b[0;32m     37\u001b[0m plt\u001b[38;5;241m.\u001b[39mxlabel(\u001b[38;5;124m\"\u001b[39m\u001b[38;5;124mLi concentration\u001b[39m\u001b[38;5;124m\"\u001b[39m)\n\u001b[0;32m     38\u001b[0m plt\u001b[38;5;241m.\u001b[39mylabel(\u001b[38;5;124m\"\u001b[39m\u001b[38;5;124mEnergy\u001b[39m\u001b[38;5;124m\"\u001b[39m)\n",
      "\u001b[1;31mNameError\u001b[0m: name 'plt' is not defined"
     ]
    }
   ],
   "source": [
    "# CCS\n",
    "from ccs_fit.ase_calculator.ccs_ase_calculator import CCS \n",
    "from ase import io\n",
    "import json\n",
    "import ase.db as db\n",
    "\n",
    "with open(\"CCS_params.json\", 'r') as f:\n",
    "    CCS_params = json.load(f)\n",
    "\n",
    "nrg_Li = CCS_params['One_body']['Li']\n",
    "    \n",
    "CCS_calc=CCS(CCS_params=CCS_params)\n",
    "    \n",
    "DFT_DB = db.connect('DFT.db')\n",
    "    \n",
    "xs = []\n",
    "DFT_nrgs = []\n",
    "\n",
    "i = 0\n",
    "\n",
    "for row in DFT_DB.select():\n",
    "    structure = row.toatoms()\n",
    "    # print(i)\n",
    "    # print(dir(structure))\n",
    "    # print(structure.get_magnetic_moment())\n",
    "    elems = structure.get_chemical_symbols()\n",
    "    nr_Li = elems.count('Li')\n",
    "    nr_Ni = elems.count('Ni')\n",
    "    x = nr_Li/nr_Ni\n",
    "    print(i,x)\n",
    "    EDFT = structure.get_potential_energy() - (nrg_0) - (nrg_1-nrg_0)/27*nr_Li\n",
    "    xs.append(x)\n",
    "    DFT_nrgs.append(EDFT)\n",
    "    i += 1\n",
    "\n",
    "plt.scatter(xs, DFT_nrgs)\n",
    "plt.xlabel(\"Li concentration\")\n",
    "plt.ylabel(\"Energy\")"
   ]
  },
  {
   "cell_type": "code",
   "execution_count": 6,
   "id": "3131a848-f375-41c5-9cf7-d437aafb698a",
   "metadata": {},
   "outputs": [
    {
     "name": "stdout",
     "output_type": "stream",
     "text": [
      "      Step     Time          Energy         fmax\n",
      "BFGS:    0 10:48:52     -561.268213        0.1146\n",
      "BFGS:    1 10:48:54     -561.269643        0.1122\n",
      "BFGS:    2 10:48:56     -561.337006        0.0475\n",
      "BFGS:    3 10:48:58     -561.340016        0.0643\n",
      "BFGS:    4 10:49:01     -561.340464        0.0687\n",
      "BFGS:    5 10:49:03     -561.341483        0.0736\n",
      "BFGS:    6 10:49:05     -561.344638        0.0791\n",
      "BFGS:    7 10:49:07     -561.350090        0.0722\n",
      "BFGS:    8 10:49:09     -561.357177        0.0439\n",
      "BFGS:    9 10:49:10     -561.362048        0.0239\n",
      "BFGS:   10 10:49:12     -561.363869        0.0278\n",
      "BFGS:   11 10:49:14     -561.364192        0.0303\n",
      "BFGS:   12 10:49:15     -561.364356        0.0294\n",
      "BFGS:   13 10:49:17     -561.365060        0.0261\n",
      "BFGS:   14 10:49:19     -561.366362        0.0207\n",
      "BFGS:   15 10:49:21     -561.369031        0.0135\n",
      "BFGS:   16 10:49:23     -561.371671        0.0260\n",
      "BFGS:   17 10:49:25     -561.373150        0.0294\n",
      "BFGS:   18 10:49:28     -561.373529        0.0245\n",
      "BFGS:   19 10:49:29     -561.373612        0.0218\n",
      "BFGS:   20 10:49:32     -561.373841        0.0164\n",
      "BFGS:   21 10:49:34     -561.374337        0.0141\n",
      "BFGS:   22 10:49:36     -561.375568        0.0139\n",
      "BFGS:   23 10:49:38     -561.377556        0.0195\n",
      "BFGS:   24 10:49:40     -561.379205        0.0269\n",
      "BFGS:   25 10:49:42     -561.380124        0.0235\n",
      "BFGS:   26 10:49:45     -561.380414        0.0177\n",
      "BFGS:   27 10:49:47     -561.380486        0.0158\n",
      "BFGS:   28 10:49:49     -561.380758        0.0141\n",
      "BFGS:   29 10:49:51     -561.381295        0.0142\n",
      "BFGS:   30 10:49:53     -561.382508        0.0190\n",
      "BFGS:   31 10:49:55     -561.384597        0.0272\n",
      "BFGS:   32 10:49:57     -561.385790        0.0218\n",
      "BFGS:   33 10:49:59     -561.386220        0.0146\n",
      "BFGS:   34 10:50:01     -561.386286        0.0146\n",
      "BFGS:   35 10:50:04     -561.386384        0.0146\n",
      "BFGS:   36 10:50:06     -561.386581        0.0145\n",
      "BFGS:   37 10:50:08     -561.387048        0.0143\n",
      "BFGS:   38 10:50:10     -561.387897        0.0143\n",
      "BFGS:   39 10:50:12     -561.388917        0.0151\n",
      "BFGS:   40 10:50:14     -561.389582        0.0113\n",
      "BFGS:   41 10:50:16     -561.389757        0.0091\n",
      "BFGS:   42 10:50:19     -561.389794        0.0085\n",
      "BFGS:   43 10:50:21     -561.389839        0.0080\n",
      "BFGS:   44 10:50:23     -561.389954        0.0073\n",
      "BFGS:   45 10:50:25     -561.390208        0.0100\n",
      "BFGS:   46 10:50:27     -561.390703        0.0130\n",
      "BFGS:   47 10:50:29     -561.391301        0.0109\n",
      "BFGS:   48 10:50:31     -561.391583        0.0073\n",
      "BFGS:   49 10:50:33     -561.391642        0.0062\n",
      "BFGS:   50 10:50:35     -561.391658        0.0056\n",
      "BFGS:   51 10:50:37     -561.391681        0.0056\n",
      "BFGS:   52 10:50:40     -561.391739        0.0054\n",
      "BFGS:   53 10:50:42     -561.391864        0.0054\n",
      "BFGS:   54 10:50:44     -561.392066        0.0069\n",
      "BFGS:   55 10:50:46     -561.392266        0.0066\n",
      "BFGS:   56 10:50:48     -561.392350        0.0058\n",
      "BFGS:   57 10:50:50     -561.392368        0.0058\n",
      "BFGS:   58 10:50:52     -561.392377        0.0054\n",
      "BFGS:   59 10:50:54     -561.392397        0.0045\n",
      "BFGS:   60 10:50:56     -561.392443        0.0032\n",
      "BFGS:   61 10:50:58     -561.392535        0.0035\n",
      "BFGS:   62 10:51:00     -561.392665        0.0050\n",
      "BFGS:   63 10:51:02     -561.392749        0.0060\n",
      "BFGS:   64 10:51:04     -561.392770        0.0055\n",
      "BFGS:   65 10:51:06     -561.392778        0.0050\n",
      "BFGS:   66 10:51:08     -561.392787        0.0046\n",
      "BFGS:   67 10:51:10     -561.392813        0.0039\n",
      "BFGS:   68 10:51:12     -561.392865        0.0036\n",
      "BFGS:   69 10:51:15     -561.392958        0.0042\n",
      "BFGS:   70 10:51:17     -561.393052        0.0042\n",
      "BFGS:   71 10:51:19     -561.393095        0.0033\n",
      "BFGS:   72 10:51:21     -561.393105        0.0031\n",
      "BFGS:   73 10:51:23     -561.393109        0.0032\n",
      "BFGS:   74 10:51:25     -561.393117        0.0032\n",
      "BFGS:   75 10:51:27     -561.393134        0.0031\n",
      "BFGS:   76 10:51:29     -561.393173        0.0030\n",
      "BFGS:   77 10:51:31     -561.393241        0.0040\n",
      "BFGS:   78 10:51:33     -561.393323        0.0047\n",
      "BFGS:   79 10:51:35     -561.393351        0.0038\n",
      "BFGS:   80 10:51:37     -561.393361        0.0041\n",
      "BFGS:   81 10:51:40     -561.393364        0.0039\n",
      "BFGS:   82 10:51:42     -561.393379        0.0033\n",
      "BFGS:   83 10:51:43     -561.393404        0.0029\n",
      "BFGS:   84 10:51:46     -561.393453        0.0028\n",
      "BFGS:   85 10:51:48     -561.393502        0.0026\n",
      "BFGS:   86 10:51:50     -561.393529        0.0024\n",
      "BFGS:   87 10:51:52     -561.393535        0.0022\n",
      "BFGS:   88 10:51:54     -561.393537        0.0021\n",
      "BFGS:   89 10:51:56     -561.393539        0.0020\n",
      "BFGS:   90 10:51:58     -561.393546        0.0019\n",
      "BFGS:   91 10:52:04     -561.393562        0.0016\n",
      "BFGS:   92 10:52:06     -561.393590        0.0015\n",
      "BFGS:   93 10:52:08     -561.393626        0.0025\n",
      "BFGS:   94 10:52:10     -561.393652        0.0029\n",
      "BFGS:   95 10:52:12     -561.393659        0.0035\n",
      "BFGS:   96 10:52:15     -561.393662        0.0037\n",
      "BFGS:   97 10:52:17     -561.393666        0.0039\n",
      "BFGS:   98 10:52:19     -561.393678        0.0041\n",
      "BFGS:   99 10:52:21     -561.393704        0.0041\n",
      "BFGS:  100 10:52:23     -561.393749        0.0036\n",
      "BFGS:  101 10:52:25     -561.393799        0.0043\n",
      "BFGS:  102 10:52:28     -561.393821        0.0037\n",
      "BFGS:  103 10:52:30     -561.393829        0.0038\n",
      "BFGS:  104 10:52:32     -561.393831        0.0037\n",
      "BFGS:  105 10:52:34     -561.393838        0.0037\n",
      "BFGS:  106 10:52:37     -561.393855        0.0034\n",
      "BFGS:  107 10:52:39     -561.393893        0.0041\n",
      "BFGS:  108 10:52:41     -561.393952        0.0047\n",
      "BFGS:  109 10:52:44     -561.393996        0.0046\n",
      "BFGS:  110 10:52:46     -561.394017        0.0030\n",
      "BFGS:  111 10:52:48     -561.394020        0.0029\n",
      "BFGS:  112 10:52:51     -561.394022        0.0030\n",
      "BFGS:  113 10:52:53     -561.394028        0.0029\n",
      "BFGS:  114 10:52:55     -561.394045        0.0026\n",
      "BFGS:  115 10:52:57     -561.394070        0.0020\n",
      "BFGS:  116 10:53:00     -561.394095        0.0024\n",
      "BFGS:  117 10:53:03     -561.394105        0.0022\n",
      "BFGS:  118 10:53:05     -561.394108        0.0017\n",
      "BFGS:  119 10:53:33     -561.394109        0.0016\n",
      "BFGS:  120 10:53:40     -561.394111        0.0016\n",
      "BFGS:  121 10:53:44     -561.394116        0.0016\n",
      "BFGS:  122 10:53:48     -561.394126        0.0016\n",
      "BFGS:  123 10:53:52     -561.394142        0.0023\n",
      "BFGS:  124 10:53:55     -561.394157        0.0026\n",
      "BFGS:  125 10:53:58     -561.394163        0.0021\n",
      "BFGS:  126 10:54:02     -561.394164        0.0017\n",
      "BFGS:  127 10:54:04     -561.394165        0.0017\n",
      "BFGS:  128 10:54:06     -561.394168        0.0017\n",
      "BFGS:  129 10:54:08     -561.394173        0.0017\n",
      "BFGS:  130 10:54:10     -561.394184        0.0016\n",
      "BFGS:  131 10:54:11     -561.394198        0.0025\n",
      "BFGS:  132 10:54:13     -561.394208        0.0026\n",
      "BFGS:  133 10:54:15     -561.394212        0.0019\n",
      "BFGS:  134 10:54:17     -561.394213        0.0014\n",
      "BFGS:  135 10:54:19     -561.394213        0.0013\n",
      "BFGS:  136 10:54:21     -561.394216        0.0011\n",
      "BFGS:  137 10:54:24     -561.394221        0.0013\n",
      "BFGS:  138 10:54:25     -561.394230        0.0019\n",
      "BFGS:  139 10:54:27     -561.394242        0.0026\n",
      "BFGS:  140 10:54:29     -561.394249        0.0021\n",
      "BFGS:  141 10:54:31     -561.394251        0.0014\n",
      "BFGS:  142 10:54:33     -561.394251        0.0014\n",
      "BFGS:  143 10:54:35     -561.394252        0.0014\n",
      "BFGS:  144 10:54:37     -561.394254        0.0013\n",
      "BFGS:  145 10:54:40     -561.394258        0.0013\n",
      "BFGS:  146 10:54:41     -561.394266        0.0022\n",
      "BFGS:  147 10:54:44     -561.394276        0.0027\n",
      "BFGS:  148 10:54:46     -561.394282        0.0022\n",
      "BFGS:  149 10:54:48     -561.394283        0.0014\n",
      "BFGS:  150 10:54:50     -561.394284        0.0010\n",
      "BFGS:  151 10:54:52     -561.394284        0.0009\n"
     ]
    },
    {
     "data": {
      "text/plain": [
       "True"
      ]
     },
     "execution_count": 6,
     "metadata": {},
     "output_type": "execute_result"
    }
   ],
   "source": [
    "from ase.optimize import BFGS\n",
    "from ccs_fit.ase_calculator.ccs_ase_calculator import CCS\n",
    "from tqdm import tqdm\n",
    "from ase import io\n",
    "\n",
    "struct = io.read('DFT.db@11')\n",
    "\n",
    "struct = struct # * [2,2,2]\n",
    "\n",
    "CCS_calc = CCS(CCS_params=CCS_params)\n",
    "\n",
    "struct.rattle(0.05)\n",
    "struct.calc = CCS_calc\n",
    "\n",
    "opt = BFGS(struct, trajectory='opt.traj')\n",
    "opt.run(fmax=0.001)"
   ]
  },
  {
   "cell_type": "code",
   "execution_count": 11,
   "id": "4d72920f-6c7f-490c-bf07-46f4f7cc24f0",
   "metadata": {
    "tags": []
   },
   "outputs": [],
   "source": [
    "!ase gui opt.traj"
   ]
  },
  {
   "cell_type": "code",
   "execution_count": 1,
   "id": "f920709e-eb63-4393-8553-8a129b22a241",
   "metadata": {
    "tags": []
   },
   "outputs": [
    {
     "ename": "NameError",
     "evalue": "name 'struct' is not defined",
     "output_type": "error",
     "traceback": [
      "\u001b[1;31m---------------------------------------------------------------------------\u001b[0m",
      "\u001b[1;31mNameError\u001b[0m                                 Traceback (most recent call last)",
      "Cell \u001b[1;32mIn[1], line 13\u001b[0m\n\u001b[0;32m     11\u001b[0m dt \u001b[38;5;241m=\u001b[39m \u001b[38;5;241m0.5\u001b[39m \u001b[38;5;241m*\u001b[39m units\u001b[38;5;241m.\u001b[39mfs\n\u001b[0;32m     12\u001b[0m steps \u001b[38;5;241m=\u001b[39m \u001b[38;5;28mint\u001b[39m(\u001b[38;5;241m300\u001b[39m)\n\u001b[1;32m---> 13\u001b[0m MaxwellBoltzmannDistribution(\u001b[43mstruct\u001b[49m, temperature_K\u001b[38;5;241m=\u001b[39m\u001b[38;5;241m600\u001b[39m)\n\u001b[0;32m     14\u001b[0m dyn \u001b[38;5;241m=\u001b[39m VelocityVerlet(struct, timestep\u001b[38;5;241m=\u001b[39mdt)\n\u001b[0;32m     15\u001b[0m interval \u001b[38;5;241m=\u001b[39m \u001b[38;5;28mint\u001b[39m(\u001b[38;5;241m1\u001b[39m)\n",
      "\u001b[1;31mNameError\u001b[0m: name 'struct' is not defined"
     ]
    }
   ],
   "source": [
    "# Read geometry optimized structure and run NVE Molecular dynamics \n",
    "import numpy as np\n",
    "from ase import units\n",
    "from ase.io import read, write\n",
    "from ase.io.trajectory import Trajectory\n",
    "from ase.md import MDLogger\n",
    "from ase.md.verlet import VelocityVerlet\n",
    "from ase.md.velocitydistribution import (MaxwellBoltzmannDistribution,\n",
    "                                         Stationary, ZeroRotation)\n",
    "\n",
    "dt = 0.5 * units.fs\n",
    "steps = int(300)\n",
    "MaxwellBoltzmannDistribution(struct, temperature_K=600)\n",
    "dyn = VelocityVerlet(struct, timestep=dt)\n",
    "interval = int(1)\n",
    "dyn.attach(MDLogger(dyn, struct, 'output.log', mode=\"a\"), interval=interval)\n",
    "dyn.attach(Trajectory('output.traj', 'a', struct).write, interval=interval)\n",
    "dyn.run(steps)"
   ]
  },
  {
   "cell_type": "code",
   "execution_count": 2,
   "id": "7141703f-c730-4316-89f8-f40f060f9e3e",
   "metadata": {
    "tags": []
   },
   "outputs": [
    {
     "name": "stderr",
     "output_type": "stream",
     "text": [
      "usage: ase [-h] [--version] [-T]\n",
      "           {help,info,test,gui,db,run,band-structure,build,dimensionality,eos,ulm,find,nebplot,nomad-upload,nomad-get,convert,reciprocal,completion,diff,exec}\n",
      "           ...\n",
      "ase: error: FileNotFoundError: [Errno 2] No such file or directory: 'output.traj'\n",
      "To get a full traceback, use: ase -T gui ...\n"
     ]
    }
   ],
   "source": [
    "!ase gui output.traj"
   ]
  },
  {
   "cell_type": "code",
   "execution_count": 50,
   "id": "5a1203b4-384e-41b6-9fb1-c8c0cb7f02b1",
   "metadata": {},
   "outputs": [
    {
     "name": "stdout",
     "output_type": "stream",
     "text": [
      "      Step     Time          Energy         fmax\n",
      "BFGS:    0 12:20:11    -4056.685755        0.0000\n"
     ]
    },
    {
     "data": {
      "text/plain": [
       "True"
      ]
     },
     "execution_count": 50,
     "metadata": {},
     "output_type": "execute_result"
    }
   ],
   "source": [
    "## Stresses not currently implemented in ccs_fit yet!\n",
    "\n",
    "from ase.constraints import StrainFilter\n",
    "\n",
    "sf = StrainFilter(struct)\n",
    "opt = BFGS(sf)\n",
    "opt.run(0.005)"
   ]
  },
  {
   "cell_type": "code",
   "execution_count": 18,
   "id": "5b535de1-71fe-4fa3-a504-9f8ca07cbb9b",
   "metadata": {},
   "outputs": [
    {
     "name": "stdout",
     "output_type": "stream",
     "text": [
      "602\n"
     ]
    }
   ],
   "source": [
    "structs = io.read('output.traj@:')\n",
    "\n",
    "print(len(structs))"
   ]
  },
  {
   "cell_type": "code",
   "execution_count": 15,
   "id": "10c9240a-611c-4dc0-b547-5e6187bbb2f9",
   "metadata": {},
   "outputs": [
    {
     "name": "stdout",
     "output_type": "stream",
     "text": [
      "Atom('O', [1.5302522558471303, 0.6498901747917316, 8.350791516660168], momentum=[0.0014744864791352498, -0.0003861502676627821, -0.0013253298584316594], index=40)\n",
      "Atom('O', [4.184446643135762, 2.4776447376680752, 3.7608334497495246], momentum=[-0.0030845779832983197, 0.0027338945258879575, 0.0021347184935242842], index=80)\n"
     ]
    }
   ],
   "source": [
    "for i in range(2):\n",
    "    print(structs[(i+1)*50])\n",
    "    "
   ]
  },
  {
   "cell_type": "code",
   "execution_count": 16,
   "id": "34105646-c4dd-44ad-9a0f-e93492042ee6",
   "metadata": {
    "scrolled": true
   },
   "outputs": [
    {
     "name": "stdout",
     "output_type": "stream",
     "text": [
      "Buckingham fit (not optimised) for element pair O-O;     V(r) = 2.28*exp(-1.04*r) -(9.89)/r^6.\n",
      "Lennard Jones fit (not optimised) for element pair O-O;  V(r) = 4*-0.15*((2.20/r)^12 - (2.20/r)^6)\n",
      "Morse fit (not optimised) for element pair O-O;          V(r) = -0.15*((1-np.exp(-1.10*(r-2.04)))^2 - 1)\n",
      "Pedone fit (not optimised) for element pair O-O;         V(r) = -0.10*((1-np.exp(-1.21*(r-2.58)))^2 - 1) + 1428.60/r^12\n"
     ]
    },
    {
     "data": {
      "image/png": "[encoded data removed]",
      "text/plain": [
       "<Figure size 640x480 with 1 Axes>"
      ]
     },
     "metadata": {},
     "output_type": "display_data"
    },
    {
     "name": "stdout",
     "output_type": "stream",
     "text": [
      "Buckingham fit (not optimised) for element pair Ni-Ni;     V(r) = 10.87*exp(-1.19*r) -(76.72)/r^6.\n",
      "Lennard Jones fit (not optimised) for element pair Ni-Ni;  V(r) = 4*-0.25*((2.49/r)^12 - (2.49/r)^6)\n",
      "Morse fit (not optimised) for element pair Ni-Ni;          V(r) = 6.19*((1-np.exp(-2.84*(r--14.70)))^2 - 1)\n",
      "Pedone fit (not optimised) for element pair Ni-Ni;         V(r) = 6.19*((1-np.exp(-2.84*(r--14.70)))^2 - 1) + 46239.16/r^12\n"
     ]
    },
    {
     "name": "stderr",
     "output_type": "stream",
     "text": [
      "C:\\Users\\frede\\anaconda3\\envs\\Tantalizing\\lib\\site-packages\\scipy\\optimize\\_minpack_py.py:906: OptimizeWarning: Covariance of the parameters could not be estimated\n",
      "  warnings.warn('Covariance of the parameters could not be estimated',\n"
     ]
    },
    {
     "data": {
      "image/png": "[encoded data removed]",
      "text/plain": [
       "<Figure size 640x480 with 1 Axes>"
      ]
     },
     "metadata": {},
     "output_type": "display_data"
    },
    {
     "name": "stdout",
     "output_type": "stream",
     "text": [
      "Buckingham fit (not optimised) for element pair Li-Li;     V(r) = 9.84*exp(-1.38*r) -(29.32)/r^6.\n",
      "Lennard Jones fit (not optimised) for element pair Li-Li;  V(r) = 4*-0.18*((2.32/r)^12 - (2.32/r)^6)\n",
      "Morse fit (not optimised) for element pair Li-Li;          V(r) = -0.23*((1-np.exp(-1.40*(r-2.11)))^2 - 1)\n",
      "Pedone fit (not optimised) for element pair Li-Li;         V(r) = -0.07*((1-np.exp(-1.67*(r-3.14)))^2 - 1) + 24755.15/r^12\n"
     ]
    },
    {
     "data": {
      "image/png": "[encoded data removed]",
      "text/plain": [
       "<Figure size 640x480 with 1 Axes>"
      ]
     },
     "metadata": {},
     "output_type": "display_data"
    },
    {
     "name": "stdout",
     "output_type": "stream",
     "text": [
      "Buckingham fit (not optimised) for element pair Li-Ni;     V(r) = -0.21*exp(-0.85*r) -(-9.69)/r^6.\n",
      "Lennard Jones fit (not optimised) for element pair Li-Ni;  V(r) = 4*0.01*((2.74/r)^12 - (2.74/r)^6)\n",
      "Morse fit (not optimised) for element pair Li-Ni;          V(r) = -0.01*((1-np.exp(-16.83*(r-2.56)))^2 - 1)\n",
      "Pedone fit (not optimised) for element pair Li-Ni;         V(r) = -1381.96*((1-np.exp(-4.56*(r-0.65)))^2 - 1) + -36203.13/r^12\n"
     ]
    },
    {
     "data": {
      "image/png": "[encoded data removed]",
      "text/plain": [
       "<Figure size 640x480 with 1 Axes>"
      ]
     },
     "metadata": {},
     "output_type": "display_data"
    },
    {
     "name": "stdout",
     "output_type": "stream",
     "text": [
      "Buckingham fit (not optimised) for element pair Li-O;     V(r) = -3.07*exp(-2.03*r) -(-2.23)/r^6.\n",
      "Lennard Jones fit (not optimised) for element pair Li-O;  V(r) = 4*0.02*((1.75/r)^12 - (1.75/r)^6)\n",
      "Morse fit (not optimised) for element pair Li-O;          V(r) = 0.02*((1-np.exp(-2.16*(r-1.99)))^2 - 1)\n",
      "Pedone fit (not optimised) for element pair Li-O;         V(r) = 0.03*((1-np.exp(-2.00*(r-1.65)))^2 - 1) + 17.86/r^12\n"
     ]
    },
    {
     "data": {
      "image/png": "[encoded data removed]",
      "text/plain": [
       "<Figure size 640x480 with 1 Axes>"
      ]
     },
     "metadata": {},
     "output_type": "display_data"
    },
    {
     "name": "stdout",
     "output_type": "stream",
     "text": [
      "Buckingham fit (not optimised) for element pair Ni-O;     V(r) = -1.29*exp(-0.91*r) -(-2.39)/r^6.\n",
      "Lennard Jones fit (not optimised) for element pair Ni-O;  V(r) = 4*0.24*((1.67/r)^12 - (1.67/r)^6)\n",
      "Morse fit (not optimised) for element pair Ni-O;          V(r) = 0.18*((1-np.exp(-1.02*(r-1.71)))^2 - 1)\n",
      "Pedone fit (not optimised) for element pair Ni-O;         V(r) = 0.15*((1-np.exp(-1.10*(r-2.02)))^2 - 1) + -42.24/r^12\n"
     ]
    },
    {
     "data": {
      "image/png": "[encoded data removed]",
      "text/plain": [
       "<Figure size 640x480 with 1 Axes>"
      ]
     },
     "metadata": {},
     "output_type": "display_data"
    }
   ],
   "source": [
    "from ccs_fit.scripts.ccs_export_FF import write_FF\n",
    "write_FF(\"CCS_params.json\")"
   ]
  },
  {
   "cell_type": "code",
   "execution_count": null,
   "id": "fe5ae0df",
   "metadata": {},
   "outputs": [],
   "source": []
  }
 ],
 "metadata": {
  "kernelspec": {
   "display_name": "Tantalizing",
   "language": "python",
   "name": "tantalizing"
  },
  "language_info": {
   "codemirror_mode": {
    "name": "ipython",
    "version": 3
   },
   "file_extension": ".py",
   "mimetype": "text/x-python",
   "name": "python",
   "nbconvert_exporter": "python",
   "pygments_lexer": "ipython3",
   "version": "3.9.16"
  },
  "vscode": {
   "interpreter": {
    "hash": "f9cf24ff20edf0aae28141210fc773ab63efd2a56eb4d7d08651373a5d8a7dcd"
   }
  }
 },
 "nbformat": 4,
 "nbformat_minor": 5
}
