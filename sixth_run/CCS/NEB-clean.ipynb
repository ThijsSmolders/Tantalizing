{
 "cells": [
  {
   "cell_type": "markdown",
   "id": "e8fc01a3-f9d4-4d77-bb75-648242b17093",
   "metadata": {},
   "source": [
    "## NEB"
   ]
  },
  {
   "cell_type": "code",
   "execution_count": 1,
   "id": "96835b70-fd78-49e7-a739-594e307a76ff",
   "metadata": {
    "tags": []
   },
   "outputs": [
    {
     "name": "stderr",
     "output_type": "stream",
     "text": [
      "C:\\Users\\Fremo211\\Anaconda3\\envs\\Tantalizing\\lib\\site-packages\\ase\\utils\\__init__.py:62: FutureWarning: Please use atoms.cell.rank instead\n",
      "  warnings.warn(warning)\n"
     ]
    },
    {
     "name": "stdout",
     "output_type": "stream",
     "text": [
      "      Step     Time          Energy         fmax\n",
      "BFGS:    0 18:07:52     -560.741067        0.1122\n",
      "BFGS:    1 18:08:05     -560.744745        0.1086\n",
      "BFGS:    2 18:08:21     -560.777373        0.1104\n",
      "BFGS:    3 18:08:47     -560.778952        0.0839\n",
      "BFGS:    4 18:09:13     -560.782979        0.0329\n",
      "BFGS:    5 18:09:32     -560.783603        0.0408\n",
      "BFGS:    6 18:09:45     -560.784853        0.0462\n",
      "BFGS:    7 18:09:57     -560.786239        0.0502\n",
      "BFGS:    8 18:10:11     -560.787511        0.0413\n",
      "BFGS:    9 18:10:27     -560.788259        0.0319\n",
      "BFGS:   10 18:10:41     -560.788807        0.0371\n",
      "BFGS:   11 18:11:03     -560.789513        0.0321\n",
      "BFGS:   12 08:48:53     -560.790518        0.0461\n",
      "BFGS:   13 08:48:57     -560.791586        0.0615\n",
      "BFGS:   14 08:49:00     -560.792480        0.0569\n",
      "BFGS:   15 08:49:03     -560.793286        0.0575\n",
      "BFGS:   16 08:49:06     -560.794171        0.0467\n",
      "BFGS:   17 08:49:08     -560.794943        0.0323\n",
      "BFGS:   18 08:49:10     -560.795441        0.0343\n",
      "BFGS:   19 08:49:11     -560.795790        0.0359\n",
      "BFGS:   20 08:49:14     -560.796167        0.0314\n",
      "BFGS:   21 08:49:17     -560.796642        0.0252\n",
      "BFGS:   22 08:49:19     -560.797101        0.0282\n",
      "BFGS:   23 08:49:23     -560.797449        0.0321\n",
      "BFGS:   24 08:49:26     -560.797752        0.0293\n",
      "BFGS:   25 08:49:29     -560.798106        0.0219\n",
      "BFGS:   26 08:49:33     -560.798465        0.0207\n",
      "BFGS:   27 08:49:35     -560.798728        0.0247\n",
      "BFGS:   28 08:49:38     -560.798905        0.0229\n",
      "BFGS:   29 08:49:41     -560.799083        0.0159\n",
      "BFGS:   30 08:49:44     -560.799296        0.0140\n",
      "BFGS:   31 08:49:46     -560.799487        0.0167\n",
      "BFGS:   32 08:49:48     -560.799621        0.0210\n",
      "BFGS:   33 08:49:50     -560.799739        0.0194\n",
      "BFGS:   34 08:49:52     -560.799877        0.0138\n",
      "BFGS:   35 08:49:54     -560.800019        0.0128\n",
      "BFGS:   36 08:49:56     -560.800119        0.0105\n",
      "BFGS:   37 08:49:58     -560.800180        0.0110\n",
      "BFGS:   38 08:50:00     -560.800238        0.0107\n",
      "BFGS:   39 08:50:02     -560.800310        0.0085\n",
      "BFGS:   40 08:50:04     -560.800380        0.0082\n",
      "BFGS:   41 08:50:06     -560.800428        0.0093\n",
      "BFGS:   42 08:50:08     -560.800462        0.0082\n",
      "BFGS:   43 08:50:11     -560.800506        0.0088\n",
      "BFGS:   44 08:50:12     -560.800568        0.0077\n",
      "BFGS:   45 08:50:14     -560.800629        0.0123\n",
      "BFGS:   46 08:50:17     -560.800673        0.0121\n",
      "BFGS:   47 08:50:19     -560.800703        0.0077\n",
      "BFGS:   48 08:50:21     -560.800731        0.0049\n"
     ]
    },
    {
     "data": {
      "text/plain": [
       "True"
      ]
     },
     "execution_count": 1,
     "metadata": {},
     "output_type": "execute_result"
    }
   ],
   "source": [
    "from ase.optimize import BFGS\n",
    "from ccs_fit.ase_calculator.ccs_ase_calculator import CCS\n",
    "from tqdm import tqdm\n",
    "from ase import io\n",
    "import json\n",
    "\n",
    "struct = io.read('DFT.db@11')\n",
    "with open(\"CCS_params.json\", 'r') as f:\n",
    "    CCS_params = json.load(f)\n",
    "\n",
    "CCS_calc = CCS(CCS_params=CCS_params)\n",
    "\n",
    "#struct.rattle(0.05)\n",
    "struct.calc = CCS_calc\n",
    "\n",
    "opt = BFGS(struct, trajectory='opt_init.traj')\n",
    "opt.run(fmax=0.005)"
   ]
  },
  {
   "cell_type": "code",
   "execution_count": 5,
   "id": "ce95eaa5-4d49-4f2f-a3e7-4753a95c2bb1",
   "metadata": {
    "tags": []
   },
   "outputs": [
    {
     "data": {
      "text/plain": [
       "<Popen: returncode: None args: ['C:\\\\Users\\\\Fremo211\\\\Anaconda3\\\\envs\\\\Tanta...>"
      ]
     },
     "execution_count": 5,
     "metadata": {},
     "output_type": "execute_result"
    }
   ],
   "source": [
    "from ase.visualize import view\n",
    "init = io.read(\"opt_init.traj\")\n",
    "\n",
    "view(init)"
   ]
  },
  {
   "cell_type": "code",
   "execution_count": 7,
   "id": "a9cedf67-7eaa-4b94-a37b-b1b1869e3e4e",
   "metadata": {
    "tags": []
   },
   "outputs": [
    {
     "name": "stdout",
     "output_type": "stream",
     "text": [
      "      Step     Time          Energy         fmax\n",
      "BFGS:    0 13:52:54     -561.357678        0.0317\n",
      "BFGS:    1 13:52:55     -561.357798        0.0315\n",
      "BFGS:    2 13:52:56     -561.368203        0.0199\n",
      "BFGS:    3 13:52:58     -561.368764        0.0282\n",
      "BFGS:    4 13:52:59     -561.368854        0.0302\n",
      "BFGS:    5 13:53:01     -561.369026        0.0324\n",
      "BFGS:    6 13:53:02     -561.369442        0.0349\n",
      "BFGS:    7 13:53:03     -561.370316        0.0357\n",
      "BFGS:    8 13:53:05     -561.371728        0.0315\n",
      "BFGS:    9 13:53:06     -561.372986        0.0209\n",
      "BFGS:   10 13:53:07     -561.373508        0.0138\n",
      "BFGS:   11 13:53:09     -561.373654        0.0149\n",
      "BFGS:   12 13:53:10     -561.373698        0.0146\n",
      "BFGS:   13 13:53:11     -561.373834        0.0132\n",
      "BFGS:   14 13:53:13     -561.374085        0.0111\n",
      "BFGS:   15 13:53:14     -561.374688        0.0101\n",
      "BFGS:   16 13:53:16     -561.375679        0.0128\n",
      "BFGS:   17 13:53:17     -561.376472        0.0235\n",
      "BFGS:   18 13:53:18     -561.376700        0.0223\n",
      "BFGS:   19 13:53:20     -561.376777        0.0188\n",
      "BFGS:   20 13:53:21     -561.376825        0.0167\n",
      "BFGS:   21 13:53:23     -561.377028        0.0107\n",
      "BFGS:   22 13:53:24     -561.377388        0.0113\n",
      "BFGS:   23 13:53:25     -561.378181        0.0122\n",
      "BFGS:   24 13:53:27     -561.378935        0.0219\n",
      "BFGS:   25 13:53:28     -561.379116        0.0226\n",
      "BFGS:   26 13:53:29     -561.379236        0.0215\n",
      "BFGS:   27 13:53:31     -561.379279        0.0209\n",
      "BFGS:   28 13:53:32     -561.379468        0.0180\n",
      "BFGS:   29 13:53:34     -561.379787        0.0136\n",
      "BFGS:   30 13:53:35     -561.380406        0.0093\n",
      "BFGS:   31 13:53:36     -561.380896        0.0194\n",
      "BFGS:   32 13:53:38     -561.381171        0.0101\n",
      "BFGS:   33 13:53:39     -561.381205        0.0083\n",
      "BFGS:   34 13:53:40     -561.381225        0.0084\n",
      "BFGS:   35 13:53:42     -561.381248        0.0092\n",
      "BFGS:   36 13:53:43     -561.381398        0.0113\n",
      "BFGS:   37 13:53:45     -561.381686        0.0140\n",
      "BFGS:   38 13:53:46     -561.381753        0.0175\n",
      "BFGS:   39 13:53:48     -561.382118        0.0135\n",
      "BFGS:   40 13:53:49     -561.382305        0.0109\n",
      "BFGS:   41 13:53:50     -561.382490        0.0098\n",
      "BFGS:   42 13:53:52     -561.382539        0.0123\n",
      "BFGS:   43 13:53:53     -561.382563        0.0130\n",
      "BFGS:   44 13:53:54     -561.382659        0.0142\n",
      "BFGS:   45 13:53:56     -561.382842        0.0147\n",
      "BFGS:   46 13:53:57     -561.383201        0.0130\n",
      "BFGS:   47 13:53:59     -561.383613        0.0134\n",
      "BFGS:   48 13:54:00     -561.383886        0.0103\n",
      "BFGS:   49 13:54:01     -561.383912        0.0088\n",
      "BFGS:   50 13:54:03     -561.383925        0.0077\n",
      "BFGS:   51 13:54:04     -561.383950        0.0068\n",
      "BFGS:   52 13:54:06     -561.384057        0.0047\n"
     ]
    },
    {
     "data": {
      "text/plain": [
       "True"
      ]
     },
     "execution_count": 7,
     "metadata": {},
     "output_type": "execute_result"
    }
   ],
   "source": [
    "final = init.copy()\n",
    "\n",
    "final_pos = final.get_positions()\n",
    "final_pos[24,:] = [-0.1, 3.2, 11.9]\n",
    "\n",
    "final.set_positions(final_pos)\n",
    "\n",
    "# view(final)\n",
    "\n",
    "final.calc = CCS_calc\n",
    "opt = BFGS(final, trajectory='final_opt.traj')\n",
    "opt.run(fmax=0.005)"
   ]
  },
  {
   "cell_type": "code",
   "execution_count": 8,
   "id": "6481afb5-15f8-472e-8a1c-377f10a67ad3",
   "metadata": {
    "tags": []
   },
   "outputs": [],
   "source": [
    "!ase gui final_opt.traj"
   ]
  },
  {
   "cell_type": "code",
   "execution_count": 15,
   "id": "6551b5c6-4643-43d5-bbe7-6e304fe7d639",
   "metadata": {},
   "outputs": [
    {
     "name": "stdout",
     "output_type": "stream",
     "text": [
      "       Step     Time          Energy         fmax\n",
      "MDMin:    0 16:24:00     -561.338510        0.1147\n",
      "MDMin:    1 16:24:07     -561.339001        0.1116\n",
      "MDMin:    2 16:24:13     -561.340382        0.1027\n",
      "MDMin:    3 16:24:19     -561.342409        0.0893\n",
      "MDMin:    4 16:24:25     -561.344762        0.0731\n",
      "MDMin:    5 16:24:31     -561.347149        0.0568\n",
      "MDMin:    6 16:24:37     -561.349372        0.0482\n"
     ]
    },
    {
     "data": {
      "text/plain": [
       "True"
      ]
     },
     "execution_count": 15,
     "metadata": {},
     "output_type": "execute_result"
    }
   ],
   "source": [
    "from ase import io\n",
    "from ase.neb import NEB\n",
    "from ase.optimize import MDMin\n",
    "\n",
    "# Read initial and final states:\n",
    "initial = io.read('opt_init.traj')\n",
    "final = io.read('final_opt.traj')\n",
    "\n",
    "# Make a band consisting of 5 images:\n",
    "images = [init]\n",
    "images += [init.copy() for i in range(3)]\n",
    "images += [final]\n",
    "neb = NEB(images)\n",
    "\n",
    "# Interpolate linearly the potisions of the three middle images:\n",
    "neb.interpolate()\n",
    "\n",
    "# Set calculators:\n",
    "for image in images[1:4]:\n",
    "    CCS_calc = CCS(CCS_params=CCS_params)\n",
    "    image.calc = CCS_calc\n",
    "    \n",
    "# Optimize:\n",
    "optimizer = MDMin(neb, trajectory='NEB.traj')\n",
    "optimizer.run(fmax=0.05)"
   ]
  },
  {
   "cell_type": "code",
   "execution_count": 18,
   "id": "8c718e0a-28fc-4e00-9e50-8c1fdde737f3",
   "metadata": {},
   "outputs": [],
   "source": [
    "saddle_point = io.read('NEB.traj@-3')\n",
    "\n",
    "view(saddle_point)\n",
    "\n",
    "io.write(\"saddle.POSCAR\", saddle_point)"
   ]
  },
  {
   "cell_type": "code",
   "execution_count": 17,
   "id": "b918671d-6356-4fdc-93b5-a788bf9dc8ed",
   "metadata": {},
   "outputs": [
    {
     "name": "stdout",
     "output_type": "stream",
     "text": [
      "4\n"
     ]
    }
   ],
   "source": [
    "neb_images = io.read('NEB.traj@-5:-1')\n",
    "print(len(neb_images))"
   ]
  },
  {
   "cell_type": "code",
   "execution_count": 23,
   "id": "fec6cd54-626a-4c7a-8ef5-24196f5e6d7b",
   "metadata": {},
   "outputs": [],
   "source": [
    "for i in range(3):\n",
    "    view(neb_images[i+1])\n",
    "    io.write(str(i+1) + \".POSCAR\", neb_images[i+1])"
   ]
  },
  {
   "cell_type": "code",
   "execution_count": 15,
   "id": "241dd1a2-89f7-4921-9479-052a356330a0",
   "metadata": {},
   "outputs": [],
   "source": [
    "import os\n",
    "from ase import io\n",
    "os.chdir(\"C:/Users/Fremo211/Documents/repos/Tantalizing/fifth_run/CCS\")\n",
    "sadd_run = io.read(\"OUTCARS/79.OUTCAR@:\")"
   ]
  },
  {
   "cell_type": "code",
   "execution_count": 13,
   "id": "e9b9c85b-954d-4318-9f75-850c7f5204f2",
   "metadata": {},
   "outputs": [
    {
     "name": "stdout",
     "output_type": "stream",
     "text": [
      "-553.76693563\n"
     ]
    }
   ],
   "source": [
    "print(sadd_run[0].get_potential_energy())"
   ]
  },
  {
   "cell_type": "code",
   "execution_count": 16,
   "id": "a59e8e53-2bfe-4f06-804d-0c3ac94bfa8a",
   "metadata": {},
   "outputs": [],
   "source": [
    "sadd = io.read(\"2.POSCAR\")"
   ]
  },
  {
   "cell_type": "code",
   "execution_count": 18,
   "id": "4f8dcda7-fc32-49ff-8be8-b05a0985d13a",
   "metadata": {},
   "outputs": [
    {
     "name": "stderr",
     "output_type": "stream",
     "text": [
      "C:\\Users\\Fremo211\\Anaconda3\\envs\\Tantalizing\\lib\\site-packages\\ase\\utils\\__init__.py:62: FutureWarning: Please use atoms.cell.rank instead\n",
      "  warnings.warn(warning)\n"
     ]
    },
    {
     "data": {
      "text/plain": [
       "-561.3493718715099"
      ]
     },
     "execution_count": 18,
     "metadata": {},
     "output_type": "execute_result"
    }
   ],
   "source": [
    "from ccs_fit.ase_calculator.ccs_ase_calculator import CCS\n",
    "import json\n",
    "\n",
    "with open(\"CCS_params.json\", 'r') as f:\n",
    "    CCS_params = json.load(f)\n",
    "    \n",
    "CCS_calc = CCS(CCS_params=CCS_params)    \n",
    "    \n",
    "sadd.calc = CCS_calc\n",
    "\n",
    "sadd.get_potential_energy()\n",
    "\n"
   ]
  },
  {
   "cell_type": "code",
   "execution_count": null,
   "id": "5b4b89f0-a940-4c7d-817b-c5a2c9788da1",
   "metadata": {},
   "outputs": [],
   "source": []
  }
 ],
 "metadata": {
  "kernelspec": {
   "display_name": "Tantalizing",
   "language": "python",
   "name": "tantalizing"
  },
  "language_info": {
   "codemirror_mode": {
    "name": "ipython",
    "version": 3
   },
   "file_extension": ".py",
   "mimetype": "text/x-python",
   "name": "python",
   "nbconvert_exporter": "python",
   "pygments_lexer": "ipython3",
   "version": "3.9.16"
  }
 },
 "nbformat": 4,
 "nbformat_minor": 5
}
