{
 "cells": [
  {
   "cell_type": "markdown",
   "id": "74f144dd",
   "metadata": {},
   "source": [
    "# A simple, yet complete, tutorial on how use the CCS_fit module to fit two-body interactions for solid Ne"
   ]
  },
  {
   "cell_type": "code",
   "execution_count": 3,
   "id": "d88f1c57-aa71-4a19-9b6b-e9ada91bb1e6",
   "metadata": {},
   "outputs": [],
   "source": [
    "# Load in the relevant packages\n",
    "\n",
    "from ase.io import read,write\n",
    "\n",
    "import numpy as np\n",
    "import ase.db as db\n",
    "from ase.visualize import view\n",
    "from ase.calculators.lj import LennardJones\n",
    "import matplotlib.pyplot as plt\n",
    "from ase.spacegroup import get_spacegroup\n",
    "import spglib\n",
    "\n",
    "#CIFS = [\"NiO_Supercell_1.POSCAR\", \"NiO_Supercell_2.POSCAR\", \"NiO_Supercell_3.POSCAR\", \"Ni2O3_Supercell_1.POSCAR\", \"Ni2O3_Supercell_2.POSCAR\", \"NiO2_Supercell_1.POSCAR\", \"NiO2_Supercell_2.POSCAR\"]\n",
    "CIFS = [\"Ni2O3.POSCAR\"]"
   ]
  },
  {
   "cell_type": "markdown",
   "id": "16cf8943-479f-4215-b40e-863f22c69e1e",
   "metadata": {},
   "source": [
    "### Generate training data\n",
    "Curvature Constrained Splines can be fitted to a reference data-set with energies (and optionally forces) of pre-calculated structures. In this example we generate the reference data-set using a Lennard-Jones potential. We use a LJ bulk structure that we randomly rattle and scale. \n"
   ]
  },
  {
   "cell_type": "code",
   "execution_count": 4,
   "id": "08462efc-3e68-413a-8f15-08d51af53223",
   "metadata": {},
   "outputs": [
    {
     "ename": "FileNotFoundError",
     "evalue": "[Errno 2] No such file or directory: 'Ni2O3.POSCAR'",
     "output_type": "error",
     "traceback": [
      "\u001b[1;31m---------------------------------------------------------------------------\u001b[0m",
      "\u001b[1;31mFileNotFoundError\u001b[0m                         Traceback (most recent call last)",
      "Cell \u001b[1;32mIn[4], line 2\u001b[0m\n\u001b[0;32m      1\u001b[0m \u001b[38;5;28;01mfor\u001b[39;00m CIF \u001b[38;5;129;01min\u001b[39;00m CIFS:\n\u001b[1;32m----> 2\u001b[0m     cif \u001b[38;5;241m=\u001b[39m \u001b[43mread\u001b[49m\u001b[43m(\u001b[49m\u001b[43mCIF\u001b[49m\u001b[43m)\u001b[49m\n\u001b[0;32m      4\u001b[0m     \u001b[38;5;28mprint\u001b[39m(cif\u001b[38;5;241m.\u001b[39mcell)\n\u001b[0;32m      6\u001b[0m     sg \u001b[38;5;241m=\u001b[39m get_spacegroup(cif)\n",
      "File \u001b[1;32m~\\anaconda3\\envs\\Tantalizing\\lib\\site-packages\\ase\\io\\formats.py:736\u001b[0m, in \u001b[0;36mread\u001b[1;34m(filename, index, format, parallel, do_not_split_by_at_sign, **kwargs)\u001b[0m\n\u001b[0;32m    733\u001b[0m     \u001b[38;5;28;01mreturn\u001b[39;00m \u001b[38;5;28mlist\u001b[39m(_iread(filename, index, \u001b[38;5;28mformat\u001b[39m, io, parallel\u001b[38;5;241m=\u001b[39mparallel,\n\u001b[0;32m    734\u001b[0m                        \u001b[38;5;241m*\u001b[39m\u001b[38;5;241m*\u001b[39mkwargs))\n\u001b[0;32m    735\u001b[0m \u001b[38;5;28;01melse\u001b[39;00m:\n\u001b[1;32m--> 736\u001b[0m     \u001b[38;5;28;01mreturn\u001b[39;00m \u001b[38;5;28;43mnext\u001b[39;49m\u001b[43m(\u001b[49m\u001b[43m_iread\u001b[49m\u001b[43m(\u001b[49m\u001b[43mfilename\u001b[49m\u001b[43m,\u001b[49m\u001b[43m \u001b[49m\u001b[38;5;28;43mslice\u001b[39;49m\u001b[43m(\u001b[49m\u001b[43mindex\u001b[49m\u001b[43m,\u001b[49m\u001b[43m \u001b[49m\u001b[38;5;28;43;01mNone\u001b[39;49;00m\u001b[43m)\u001b[49m\u001b[43m,\u001b[49m\u001b[43m \u001b[49m\u001b[38;5;28;43mformat\u001b[39;49m\u001b[43m,\u001b[49m\u001b[43m \u001b[49m\u001b[43mio\u001b[49m\u001b[43m,\u001b[49m\n\u001b[0;32m    737\u001b[0m \u001b[43m                       \u001b[49m\u001b[43mparallel\u001b[49m\u001b[38;5;241;43m=\u001b[39;49m\u001b[43mparallel\u001b[49m\u001b[43m,\u001b[49m\u001b[43m \u001b[49m\u001b[38;5;241;43m*\u001b[39;49m\u001b[38;5;241;43m*\u001b[39;49m\u001b[43mkwargs\u001b[49m\u001b[43m)\u001b[49m\u001b[43m)\u001b[49m\n",
      "File \u001b[1;32m~\\anaconda3\\envs\\Tantalizing\\lib\\site-packages\\ase\\parallel.py:275\u001b[0m, in \u001b[0;36mparallel_generator.<locals>.new_generator\u001b[1;34m(*args, **kwargs)\u001b[0m\n\u001b[0;32m    269\u001b[0m \u001b[38;5;129m@functools\u001b[39m\u001b[38;5;241m.\u001b[39mwraps(generator)\n\u001b[0;32m    270\u001b[0m \u001b[38;5;28;01mdef\u001b[39;00m \u001b[38;5;21mnew_generator\u001b[39m(\u001b[38;5;241m*\u001b[39margs, \u001b[38;5;241m*\u001b[39m\u001b[38;5;241m*\u001b[39mkwargs):\n\u001b[0;32m    271\u001b[0m     \u001b[38;5;28;01mif\u001b[39;00m (world\u001b[38;5;241m.\u001b[39msize \u001b[38;5;241m==\u001b[39m \u001b[38;5;241m1\u001b[39m \u001b[38;5;129;01mor\u001b[39;00m\n\u001b[0;32m    272\u001b[0m         args \u001b[38;5;129;01mand\u001b[39;00m \u001b[38;5;28mgetattr\u001b[39m(args[\u001b[38;5;241m0\u001b[39m], \u001b[38;5;124m'\u001b[39m\u001b[38;5;124mserial\u001b[39m\u001b[38;5;124m'\u001b[39m, \u001b[38;5;28;01mFalse\u001b[39;00m) \u001b[38;5;129;01mor\u001b[39;00m\n\u001b[0;32m    273\u001b[0m         \u001b[38;5;129;01mnot\u001b[39;00m kwargs\u001b[38;5;241m.\u001b[39mpop(\u001b[38;5;124m'\u001b[39m\u001b[38;5;124mparallel\u001b[39m\u001b[38;5;124m'\u001b[39m, \u001b[38;5;28;01mTrue\u001b[39;00m)):\n\u001b[0;32m    274\u001b[0m         \u001b[38;5;66;03m# Disable:\u001b[39;00m\n\u001b[1;32m--> 275\u001b[0m         \u001b[38;5;28;01mfor\u001b[39;00m result \u001b[38;5;129;01min\u001b[39;00m generator(\u001b[38;5;241m*\u001b[39margs, \u001b[38;5;241m*\u001b[39m\u001b[38;5;241m*\u001b[39mkwargs):\n\u001b[0;32m    276\u001b[0m             \u001b[38;5;28;01myield\u001b[39;00m result\n\u001b[0;32m    277\u001b[0m         \u001b[38;5;28;01mreturn\u001b[39;00m\n",
      "File \u001b[1;32m~\\anaconda3\\envs\\Tantalizing\\lib\\site-packages\\ase\\io\\formats.py:793\u001b[0m, in \u001b[0;36m_iread\u001b[1;34m(filename, index, format, io, parallel, full_output, **kwargs)\u001b[0m\n\u001b[0;32m    791\u001b[0m \u001b[38;5;28;01mif\u001b[39;00m io\u001b[38;5;241m.\u001b[39macceptsfd:\n\u001b[0;32m    792\u001b[0m     mode \u001b[38;5;241m=\u001b[39m \u001b[38;5;124m'\u001b[39m\u001b[38;5;124mrb\u001b[39m\u001b[38;5;124m'\u001b[39m \u001b[38;5;28;01mif\u001b[39;00m io\u001b[38;5;241m.\u001b[39misbinary \u001b[38;5;28;01melse\u001b[39;00m \u001b[38;5;124m'\u001b[39m\u001b[38;5;124mr\u001b[39m\u001b[38;5;124m'\u001b[39m\n\u001b[1;32m--> 793\u001b[0m     fd \u001b[38;5;241m=\u001b[39m \u001b[43mopen_with_compression\u001b[49m\u001b[43m(\u001b[49m\u001b[43mfilename\u001b[49m\u001b[43m,\u001b[49m\u001b[43m \u001b[49m\u001b[43mmode\u001b[49m\u001b[43m)\u001b[49m\n\u001b[0;32m    794\u001b[0m     must_close_fd \u001b[38;5;241m=\u001b[39m \u001b[38;5;28;01mTrue\u001b[39;00m\n\u001b[0;32m    795\u001b[0m \u001b[38;5;28;01melse\u001b[39;00m:\n",
      "File \u001b[1;32m~\\anaconda3\\envs\\Tantalizing\\lib\\site-packages\\ase\\io\\formats.py:551\u001b[0m, in \u001b[0;36mopen_with_compression\u001b[1;34m(filename, mode)\u001b[0m\n\u001b[0;32m    548\u001b[0m     \u001b[38;5;28;01mreturn\u001b[39;00m lzma\u001b[38;5;241m.\u001b[39mopen(filename, mode)\n\u001b[0;32m    549\u001b[0m \u001b[38;5;28;01melse\u001b[39;00m:\n\u001b[0;32m    550\u001b[0m     \u001b[38;5;66;03m# Either None or unknown string\u001b[39;00m\n\u001b[1;32m--> 551\u001b[0m     \u001b[38;5;28;01mreturn\u001b[39;00m \u001b[38;5;28;43mopen\u001b[39;49m\u001b[43m(\u001b[49m\u001b[43mfilename\u001b[49m\u001b[43m,\u001b[49m\u001b[43m \u001b[49m\u001b[43mmode\u001b[49m\u001b[43m)\u001b[49m\n",
      "\u001b[1;31mFileNotFoundError\u001b[0m: [Errno 2] No such file or directory: 'Ni2O3.POSCAR'"
     ]
    }
   ],
   "source": [
    "for CIF in CIFS:\n",
    "    cif = read(CIF)\n",
    "\n",
    "    print(cif.cell)\n",
    "    \n",
    "    sg = get_spacegroup(cif)\n",
    "    sg_name = sg.symbol.replace(' ','').replace('/','_')\n",
    "\n",
    "    orig_struc = cif.copy()\n",
    "\n",
    "    displacement_magnitude=0.02\n",
    "    disp_steps=6\n",
    "    rounds=2\n",
    "    counter=0\n",
    "\n",
    "    new_name_base = \"RATTLED_STRUCTURES2/\" + CIF.split(\"_\")[0] + \"_\" + sg_name\n",
    "\n",
    "    write(new_name_base + \"_pris.POSCAR\", cif)\n",
    "    for scale in np.linspace(0.95, 1.05, 5):\n",
    "        for round in range(rounds):\n",
    "            new_cell = orig_struc.get_cell()*scale\n",
    "            new_struc = orig_struc.copy()\n",
    "            new_struc.set_cell(new_cell)\n",
    "            for i in range(disp_steps):\n",
    "                rattle_struc = new_struc.copy()\n",
    "                rattle_struc.rattle(displacement_magnitude*(i+1), seed=counter)\n",
    "                \n",
    "                POS_file = new_name_base + \"_scale_\" + \"{:.3f}\".format(scale).replace(\".\",\"_\") + \"_disp_\" + \"{:.2f}\".format((i+1)*displacement_magnitude).replace(\".\",\"_\") + \"_round_\" + str(round + 1) + \".POSCAR\"\n",
    "                write(POS_file, rattle_struc)\n",
    "                counter += 1"
   ]
  },
  {
   "cell_type": "code",
   "execution_count": null,
   "id": "3061f620-ed1a-45d9-92c6-b701b58bb49b",
   "metadata": {},
   "outputs": [],
   "source": []
  }
 ],
 "metadata": {
  "kernelspec": {
   "display_name": "Tantalizing",
   "language": "python",
   "name": "tantalizing"
  },
  "language_info": {
   "codemirror_mode": {
    "name": "ipython",
    "version": 3
   },
   "file_extension": ".py",
   "mimetype": "text/x-python",
   "name": "python",
   "nbconvert_exporter": "python",
   "pygments_lexer": "ipython3",
   "version": "3.9.16"
  },
  "vscode": {
   "interpreter": {
    "hash": "f9cf24ff20edf0aae28141210fc773ab63efd2a56eb4d7d08651373a5d8a7dcd"
   }
  }
 },
 "nbformat": 4,
 "nbformat_minor": 5
}
