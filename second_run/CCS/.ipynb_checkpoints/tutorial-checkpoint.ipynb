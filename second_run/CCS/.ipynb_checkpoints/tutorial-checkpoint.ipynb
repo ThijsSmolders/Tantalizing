{
 "cells": [
  {
   "cell_type": "markdown",
   "id": "74f144dd",
   "metadata": {},
   "source": [
    "# Building Frederike's second force field"
   ]
  },
  {
   "cell_type": "code",
   "execution_count": 3,
   "id": "d88f1c57-aa71-4a19-9b6b-e9ada91bb1e6",
   "metadata": {},
   "outputs": [],
   "source": [
    "import matplotlib.pyplot as plt\n",
    "\n",
    "from ase.io import read,write\n",
    "from ase.build import bulk\n",
    "import numpy as np\n",
    "import ase.db as db\n",
    "from ase.visualize import view\n",
    "from ase.optimize import BFGS\n",
    "Fit_on_forces=True"
   ]
  },
  {
   "cell_type": "markdown",
   "id": "16cf8943-479f-4215-b40e-863f22c69e1e",
   "metadata": {},
   "source": [
    "### Generate training data\n",
    "Curvature Constrained Splines can be fitted to a reference data-set with energies (and optionally forces) of pre-calculated structures. In this example we generate the reference data-set using a Lennard-Jones potential. We use a LJ bulk structure that we randomly rattle and scale. \n"
   ]
  },
  {
   "cell_type": "markdown",
   "id": "34765459-6e0a-455e-81f2-333dd7ec88a8",
   "metadata": {},
   "source": [
    "for i in {1..19}; do (mkdir \"outcar${i}\"; mv \"outcar${i}.txt\" \"outcar${i}/OUTCAR\"); done\n",
    "for i in {1..19}; do (echo \"outcar/outcar${i}\" >> data_list.txt); done\n",
    "for f in $(ls OUTCARS/); do echo \"OUTCARS/$f\" >> data_list.txt; done"
   ]
  },
  {
   "cell_type": "code",
   "execution_count": 22,
   "id": "387f54e1-dac6-4fc1-a0a9-b9ba8c045ec0",
   "metadata": {},
   "outputs": [
    {
     "name": "stderr",
     "output_type": "stream",
     "text": [
      "    Building data-bases: 100%|███████████████████████████████████████████████████████████████| 78/78 [00:05<00:00, 14.57it/s]\n"
     ]
    }
   ],
   "source": [
    "from ccs_fit.scripts.ccs_build_db import ccs_build_db\n",
    "\n",
    "ccs_build_db(mode=\"CCS\",DFT_DB=\"DFT.db\",file_list=\"data_list.txt\",overwrite=True, greedy=True)"
   ]
  },
  {
   "cell_type": "markdown",
   "id": "bdb9cdef",
   "metadata": {},
   "source": [
    "### Generate the CCS_fit input file; structures.json\n",
    "The next commands fetch the training-set data from the ASE database containing the LJ structures and the corresponding energies. The reference data is called ``DFT_DB`` since the most common source of reference data is DFT."
   ]
  },
  {
   "cell_type": "code",
   "execution_count": 21,
   "id": "01508dd9-a761-4197-a132-114a87c0bc8b",
   "metadata": {},
   "outputs": [
    {
     "name": "stdout",
     "output_type": "stream",
     "text": [
      "id|age|user    |formula    |calculator|  energy|natoms| fmax|pbc| volume|charge|    mass| smax|magmom\n",
      " 1|13m|thism292|Li13Ni27O54|vasp      |-574.107|    94|0.018|TTT|868.408| 0.000|2538.888|0.001| 9.359\n",
      " 2|13m|thism292|Li17Ni27O54|vasp      |-595.854|    98|0.018|TTT|884.767| 0.000|2566.648|0.001|17.010\n",
      " 3|13m|thism292|Li20Ni27O54|vasp      |-611.175|   101|0.013|TTT|888.860| 0.000|2587.468|0.001|20.000\n",
      " 4|13m|thism292|Li4Ni27O54 |vasp      |-528.892|    85|0.011|TTT|856.196| 0.000|2476.428|0.000| 3.992\n",
      " 5|13m|thism292|Li7Ni27O54 |vasp      |-545.210|    88|0.015|TTT|863.845| 0.000|2497.248|0.000| 4.935\n",
      " 6|13m|thism292|Li18Ni27O54|vasp      |-601.983|    99|0.019|TTT|884.190| 0.000|2573.588|0.001|18.004\n",
      " 7|13m|thism292|Li20Ni27O54|vasp      |-611.432|   101|0.014|TTT|887.953| 0.000|2587.468|0.000|19.985\n",
      " 8|13m|thism292|Li16Ni27O54|vasp      |-591.886|    97|0.020|TTT|886.356| 0.000|2559.708|0.000|16.000\n",
      " 9|13m|thism292|Li15Ni27O54|vasp      |-586.868|    96|0.019|TTT|887.602| 0.000|2552.768|0.000|15.000\n",
      "10|13m|thism292|Li8Ni27O54 |vasp      |-550.365|    89|0.019|TTT|868.568| 0.000|2504.188|0.000| 3.994\n",
      "11|13m|thism292|Li27Ni27O54|vasp      |-644.165|   108|0.018|TTT|896.047| 0.000|2636.048|0.002|26.990\n",
      "12|13m|thism292|Li10Ni27O54|vasp      |-561.355|    91|0.020|TTT|879.434| 0.000|2518.068|0.000| 9.966\n",
      "13|13m|thism292|Li17Ni27O54|vasp      |-596.928|    98|0.018|TTT|885.389| 0.000|2566.648|0.000|17.000\n",
      "14|13m|thism292|Li4Ni27O54 |vasp      |-528.991|    85|0.017|TTT|854.294| 0.000|2476.428|0.000| 3.969\n",
      "15|13m|thism292|LiNi27O54  |vasp      |-512.533|    82|0.019|TTT|841.249| 0.000|2455.608|0.001| 0.874\n",
      "16|13m|thism292|Li24Ni27O54|vasp      |-630.232|   105|0.011|TTT|893.247| 0.000|2615.228|0.000|24.002\n",
      "17|13m|thism292|Li5Ni27O54 |vasp      |-534.468|    86|0.017|TTT|856.667| 0.000|2483.368|0.001| 4.905\n",
      "18|13m|thism292|Li23Ni27O54|vasp      |-625.519|   104|0.016|TTT|892.287| 0.000|2608.288|0.001|22.998\n",
      "19|13m|thism292|Li6Ni27O54 |vasp      |-539.982|    87|0.015|TTT|860.575| 0.000|2490.308|0.000| 5.838\n",
      "20|13m|thism292|Li19Ni27O54|vasp      |-606.705|   100|0.017|TTT|886.851| 0.000|2580.528|0.000|19.007\n",
      "Rows: 78 (showing first 20)\n",
      "Keys: PBE, key\n"
     ]
    }
   ],
   "source": [
    "!ase db DFT.db"
   ]
  },
  {
   "cell_type": "code",
   "execution_count": 4,
   "id": "e096b5f0",
   "metadata": {},
   "outputs": [
    {
     "name": "stderr",
     "output_type": "stream",
     "text": [
      "    Fetching data: 100%|\u001b[38;2;0;128;128m█████████████████████████████████████████████████████████████████████\u001b[0m| 78/78 [00:01<00:00, 59.47it/s]\u001b[0m\n"
     ]
    }
   ],
   "source": [
    "from ccs_fit.scripts.ccs_fetch import ccs_fetch\n",
    "\n",
    "ccs_fetch(mode=\"CCS\",DFT_DB=\"DFT.db\",include_forces=Fit_on_forces)"
   ]
  },
  {
   "cell_type": "markdown",
   "id": "59be3faa",
   "metadata": {},
   "source": [
    "### Fit training data to Curvature Constrained Splines\n",
    "Finally, the splines are fitted to the target defined in the structures.json input file. The splines can be restricted to be fully repulsive (\"rep\"), or have a turning point/switch (\"sw\"), which is defined by the \"Swtype\" key.\n"
   ]
  },
  {
   "cell_type": "code",
   "execution_count": 29,
   "id": "8c3ac0c1",
   "metadata": {},
   "outputs": [],
   "source": [
    "### Generate input.json file\n",
    "import json\n",
    "\n",
    "input={\n",
    "    \"General\": {\n",
    "        \"interface\": \"CCS\",\n",
    "        \"merging\"  : \"True\"\n",
    "    },\n",
    "    \"Twobody\": {\n",
    "                \"Xx-Xx\": {\n",
    "                        \"Rcut\": 6.0,\n",
    "                        \"Resolution\": 0.25,\n",
    "                        \"Swtype\": \"sw\",\n",
    "                        \"const_type\" : \"Mono\"\n",
    "                },\n",
    "                \"O-O\": {\n",
    "                        \"Rcut\": 6.0,\n",
    "                        \"Resolution\": 0.25,\n",
    "                        \"Swtype\": \"rep\",\n",
    "                        \"const_type\" : \"Mono\"\n",
    "                },\n",
    "                \"Ni-Ni\": {\n",
    "                        \"Rcut\": 6.0,\n",
    "                        \"Resolution\": 0.25,\n",
    "                        \"Swtype\": \"rep\",\n",
    "                        \"const_type\" : \"Mono\"\n",
    "                },\n",
    "                \"Li-Li\": {\n",
    "                        \"Rcut\": 6.0,\n",
    "                        \"Resolution\": 0.25,\n",
    "                        \"Swtype\": \"rep\",\n",
    "                        \"const_type\" : \"Mono\"\n",
    "                }\n",
    "        }\n",
    "}\n",
    "#SAVE TO FILE\n",
    "with open('CCS_input.json', 'w') as f:\n",
    "    json.dump(input, f, indent=8)"
   ]
  },
  {
   "cell_type": "code",
   "execution_count": 30,
   "id": "df1f9f0f",
   "metadata": {},
   "outputs": [
    {
     "name": "stdout",
     "output_type": "stream",
     "text": [
      "    Generating one-body information from training-set.\n",
      "        Added elements:  ['Li', 'Ni', 'O']\n",
      "    Generating two-body potentials from one-body information.\n",
      "    Adding pair: Li-Ni\n",
      "    Adding pair: Li-O\n",
      "    Adding pair: Ni-O\n",
      "    Applying monotonous constraints for pair:  O-O\n",
      "    Applying monotonous constraints for pair:  Ni-Ni\n",
      "    Applying monotonous constraints for pair:  Li-Li\n",
      "    Applying monotonous constraints for pair:  Li-Ni\n",
      "    Applying monotonous constraints for pair:  Li-O\n",
      "    Applying monotonous constraints for pair:  Ni-O\n",
      "    Merging interval for pair Ni-Ni. Number of knots reduced from 15 to 9. \n",
      "    Merging interval for pair Li-Li. Number of knots reduced from 15 to 12. \n",
      "    Merging interval for pair Li-Ni. Number of knots reduced from 12 to 10. \n",
      "    Merging interval for pair Li-O. Number of knots reduced from 18 to 13. \n",
      "    Merging interval for pair Ni-O. Number of knots reduced from 19 to 12. \n",
      "    There is linear dependence in stochiometry matrix!\n",
      "    Removing onebody term: O\n"
     ]
    },
    {
     "name": "stderr",
     "output_type": "stream",
     "text": [
      "    Finding optimum switch: 100%|\u001b[38;2;128;0;128m███████████████████████████████████████████████████████\u001b[0m| 1560/1560 [00:15<00:00, 100.14it/s]\u001b[0m\n"
     ]
    },
    {
     "name": "stdout",
     "output_type": "stream",
     "text": [
      "    The best switch is (16, 9, 12, 2, 2, 2) with mse: 0.027812, corresponding to distances of [6.3  4.87 5.55 3.09 2.32 2.22] Å for element pairs ['O-O', 'Ni-Ni', 'Li-Li', 'Li-Ni', 'Li-O', 'Ni-O'].\n",
      "    Final root mean square error in energy:  0.0008998329249776415  (eV/atoms) [NOTE: Only elements specified in Onebody are considered in atom count!]\n"
     ]
    }
   ],
   "source": [
    "#RUN FIT\n",
    "from ccs_fit import ccs_fit\n",
    "\n",
    "ccs_fit(\"CCS_input.json\")"
   ]
  },
  {
   "cell_type": "markdown",
   "id": "3d1f3117-cc0b-4a64-b62f-9ca57a3f0579",
   "metadata": {},
   "source": [
    "### 2nd iteration of fitting"
   ]
  },
  {
   "cell_type": "code",
   "execution_count": 31,
   "id": "dc7a2966-0d9b-40ab-90d4-cf155c134381",
   "metadata": {},
   "outputs": [],
   "source": [
    "### Generate input.json file\n",
    "import json\n",
    "\n",
    "input={\n",
    "    \"General\": {\n",
    "        \"interface\": \"CCS\",\n",
    "        \"merging\"  : \"True\"\n",
    "    },\n",
    "    \"Twobody\": {\n",
    "                \"Li-Ni\": {\n",
    "                        \"Rcut\": 6.0,\n",
    "                        \"Resolution\": 0.1,\n",
    "                        \"Swtype\": \"sw\",\n",
    "                        \"const_type\" : \"Mono\",\n",
    "                        \"search_mode\": \"range\",\n",
    "                        \"range_center\": 3.09,\n",
    "                        \"range_width\": 1.0 # Å\n",
    "                },\n",
    "                \"Li-O\": {\n",
    "                        \"Rcut\": 6.0,\n",
    "                        \"Resolution\": 0.1,\n",
    "                        \"Swtype\": \"sw\",\n",
    "                        \"const_type\" : \"Mono\",\n",
    "                        \"search_mode\": \"range\",\n",
    "                        \"range_center\": 2.32,\n",
    "                        \"range_width\": 1.0 # Å\n",
    "                },\n",
    "                \"Ni-O\": {\n",
    "                        \"Rcut\": 6.0,\n",
    "                        \"Resolution\": 0.1,\n",
    "                        \"Swtype\": \"sw\",\n",
    "                        \"const_type\" : \"Mono\",\n",
    "                        \"search_mode\": \"range\",\n",
    "                        \"range_center\": 2.22,\n",
    "                        \"range_width\": 1.0 # Å\n",
    "                },\n",
    "                \"O-O\": {\n",
    "                        \"Rcut\": 6.0,\n",
    "                        \"Resolution\": 0.1,\n",
    "                        \"Swtype\": \"rep\",\n",
    "                        \"const_type\" : \"Mono\"\n",
    "                },\n",
    "                \"Ni-Ni\": {\n",
    "                        \"Rcut\": 6.0,\n",
    "                        \"Resolution\": 0.1,\n",
    "                        \"Swtype\": \"rep\",\n",
    "                        \"const_type\" : \"Mono\"\n",
    "                },\n",
    "                \"Li-Li\": {\n",
    "                        \"Rcut\": 6.0,\n",
    "                        \"Resolution\": 0.1,\n",
    "                        \"Swtype\": \"rep\",\n",
    "                        \"const_type\" : \"Mono\"\n",
    "                }\n",
    "        }\n",
    "}\n",
    "#SAVE TO FILE\n",
    "with open('CCS_input.json', 'w') as f:\n",
    "    json.dump(input, f, indent=8)"
   ]
  },
  {
   "cell_type": "code",
   "execution_count": 32,
   "id": "73c38d09-fa8b-4445-a742-a00cea4069cc",
   "metadata": {},
   "outputs": [
    {
     "name": "stdout",
     "output_type": "stream",
     "text": [
      "    Generating one-body information from training-set.\n",
      "        Added elements:  ['Li', 'Ni', 'O']\n",
      "    Applying monotonous constraints for pair:  Li-Ni\n",
      "    Applying monotonous constraints for pair:  Li-O\n",
      "    Applying monotonous constraints for pair:  Ni-O\n",
      "    Applying monotonous constraints for pair:  O-O\n",
      "    Applying monotonous constraints for pair:  Ni-Ni\n",
      "    Applying monotonous constraints for pair:  Li-Li\n",
      "    Merging interval for pair Li-Ni. Number of knots reduced from 27 to 18. \n",
      "    Merging interval for pair Li-O. Number of knots reduced from 43 to 26. \n",
      "    Merging interval for pair Ni-O. Number of knots reduced from 44 to 25. \n",
      "    Merging interval for pair O-O. Number of knots reduced from 37 to 34. \n",
      "    Merging interval for pair Ni-Ni. Number of knots reduced from 33 to 14. \n",
      "    Merging interval for pair Li-Li. Number of knots reduced from 35 to 24. \n",
      "    There is linear dependence in stochiometry matrix!\n",
      "    Removing onebody term: O\n",
      "    Range search turned on for element pair Li-Ni; 6 possible switch indices in range of 2.67-4.07 Å.\n",
      "    Range search turned on for element pair Li-O; 6 possible switch indices in range of 1.89-3.29 Å.\n",
      "    Range search turned on for element pair Ni-O; 4 possible switch indices in range of 1.79-3.19 Å.\n"
     ]
    },
    {
     "name": "stderr",
     "output_type": "stream",
     "text": [
      "    Finding optimum switch: 100%|\u001b[38;2;128;0;128m██████████████████████████████████████████████████████████\u001b[0m| 144/144 [00:02<00:00, 48.69it/s]\u001b[0m\n"
     ]
    },
    {
     "name": "stdout",
     "output_type": "stream",
     "text": [
      "    The best switch is (4, 4, 1, 34, 14, 24) with mse: 0.026558, corresponding to distances of [3.07 2.29 1.89 5.78 4.1  5.02] Å for element pairs ['Li-Ni', 'Li-O', 'Ni-O', 'O-O', 'Ni-Ni', 'Li-Li'].\n",
      "    Final root mean square error in energy:  0.0008902243935310905  (eV/atoms) [NOTE: Only elements specified in Onebody are considered in atom count!]\n"
     ]
    }
   ],
   "source": [
    "#RUN FIT\n",
    "from ccs_fit import ccs_fit\n",
    "\n",
    "ccs_fit(\"CCS_input.json\")"
   ]
  },
  {
   "cell_type": "markdown",
   "id": "070aa199-48b3-4dea-9cea-edcbd87e8aeb",
   "metadata": {},
   "source": [
    "### 3rd iteration"
   ]
  },
  {
   "cell_type": "code",
   "execution_count": 33,
   "id": "c8f862e0-632c-4c92-b909-4c73a9577c9f",
   "metadata": {},
   "outputs": [],
   "source": [
    "### Generate input.json file\n",
    "import json\n",
    "\n",
    "input={\n",
    "    \"General\": {\n",
    "        \"interface\": \"CCS\",\n",
    "        \"merging\"  : \"True\"\n",
    "    },\n",
    "    \"Twobody\": {\n",
    "                \"Li-Ni\": {\n",
    "                        \"Rcut\": 6.0,\n",
    "                        \"Resolution\": 0.02,\n",
    "                        \"Swtype\": \"sw\",\n",
    "                        \"const_type\" : \"Mono\",\n",
    "                        \"search_mode\": \"range\",\n",
    "                        \"range_center\": 3.07,\n",
    "                        \"range_width\": 0.2 # Å\n",
    "                },\n",
    "                \"Li-O\": {\n",
    "                        \"Rcut\": 6.0,\n",
    "                        \"Resolution\": 0.02,\n",
    "                        \"Swtype\": \"sw\",\n",
    "                        \"const_type\" : \"Mono\",\n",
    "                        \"search_mode\": \"range\",\n",
    "                        \"range_center\": 2.29,\n",
    "                        \"range_width\": 0.2 # Å\n",
    "                },\n",
    "                \"Ni-O\": {\n",
    "                        \"Rcut\": 6.0,\n",
    "                        \"Resolution\": 0.02,\n",
    "                        \"Swtype\": \"sw\",\n",
    "                        \"const_type\" : \"Mono\",\n",
    "                        \"search_mode\": \"range\",\n",
    "                        \"range_center\": 1.89,\n",
    "                        \"range_width\": 0.4 # Å\n",
    "                },\n",
    "                \"O-O\": {\n",
    "                        \"Rcut\": 6.0,\n",
    "                        \"Resolution\": 0.1,\n",
    "                        \"Swtype\": \"rep\",\n",
    "                        \"const_type\" : \"Mono\"\n",
    "                },\n",
    "                \"Ni-Ni\": {\n",
    "                        \"Rcut\": 6.0,\n",
    "                        \"Resolution\": 0.1,\n",
    "                        \"Swtype\": \"rep\",\n",
    "                        \"const_type\" : \"Mono\"\n",
    "                },\n",
    "                \"Li-Li\": {\n",
    "                        \"Rcut\": 6.0,\n",
    "                        \"Resolution\": 0.1,\n",
    "                        \"Swtype\": \"rep\",\n",
    "                        \"const_type\" : \"Mono\"\n",
    "                }\n",
    "        }\n",
    "}\n",
    "#SAVE TO FILE\n",
    "with open('CCS_input.json', 'w') as f:\n",
    "    json.dump(input, f, indent=8)"
   ]
  },
  {
   "cell_type": "code",
   "execution_count": 34,
   "id": "1cf6302c-ed82-45d0-b4d0-3e3de9391e8a",
   "metadata": {},
   "outputs": [
    {
     "name": "stdout",
     "output_type": "stream",
     "text": [
      "    Generating one-body information from training-set.\n",
      "        Added elements:  ['Li', 'Ni', 'O']\n",
      "    Applying monotonous constraints for pair:  Li-Ni\n",
      "    Applying monotonous constraints for pair:  Li-O\n",
      "    Applying monotonous constraints for pair:  Ni-O\n",
      "    Applying monotonous constraints for pair:  O-O\n",
      "    Applying monotonous constraints for pair:  Ni-Ni\n",
      "    Applying monotonous constraints for pair:  Li-Li\n",
      "    Merging interval for pair Li-Ni. Number of knots reduced from 125 to 73. \n",
      "    Merging interval for pair Li-O. Number of knots reduced from 205 to 104. \n",
      "    Merging interval for pair Ni-O. Number of knots reduced from 210 to 94. \n",
      "    Merging interval for pair O-O. Number of knots reduced from 37 to 34. \n",
      "    Merging interval for pair Ni-Ni. Number of knots reduced from 33 to 14. \n",
      "    Merging interval for pair Li-Li. Number of knots reduced from 35 to 24. \n",
      "    There is linear dependence in stochiometry matrix!\n",
      "    Removing onebody term: O\n",
      "    Range search turned on for element pair Li-Ni; 7 possible switch indices in range of 2.87-3.27 Å.\n",
      "    Range search turned on for element pair Li-O; 9 possible switch indices in range of 2.07-2.47 Å.\n",
      "    Range search turned on for element pair Ni-O; 12 possible switch indices in range of 1.83-2.27 Å.\n"
     ]
    },
    {
     "name": "stderr",
     "output_type": "stream",
     "text": [
      "    Finding optimum switch: 100%|\u001b[38;2;128;0;128m██████████████████████████████████████████████████████████\u001b[0m| 756/756 [00:38<00:00, 19.64it/s]\u001b[0m\n"
     ]
    },
    {
     "name": "stdout",
     "output_type": "stream",
     "text": [
      "    The best switch is (18, 20, 4, 34, 14, 24) with mse: 0.025823, corresponding to distances of [3.07 2.33 1.91 5.78 4.1  5.02] Å for element pairs ['Li-Ni', 'Li-O', 'Ni-O', 'O-O', 'Ni-Ni', 'Li-Li'].\n",
      "    Final root mean square error in energy:  0.0008728911662810492  (eV/atoms) [NOTE: Only elements specified in Onebody are considered in atom count!]\n"
     ]
    }
   ],
   "source": [
    "#RUN FIT\n",
    "from ccs_fit import ccs_fit\n",
    "\n",
    "ccs_fit(\"CCS_input.json\")"
   ]
  },
  {
   "cell_type": "markdown",
   "id": "6039cf2d-7f98-4269-9ec8-01aba14b886d",
   "metadata": {},
   "source": [
    "### 4th iteration"
   ]
  },
  {
   "cell_type": "code",
   "execution_count": 35,
   "id": "18c63ed6-4f04-4d17-aacf-061e28096054",
   "metadata": {},
   "outputs": [],
   "source": [
    "### Generate input.json file\n",
    "import json\n",
    "\n",
    "input={\n",
    "    \"General\": {\n",
    "        \"interface\": \"CCS\",\n",
    "        \"merging\"  : \"True\"\n",
    "    },\n",
    "    \"Twobody\": {\n",
    "                \"Li-Ni\": {\n",
    "                        \"Rcut\": 6.0,\n",
    "                        \"Resolution\": 0.02,\n",
    "                        \"Swtype\": \"sw\",\n",
    "                        \"const_type\" : \"Mono\",\n",
    "                        \"search_mode\": \"point\",\n",
    "                        \"search_points\": [3.07]\n",
    "                },\n",
    "                \"Li-O\": {\n",
    "                        \"Rcut\": 6.0,\n",
    "                        \"Resolution\": 0.02,\n",
    "                        \"Swtype\": \"sw\",\n",
    "                        \"const_type\" : \"Mono\",\n",
    "                        \"search_mode\": \"point\",\n",
    "                        \"search_points\": [2.33]\n",
    "                },\n",
    "                \"Ni-O\": {\n",
    "                        \"Rcut\": 6.0,\n",
    "                        \"Resolution\": 0.02,\n",
    "                        \"Swtype\": \"sw\",\n",
    "                        \"const_type\" : \"Mono\",\n",
    "                        \"search_mode\": \"point\",\n",
    "                        \"search_points\": [1.91]\n",
    "                },\n",
    "                \"O-O\": {\n",
    "                        \"Rcut\": 6.0,\n",
    "                        \"Resolution\": 0.2,\n",
    "                        \"Swtype\": \"sw\",\n",
    "                        \"const_type\" : \"Mono\"\n",
    "                },\n",
    "                \"Ni-Ni\": {\n",
    "                        \"Rcut\": 6.0,\n",
    "                        \"Resolution\": 0.2,\n",
    "                        \"Swtype\": \"sw\",\n",
    "                        \"const_type\" : \"Mono\"\n",
    "                },\n",
    "                \"Li-Li\": {\n",
    "                        \"Rcut\": 6.0,\n",
    "                        \"Resolution\": 0.2,\n",
    "                        \"Swtype\": \"sw\",\n",
    "                        \"const_type\" : \"Mono\"\n",
    "                }\n",
    "        }\n",
    "}\n",
    "#SAVE TO FILE\n",
    "with open('CCS_input.json', 'w') as f:\n",
    "    json.dump(input, f, indent=8)"
   ]
  },
  {
   "cell_type": "code",
   "execution_count": 36,
   "id": "0a4bd642-d135-4e64-ada2-06bad2d37d69",
   "metadata": {},
   "outputs": [
    {
     "name": "stdout",
     "output_type": "stream",
     "text": [
      "    Generating one-body information from training-set.\n",
      "        Added elements:  ['Li', 'Ni', 'O']\n",
      "    Applying monotonous constraints for pair:  Li-Ni\n",
      "    Applying monotonous constraints for pair:  Li-O\n",
      "    Applying monotonous constraints for pair:  Ni-O\n",
      "    Applying monotonous constraints for pair:  O-O\n",
      "    Applying monotonous constraints for pair:  Ni-Ni\n",
      "    Applying monotonous constraints for pair:  Li-Li\n",
      "    Merging interval for pair Li-Ni. Number of knots reduced from 125 to 73. \n",
      "    Merging interval for pair Li-O. Number of knots reduced from 205 to 104. \n",
      "    Merging interval for pair Ni-O. Number of knots reduced from 210 to 94. \n",
      "    Merging interval for pair Ni-Ni. Number of knots reduced from 18 to 9. \n",
      "    Merging interval for pair Li-Li. Number of knots reduced from 19 to 14. \n",
      "    There is linear dependence in stochiometry matrix!\n",
      "    Removing onebody term: O\n",
      "    Switch points located at [3.09] Å to for element pair Li-Ni based on point search.\n",
      "    Switch points located at [2.33] Å to for element pair Li-O based on point search.\n",
      "    Switch points located at [1.91] Å to for element pair Ni-O based on point search.\n"
     ]
    },
    {
     "name": "stderr",
     "output_type": "stream",
     "text": [
      "    Finding optimum switch: 100%|\u001b[38;2;128;0;128m████████████████████████████████████████████████████████\u001b[0m| 2520/2520 [02:22<00:00, 17.68it/s]\u001b[0m\n"
     ]
    },
    {
     "name": "stdout",
     "output_type": "stream",
     "text": [
      "    The best switch is (19, 20, 4, 2, 2, 12) with mse: 0.025551, corresponding to distances of [3.09 2.33 1.91 2.73 3.05 4.97] Å for element pairs ['Li-Ni', 'Li-O', 'Ni-O', 'O-O', 'Ni-Ni', 'Li-Li'].\n",
      "    Final root mean square error in energy:  0.0008266044938723393  (eV/atoms) [NOTE: Only elements specified in Onebody are considered in atom count!]\n"
     ]
    }
   ],
   "source": [
    "#RUN FIT\n",
    "from ccs_fit import ccs_fit\n",
    "\n",
    "ccs_fit(\"CCS_input.json\")"
   ]
  },
  {
   "cell_type": "markdown",
   "id": "7ced5386-0fd3-46c5-93f4-c2e7ea8022bc",
   "metadata": {},
   "source": [
    "### 6th iteration"
   ]
  },
  {
   "cell_type": "code",
   "execution_count": 39,
   "id": "36751abe-df70-4358-ad66-bbf2bfc03fd8",
   "metadata": {},
   "outputs": [],
   "source": [
    "### Generate input.json file\n",
    "import json\n",
    "\n",
    "input={\n",
    "    \"General\": {\n",
    "        \"interface\": \"CCS\",\n",
    "        \"merging\"  : \"True\"\n",
    "    },\n",
    "    \"Twobody\": {\n",
    "                \"Li-Ni\": {\n",
    "                        \"Rcut\": 6.0,\n",
    "                        \"Resolution\": 0.1,\n",
    "                        \"Swtype\": \"sw\",\n",
    "                        \"const_type\" : \"Mono\",\n",
    "                        \"search_mode\": \"range\",\n",
    "                        \"range_center\": 3.09,\n",
    "                        \"range_width\": 0.5\n",
    "                },\n",
    "                \"Li-O\": {\n",
    "                        \"Rcut\": 6.0,\n",
    "                        \"Resolution\": 0.1,\n",
    "                        \"Swtype\": \"sw\",\n",
    "                        \"const_type\" : \"Mono\",\n",
    "                        \"search_mode\": \"range\",\n",
    "                        \"range_center\": 2.33,\n",
    "                        \"range_width\": 0.5\n",
    "                },\n",
    "                \"Ni-O\": {\n",
    "                        \"Rcut\": 6.0,\n",
    "                        \"Resolution\": 0.1,\n",
    "                        \"Swtype\": \"sw\",\n",
    "                        \"const_type\" : \"Mono\",\n",
    "                        \"search_mode\": \"range\",\n",
    "                        \"range_center\": 1.91,\n",
    "                        \"range_width\": 0.5\n",
    "                },\n",
    "                \"O-O\": {\n",
    "                        \"Rcut\": 6.0,\n",
    "                        \"Resolution\": 0.1,\n",
    "                        \"Swtype\": \"sw\",\n",
    "                        \"const_type\" : \"Mono\",\n",
    "                        \"search_mode\": \"range\",\n",
    "                        \"range_center\": 2.73,\n",
    "                        \"range_width\": 0.5\n",
    "                },\n",
    "                \"Ni-Ni\": {\n",
    "                        \"Rcut\": 6.0,\n",
    "                        \"Resolution\": 0.1,\n",
    "                        \"Swtype\": \"sw\",\n",
    "                        \"const_type\" : \"Mono\",\n",
    "                        \"search_mode\": \"range\",\n",
    "                        \"range_center\": 3.05,\n",
    "                        \"range_width\": 0.5\n",
    "                },\n",
    "                \"Li-Li\": {\n",
    "                        \"Rcut\": 6.0,\n",
    "                        \"Resolution\": 0.1,\n",
    "                        \"Swtype\": \"sw\",\n",
    "                        \"const_type\" : \"Mono\",\n",
    "                        \"search_mode\": \"range\",\n",
    "                        \"range_center\": 4.97,\n",
    "                        \"range_width\": 0.5\n",
    "                }\n",
    "        }\n",
    "}\n",
    "#SAVE TO FILE\n",
    "with open('CCS_input.json', 'w') as f:\n",
    "    json.dump(input, f, indent=8)"
   ]
  },
  {
   "cell_type": "code",
   "execution_count": 40,
   "id": "17e0c495-889c-4b03-b274-ecc6a32ac5d0",
   "metadata": {},
   "outputs": [
    {
     "name": "stdout",
     "output_type": "stream",
     "text": [
      "    Generating one-body information from training-set.\n",
      "        Added elements:  ['Li', 'Ni', 'O']\n",
      "    Applying monotonous constraints for pair:  Li-Ni\n",
      "    Applying monotonous constraints for pair:  Li-O\n",
      "    Applying monotonous constraints for pair:  Ni-O\n",
      "    Applying monotonous constraints for pair:  O-O\n",
      "    Applying monotonous constraints for pair:  Ni-Ni\n",
      "    Applying monotonous constraints for pair:  Li-Li\n",
      "    Merging interval for pair Li-Ni. Number of knots reduced from 27 to 18. \n",
      "    Merging interval for pair Li-O. Number of knots reduced from 43 to 26. \n",
      "    Merging interval for pair Ni-O. Number of knots reduced from 44 to 25. \n",
      "    Merging interval for pair O-O. Number of knots reduced from 37 to 34. \n",
      "    Merging interval for pair Ni-Ni. Number of knots reduced from 33 to 14. \n",
      "    Merging interval for pair Li-Li. Number of knots reduced from 35 to 24. \n",
      "    There is linear dependence in stochiometry matrix!\n",
      "    Removing onebody term: O\n",
      "    Range search turned on for element pair Li-Ni; 4 possible switch indices in range of 2.67-3.57 Å.\n",
      "    Range search turned on for element pair Li-O; 4 possible switch indices in range of 1.89-2.79 Å.\n",
      "    Range search turned on for element pair Ni-O; 4 possible switch indices in range of 1.79-2.39 Å.\n",
      "    Range search turned on for element pair O-O; 5 possible switch indices in range of 2.38-3.18 Å.\n",
      "    Range search turned on for element pair Ni-Ni; 1 possible switch indices in range of 2.70-3.50 Å.\n",
      "    Range search turned on for element pair Li-Li; 5 possible switch indices in range of 4.42-5.42 Å.\n"
     ]
    },
    {
     "name": "stderr",
     "output_type": "stream",
     "text": [
      "    Finding optimum switch: 100%|\u001b[38;2;128;0;128m████████████████████████████████████████████████████████\u001b[0m| 1600/1600 [00:27<00:00, 58.61it/s]\u001b[0m\n"
     ]
    },
    {
     "name": "stdout",
     "output_type": "stream",
     "text": [
      "    The best switch is (4, 4, 1, 4, 2, 22) with mse: 0.025997, corresponding to distances of [3.07 2.29 1.89 2.78 2.9  4.82] Å for element pairs ['Li-Ni', 'Li-O', 'Ni-O', 'O-O', 'Ni-Ni', 'Li-Li'].\n",
      "    Final root mean square error in energy:  0.0008588828540500159  (eV/atoms) [NOTE: Only elements specified in Onebody are considered in atom count!]\n"
     ]
    }
   ],
   "source": [
    "#RUN FIT\n",
    "from ccs_fit import ccs_fit\n",
    "\n",
    "ccs_fit(\"CCS_input.json\")"
   ]
  },
  {
   "cell_type": "markdown",
   "id": "f153e32a-6ef3-4ed3-9a75-935e625dc352",
   "metadata": {},
   "source": [
    "### 7th iteration"
   ]
  },
  {
   "cell_type": "code",
   "execution_count": 45,
   "id": "3f2865da-972a-495e-a673-1a6843d8a97c",
   "metadata": {},
   "outputs": [],
   "source": [
    "### Generate input.json file\n",
    "import json\n",
    "\n",
    "input={\n",
    "    \"General\": {\n",
    "        \"interface\": \"CCS\",\n",
    "        \"merging\"  : \"True\"\n",
    "    },\n",
    "    \"Twobody\": {\n",
    "                \"Li-Ni\": {\n",
    "                        \"Rcut\": 6.0,\n",
    "                        \"Resolution\": 0.02,\n",
    "                        \"Swtype\": \"sw\",\n",
    "                        \"const_type\" : \"Mono\",\n",
    "                        \"search_mode\": \"range\",\n",
    "                        \"range_center\": 3.07,\n",
    "                        \"range_width\": 0.1\n",
    "                },\n",
    "                \"Li-O\": {\n",
    "                        \"Rcut\": 6.0,\n",
    "                        \"Resolution\": 0.02,\n",
    "                        \"Swtype\": \"sw\",\n",
    "                        \"const_type\" : \"Mono\",\n",
    "                        \"search_mode\": \"range\",\n",
    "                        \"range_center\": 2.29,\n",
    "                        \"range_width\": 0.1\n",
    "                },\n",
    "                \"Ni-O\": {\n",
    "                        \"Rcut\": 6.0,\n",
    "                        \"Resolution\": 0.02,\n",
    "                        \"Swtype\": \"sw\",\n",
    "                        \"const_type\" : \"Mono\",\n",
    "                        \"search_mode\": \"range\",\n",
    "                        \"range_center\": 1.89,\n",
    "                        \"range_width\": 0.1\n",
    "                },\n",
    "                \"O-O\": {\n",
    "                        \"Rcut\": 8.0,\n",
    "                        \"Resolution\": 0.02,\n",
    "                        \"Swtype\": \"sw\",\n",
    "                        \"const_type\" : \"Mono\",\n",
    "                        \"search_mode\": \"range\",\n",
    "                        \"range_center\": 2.78,\n",
    "                        \"range_width\": 0.1\n",
    "                },\n",
    "                \"Ni-Ni\": {\n",
    "                        \"Rcut\": 8.0,\n",
    "                        \"Resolution\": 0.02,\n",
    "                        \"Swtype\": \"sw\",\n",
    "                        \"const_type\" : \"Mono\",\n",
    "                        \"search_mode\": \"range\",\n",
    "                        \"range_center\": 2.9,\n",
    "                        \"range_width\": 0.1\n",
    "                },\n",
    "                \"Li-Li\": {\n",
    "                        \"Rcut\": 8.0,\n",
    "                        \"Resolution\": 0.02,\n",
    "                        \"Swtype\": \"sw\",\n",
    "                        \"const_type\" : \"Mono\",\n",
    "                        \"search_mode\": \"range\",\n",
    "                        \"range_center\": 4.82,\n",
    "                        \"range_width\": 0.1\n",
    "                }\n",
    "        }\n",
    "}\n",
    "#SAVE TO FILE\n",
    "with open('CCS_input.json', 'w') as f:\n",
    "    json.dump(input, f, indent=8)"
   ]
  },
  {
   "cell_type": "code",
   "execution_count": 46,
   "id": "e80ec73d-3084-4241-a933-4ccf6c2e110b",
   "metadata": {},
   "outputs": [
    {
     "name": "stdout",
     "output_type": "stream",
     "text": [
      "    Generating one-body information from training-set.\n",
      "        Added elements:  ['Li', 'Ni', 'O']\n",
      "    Applying monotonous constraints for pair:  Li-Ni\n",
      "    Applying monotonous constraints for pair:  Li-O\n",
      "    Applying monotonous constraints for pair:  Ni-O\n",
      "    Applying monotonous constraints for pair:  O-O\n",
      "    Applying monotonous constraints for pair:  Ni-Ni\n",
      "    Applying monotonous constraints for pair:  Li-Li\n",
      "    Merging interval for pair Li-Ni. Number of knots reduced from 125 to 73. \n",
      "    Merging interval for pair Li-O. Number of knots reduced from 205 to 104. \n",
      "    Merging interval for pair Ni-O. Number of knots reduced from 210 to 94. \n",
      "    Merging interval for pair O-O. Number of knots reduced from 178 to 151. \n",
      "    Merging interval for pair Ni-Ni. Number of knots reduced from 159 to 56. \n",
      "    Merging interval for pair Li-Li. Number of knots reduced from 168 to 109. \n",
      "    There is linear dependence in stochiometry matrix!\n",
      "    Removing onebody term: O\n",
      "    Range search turned on for element pair Li-Ni; 5 possible switch indices in range of 2.97-3.17 Å.\n",
      "    Range search turned on for element pair Li-O; 5 possible switch indices in range of 2.17-2.37 Å.\n",
      "    Range search turned on for element pair Ni-O; 5 possible switch indices in range of 1.83-1.97 Å.\n",
      "    Range search turned on for element pair O-O; 5 possible switch indices in range of 2.68-2.88 Å.\n",
      "    Range search turned on for element pair Ni-Ni; 3 possible switch indices in range of 2.80-3.00 Å.\n",
      "    Range search turned on for element pair Li-Li; 5 possible switch indices in range of 4.70-4.90 Å.\n"
     ]
    },
    {
     "name": "stderr",
     "output_type": "stream",
     "text": [
      "    Finding optimum switch: 100%|\u001b[38;2;128;0;128m████████████████████████████████████████████████████████\u001b[0m| 9375/9375 [28:49<00:00,  5.42it/s]\u001b[0m\n"
     ]
    },
    {
     "name": "stdout",
     "output_type": "stream",
     "text": [
      "    The best switch is (18, 20, 4, 20, 8, 107) with mse: 0.025104, corresponding to distances of [3.07 2.33 1.91 2.82 2.9  4.8 ] Å for element pairs ['Li-Ni', 'Li-O', 'Ni-O', 'O-O', 'Ni-Ni', 'Li-Li'].\n",
      "    Final root mean square error in energy:  0.0008392108616140276  (eV/atoms) [NOTE: Only elements specified in Onebody are considered in atom count!]\n"
     ]
    }
   ],
   "source": [
    "#RUN FIT\n",
    "from ccs_fit import ccs_fit\n",
    "\n",
    "ccs_fit(\"CCS_input.json\")"
   ]
  },
  {
   "cell_type": "markdown",
   "id": "c87326db-e1d6-4cca-8287-d21ab77ddd49",
   "metadata": {},
   "source": [
    "### 8th iteration"
   ]
  },
  {
   "cell_type": "code",
   "execution_count": 47,
   "id": "c54d9d1c-2e96-47f7-83b0-cd3fecf588e0",
   "metadata": {},
   "outputs": [],
   "source": [
    "### Generate input.json file\n",
    "import json\n",
    "\n",
    "input={\n",
    "    \"General\": {\n",
    "        \"interface\": \"CCS\",\n",
    "        \"merging\"  : \"True\"\n",
    "    },\n",
    "    \"Twobody\": {\n",
    "                \"Li-Ni\": {\n",
    "                        \"Rcut\": 6.0,\n",
    "                        \"Resolution\": 0.01,\n",
    "                        \"Swtype\": \"sw\",\n",
    "                        \"const_type\" : \"Mono\",\n",
    "                        \"search_mode\": \"point\",\n",
    "                        \"search_points\": [3.07]\n",
    "                },\n",
    "                \"Li-O\": {\n",
    "                        \"Rcut\": 6.0,\n",
    "                        \"Resolution\": 0.01,\n",
    "                        \"Swtype\": \"sw\",\n",
    "                        \"const_type\" : \"Mono\",\n",
    "                        \"search_mode\": \"point\",\n",
    "                        \"search_points\": [2.33]\n",
    "                },\n",
    "                \"Ni-O\": {\n",
    "                        \"Rcut\": 6.0,\n",
    "                        \"Resolution\": 0.01,\n",
    "                        \"Swtype\": \"sw\",\n",
    "                        \"const_type\" : \"Mono\",\n",
    "                        \"search_mode\": \"point\",\n",
    "                        \"search_points\": [1.91]\n",
    "                },\n",
    "                \"O-O\": {\n",
    "                        \"Rcut\": 8.0,\n",
    "                        \"Resolution\": 0.01,\n",
    "                        \"Swtype\": \"sw\",\n",
    "                        \"const_type\" : \"Mono\",\n",
    "                        \"search_mode\": \"point\",\n",
    "                        \"search_points\": [2.82]\n",
    "                },\n",
    "                \"Ni-Ni\": {\n",
    "                        \"Rcut\": 8.0,\n",
    "                        \"Resolution\": 0.01,\n",
    "                        \"Swtype\": \"sw\",\n",
    "                        \"const_type\" : \"Mono\",\n",
    "                        \"search_mode\": \"point\",\n",
    "                        \"search_points\": [2.9]\n",
    "                },\n",
    "                \"Li-Li\": {\n",
    "                        \"Rcut\": 8.0,\n",
    "                        \"Resolution\": 0.01,\n",
    "                        \"Swtype\": \"sw\",\n",
    "                        \"const_type\" : \"Mono\",\n",
    "                        \"search_mode\": \"point\",\n",
    "                        \"search_points\": [4.9]\n",
    "                }\n",
    "        }\n",
    "}\n",
    "#SAVE TO FILE\n",
    "with open('CCS_input.json', 'w') as f:\n",
    "    json.dump(input, f, indent=8)"
   ]
  },
  {
   "cell_type": "code",
   "execution_count": 48,
   "id": "23a926f6-4a50-481c-9354-c630c74da0a8",
   "metadata": {},
   "outputs": [
    {
     "name": "stdout",
     "output_type": "stream",
     "text": [
      "    Generating one-body information from training-set.\n",
      "        Added elements:  ['Li', 'Ni', 'O']\n",
      "    Applying monotonous constraints for pair:  Li-Ni\n",
      "    Applying monotonous constraints for pair:  Li-O\n",
      "    Applying monotonous constraints for pair:  Ni-O\n",
      "    Applying monotonous constraints for pair:  O-O\n",
      "    Applying monotonous constraints for pair:  Ni-Ni\n",
      "    Applying monotonous constraints for pair:  Li-Li\n",
      "    Merging interval for pair Li-Ni. Number of knots reduced from 248 to 137. \n",
      "    Merging interval for pair Li-O. Number of knots reduced from 408 to 200. \n",
      "    Merging interval for pair Ni-O. Number of knots reduced from 418 to 173. \n",
      "    Merging interval for pair O-O. Number of knots reduced from 354 to 297. \n",
      "    Merging interval for pair Ni-Ni. Number of knots reduced from 316 to 101. \n",
      "    Merging interval for pair Li-Li. Number of knots reduced from 334 to 205. \n",
      "    There is linear dependence in stochiometry matrix!\n",
      "    Removing onebody term: O\n",
      "    Switch points located at [3.07] Å to for element pair Li-Ni based on point search.\n",
      "    Switch points located at [2.34] Å to for element pair Li-O based on point search.\n",
      "    Switch points located at [1.92] Å to for element pair Ni-O based on point search.\n",
      "    Switch points located at [2.82] Å to for element pair O-O based on point search.\n",
      "    Switch points located at [4.68] Å to for element pair Ni-Ni based on point search.\n",
      "    Switch points located at [4.91] Å to for element pair Li-Li based on point search.\n"
     ]
    },
    {
     "name": "stderr",
     "output_type": "stream",
     "text": [
      "    Finding optimum switch: 100%|\u001b[38;2;128;0;128m██████████████████████████████████████████████████████████████\u001b[0m| 1/1 [00:00<00:00,  1.56it/s]\u001b[0m\n"
     ]
    },
    {
     "name": "stdout",
     "output_type": "stream",
     "text": [
      "    The best switch is (36, 40, 8, 40, 194, 224) with mse: 0.025366, corresponding to distances of [3.07 2.34 1.92 2.82 4.68 4.91] Å for element pairs ['Li-Ni', 'Li-O', 'Ni-O', 'O-O', 'Ni-Ni', 'Li-Li'].\n",
      "    Final root mean square error in energy:  0.0008624415381833482  (eV/atoms) [NOTE: Only elements specified in Onebody are considered in atom count!]\n"
     ]
    }
   ],
   "source": [
    "#RUN FIT\n",
    "from ccs_fit import ccs_fit\n",
    "\n",
    "ccs_fit(\"CCS_input.json\")"
   ]
  },
  {
   "cell_type": "markdown",
   "id": "2ce06ae5",
   "metadata": {},
   "source": [
    "### Validate your potential\n",
    "Make sure your potential (at least) reproduce the data points in your training-set. Performin further tests on strucutres not included in the training-set is recomended but not included in the tutorial."
   ]
  },
  {
   "cell_type": "code",
   "execution_count": 49,
   "id": "7e429885",
   "metadata": {},
   "outputs": [
    {
     "name": "stderr",
     "output_type": "stream",
     "text": [
      "100%|\u001b[38;2;128;0;0m██████████████████████████████████████████████████████████████████████████████████████\u001b[0m| 283/283 [00:11<00:00, 24.00it/s]\u001b[0m\n"
     ]
    }
   ],
   "source": [
    "from ccs_fit.scripts.ccs_validate import ccs_validate\n",
    "ccs_validate(mode=\"CCS\",CCS_params=\"CCS_params.json\",DFT_DB=\"DFT.db\")"
   ]
  },
  {
   "cell_type": "code",
   "execution_count": 50,
   "id": "26234bd3",
   "metadata": {},
   "outputs": [
    {
     "data": {
      "image/png": "[encoded data removed]",
      "text/plain": [
       "<Figure size 640x480 with 1 Axes>"
      ]
     },
     "metadata": {},
     "output_type": "display_data"
    },
    {
     "data": {
      "image/png": "[encoded data removed]",
      "text/plain": [
       "<Figure size 640x480 with 1 Axes>"
      ]
     },
     "metadata": {},
     "output_type": "display_data"
    }
   ],
   "source": [
    "try:\n",
    "    err=np.loadtxt(\"CCS_validate.dat\")\n",
    "    plt.xlabel('Reference energy (eV)')\n",
    "    plt.ylabel('Validation energy (eV)')\n",
    "    plt.plot( [min(err[:,0]),max(err[:,0])],[min(err[:,0]),max(err[:,0])],'--',color='black'  )\n",
    "    plt.scatter(err[:,0],err[:,1],facecolors='none', edgecolors='red')\n",
    "    plt.show()\n",
    "    plt.xlabel('Reference energy (eV)')\n",
    "    plt.ylabel('Error in fit (eV)')\n",
    "    plt.scatter(err[:,0],err[:,2],facecolors='none', edgecolors='red')\n",
    "    plt.show()\n",
    "except:\n",
    "    pass"
   ]
  },
  {
   "cell_type": "markdown",
   "id": "34edf9a9",
   "metadata": {},
   "source": [
    "### Cleaning up"
   ]
  },
  {
   "cell_type": "code",
   "execution_count": 11,
   "id": "6b63718b",
   "metadata": {},
   "outputs": [],
   "source": [
    "# import glob\n",
    "\n",
    "# def rm(file):\n",
    "#     try:\n",
    "#         os.remove(file)\n",
    "#     except OSError:\n",
    "#         pass\n",
    "\n",
    "\n",
    "# list=glob.glob(\"CALCULATED_DATA/*\")\n",
    "# for file in list:\n",
    "#     rm(file)\n",
    "# list=glob.glob(\"CCS_*\")\n",
    "# for file in list:\n",
    "#     rm(file)\n",
    "# list=glob.glob(\"UNC_*\")\n",
    "# for file in list:\n",
    "#     rm(file)\n",
    "# rm(\"structures.json\")\n",
    "# rm(\"file_list\")\n",
    "# rm(\"LJ.db\")"
   ]
  },
  {
   "cell_type": "markdown",
   "id": "1bb3295f-817b-4618-b63d-e019598b2a46",
   "metadata": {},
   "source": [
    "### Convex hull"
   ]
  },
  {
   "cell_type": "code",
   "execution_count": 65,
   "id": "779408c2-46fc-4f36-8065-4a9b4c993a5d",
   "metadata": {},
   "outputs": [
    {
     "data": {
      "text/plain": [
       "Text(0, 0.5, 'Energy')"
      ]
     },
     "execution_count": 65,
     "metadata": {},
     "output_type": "execute_result"
    },
    {
     "data": {
      "image/png": "[encoded data removed]",
      "text/plain": [
       "<Figure size 640x480 with 1 Axes>"
      ]
     },
     "metadata": {},
     "output_type": "display_data"
    }
   ],
   "source": [
    "# CCS\n",
    "from ccs_fit.ase_calculator.ccs_ase_calculator import CCS \n",
    "from ase import io\n",
    "import json\n",
    "import ase.db as db\n",
    "\n",
    "with open(\"CCS_params.json\", 'r') as f:\n",
    "    CCS_params = json.load(f)\n",
    "\n",
    "nrg_Li = CCS_params['One_body']['Li'] + 0.335\n",
    "    \n",
    "CCS_calc=CCS(CCS_params=CCS_params)\n",
    "    \n",
    "DFT_DB = db.connect('DFT.db')\n",
    "    \n",
    "xs = []\n",
    "CCS_nrgs = []\n",
    "\n",
    "for row in DFT_DB.select():\n",
    "    structure = row.toatoms()\n",
    "    elems = structure.get_chemical_symbols()\n",
    "    nr_Li = elems.count('Li')\n",
    "    nr_Ni = elems.count('Ni')\n",
    "    x = nr_Li/nr_Ni\n",
    "    EDFT = structure.get_potential_energy()\n",
    "    structure.calc = CCS_calc\n",
    "    ECCS = structure.get_potential_energy() - nr_Li*nrg_Li\n",
    "    xs.append(x)\n",
    "    CCS_nrgs.append(ECCS)\n",
    "\n",
    "plt.scatter(xs, CCS_nrgs)\n",
    "plt.xlabel(\"Li concentration\")\n",
    "plt.ylabel(\"Energy\")"
   ]
  },
  {
   "cell_type": "code",
   "execution_count": null,
   "id": "4d6039ac-2120-4fb5-8463-749d3d8d5b6a",
   "metadata": {},
   "outputs": [],
   "source": []
  }
 ],
 "metadata": {
  "kernelspec": {
   "display_name": "CCS_Buck",
   "language": "python",
   "name": "ccs_buck"
  },
  "language_info": {
   "codemirror_mode": {
    "name": "ipython",
    "version": 3
   },
   "file_extension": ".py",
   "mimetype": "text/x-python",
   "name": "python",
   "nbconvert_exporter": "python",
   "pygments_lexer": "ipython3",
   "version": "3.9.16"
  },
  "vscode": {
   "interpreter": {
    "hash": "f9cf24ff20edf0aae28141210fc773ab63efd2a56eb4d7d08651373a5d8a7dcd"
   }
  }
 },
 "nbformat": 4,
 "nbformat_minor": 5
}
