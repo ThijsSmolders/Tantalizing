{
 "cells": [
  {
   "cell_type": "markdown",
   "id": "74f144dd",
   "metadata": {},
   "source": [
    "# Building Frederike's second force field"
   ]
  },
  {
   "cell_type": "code",
   "execution_count": 1,
   "id": "d88f1c57-aa71-4a19-9b6b-e9ada91bb1e6",
   "metadata": {},
   "outputs": [],
   "source": [
    "import matplotlib.pyplot as plt\n",
    "import ase as ase\n",
    "from ase.io import read,write\n",
    "from ase.build import bulk\n",
    "import numpy as np\n",
    "import ase.db as db\n",
    "from ase.visualize import view\n",
    "from ase.optimize import BFGS\n",
    "Fit_on_forces=True"
   ]
  },
  {
   "cell_type": "markdown",
   "id": "16cf8943-479f-4215-b40e-863f22c69e1e",
   "metadata": {},
   "source": [
    "### Generate training data\n",
    "Curvature Constrained Splines can be fitted to a reference data-set with energies (and optionally forces) of pre-calculated structures. In this example we generate the reference data-set using a Lennard-Jones potential. We use a LJ bulk structure that we randomly rattle and scale. \n"
   ]
  },
  {
   "cell_type": "markdown",
   "id": "34765459-6e0a-455e-81f2-333dd7ec88a8",
   "metadata": {},
   "source": [
    "for i in {1..19}; do (mkdir \"outcar${i}\"; mv \"outcar${i}.txt\" \"outcar${i}/OUTCAR\"); done\n",
    "for i in {1..19}; do (echo \"outcar/outcar${i}\" >> data_list.txt); done\n",
    "for f in $(ls OUTCARS/); do echo \"OUTCARS/$f\" >> data_list.txt; done"
   ]
  },
  {
   "cell_type": "code",
   "execution_count": 2,
   "id": "97508293-ed0a-427a-9579-f72120576e12",
   "metadata": {},
   "outputs": [
    {
     "data": {
      "text/plain": [
       "['C:\\\\Users\\\\frede\\\\anaconda3\\\\envs\\\\Tantalizing\\\\lib\\\\site-packages\\\\ase']"
      ]
     },
     "execution_count": 2,
     "metadata": {},
     "output_type": "execute_result"
    }
   ],
   "source": [
    "import ase\n",
    "ase.__path__"
   ]
  },
  {
   "cell_type": "code",
   "execution_count": 3,
   "id": "387f54e1-dac6-4fc1-a0a9-b9ba8c045ec0",
   "metadata": {},
   "outputs": [
    {
     "name": "stderr",
     "output_type": "stream",
     "text": [
      "    Building data-bases: 100%|████████████████████████████████████████████████████████████████████████████| 78/78 [00:35<00:00,  2.19it/s]\n"
     ]
    }
   ],
   "source": [
    "from ccs_fit.scripts.ccs_build_db import ccs_build_db\n",
    "\n",
    "ccs_build_db(mode=\"CCS\",DFT_DB=\"DFT.db\",file_list=\"data_list.txt\",overwrite=True, greedy=True) #false only takes last Outcars"
   ]
  },
  {
   "cell_type": "markdown",
   "id": "bdb9cdef",
   "metadata": {},
   "source": [
    "### Generate the CCS_fit input file; structures.json\n",
    "The next commands fetch the training-set data from the ASE database containing the LJ structures and the corresponding energies. The reference data is called ``DFT_DB`` since the most common source of reference data is DFT."
   ]
  },
  {
   "cell_type": "code",
   "execution_count": 4,
   "id": "01508dd9-a761-4197-a132-114a87c0bc8b",
   "metadata": {},
   "outputs": [
    {
     "name": "stdout",
     "output_type": "stream",
     "text": [
      "id|age|formula    |calculator|  energy|natoms| fmax|pbc| volume|charge|    mass| smax|magmom\n",
      " 1|58s|Li13Ni27O54|vasp      |-574.107|    94|0.018|TTT|868.408| 0.000|2538.888|0.001| 9.359\n",
      " 2|58s|Li13Ni27O54|vasp      |-574.077|    94|0.100|TTT|866.202| 0.000|2538.888|0.002| 9.371\n",
      " 3|58s|Li13Ni27O54|vasp      |-574.088|    94|0.064|TTT|866.297| 0.000|2538.888|0.001| 9.310\n",
      " 4|57s|Li13Ni27O54|vasp      |-574.101|    94|0.034|TTT|867.486| 0.000|2538.888|0.001| 9.346\n",
      " 5|57s|Li17Ni27O54|vasp      |-595.854|    98|0.018|TTT|884.767| 0.000|2566.648|0.001|17.010\n",
      " 6|57s|Li17Ni27O54|vasp      |-595.854|    98|0.018|TTT|884.767| 0.000|2566.648|0.001|17.010\n",
      " 7|57s|Li20Ni27O54|vasp      |-611.175|   101|0.013|TTT|888.860| 0.000|2587.468|0.001|20.000\n",
      " 8|57s|Li20Ni27O54|vasp      |-611.174|   101|0.055|TTT|888.600| 0.000|2587.468|0.001|19.995\n",
      " 9|57s|Li4Ni27O54 |vasp      |-528.892|    85|0.011|TTT|856.196| 0.000|2476.428|0.000| 3.992\n",
      "10|57s|Li4Ni27O54 |vasp      |-528.891|    85|0.026|TTT|855.812| 0.000|2476.428|0.001| 3.994\n",
      "11|57s|Li7Ni27O54 |vasp      |-545.210|    88|0.015|TTT|863.845| 0.000|2497.248|0.000| 4.935\n",
      "12|57s|Li7Ni27O54 |vasp      |-545.209|    88|0.028|TTT|863.496| 0.000|2497.248|0.000| 4.928\n",
      "13|57s|Li18Ni27O54|vasp      |-601.983|    99|0.019|TTT|884.190| 0.000|2573.588|0.001|18.004\n",
      "14|57s|Li18Ni27O54|vasp      |-601.983|    99|0.019|TTT|884.190| 0.000|2573.588|0.001|18.004\n",
      "15|57s|Li20Ni27O54|vasp      |-611.432|   101|0.014|TTT|887.953| 0.000|2587.468|0.000|19.985\n",
      "16|57s|Li20Ni27O54|vasp      |-611.432|   101|0.014|TTT|887.953| 0.000|2587.468|0.000|19.985\n",
      "17|57s|Li16Ni27O54|vasp      |-591.886|    97|0.020|TTT|886.356| 0.000|2559.708|0.000|16.000\n",
      "18|56s|Li16Ni27O54|vasp      |-591.787|    97|0.222|TTT|882.257| 0.000|2559.708|0.003|15.996\n",
      "19|56s|Li16Ni27O54|vasp      |-591.831|    97|0.122|TTT|881.195| 0.000|2559.708|0.004|16.000\n",
      "20|56s|Li16Ni27O54|vasp      |-591.847|    97|0.125|TTT|883.562| 0.000|2559.708|0.001|16.000\n",
      "Rows: 283 (showing first 20)\n",
      "Keys: PBE, key\n"
     ]
    }
   ],
   "source": [
    "!ase db DFT.db"
   ]
  },
  {
   "cell_type": "code",
   "execution_count": 5,
   "id": "e096b5f0",
   "metadata": {},
   "outputs": [
    {
     "name": "stderr",
     "output_type": "stream",
     "text": [
      "    Fetching data: 100%|\u001b[38;2;0;128;128m████████████████████████████████████████████████████████████████████████████████\u001b[0m| 283/283 [00:18<00:00, 15.20it/s]\u001b[0m\n"
     ]
    }
   ],
   "source": [
    "from ccs_fit.scripts.ccs_fetch import ccs_fetch\n",
    "\n",
    "ccs_fetch(mode=\"CCS\",DFT_DB=\"DFT.db\",include_forces=Fit_on_forces)"
   ]
  },
  {
   "cell_type": "markdown",
   "id": "59be3faa",
   "metadata": {},
   "source": [
    "### Fit training data to Curvature Constrained Splines\n",
    "Finally, the splines are fitted to the target defined in the structures.json input file. The splines can be restricted to be fully repulsive (\"rep\"), or have a turning point/switch (\"sw\"), which is defined by the \"Swtype\" key.\n"
   ]
  },
  {
   "cell_type": "code",
   "execution_count": 6,
   "id": "8c3ac0c1",
   "metadata": {},
   "outputs": [],
   "source": [
    "### Generate input.json file\n",
    "import json\n",
    "\n",
    "input={\n",
    "    \"General\": {\n",
    "        \"interface\": \"CCS\",\n",
    "        \"merging\"  : \"True\"\n",
    "    },\n",
    "    \"Twobody\": {\n",
    "                \"Xx-Xx\": {\n",
    "                        \"Rcut\": 6.0,\n",
    "                        \"Resolution\": 0.25,\n",
    "                        \"Swtype\": \"sw\",\n",
    "                        \"const_type\" : \"Mono\"\n",
    "                },\n",
    "                \"O-O\": {\n",
    "                        \"Rcut\": 6.0,\n",
    "                        \"Resolution\": 0.25,\n",
    "                        \"Swtype\": \"rep\",\n",
    "                        \"const_type\" : \"Mono\"\n",
    "                },\n",
    "                \"Ni-Ni\": {\n",
    "                        \"Rcut\": 6.0,\n",
    "                        \"Resolution\": 0.25,\n",
    "                        \"Swtype\": \"rep\",\n",
    "                        \"const_type\" : \"Mono\"\n",
    "                },\n",
    "                \"Li-Li\": {\n",
    "                        \"Rcut\": 6.0,\n",
    "                        \"Resolution\": 0.25,\n",
    "                        \"Swtype\": \"rep\",\n",
    "                        \"const_type\" : \"Mono\"\n",
    "                }\n",
    "        }\n",
    "}\n",
    "#SAVE TO FILE\n",
    "with open('CCS_input.json', 'w') as f:\n",
    "    json.dump(input, f, indent=8)"
   ]
  },
  {
   "cell_type": "code",
   "execution_count": 7,
   "id": "df1f9f0f",
   "metadata": {},
   "outputs": [
    {
     "name": "stdout",
     "output_type": "stream",
     "text": [
      "    Generating one-body information from training-set.\n",
      "        Added elements:  ['Li', 'Ni', 'O']\n",
      "    Generating two-body potentials from one-body information.\n",
      "    Adding pair: Li-Ni\n",
      "    Adding pair: Li-O\n",
      "    Adding pair: Ni-O\n",
      "    Applying monotonic constraints for pair:  O-O\n",
      "    Applying monotonic constraints for pair:  Ni-Ni\n",
      "    Applying monotonic constraints for pair:  Li-Li\n",
      "    Applying monotonic constraints for pair:  Li-Ni\n",
      "    Applying monotonic constraints for pair:  Li-O\n",
      "    Applying monotonic constraints for pair:  Ni-O\n",
      "    Merging intervals for pair Ni-Ni; number of intervals reduced from 15 to 9. \n",
      "    Merging intervals for pair Li-Li; number of intervals reduced from 15 to 12. \n",
      "    Merging intervals for pair Li-Ni; number of intervals reduced from 12 to 10. \n",
      "    Merging intervals for pair Li-O; number of intervals reduced from 18 to 13. \n",
      "    Merging intervals for pair Ni-O; number of intervals reduced from 19 to 12. \n",
      "    There is linear dependence in stochiometry matrix!\n",
      "    Removing onebody term: O\n"
     ]
    },
    {
     "name": "stderr",
     "output_type": "stream",
     "text": [
      "    Finding optimum switch: 100%|\u001b[38;2;128;0;128m█████████████████████████████████████████████████████████████████████\u001b[0m| 1560/1560 [02:16<00:00, 11.43it/s]\u001b[0m\n"
     ]
    },
    {
     "name": "stdout",
     "output_type": "stream",
     "text": [
      "    The best switch is (16, 9, 12, 7, 2, 2) with rmse: 0.40350960335536007, corresponding to distances of [6.3  4.87 5.55 4.34 2.31 2.22] Å for element pairs ['O-O', 'Ni-Ni', 'Li-Li', 'Li-Ni', 'Li-O', 'Ni-O'].\n",
      "STRONG WARNING: THE EXPONENTIAL WALL IS ACTUALLY ATTRACTIVE!!!!!!!\n",
      "WARNING: THE PAIR Li-O IS ONLY SAMPLED IN A REGION WHERE IT IS STILL REPULSIVE. THIS INDICATES THAT THE INTERACTION IS MOST LIKELY POORLY RESOLVED, PROCEED WITH CAUTION!\n",
      "STRONG WARNING: THE EXPONENTIAL WALL IS ACTUALLY ATTRACTIVE!!!!!!!\n",
      "WARNING: THE PAIR Ni-O IS ONLY SAMPLED IN A REGION WHERE IT IS STILL REPULSIVE. THIS INDICATES THAT THE INTERACTION IS MOST LIKELY POORLY RESOLVED, PROCEED WITH CAUTION!\n"
     ]
    }
   ],
   "source": [
    "#RUN FIT\n",
    "from ccs_fit import ccs_fit\n",
    "\n",
    "ccs_fit(\"CCS_input.json\")"
   ]
  },
  {
   "cell_type": "markdown",
   "id": "3d1f3117-cc0b-4a64-b62f-9ca57a3f0579",
   "metadata": {},
   "source": [
    "### 2nd iteration of fitting"
   ]
  },
  {
   "cell_type": "code",
   "execution_count": 8,
   "id": "dc7a2966-0d9b-40ab-90d4-cf155c134381",
   "metadata": {},
   "outputs": [],
   "source": [
    "### Generate input.json file\n",
    "import json\n",
    "\n",
    "input={\n",
    "    \"General\": {\n",
    "        \"interface\": \"CCS\",\n",
    "        \"merging\"  : \"True\"\n",
    "    },\n",
    "    \"Twobody\": {\n",
    "                \"Li-Ni\": {\n",
    "                        \"Rcut\": 6.0,\n",
    "                        \"Resolution\": 0.02,\n",
    "                        \"Swtype\": \"sw\",\n",
    "                        \"const_type\" : \"Mono\",\n",
    "                        \"search_mode\": \"range\",\n",
    "                        \"range_center\": 3.07,\n",
    "                        \"range_width\": 0.1\n",
    "                },\n",
    "                \"Li-O\": {\n",
    "                        \"Rcut\": 6.0,\n",
    "                        \"Resolution\": 0.02,\n",
    "                        \"Swtype\": \"sw\",\n",
    "                        \"const_type\" : \"Mono\",\n",
    "                        \"search_mode\": \"range\",\n",
    "                        \"range_center\": 2.29,\n",
    "                        \"range_width\": 0.1\n",
    "                },\n",
    "                \"Ni-O\": {\n",
    "                        \"Rcut\": 6.0,\n",
    "                        \"Resolution\": 0.02,\n",
    "                        \"Swtype\": \"sw\",\n",
    "                        \"const_type\" : \"Mono\",\n",
    "                        \"search_mode\": \"range\",\n",
    "                        \"range_center\": 1.89,\n",
    "                        \"range_width\": 0.1\n",
    "                },\n",
    "                \"O-O\": {\n",
    "                        \"Rcut\": 8.0,\n",
    "                        \"Resolution\": 0.02,\n",
    "                        \"Swtype\": \"sw\",\n",
    "                        \"const_type\" : \"Mono\",\n",
    "                        \"search_mode\": \"range\",\n",
    "                        \"range_center\": 2.78,\n",
    "                        \"range_width\": 0.1\n",
    "                },\n",
    "                \"Ni-Ni\": {\n",
    "                        \"Rcut\": 8.0,\n",
    "                        \"Resolution\": 0.02,\n",
    "                        \"Swtype\": \"sw\",\n",
    "                        \"const_type\" : \"Mono\",\n",
    "                        \"search_mode\": \"range\",\n",
    "                        \"range_center\": 2.9,\n",
    "                        \"range_width\": 0.1\n",
    "                },\n",
    "                \"Li-Li\": {\n",
    "                        \"Rcut\": 8.0,\n",
    "                        \"Resolution\": 0.02,\n",
    "                        \"Swtype\": \"sw\",\n",
    "                        \"const_type\" : \"Mono\",\n",
    "                        \"search_mode\": \"range\",\n",
    "                        \"range_center\": 4.82,\n",
    "                        \"range_width\": 0.1\n",
    "                }\n",
    "        }\n",
    "}\n",
    "#SAVE TO FILE\n",
    "with open('CCS_input.json', 'w') as f:\n",
    "    json.dump(input, f, indent=8)"
   ]
  },
  {
   "cell_type": "code",
   "execution_count": 9,
   "id": "73c38d09-fa8b-4445-a742-a00cea4069cc",
   "metadata": {},
   "outputs": [
    {
     "name": "stdout",
     "output_type": "stream",
     "text": [
      "    Generating one-body information from training-set.\n",
      "        Added elements:  ['Li', 'Ni', 'O']\n",
      "    Applying monotonic constraints for pair:  Li-Ni\n",
      "    Applying monotonic constraints for pair:  Li-O\n",
      "    Applying monotonic constraints for pair:  Ni-O\n",
      "    Applying monotonic constraints for pair:  O-O\n",
      "    Applying monotonic constraints for pair:  Ni-Ni\n",
      "    Applying monotonic constraints for pair:  Li-Li\n",
      "    Merging intervals for pair Li-Ni; number of intervals reduced from 125 to 74. \n",
      "    Merging intervals for pair Li-O; number of intervals reduced from 205 to 106. \n",
      "    Merging intervals for pair Ni-O; number of intervals reduced from 210 to 95. \n",
      "    Merging intervals for pair O-O; number of intervals reduced from 178 to 153. \n",
      "    Merging intervals for pair Ni-Ni; number of intervals reduced from 159 to 57. \n",
      "    Merging intervals for pair Li-Li; number of intervals reduced from 168 to 111. \n",
      "    There is linear dependence in stochiometry matrix!\n",
      "    Removing onebody term: O\n",
      "    Range search turned on for element pair Li-Ni; 5 possible switch indices in range of 2.97-3.17 Å.\n",
      "    Range search turned on for element pair Li-O; 5 possible switch indices in range of 2.19-2.39 Å.\n",
      "    Range search turned on for element pair Ni-O; 5 possible switch indices in range of 1.83-1.97 Å.\n",
      "    Range search turned on for element pair O-O; 5 possible switch indices in range of 2.68-2.88 Å.\n",
      "    Range search turned on for element pair Ni-Ni; 3 possible switch indices in range of 2.80-3.00 Å.\n",
      "    Range search turned on for element pair Li-Li; 5 possible switch indices in range of 4.70-4.90 Å.\n"
     ]
    },
    {
     "name": "stderr",
     "output_type": "stream",
     "text": [
      "    Finding optimum switch: 100%|\u001b[38;2;128;0;128m███████████████████████████████████████████████████████████████████\u001b[0m| 9375/9375 [1:28:44<00:00,  1.76it/s]\u001b[0m\n"
     ]
    },
    {
     "name": "stdout",
     "output_type": "stream",
     "text": [
      "    The best switch is (20, 20, 4, 20, 8, 109) with rmse: 0.39781905434506276, corresponding to distances of [3.11 2.33 1.91 2.82 2.9  4.84] Å for element pairs ['Li-Ni', 'Li-O', 'Ni-O', 'O-O', 'Ni-Ni', 'Li-Li'].\n",
      "STRONG WARNING: THE EXPONENTIAL WALL IS ACTUALLY ATTRACTIVE!!!!!!!\n",
      "WARNING: THE PAIR Ni-O IS ONLY SAMPLED IN A REGION WHERE IT IS STILL REPULSIVE. THIS INDICATES THAT THE INTERACTION IS MOST LIKELY POORLY RESOLVED, PROCEED WITH CAUTION!\n",
      "STRONG WARNING: THE EXPONENTIAL WALL IS ACTUALLY ATTRACTIVE!!!!!!!\n",
      "WARNING: THE PAIR Ni-Ni IS ONLY SAMPLED IN A REGION WHERE IT IS STILL REPULSIVE. THIS INDICATES THAT THE INTERACTION IS MOST LIKELY POORLY RESOLVED, PROCEED WITH CAUTION!\n"
     ]
    }
   ],
   "source": [
    "#RUN FIT\n",
    "from ccs_fit import ccs_fit\n",
    "\n",
    "ccs_fit(\"CCS_input.json\")"
   ]
  },
  {
   "cell_type": "markdown",
   "id": "2ce06ae5",
   "metadata": {},
   "source": [
    "### Validate your potential\n",
    "Make sure your potential (at least) reproduce the data points in your training-set. Performin further tests on strucutres not included in the training-set is recomended but not included in the tutorial."
   ]
  },
  {
   "cell_type": "code",
   "execution_count": 10,
   "id": "7e429885",
   "metadata": {},
   "outputs": [
    {
     "name": "stderr",
     "output_type": "stream",
     "text": [
      "  0%|\u001b[38;2;128;0;0m                                                                                                             \u001b[0m| 0/283 [00:00<?, ?it/s]\u001b[0mC:\\Users\\frede\\anaconda3\\envs\\Tantalizing\\lib\\site-packages\\ase\\utils\\__init__.py:62: FutureWarning: Please use atoms.cell.rank instead\n",
      "  warnings.warn(warning)\n"
     ]
    },
    {
     "name": "stdout",
     "output_type": "stream",
     "text": [
      "Warning: stress tensor calculation not fully tested\n"
     ]
    },
    {
     "name": "stderr",
     "output_type": "stream",
     "text": [
      "  0%|\u001b[38;2;128;0;0m▎                                                                                                    \u001b[0m| 1/283 [00:00<01:49,  2.57it/s]\u001b[0m"
     ]
    },
    {
     "name": "stdout",
     "output_type": "stream",
     "text": [
      "Warning: stress tensor calculation not fully tested\n"
     ]
    },
    {
     "name": "stderr",
     "output_type": "stream",
     "text": [
      "  1%|\u001b[38;2;128;0;0m▋                                                                                                    \u001b[0m| 2/283 [00:00<01:42,  2.73it/s]\u001b[0m"
     ]
    },
    {
     "name": "stdout",
     "output_type": "stream",
     "text": [
      "Warning: stress tensor calculation not fully tested\n"
     ]
    },
    {
     "name": "stderr",
     "output_type": "stream",
     "text": [
      "  1%|\u001b[38;2;128;0;0m█                                                                                                    \u001b[0m| 3/283 [00:01<01:40,  2.78it/s]\u001b[0m"
     ]
    },
    {
     "name": "stdout",
     "output_type": "stream",
     "text": [
      "Warning: stress tensor calculation not fully tested\n"
     ]
    },
    {
     "name": "stderr",
     "output_type": "stream",
     "text": [
      "  1%|\u001b[38;2;128;0;0m█▍                                                                                                   \u001b[0m| 4/283 [00:01<01:36,  2.88it/s]\u001b[0m"
     ]
    },
    {
     "name": "stdout",
     "output_type": "stream",
     "text": [
      "Warning: stress tensor calculation not fully tested\n"
     ]
    },
    {
     "name": "stderr",
     "output_type": "stream",
     "text": [
      "  2%|\u001b[38;2;128;0;0m█▊                                                                                                   \u001b[0m| 5/283 [00:01<01:35,  2.92it/s]\u001b[0m"
     ]
    },
    {
     "name": "stdout",
     "output_type": "stream",
     "text": [
      "Warning: stress tensor calculation not fully tested\n"
     ]
    },
    {
     "name": "stderr",
     "output_type": "stream",
     "text": [
      "  2%|\u001b[38;2;128;0;0m██▍                                                                                                  \u001b[0m| 7/283 [00:02<01:15,  3.64it/s]\u001b[0m"
     ]
    },
    {
     "name": "stdout",
     "output_type": "stream",
     "text": [
      "Warning: stress tensor calculation not fully tested\n"
     ]
    },
    {
     "name": "stderr",
     "output_type": "stream",
     "text": [
      "  3%|\u001b[38;2;128;0;0m██▊                                                                                                  \u001b[0m| 8/283 [00:02<01:21,  3.39it/s]\u001b[0m"
     ]
    },
    {
     "name": "stdout",
     "output_type": "stream",
     "text": [
      "Warning: stress tensor calculation not fully tested\n"
     ]
    },
    {
     "name": "stderr",
     "output_type": "stream",
     "text": [
      "  3%|\u001b[38;2;128;0;0m███▏                                                                                                 \u001b[0m| 9/283 [00:02<01:18,  3.48it/s]\u001b[0m"
     ]
    },
    {
     "name": "stdout",
     "output_type": "stream",
     "text": [
      "Warning: stress tensor calculation not fully tested\n"
     ]
    },
    {
     "name": "stderr",
     "output_type": "stream",
     "text": [
      "  4%|\u001b[38;2;128;0;0m███▌                                                                                                \u001b[0m| 10/283 [00:03<01:15,  3.60it/s]\u001b[0m"
     ]
    },
    {
     "name": "stdout",
     "output_type": "stream",
     "text": [
      "Warning: stress tensor calculation not fully tested\n"
     ]
    },
    {
     "name": "stderr",
     "output_type": "stream",
     "text": [
      "  4%|\u001b[38;2;128;0;0m███▉                                                                                                \u001b[0m| 11/283 [00:03<01:17,  3.52it/s]\u001b[0m"
     ]
    },
    {
     "name": "stdout",
     "output_type": "stream",
     "text": [
      "Warning: stress tensor calculation not fully tested\n"
     ]
    },
    {
     "name": "stderr",
     "output_type": "stream",
     "text": [
      "  4%|\u001b[38;2;128;0;0m████▏                                                                                               \u001b[0m| 12/283 [00:03<01:15,  3.59it/s]\u001b[0m"
     ]
    },
    {
     "name": "stdout",
     "output_type": "stream",
     "text": [
      "Warning: stress tensor calculation not fully tested\n"
     ]
    },
    {
     "name": "stderr",
     "output_type": "stream",
     "text": [
      "  5%|\u001b[38;2;128;0;0m████▌                                                                                               \u001b[0m| 13/283 [00:03<01:20,  3.35it/s]\u001b[0m"
     ]
    },
    {
     "name": "stdout",
     "output_type": "stream",
     "text": [
      "Warning: stress tensor calculation not fully tested\n"
     ]
    },
    {
     "name": "stderr",
     "output_type": "stream",
     "text": [
      "  5%|\u001b[38;2;128;0;0m█████▎                                                                                              \u001b[0m| 15/283 [00:04<01:07,  3.98it/s]\u001b[0m"
     ]
    },
    {
     "name": "stdout",
     "output_type": "stream",
     "text": [
      "Warning: stress tensor calculation not fully tested\n"
     ]
    },
    {
     "name": "stderr",
     "output_type": "stream",
     "text": [
      "  6%|\u001b[38;2;128;0;0m██████                                                                                              \u001b[0m| 17/283 [00:04<00:58,  4.53it/s]\u001b[0m"
     ]
    },
    {
     "name": "stdout",
     "output_type": "stream",
     "text": [
      "Warning: stress tensor calculation not fully tested\n"
     ]
    },
    {
     "name": "stderr",
     "output_type": "stream",
     "text": [
      "  6%|\u001b[38;2;128;0;0m██████▎                                                                                             \u001b[0m| 18/283 [00:05<01:05,  4.07it/s]\u001b[0m"
     ]
    },
    {
     "name": "stdout",
     "output_type": "stream",
     "text": [
      "Warning: stress tensor calculation not fully tested\n"
     ]
    },
    {
     "name": "stderr",
     "output_type": "stream",
     "text": [
      "  7%|\u001b[38;2;128;0;0m██████▋                                                                                             \u001b[0m| 19/283 [00:05<01:10,  3.72it/s]\u001b[0m"
     ]
    },
    {
     "name": "stdout",
     "output_type": "stream",
     "text": [
      "Warning: stress tensor calculation not fully tested\n"
     ]
    },
    {
     "name": "stderr",
     "output_type": "stream",
     "text": [
      "  7%|\u001b[38;2;128;0;0m███████                                                                                             \u001b[0m| 20/283 [00:05<01:15,  3.51it/s]\u001b[0m"
     ]
    },
    {
     "name": "stdout",
     "output_type": "stream",
     "text": [
      "Warning: stress tensor calculation not fully tested\n"
     ]
    },
    {
     "name": "stderr",
     "output_type": "stream",
     "text": [
      "  7%|\u001b[38;2;128;0;0m███████▍                                                                                            \u001b[0m| 21/283 [00:06<01:17,  3.38it/s]\u001b[0m"
     ]
    },
    {
     "name": "stdout",
     "output_type": "stream",
     "text": [
      "Warning: stress tensor calculation not fully tested\n"
     ]
    },
    {
     "name": "stderr",
     "output_type": "stream",
     "text": [
      "  8%|\u001b[38;2;128;0;0m███████▊                                                                                            \u001b[0m| 22/283 [00:06<01:19,  3.28it/s]\u001b[0m"
     ]
    },
    {
     "name": "stdout",
     "output_type": "stream",
     "text": [
      "Warning: stress tensor calculation not fully tested\n"
     ]
    },
    {
     "name": "stderr",
     "output_type": "stream",
     "text": [
      "  8%|\u001b[38;2;128;0;0m████████▏                                                                                           \u001b[0m| 23/283 [00:06<01:23,  3.12it/s]\u001b[0m"
     ]
    },
    {
     "name": "stdout",
     "output_type": "stream",
     "text": [
      "Warning: stress tensor calculation not fully tested\n"
     ]
    },
    {
     "name": "stderr",
     "output_type": "stream",
     "text": [
      "  8%|\u001b[38;2;128;0;0m████████▍                                                                                           \u001b[0m| 24/283 [00:07<01:22,  3.12it/s]\u001b[0m"
     ]
    },
    {
     "name": "stdout",
     "output_type": "stream",
     "text": [
      "Warning: stress tensor calculation not fully tested\n"
     ]
    },
    {
     "name": "stderr",
     "output_type": "stream",
     "text": [
      "  9%|\u001b[38;2;128;0;0m████████▊                                                                                           \u001b[0m| 25/283 [00:07<01:22,  3.11it/s]\u001b[0m"
     ]
    },
    {
     "name": "stdout",
     "output_type": "stream",
     "text": [
      "Warning: stress tensor calculation not fully tested\n"
     ]
    },
    {
     "name": "stderr",
     "output_type": "stream",
     "text": [
      "  9%|\u001b[38;2;128;0;0m█████████▏                                                                                          \u001b[0m| 26/283 [00:07<01:25,  3.00it/s]\u001b[0m"
     ]
    },
    {
     "name": "stdout",
     "output_type": "stream",
     "text": [
      "Warning: stress tensor calculation not fully tested\n"
     ]
    },
    {
     "name": "stderr",
     "output_type": "stream",
     "text": [
      " 10%|\u001b[38;2;128;0;0m█████████▌                                                                                          \u001b[0m| 27/283 [00:08<01:21,  3.12it/s]\u001b[0m"
     ]
    },
    {
     "name": "stdout",
     "output_type": "stream",
     "text": [
      "Warning: stress tensor calculation not fully tested\n"
     ]
    },
    {
     "name": "stderr",
     "output_type": "stream",
     "text": [
      " 10%|\u001b[38;2;128;0;0m█████████▉                                                                                          \u001b[0m| 28/283 [00:08<01:20,  3.16it/s]\u001b[0m"
     ]
    },
    {
     "name": "stdout",
     "output_type": "stream",
     "text": [
      "Warning: stress tensor calculation not fully tested\n"
     ]
    },
    {
     "name": "stderr",
     "output_type": "stream",
     "text": [
      " 10%|\u001b[38;2;128;0;0m██████████▏                                                                                         \u001b[0m| 29/283 [00:08<01:34,  2.70it/s]\u001b[0m"
     ]
    },
    {
     "name": "stdout",
     "output_type": "stream",
     "text": [
      "Warning: stress tensor calculation not fully tested\n"
     ]
    },
    {
     "name": "stderr",
     "output_type": "stream",
     "text": [
      " 11%|\u001b[38;2;128;0;0m██████████▉                                                                                         \u001b[0m| 31/283 [00:09<01:08,  3.67it/s]\u001b[0m"
     ]
    },
    {
     "name": "stdout",
     "output_type": "stream",
     "text": [
      "Warning: stress tensor calculation not fully tested\n"
     ]
    },
    {
     "name": "stderr",
     "output_type": "stream",
     "text": [
      " 11%|\u001b[38;2;128;0;0m███████████▎                                                                                        \u001b[0m| 32/283 [00:09<01:10,  3.56it/s]\u001b[0m"
     ]
    },
    {
     "name": "stdout",
     "output_type": "stream",
     "text": [
      "Warning: stress tensor calculation not fully tested\n"
     ]
    },
    {
     "name": "stderr",
     "output_type": "stream",
     "text": [
      " 12%|\u001b[38;2;128;0;0m███████████▋                                                                                        \u001b[0m| 33/283 [00:09<01:13,  3.42it/s]\u001b[0m"
     ]
    },
    {
     "name": "stdout",
     "output_type": "stream",
     "text": [
      "Warning: stress tensor calculation not fully tested\n"
     ]
    },
    {
     "name": "stderr",
     "output_type": "stream",
     "text": [
      " 12%|\u001b[38;2;128;0;0m████████████                                                                                        \u001b[0m| 34/283 [00:10<01:13,  3.40it/s]\u001b[0m"
     ]
    },
    {
     "name": "stdout",
     "output_type": "stream",
     "text": [
      "Warning: stress tensor calculation not fully tested\n"
     ]
    },
    {
     "name": "stderr",
     "output_type": "stream",
     "text": [
      " 12%|\u001b[38;2;128;0;0m████████████▎                                                                                       \u001b[0m| 35/283 [00:10<01:13,  3.39it/s]\u001b[0m"
     ]
    },
    {
     "name": "stdout",
     "output_type": "stream",
     "text": [
      "Warning: stress tensor calculation not fully tested\n"
     ]
    },
    {
     "name": "stderr",
     "output_type": "stream",
     "text": [
      " 13%|\u001b[38;2;128;0;0m████████████▋                                                                                       \u001b[0m| 36/283 [00:10<01:11,  3.44it/s]\u001b[0m"
     ]
    },
    {
     "name": "stdout",
     "output_type": "stream",
     "text": [
      "Warning: stress tensor calculation not fully tested\n"
     ]
    },
    {
     "name": "stderr",
     "output_type": "stream",
     "text": [
      " 13%|\u001b[38;2;128;0;0m█████████████                                                                                       \u001b[0m| 37/283 [00:10<01:12,  3.37it/s]\u001b[0m"
     ]
    },
    {
     "name": "stdout",
     "output_type": "stream",
     "text": [
      "Warning: stress tensor calculation not fully tested\n"
     ]
    },
    {
     "name": "stderr",
     "output_type": "stream",
     "text": [
      " 13%|\u001b[38;2;128;0;0m█████████████▍                                                                                      \u001b[0m| 38/283 [00:11<01:15,  3.26it/s]\u001b[0m"
     ]
    },
    {
     "name": "stdout",
     "output_type": "stream",
     "text": [
      "Warning: stress tensor calculation not fully tested\n"
     ]
    },
    {
     "name": "stderr",
     "output_type": "stream",
     "text": [
      " 14%|\u001b[38;2;128;0;0m█████████████▊                                                                                      \u001b[0m| 39/283 [00:11<01:17,  3.17it/s]\u001b[0m"
     ]
    },
    {
     "name": "stdout",
     "output_type": "stream",
     "text": [
      "Warning: stress tensor calculation not fully tested\n"
     ]
    },
    {
     "name": "stderr",
     "output_type": "stream",
     "text": [
      " 14%|\u001b[38;2;128;0;0m██████████████▏                                                                                     \u001b[0m| 40/283 [00:11<01:12,  3.34it/s]\u001b[0m"
     ]
    },
    {
     "name": "stdout",
     "output_type": "stream",
     "text": [
      "Warning: stress tensor calculation not fully tested\n"
     ]
    },
    {
     "name": "stderr",
     "output_type": "stream",
     "text": [
      " 14%|\u001b[38;2;128;0;0m██████████████▍                                                                                     \u001b[0m| 41/283 [00:12<01:09,  3.49it/s]\u001b[0m"
     ]
    },
    {
     "name": "stdout",
     "output_type": "stream",
     "text": [
      "Warning: stress tensor calculation not fully tested\n"
     ]
    },
    {
     "name": "stderr",
     "output_type": "stream",
     "text": [
      " 15%|\u001b[38;2;128;0;0m██████████████▊                                                                                     \u001b[0m| 42/283 [00:12<01:05,  3.65it/s]\u001b[0m"
     ]
    },
    {
     "name": "stdout",
     "output_type": "stream",
     "text": [
      "Warning: stress tensor calculation not fully tested\n"
     ]
    },
    {
     "name": "stderr",
     "output_type": "stream",
     "text": [
      " 15%|\u001b[38;2;128;0;0m███████████████▏                                                                                    \u001b[0m| 43/283 [00:12<01:03,  3.79it/s]\u001b[0m"
     ]
    },
    {
     "name": "stdout",
     "output_type": "stream",
     "text": [
      "Warning: stress tensor calculation not fully tested\n"
     ]
    },
    {
     "name": "stderr",
     "output_type": "stream",
     "text": [
      " 16%|\u001b[38;2;128;0;0m███████████████▌                                                                                    \u001b[0m| 44/283 [00:13<01:12,  3.31it/s]\u001b[0m"
     ]
    },
    {
     "name": "stdout",
     "output_type": "stream",
     "text": [
      "Warning: stress tensor calculation not fully tested\n"
     ]
    },
    {
     "name": "stderr",
     "output_type": "stream",
     "text": [
      " 16%|\u001b[38;2;128;0;0m███████████████▉                                                                                    \u001b[0m| 45/283 [00:13<01:17,  3.09it/s]\u001b[0m"
     ]
    },
    {
     "name": "stdout",
     "output_type": "stream",
     "text": [
      "Warning: stress tensor calculation not fully tested\n"
     ]
    },
    {
     "name": "stderr",
     "output_type": "stream",
     "text": [
      " 16%|\u001b[38;2;128;0;0m████████████████▎                                                                                   \u001b[0m| 46/283 [00:13<01:13,  3.23it/s]\u001b[0m"
     ]
    },
    {
     "name": "stdout",
     "output_type": "stream",
     "text": [
      "Warning: stress tensor calculation not fully tested\n"
     ]
    },
    {
     "name": "stderr",
     "output_type": "stream",
     "text": [
      " 17%|\u001b[38;2;128;0;0m████████████████▉                                                                                   \u001b[0m| 48/283 [00:14<01:00,  3.87it/s]\u001b[0m"
     ]
    },
    {
     "name": "stdout",
     "output_type": "stream",
     "text": [
      "Warning: stress tensor calculation not fully tested\n"
     ]
    },
    {
     "name": "stderr",
     "output_type": "stream",
     "text": [
      " 17%|\u001b[38;2;128;0;0m█████████████████▎                                                                                  \u001b[0m| 49/283 [00:14<01:07,  3.47it/s]\u001b[0m"
     ]
    },
    {
     "name": "stdout",
     "output_type": "stream",
     "text": [
      "Warning: stress tensor calculation not fully tested\n"
     ]
    },
    {
     "name": "stderr",
     "output_type": "stream",
     "text": [
      " 18%|\u001b[38;2;128;0;0m█████████████████▋                                                                                  \u001b[0m| 50/283 [00:14<01:06,  3.50it/s]\u001b[0m"
     ]
    },
    {
     "name": "stdout",
     "output_type": "stream",
     "text": [
      "Warning: stress tensor calculation not fully tested\n"
     ]
    },
    {
     "name": "stderr",
     "output_type": "stream",
     "text": [
      " 18%|\u001b[38;2;128;0;0m██████████████████▎                                                                                 \u001b[0m| 52/283 [00:15<00:58,  3.96it/s]\u001b[0m"
     ]
    },
    {
     "name": "stdout",
     "output_type": "stream",
     "text": [
      "Warning: stress tensor calculation not fully tested\n"
     ]
    },
    {
     "name": "stderr",
     "output_type": "stream",
     "text": [
      " 19%|\u001b[38;2;128;0;0m███████████████████                                                                                 \u001b[0m| 54/283 [00:15<00:50,  4.58it/s]\u001b[0m"
     ]
    },
    {
     "name": "stdout",
     "output_type": "stream",
     "text": [
      "Warning: stress tensor calculation not fully tested\n"
     ]
    },
    {
     "name": "stderr",
     "output_type": "stream",
     "text": [
      " 19%|\u001b[38;2;128;0;0m███████████████████▍                                                                                \u001b[0m| 55/283 [00:15<00:53,  4.23it/s]\u001b[0m"
     ]
    },
    {
     "name": "stdout",
     "output_type": "stream",
     "text": [
      "Warning: stress tensor calculation not fully tested\n"
     ]
    },
    {
     "name": "stderr",
     "output_type": "stream",
     "text": [
      " 20%|\u001b[38;2;128;0;0m███████████████████▊                                                                                \u001b[0m| 56/283 [00:16<00:57,  3.97it/s]\u001b[0m"
     ]
    },
    {
     "name": "stdout",
     "output_type": "stream",
     "text": [
      "Warning: stress tensor calculation not fully tested\n"
     ]
    },
    {
     "name": "stderr",
     "output_type": "stream",
     "text": [
      " 20%|\u001b[38;2;128;0;0m████████████████████▏                                                                               \u001b[0m| 57/283 [00:16<01:00,  3.75it/s]\u001b[0m"
     ]
    },
    {
     "name": "stdout",
     "output_type": "stream",
     "text": [
      "Warning: stress tensor calculation not fully tested\n"
     ]
    },
    {
     "name": "stderr",
     "output_type": "stream",
     "text": [
      " 20%|\u001b[38;2;128;0;0m████████████████████▍                                                                               \u001b[0m| 58/283 [00:16<01:02,  3.61it/s]\u001b[0m"
     ]
    },
    {
     "name": "stdout",
     "output_type": "stream",
     "text": [
      "Warning: stress tensor calculation not fully tested\n"
     ]
    },
    {
     "name": "stderr",
     "output_type": "stream",
     "text": [
      " 21%|\u001b[38;2;128;0;0m████████████████████▊                                                                               \u001b[0m| 59/283 [00:16<01:03,  3.50it/s]\u001b[0m"
     ]
    },
    {
     "name": "stdout",
     "output_type": "stream",
     "text": [
      "Warning: stress tensor calculation not fully tested\n"
     ]
    },
    {
     "name": "stderr",
     "output_type": "stream",
     "text": [
      " 21%|\u001b[38;2;128;0;0m█████████████████████▏                                                                              \u001b[0m| 60/283 [00:17<01:05,  3.38it/s]\u001b[0m"
     ]
    },
    {
     "name": "stdout",
     "output_type": "stream",
     "text": [
      "Warning: stress tensor calculation not fully tested\n"
     ]
    },
    {
     "name": "stderr",
     "output_type": "stream",
     "text": [
      " 22%|\u001b[38;2;128;0;0m█████████████████████▌                                                                              \u001b[0m| 61/283 [00:17<01:02,  3.55it/s]\u001b[0m"
     ]
    },
    {
     "name": "stdout",
     "output_type": "stream",
     "text": [
      "Warning: stress tensor calculation not fully tested\n"
     ]
    },
    {
     "name": "stderr",
     "output_type": "stream",
     "text": [
      " 22%|\u001b[38;2;128;0;0m██████████████████████▎                                                                             \u001b[0m| 63/283 [00:17<00:46,  4.73it/s]\u001b[0m"
     ]
    },
    {
     "name": "stdout",
     "output_type": "stream",
     "text": [
      "Warning: stress tensor calculation not fully tested\n"
     ]
    },
    {
     "name": "stderr",
     "output_type": "stream",
     "text": [
      " 23%|\u001b[38;2;128;0;0m██████████████████████▌                                                                             \u001b[0m| 64/283 [00:18<00:48,  4.51it/s]\u001b[0m"
     ]
    },
    {
     "name": "stdout",
     "output_type": "stream",
     "text": [
      "Warning: stress tensor calculation not fully tested\n"
     ]
    },
    {
     "name": "stderr",
     "output_type": "stream",
     "text": [
      " 23%|\u001b[38;2;128;0;0m██████████████████████▉                                                                             \u001b[0m| 65/283 [00:18<00:52,  4.12it/s]\u001b[0m"
     ]
    },
    {
     "name": "stdout",
     "output_type": "stream",
     "text": [
      "Warning: stress tensor calculation not fully tested\n"
     ]
    },
    {
     "name": "stderr",
     "output_type": "stream",
     "text": [
      " 23%|\u001b[38;2;128;0;0m███████████████████████▎                                                                            \u001b[0m| 66/283 [00:18<00:55,  3.89it/s]\u001b[0m"
     ]
    },
    {
     "name": "stdout",
     "output_type": "stream",
     "text": [
      "Warning: stress tensor calculation not fully tested\n"
     ]
    },
    {
     "name": "stderr",
     "output_type": "stream",
     "text": [
      " 24%|\u001b[38;2;128;0;0m███████████████████████▋                                                                            \u001b[0m| 67/283 [00:18<00:57,  3.74it/s]\u001b[0m"
     ]
    },
    {
     "name": "stdout",
     "output_type": "stream",
     "text": [
      "Warning: stress tensor calculation not fully tested\n"
     ]
    },
    {
     "name": "stderr",
     "output_type": "stream",
     "text": [
      " 24%|\u001b[38;2;128;0;0m████████████████████████                                                                            \u001b[0m| 68/283 [00:19<00:59,  3.60it/s]\u001b[0m"
     ]
    },
    {
     "name": "stdout",
     "output_type": "stream",
     "text": [
      "Warning: stress tensor calculation not fully tested\n"
     ]
    },
    {
     "name": "stderr",
     "output_type": "stream",
     "text": [
      " 24%|\u001b[38;2;128;0;0m████████████████████████▍                                                                           \u001b[0m| 69/283 [00:19<01:01,  3.48it/s]\u001b[0m"
     ]
    },
    {
     "name": "stdout",
     "output_type": "stream",
     "text": [
      "Warning: stress tensor calculation not fully tested\n"
     ]
    },
    {
     "name": "stderr",
     "output_type": "stream",
     "text": [
      " 25%|\u001b[38;2;128;0;0m████████████████████████▋                                                                           \u001b[0m| 70/283 [00:19<01:02,  3.41it/s]\u001b[0m"
     ]
    },
    {
     "name": "stdout",
     "output_type": "stream",
     "text": [
      "Warning: stress tensor calculation not fully tested\n"
     ]
    },
    {
     "name": "stderr",
     "output_type": "stream",
     "text": [
      " 25%|\u001b[38;2;128;0;0m█████████████████████████                                                                           \u001b[0m| 71/283 [00:20<01:02,  3.37it/s]\u001b[0m"
     ]
    },
    {
     "name": "stdout",
     "output_type": "stream",
     "text": [
      "Warning: stress tensor calculation not fully tested\n"
     ]
    },
    {
     "name": "stderr",
     "output_type": "stream",
     "text": [
      " 25%|\u001b[38;2;128;0;0m█████████████████████████▍                                                                          \u001b[0m| 72/283 [00:20<01:03,  3.30it/s]\u001b[0m"
     ]
    },
    {
     "name": "stdout",
     "output_type": "stream",
     "text": [
      "Warning: stress tensor calculation not fully tested\n"
     ]
    },
    {
     "name": "stderr",
     "output_type": "stream",
     "text": [
      " 26%|\u001b[38;2;128;0;0m█████████████████████████▊                                                                          \u001b[0m| 73/283 [00:20<01:01,  3.43it/s]\u001b[0m"
     ]
    },
    {
     "name": "stdout",
     "output_type": "stream",
     "text": [
      "Warning: stress tensor calculation not fully tested\n"
     ]
    },
    {
     "name": "stderr",
     "output_type": "stream",
     "text": [
      " 26%|\u001b[38;2;128;0;0m██████████████████████████▏                                                                         \u001b[0m| 74/283 [00:21<00:59,  3.49it/s]\u001b[0m"
     ]
    },
    {
     "name": "stdout",
     "output_type": "stream",
     "text": [
      "Warning: stress tensor calculation not fully tested\n"
     ]
    },
    {
     "name": "stderr",
     "output_type": "stream",
     "text": [
      " 27%|\u001b[38;2;128;0;0m██████████████████████████▌                                                                         \u001b[0m| 75/283 [00:21<01:00,  3.43it/s]\u001b[0m"
     ]
    },
    {
     "name": "stdout",
     "output_type": "stream",
     "text": [
      "Warning: stress tensor calculation not fully tested\n"
     ]
    },
    {
     "name": "stderr",
     "output_type": "stream",
     "text": [
      " 27%|\u001b[38;2;128;0;0m██████████████████████████▊                                                                         \u001b[0m| 76/283 [00:21<01:01,  3.39it/s]\u001b[0m"
     ]
    },
    {
     "name": "stdout",
     "output_type": "stream",
     "text": [
      "Warning: stress tensor calculation not fully tested\n"
     ]
    },
    {
     "name": "stderr",
     "output_type": "stream",
     "text": [
      " 27%|\u001b[38;2;128;0;0m███████████████████████████▏                                                                        \u001b[0m| 77/283 [00:21<01:01,  3.34it/s]\u001b[0m"
     ]
    },
    {
     "name": "stdout",
     "output_type": "stream",
     "text": [
      "Warning: stress tensor calculation not fully tested\n"
     ]
    },
    {
     "name": "stderr",
     "output_type": "stream",
     "text": [
      " 28%|\u001b[38;2;128;0;0m███████████████████████████▌                                                                        \u001b[0m| 78/283 [00:22<01:02,  3.26it/s]\u001b[0m"
     ]
    },
    {
     "name": "stdout",
     "output_type": "stream",
     "text": [
      "Warning: stress tensor calculation not fully tested\n"
     ]
    },
    {
     "name": "stderr",
     "output_type": "stream",
     "text": [
      " 28%|\u001b[38;2;128;0;0m███████████████████████████▉                                                                        \u001b[0m| 79/283 [00:22<01:02,  3.28it/s]\u001b[0m"
     ]
    },
    {
     "name": "stdout",
     "output_type": "stream",
     "text": [
      "Warning: stress tensor calculation not fully tested\n"
     ]
    },
    {
     "name": "stderr",
     "output_type": "stream",
     "text": [
      " 28%|\u001b[38;2;128;0;0m████████████████████████████▎                                                                       \u001b[0m| 80/283 [00:22<01:02,  3.26it/s]\u001b[0m"
     ]
    },
    {
     "name": "stdout",
     "output_type": "stream",
     "text": [
      "Warning: stress tensor calculation not fully tested\n"
     ]
    },
    {
     "name": "stderr",
     "output_type": "stream",
     "text": [
      " 29%|\u001b[38;2;128;0;0m████████████████████████████▌                                                                       \u001b[0m| 81/283 [00:23<01:01,  3.27it/s]\u001b[0m"
     ]
    },
    {
     "name": "stdout",
     "output_type": "stream",
     "text": [
      "Warning: stress tensor calculation not fully tested\n"
     ]
    },
    {
     "name": "stderr",
     "output_type": "stream",
     "text": [
      " 29%|\u001b[38;2;128;0;0m████████████████████████████▉                                                                       \u001b[0m| 82/283 [00:23<00:59,  3.36it/s]\u001b[0m"
     ]
    },
    {
     "name": "stdout",
     "output_type": "stream",
     "text": [
      "Warning: stress tensor calculation not fully tested\n"
     ]
    },
    {
     "name": "stderr",
     "output_type": "stream",
     "text": [
      " 30%|\u001b[38;2;128;0;0m█████████████████████████████▋                                                                      \u001b[0m| 84/283 [00:23<00:45,  4.38it/s]\u001b[0m"
     ]
    },
    {
     "name": "stdout",
     "output_type": "stream",
     "text": [
      "Warning: stress tensor calculation not fully tested\n"
     ]
    },
    {
     "name": "stderr",
     "output_type": "stream",
     "text": [
      " 30%|\u001b[38;2;128;0;0m██████████████████████████████▍                                                                     \u001b[0m| 86/283 [00:24<00:41,  4.71it/s]\u001b[0m"
     ]
    },
    {
     "name": "stdout",
     "output_type": "stream",
     "text": [
      "Warning: stress tensor calculation not fully tested\n"
     ]
    },
    {
     "name": "stderr",
     "output_type": "stream",
     "text": [
      " 31%|\u001b[38;2;128;0;0m██████████████████████████████▋                                                                     \u001b[0m| 87/283 [00:24<00:48,  4.07it/s]\u001b[0m"
     ]
    },
    {
     "name": "stdout",
     "output_type": "stream",
     "text": [
      "Warning: stress tensor calculation not fully tested\n"
     ]
    },
    {
     "name": "stderr",
     "output_type": "stream",
     "text": [
      " 31%|\u001b[38;2;128;0;0m███████████████████████████████                                                                     \u001b[0m| 88/283 [00:24<00:54,  3.61it/s]\u001b[0m"
     ]
    },
    {
     "name": "stdout",
     "output_type": "stream",
     "text": [
      "Warning: stress tensor calculation not fully tested\n"
     ]
    },
    {
     "name": "stderr",
     "output_type": "stream",
     "text": [
      " 31%|\u001b[38;2;128;0;0m███████████████████████████████▍                                                                    \u001b[0m| 89/283 [00:25<00:55,  3.50it/s]\u001b[0m"
     ]
    },
    {
     "name": "stdout",
     "output_type": "stream",
     "text": [
      "Warning: stress tensor calculation not fully tested\n"
     ]
    },
    {
     "name": "stderr",
     "output_type": "stream",
     "text": [
      " 32%|\u001b[38;2;128;0;0m███████████████████████████████▊                                                                    \u001b[0m| 90/283 [00:25<00:56,  3.42it/s]\u001b[0m"
     ]
    },
    {
     "name": "stdout",
     "output_type": "stream",
     "text": [
      "Warning: stress tensor calculation not fully tested\n"
     ]
    },
    {
     "name": "stderr",
     "output_type": "stream",
     "text": [
      " 32%|\u001b[38;2;128;0;0m████████████████████████████████▏                                                                   \u001b[0m| 91/283 [00:25<00:59,  3.24it/s]\u001b[0m"
     ]
    },
    {
     "name": "stdout",
     "output_type": "stream",
     "text": [
      "Warning: stress tensor calculation not fully tested\n"
     ]
    },
    {
     "name": "stderr",
     "output_type": "stream",
     "text": [
      " 33%|\u001b[38;2;128;0;0m████████████████████████████████▌                                                                   \u001b[0m| 92/283 [00:26<00:59,  3.24it/s]\u001b[0m"
     ]
    },
    {
     "name": "stdout",
     "output_type": "stream",
     "text": [
      "Warning: stress tensor calculation not fully tested\n"
     ]
    },
    {
     "name": "stderr",
     "output_type": "stream",
     "text": [
      " 33%|\u001b[38;2;128;0;0m████████████████████████████████▊                                                                   \u001b[0m| 93/283 [00:26<00:58,  3.24it/s]\u001b[0m"
     ]
    },
    {
     "name": "stdout",
     "output_type": "stream",
     "text": [
      "Warning: stress tensor calculation not fully tested\n"
     ]
    },
    {
     "name": "stderr",
     "output_type": "stream",
     "text": [
      " 33%|\u001b[38;2;128;0;0m█████████████████████████████████▏                                                                  \u001b[0m| 94/283 [00:26<00:58,  3.22it/s]\u001b[0m"
     ]
    },
    {
     "name": "stdout",
     "output_type": "stream",
     "text": [
      "Warning: stress tensor calculation not fully tested\n"
     ]
    },
    {
     "name": "stderr",
     "output_type": "stream",
     "text": [
      " 34%|\u001b[38;2;128;0;0m█████████████████████████████████▌                                                                  \u001b[0m| 95/283 [00:27<00:58,  3.20it/s]\u001b[0m"
     ]
    },
    {
     "name": "stdout",
     "output_type": "stream",
     "text": [
      "Warning: stress tensor calculation not fully tested\n"
     ]
    },
    {
     "name": "stderr",
     "output_type": "stream",
     "text": [
      " 34%|\u001b[38;2;128;0;0m██████████████████████████████████▎                                                                 \u001b[0m| 97/283 [00:27<00:44,  4.22it/s]\u001b[0m"
     ]
    },
    {
     "name": "stdout",
     "output_type": "stream",
     "text": [
      "Warning: stress tensor calculation not fully tested\n"
     ]
    },
    {
     "name": "stderr",
     "output_type": "stream",
     "text": [
      " 35%|\u001b[38;2;128;0;0m██████████████████████████████████▉                                                                 \u001b[0m| 99/283 [00:27<00:38,  4.79it/s]\u001b[0m"
     ]
    },
    {
     "name": "stdout",
     "output_type": "stream",
     "text": [
      "Warning: stress tensor calculation not fully tested\n"
     ]
    },
    {
     "name": "stderr",
     "output_type": "stream",
     "text": [
      " 35%|\u001b[38;2;128;0;0m██████████████████████████████████▉                                                                \u001b[0m| 100/283 [00:28<00:42,  4.30it/s]\u001b[0m"
     ]
    },
    {
     "name": "stdout",
     "output_type": "stream",
     "text": [
      "Warning: stress tensor calculation not fully tested\n"
     ]
    },
    {
     "name": "stderr",
     "output_type": "stream",
     "text": [
      " 36%|\u001b[38;2;128;0;0m███████████████████████████████████▎                                                               \u001b[0m| 101/283 [00:28<00:46,  3.91it/s]\u001b[0m"
     ]
    },
    {
     "name": "stdout",
     "output_type": "stream",
     "text": [
      "Warning: stress tensor calculation not fully tested\n"
     ]
    },
    {
     "name": "stderr",
     "output_type": "stream",
     "text": [
      " 36%|\u001b[38;2;128;0;0m███████████████████████████████████▋                                                               \u001b[0m| 102/283 [00:28<00:48,  3.70it/s]\u001b[0m"
     ]
    },
    {
     "name": "stdout",
     "output_type": "stream",
     "text": [
      "Warning: stress tensor calculation not fully tested\n"
     ]
    },
    {
     "name": "stderr",
     "output_type": "stream",
     "text": [
      " 36%|\u001b[38;2;128;0;0m████████████████████████████████████                                                               \u001b[0m| 103/283 [00:29<00:51,  3.46it/s]\u001b[0m"
     ]
    },
    {
     "name": "stdout",
     "output_type": "stream",
     "text": [
      "Warning: stress tensor calculation not fully tested\n"
     ]
    },
    {
     "name": "stderr",
     "output_type": "stream",
     "text": [
      " 37%|\u001b[38;2;128;0;0m████████████████████████████████████▍                                                              \u001b[0m| 104/283 [00:29<00:53,  3.33it/s]\u001b[0m"
     ]
    },
    {
     "name": "stdout",
     "output_type": "stream",
     "text": [
      "Warning: stress tensor calculation not fully tested\n"
     ]
    },
    {
     "name": "stderr",
     "output_type": "stream",
     "text": [
      " 37%|\u001b[38;2;128;0;0m████████████████████████████████████▋                                                              \u001b[0m| 105/283 [00:29<00:54,  3.28it/s]\u001b[0m"
     ]
    },
    {
     "name": "stdout",
     "output_type": "stream",
     "text": [
      "Warning: stress tensor calculation not fully tested\n"
     ]
    },
    {
     "name": "stderr",
     "output_type": "stream",
     "text": [
      " 38%|\u001b[38;2;128;0;0m█████████████████████████████████████▍                                                             \u001b[0m| 107/283 [00:30<00:44,  3.91it/s]\u001b[0m"
     ]
    },
    {
     "name": "stdout",
     "output_type": "stream",
     "text": [
      "Warning: stress tensor calculation not fully tested\n"
     ]
    },
    {
     "name": "stderr",
     "output_type": "stream",
     "text": [
      " 38%|\u001b[38;2;128;0;0m█████████████████████████████████████▊                                                             \u001b[0m| 108/283 [00:30<00:52,  3.35it/s]\u001b[0m"
     ]
    },
    {
     "name": "stdout",
     "output_type": "stream",
     "text": [
      "Warning: stress tensor calculation not fully tested\n"
     ]
    },
    {
     "name": "stderr",
     "output_type": "stream",
     "text": [
      " 39%|\u001b[38;2;128;0;0m██████████████████████████████████████▏                                                            \u001b[0m| 109/283 [00:30<00:54,  3.17it/s]\u001b[0m"
     ]
    },
    {
     "name": "stdout",
     "output_type": "stream",
     "text": [
      "Warning: stress tensor calculation not fully tested\n"
     ]
    },
    {
     "name": "stderr",
     "output_type": "stream",
     "text": [
      " 39%|\u001b[38;2;128;0;0m██████████████████████████████████████▍                                                            \u001b[0m| 110/283 [00:31<00:57,  3.00it/s]\u001b[0m"
     ]
    },
    {
     "name": "stdout",
     "output_type": "stream",
     "text": [
      "Warning: stress tensor calculation not fully tested\n"
     ]
    },
    {
     "name": "stderr",
     "output_type": "stream",
     "text": [
      " 39%|\u001b[38;2;128;0;0m██████████████████████████████████████▊                                                            \u001b[0m| 111/283 [00:31<00:58,  2.92it/s]\u001b[0m"
     ]
    },
    {
     "name": "stdout",
     "output_type": "stream",
     "text": [
      "Warning: stress tensor calculation not fully tested\n"
     ]
    },
    {
     "name": "stderr",
     "output_type": "stream",
     "text": [
      " 40%|\u001b[38;2;128;0;0m███████████████████████████████████████▏                                                           \u001b[0m| 112/283 [00:31<00:59,  2.86it/s]\u001b[0m"
     ]
    },
    {
     "name": "stdout",
     "output_type": "stream",
     "text": [
      "Warning: stress tensor calculation not fully tested\n"
     ]
    },
    {
     "name": "stderr",
     "output_type": "stream",
     "text": [
      " 40%|\u001b[38;2;128;0;0m███████████████████████████████████████▌                                                           \u001b[0m| 113/283 [00:32<00:57,  2.97it/s]\u001b[0m"
     ]
    },
    {
     "name": "stdout",
     "output_type": "stream",
     "text": [
      "Warning: stress tensor calculation not fully tested\n"
     ]
    },
    {
     "name": "stderr",
     "output_type": "stream",
     "text": [
      " 40%|\u001b[38;2;128;0;0m███████████████████████████████████████▉                                                           \u001b[0m| 114/283 [00:32<00:52,  3.19it/s]\u001b[0m"
     ]
    },
    {
     "name": "stdout",
     "output_type": "stream",
     "text": [
      "Warning: stress tensor calculation not fully tested\n"
     ]
    },
    {
     "name": "stderr",
     "output_type": "stream",
     "text": [
      " 41%|\u001b[38;2;128;0;0m████████████████████████████████████████▏                                                          \u001b[0m| 115/283 [00:32<00:49,  3.38it/s]\u001b[0m"
     ]
    },
    {
     "name": "stdout",
     "output_type": "stream",
     "text": [
      "Warning: stress tensor calculation not fully tested\n"
     ]
    },
    {
     "name": "stderr",
     "output_type": "stream",
     "text": [
      " 41%|\u001b[38;2;128;0;0m████████████████████████████████████████▌                                                          \u001b[0m| 116/283 [00:33<00:47,  3.52it/s]\u001b[0m"
     ]
    },
    {
     "name": "stdout",
     "output_type": "stream",
     "text": [
      "Warning: stress tensor calculation not fully tested\n"
     ]
    },
    {
     "name": "stderr",
     "output_type": "stream",
     "text": [
      " 41%|\u001b[38;2;128;0;0m████████████████████████████████████████▉                                                          \u001b[0m| 117/283 [00:33<00:50,  3.31it/s]\u001b[0m"
     ]
    },
    {
     "name": "stdout",
     "output_type": "stream",
     "text": [
      "Warning: stress tensor calculation not fully tested\n"
     ]
    },
    {
     "name": "stderr",
     "output_type": "stream",
     "text": [
      " 42%|\u001b[38;2;128;0;0m█████████████████████████████████████████▎                                                         \u001b[0m| 118/283 [00:33<00:51,  3.22it/s]\u001b[0m"
     ]
    },
    {
     "name": "stdout",
     "output_type": "stream",
     "text": [
      "Warning: stress tensor calculation not fully tested\n"
     ]
    },
    {
     "name": "stderr",
     "output_type": "stream",
     "text": [
      " 42%|\u001b[38;2;128;0;0m█████████████████████████████████████████▋                                                         \u001b[0m| 119/283 [00:34<00:51,  3.17it/s]\u001b[0m"
     ]
    },
    {
     "name": "stdout",
     "output_type": "stream",
     "text": [
      "Warning: stress tensor calculation not fully tested\n"
     ]
    },
    {
     "name": "stderr",
     "output_type": "stream",
     "text": [
      " 42%|\u001b[38;2;128;0;0m█████████████████████████████████████████▉                                                         \u001b[0m| 120/283 [00:34<00:52,  3.13it/s]\u001b[0m"
     ]
    },
    {
     "name": "stdout",
     "output_type": "stream",
     "text": [
      "Warning: stress tensor calculation not fully tested\n"
     ]
    },
    {
     "name": "stderr",
     "output_type": "stream",
     "text": [
      " 43%|\u001b[38;2;128;0;0m██████████████████████████████████████████▎                                                        \u001b[0m| 121/283 [00:34<00:53,  3.03it/s]\u001b[0m"
     ]
    },
    {
     "name": "stdout",
     "output_type": "stream",
     "text": [
      "Warning: stress tensor calculation not fully tested\n"
     ]
    },
    {
     "name": "stderr",
     "output_type": "stream",
     "text": [
      " 43%|\u001b[38;2;128;0;0m██████████████████████████████████████████▋                                                        \u001b[0m| 122/283 [00:35<00:52,  3.05it/s]\u001b[0m"
     ]
    },
    {
     "name": "stdout",
     "output_type": "stream",
     "text": [
      "Warning: stress tensor calculation not fully tested\n"
     ]
    },
    {
     "name": "stderr",
     "output_type": "stream",
     "text": [
      " 43%|\u001b[38;2;128;0;0m███████████████████████████████████████████                                                        \u001b[0m| 123/283 [00:35<00:52,  3.06it/s]\u001b[0m"
     ]
    },
    {
     "name": "stdout",
     "output_type": "stream",
     "text": [
      "Warning: stress tensor calculation not fully tested\n"
     ]
    },
    {
     "name": "stderr",
     "output_type": "stream",
     "text": [
      " 44%|\u001b[38;2;128;0;0m███████████████████████████████████████████▍                                                       \u001b[0m| 124/283 [00:35<00:54,  2.91it/s]\u001b[0m"
     ]
    },
    {
     "name": "stdout",
     "output_type": "stream",
     "text": [
      "Warning: stress tensor calculation not fully tested\n"
     ]
    },
    {
     "name": "stderr",
     "output_type": "stream",
     "text": [
      " 44%|\u001b[38;2;128;0;0m███████████████████████████████████████████▋                                                       \u001b[0m| 125/283 [00:36<00:56,  2.78it/s]\u001b[0m"
     ]
    },
    {
     "name": "stdout",
     "output_type": "stream",
     "text": [
      "Warning: stress tensor calculation not fully tested\n"
     ]
    },
    {
     "name": "stderr",
     "output_type": "stream",
     "text": [
      " 45%|\u001b[38;2;128;0;0m████████████████████████████████████████████                                                       \u001b[0m| 126/283 [00:36<00:56,  2.80it/s]\u001b[0m"
     ]
    },
    {
     "name": "stdout",
     "output_type": "stream",
     "text": [
      "Warning: stress tensor calculation not fully tested\n"
     ]
    },
    {
     "name": "stderr",
     "output_type": "stream",
     "text": [
      " 45%|\u001b[38;2;128;0;0m████████████████████████████████████████████▍                                                      \u001b[0m| 127/283 [00:36<00:51,  3.03it/s]\u001b[0m"
     ]
    },
    {
     "name": "stdout",
     "output_type": "stream",
     "text": [
      "Warning: stress tensor calculation not fully tested\n"
     ]
    },
    {
     "name": "stderr",
     "output_type": "stream",
     "text": [
      " 46%|\u001b[38;2;128;0;0m█████████████████████████████████████████████▏                                                     \u001b[0m| 129/283 [00:37<00:38,  3.95it/s]\u001b[0m"
     ]
    },
    {
     "name": "stdout",
     "output_type": "stream",
     "text": [
      "Warning: stress tensor calculation not fully tested\n"
     ]
    },
    {
     "name": "stderr",
     "output_type": "stream",
     "text": [
      " 46%|\u001b[38;2;128;0;0m█████████████████████████████████████████████▍                                                     \u001b[0m| 130/283 [00:37<00:40,  3.77it/s]\u001b[0m"
     ]
    },
    {
     "name": "stdout",
     "output_type": "stream",
     "text": [
      "Warning: stress tensor calculation not fully tested\n"
     ]
    },
    {
     "name": "stderr",
     "output_type": "stream",
     "text": [
      " 46%|\u001b[38;2;128;0;0m█████████████████████████████████████████████▊                                                     \u001b[0m| 131/283 [00:37<00:41,  3.63it/s]\u001b[0m"
     ]
    },
    {
     "name": "stdout",
     "output_type": "stream",
     "text": [
      "Warning: stress tensor calculation not fully tested\n"
     ]
    },
    {
     "name": "stderr",
     "output_type": "stream",
     "text": [
      " 47%|\u001b[38;2;128;0;0m██████████████████████████████████████████████▏                                                    \u001b[0m| 132/283 [00:38<00:43,  3.49it/s]\u001b[0m"
     ]
    },
    {
     "name": "stdout",
     "output_type": "stream",
     "text": [
      "Warning: stress tensor calculation not fully tested\n"
     ]
    },
    {
     "name": "stderr",
     "output_type": "stream",
     "text": [
      " 47%|\u001b[38;2;128;0;0m██████████████████████████████████████████████▌                                                    \u001b[0m| 133/283 [00:38<00:44,  3.37it/s]\u001b[0m"
     ]
    },
    {
     "name": "stdout",
     "output_type": "stream",
     "text": [
      "Warning: stress tensor calculation not fully tested\n"
     ]
    },
    {
     "name": "stderr",
     "output_type": "stream",
     "text": [
      " 47%|\u001b[38;2;128;0;0m██████████████████████████████████████████████▉                                                    \u001b[0m| 134/283 [00:38<00:44,  3.34it/s]\u001b[0m"
     ]
    },
    {
     "name": "stdout",
     "output_type": "stream",
     "text": [
      "Warning: stress tensor calculation not fully tested\n"
     ]
    },
    {
     "name": "stderr",
     "output_type": "stream",
     "text": [
      " 48%|\u001b[38;2;128;0;0m███████████████████████████████████████████████▏                                                   \u001b[0m| 135/283 [00:38<00:44,  3.29it/s]\u001b[0m"
     ]
    },
    {
     "name": "stdout",
     "output_type": "stream",
     "text": [
      "Warning: stress tensor calculation not fully tested\n"
     ]
    },
    {
     "name": "stderr",
     "output_type": "stream",
     "text": [
      " 48%|\u001b[38;2;128;0;0m███████████████████████████████████████████████▌                                                   \u001b[0m| 136/283 [00:39<00:42,  3.46it/s]\u001b[0m"
     ]
    },
    {
     "name": "stdout",
     "output_type": "stream",
     "text": [
      "Warning: stress tensor calculation not fully tested\n"
     ]
    },
    {
     "name": "stderr",
     "output_type": "stream",
     "text": [
      " 48%|\u001b[38;2;128;0;0m███████████████████████████████████████████████▉                                                   \u001b[0m| 137/283 [00:39<00:40,  3.57it/s]\u001b[0m"
     ]
    },
    {
     "name": "stdout",
     "output_type": "stream",
     "text": [
      "Warning: stress tensor calculation not fully tested\n"
     ]
    },
    {
     "name": "stderr",
     "output_type": "stream",
     "text": [
      " 49%|\u001b[38;2;128;0;0m████████████████████████████████████████████████▎                                                  \u001b[0m| 138/283 [00:39<00:40,  3.60it/s]\u001b[0m"
     ]
    },
    {
     "name": "stdout",
     "output_type": "stream",
     "text": [
      "Warning: stress tensor calculation not fully tested\n"
     ]
    },
    {
     "name": "stderr",
     "output_type": "stream",
     "text": [
      " 49%|\u001b[38;2;128;0;0m████████████████████████████████████████████████▋                                                  \u001b[0m| 139/283 [00:40<00:40,  3.58it/s]\u001b[0m"
     ]
    },
    {
     "name": "stdout",
     "output_type": "stream",
     "text": [
      "Warning: stress tensor calculation not fully tested\n"
     ]
    },
    {
     "name": "stderr",
     "output_type": "stream",
     "text": [
      " 49%|\u001b[38;2;128;0;0m████████████████████████████████████████████████▉                                                  \u001b[0m| 140/283 [00:40<00:40,  3.52it/s]\u001b[0m"
     ]
    },
    {
     "name": "stdout",
     "output_type": "stream",
     "text": [
      "Warning: stress tensor calculation not fully tested\n"
     ]
    },
    {
     "name": "stderr",
     "output_type": "stream",
     "text": [
      " 50%|\u001b[38;2;128;0;0m█████████████████████████████████████████████████▎                                                 \u001b[0m| 141/283 [00:40<00:41,  3.44it/s]\u001b[0m"
     ]
    },
    {
     "name": "stdout",
     "output_type": "stream",
     "text": [
      "Warning: stress tensor calculation not fully tested\n"
     ]
    },
    {
     "name": "stderr",
     "output_type": "stream",
     "text": [
      " 50%|\u001b[38;2;128;0;0m█████████████████████████████████████████████████▋                                                 \u001b[0m| 142/283 [00:40<00:41,  3.38it/s]\u001b[0m"
     ]
    },
    {
     "name": "stdout",
     "output_type": "stream",
     "text": [
      "Warning: stress tensor calculation not fully tested\n"
     ]
    },
    {
     "name": "stderr",
     "output_type": "stream",
     "text": [
      " 51%|\u001b[38;2;128;0;0m██████████████████████████████████████████████████                                                 \u001b[0m| 143/283 [00:41<00:41,  3.38it/s]\u001b[0m"
     ]
    },
    {
     "name": "stdout",
     "output_type": "stream",
     "text": [
      "Warning: stress tensor calculation not fully tested\n"
     ]
    },
    {
     "name": "stderr",
     "output_type": "stream",
     "text": [
      " 51%|\u001b[38;2;128;0;0m██████████████████████████████████████████████████▎                                                \u001b[0m| 144/283 [00:41<00:41,  3.38it/s]\u001b[0m"
     ]
    },
    {
     "name": "stdout",
     "output_type": "stream",
     "text": [
      "Warning: stress tensor calculation not fully tested\n"
     ]
    },
    {
     "name": "stderr",
     "output_type": "stream",
     "text": [
      " 51%|\u001b[38;2;128;0;0m██████████████████████████████████████████████████▋                                                \u001b[0m| 145/283 [00:41<00:41,  3.34it/s]\u001b[0m"
     ]
    },
    {
     "name": "stdout",
     "output_type": "stream",
     "text": [
      "Warning: stress tensor calculation not fully tested\n"
     ]
    },
    {
     "name": "stderr",
     "output_type": "stream",
     "text": [
      " 52%|\u001b[38;2;128;0;0m███████████████████████████████████████████████████                                                \u001b[0m| 146/283 [00:42<00:41,  3.28it/s]\u001b[0m"
     ]
    },
    {
     "name": "stdout",
     "output_type": "stream",
     "text": [
      "Warning: stress tensor calculation not fully tested\n"
     ]
    },
    {
     "name": "stderr",
     "output_type": "stream",
     "text": [
      " 52%|\u001b[38;2;128;0;0m███████████████████████████████████████████████████▍                                               \u001b[0m| 147/283 [00:42<00:43,  3.16it/s]\u001b[0m"
     ]
    },
    {
     "name": "stdout",
     "output_type": "stream",
     "text": [
      "Warning: stress tensor calculation not fully tested\n"
     ]
    },
    {
     "name": "stderr",
     "output_type": "stream",
     "text": [
      " 52%|\u001b[38;2;128;0;0m███████████████████████████████████████████████████▊                                               \u001b[0m| 148/283 [00:42<00:42,  3.19it/s]\u001b[0m"
     ]
    },
    {
     "name": "stdout",
     "output_type": "stream",
     "text": [
      "Warning: stress tensor calculation not fully tested\n"
     ]
    },
    {
     "name": "stderr",
     "output_type": "stream",
     "text": [
      " 53%|\u001b[38;2;128;0;0m████████████████████████████████████████████████████                                               \u001b[0m| 149/283 [00:43<00:42,  3.14it/s]\u001b[0m"
     ]
    },
    {
     "name": "stdout",
     "output_type": "stream",
     "text": [
      "Warning: stress tensor calculation not fully tested\n"
     ]
    },
    {
     "name": "stderr",
     "output_type": "stream",
     "text": [
      " 53%|\u001b[38;2;128;0;0m████████████████████████████████████████████████████▍                                              \u001b[0m| 150/283 [00:43<00:42,  3.15it/s]\u001b[0m"
     ]
    },
    {
     "name": "stdout",
     "output_type": "stream",
     "text": [
      "Warning: stress tensor calculation not fully tested\n"
     ]
    },
    {
     "name": "stderr",
     "output_type": "stream",
     "text": [
      " 53%|\u001b[38;2;128;0;0m████████████████████████████████████████████████████▊                                              \u001b[0m| 151/283 [00:43<00:42,  3.11it/s]\u001b[0m"
     ]
    },
    {
     "name": "stdout",
     "output_type": "stream",
     "text": [
      "Warning: stress tensor calculation not fully tested\n"
     ]
    },
    {
     "name": "stderr",
     "output_type": "stream",
     "text": [
      " 54%|\u001b[38;2;128;0;0m█████████████████████████████████████████████████████▏                                             \u001b[0m| 152/283 [00:44<00:41,  3.15it/s]\u001b[0m"
     ]
    },
    {
     "name": "stdout",
     "output_type": "stream",
     "text": [
      "Warning: stress tensor calculation not fully tested\n"
     ]
    },
    {
     "name": "stderr",
     "output_type": "stream",
     "text": [
      " 54%|\u001b[38;2;128;0;0m█████████████████████████████████████████████████████▌                                             \u001b[0m| 153/283 [00:44<00:41,  3.15it/s]\u001b[0m"
     ]
    },
    {
     "name": "stdout",
     "output_type": "stream",
     "text": [
      "Warning: stress tensor calculation not fully tested\n"
     ]
    },
    {
     "name": "stderr",
     "output_type": "stream",
     "text": [
      " 54%|\u001b[38;2;128;0;0m█████████████████████████████████████████████████████▊                                             \u001b[0m| 154/283 [00:44<00:40,  3.16it/s]\u001b[0m"
     ]
    },
    {
     "name": "stdout",
     "output_type": "stream",
     "text": [
      "Warning: stress tensor calculation not fully tested\n"
     ]
    },
    {
     "name": "stderr",
     "output_type": "stream",
     "text": [
      " 55%|\u001b[38;2;128;0;0m██████████████████████████████████████████████████████▏                                            \u001b[0m| 155/283 [00:45<00:40,  3.20it/s]\u001b[0m"
     ]
    },
    {
     "name": "stdout",
     "output_type": "stream",
     "text": [
      "Warning: stress tensor calculation not fully tested\n"
     ]
    },
    {
     "name": "stderr",
     "output_type": "stream",
     "text": [
      " 55%|\u001b[38;2;128;0;0m██████████████████████████████████████████████████████▌                                            \u001b[0m| 156/283 [00:45<00:40,  3.17it/s]\u001b[0m"
     ]
    },
    {
     "name": "stdout",
     "output_type": "stream",
     "text": [
      "Warning: stress tensor calculation not fully tested\n"
     ]
    },
    {
     "name": "stderr",
     "output_type": "stream",
     "text": [
      " 55%|\u001b[38;2;128;0;0m██████████████████████████████████████████████████████▉                                            \u001b[0m| 157/283 [00:45<00:39,  3.17it/s]\u001b[0m"
     ]
    },
    {
     "name": "stdout",
     "output_type": "stream",
     "text": [
      "Warning: stress tensor calculation not fully tested\n"
     ]
    },
    {
     "name": "stderr",
     "output_type": "stream",
     "text": [
      " 56%|\u001b[38;2;128;0;0m███████████████████████████████████████████████████████▎                                           \u001b[0m| 158/283 [00:46<00:39,  3.14it/s]\u001b[0m"
     ]
    },
    {
     "name": "stdout",
     "output_type": "stream",
     "text": [
      "Warning: stress tensor calculation not fully tested\n"
     ]
    },
    {
     "name": "stderr",
     "output_type": "stream",
     "text": [
      " 56%|\u001b[38;2;128;0;0m███████████████████████████████████████████████████████▌                                           \u001b[0m| 159/283 [00:46<00:39,  3.12it/s]\u001b[0m"
     ]
    },
    {
     "name": "stdout",
     "output_type": "stream",
     "text": [
      "Warning: stress tensor calculation not fully tested\n"
     ]
    },
    {
     "name": "stderr",
     "output_type": "stream",
     "text": [
      " 57%|\u001b[38;2;128;0;0m███████████████████████████████████████████████████████▉                                           \u001b[0m| 160/283 [00:46<00:39,  3.14it/s]\u001b[0m"
     ]
    },
    {
     "name": "stdout",
     "output_type": "stream",
     "text": [
      "Warning: stress tensor calculation not fully tested\n"
     ]
    },
    {
     "name": "stderr",
     "output_type": "stream",
     "text": [
      " 57%|\u001b[38;2;128;0;0m████████████████████████████████████████████████████████▎                                          \u001b[0m| 161/283 [00:46<00:38,  3.15it/s]\u001b[0m"
     ]
    },
    {
     "name": "stdout",
     "output_type": "stream",
     "text": [
      "Warning: stress tensor calculation not fully tested\n"
     ]
    },
    {
     "name": "stderr",
     "output_type": "stream",
     "text": [
      " 57%|\u001b[38;2;128;0;0m████████████████████████████████████████████████████████▋                                          \u001b[0m| 162/283 [00:47<00:38,  3.12it/s]\u001b[0m"
     ]
    },
    {
     "name": "stdout",
     "output_type": "stream",
     "text": [
      "Warning: stress tensor calculation not fully tested\n"
     ]
    },
    {
     "name": "stderr",
     "output_type": "stream",
     "text": [
      " 58%|\u001b[38;2;128;0;0m█████████████████████████████████████████████████████████                                          \u001b[0m| 163/283 [00:47<00:39,  3.06it/s]\u001b[0m"
     ]
    },
    {
     "name": "stdout",
     "output_type": "stream",
     "text": [
      "Warning: stress tensor calculation not fully tested\n"
     ]
    },
    {
     "name": "stderr",
     "output_type": "stream",
     "text": [
      " 58%|\u001b[38;2;128;0;0m█████████████████████████████████████████████████████████▎                                         \u001b[0m| 164/283 [00:47<00:36,  3.28it/s]\u001b[0m"
     ]
    },
    {
     "name": "stdout",
     "output_type": "stream",
     "text": [
      "Warning: stress tensor calculation not fully tested\n"
     ]
    },
    {
     "name": "stderr",
     "output_type": "stream",
     "text": [
      " 58%|\u001b[38;2;128;0;0m█████████████████████████████████████████████████████████▋                                         \u001b[0m| 165/283 [00:48<00:34,  3.45it/s]\u001b[0m"
     ]
    },
    {
     "name": "stdout",
     "output_type": "stream",
     "text": [
      "Warning: stress tensor calculation not fully tested\n"
     ]
    },
    {
     "name": "stderr",
     "output_type": "stream",
     "text": [
      " 59%|\u001b[38;2;128;0;0m██████████████████████████████████████████████████████████                                         \u001b[0m| 166/283 [00:48<00:33,  3.47it/s]\u001b[0m"
     ]
    },
    {
     "name": "stdout",
     "output_type": "stream",
     "text": [
      "Warning: stress tensor calculation not fully tested\n"
     ]
    },
    {
     "name": "stderr",
     "output_type": "stream",
     "text": [
      " 59%|\u001b[38;2;128;0;0m██████████████████████████████████████████████████████████▊                                        \u001b[0m| 168/283 [00:48<00:28,  3.99it/s]\u001b[0m"
     ]
    },
    {
     "name": "stdout",
     "output_type": "stream",
     "text": [
      "Warning: stress tensor calculation not fully tested\n"
     ]
    },
    {
     "name": "stderr",
     "output_type": "stream",
     "text": [
      " 60%|\u001b[38;2;128;0;0m███████████████████████████████████████████████████████████                                        \u001b[0m| 169/283 [00:49<00:32,  3.48it/s]\u001b[0m"
     ]
    },
    {
     "name": "stdout",
     "output_type": "stream",
     "text": [
      "Warning: stress tensor calculation not fully tested\n"
     ]
    },
    {
     "name": "stderr",
     "output_type": "stream",
     "text": [
      " 60%|\u001b[38;2;128;0;0m███████████████████████████████████████████████████████████▍                                       \u001b[0m| 170/283 [00:49<00:34,  3.27it/s]\u001b[0m"
     ]
    },
    {
     "name": "stdout",
     "output_type": "stream",
     "text": [
      "Warning: stress tensor calculation not fully tested\n"
     ]
    },
    {
     "name": "stderr",
     "output_type": "stream",
     "text": [
      " 60%|\u001b[38;2;128;0;0m███████████████████████████████████████████████████████████▊                                       \u001b[0m| 171/283 [00:49<00:33,  3.30it/s]\u001b[0m"
     ]
    },
    {
     "name": "stdout",
     "output_type": "stream",
     "text": [
      "Warning: stress tensor calculation not fully tested\n"
     ]
    },
    {
     "name": "stderr",
     "output_type": "stream",
     "text": [
      " 61%|\u001b[38;2;128;0;0m████████████████████████████████████████████████████████████▏                                      \u001b[0m| 172/283 [00:50<00:34,  3.24it/s]\u001b[0m"
     ]
    },
    {
     "name": "stdout",
     "output_type": "stream",
     "text": [
      "Warning: stress tensor calculation not fully tested\n"
     ]
    },
    {
     "name": "stderr",
     "output_type": "stream",
     "text": [
      " 61%|\u001b[38;2;128;0;0m████████████████████████████████████████████████████████████▌                                      \u001b[0m| 173/283 [00:50<00:34,  3.17it/s]\u001b[0m"
     ]
    },
    {
     "name": "stdout",
     "output_type": "stream",
     "text": [
      "Warning: stress tensor calculation not fully tested\n"
     ]
    },
    {
     "name": "stderr",
     "output_type": "stream",
     "text": [
      " 61%|\u001b[38;2;128;0;0m████████████████████████████████████████████████████████████▊                                      \u001b[0m| 174/283 [00:50<00:34,  3.12it/s]\u001b[0m"
     ]
    },
    {
     "name": "stdout",
     "output_type": "stream",
     "text": [
      "Warning: stress tensor calculation not fully tested\n"
     ]
    },
    {
     "name": "stderr",
     "output_type": "stream",
     "text": [
      " 62%|\u001b[38;2;128;0;0m█████████████████████████████████████████████████████████████▏                                     \u001b[0m| 175/283 [00:51<00:34,  3.09it/s]\u001b[0m"
     ]
    },
    {
     "name": "stdout",
     "output_type": "stream",
     "text": [
      "Warning: stress tensor calculation not fully tested\n"
     ]
    },
    {
     "name": "stderr",
     "output_type": "stream",
     "text": [
      " 62%|\u001b[38;2;128;0;0m█████████████████████████████████████████████████████████████▌                                     \u001b[0m| 176/283 [00:51<00:34,  3.08it/s]\u001b[0m"
     ]
    },
    {
     "name": "stdout",
     "output_type": "stream",
     "text": [
      "Warning: stress tensor calculation not fully tested\n"
     ]
    },
    {
     "name": "stderr",
     "output_type": "stream",
     "text": [
      " 63%|\u001b[38;2;128;0;0m█████████████████████████████████████████████████████████████▉                                     \u001b[0m| 177/283 [00:51<00:33,  3.16it/s]\u001b[0m"
     ]
    },
    {
     "name": "stdout",
     "output_type": "stream",
     "text": [
      "Warning: stress tensor calculation not fully tested\n"
     ]
    },
    {
     "name": "stderr",
     "output_type": "stream",
     "text": [
      " 63%|\u001b[38;2;128;0;0m██████████████████████████████████████████████████████████████▎                                    \u001b[0m| 178/283 [00:52<00:31,  3.32it/s]\u001b[0m"
     ]
    },
    {
     "name": "stdout",
     "output_type": "stream",
     "text": [
      "Warning: stress tensor calculation not fully tested\n"
     ]
    },
    {
     "name": "stderr",
     "output_type": "stream",
     "text": [
      " 63%|\u001b[38;2;128;0;0m██████████████████████████████████████████████████████████████▌                                    \u001b[0m| 179/283 [00:52<00:32,  3.16it/s]\u001b[0m"
     ]
    },
    {
     "name": "stdout",
     "output_type": "stream",
     "text": [
      "Warning: stress tensor calculation not fully tested\n"
     ]
    },
    {
     "name": "stderr",
     "output_type": "stream",
     "text": [
      " 64%|\u001b[38;2;128;0;0m██████████████████████████████████████████████████████████████▉                                    \u001b[0m| 180/283 [00:52<00:33,  3.10it/s]\u001b[0m"
     ]
    },
    {
     "name": "stdout",
     "output_type": "stream",
     "text": [
      "Warning: stress tensor calculation not fully tested\n"
     ]
    },
    {
     "name": "stderr",
     "output_type": "stream",
     "text": [
      " 64%|\u001b[38;2;128;0;0m███████████████████████████████████████████████████████████████▎                                   \u001b[0m| 181/283 [00:53<00:34,  2.95it/s]\u001b[0m"
     ]
    },
    {
     "name": "stdout",
     "output_type": "stream",
     "text": [
      "Warning: stress tensor calculation not fully tested\n"
     ]
    },
    {
     "name": "stderr",
     "output_type": "stream",
     "text": [
      " 65%|\u001b[38;2;128;0;0m████████████████████████████████████████████████████████████████                                   \u001b[0m| 183/283 [00:53<00:25,  3.88it/s]\u001b[0m"
     ]
    },
    {
     "name": "stdout",
     "output_type": "stream",
     "text": [
      "Warning: stress tensor calculation not fully tested\n"
     ]
    },
    {
     "name": "stderr",
     "output_type": "stream",
     "text": [
      " 65%|\u001b[38;2;128;0;0m████████████████████████████████████████████████████████████████▎                                  \u001b[0m| 184/283 [00:53<00:27,  3.61it/s]\u001b[0m"
     ]
    },
    {
     "name": "stdout",
     "output_type": "stream",
     "text": [
      "Warning: stress tensor calculation not fully tested\n"
     ]
    },
    {
     "name": "stderr",
     "output_type": "stream",
     "text": [
      " 65%|\u001b[38;2;128;0;0m████████████████████████████████████████████████████████████████▋                                  \u001b[0m| 185/283 [00:54<00:28,  3.47it/s]\u001b[0m"
     ]
    },
    {
     "name": "stdout",
     "output_type": "stream",
     "text": [
      "Warning: stress tensor calculation not fully tested\n"
     ]
    },
    {
     "name": "stderr",
     "output_type": "stream",
     "text": [
      " 66%|\u001b[38;2;128;0;0m█████████████████████████████████████████████████████████████████                                  \u001b[0m| 186/283 [00:54<00:28,  3.38it/s]\u001b[0m"
     ]
    },
    {
     "name": "stdout",
     "output_type": "stream",
     "text": [
      "Warning: stress tensor calculation not fully tested\n"
     ]
    },
    {
     "name": "stderr",
     "output_type": "stream",
     "text": [
      " 66%|\u001b[38;2;128;0;0m█████████████████████████████████████████████████████████████████▍                                 \u001b[0m| 187/283 [00:54<00:29,  3.30it/s]\u001b[0m"
     ]
    },
    {
     "name": "stdout",
     "output_type": "stream",
     "text": [
      "Warning: stress tensor calculation not fully tested\n"
     ]
    },
    {
     "name": "stderr",
     "output_type": "stream",
     "text": [
      " 66%|\u001b[38;2;128;0;0m█████████████████████████████████████████████████████████████████▊                                 \u001b[0m| 188/283 [00:55<00:30,  3.16it/s]\u001b[0m"
     ]
    },
    {
     "name": "stdout",
     "output_type": "stream",
     "text": [
      "Warning: stress tensor calculation not fully tested\n"
     ]
    },
    {
     "name": "stderr",
     "output_type": "stream",
     "text": [
      " 67%|\u001b[38;2;128;0;0m██████████████████████████████████████████████████████████████████                                 \u001b[0m| 189/283 [00:55<00:29,  3.13it/s]\u001b[0m"
     ]
    },
    {
     "name": "stdout",
     "output_type": "stream",
     "text": [
      "Warning: stress tensor calculation not fully tested\n"
     ]
    },
    {
     "name": "stderr",
     "output_type": "stream",
     "text": [
      " 67%|\u001b[38;2;128;0;0m██████████████████████████████████████████████████████████████████▍                                \u001b[0m| 190/283 [00:55<00:30,  3.04it/s]\u001b[0m"
     ]
    },
    {
     "name": "stdout",
     "output_type": "stream",
     "text": [
      "Warning: stress tensor calculation not fully tested\n"
     ]
    },
    {
     "name": "stderr",
     "output_type": "stream",
     "text": [
      " 68%|\u001b[38;2;128;0;0m███████████████████████████████████████████████████████████████████▏                               \u001b[0m| 192/283 [00:56<00:22,  3.97it/s]\u001b[0m"
     ]
    },
    {
     "name": "stdout",
     "output_type": "stream",
     "text": [
      "Warning: stress tensor calculation not fully tested\n"
     ]
    },
    {
     "name": "stderr",
     "output_type": "stream",
     "text": [
      " 69%|\u001b[38;2;128;0;0m███████████████████████████████████████████████████████████████████▊                               \u001b[0m| 194/283 [00:56<00:19,  4.47it/s]\u001b[0m"
     ]
    },
    {
     "name": "stdout",
     "output_type": "stream",
     "text": [
      "Warning: stress tensor calculation not fully tested\n"
     ]
    },
    {
     "name": "stderr",
     "output_type": "stream",
     "text": [
      " 69%|\u001b[38;2;128;0;0m████████████████████████████████████████████████████████████████████▌                              \u001b[0m| 196/283 [00:56<00:18,  4.67it/s]\u001b[0m"
     ]
    },
    {
     "name": "stdout",
     "output_type": "stream",
     "text": [
      "Warning: stress tensor calculation not fully tested\n"
     ]
    },
    {
     "name": "stderr",
     "output_type": "stream",
     "text": [
      " 70%|\u001b[38;2;128;0;0m████████████████████████████████████████████████████████████████████▉                              \u001b[0m| 197/283 [00:57<00:21,  4.07it/s]\u001b[0m"
     ]
    },
    {
     "name": "stdout",
     "output_type": "stream",
     "text": [
      "Warning: stress tensor calculation not fully tested\n"
     ]
    },
    {
     "name": "stderr",
     "output_type": "stream",
     "text": [
      " 70%|\u001b[38;2;128;0;0m█████████████████████████████████████████████████████████████████████▎                             \u001b[0m| 198/283 [00:57<00:23,  3.62it/s]\u001b[0m"
     ]
    },
    {
     "name": "stdout",
     "output_type": "stream",
     "text": [
      "Warning: stress tensor calculation not fully tested\n"
     ]
    },
    {
     "name": "stderr",
     "output_type": "stream",
     "text": [
      " 70%|\u001b[38;2;128;0;0m█████████████████████████████████████████████████████████████████████▌                             \u001b[0m| 199/283 [00:58<00:25,  3.27it/s]\u001b[0m"
     ]
    },
    {
     "name": "stdout",
     "output_type": "stream",
     "text": [
      "Warning: stress tensor calculation not fully tested\n"
     ]
    },
    {
     "name": "stderr",
     "output_type": "stream",
     "text": [
      " 71%|\u001b[38;2;128;0;0m█████████████████████████████████████████████████████████████████████▉                             \u001b[0m| 200/283 [00:58<00:27,  3.00it/s]\u001b[0m"
     ]
    },
    {
     "name": "stdout",
     "output_type": "stream",
     "text": [
      "Warning: stress tensor calculation not fully tested\n"
     ]
    },
    {
     "name": "stderr",
     "output_type": "stream",
     "text": [
      " 71%|\u001b[38;2;128;0;0m██████████████████████████████████████████████████████████████████████▎                            \u001b[0m| 201/283 [00:58<00:28,  2.90it/s]\u001b[0m"
     ]
    },
    {
     "name": "stdout",
     "output_type": "stream",
     "text": [
      "Warning: stress tensor calculation not fully tested\n"
     ]
    },
    {
     "name": "stderr",
     "output_type": "stream",
     "text": [
      " 71%|\u001b[38;2;128;0;0m██████████████████████████████████████████████████████████████████████▋                            \u001b[0m| 202/283 [00:59<00:29,  2.77it/s]\u001b[0m"
     ]
    },
    {
     "name": "stdout",
     "output_type": "stream",
     "text": [
      "Warning: stress tensor calculation not fully tested\n"
     ]
    },
    {
     "name": "stderr",
     "output_type": "stream",
     "text": [
      " 72%|\u001b[38;2;128;0;0m███████████████████████████████████████████████████████████████████████                            \u001b[0m| 203/283 [00:59<00:28,  2.82it/s]\u001b[0m"
     ]
    },
    {
     "name": "stdout",
     "output_type": "stream",
     "text": [
      "Warning: stress tensor calculation not fully tested\n"
     ]
    },
    {
     "name": "stderr",
     "output_type": "stream",
     "text": [
      " 72%|\u001b[38;2;128;0;0m███████████████████████████████████████████████████████████████████████▎                           \u001b[0m| 204/283 [00:59<00:27,  2.90it/s]\u001b[0m"
     ]
    },
    {
     "name": "stdout",
     "output_type": "stream",
     "text": [
      "Warning: stress tensor calculation not fully tested\n"
     ]
    },
    {
     "name": "stderr",
     "output_type": "stream",
     "text": [
      " 72%|\u001b[38;2;128;0;0m███████████████████████████████████████████████████████████████████████▋                           \u001b[0m| 205/283 [01:00<00:26,  2.94it/s]\u001b[0m"
     ]
    },
    {
     "name": "stdout",
     "output_type": "stream",
     "text": [
      "Warning: stress tensor calculation not fully tested\n"
     ]
    },
    {
     "name": "stderr",
     "output_type": "stream",
     "text": [
      " 73%|\u001b[38;2;128;0;0m████████████████████████████████████████████████████████████████████████                           \u001b[0m| 206/283 [01:00<00:25,  3.01it/s]\u001b[0m"
     ]
    },
    {
     "name": "stdout",
     "output_type": "stream",
     "text": [
      "Warning: stress tensor calculation not fully tested\n"
     ]
    },
    {
     "name": "stderr",
     "output_type": "stream",
     "text": [
      " 73%|\u001b[38;2;128;0;0m████████████████████████████████████████████████████████████████████████▍                          \u001b[0m| 207/283 [01:00<00:24,  3.06it/s]\u001b[0m"
     ]
    },
    {
     "name": "stdout",
     "output_type": "stream",
     "text": [
      "Warning: stress tensor calculation not fully tested\n"
     ]
    },
    {
     "name": "stderr",
     "output_type": "stream",
     "text": [
      " 73%|\u001b[38;2;128;0;0m████████████████████████████████████████████████████████████████████████▊                          \u001b[0m| 208/283 [01:01<00:24,  3.04it/s]\u001b[0m"
     ]
    },
    {
     "name": "stdout",
     "output_type": "stream",
     "text": [
      "Warning: stress tensor calculation not fully tested\n"
     ]
    },
    {
     "name": "stderr",
     "output_type": "stream",
     "text": [
      " 74%|\u001b[38;2;128;0;0m█████████████████████████████████████████████████████████████████████████                          \u001b[0m| 209/283 [01:01<00:24,  2.99it/s]\u001b[0m"
     ]
    },
    {
     "name": "stdout",
     "output_type": "stream",
     "text": [
      "Warning: stress tensor calculation not fully tested\n"
     ]
    },
    {
     "name": "stderr",
     "output_type": "stream",
     "text": [
      " 75%|\u001b[38;2;128;0;0m█████████████████████████████████████████████████████████████████████████▊                         \u001b[0m| 211/283 [01:01<00:17,  4.01it/s]\u001b[0m"
     ]
    },
    {
     "name": "stdout",
     "output_type": "stream",
     "text": [
      "Warning: stress tensor calculation not fully tested\n"
     ]
    },
    {
     "name": "stderr",
     "output_type": "stream",
     "text": [
      " 75%|\u001b[38;2;128;0;0m██████████████████████████████████████████████████████████████████████████▌                        \u001b[0m| 213/283 [01:02<00:14,  4.70it/s]\u001b[0m"
     ]
    },
    {
     "name": "stdout",
     "output_type": "stream",
     "text": [
      "Warning: stress tensor calculation not fully tested\n"
     ]
    },
    {
     "name": "stderr",
     "output_type": "stream",
     "text": [
      " 76%|\u001b[38;2;128;0;0m██████████████████████████████████████████████████████████████████████████▊                        \u001b[0m| 214/283 [01:02<00:16,  4.29it/s]\u001b[0m"
     ]
    },
    {
     "name": "stdout",
     "output_type": "stream",
     "text": [
      "Warning: stress tensor calculation not fully tested\n"
     ]
    },
    {
     "name": "stderr",
     "output_type": "stream",
     "text": [
      " 76%|\u001b[38;2;128;0;0m███████████████████████████████████████████████████████████████████████████▏                       \u001b[0m| 215/283 [01:02<00:17,  3.96it/s]\u001b[0m"
     ]
    },
    {
     "name": "stdout",
     "output_type": "stream",
     "text": [
      "Warning: stress tensor calculation not fully tested\n"
     ]
    },
    {
     "name": "stderr",
     "output_type": "stream",
     "text": [
      " 76%|\u001b[38;2;128;0;0m███████████████████████████████████████████████████████████████████████████▌                       \u001b[0m| 216/283 [01:03<00:17,  3.74it/s]\u001b[0m"
     ]
    },
    {
     "name": "stdout",
     "output_type": "stream",
     "text": [
      "Warning: stress tensor calculation not fully tested\n"
     ]
    },
    {
     "name": "stderr",
     "output_type": "stream",
     "text": [
      " 77%|\u001b[38;2;128;0;0m███████████████████████████████████████████████████████████████████████████▉                       \u001b[0m| 217/283 [01:03<00:18,  3.63it/s]\u001b[0m"
     ]
    },
    {
     "name": "stdout",
     "output_type": "stream",
     "text": [
      "Warning: stress tensor calculation not fully tested\n"
     ]
    },
    {
     "name": "stderr",
     "output_type": "stream",
     "text": [
      " 77%|\u001b[38;2;128;0;0m████████████████████████████████████████████████████████████████████████████▎                      \u001b[0m| 218/283 [01:03<00:18,  3.50it/s]\u001b[0m"
     ]
    },
    {
     "name": "stdout",
     "output_type": "stream",
     "text": [
      "Warning: stress tensor calculation not fully tested\n"
     ]
    },
    {
     "name": "stderr",
     "output_type": "stream",
     "text": [
      " 77%|\u001b[38;2;128;0;0m████████████████████████████████████████████████████████████████████████████▌                      \u001b[0m| 219/283 [01:03<00:18,  3.45it/s]\u001b[0m"
     ]
    },
    {
     "name": "stdout",
     "output_type": "stream",
     "text": [
      "Warning: stress tensor calculation not fully tested\n"
     ]
    },
    {
     "name": "stderr",
     "output_type": "stream",
     "text": [
      " 78%|\u001b[38;2;128;0;0m████████████████████████████████████████████████████████████████████████████▉                      \u001b[0m| 220/283 [01:04<00:18,  3.36it/s]\u001b[0m"
     ]
    },
    {
     "name": "stdout",
     "output_type": "stream",
     "text": [
      "Warning: stress tensor calculation not fully tested\n"
     ]
    },
    {
     "name": "stderr",
     "output_type": "stream",
     "text": [
      " 78%|\u001b[38;2;128;0;0m█████████████████████████████████████████████████████████████████████████████▎                     \u001b[0m| 221/283 [01:04<00:17,  3.49it/s]\u001b[0m"
     ]
    },
    {
     "name": "stdout",
     "output_type": "stream",
     "text": [
      "Warning: stress tensor calculation not fully tested\n"
     ]
    },
    {
     "name": "stderr",
     "output_type": "stream",
     "text": [
      " 78%|\u001b[38;2;128;0;0m█████████████████████████████████████████████████████████████████████████████▋                     \u001b[0m| 222/283 [01:04<00:17,  3.56it/s]\u001b[0m"
     ]
    },
    {
     "name": "stdout",
     "output_type": "stream",
     "text": [
      "Warning: stress tensor calculation not fully tested\n"
     ]
    },
    {
     "name": "stderr",
     "output_type": "stream",
     "text": [
      " 79%|\u001b[38;2;128;0;0m██████████████████████████████████████████████████████████████████████████████                     \u001b[0m| 223/283 [01:05<00:17,  3.52it/s]\u001b[0m"
     ]
    },
    {
     "name": "stdout",
     "output_type": "stream",
     "text": [
      "Warning: stress tensor calculation not fully tested\n"
     ]
    },
    {
     "name": "stderr",
     "output_type": "stream",
     "text": [
      " 79%|\u001b[38;2;128;0;0m██████████████████████████████████████████████████████████████████████████████▎                    \u001b[0m| 224/283 [01:05<00:16,  3.53it/s]\u001b[0m"
     ]
    },
    {
     "name": "stdout",
     "output_type": "stream",
     "text": [
      "Warning: stress tensor calculation not fully tested\n"
     ]
    },
    {
     "name": "stderr",
     "output_type": "stream",
     "text": [
      " 80%|\u001b[38;2;128;0;0m██████████████████████████████████████████████████████████████████████████████▋                    \u001b[0m| 225/283 [01:05<00:16,  3.44it/s]\u001b[0m"
     ]
    },
    {
     "name": "stdout",
     "output_type": "stream",
     "text": [
      "Warning: stress tensor calculation not fully tested\n"
     ]
    },
    {
     "name": "stderr",
     "output_type": "stream",
     "text": [
      " 80%|\u001b[38;2;128;0;0m███████████████████████████████████████████████████████████████████████████████                    \u001b[0m| 226/283 [01:06<00:17,  3.29it/s]\u001b[0m"
     ]
    },
    {
     "name": "stdout",
     "output_type": "stream",
     "text": [
      "Warning: stress tensor calculation not fully tested\n"
     ]
    },
    {
     "name": "stderr",
     "output_type": "stream",
     "text": [
      " 80%|\u001b[38;2;128;0;0m███████████████████████████████████████████████████████████████████████████████▍                   \u001b[0m| 227/283 [01:06<00:17,  3.23it/s]\u001b[0m"
     ]
    },
    {
     "name": "stdout",
     "output_type": "stream",
     "text": [
      "Warning: stress tensor calculation not fully tested\n"
     ]
    },
    {
     "name": "stderr",
     "output_type": "stream",
     "text": [
      " 81%|\u001b[38;2;128;0;0m███████████████████████████████████████████████████████████████████████████████▊                   \u001b[0m| 228/283 [01:06<00:17,  3.17it/s]\u001b[0m"
     ]
    },
    {
     "name": "stdout",
     "output_type": "stream",
     "text": [
      "Warning: stress tensor calculation not fully tested\n"
     ]
    },
    {
     "name": "stderr",
     "output_type": "stream",
     "text": [
      " 81%|\u001b[38;2;128;0;0m████████████████████████████████████████████████████████████████████████████████                   \u001b[0m| 229/283 [01:06<00:16,  3.34it/s]\u001b[0m"
     ]
    },
    {
     "name": "stdout",
     "output_type": "stream",
     "text": [
      "Warning: stress tensor calculation not fully tested\n"
     ]
    },
    {
     "name": "stderr",
     "output_type": "stream",
     "text": [
      " 81%|\u001b[38;2;128;0;0m████████████████████████████████████████████████████████████████████████████████▍                  \u001b[0m| 230/283 [01:07<00:15,  3.50it/s]\u001b[0m"
     ]
    },
    {
     "name": "stdout",
     "output_type": "stream",
     "text": [
      "Warning: stress tensor calculation not fully tested\n"
     ]
    },
    {
     "name": "stderr",
     "output_type": "stream",
     "text": [
      " 82%|\u001b[38;2;128;0;0m████████████████████████████████████████████████████████████████████████████████▊                  \u001b[0m| 231/283 [01:07<00:16,  3.19it/s]\u001b[0m"
     ]
    },
    {
     "name": "stdout",
     "output_type": "stream",
     "text": [
      "Warning: stress tensor calculation not fully tested\n"
     ]
    },
    {
     "name": "stderr",
     "output_type": "stream",
     "text": [
      " 82%|\u001b[38;2;128;0;0m█████████████████████████████████████████████████████████████████████████████████▏                 \u001b[0m| 232/283 [01:07<00:16,  3.05it/s]\u001b[0m"
     ]
    },
    {
     "name": "stdout",
     "output_type": "stream",
     "text": [
      "Warning: stress tensor calculation not fully tested\n"
     ]
    },
    {
     "name": "stderr",
     "output_type": "stream",
     "text": [
      " 82%|\u001b[38;2;128;0;0m█████████████████████████████████████████████████████████████████████████████████▌                 \u001b[0m| 233/283 [01:08<00:17,  2.93it/s]\u001b[0m"
     ]
    },
    {
     "name": "stdout",
     "output_type": "stream",
     "text": [
      "Warning: stress tensor calculation not fully tested\n"
     ]
    },
    {
     "name": "stderr",
     "output_type": "stream",
     "text": [
      " 83%|\u001b[38;2;128;0;0m█████████████████████████████████████████████████████████████████████████████████▊                 \u001b[0m| 234/283 [01:08<00:17,  2.84it/s]\u001b[0m"
     ]
    },
    {
     "name": "stdout",
     "output_type": "stream",
     "text": [
      "Warning: stress tensor calculation not fully tested\n"
     ]
    },
    {
     "name": "stderr",
     "output_type": "stream",
     "text": [
      " 83%|\u001b[38;2;128;0;0m██████████████████████████████████████████████████████████████████████████████████▏                \u001b[0m| 235/283 [01:09<00:17,  2.80it/s]\u001b[0m"
     ]
    },
    {
     "name": "stdout",
     "output_type": "stream",
     "text": [
      "Warning: stress tensor calculation not fully tested\n"
     ]
    },
    {
     "name": "stderr",
     "output_type": "stream",
     "text": [
      " 83%|\u001b[38;2;128;0;0m██████████████████████████████████████████████████████████████████████████████████▌                \u001b[0m| 236/283 [01:09<00:15,  2.97it/s]\u001b[0m"
     ]
    },
    {
     "name": "stdout",
     "output_type": "stream",
     "text": [
      "Warning: stress tensor calculation not fully tested\n"
     ]
    },
    {
     "name": "stderr",
     "output_type": "stream",
     "text": [
      " 84%|\u001b[38;2;128;0;0m██████████████████████████████████████████████████████████████████████████████████▉                \u001b[0m| 237/283 [01:09<00:14,  3.09it/s]\u001b[0m"
     ]
    },
    {
     "name": "stdout",
     "output_type": "stream",
     "text": [
      "Warning: stress tensor calculation not fully tested\n"
     ]
    },
    {
     "name": "stderr",
     "output_type": "stream",
     "text": [
      " 84%|\u001b[38;2;128;0;0m███████████████████████████████████████████████████████████████████████████████████▎               \u001b[0m| 238/283 [01:09<00:14,  3.07it/s]\u001b[0m"
     ]
    },
    {
     "name": "stdout",
     "output_type": "stream",
     "text": [
      "Warning: stress tensor calculation not fully tested\n"
     ]
    },
    {
     "name": "stderr",
     "output_type": "stream",
     "text": [
      " 84%|\u001b[38;2;128;0;0m███████████████████████████████████████████████████████████████████████████████████▌               \u001b[0m| 239/283 [01:10<00:14,  3.07it/s]\u001b[0m"
     ]
    },
    {
     "name": "stdout",
     "output_type": "stream",
     "text": [
      "Warning: stress tensor calculation not fully tested\n"
     ]
    },
    {
     "name": "stderr",
     "output_type": "stream",
     "text": [
      " 85%|\u001b[38;2;128;0;0m███████████████████████████████████████████████████████████████████████████████████▉               \u001b[0m| 240/283 [01:10<00:13,  3.11it/s]\u001b[0m"
     ]
    },
    {
     "name": "stdout",
     "output_type": "stream",
     "text": [
      "Warning: stress tensor calculation not fully tested\n"
     ]
    },
    {
     "name": "stderr",
     "output_type": "stream",
     "text": [
      " 85%|\u001b[38;2;128;0;0m████████████████████████████████████████████████████████████████████████████████████▎              \u001b[0m| 241/283 [01:10<00:13,  3.11it/s]\u001b[0m"
     ]
    },
    {
     "name": "stdout",
     "output_type": "stream",
     "text": [
      "Warning: stress tensor calculation not fully tested\n"
     ]
    },
    {
     "name": "stderr",
     "output_type": "stream",
     "text": [
      " 86%|\u001b[38;2;128;0;0m████████████████████████████████████████████████████████████████████████████████████▋              \u001b[0m| 242/283 [01:11<00:13,  3.14it/s]\u001b[0m"
     ]
    },
    {
     "name": "stdout",
     "output_type": "stream",
     "text": [
      "Warning: stress tensor calculation not fully tested\n"
     ]
    },
    {
     "name": "stderr",
     "output_type": "stream",
     "text": [
      " 86%|\u001b[38;2;128;0;0m█████████████████████████████████████████████████████████████████████████████████████              \u001b[0m| 243/283 [01:11<00:12,  3.14it/s]\u001b[0m"
     ]
    },
    {
     "name": "stdout",
     "output_type": "stream",
     "text": [
      "Warning: stress tensor calculation not fully tested\n"
     ]
    },
    {
     "name": "stderr",
     "output_type": "stream",
     "text": [
      " 86%|\u001b[38;2;128;0;0m█████████████████████████████████████████████████████████████████████████████████████▎             \u001b[0m| 244/283 [01:11<00:12,  3.15it/s]\u001b[0m"
     ]
    },
    {
     "name": "stdout",
     "output_type": "stream",
     "text": [
      "Warning: stress tensor calculation not fully tested\n"
     ]
    },
    {
     "name": "stderr",
     "output_type": "stream",
     "text": [
      " 87%|\u001b[38;2;128;0;0m█████████████████████████████████████████████████████████████████████████████████████▋             \u001b[0m| 245/283 [01:12<00:12,  3.14it/s]\u001b[0m"
     ]
    },
    {
     "name": "stdout",
     "output_type": "stream",
     "text": [
      "Warning: stress tensor calculation not fully tested\n"
     ]
    },
    {
     "name": "stderr",
     "output_type": "stream",
     "text": [
      " 87%|\u001b[38;2;128;0;0m██████████████████████████████████████████████████████████████████████████████████████             \u001b[0m| 246/283 [01:12<00:11,  3.14it/s]\u001b[0m"
     ]
    },
    {
     "name": "stdout",
     "output_type": "stream",
     "text": [
      "Warning: stress tensor calculation not fully tested\n"
     ]
    },
    {
     "name": "stderr",
     "output_type": "stream",
     "text": [
      " 87%|\u001b[38;2;128;0;0m██████████████████████████████████████████████████████████████████████████████████████▍            \u001b[0m| 247/283 [01:12<00:11,  3.10it/s]\u001b[0m"
     ]
    },
    {
     "name": "stdout",
     "output_type": "stream",
     "text": [
      "Warning: stress tensor calculation not fully tested\n"
     ]
    },
    {
     "name": "stderr",
     "output_type": "stream",
     "text": [
      " 88%|\u001b[38;2;128;0;0m██████████████████████████████████████████████████████████████████████████████████████▊            \u001b[0m| 248/283 [01:13<00:11,  3.14it/s]\u001b[0m"
     ]
    },
    {
     "name": "stdout",
     "output_type": "stream",
     "text": [
      "Warning: stress tensor calculation not fully tested\n"
     ]
    },
    {
     "name": "stderr",
     "output_type": "stream",
     "text": [
      " 88%|\u001b[38;2;128;0;0m███████████████████████████████████████████████████████████████████████████████████████            \u001b[0m| 249/283 [01:13<00:10,  3.16it/s]\u001b[0m"
     ]
    },
    {
     "name": "stdout",
     "output_type": "stream",
     "text": [
      "Warning: stress tensor calculation not fully tested\n"
     ]
    },
    {
     "name": "stderr",
     "output_type": "stream",
     "text": [
      " 88%|\u001b[38;2;128;0;0m███████████████████████████████████████████████████████████████████████████████████████▍           \u001b[0m| 250/283 [01:13<00:10,  3.12it/s]\u001b[0m"
     ]
    },
    {
     "name": "stdout",
     "output_type": "stream",
     "text": [
      "Warning: stress tensor calculation not fully tested\n"
     ]
    },
    {
     "name": "stderr",
     "output_type": "stream",
     "text": [
      " 89%|\u001b[38;2;128;0;0m███████████████████████████████████████████████████████████████████████████████████████▊           \u001b[0m| 251/283 [01:14<00:10,  3.12it/s]\u001b[0m"
     ]
    },
    {
     "name": "stdout",
     "output_type": "stream",
     "text": [
      "Warning: stress tensor calculation not fully tested\n"
     ]
    },
    {
     "name": "stderr",
     "output_type": "stream",
     "text": [
      " 89%|\u001b[38;2;128;0;0m████████████████████████████████████████████████████████████████████████████████████████▏          \u001b[0m| 252/283 [01:14<00:10,  3.09it/s]\u001b[0m"
     ]
    },
    {
     "name": "stdout",
     "output_type": "stream",
     "text": [
      "Warning: stress tensor calculation not fully tested\n"
     ]
    },
    {
     "name": "stderr",
     "output_type": "stream",
     "text": [
      " 89%|\u001b[38;2;128;0;0m████████████████████████████████████████████████████████████████████████████████████████▌          \u001b[0m| 253/283 [01:14<00:09,  3.11it/s]\u001b[0m"
     ]
    },
    {
     "name": "stdout",
     "output_type": "stream",
     "text": [
      "Warning: stress tensor calculation not fully tested\n"
     ]
    },
    {
     "name": "stderr",
     "output_type": "stream",
     "text": [
      " 90%|\u001b[38;2;128;0;0m████████████████████████████████████████████████████████████████████████████████████████▊          \u001b[0m| 254/283 [01:15<00:08,  3.32it/s]\u001b[0m"
     ]
    },
    {
     "name": "stdout",
     "output_type": "stream",
     "text": [
      "Warning: stress tensor calculation not fully tested\n"
     ]
    },
    {
     "name": "stderr",
     "output_type": "stream",
     "text": [
      " 90%|\u001b[38;2;128;0;0m█████████████████████████████████████████████████████████████████████████████████████████▏         \u001b[0m| 255/283 [01:15<00:08,  3.48it/s]\u001b[0m"
     ]
    },
    {
     "name": "stdout",
     "output_type": "stream",
     "text": [
      "Warning: stress tensor calculation not fully tested\n"
     ]
    },
    {
     "name": "stderr",
     "output_type": "stream",
     "text": [
      " 90%|\u001b[38;2;128;0;0m█████████████████████████████████████████████████████████████████████████████████████████▌         \u001b[0m| 256/283 [01:15<00:07,  3.41it/s]\u001b[0m"
     ]
    },
    {
     "name": "stdout",
     "output_type": "stream",
     "text": [
      "Warning: stress tensor calculation not fully tested\n"
     ]
    },
    {
     "name": "stderr",
     "output_type": "stream",
     "text": [
      " 91%|\u001b[38;2;128;0;0m█████████████████████████████████████████████████████████████████████████████████████████▉         \u001b[0m| 257/283 [01:15<00:07,  3.36it/s]\u001b[0m"
     ]
    },
    {
     "name": "stdout",
     "output_type": "stream",
     "text": [
      "Warning: stress tensor calculation not fully tested\n"
     ]
    },
    {
     "name": "stderr",
     "output_type": "stream",
     "text": [
      " 91%|\u001b[38;2;128;0;0m██████████████████████████████████████████████████████████████████████████████████████████▎        \u001b[0m| 258/283 [01:16<00:07,  3.27it/s]\u001b[0m"
     ]
    },
    {
     "name": "stdout",
     "output_type": "stream",
     "text": [
      "Warning: stress tensor calculation not fully tested\n"
     ]
    },
    {
     "name": "stderr",
     "output_type": "stream",
     "text": [
      " 92%|\u001b[38;2;128;0;0m██████████████████████████████████████████████████████████████████████████████████████████▌        \u001b[0m| 259/283 [01:16<00:07,  3.31it/s]\u001b[0m"
     ]
    },
    {
     "name": "stdout",
     "output_type": "stream",
     "text": [
      "Warning: stress tensor calculation not fully tested\n"
     ]
    },
    {
     "name": "stderr",
     "output_type": "stream",
     "text": [
      " 92%|\u001b[38;2;128;0;0m██████████████████████████████████████████████████████████████████████████████████████████▉        \u001b[0m| 260/283 [01:16<00:07,  3.27it/s]\u001b[0m"
     ]
    },
    {
     "name": "stdout",
     "output_type": "stream",
     "text": [
      "Warning: stress tensor calculation not fully tested\n"
     ]
    },
    {
     "name": "stderr",
     "output_type": "stream",
     "text": [
      " 92%|\u001b[38;2;128;0;0m███████████████████████████████████████████████████████████████████████████████████████████▎       \u001b[0m| 261/283 [01:17<00:06,  3.26it/s]\u001b[0m"
     ]
    },
    {
     "name": "stdout",
     "output_type": "stream",
     "text": [
      "Warning: stress tensor calculation not fully tested\n"
     ]
    },
    {
     "name": "stderr",
     "output_type": "stream",
     "text": [
      " 93%|\u001b[38;2;128;0;0m███████████████████████████████████████████████████████████████████████████████████████████▋       \u001b[0m| 262/283 [01:17<00:06,  3.22it/s]\u001b[0m"
     ]
    },
    {
     "name": "stdout",
     "output_type": "stream",
     "text": [
      "Warning: stress tensor calculation not fully tested\n"
     ]
    },
    {
     "name": "stderr",
     "output_type": "stream",
     "text": [
      " 93%|\u001b[38;2;128;0;0m████████████████████████████████████████████████████████████████████████████████████████████       \u001b[0m| 263/283 [01:17<00:06,  3.22it/s]\u001b[0m"
     ]
    },
    {
     "name": "stdout",
     "output_type": "stream",
     "text": [
      "Warning: stress tensor calculation not fully tested\n"
     ]
    },
    {
     "name": "stderr",
     "output_type": "stream",
     "text": [
      " 93%|\u001b[38;2;128;0;0m████████████████████████████████████████████████████████████████████████████████████████████▎      \u001b[0m| 264/283 [01:18<00:05,  3.18it/s]\u001b[0m"
     ]
    },
    {
     "name": "stdout",
     "output_type": "stream",
     "text": [
      "Warning: stress tensor calculation not fully tested\n"
     ]
    },
    {
     "name": "stderr",
     "output_type": "stream",
     "text": [
      " 94%|\u001b[38;2;128;0;0m████████████████████████████████████████████████████████████████████████████████████████████▋      \u001b[0m| 265/283 [01:18<00:05,  3.23it/s]\u001b[0m"
     ]
    },
    {
     "name": "stdout",
     "output_type": "stream",
     "text": [
      "Warning: stress tensor calculation not fully tested\n"
     ]
    },
    {
     "name": "stderr",
     "output_type": "stream",
     "text": [
      " 94%|\u001b[38;2;128;0;0m█████████████████████████████████████████████████████████████████████████████████████████████      \u001b[0m| 266/283 [01:18<00:05,  3.25it/s]\u001b[0m"
     ]
    },
    {
     "name": "stdout",
     "output_type": "stream",
     "text": [
      "Warning: stress tensor calculation not fully tested\n"
     ]
    },
    {
     "name": "stderr",
     "output_type": "stream",
     "text": [
      " 94%|\u001b[38;2;128;0;0m█████████████████████████████████████████████████████████████████████████████████████████████▍     \u001b[0m| 267/283 [01:19<00:05,  3.20it/s]\u001b[0m"
     ]
    },
    {
     "name": "stdout",
     "output_type": "stream",
     "text": [
      "Warning: stress tensor calculation not fully tested\n"
     ]
    },
    {
     "name": "stderr",
     "output_type": "stream",
     "text": [
      " 95%|\u001b[38;2;128;0;0m█████████████████████████████████████████████████████████████████████████████████████████████▊     \u001b[0m| 268/283 [01:19<00:04,  3.21it/s]\u001b[0m"
     ]
    },
    {
     "name": "stdout",
     "output_type": "stream",
     "text": [
      "Warning: stress tensor calculation not fully tested\n"
     ]
    },
    {
     "name": "stderr",
     "output_type": "stream",
     "text": [
      " 95%|\u001b[38;2;128;0;0m██████████████████████████████████████████████████████████████████████████████████████████████     \u001b[0m| 269/283 [01:19<00:04,  3.25it/s]\u001b[0m"
     ]
    },
    {
     "name": "stdout",
     "output_type": "stream",
     "text": [
      "Warning: stress tensor calculation not fully tested\n"
     ]
    },
    {
     "name": "stderr",
     "output_type": "stream",
     "text": [
      " 95%|\u001b[38;2;128;0;0m██████████████████████████████████████████████████████████████████████████████████████████████▍    \u001b[0m| 270/283 [01:19<00:04,  3.22it/s]\u001b[0m"
     ]
    },
    {
     "name": "stdout",
     "output_type": "stream",
     "text": [
      "Warning: stress tensor calculation not fully tested\n"
     ]
    },
    {
     "name": "stderr",
     "output_type": "stream",
     "text": [
      " 96%|\u001b[38;2;128;0;0m██████████████████████████████████████████████████████████████████████████████████████████████▊    \u001b[0m| 271/283 [01:20<00:03,  3.24it/s]\u001b[0m"
     ]
    },
    {
     "name": "stdout",
     "output_type": "stream",
     "text": [
      "Warning: stress tensor calculation not fully tested\n"
     ]
    },
    {
     "name": "stderr",
     "output_type": "stream",
     "text": [
      " 96%|\u001b[38;2;128;0;0m███████████████████████████████████████████████████████████████████████████████████████████████▏   \u001b[0m| 272/283 [01:20<00:03,  3.22it/s]\u001b[0m"
     ]
    },
    {
     "name": "stdout",
     "output_type": "stream",
     "text": [
      "Warning: stress tensor calculation not fully tested\n"
     ]
    },
    {
     "name": "stderr",
     "output_type": "stream",
     "text": [
      " 96%|\u001b[38;2;128;0;0m███████████████████████████████████████████████████████████████████████████████████████████████▌   \u001b[0m| 273/283 [01:20<00:03,  3.15it/s]\u001b[0m"
     ]
    },
    {
     "name": "stdout",
     "output_type": "stream",
     "text": [
      "Warning: stress tensor calculation not fully tested\n"
     ]
    },
    {
     "name": "stderr",
     "output_type": "stream",
     "text": [
      " 97%|\u001b[38;2;128;0;0m███████████████████████████████████████████████████████████████████████████████████████████████▊   \u001b[0m| 274/283 [01:21<00:02,  3.24it/s]\u001b[0m"
     ]
    },
    {
     "name": "stdout",
     "output_type": "stream",
     "text": [
      "Warning: stress tensor calculation not fully tested\n"
     ]
    },
    {
     "name": "stderr",
     "output_type": "stream",
     "text": [
      " 97%|\u001b[38;2;128;0;0m████████████████████████████████████████████████████████████████████████████████████████████████▏  \u001b[0m| 275/283 [01:21<00:02,  3.32it/s]\u001b[0m"
     ]
    },
    {
     "name": "stdout",
     "output_type": "stream",
     "text": [
      "Warning: stress tensor calculation not fully tested\n"
     ]
    },
    {
     "name": "stderr",
     "output_type": "stream",
     "text": [
      " 98%|\u001b[38;2;128;0;0m████████████████████████████████████████████████████████████████████████████████████████████████▌  \u001b[0m| 276/283 [01:21<00:02,  3.35it/s]\u001b[0m"
     ]
    },
    {
     "name": "stdout",
     "output_type": "stream",
     "text": [
      "Warning: stress tensor calculation not fully tested\n"
     ]
    },
    {
     "name": "stderr",
     "output_type": "stream",
     "text": [
      " 98%|\u001b[38;2;128;0;0m████████████████████████████████████████████████████████████████████████████████████████████████▉  \u001b[0m| 277/283 [01:22<00:01,  3.30it/s]\u001b[0m"
     ]
    },
    {
     "name": "stdout",
     "output_type": "stream",
     "text": [
      "Warning: stress tensor calculation not fully tested\n"
     ]
    },
    {
     "name": "stderr",
     "output_type": "stream",
     "text": [
      " 98%|\u001b[38;2;128;0;0m█████████████████████████████████████████████████████████████████████████████████████████████████▎ \u001b[0m| 278/283 [01:22<00:01,  3.22it/s]\u001b[0m"
     ]
    },
    {
     "name": "stdout",
     "output_type": "stream",
     "text": [
      "Warning: stress tensor calculation not fully tested\n"
     ]
    },
    {
     "name": "stderr",
     "output_type": "stream",
     "text": [
      " 99%|\u001b[38;2;128;0;0m█████████████████████████████████████████████████████████████████████████████████████████████████▌ \u001b[0m| 279/283 [01:22<00:01,  3.21it/s]\u001b[0m"
     ]
    },
    {
     "name": "stdout",
     "output_type": "stream",
     "text": [
      "Warning: stress tensor calculation not fully tested\n"
     ]
    },
    {
     "name": "stderr",
     "output_type": "stream",
     "text": [
      " 99%|\u001b[38;2;128;0;0m█████████████████████████████████████████████████████████████████████████████████████████████████▉ \u001b[0m| 280/283 [01:23<00:00,  3.19it/s]\u001b[0m"
     ]
    },
    {
     "name": "stdout",
     "output_type": "stream",
     "text": [
      "Warning: stress tensor calculation not fully tested\n"
     ]
    },
    {
     "name": "stderr",
     "output_type": "stream",
     "text": [
      " 99%|\u001b[38;2;128;0;0m██████████████████████████████████████████████████████████████████████████████████████████████████▎\u001b[0m| 281/283 [01:23<00:00,  3.17it/s]\u001b[0m"
     ]
    },
    {
     "name": "stdout",
     "output_type": "stream",
     "text": [
      "Warning: stress tensor calculation not fully tested\n"
     ]
    },
    {
     "name": "stderr",
     "output_type": "stream",
     "text": [
      "100%|\u001b[38;2;128;0;0m██████████████████████████████████████████████████████████████████████████████████████████████████▋\u001b[0m| 282/283 [01:23<00:00,  3.14it/s]\u001b[0m"
     ]
    },
    {
     "name": "stdout",
     "output_type": "stream",
     "text": [
      "Warning: stress tensor calculation not fully tested\n"
     ]
    },
    {
     "name": "stderr",
     "output_type": "stream",
     "text": [
      "100%|\u001b[38;2;128;0;0m███████████████████████████████████████████████████████████████████████████████████████████████████\u001b[0m| 283/283 [01:23<00:00,  3.37it/s]\u001b[0m\n"
     ]
    }
   ],
   "source": [
    "from ccs_fit.scripts.ccs_validate import ccs_validate\n",
    "ccs_validate(mode=\"CCS\",CCS_params=\"CCS_params.json\",DFT_DB=\"DFT.db\")"
   ]
  },
  {
   "cell_type": "code",
   "execution_count": 11,
   "id": "26234bd3",
   "metadata": {},
   "outputs": [
    {
     "data": {
      "image/png": "[encoded data removed]",
      "text/plain": [
       "<Figure size 640x480 with 1 Axes>"
      ]
     },
     "metadata": {},
     "output_type": "display_data"
    },
    {
     "data": {
      "image/png": "[encoded data removed]",
      "text/plain": [
       "<Figure size 640x480 with 1 Axes>"
      ]
     },
     "metadata": {},
     "output_type": "display_data"
    }
   ],
   "source": [
    "try:\n",
    "    err=np.loadtxt(\"CCS_validate.dat\")\n",
    "    plt.xlabel('Reference energy (eV)')\n",
    "    plt.ylabel('Validation energy (eV)')\n",
    "    plt.plot( [min(err[:,0]),max(err[:,0])],[min(err[:,0]),max(err[:,0])],'--',color='black'  )\n",
    "    plt.scatter(err[:,0],err[:,1],facecolors='none', edgecolors='red')\n",
    "    plt.show()\n",
    "    plt.xlabel('Reference energy (eV)')\n",
    "    plt.ylabel('Error in fit (eV)')\n",
    "    plt.scatter(err[:,0],err[:,2],facecolors='none', edgecolors='red')\n",
    "    plt.show()\n",
    "except:\n",
    "    pass"
   ]
  },
  {
   "cell_type": "markdown",
   "id": "34edf9a9",
   "metadata": {},
   "source": [
    "### Cleaning up"
   ]
  },
  {
   "cell_type": "code",
   "execution_count": 11,
   "id": "6b63718b",
   "metadata": {},
   "outputs": [],
   "source": [
    "# import glob\n",
    "\n",
    "# def rm(file):\n",
    "#     try:\n",
    "#         os.remove(file)\n",
    "#     except OSError:\n",
    "#         pass\n",
    "\n",
    "\n",
    "# list=glob.glob(\"CALCULATED_DATA/*\")\n",
    "# for file in list:\n",
    "#     rm(file)\n",
    "# list=glob.glob(\"CCS_*\")\n",
    "# for file in list:\n",
    "#     rm(file)\n",
    "# list=glob.glob(\"UNC_*\")\n",
    "# for file in list:\n",
    "#     rm(file)\n",
    "# rm(\"structures.json\")\n",
    "# rm(\"file_list\")\n",
    "# rm(\"LJ.db\")"
   ]
  },
  {
   "cell_type": "markdown",
   "id": "1bb3295f-817b-4618-b63d-e019598b2a46",
   "metadata": {},
   "source": [
    "### Convex hull"
   ]
  },
  {
   "cell_type": "code",
   "execution_count": 12,
   "id": "291f7065-302e-4605-80fa-d8dd4c16137a",
   "metadata": {
    "tags": []
   },
   "outputs": [
    {
     "ename": "NameError",
     "evalue": "name 'io' is not defined",
     "output_type": "error",
     "traceback": [
      "\u001b[1;31m---------------------------------------------------------------------------\u001b[0m",
      "\u001b[1;31mNameError\u001b[0m                                 Traceback (most recent call last)",
      "Cell \u001b[1;32mIn[12], line 1\u001b[0m\n\u001b[1;32m----> 1\u001b[0m struct_no_Li \u001b[38;5;241m=\u001b[39m \u001b[43mio\u001b[49m\u001b[38;5;241m.\u001b[39mread(\u001b[38;5;124m'\u001b[39m\u001b[38;5;124mDFT.db@21\u001b[39m\u001b[38;5;124m'\u001b[39m)\n\u001b[0;32m      2\u001b[0m struct_full_Li \u001b[38;5;241m=\u001b[39m io\u001b[38;5;241m.\u001b[39mread(\u001b[38;5;124m'\u001b[39m\u001b[38;5;124mDFT.db@10\u001b[39m\u001b[38;5;124m'\u001b[39m)\n\u001b[0;32m      4\u001b[0m nrg_0 \u001b[38;5;241m=\u001b[39m struct_no_Li\u001b[38;5;241m.\u001b[39mget_potential_energy()\n",
      "\u001b[1;31mNameError\u001b[0m: name 'io' is not defined"
     ]
    }
   ],
   "source": [
    "struct_no_Li = io.read('DFT.db@21')\n",
    "struct_full_Li = io.read('DFT.db@10')\n",
    "\n",
    "nrg_0 = struct_no_Li.get_potential_energy()\n",
    "nrg_1 = struct_full_Li.get_potential_energy()\n",
    "\n",
    "print(struct_no_Li.get_chemical_formula())\n",
    "print(struct_full_Li.get_chemical_formula())"
   ]
  },
  {
   "cell_type": "code",
   "execution_count": 13,
   "id": "779408c2-46fc-4f36-8065-4a9b4c993a5d",
   "metadata": {},
   "outputs": [
    {
     "data": {
      "text/plain": [
       "Text(0, 0.5, 'Energy')"
      ]
     },
     "execution_count": 13,
     "metadata": {},
     "output_type": "execute_result"
    },
    {
     "data": {
      "image/png": "[encoded data removed]",
      "text/plain": [
       "<Figure size 640x480 with 1 Axes>"
      ]
     },
     "metadata": {},
     "output_type": "display_data"
    }
   ],
   "source": [
    "# CCS\n",
    "from ccs_fit.ase_calculator.ccs_ase_calculator import CCS \n",
    "from ase import io\n",
    "import json\n",
    "import ase.db as db\n",
    "import matplotlib.pyplot as plt\n",
    "\n",
    "with open(\"CCS_params.json\", 'r') as f:\n",
    "    CCS_params = json.load(f)\n",
    "\n",
    "nrg_Li = CCS_params['One_body']['Li']\n",
    "    \n",
    "CCS_calc=CCS(CCS_params=CCS_params)\n",
    "    \n",
    "DFT_DB = db.connect('DFT.db')\n",
    "    \n",
    "xs = []\n",
    "CCS_nrgs = []\n",
    "\n",
    "i = 0\n",
    "\n",
    "struct_no_Li_CCS = struct_no_Li.copy()\n",
    "struct_full_Li_CCS = struct_full_Li.copy()\n",
    "\n",
    "struct_no_Li_CCS.calc = CCS_calc\n",
    "struct_full_Li_CCS.calc = CCS_calc\n",
    "\n",
    "ECCS_no_Li = struct_no_Li_CCS.get_potential_energy()\n",
    "ECCS_full_Li = struct_full_Li_CCS.get_potential_energy()\n",
    "\n",
    "for row in DFT_DB.select():\n",
    "    structure = row.toatoms()\n",
    "    # print(structure.get_magnetic_moments())\n",
    "    elems = structure.get_chemical_symbols()\n",
    "    nr_Li = elems.count('Li')\n",
    "    nr_Ni = elems.count('Ni')\n",
    "    x = nr_Li/nr_Ni\n",
    "    EDFT = structure.get_potential_energy()\n",
    "    structure.calc = CCS_calc\n",
    "    ECCS = structure.get_potential_energy() - (ECCS_no_Li) - (ECCS_full_Li-ECCS_no_Li)/27*nr_Li\n",
    "    xs.append(x)\n",
    "    CCS_nrgs.append(ECCS)\n",
    "    i += 1\n",
    "\n",
    "plt.scatter(xs, CCS_nrgs)\n",
    "plt.xlabel(\"Li concentration\")\n",
    "plt.ylabel(\"Energy\")"
   ]
  },
  {
   "cell_type": "code",
   "execution_count": 4,
   "id": "4d6039ac-2120-4fb5-8463-749d3d8d5b6a",
   "metadata": {},
   "outputs": [
    {
     "name": "stdout",
     "output_type": "stream",
     "text": [
      "0 0.48148148148148145\n",
      "1 0.6296296296296297\n",
      "2 0.7407407407407407\n",
      "3 0.14814814814814814\n",
      "4 0.25925925925925924\n",
      "5 0.6666666666666666\n",
      "6 0.7407407407407407\n",
      "7 0.5925925925925926\n",
      "8 0.5555555555555556\n",
      "9 0.2962962962962963\n",
      "10 1.0\n",
      "11 0.37037037037037035\n",
      "12 0.6296296296296297\n",
      "13 0.14814814814814814\n",
      "14 0.037037037037037035\n",
      "15 0.8888888888888888\n",
      "16 0.18518518518518517\n",
      "17 0.8518518518518519\n",
      "18 0.2222222222222222\n",
      "19 0.7037037037037037\n",
      "20 0.4444444444444444\n",
      "21 0.0\n",
      "22 0.07407407407407407\n",
      "23 0.4074074074074074\n",
      "24 0.18518518518518517\n",
      "25 0.4444444444444444\n",
      "26 0.25925925925925924\n",
      "27 0.14814814814814814\n",
      "28 0.8148148148148148\n",
      "29 0.48148148148148145\n",
      "30 0.3333333333333333\n",
      "31 0.2962962962962963\n",
      "32 0.5185185185185185\n",
      "33 0.25925925925925924\n",
      "34 0.8148148148148148\n",
      "35 0.2222222222222222\n",
      "36 0.07407407407407407\n",
      "37 0.5925925925925926\n",
      "38 0.5555555555555556\n",
      "39 0.18518518518518517\n",
      "40 0.4444444444444444\n",
      "41 0.1111111111111111\n",
      "42 0.14814814814814814\n",
      "43 0.4074074074074074\n",
      "44 0.48148148148148145\n",
      "45 0.4074074074074074\n",
      "46 0.5185185185185185\n",
      "47 0.07407407407407407\n",
      "48 0.18518518518518517\n",
      "49 0.9629629629629629\n",
      "50 0.48148148148148145\n",
      "51 0.07407407407407407\n",
      "52 0.5555555555555556\n",
      "53 0.8888888888888888\n",
      "54 0.5185185185185185\n",
      "55 0.7407407407407407\n",
      "56 0.25925925925925924\n",
      "57 0.7777777777777778\n",
      "58 0.8518518518518519\n",
      "59 0.9259259259259259\n",
      "60 0.5185185185185185\n",
      "61 0.7777777777777778\n",
      "62 0.2222222222222222\n",
      "63 0.4444444444444444\n",
      "64 0.1111111111111111\n",
      "65 0.3333333333333333\n",
      "66 0.5925925925925926\n",
      "67 0.14814814814814814\n",
      "68 0.8148148148148148\n",
      "69 0.2222222222222222\n",
      "70 0.48148148148148145\n",
      "71 0.5185185185185185\n",
      "72 0.1111111111111111\n",
      "73 0.48148148148148145\n",
      "74 0.4074074074074074\n",
      "75 0.48148148148148145\n",
      "76 0.3333333333333333\n",
      "77 0.5185185185185185\n"
     ]
    },
    {
     "ename": "NameError",
     "evalue": "name 'plt' is not defined",
     "output_type": "error",
     "traceback": [
      "\u001b[1;31m---------------------------------------------------------------------------\u001b[0m",
      "\u001b[1;31mNameError\u001b[0m                                 Traceback (most recent call last)",
      "Cell \u001b[1;32mIn[4], line 36\u001b[0m\n\u001b[0;32m     33\u001b[0m     DFT_nrgs\u001b[38;5;241m.\u001b[39mappend(EDFT)\n\u001b[0;32m     34\u001b[0m     i \u001b[38;5;241m+\u001b[39m\u001b[38;5;241m=\u001b[39m \u001b[38;5;241m1\u001b[39m\n\u001b[1;32m---> 36\u001b[0m \u001b[43mplt\u001b[49m\u001b[38;5;241m.\u001b[39mscatter(xs, DFT_nrgs)\n\u001b[0;32m     37\u001b[0m plt\u001b[38;5;241m.\u001b[39mxlabel(\u001b[38;5;124m\"\u001b[39m\u001b[38;5;124mLi concentration\u001b[39m\u001b[38;5;124m\"\u001b[39m)\n\u001b[0;32m     38\u001b[0m plt\u001b[38;5;241m.\u001b[39mylabel(\u001b[38;5;124m\"\u001b[39m\u001b[38;5;124mEnergy\u001b[39m\u001b[38;5;124m\"\u001b[39m)\n",
      "\u001b[1;31mNameError\u001b[0m: name 'plt' is not defined"
     ]
    }
   ],
   "source": [
    "# CCS\n",
    "from ccs_fit.ase_calculator.ccs_ase_calculator import CCS \n",
    "from ase import io\n",
    "import json\n",
    "import ase.db as db\n",
    "\n",
    "with open(\"CCS_params.json\", 'r') as f:\n",
    "    CCS_params = json.load(f)\n",
    "\n",
    "nrg_Li = CCS_params['One_body']['Li']\n",
    "    \n",
    "CCS_calc=CCS(CCS_params=CCS_params)\n",
    "    \n",
    "DFT_DB = db.connect('DFT.db')\n",
    "    \n",
    "xs = []\n",
    "DFT_nrgs = []\n",
    "\n",
    "i = 0\n",
    "\n",
    "for row in DFT_DB.select():\n",
    "    structure = row.toatoms()\n",
    "    # print(i)\n",
    "    # print(dir(structure))\n",
    "    # print(structure.get_magnetic_moment())\n",
    "    elems = structure.get_chemical_symbols()\n",
    "    nr_Li = elems.count('Li')\n",
    "    nr_Ni = elems.count('Ni')\n",
    "    x = nr_Li/nr_Ni\n",
    "    print(i,x)\n",
    "    EDFT = structure.get_potential_energy() - (nrg_0) - (nrg_1-nrg_0)/27*nr_Li\n",
    "    xs.append(x)\n",
    "    DFT_nrgs.append(EDFT)\n",
    "    i += 1\n",
    "\n",
    "plt.scatter(xs, DFT_nrgs)\n",
    "plt.xlabel(\"Li concentration\")\n",
    "plt.ylabel(\"Energy\")"
   ]
  },
  {
   "cell_type": "code",
   "execution_count": 6,
   "id": "3131a848-f375-41c5-9cf7-d437aafb698a",
   "metadata": {},
   "outputs": [
    {
     "name": "stdout",
     "output_type": "stream",
     "text": [
      "      Step     Time          Energy         fmax\n",
      "BFGS:    0 10:48:52     -561.268213        0.1146\n",
      "BFGS:    1 10:48:54     -561.269643        0.1122\n",
      "BFGS:    2 10:48:56     -561.337006        0.0475\n",
      "BFGS:    3 10:48:58     -561.340016        0.0643\n",
      "BFGS:    4 10:49:01     -561.340464        0.0687\n",
      "BFGS:    5 10:49:03     -561.341483        0.0736\n",
      "BFGS:    6 10:49:05     -561.344638        0.0791\n",
      "BFGS:    7 10:49:07     -561.350090        0.0722\n",
      "BFGS:    8 10:49:09     -561.357177        0.0439\n",
      "BFGS:    9 10:49:10     -561.362048        0.0239\n",
      "BFGS:   10 10:49:12     -561.363869        0.0278\n",
      "BFGS:   11 10:49:14     -561.364192        0.0303\n",
      "BFGS:   12 10:49:15     -561.364356        0.0294\n",
      "BFGS:   13 10:49:17     -561.365060        0.0261\n",
      "BFGS:   14 10:49:19     -561.366362        0.0207\n",
      "BFGS:   15 10:49:21     -561.369031        0.0135\n",
      "BFGS:   16 10:49:23     -561.371671        0.0260\n",
      "BFGS:   17 10:49:25     -561.373150        0.0294\n",
      "BFGS:   18 10:49:28     -561.373529        0.0245\n",
      "BFGS:   19 10:49:29     -561.373612        0.0218\n",
      "BFGS:   20 10:49:32     -561.373841        0.0164\n",
      "BFGS:   21 10:49:34     -561.374337        0.0141\n",
      "BFGS:   22 10:49:36     -561.375568        0.0139\n",
      "BFGS:   23 10:49:38     -561.377556        0.0195\n",
      "BFGS:   24 10:49:40     -561.379205        0.0269\n",
      "BFGS:   25 10:49:42     -561.380124        0.0235\n",
      "BFGS:   26 10:49:45     -561.380414        0.0177\n",
      "BFGS:   27 10:49:47     -561.380486        0.0158\n",
      "BFGS:   28 10:49:49     -561.380758        0.0141\n",
      "BFGS:   29 10:49:51     -561.381295        0.0142\n",
      "BFGS:   30 10:49:53     -561.382508        0.0190\n",
      "BFGS:   31 10:49:55     -561.384597        0.0272\n",
      "BFGS:   32 10:49:57     -561.385790        0.0218\n",
      "BFGS:   33 10:49:59     -561.386220        0.0146\n",
      "BFGS:   34 10:50:01     -561.386286        0.0146\n",
      "BFGS:   35 10:50:04     -561.386384        0.0146\n",
      "BFGS:   36 10:50:06     -561.386581        0.0145\n",
      "BFGS:   37 10:50:08     -561.387048        0.0143\n",
      "BFGS:   38 10:50:10     -561.387897        0.0143\n",
      "BFGS:   39 10:50:12     -561.388917        0.0151\n",
      "BFGS:   40 10:50:14     -561.389582        0.0113\n",
      "BFGS:   41 10:50:16     -561.389757        0.0091\n",
      "BFGS:   42 10:50:19     -561.389794        0.0085\n",
      "BFGS:   43 10:50:21     -561.389839        0.0080\n",
      "BFGS:   44 10:50:23     -561.389954        0.0073\n",
      "BFGS:   45 10:50:25     -561.390208        0.0100\n",
      "BFGS:   46 10:50:27     -561.390703        0.0130\n",
      "BFGS:   47 10:50:29     -561.391301        0.0109\n",
      "BFGS:   48 10:50:31     -561.391583        0.0073\n",
      "BFGS:   49 10:50:33     -561.391642        0.0062\n",
      "BFGS:   50 10:50:35     -561.391658        0.0056\n",
      "BFGS:   51 10:50:37     -561.391681        0.0056\n",
      "BFGS:   52 10:50:40     -561.391739        0.0054\n",
      "BFGS:   53 10:50:42     -561.391864        0.0054\n",
      "BFGS:   54 10:50:44     -561.392066        0.0069\n",
      "BFGS:   55 10:50:46     -561.392266        0.0066\n",
      "BFGS:   56 10:50:48     -561.392350        0.0058\n",
      "BFGS:   57 10:50:50     -561.392368        0.0058\n",
      "BFGS:   58 10:50:52     -561.392377        0.0054\n",
      "BFGS:   59 10:50:54     -561.392397        0.0045\n",
      "BFGS:   60 10:50:56     -561.392443        0.0032\n",
      "BFGS:   61 10:50:58     -561.392535        0.0035\n",
      "BFGS:   62 10:51:00     -561.392665        0.0050\n",
      "BFGS:   63 10:51:02     -561.392749        0.0060\n",
      "BFGS:   64 10:51:04     -561.392770        0.0055\n",
      "BFGS:   65 10:51:06     -561.392778        0.0050\n",
      "BFGS:   66 10:51:08     -561.392787        0.0046\n",
      "BFGS:   67 10:51:10     -561.392813        0.0039\n",
      "BFGS:   68 10:51:12     -561.392865        0.0036\n",
      "BFGS:   69 10:51:15     -561.392958        0.0042\n",
      "BFGS:   70 10:51:17     -561.393052        0.0042\n",
      "BFGS:   71 10:51:19     -561.393095        0.0033\n",
      "BFGS:   72 10:51:21     -561.393105        0.0031\n",
      "BFGS:   73 10:51:23     -561.393109        0.0032\n",
      "BFGS:   74 10:51:25     -561.393117        0.0032\n",
      "BFGS:   75 10:51:27     -561.393134        0.0031\n",
      "BFGS:   76 10:51:29     -561.393173        0.0030\n",
      "BFGS:   77 10:51:31     -561.393241        0.0040\n",
      "BFGS:   78 10:51:33     -561.393323        0.0047\n",
      "BFGS:   79 10:51:35     -561.393351        0.0038\n",
      "BFGS:   80 10:51:37     -561.393361        0.0041\n",
      "BFGS:   81 10:51:40     -561.393364        0.0039\n",
      "BFGS:   82 10:51:42     -561.393379        0.0033\n",
      "BFGS:   83 10:51:43     -561.393404        0.0029\n",
      "BFGS:   84 10:51:46     -561.393453        0.0028\n",
      "BFGS:   85 10:51:48     -561.393502        0.0026\n",
      "BFGS:   86 10:51:50     -561.393529        0.0024\n",
      "BFGS:   87 10:51:52     -561.393535        0.0022\n",
      "BFGS:   88 10:51:54     -561.393537        0.0021\n",
      "BFGS:   89 10:51:56     -561.393539        0.0020\n",
      "BFGS:   90 10:51:58     -561.393546        0.0019\n",
      "BFGS:   91 10:52:04     -561.393562        0.0016\n",
      "BFGS:   92 10:52:06     -561.393590        0.0015\n",
      "BFGS:   93 10:52:08     -561.393626        0.0025\n",
      "BFGS:   94 10:52:10     -561.393652        0.0029\n",
      "BFGS:   95 10:52:12     -561.393659        0.0035\n",
      "BFGS:   96 10:52:15     -561.393662        0.0037\n",
      "BFGS:   97 10:52:17     -561.393666        0.0039\n",
      "BFGS:   98 10:52:19     -561.393678        0.0041\n",
      "BFGS:   99 10:52:21     -561.393704        0.0041\n",
      "BFGS:  100 10:52:23     -561.393749        0.0036\n",
      "BFGS:  101 10:52:25     -561.393799        0.0043\n",
      "BFGS:  102 10:52:28     -561.393821        0.0037\n",
      "BFGS:  103 10:52:30     -561.393829        0.0038\n",
      "BFGS:  104 10:52:32     -561.393831        0.0037\n",
      "BFGS:  105 10:52:34     -561.393838        0.0037\n",
      "BFGS:  106 10:52:37     -561.393855        0.0034\n",
      "BFGS:  107 10:52:39     -561.393893        0.0041\n",
      "BFGS:  108 10:52:41     -561.393952        0.0047\n",
      "BFGS:  109 10:52:44     -561.393996        0.0046\n",
      "BFGS:  110 10:52:46     -561.394017        0.0030\n",
      "BFGS:  111 10:52:48     -561.394020        0.0029\n",
      "BFGS:  112 10:52:51     -561.394022        0.0030\n",
      "BFGS:  113 10:52:53     -561.394028        0.0029\n",
      "BFGS:  114 10:52:55     -561.394045        0.0026\n",
      "BFGS:  115 10:52:57     -561.394070        0.0020\n",
      "BFGS:  116 10:53:00     -561.394095        0.0024\n",
      "BFGS:  117 10:53:03     -561.394105        0.0022\n",
      "BFGS:  118 10:53:05     -561.394108        0.0017\n",
      "BFGS:  119 10:53:33     -561.394109        0.0016\n",
      "BFGS:  120 10:53:40     -561.394111        0.0016\n",
      "BFGS:  121 10:53:44     -561.394116        0.0016\n",
      "BFGS:  122 10:53:48     -561.394126        0.0016\n",
      "BFGS:  123 10:53:52     -561.394142        0.0023\n",
      "BFGS:  124 10:53:55     -561.394157        0.0026\n",
      "BFGS:  125 10:53:58     -561.394163        0.0021\n",
      "BFGS:  126 10:54:02     -561.394164        0.0017\n",
      "BFGS:  127 10:54:04     -561.394165        0.0017\n",
      "BFGS:  128 10:54:06     -561.394168        0.0017\n",
      "BFGS:  129 10:54:08     -561.394173        0.0017\n",
      "BFGS:  130 10:54:10     -561.394184        0.0016\n",
      "BFGS:  131 10:54:11     -561.394198        0.0025\n",
      "BFGS:  132 10:54:13     -561.394208        0.0026\n",
      "BFGS:  133 10:54:15     -561.394212        0.0019\n",
      "BFGS:  134 10:54:17     -561.394213        0.0014\n",
      "BFGS:  135 10:54:19     -561.394213        0.0013\n",
      "BFGS:  136 10:54:21     -561.394216        0.0011\n",
      "BFGS:  137 10:54:24     -561.394221        0.0013\n",
      "BFGS:  138 10:54:25     -561.394230        0.0019\n",
      "BFGS:  139 10:54:27     -561.394242        0.0026\n",
      "BFGS:  140 10:54:29     -561.394249        0.0021\n",
      "BFGS:  141 10:54:31     -561.394251        0.0014\n",
      "BFGS:  142 10:54:33     -561.394251        0.0014\n",
      "BFGS:  143 10:54:35     -561.394252        0.0014\n",
      "BFGS:  144 10:54:37     -561.394254        0.0013\n",
      "BFGS:  145 10:54:40     -561.394258        0.0013\n",
      "BFGS:  146 10:54:41     -561.394266        0.0022\n",
      "BFGS:  147 10:54:44     -561.394276        0.0027\n",
      "BFGS:  148 10:54:46     -561.394282        0.0022\n",
      "BFGS:  149 10:54:48     -561.394283        0.0014\n",
      "BFGS:  150 10:54:50     -561.394284        0.0010\n",
      "BFGS:  151 10:54:52     -561.394284        0.0009\n"
     ]
    },
    {
     "data": {
      "text/plain": [
       "True"
      ]
     },
     "execution_count": 6,
     "metadata": {},
     "output_type": "execute_result"
    }
   ],
   "source": [
    "from ase.optimize import BFGS\n",
    "from ccs_fit.ase_calculator.ccs_ase_calculator import CCS\n",
    "from tqdm import tqdm\n",
    "from ase import io\n",
    "\n",
    "struct = io.read('DFT.db@11')\n",
    "\n",
    "struct = struct # * [2,2,2]\n",
    "\n",
    "CCS_calc = CCS(CCS_params=CCS_params)\n",
    "\n",
    "struct.rattle(0.05)\n",
    "struct.calc = CCS_calc\n",
    "\n",
    "opt = BFGS(struct, trajectory='opt.traj')\n",
    "opt.run(fmax=0.001)"
   ]
  },
  {
   "cell_type": "code",
   "execution_count": 11,
   "id": "4d72920f-6c7f-490c-bf07-46f4f7cc24f0",
   "metadata": {
    "tags": []
   },
   "outputs": [],
   "source": [
    "!ase gui opt.traj"
   ]
  },
  {
   "cell_type": "code",
   "execution_count": 1,
   "id": "f920709e-eb63-4393-8553-8a129b22a241",
   "metadata": {
    "tags": []
   },
   "outputs": [
    {
     "ename": "NameError",
     "evalue": "name 'struct' is not defined",
     "output_type": "error",
     "traceback": [
      "\u001b[1;31m---------------------------------------------------------------------------\u001b[0m",
      "\u001b[1;31mNameError\u001b[0m                                 Traceback (most recent call last)",
      "Cell \u001b[1;32mIn[1], line 13\u001b[0m\n\u001b[0;32m     11\u001b[0m dt \u001b[38;5;241m=\u001b[39m \u001b[38;5;241m0.5\u001b[39m \u001b[38;5;241m*\u001b[39m units\u001b[38;5;241m.\u001b[39mfs\n\u001b[0;32m     12\u001b[0m steps \u001b[38;5;241m=\u001b[39m \u001b[38;5;28mint\u001b[39m(\u001b[38;5;241m300\u001b[39m)\n\u001b[1;32m---> 13\u001b[0m MaxwellBoltzmannDistribution(\u001b[43mstruct\u001b[49m, temperature_K\u001b[38;5;241m=\u001b[39m\u001b[38;5;241m600\u001b[39m)\n\u001b[0;32m     14\u001b[0m dyn \u001b[38;5;241m=\u001b[39m VelocityVerlet(struct, timestep\u001b[38;5;241m=\u001b[39mdt)\n\u001b[0;32m     15\u001b[0m interval \u001b[38;5;241m=\u001b[39m \u001b[38;5;28mint\u001b[39m(\u001b[38;5;241m1\u001b[39m)\n",
      "\u001b[1;31mNameError\u001b[0m: name 'struct' is not defined"
     ]
    }
   ],
   "source": [
    "# Read geometry optimized structure and run NVE Molecular dynamics \n",
    "import numpy as np\n",
    "from ase import units\n",
    "from ase.io import read, write\n",
    "from ase.io.trajectory import Trajectory\n",
    "from ase.md import MDLogger\n",
    "from ase.md.verlet import VelocityVerlet\n",
    "from ase.md.velocitydistribution import (MaxwellBoltzmannDistribution,\n",
    "                                         Stationary, ZeroRotation)\n",
    "\n",
    "dt = 0.5 * units.fs\n",
    "steps = int(300)\n",
    "MaxwellBoltzmannDistribution(struct, temperature_K=600)\n",
    "dyn = VelocityVerlet(struct, timestep=dt)\n",
    "interval = int(1)\n",
    "dyn.attach(MDLogger(dyn, struct, 'output.log', mode=\"a\"), interval=interval)\n",
    "dyn.attach(Trajectory('output.traj', 'a', struct).write, interval=interval)\n",
    "dyn.run(steps)"
   ]
  },
  {
   "cell_type": "code",
   "execution_count": 2,
   "id": "7141703f-c730-4316-89f8-f40f060f9e3e",
   "metadata": {
    "tags": []
   },
   "outputs": [
    {
     "name": "stderr",
     "output_type": "stream",
     "text": [
      "usage: ase [-h] [--version] [-T]\n",
      "           {help,info,test,gui,db,run,band-structure,build,dimensionality,eos,ulm,find,nebplot,nomad-upload,nomad-get,convert,reciprocal,completion,diff,exec}\n",
      "           ...\n",
      "ase: error: FileNotFoundError: [Errno 2] No such file or directory: 'output.traj'\n",
      "To get a full traceback, use: ase -T gui ...\n"
     ]
    }
   ],
   "source": [
    "!ase gui output.traj"
   ]
  },
  {
   "cell_type": "code",
   "execution_count": 50,
   "id": "5a1203b4-384e-41b6-9fb1-c8c0cb7f02b1",
   "metadata": {},
   "outputs": [
    {
     "name": "stdout",
     "output_type": "stream",
     "text": [
      "      Step     Time          Energy         fmax\n",
      "BFGS:    0 12:20:11    -4056.685755        0.0000\n"
     ]
    },
    {
     "data": {
      "text/plain": [
       "True"
      ]
     },
     "execution_count": 50,
     "metadata": {},
     "output_type": "execute_result"
    }
   ],
   "source": [
    "## Stresses not currently implemented in ccs_fit yet!\n",
    "\n",
    "from ase.constraints import StrainFilter\n",
    "\n",
    "sf = StrainFilter(struct)\n",
    "opt = BFGS(sf)\n",
    "opt.run(0.005)"
   ]
  },
  {
   "cell_type": "code",
   "execution_count": 18,
   "id": "5b535de1-71fe-4fa3-a504-9f8ca07cbb9b",
   "metadata": {},
   "outputs": [
    {
     "name": "stdout",
     "output_type": "stream",
     "text": [
      "602\n"
     ]
    }
   ],
   "source": [
    "structs = io.read('output.traj@:')\n",
    "\n",
    "print(len(structs))"
   ]
  },
  {
   "cell_type": "code",
   "execution_count": 15,
   "id": "10c9240a-611c-4dc0-b547-5e6187bbb2f9",
   "metadata": {},
   "outputs": [
    {
     "name": "stdout",
     "output_type": "stream",
     "text": [
      "Atom('O', [1.5302522558471303, 0.6498901747917316, 8.350791516660168], momentum=[0.0014744864791352498, -0.0003861502676627821, -0.0013253298584316594], index=40)\n",
      "Atom('O', [4.184446643135762, 2.4776447376680752, 3.7608334497495246], momentum=[-0.0030845779832983197, 0.0027338945258879575, 0.0021347184935242842], index=80)\n"
     ]
    }
   ],
   "source": [
    "for i in range(2):\n",
    "    print(structs[(i+1)*50])\n",
    "    "
   ]
  },
  {
   "cell_type": "code",
   "execution_count": 1,
   "id": "34105646-c4dd-44ad-9a0f-e93492042ee6",
   "metadata": {
    "scrolled": true
   },
   "outputs": [
    {
     "name": "stdout",
     "output_type": "stream",
     "text": [
      "Buckingham fit (not optimised) for element pair Li-Ni;     V(r) = -5.00*exp(-1.92*r) -(-9.78)/r^6.\n",
      "Lennard Jones fit (not optimised) for element pair Li-Ni;  V(r) = 4*0.01*((1.99/r)^12 - (1.99/r)^6)\n",
      "Morse fit (not optimised) for element pair Li-Ni;          V(r) = 0.00*(1-np.exp(-4.19*(r-2.87)))^2 + -0.00\n"
     ]
    },
    {
     "data": {
      "image/png": "[encoded data removed]",
      "text/plain": [
       "<Figure size 640x480 with 1 Axes>"
      ]
     },
     "metadata": {},
     "output_type": "display_data"
    },
    {
     "name": "stdout",
     "output_type": "stream",
     "text": [
      "Buckingham fit (not optimised) for element pair Li-O;     V(r) = -10.30*exp(-2.59*r) -(-2.96)/r^6.\n",
      "Lennard Jones fit (not optimised) for element pair Li-O;  V(r) = 4*0.02*((1.58/r)^12 - (1.58/r)^6)\n",
      "Morse fit (not optimised) for element pair Li-O;          V(r) = 0.01*(1-np.exp(-4.01*(r-2.03)))^2 + -0.01\n"
     ]
    },
    {
     "data": {
      "image/png": "[encoded data removed]",
      "text/plain": [
       "<Figure size 640x480 with 1 Axes>"
      ]
     },
     "metadata": {},
     "output_type": "display_data"
    },
    {
     "name": "stdout",
     "output_type": "stream",
     "text": [
      "Buckingham fit (not optimised) for element pair Ni-O;     V(r) = -0.67*exp(-1.42*r) -(-0.84)/r^6.\n",
      "Lennard Jones fit (not optimised) for element pair Ni-O;  V(r) = 4*0.03*((1.77/r)^12 - (1.77/r)^6)\n",
      "Morse fit (not optimised) for element pair Ni-O;          V(r) = 0.03*(1-np.exp(-1.33*(r-1.67)))^2 + -0.03\n"
     ]
    },
    {
     "data": {
      "image/png": "[encoded data removed]",
      "text/plain": [
       "<Figure size 640x480 with 1 Axes>"
      ]
     },
     "metadata": {},
     "output_type": "display_data"
    },
    {
     "name": "stdout",
     "output_type": "stream",
     "text": [
      "Buckingham fit (not optimised) for element pair O-O;     V(r) = -1.37*exp(-1.85*r) -(-3.55)/r^6.\n",
      "Lennard Jones fit (not optimised) for element pair O-O;  V(r) = 4*-28.38*((0.32/r)^12 - (0.32/r)^6)\n",
      "Morse fit (not optimised) for element pair O-O;          V(r) = 0.00*(1-np.exp(-3.83*(r-0.01)))^2 + -0.00\n"
     ]
    },
    {
     "data": {
      "image/png": "[encoded data removed]",
      "text/plain": [
       "<Figure size 640x480 with 1 Axes>"
      ]
     },
     "metadata": {},
     "output_type": "display_data"
    },
    {
     "name": "stdout",
     "output_type": "stream",
     "text": [
      "Buckingham fit (not optimised) for element pair Ni-Ni;     V(r) = -0.27*exp(-1.68*r) -(-1.34)/r^6.\n",
      "Lennard Jones fit (not optimised) for element pair Ni-Ni;  V(r) = 4*-7.51*((0.36/r)^12 - (0.36/r)^6)\n",
      "Morse fit (not optimised) for element pair Ni-Ni;          V(r) = 0.00*(1-np.exp(-3.02*(r-0.11)))^2 + 0.00\n"
     ]
    },
    {
     "data": {
      "image/png": "[encoded data removed]",
      "text/plain": [
       "<Figure size 640x480 with 1 Axes>"
      ]
     },
     "metadata": {},
     "output_type": "display_data"
    },
    {
     "name": "stdout",
     "output_type": "stream",
     "text": [
      "Buckingham fit (not optimised) for element pair Li-Li;     V(r) = 17.16*exp(-1.44*r) -(81.75)/r^6.\n",
      "Lennard Jones fit (not optimised) for element pair Li-Li;  V(r) = 4*-0.14*((2.48/r)^12 - (2.48/r)^6)\n",
      "Morse fit (not optimised) for element pair Li-Li;          V(r) = 0.00*(1-np.exp(-5.09*(r-0.04)))^2 + 0.04\n"
     ]
    },
    {
     "data": {
      "image/png": "[encoded data removed]",
      "text/plain": [
       "<Figure size 640x480 with 1 Axes>"
      ]
     },
     "metadata": {},
     "output_type": "display_data"
    }
   ],
   "source": [
    "from ccs_fit.scripts.ccs_export_FF import write_FF\n",
    "write_FF(\"CCS_params.json\")"
   ]
  },
  {
   "cell_type": "code",
   "execution_count": null,
   "id": "fe5ae0df",
   "metadata": {},
   "outputs": [],
   "source": []
  }
 ],
 "metadata": {
  "kernelspec": {
   "display_name": "Tantalizing",
   "language": "python",
   "name": "tantalizing"
  },
  "language_info": {
   "codemirror_mode": {
    "name": "ipython",
    "version": 3
   },
   "file_extension": ".py",
   "mimetype": "text/x-python",
   "name": "python",
   "nbconvert_exporter": "python",
   "pygments_lexer": "ipython3",
   "version": "3.9.16"
  },
  "vscode": {
   "interpreter": {
    "hash": "f9cf24ff20edf0aae28141210fc773ab63efd2a56eb4d7d08651373a5d8a7dcd"
   }
  }
 },
 "nbformat": 4,
 "nbformat_minor": 5
}
