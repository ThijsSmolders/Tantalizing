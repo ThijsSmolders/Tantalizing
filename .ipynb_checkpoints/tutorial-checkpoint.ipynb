{
 "cells": [
  {
   "cell_type": "markdown",
   "id": "74f144dd",
   "metadata": {},
   "source": [
    "# A simple, yet complete, tutorial on how use the CCS_fit module to fit two-body interactions for solid Ne"
   ]
  },
  {
   "cell_type": "code",
   "execution_count": 2,
   "id": "d88f1c57-aa71-4a19-9b6b-e9ada91bb1e6",
   "metadata": {},
   "outputs": [],
   "source": [
    "# Load in the relevant packages\n",
    "\n",
    "from ase.io import read,write\n",
    "\n",
    "import numpy as np\n",
    "import ase.db as db\n",
    "from ase.visualize import view\n",
    "from ase.calculators.lj import LennardJones\n",
    "import matplotlib.pyplot as plt\n",
    "from ase.spacegroup import get_spacegroup\n",
    "import spglib\n",
    "\n",
    "CIFS = [\"NiO_Supercell_1.POSCAR\", \"NiO_Supercell_2.POSCAR\", \"NiO_Supercell_3.POSCAR\", \"Ni2O3_Supercell_1.POSCAR\", \"Ni2O3_Supercell_2.POSCAR\", \"NiO2_Supercell_1.POSCAR\", \"NiO2_Supercell_2.POSCAR\"]"
   ]
  },
  {
   "cell_type": "markdown",
   "id": "16cf8943-479f-4215-b40e-863f22c69e1e",
   "metadata": {},
   "source": [
    "### Generate training data\n",
    "Curvature Constrained Splines can be fitted to a reference data-set with energies (and optionally forces) of pre-calculated structures. In this example we generate the reference data-set using a Lennard-Jones potential. We use a LJ bulk structure that we randomly rattle and scale. \n"
   ]
  },
  {
   "cell_type": "code",
   "execution_count": 4,
   "id": "08462efc-3e68-413a-8f15-08d51af53223",
   "metadata": {},
   "outputs": [
    {
     "name": "stdout",
     "output_type": "stream",
     "text": [
      "Cell([[8.37006786, 0.0, 0.0], [-4.18506711, 7.24867224, 0.0], [0.0, 0.0, 9.99690287]])\n",
      "Cell([8.22639848, 8.22639848, 8.22639848])\n",
      "Cell([[8.74134333, 0.0, 0.0], [-4.36356817, 7.57432215, 0.0], [0.00331091, -0.00191363, 7.14995982]])\n",
      "Cell([[9.74090476, 0.0, 0.0], [0.0, 10.88801393, 0.0], [-6.21393474, 0.0, 10.07667404]])\n",
      "Cell([8.51617046, 9.40391717, 14.27297268])\n",
      "Cell([[8.36287, 0.0, 0.0], [-4.181435, 7.24245787, 0.0], [0.0, 0.0, 9.25379]])\n",
      "Cell([7.86668042, 7.86668042, 7.86668042])\n"
     ]
    }
   ],
   "source": [
    "for CIF in CIFS:\n",
    "    cif = read(CIF)\n",
    "\n",
    "    print(cif.cell)\n",
    "    \n",
    "    sg = get_spacegroup(cif)\n",
    "    sg_name = sg.symbol.replace(' ','').replace('/','_')\n",
    "\n",
    "    orig_struc = cif.copy()\n",
    "\n",
    "    displacement_magnitude=0.02\n",
    "    disp_steps=6\n",
    "    rounds=2\n",
    "    counter=0\n",
    "\n",
    "    new_name_base = \"RATTLED_STRUCTURES/\" + CIF.split(\"_\")[0] + \"_\" + sg_name\n",
    "\n",
    "    write(new_name_base + \"_pris.POSCAR\", cif)\n",
    "    for scale in np.linspace(0.95, 1.05, 5):\n",
    "        for round in range(rounds):\n",
    "            new_cell = orig_struc.get_cell()*scale\n",
    "            new_struc = orig_struc.copy()\n",
    "            new_struc.set_cell(new_cell)\n",
    "            for i in range(disp_steps):\n",
    "                rattle_struc = new_struc.copy()\n",
    "                rattle_struc.rattle(displacement_magnitude*(i+1), seed=counter)\n",
    "                \n",
    "                POS_file = new_name_base + \"_scale_\" + \"{:.3f}\".format(scale).replace(\".\",\"_\") + \"_disp_\" + \"{:.2f}\".format((i+1)*displacement_magnitude).replace(\".\",\"_\") + \"_round_\" + str(round + 1) + \".POSCAR\"\n",
    "                write(POS_file, rattle_struc)\n",
    "                counter += 1"
   ]
  },
  {
   "cell_type": "code",
   "execution_count": null,
   "id": "3061f620-ed1a-45d9-92c6-b701b58bb49b",
   "metadata": {},
   "outputs": [],
   "source": []
  }
 ],
 "metadata": {
  "kernelspec": {
   "display_name": "Tantalizing",
   "language": "python",
   "name": "tantalizing"
  },
  "language_info": {
   "codemirror_mode": {
    "name": "ipython",
    "version": 3
   },
   "file_extension": ".py",
   "mimetype": "text/x-python",
   "name": "python",
   "nbconvert_exporter": "python",
   "pygments_lexer": "ipython3",
   "version": "3.9.16"
  },
  "vscode": {
   "interpreter": {
    "hash": "f9cf24ff20edf0aae28141210fc773ab63efd2a56eb4d7d08651373a5d8a7dcd"
   }
  }
 },
 "nbformat": 4,
 "nbformat_minor": 5
}
