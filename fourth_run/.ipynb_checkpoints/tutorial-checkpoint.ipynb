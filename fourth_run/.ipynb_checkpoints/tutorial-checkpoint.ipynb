{
 "cells": [
  {
   "cell_type": "markdown",
   "id": "74f144dd",
   "metadata": {},
   "source": [
    "# Building Frederike's third force field"
   ]
  },
  {
   "cell_type": "code",
   "execution_count": 1,
   "id": "d88f1c57-aa71-4a19-9b6b-e9ada91bb1e6",
   "metadata": {},
   "outputs": [],
   "source": [
    "import matplotlib.pyplot as plt\n",
    "import ase.io as io\n",
    "from ase.io import read,write\n",
    "from ase.build import bulk\n",
    "import numpy as np\n",
    "import ase.db as db\n",
    "from ase.visualize import view\n",
    "from ase.optimize import BFGS\n",
    "Fit_on_forces=False"
   ]
  },
  {
   "cell_type": "code",
   "execution_count": 2,
   "id": "997a8ae1-0fff-4a1f-a697-fe58cb51fa2b",
   "metadata": {},
   "outputs": [
    {
     "name": "stdout",
     "output_type": "stream",
     "text": [
      "C:\\Users\\Fremo211\\Documents\\repos\\Tantalizing\\fourth_run\n"
     ]
    }
   ],
   "source": [
    "import os\n",
    "print(os.getcwd())"
   ]
  },
  {
   "cell_type": "markdown",
   "id": "16cf8943-479f-4215-b40e-863f22c69e1e",
   "metadata": {},
   "source": [
    "### Generate training data\n",
    "Curvature Constrained Splines can be fitted to a reference data-set with energies (and optionally forces) of pre-calculated structures. In this example we generate the reference data-set using a Lennard-Jones potential. We use a LJ bulk structure that we randomly rattle and scale. \n"
   ]
  },
  {
   "cell_type": "code",
   "execution_count": 16,
   "id": "5b39dcf3-425b-44ed-8284-4f64a0fe14ea",
   "metadata": {},
   "outputs": [
    {
     "name": "stdout",
     "output_type": "stream",
     "text": [
      "1.OUTCAR\n",
      "10.OUTCAR\n",
      "100.OUTCAR\n",
      "101.OUTCAR\n",
      "102.OUTCAR\n",
      "103.OUTCAR\n",
      "104.OUTCAR\n",
      "105.OUTCAR\n",
      "106.OUTCAR\n",
      "107.OUTCAR\n",
      "108.OUTCAR\n",
      "109.OUTCAR\n",
      "11.OUTCAR\n",
      "110.OUTCAR\n",
      "111.OUTCAR\n",
      "112.OUTCAR\n",
      "113.OUTCAR\n",
      "114.OUTCAR\n",
      "115.OUTCAR\n",
      "116.OUTCAR\n",
      "117.OUTCAR\n",
      "118.OUTCAR\n",
      "119.OUTCAR\n",
      "12.OUTCAR\n",
      "120.OUTCAR\n",
      "121.OUTCAR\n",
      "122.OUTCAR\n",
      "123.OUTCAR\n",
      "124.OUTCAR\n",
      "125.OUTCAR\n",
      "126.OUTCAR\n",
      "127.OUTCAR\n",
      "128.OUTCAR\n",
      "129.OUTCAR\n",
      "13.OUTCAR\n",
      "130.OUTCAR\n",
      "131.OUTCAR\n",
      "132.OUTCAR\n",
      "133.OUTCAR\n",
      "134.OUTCAR\n",
      "135.OUTCAR\n",
      "136.OUTCAR\n",
      "137.OUTCAR\n",
      "138.OUTCAR\n",
      "139.OUTCAR\n",
      "14.OUTCAR\n",
      "140.OUTCAR\n",
      "141.OUTCAR\n",
      "142.OUTCAR\n",
      "143.OUTCAR\n",
      "144.OUTCAR\n",
      "145.OUTCAR\n",
      "146.OUTCAR\n",
      "147.OUTCAR\n",
      "148.OUTCAR\n",
      "149.OUTCAR\n",
      "15.OUTCAR\n",
      "150.OUTCAR\n",
      "151.OUTCAR\n",
      "152.OUTCAR\n",
      "153.OUTCAR\n",
      "154.OUTCAR\n",
      "155.OUTCAR\n",
      "156.OUTCAR\n",
      "157.OUTCAR\n",
      "158.OUTCAR\n",
      "159.OUTCAR\n",
      "16.OUTCAR\n",
      "160.OUTCAR\n",
      "161.OUTCAR\n",
      "162.OUTCAR\n",
      "163.OUTCAR\n",
      "164.OUTCAR\n",
      "165.OUTCAR\n",
      "166.OUTCAR\n",
      "167.OUTCAR\n",
      "168.OUTCAR\n",
      "169.OUTCAR\n",
      "17.OUTCAR\n",
      "170.OUTCAR\n",
      "171.OUTCAR\n",
      "172.OUTCAR\n",
      "173.OUTCAR\n",
      "174.OUTCAR\n",
      "175.OUTCAR\n",
      "176.OUTCAR\n",
      "177.OUTCAR\n",
      "178.OUTCAR\n",
      "179.OUTCAR\n",
      "18.OUTCAR\n",
      "180.OUTCAR\n",
      "181.OUTCAR\n",
      "182.OUTCAR\n",
      "183.OUTCAR\n",
      "184.OUTCAR\n",
      "185.OUTCAR\n",
      "186.OUTCAR\n",
      "187.OUTCAR\n",
      "188.OUTCAR\n",
      "189.OUTCAR\n",
      "19.OUTCAR\n",
      "190.OUTCAR\n",
      "191.OUTCAR\n",
      "192.OUTCAR\n",
      "193.OUTCAR\n",
      "194.OUTCAR\n",
      "195.OUTCAR\n",
      "196.OUTCAR\n",
      "197.OUTCAR\n",
      "198.OUTCAR\n",
      "199.OUTCAR\n",
      "2.OUTCAR\n",
      "20.OUTCAR\n",
      "200.OUTCAR\n",
      "201.OUTCAR\n",
      "202.OUTCAR\n",
      "203.OUTCAR\n",
      "204.OUTCAR\n",
      "205.OUTCAR\n",
      "206.OUTCAR\n",
      "207.OUTCAR\n",
      "208.OUTCAR\n",
      "209.OUTCAR\n",
      "21.OUTCAR\n",
      "210.OUTCAR\n",
      "211.OUTCAR\n",
      "212.OUTCAR\n",
      "213.OUTCAR\n",
      "214.OUTCAR\n",
      "215.OUTCAR\n",
      "216.OUTCAR\n",
      "217.OUTCAR\n",
      "218.OUTCAR\n",
      "219.OUTCAR\n",
      "22.OUTCAR\n",
      "220.OUTCAR\n",
      "221.OUTCAR\n",
      "222.OUTCAR\n",
      "223.OUTCAR\n",
      "224.OUTCAR\n",
      "225.OUTCAR\n",
      "226.OUTCAR\n",
      "227.OUTCAR\n",
      "228.OUTCAR\n",
      "229.OUTCAR\n",
      "23.OUTCAR\n",
      "230.OUTCAR\n",
      "231.OUTCAR\n",
      "232.OUTCAR\n",
      "233.OUTCAR\n",
      "234.OUTCAR\n",
      "235.OUTCAR\n",
      "236.OUTCAR\n",
      "237.OUTCAR\n",
      "238.OUTCAR\n",
      "239.OUTCAR\n",
      "24.OUTCAR\n",
      "240.OUTCAR\n",
      "241.OUTCAR\n",
      "242.OUTCAR\n",
      "243.OUTCAR\n",
      "244.OUTCAR\n",
      "245.OUTCAR\n",
      "246.OUTCAR\n",
      "247.OUTCAR\n",
      "248.OUTCAR\n",
      "249.OUTCAR\n",
      "25.OUTCAR\n",
      "250.OUTCAR\n",
      "251.OUTCAR\n",
      "252.OUTCAR\n",
      "253.OUTCAR\n",
      "254.OUTCAR\n",
      "255.OUTCAR\n",
      "256.OUTCAR\n",
      "257.OUTCAR\n",
      "258.OUTCAR\n",
      "259.OUTCAR\n",
      "26.OUTCAR\n",
      "260.OUTCAR\n",
      "261.OUTCAR\n",
      "262.OUTCAR\n",
      "263.OUTCAR\n",
      "264.OUTCAR\n",
      "265.OUTCAR\n",
      "266.OUTCAR\n",
      "267.OUTCAR\n",
      "27.OUTCAR\n",
      "28.OUTCAR\n",
      "29.OUTCAR\n",
      "3.OUTCAR\n",
      "30.OUTCAR\n",
      "31.OUTCAR\n",
      "32.OUTCAR\n",
      "33.OUTCAR\n",
      "34.OUTCAR\n",
      "35.OUTCAR\n",
      "36.OUTCAR\n",
      "37.OUTCAR\n",
      "38.OUTCAR\n",
      "39.OUTCAR\n",
      "4.OUTCAR\n",
      "40.OUTCAR\n",
      "41.OUTCAR\n",
      "42.OUTCAR\n",
      "43.OUTCAR\n",
      "44.OUTCAR\n",
      "45.OUTCAR\n",
      "46.OUTCAR\n",
      "47.OUTCAR\n",
      "48.OUTCAR\n",
      "49.OUTCAR\n",
      "5.OUTCAR\n",
      "50.OUTCAR\n",
      "51.OUTCAR\n",
      "52.OUTCAR\n",
      "53.OUTCAR\n",
      "54.OUTCAR\n",
      "55.OUTCAR\n",
      "56.OUTCAR\n",
      "57.OUTCAR\n",
      "58.OUTCAR\n",
      "59.OUTCAR\n",
      "6.OUTCAR\n",
      "60.OUTCAR\n",
      "61.OUTCAR\n",
      "62.OUTCAR\n",
      "63.OUTCAR\n",
      "64.OUTCAR\n",
      "65.OUTCAR\n",
      "66.OUTCAR\n",
      "67.OUTCAR\n",
      "68.OUTCAR\n",
      "69.OUTCAR\n",
      "7.OUTCAR\n",
      "70.OUTCAR\n",
      "71.OUTCAR\n",
      "72.OUTCAR\n",
      "73.OUTCAR\n",
      "74.OUTCAR\n",
      "75.OUTCAR\n",
      "76.OUTCAR\n",
      "77.OUTCAR\n",
      "78.OUTCAR\n",
      "79.OUTCAR\n",
      "8.OUTCAR\n",
      "80.OUTCAR\n",
      "81.OUTCAR\n",
      "82.OUTCAR\n",
      "83.OUTCAR\n",
      "84.OUTCAR\n",
      "85.OUTCAR\n",
      "86.OUTCAR\n",
      "87.OUTCAR\n",
      "88.OUTCAR\n",
      "89.OUTCAR\n",
      "9.OUTCAR\n",
      "90.OUTCAR\n",
      "91.OUTCAR\n",
      "92.OUTCAR\n",
      "93.OUTCAR\n",
      "94.OUTCAR\n",
      "95.OUTCAR\n",
      "96.OUTCAR\n",
      "97.OUTCAR\n",
      "98.OUTCAR\n",
      "99.OUTCAR\n"
     ]
    }
   ],
   "source": [
    "import os\n",
    "\n",
    "# Remove if it already exists\n",
    "def rm(file):\n",
    "    try:\n",
    "        os.remove(file)\n",
    "    except OSError:\n",
    "        pass\n",
    "rm(\"data_list.txt\")\n",
    "\n",
    "f = open(\"data_list.txt\", \"w\")\n",
    "outcar_names = os.listdir(\"OUTCARS/\")\n",
    "for name in outcar_names:\n",
    "    print(name)\n",
    "    f.write(name + \"\\n\")\n",
    "f.close()"
   ]
  },
  {
   "cell_type": "code",
   "execution_count": 3,
   "id": "387f54e1-dac6-4fc1-a0a9-b9ba8c045ec0",
   "metadata": {},
   "outputs": [
    {
     "name": "stderr",
     "output_type": "stream",
     "text": [
      "    Building data-bases: 100%|██████████████████████████████████████████| 227/227 [00:10<00:00, 21.04it/s]\n"
     ]
    }
   ],
   "source": [
    "from ccs_fit.scripts.ccs_build_db import ccs_build_db\n",
    "\n",
    "ccs_build_db(mode=\"CCS\",DFT_DB=\"DFT.db\",file_list=\"data_list.txt\",overwrite=True, greedy=False)"
   ]
  },
  {
   "cell_type": "markdown",
   "id": "bdb9cdef",
   "metadata": {},
   "source": [
    "### Generate the CCS_fit input file; structures.json\n",
    "The next commands fetch the training-set data from the ASE database containing the LJ structures and the corresponding energies. The reference data is called ``DFT_DB`` since the most common source of reference data is DFT."
   ]
  },
  {
   "cell_type": "code",
   "execution_count": 4,
   "id": "01508dd9-a761-4197-a132-114a87c0bc8b",
   "metadata": {},
   "outputs": [
    {
     "name": "stdout",
     "output_type": "stream",
     "text": [
      "id|age|formula    |calculator|  energy|natoms| fmax|pbc| volume|charge|    mass| smax|magmom\n",
      " 1|12s|Li5Ni12O24 |vasp      |-254.635|    41|0.020|TTT|384.052| 0.000|1122.997|0.001| 5.000\n",
      " 2|12s|LiNi16O32  |vasp      |-309.442|    49|0.017|TTT|487.974| 0.000|1458.002|0.000| 0.999\n",
      " 3|12s|LiNi12O24  |vasp      |-233.370|    37|0.019|TTT|367.828| 0.000|1095.237|0.000| 1.000\n",
      " 4|11s|Li2Ni16O32 |vasp      |-314.617|    50|0.015|TTT|492.245| 0.000|1464.942|0.000|-2.000\n",
      " 5|11s|Li3Ni16O32 |vasp      |-320.271|    51|0.015|TTT|496.022| 0.000|1471.882|0.000| 0.962\n",
      " 6|11s|Li5Ni16O32 |vasp      |-330.792|    53|0.018|TTT|504.463| 0.000|1485.762|0.000| 5.001\n",
      " 7|11s|Li4Ni12O24 |vasp      |-249.265|    40|0.016|TTT|381.190| 0.000|1116.057|0.001| 4.000\n",
      " 8|11s|Li6Ni16O32 |vasp      |-336.057|    54|0.019|TTT|508.163| 0.000|1492.702|0.000| 6.002\n",
      " 9|11s|Li4Ni12O24 |vasp      |-249.461|    40|0.013|TTT|381.125| 0.000|1116.057|0.000| 4.000\n",
      "10|11s|Li13Ni27O54|vasp      |-574.107|    94|0.018|TTT|868.408| 0.000|2538.888|0.001| 9.359\n",
      "11|11s|Li5Ni12O24 |vasp      |-254.508|    41|0.019|TTT|382.458| 0.000|1122.997|0.001| 5.003\n",
      "12|11s|Li7Ni16O32 |vasp      |-341.831|    55|0.019|TTT|509.058| 0.000|1499.642|0.001| 2.927\n",
      "13|11s|Li5Ni16O32 |vasp      |-330.761|    53|0.012|TTT|504.310| 0.000|1485.762|0.001| 3.007\n",
      "14|11s|Li6Ni16O32 |vasp      |-336.192|    54|0.018|TTT|508.167| 0.000|1492.702|0.000| 6.001\n",
      "15|11s|Li6Ni16O32 |vasp      |-336.193|    54|0.019|TTT|507.651| 0.000|1492.702|0.001| 6.002\n",
      "16|11s|Li2Ni16O32 |vasp      |-314.826|    50|0.016|TTT|492.086| 0.000|1464.942|0.000| 1.999\n",
      "17|11s|Li16Ni16O32|vasp      |-382.504|    64|0.083|TTT|531.454| 0.000|1562.102|0.003|15.164\n",
      "18|11s|Ni16O32    |vasp      |-303.015|    48|0.019|TTT|510.453| 0.000|1451.062|0.001| 0.000\n",
      "19|11s|Li10Ni16O32|vasp      |-354.512|    58|0.056|TTT|531.261| 0.000|1520.462|0.000| 4.000\n",
      "20|11s|Li17Ni27O54|vasp      |-595.854|    98|0.018|TTT|884.767| 0.000|2566.648|0.001|17.010\n",
      "Rows: 227 (showing first 20)\n",
      "Keys: PBE, key\n"
     ]
    }
   ],
   "source": [
    "!ase db DFT.db"
   ]
  },
  {
   "cell_type": "code",
   "execution_count": 5,
   "id": "e096b5f0",
   "metadata": {},
   "outputs": [
    {
     "name": "stderr",
     "output_type": "stream",
     "text": [
      "    Fetching data: 100%|\u001b[38;2;0;128;128m████████████████████████████████████████████████\u001b[0m| 227/227 [00:06<00:00, 33.86it/s]\u001b[0m\n"
     ]
    }
   ],
   "source": [
    "from ccs_fit.scripts.ccs_fetch import ccs_fetch\n",
    "\n",
    "ccs_fetch(mode=\"CCS\",DFT_DB=\"DFT.db\",include_forces=Fit_on_forces)"
   ]
  },
  {
   "cell_type": "markdown",
   "id": "59be3faa",
   "metadata": {},
   "source": [
    "### Fit training data to Curvature Constrained Splines\n",
    "Finally, the splines are fitted to the target defined in the structures.json input file. The splines can be restricted to be fully repulsive (\"rep\"), or have a turning point/switch (\"sw\"), which is defined by the \"Swtype\" key.\n"
   ]
  },
  {
   "cell_type": "code",
   "execution_count": 6,
   "id": "58906b3e-5ce7-43ed-b173-511d43af7c90",
   "metadata": {},
   "outputs": [],
   "source": [
    "### Generate input.json file\n",
    "import json\n",
    "\n",
    "input={\n",
    "    \"General\": {\n",
    "        \"interface\": \"CCS\",\n",
    "        \"merging\"  : \"True\"\n",
    "    },\n",
    "    \"Twobody\": {\n",
    "                \"Xx-Xx\": {\n",
    "                        \"Rcut\": 6.0,\n",
    "                        \"Resolution\": 1.0,\n",
    "                        \"Swtype\": \"sw\",\n",
    "                        \"const_type\" : \"Mono\"\n",
    "                }\n",
    "        }\n",
    "}\n",
    "#SAVE TO FILE\n",
    "with open('CCS_input.json', 'w') as f:\n",
    "    json.dump(input, f, indent=8)"
   ]
  },
  {
   "cell_type": "code",
   "execution_count": 7,
   "id": "18036ad4-c9ce-48fc-9d01-36c9e75207b0",
   "metadata": {},
   "outputs": [
    {
     "name": "stdout",
     "output_type": "stream",
     "text": [
      "    Generating one-body information from training-set.\n",
      "        Added elements:  ['Li', 'Ni', 'O']\n",
      "    Generating two-body potentials from one-body information.\n",
      "    Adding pair: Li-Li\n",
      "    Adding pair: Li-Ni\n",
      "    Adding pair: Li-O\n",
      "    Adding pair: Ni-Ni\n",
      "    Adding pair: Ni-O\n",
      "    Adding pair: O-O\n",
      "    Applying monotonic constraints for pair:  Li-Li\n",
      "    Applying monotonic constraints for pair:  Li-Ni\n",
      "    Applying monotonic constraints for pair:  Li-O\n",
      "    Applying monotonic constraints for pair:  Ni-Ni\n",
      "    Applying monotonic constraints for pair:  Ni-O\n",
      "    Applying monotonic constraints for pair:  O-O\n",
      "    Merging intervals for pair Ni-Ni; number of intervals reduced from 5 to 4. \n",
      "    There is linear dependence in stochiometry matrix!\n",
      "    Removing onebody term: O\n"
     ]
    },
    {
     "name": "stderr",
     "output_type": "stream",
     "text": [
      "    Finding optimum switch: 100%|\u001b[38;2;128;0;128m███████████████████████████████████\u001b[0m| 21600/21600 [03:55<00:00, 91.56it/s]\u001b[0m\n",
      "C:\\Users\\Fremo211\\Anaconda3\\envs\\Tantalizing\\lib\\site-packages\\ccs_fit\\fitting\\spline_functions.py:321: RuntimeWarning: invalid value encountered in log\n",
      "  beta = alpha * r0 + np.log(cc / alpha**2)\n"
     ]
    },
    {
     "name": "stdout",
     "output_type": "stream",
     "text": [
      "    The best switch is (3, 4, 0, 3, 0, 5) with rmse: 0.27367681670174404, corresponding to distances of [5.16 6.17 1.38 5.1  1.19 6.72] Å for element pairs ['Li-Li', 'Li-Ni', 'Li-O', 'Ni-Ni', 'Ni-O', 'O-O'].\n"
     ]
    }
   ],
   "source": [
    "#RUN FIT\n",
    "from ccs_fit import ccs_fit\n",
    "\n",
    "ccs_fit(\"CCS_input.json\")"
   ]
  },
  {
   "cell_type": "code",
   "execution_count": 14,
   "id": "8c3ac0c1",
   "metadata": {},
   "outputs": [],
   "source": [
    "### Generate input.json file\n",
    "import json\n",
    "\n",
    "input={\n",
    "    \"General\": {\n",
    "        \"interface\": \"CCS\",\n",
    "        \"merging\"  : \"True\"\n",
    "    },\n",
    "    \"Twobody\": {\n",
    "                \"Li-Li\": {\n",
    "                        \"Rcut\": 6.0,\n",
    "                        \"Resolution\": 0.02,\n",
    "                        \"Swtype\": \"sw\",\n",
    "                        \"const_type\" : \"Mono\",\n",
    "                        \"search_mode\": \"range\",\n",
    "                        \"range_center\": 5.16,\n",
    "                        \"range_width\": 0.5\n",
    "                },\n",
    "                \"Li-Ni\": {\n",
    "                        \"Rcut\": 6.0,\n",
    "                        \"Resolution\": 0.02,\n",
    "                        \"Swtype\": \"rep\",\n",
    "                        \"const_type\" : \"Mono\",\n",
    "                        \"search_mode\": \"range\",\n",
    "                        \"range_center\": 6.17,\n",
    "                        \"range_width\": 1\n",
    "                },\n",
    "                \"Li-O\": {\n",
    "                        \"Rcut\": 6.0,\n",
    "                        \"Resolution\": 0.02,\n",
    "                        \"Swtype\": \"sw\",\n",
    "                        \"const_type\" : \"Mono\",\n",
    "                        \"search_mode\": \"range\",\n",
    "                        \"range_center\": 1.38,\n",
    "                        \"range_width\": 1\n",
    "                },\n",
    "                \"Ni-Ni\": {\n",
    "                        \"Rcut\": 6.0,\n",
    "                        \"Resolution\": 0.02,\n",
    "                        \"Swtype\": \"sw\",\n",
    "                        \"const_type\" : \"Mono\",\n",
    "                        \"search_mode\": \"range\",\n",
    "                        \"range_center\": 5.1,\n",
    "                        \"range_width\": 1\n",
    "                },\n",
    "                \"Ni-O\": {\n",
    "                        \"Rcut\": 6.0,\n",
    "                        \"Resolution\": 0.02,\n",
    "                        \"Swtype\": \"sw\",\n",
    "                        \"const_type\" : \"Mono\",\n",
    "                        \"search_mode\": \"range\",\n",
    "                        \"range_center\": 1.19,\n",
    "                        \"range_width\": 1\n",
    "                },\n",
    "                \"O-O\": {\n",
    "                        \"Rcut\": 6.0,\n",
    "                        \"Resolution\": 0.02,\n",
    "                        \"Swtype\": \"rep\",\n",
    "                        \"const_type\" : \"Mono\",\n",
    "                        \"search_mode\": \"range\",\n",
    "                        \"range_center\": 6.72,\n",
    "                        \"range_width\": 0.5\n",
    "                },\n",
    "        }\n",
    "}\n",
    "#SAVE TO FILE\n",
    "with open('CCS_input.json', 'w') as f:\n",
    "    json.dump(input, f, indent=8)"
   ]
  },
  {
   "cell_type": "code",
   "execution_count": 15,
   "id": "df1f9f0f",
   "metadata": {},
   "outputs": [
    {
     "name": "stdout",
     "output_type": "stream",
     "text": [
      "    Generating one-body information from training-set.\n",
      "        Added elements:  ['Li', 'Ni', 'O']\n",
      "    Applying monotonic constraints for pair:  Li-Li\n",
      "    Applying monotonic constraints for pair:  Li-Ni\n",
      "    Applying monotonic constraints for pair:  Li-O\n",
      "    Applying monotonic constraints for pair:  Ni-Ni\n",
      "    Applying monotonic constraints for pair:  Ni-O\n",
      "    Applying monotonic constraints for pair:  O-O\n",
      "    Merging intervals for pair Li-Li; number of intervals reduced from 169 to 139. \n",
      "    Merging intervals for pair Li-Ni; number of intervals reduced from 168 to 124. \n",
      "    Merging intervals for pair Li-O; number of intervals reduced from 208 to 175. \n",
      "    Merging intervals for pair Ni-Ni; number of intervals reduced from 172 to 104. \n",
      "    Merging intervals for pair Ni-O; number of intervals reduced from 218 to 168. \n",
      "    Merging intervals for pair O-O; number of intervals reduced from 191 to 190. \n",
      "    There is linear dependence in stochiometry matrix!\n",
      "    Removing onebody term: O\n",
      "    Range search turned on for element pair Li-Li; 25 possible switch indices in range of 4.65-5.65 Å.\n",
      "    Range search turned on for element pair Li-O; 1 possible switch indices in range of 1.87-2.37 Å.\n",
      "    Range search turned on for element pair Ni-Ni; 50 possible switch indices in range of 4.09-6.01 Å.\n",
      "    Range search turned on for element pair Ni-O; 1 possible switch indices in range of 1.68-2.18 Å.\n"
     ]
    },
    {
     "name": "stderr",
     "output_type": "stream",
     "text": [
      "    Finding optimum switch: 100%|\u001b[38;2;128;0;128m█████████████████████████████████████\u001b[0m| 1250/1250 [13:11<00:00,  1.58it/s]\u001b[0m\n"
     ]
    },
    {
     "name": "stdout",
     "output_type": "stream",
     "text": [
      "    The best switch is (137, 124, 0, 101, 0, 190) with rmse: 0.1712045560141435, corresponding to distances of [5.39 5.14 1.87 4.61 1.68 6.01] Å for element pairs ['Li-Li', 'Li-Ni', 'Li-O', 'Ni-Ni', 'Ni-O', 'O-O'].\n"
     ]
    },
    {
     "name": "stderr",
     "output_type": "stream",
     "text": [
      "C:\\Users\\Fremo211\\Anaconda3\\envs\\Tantalizing\\lib\\site-packages\\ccs_fit\\fitting\\spline_functions.py:321: RuntimeWarning: invalid value encountered in log\n",
      "  beta = alpha * r0 + np.log(cc / alpha**2)\n"
     ]
    }
   ],
   "source": [
    "#RUN FIT\n",
    "from ccs_fit import ccs_fit\n",
    "\n",
    "ccs_fit(\"CCS_input.json\")"
   ]
  },
  {
   "cell_type": "code",
   "execution_count": null,
   "id": "cd61e112-48ff-40aa-8212-09c01fe415f2",
   "metadata": {},
   "outputs": [],
   "source": [
    "### Generate input.json file\n",
    "import json\n",
    "\n",
    "input={\n",
    "    \"General\": {\n",
    "        \"interface\": \"CCS\",\n",
    "        \"merging\"  : \"True\"\n",
    "    },\n",
    "    \"Twobody\": {\n",
    "                \"Li-Li\": {\n",
    "                        \"Rcut\": 6.0,\n",
    "                        \"Resolution\": 0.02,\n",
    "                        \"Swtype\": \"sw\",\n",
    "                        \"const_type\" : \"Mono\",\n",
    "                        \"search_mode\": \"range\",\n",
    "                        \"range_center\": 3.14,\n",
    "                        \"range_width\": 0.1\n",
    "                },\n",
    "                \"Li-Ni\": {\n",
    "                        \"Rcut\": 6.0,\n",
    "                        \"Resolution\": 0.01,\n",
    "                        \"Swtype\": \"sw\",\n",
    "                        \"const_type\" : \"Mono\",\n",
    "                        \"search_mode\": \"range\",\n",
    "                        \"range_center\": 2.74,\n",
    "                        \"range_width\": 1\n",
    "                },\n",
    "                \"Li-O\": {\n",
    "                        \"Rcut\": 6.0,\n",
    "                        \"Resolution\": 0.01,\n",
    "                        \"Swtype\": \"sw\",\n",
    "                        \"const_type\" : \"Mono\",\n",
    "                        \"search_mode\": \"range\",\n",
    "                        \"range_center\": 5.13,\n",
    "                        \"range_width\": 0.1\n",
    "                },\n",
    "                \"Ni-Ni\": {\n",
    "                        \"Rcut\": 6.0,\n",
    "                        \"Resolution\": 0.02,\n",
    "                        \"Swtype\": \"sw\",\n",
    "                        \"const_type\" : \"Mono\",\n",
    "                        \"search_mode\": \"range\",\n",
    "                        \"range_center\": 2.7,\n",
    "                        \"range_width\": 1\n",
    "                },\n",
    "                \"Ni-O\": {\n",
    "                        \"Rcut\": 6.0,\n",
    "                        \"Resolution\": 0.01,\n",
    "                        \"Swtype\": \"sw\",\n",
    "                        \"const_type\" : \"Mono\",\n",
    "                        \"search_mode\": \"range\",\n",
    "                        \"range_center\": 6.09,\n",
    "                        \"range_width\": 0.2\n",
    "                },\n",
    "                \"O-O\": {\n",
    "                        \"Rcut\": 6.0,\n",
    "                        \"Resolution\": 0.02,\n",
    "                        \"Swtype\": \"sw\",\n",
    "                        \"const_type\" : \"Mono\",\n",
    "                        \"search_mode\": \"range\",\n",
    "                        \"range_center\": 3.16,\n",
    "                        \"range_width\": 0.1\n",
    "                },\n",
    "        }\n",
    "}\n",
    "#SAVE TO FILE\n",
    "with open('CCS_input.json', 'w') as f:\n",
    "    json.dump(input, f, indent=8)"
   ]
  },
  {
   "cell_type": "code",
   "execution_count": null,
   "id": "4460100e-beee-4ed3-b69e-96ac9992f30b",
   "metadata": {},
   "outputs": [],
   "source": [
    "#RUN FIT\n",
    "from ccs_fit import ccs_fit\n",
    "\n",
    "ccs_fit(\"CCS_input.json\")"
   ]
  },
  {
   "cell_type": "markdown",
   "id": "3d1f3117-cc0b-4a64-b62f-9ca57a3f0579",
   "metadata": {
    "jp-MarkdownHeadingCollapsed": true,
    "tags": []
   },
   "source": [
    "### 2nd iteration of fitting"
   ]
  },
  {
   "cell_type": "code",
   "execution_count": null,
   "id": "dc7a2966-0d9b-40ab-90d4-cf155c134381",
   "metadata": {},
   "outputs": [],
   "source": [
    "### Generate input.json file\n",
    "import json\n",
    "\n",
    "input={\n",
    "    \"General\": {\n",
    "        \"interface\": \"CCS\",\n",
    "        \"merging\"  : \"True\"\n",
    "    },\n",
    "    \"Twobody\": {\n",
    "                \"Li-Ni\": {\n",
    "                        \"Rcut\": 6.0,\n",
    "                        \"Resolution\": 0.1,\n",
    "                        \"Swtype\": \"sw\",\n",
    "                        \"const_type\" : \"Mono\",\n",
    "                        \"search_mode\": \"full\",\n",
    "                        \"range_center\": 4.34,\n",
    "                        \"range_width\": 0.5\n",
    "                },\n",
    "                \"Li-O\": {\n",
    "                        \"Rcut\": 6.0,\n",
    "                        \"Resolution\": 0.1,\n",
    "                        \"Swtype\": \"sw\",\n",
    "                        \"const_type\" : \"Mono\",\n",
    "                        \"search_mode\": \"full\",\n",
    "                        \"range_center\": 4.82,\n",
    "                        \"range_width\": 0.5\n",
    "                },\n",
    "                \"Ni-O\": {\n",
    "                        \"Rcut\": 6.0,\n",
    "                        \"Resolution\": 0.1,\n",
    "                        \"Swtype\": \"sw\",\n",
    "                        \"const_type\" : \"Mono\",\n",
    "                        \"search_mode\": \"range\",\n",
    "                        \"range_center\": 1.56,\n",
    "                        \"range_width\": 0.5\n",
    "                },\n",
    "                \"O-O\": {\n",
    "                        \"Rcut\": 8.0,\n",
    "                        \"Resolution\": 0.1,\n",
    "                        \"Swtype\": \"sw\",\n",
    "                        \"const_type\" : \"Mono\",\n",
    "                        \"search_mode\": \"range\",\n",
    "                        \"range_center\": 5.78,\n",
    "                        \"range_width\": 0.5\n",
    "                },\n",
    "                \"Ni-Ni\": {\n",
    "                        \"Rcut\": 8.0,\n",
    "                        \"Resolution\": 0.1,\n",
    "                        \"Swtype\": \"sw\",\n",
    "                        \"const_type\" : \"Mono\",\n",
    "                        \"search_mode\": \"range\",\n",
    "                        \"range_center\": 4.1,\n",
    "                        \"range_width\": 0.5\n",
    "                },\n",
    "                \"Li-Li\": {\n",
    "                        \"Rcut\": 8.0,\n",
    "                        \"Resolution\": 0.1,\n",
    "                        \"Swtype\": \"sw\",\n",
    "                        \"const_type\" : \"Mono\",\n",
    "                        \"search_mode\": \"range\",\n",
    "                        \"range_center\": 5.02,\n",
    "                        \"range_width\": 0.5\n",
    "                }\n",
    "        }\n",
    "}\n",
    "#SAVE TO FILE\n",
    "with open('CCS_input.json', 'w') as f:\n",
    "    json.dump(input, f, indent=8)"
   ]
  },
  {
   "cell_type": "code",
   "execution_count": null,
   "id": "73c38d09-fa8b-4445-a742-a00cea4069cc",
   "metadata": {},
   "outputs": [],
   "source": [
    "#RUN FIT\n",
    "from ccs_fit import ccs_fit\n",
    "\n",
    "ccs_fit(\"CCS_input.json\")"
   ]
  },
  {
   "cell_type": "code",
   "execution_count": null,
   "id": "1af53432-6863-46bf-a481-4a1a42c19145",
   "metadata": {},
   "outputs": [],
   "source": [
    "### Generate input.json file\n",
    "import json\n",
    "\n",
    "input={\n",
    "    \"General\": {\n",
    "        \"interface\": \"CCS\",\n",
    "        \"merging\"  : \"True\"\n",
    "    },\n",
    "    \"Twobody\": {\n",
    "                \"Li-Ni\": {\n",
    "                        \"Rcut\": 6.0,\n",
    "                        \"Resolution\": 0.1,\n",
    "                        \"Swtype\": \"sw\",\n",
    "                        \"const_type\" : \"Mono\",\n",
    "                        \"search_mode\": \"range\",\n",
    "                        \"range_center\": 4.07,\n",
    "                        \"range_width\": 0.5\n",
    "                },\n",
    "                \"Li-O\": {\n",
    "                        \"Rcut\": 6.0,\n",
    "                        \"Resolution\": 0.1,\n",
    "                        \"Swtype\": \"sw\",\n",
    "                        \"const_type\" : \"Mono\",\n",
    "                        \"search_mode\": \"range\",\n",
    "                        \"range_center\": 4.39,\n",
    "                        \"range_width\": 0.5\n",
    "                },\n",
    "                \"Ni-O\": {\n",
    "                        \"Rcut\": 6.0,\n",
    "                        \"Resolution\": 0.1,\n",
    "                        \"Swtype\": \"sw\",\n",
    "                        \"const_type\" : \"Mono\",\n",
    "                        \"search_mode\": \"range\",\n",
    "                        \"range_center\": 1.64,\n",
    "                        \"range_width\": 0.5\n",
    "                },\n",
    "                \"O-O\": {\n",
    "                        \"Rcut\": 8.0,\n",
    "                        \"Resolution\": 0.1,\n",
    "                        \"Swtype\": \"sw\",\n",
    "                        \"const_type\" : \"Mono\",\n",
    "                        \"search_mode\": \"range\",\n",
    "                        \"range_center\": 5.57,\n",
    "                        \"range_width\": 0.1\n",
    "                },\n",
    "                \"Ni-Ni\": {\n",
    "                        \"Rcut\": 8.0,\n",
    "                        \"Resolution\": 0.1,\n",
    "                        \"Swtype\": \"sw\",\n",
    "                        \"const_type\" : \"Mono\",\n",
    "                        \"search_mode\": \"range\",\n",
    "                        \"range_center\": 4.35,\n",
    "                        \"range_width\": 0.1\n",
    "                },\n",
    "                \"Li-Li\": {\n",
    "                        \"Rcut\": 8.0,\n",
    "                        \"Resolution\": 0.1,\n",
    "                        \"Swtype\": \"sw\",\n",
    "                        \"const_type\" : \"Mono\",\n",
    "                        \"search_mode\": \"range\",\n",
    "                        \"range_center\": 4.82,\n",
    "                        \"range_width\": 0.1\n",
    "                }\n",
    "        }\n",
    "}\n",
    "#SAVE TO FILE\n",
    "with open('CCS_input.json', 'w') as f:\n",
    "    json.dump(input, f, indent=8)"
   ]
  },
  {
   "cell_type": "code",
   "execution_count": null,
   "id": "15d03f11-b515-4372-a616-8fadc4fc0bd7",
   "metadata": {},
   "outputs": [],
   "source": [
    "#RUN FIT\n",
    "from ccs_fit import ccs_fit\n",
    "\n",
    "ccs_fit(\"CCS_input.json\")"
   ]
  },
  {
   "cell_type": "code",
   "execution_count": null,
   "id": "c5bc0105-8ad0-4ebf-8293-06a841a2b916",
   "metadata": {},
   "outputs": [],
   "source": [
    "### Generate input.json file\n",
    "import json\n",
    "\n",
    "input={\n",
    "    \"General\": {\n",
    "        \"interface\": \"CCS\",\n",
    "        \"merging\"  : \"True\"\n",
    "    },\n",
    "    \"Twobody\": {\n",
    "                \"Li-Ni\": {\n",
    "                        \"Rcut\": 6.0,\n",
    "                        \"Resolution\": 0.02,\n",
    "                        \"Swtype\": \"sw\",\n",
    "                        \"const_type\" : \"Mono\",\n",
    "                        \"search_mode\": \"range\",\n",
    "                        \"range_center\": 4.07,\n",
    "                        \"range_width\": 0.1\n",
    "                },\n",
    "                \"Li-O\": {\n",
    "                        \"Rcut\": 6.0,\n",
    "                        \"Resolution\": 0.02,\n",
    "                        \"Swtype\": \"sw\",\n",
    "                        \"const_type\" : \"Mono\",\n",
    "                        \"search_mode\": \"range\",\n",
    "                        \"range_center\": 4.39,\n",
    "                        \"range_width\": 0.1\n",
    "                },\n",
    "                \"Ni-O\": {\n",
    "                        \"Rcut\": 6.0,\n",
    "                        \"Resolution\": 0.02,\n",
    "                        \"Swtype\": \"sw\",\n",
    "                        \"const_type\" : \"Mono\",\n",
    "                        \"search_mode\": \"range\",\n",
    "                        \"range_center\": 1.84,\n",
    "                        \"range_width\": 0.2\n",
    "                },\n",
    "                \"O-O\": {\n",
    "                        \"Rcut\": 8.0,\n",
    "                        \"Resolution\": 0.02,\n",
    "                        \"Swtype\": \"sw\",\n",
    "                        \"const_type\" : \"Mono\",\n",
    "                        \"search_mode\": \"point\",\n",
    "                        \"search_points\": [5.57],\n",
    "                        \"range_width\": 0.1\n",
    "                },\n",
    "                \"Ni-Ni\": {\n",
    "                        \"Rcut\": 8.0,\n",
    "                        \"Resolution\": 0.02,\n",
    "                        \"Swtype\": \"sw\",\n",
    "                        \"const_type\" : \"Mono\",\n",
    "                        \"search_mode\": \"point\",\n",
    "                        \"search_points\": [4.35],\n",
    "                        \"range_width\": 0.1\n",
    "                },\n",
    "                \"Li-Li\": {\n",
    "                        \"Rcut\": 8.0,\n",
    "                        \"Resolution\": 0.02,\n",
    "                        \"Swtype\": \"sw\",\n",
    "                        \"const_type\" : \"Mono\",\n",
    "                        \"search_mode\": \"point\",\n",
    "                        \"search_points\": [4.82],\n",
    "                        \"range_width\": 0.1\n",
    "                }\n",
    "        }\n",
    "}\n",
    "#SAVE TO FILE\n",
    "with open('CCS_input.json', 'w') as f:\n",
    "    json.dump(input, f, indent=8)"
   ]
  },
  {
   "cell_type": "code",
   "execution_count": null,
   "id": "9788a70b-520a-4d0f-90d0-7969fee105c3",
   "metadata": {},
   "outputs": [],
   "source": [
    "#RUN FIT\n",
    "from ccs_fit import ccs_fit\n",
    "\n",
    "ccs_fit(\"CCS_input.json\")"
   ]
  },
  {
   "cell_type": "markdown",
   "id": "2ce06ae5",
   "metadata": {},
   "source": [
    "### Validate your potential\n",
    "Make sure your potential (at least) reproduce the data points in your training-set. Performin further tests on strucutres not included in the training-set is recomended but not included in the tutorial."
   ]
  },
  {
   "cell_type": "code",
   "execution_count": 17,
   "id": "7e429885",
   "metadata": {},
   "outputs": [
    {
     "name": "stderr",
     "output_type": "stream",
     "text": [
      "  0%|\u001b[38;2;128;0;0m                                                                             \u001b[0m| 0/227 [00:00<?, ?it/s]\u001b[0mC:\\Users\\Fremo211\\Anaconda3\\envs\\Tantalizing\\lib\\site-packages\\ase\\utils\\__init__.py:62: FutureWarning: Please use atoms.cell.rank instead\n",
      "  warnings.warn(warning)\n",
      "100%|\u001b[38;2;128;0;0m███████████████████████████████████████████████████████████████████\u001b[0m| 227/227 [00:23<00:00,  9.50it/s]\u001b[0m\n"
     ]
    }
   ],
   "source": [
    "from ccs_fit.scripts.ccs_validate import ccs_validate\n",
    "ccs_validate(mode=\"CCS\",CCS_params=\"CCS_params.json\",DFT_DB=\"DFT.db\")"
   ]
  },
  {
   "cell_type": "code",
   "execution_count": 18,
   "id": "26234bd3",
   "metadata": {},
   "outputs": [
    {
     "data": {
      "image/png": "[encoded data removed]",
      "text/plain": [
       "<Figure size 640x480 with 1 Axes>"
      ]
     },
     "metadata": {},
     "output_type": "display_data"
    },
    {
     "data": {
      "image/png": "[encoded data removed]",
      "text/plain": [
       "<Figure size 640x480 with 1 Axes>"
      ]
     },
     "metadata": {},
     "output_type": "display_data"
    }
   ],
   "source": [
    "try:\n",
    "    err=np.loadtxt(\"CCS_validate.dat\")\n",
    "    plt.xlabel('Reference energy (eV)')\n",
    "    plt.ylabel('Validation energy (eV)')\n",
    "    plt.plot( [min(err[:,0]),max(err[:,0])],[min(err[:,0]),max(err[:,0])],'--',color='black'  )\n",
    "    plt.scatter(err[:,0],err[:,1],facecolors='none', edgecolors='red')\n",
    "    plt.show()\n",
    "    plt.xlabel('Reference energy (eV)')\n",
    "    plt.ylabel('Error in fit (eV)')\n",
    "    plt.scatter(err[:,0],err[:,2],facecolors='none', edgecolors='red')\n",
    "    plt.show()\n",
    "except:\n",
    "    pass"
   ]
  },
  {
   "cell_type": "markdown",
   "id": "34edf9a9",
   "metadata": {},
   "source": [
    "### Cleaning up"
   ]
  },
  {
   "cell_type": "code",
   "execution_count": null,
   "id": "6b63718b",
   "metadata": {},
   "outputs": [],
   "source": [
    "# import glob\n",
    "\n",
    "# def rm(file):\n",
    "#     try:\n",
    "#         os.remove(file)\n",
    "#     except OSError:\n",
    "#         pass\n",
    "\n",
    "\n",
    "# list=glob.glob(\"CALCULATED_DATA/*\")\n",
    "# for file in list:\n",
    "#     rm(file)\n",
    "# list=glob.glob(\"CCS_*\")\n",
    "# for file in list:\n",
    "#     rm(file)\n",
    "# list=glob.glob(\"UNC_*\")\n",
    "# for file in list:\n",
    "#     rm(file)\n",
    "# rm(\"structures.json\")\n",
    "# rm(\"file_list\")\n",
    "# rm(\"LJ.db\")"
   ]
  },
  {
   "cell_type": "markdown",
   "id": "1bb3295f-817b-4618-b63d-e019598b2a46",
   "metadata": {},
   "source": [
    "### Convex hull"
   ]
  },
  {
   "cell_type": "code",
   "execution_count": 19,
   "id": "291f7065-302e-4605-80fa-d8dd4c16137a",
   "metadata": {
    "tags": []
   },
   "outputs": [
    {
     "name": "stdout",
     "output_type": "stream",
     "text": [
      "Li25Ni27O54\n",
      "Li27Ni27O54\n"
     ]
    }
   ],
   "source": [
    "struct_no_Li = io.read('DFT.db@187')\n",
    "struct_full_Li = io.read('DFT.db@108')\n",
    "\n",
    "nrg_0 = struct_no_Li.get_potential_energy()\n",
    "nrg_1 = struct_full_Li.get_potential_energy()\n",
    "\n",
    "print(struct_no_Li.get_chemical_formula())\n",
    "print(struct_full_Li.get_chemical_formula())"
   ]
  },
  {
   "cell_type": "code",
   "execution_count": null,
   "id": "779408c2-46fc-4f36-8065-4a9b4c993a5d",
   "metadata": {},
   "outputs": [],
   "source": [
    "# CCS\n",
    "from ccs_fit.ase_calculator.ccs_ase_calculator import CCS \n",
    "from ase import io\n",
    "import json\n",
    "import ase.db as db\n",
    "import matplotlib.pyplot as plt\n",
    "\n",
    "with open(\"CCS_params.json\", 'r') as f:\n",
    "    CCS_params = json.load(f)\n",
    "\n",
    "nrg_Li = CCS_params['One_body']['Li']\n",
    "    \n",
    "CCS_calc=CCS(CCS_params=CCS_params)\n",
    "    \n",
    "DFT_DB = db.connect('DFT.db')\n",
    "    \n",
    "xs = []\n",
    "CCS_nrgs = []\n",
    "\n",
    "i = 0\n",
    "\n",
    "struct_no_Li_CCS = struct_no_Li.copy()\n",
    "struct_full_Li_CCS = struct_full_Li.copy()\n",
    "\n",
    "struct_no_Li_CCS.calc = CCS_calc\n",
    "struct_full_Li_CCS.calc = CCS_calc\n",
    "\n",
    "ECCS_no_Li = struct_no_Li_CCS.get_potential_energy()\n",
    "ECCS_full_Li = struct_full_Li_CCS.get_potential_energy()\n",
    "\n",
    "for row in DFT_DB.select():\n",
    "    structure = row.toatoms()\n",
    "    # print(structure.get_magnetic_moments())\n",
    "    elems = structure.get_chemical_symbols()\n",
    "    nr_Li = elems.count('Li')\n",
    "    nr_Ni = elems.count('Ni')\n",
    "    x = nr_Li/nr_Ni\n",
    "    print(i,x)\n",
    "    EDFT = structure.get_potential_energy()\n",
    "    structure.calc = CCS_calc\n",
    "    ECCS = structure.get_potential_energy() - (ECCS_no_Li) - (ECCS_full_Li-ECCS_no_Li)/27*nr_Li\n",
    "    xs.append(x)\n",
    "    CCS_nrgs.append(ECCS)\n",
    "    i += 1\n",
    "\n",
    "plt.ylim(-0.5, 5)\n",
    "plt.scatter(xs, CCS_nrgs)\n",
    "plt.xlabel(\"Li concentration\")\n",
    "plt.ylabel(\"Energy\")"
   ]
  },
  {
   "cell_type": "code",
   "execution_count": 21,
   "id": "4d6039ac-2120-4fb5-8463-749d3d8d5b6a",
   "metadata": {},
   "outputs": [
    {
     "data": {
      "text/plain": [
       "Text(0, 0.5, 'Energy')"
      ]
     },
     "execution_count": 21,
     "metadata": {},
     "output_type": "execute_result"
    },
    {
     "data": {
      "image/png": "[encoded data removed]",
      "text/plain": [
       "<Figure size 640x480 with 1 Axes>"
      ]
     },
     "metadata": {},
     "output_type": "display_data"
    }
   ],
   "source": [
    "# CCS\n",
    "from ccs_fit.ase_calculator.ccs_ase_calculator import CCS \n",
    "from ase import io\n",
    "import json\n",
    "import ase.db as db\n",
    "\n",
    "with open(\"CCS_params.json\", 'r') as f:\n",
    "    CCS_params = json.load(f)\n",
    "\n",
    "nrg_Li = CCS_params['One_body']['Li']\n",
    "    \n",
    "CCS_calc=CCS(CCS_params=CCS_params)\n",
    "    \n",
    "DFT_DB = db.connect('DFT.db')\n",
    "    \n",
    "xs = []\n",
    "DFT_nrgs = []\n",
    "\n",
    "i = 0\n",
    "\n",
    "for row in DFT_DB.select():\n",
    "    structure = row.toatoms()\n",
    "    # print(i)\n",
    "    # print(dir(structure))\n",
    "    # print(structure.get_magnetic_moment())\n",
    "    elems = structure.get_chemical_symbols()\n",
    "    nr_Li = elems.count('Li')\n",
    "    nr_Ni = elems.count('Ni')\n",
    "    x = nr_Li/nr_Ni\n",
    "    EDFT = structure.get_potential_energy() - (nrg_0) - (nrg_1-nrg_0)/27*nr_Li\n",
    "    xs.append(x)\n",
    "    DFT_nrgs.append(EDFT)\n",
    "    i += 1\n",
    "\n",
    "plt.ylim(-5, 0.2)\n",
    "plt.scatter(xs, DFT_nrgs)\n",
    "plt.xlabel(\"Li concentration\")\n",
    "plt.ylabel(\"Energy\")"
   ]
  },
  {
   "cell_type": "code",
   "execution_count": 22,
   "id": "cb61cdcf-733a-4d22-8952-f451493a387b",
   "metadata": {},
   "outputs": [
    {
     "name": "stdout",
     "output_type": "stream",
     "text": [
      "Li7Ni16O32\n"
     ]
    }
   ],
   "source": [
    "print(io.read('DFT.db@80').get_chemical_formula())"
   ]
  },
  {
   "cell_type": "code",
   "execution_count": 23,
   "id": "3131a848-f375-41c5-9cf7-d437aafb698a",
   "metadata": {},
   "outputs": [
    {
     "name": "stdout",
     "output_type": "stream",
     "text": [
      "      Step     Time          Energy         fmax\n",
      "BFGS:    0 15:00:54    -2035.078844        5.6420\n",
      "BFGS:    1 15:00:54    -2023.046159       13.9314\n",
      "BFGS:    2 15:00:55    -2069.606133        4.1187\n",
      "BFGS:    3 15:00:56    -2070.384979       11.4789\n",
      "BFGS:    4 15:00:56    -2079.200139       10.0204\n",
      "BFGS:    5 15:00:57    -2073.333618        5.4742\n",
      "BFGS:    6 15:00:58             nan           nan\n",
      "BFGS:    7 15:00:59     -104.756775        0.0000\n"
     ]
    },
    {
     "data": {
      "text/plain": [
       "True"
      ]
     },
     "execution_count": 23,
     "metadata": {},
     "output_type": "execute_result"
    }
   ],
   "source": [
    "from ase.optimize import BFGS\n",
    "from ccs_fit.ase_calculator.ccs_ase_calculator import CCS\n",
    "from tqdm import tqdm\n",
    "from ase import io\n",
    "\n",
    "struct = io.read('DFT.db@10')\n",
    "\n",
    "struct = struct * [2,2,2]\n",
    "\n",
    "CCS_calc = CCS(CCS_params=CCS_params)\n",
    "\n",
    "# struct.rattle(0.05)\n",
    "struct.calc = CCS_calc\n",
    "\n",
    "opt = BFGS(struct, trajectory='opt.traj')\n",
    "opt.run(fmax=0.0001)"
   ]
  },
  {
   "cell_type": "code",
   "execution_count": 24,
   "id": "4d72920f-6c7f-490c-bf07-46f4f7cc24f0",
   "metadata": {
    "tags": []
   },
   "outputs": [],
   "source": [
    "!ase gui opt.traj"
   ]
  },
  {
   "cell_type": "code",
   "execution_count": 25,
   "id": "f920709e-eb63-4393-8553-8a129b22a241",
   "metadata": {
    "tags": []
   },
   "outputs": [
    {
     "data": {
      "text/plain": [
       "True"
      ]
     },
     "execution_count": 25,
     "metadata": {},
     "output_type": "execute_result"
    }
   ],
   "source": [
    "# Read geometry optimized structure and run NVE Molecular dynamics \n",
    "import numpy as np\n",
    "from ase import units\n",
    "from ase.io import read, write\n",
    "from ase.io.trajectory import Trajectory\n",
    "from ase.md import MDLogger\n",
    "from ase.md.verlet import VelocityVerlet\n",
    "\n",
    "dt = 0.5 * units.fs\n",
    "steps = int(300)\n",
    "dyn = VelocityVerlet(struct, timestep=dt)\n",
    "interval = int(1)\n",
    "dyn.attach(MDLogger(dyn, struct, 'output.log', mode=\"a\"), interval=interval)\n",
    "dyn.attach(Trajectory('output.traj', 'a', struct).write, interval=interval)\n",
    "dyn.run(steps)"
   ]
  },
  {
   "cell_type": "code",
   "execution_count": 26,
   "id": "7141703f-c730-4316-89f8-f40f060f9e3e",
   "metadata": {
    "tags": []
   },
   "outputs": [
    {
     "name": "stdout",
     "output_type": "stream",
     "text": [
      "^C\n"
     ]
    }
   ],
   "source": [
    "!ase gui output.traj"
   ]
  },
  {
   "cell_type": "code",
   "execution_count": 27,
   "id": "5a1203b4-384e-41b6-9fb1-c8c0cb7f02b1",
   "metadata": {},
   "outputs": [
    {
     "name": "stdout",
     "output_type": "stream",
     "text": [
      "      Step     Time          Energy         fmax\n",
      "BFGS:    0 16:06:05     -254.384856        0.0000\n"
     ]
    },
    {
     "data": {
      "text/plain": [
       "True"
      ]
     },
     "execution_count": 27,
     "metadata": {},
     "output_type": "execute_result"
    }
   ],
   "source": [
    "## Stresses not currently implemented in ccs_fit yet!\n",
    "from ase import io\n",
    "from ase.constraints import StrainFilter\n",
    "from ase.optimize import BFGS\n",
    "from ccs_fit.ase_calculator.ccs_ase_calculator import CCS\n",
    "import json\n",
    "\n",
    "with open(\"CCS_params.json\", 'r') as f:\n",
    "    CCS_params = json.load(f)\n",
    "\n",
    "struct = io.read('DFT.db@10')\n",
    "struct = struct # * [2,2,2]\n",
    "\n",
    "CCS_calc = CCS(CCS_params=CCS_params)\n",
    "struct.calc = CCS_calc\n",
    "\n",
    "sf = StrainFilter(struct)\n",
    "opt = BFGS(sf, trajectory=\"strain.traj\")\n",
    "opt.run(0.005)"
   ]
  },
  {
   "cell_type": "code",
   "execution_count": 28,
   "id": "abad8982-9a00-482e-9418-2628cd0f242c",
   "metadata": {},
   "outputs": [
    {
     "name": "stdout",
     "output_type": "stream",
     "text": [
      "^C\n"
     ]
    }
   ],
   "source": [
    "!ase gui strain.traj"
   ]
  },
  {
   "cell_type": "code",
   "execution_count": 29,
   "id": "8c2cf79c-4df4-4276-92b6-c610dc759831",
   "metadata": {},
   "outputs": [],
   "source": [
    "from ccs_fit.scripts.ccs_export_FF import write_FF"
   ]
  },
  {
   "cell_type": "code",
   "execution_count": null,
   "id": "c54f9842-2c6b-422a-8cd5-cc2881da5cd6",
   "metadata": {},
   "outputs": [
    {
     "name": "stdout",
     "output_type": "stream",
     "text": [
      "Buckingham fit (not optimised) for element pair Li-Li;     V(r) = 139.36*exp(-1.97*r) -(179.10)/r^6.\n",
      "Lennard Jones fit (not optimised) for element pair Li-Li;  V(r) = 4*-7352.21*((0.38/r)^12 - (0.38/r)^6)\n",
      "Morse fit (not optimised) for element pair Li-Li;          V(r) = 0.00*(1-np.exp(-5.70*(r-0.03)))^2 + 0.03\n"
     ]
    },
    {
     "data": {
      "image/png": "[encoded data removed]",
      "text/plain": [
       "<Figure size 640x480 with 1 Axes>"
      ]
     },
     "metadata": {},
     "output_type": "display_data"
    },
    {
     "name": "stdout",
     "output_type": "stream",
     "text": [
      "Buckingham fit (not optimised) for element pair Li-Ni;     V(r) = 50.24*exp(-1.17*r) -(427.11)/r^6.\n",
      "Lennard Jones fit (not optimised) for element pair Li-Ni;  V(r) = 4*-1.12*((2.54/r)^12 - (2.54/r)^6)\n",
      "Morse fit (not optimised) for element pair Li-Ni;          V(r) = 1.15*(1-np.exp(-7.44*(r-0.00)))^2 + -0.78\n"
     ]
    },
    {
     "data": {
      "image/png": "[encoded data removed]",
      "text/plain": [
       "<Figure size 640x480 with 1 Axes>"
      ]
     },
     "metadata": {},
     "output_type": "display_data"
    },
    {
     "name": "stderr",
     "output_type": "stream",
     "text": [
      "\n",
      "KeyboardInterrupt\n",
      "\n"
     ]
    }
   ],
   "source": [
    "write_FF(\"CCS_params.json\")"
   ]
  },
  {
   "cell_type": "code",
   "execution_count": null,
   "id": "b7cd0429-5a0d-4b09-8ec5-81a06af92e2e",
   "metadata": {},
   "outputs": [],
   "source": []
  }
 ],
 "metadata": {
  "kernelspec": {
   "display_name": "Tantalizing",
   "language": "python",
   "name": "tantalizing"
  },
  "language_info": {
   "codemirror_mode": {
    "name": "ipython",
    "version": 3
   },
   "file_extension": ".py",
   "mimetype": "text/x-python",
   "name": "python",
   "nbconvert_exporter": "python",
   "pygments_lexer": "ipython3",
   "version": "3.9.16"
  },
  "vscode": {
   "interpreter": {
    "hash": "f9cf24ff20edf0aae28141210fc773ab63efd2a56eb4d7d08651373a5d8a7dcd"
   }
  }
 },
 "nbformat": 4,
 "nbformat_minor": 5
}
