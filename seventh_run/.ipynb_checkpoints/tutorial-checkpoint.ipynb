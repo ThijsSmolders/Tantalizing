{
 "cells": [
  {
   "cell_type": "markdown",
   "id": "74f144dd",
   "metadata": {},
   "source": [
    "# Building Frederike's first force field"
   ]
  },
  {
   "cell_type": "code",
   "execution_count": 1,
   "id": "d88f1c57-aa71-4a19-9b6b-e9ada91bb1e6",
   "metadata": {},
   "outputs": [],
   "source": [
    "import matplotlib.pyplot as plt\n",
    "\n",
    "from ase.io import read,write\n",
    "from ase.build import bulk\n",
    "import numpy as np\n",
    "import ase.db as db\n",
    "from ase.visualize import view\n",
    "from ase.optimize import BFGS\n",
    "Fit_on_forces=True"
   ]
  },
  {
   "cell_type": "markdown",
   "id": "16cf8943-479f-4215-b40e-863f22c69e1e",
   "metadata": {},
   "source": [
    "### Generate training data\n",
    "Curvature Constrained Splines can be fitted to a reference data-set with energies (and optionally forces) of pre-calculated structures. In this example we generate the reference data-set using a Lennard-Jones potential. We use a LJ bulk structure that we randomly rattle and scale. \n"
   ]
  },
  {
   "cell_type": "markdown",
   "id": "34765459-6e0a-455e-81f2-333dd7ec88a8",
   "metadata": {},
   "source": [
    "for i in {1..19}; do (mkdir \"outcar${i}\"; mv \"outcar${i}.txt\" \"outcar${i}/OUTCAR\"); done\n",
    "for i in {1..19}; do (echo \"outcar/outcar${i}\" >> data_list.txt); done"
   ]
  },
  {
   "cell_type": "code",
   "execution_count": 5,
   "id": "387f54e1-dac6-4fc1-a0a9-b9ba8c045ec0",
   "metadata": {},
   "outputs": [
    {
     "name": "stderr",
     "output_type": "stream",
     "text": [
      "    Building data-bases: 100%|███████████████████████████████████████████████████████████████| 19/19 [00:00<00:00, 69.43it/s]\n"
     ]
    }
   ],
   "source": [
    "from ccs_fit.scripts.ccs_build_db import ccs_build_db\n",
    "\n",
    "ccs_build_db(mode=\"CCS\",DFT_DB=\"DFT.db\",file_list=\"data_list.txt\",overwrite=True)"
   ]
  },
  {
   "cell_type": "markdown",
   "id": "bdb9cdef",
   "metadata": {},
   "source": [
    "### Generate the CCS_fit input file; structures.json\n",
    "The next commands fetch the training-set data from the ASE database containing the LJ structures and the corresponding energies. The reference data is called ``DFT_DB`` since the most common source of reference data is DFT."
   ]
  },
  {
   "cell_type": "code",
   "execution_count": 6,
   "id": "e096b5f0",
   "metadata": {},
   "outputs": [
    {
     "name": "stderr",
     "output_type": "stream",
     "text": [
      "    Fetching data: 100%|\u001b[38;2;0;128;128m█████████████████████████████████████████████████████████████████████\u001b[0m| 19/19 [00:00<00:00, 49.93it/s]\u001b[0m\n"
     ]
    }
   ],
   "source": [
    "from ccs_fit.scripts.ccs_fetch import ccs_fetch\n",
    "\n",
    "ccs_fetch(mode=\"CCS\",DFT_DB=\"DFT.db\",include_forces=Fit_on_forces)"
   ]
  },
  {
   "cell_type": "markdown",
   "id": "59be3faa",
   "metadata": {},
   "source": [
    "### Fit training data to Curvature Constrained Splines\n",
    "Finally, the splines are fitted to the target defined in the structures.json input file. The splines can be restricted to be fully repulsive (\"rep\"), or have a turning point/switch (\"sw\"), which is defined by the \"Swtype\" key.\n"
   ]
  },
  {
   "cell_type": "code",
   "execution_count": 7,
   "id": "8c3ac0c1",
   "metadata": {},
   "outputs": [],
   "source": [
    "### Generate input.json file\n",
    "import json\n",
    "\n",
    "input={\n",
    "    \"General\": {\n",
    "        \"interface\": \"CCS\",\n",
    "        \"merging\"  : \"True\"\n",
    "    },\n",
    "    \"Twobody\": {\n",
    "                \"Xx-Xx\": {\n",
    "                        \"Rcut\": 6.0,\n",
    "                        \"Resolution\": 0.5,\n",
    "                        \"Swtype\": \"rep\",\n",
    "                        \"const_type\" : \"Mono\"\n",
    "                }\n",
    "        }\n",
    "}\n",
    "#SAVE TO FILE\n",
    "with open('CCS_input.json', 'w') as f:\n",
    "    json.dump(input, f, indent=8)"
   ]
  },
  {
   "cell_type": "code",
   "execution_count": 8,
   "id": "df1f9f0f",
   "metadata": {},
   "outputs": [
    {
     "name": "stdout",
     "output_type": "stream",
     "text": [
      "    Generating one-body information from training-set.\n",
      "        Added elements:  ['Co', 'Li', 'Mn', 'Ni', 'O', 'Ta']\n",
      "    Generating two-body potentials from one-body information.\n",
      "    Adding pair: Co-Co\n",
      "    Adding pair: Co-Li\n",
      "    Adding pair: Co-Mn\n",
      "    Adding pair: Co-Ni\n",
      "    Adding pair: Co-O\n",
      "    Adding pair: Co-Ta\n",
      "    Adding pair: Li-Li\n",
      "    Adding pair: Li-Mn\n",
      "    Adding pair: Li-Ni\n",
      "    Adding pair: Li-O\n",
      "    Adding pair: Li-Ta\n",
      "    Adding pair: Mn-Mn\n",
      "    Adding pair: Mn-Ni\n",
      "    Adding pair: Mn-O\n",
      "    Adding pair: Mn-Ta\n",
      "    Adding pair: Ni-Ni\n",
      "    Adding pair: Ni-O\n",
      "    Adding pair: Ni-Ta\n",
      "    Adding pair: O-O\n",
      "    Adding pair: O-Ta\n",
      "    Adding pair: Ta-Ta\n",
      "    Applying monotonous constraints for pair:  Co-Co\n",
      "    Applying monotonous constraints for pair:  Co-Li\n",
      "    Applying monotonous constraints for pair:  Co-Mn\n",
      "    Applying monotonous constraints for pair:  Co-Ni\n"
     ]
    },
    {
     "name": "stderr",
     "output_type": "stream",
     "text": [
      "Name mismatch in CCS_input.json and structures.json\n",
      "Name mismatch in CCS_input.json and structures.json\n",
      "Name mismatch in CCS_input.json and structures.json\n",
      "Name mismatch in CCS_input.json and structures.json\n",
      "Name mismatch in CCS_input.json and structures.json\n",
      "Name mismatch in CCS_input.json and structures.json\n",
      "Name mismatch in CCS_input.json and structures.json\n",
      "Name mismatch in CCS_input.json and structures.json\n"
     ]
    },
    {
     "name": "stdout",
     "output_type": "stream",
     "text": [
      "    Applying monotonous constraints for pair:  Co-O\n",
      "    Applying monotonous constraints for pair:  Co-Ta\n",
      "    Applying monotonous constraints for pair:  Li-Li\n",
      "    Applying monotonous constraints for pair:  Li-Mn\n",
      "    Applying monotonous constraints for pair:  Li-Ni\n"
     ]
    },
    {
     "name": "stderr",
     "output_type": "stream",
     "text": [
      "Name mismatch in CCS_input.json and structures.json\n",
      "Name mismatch in CCS_input.json and structures.json\n",
      "Name mismatch in CCS_input.json and structures.json\n",
      "Name mismatch in CCS_input.json and structures.json\n",
      "Name mismatch in CCS_input.json and structures.json\n",
      "Name mismatch in CCS_input.json and structures.json\n",
      "Name mismatch in CCS_input.json and structures.json\n",
      "Name mismatch in CCS_input.json and structures.json\n"
     ]
    },
    {
     "name": "stdout",
     "output_type": "stream",
     "text": [
      "    Applying monotonous constraints for pair:  Li-O\n",
      "    Applying monotonous constraints for pair:  Li-Ta\n",
      "    Applying monotonous constraints for pair:  Mn-Mn\n",
      "    Applying monotonous constraints for pair:  Mn-Ni\n"
     ]
    },
    {
     "name": "stderr",
     "output_type": "stream",
     "text": [
      "Name mismatch in CCS_input.json and structures.json\n",
      "Name mismatch in CCS_input.json and structures.json\n",
      "Name mismatch in CCS_input.json and structures.json\n",
      "Name mismatch in CCS_input.json and structures.json\n",
      "Name mismatch in CCS_input.json and structures.json\n",
      "Name mismatch in CCS_input.json and structures.json\n",
      "Name mismatch in CCS_input.json and structures.json\n",
      "Name mismatch in CCS_input.json and structures.json\n"
     ]
    },
    {
     "name": "stdout",
     "output_type": "stream",
     "text": [
      "    Applying monotonous constraints for pair:  Mn-O\n",
      "    Applying monotonous constraints for pair:  Mn-Ta\n",
      "    Applying monotonous constraints for pair:  Ni-Ni\n"
     ]
    },
    {
     "name": "stderr",
     "output_type": "stream",
     "text": [
      "Name mismatch in CCS_input.json and structures.json\n",
      "Name mismatch in CCS_input.json and structures.json\n",
      "Name mismatch in CCS_input.json and structures.json\n",
      "Name mismatch in CCS_input.json and structures.json\n",
      "Name mismatch in CCS_input.json and structures.json\n",
      "Name mismatch in CCS_input.json and structures.json\n",
      "Name mismatch in CCS_input.json and structures.json\n",
      "Name mismatch in CCS_input.json and structures.json\n"
     ]
    },
    {
     "name": "stdout",
     "output_type": "stream",
     "text": [
      "    Applying monotonous constraints for pair:  Ni-O\n",
      "    Applying monotonous constraints for pair:  Ni-Ta\n"
     ]
    },
    {
     "name": "stderr",
     "output_type": "stream",
     "text": [
      "Name mismatch in CCS_input.json and structures.json\n",
      "Name mismatch in CCS_input.json and structures.json\n",
      "Name mismatch in CCS_input.json and structures.json\n",
      "Name mismatch in CCS_input.json and structures.json\n",
      "Name mismatch in CCS_input.json and structures.json\n",
      "Name mismatch in CCS_input.json and structures.json\n",
      "Name mismatch in CCS_input.json and structures.json\n",
      "Name mismatch in CCS_input.json and structures.json\n",
      "Name mismatch in CCS_input.json and structures.json\n",
      "Name mismatch in CCS_input.json and structures.json\n",
      "Name mismatch in CCS_input.json and structures.json\n",
      "Name mismatch in CCS_input.json and structures.json\n",
      "Name mismatch in CCS_input.json and structures.json\n",
      "Name mismatch in CCS_input.json and structures.json\n",
      "Name mismatch in CCS_input.json and structures.json\n",
      "Name mismatch in CCS_input.json and structures.json\n"
     ]
    },
    {
     "name": "stdout",
     "output_type": "stream",
     "text": [
      "    Applying monotonous constraints for pair:  O-O\n",
      "    Applying monotonous constraints for pair:  O-Ta\n",
      "    Applying monotonous constraints for pair:  Ta-Ta\n",
      "    Merging intervall for pair Co-Co. Number of knots reduced from 2 to 2. \n",
      "    Merging intervall for pair Co-Li. Number of knots reduced from 7 to 6. \n",
      "    Merging intervall for pair Co-Mn. Number of knots reduced from 4 to 4. \n",
      "    Merging intervall for pair Co-Ni. Number of knots reduced from 8 to 6. \n",
      "    Merging intervall for pair Co-O. Number of knots reduced from 10 to 8. \n",
      "    Merging intervall for pair Co-Ta. Number of knots reduced from 8 to 5. \n",
      "    Merging intervall for pair Li-Li. Number of knots reduced from 9 to 7. \n",
      "    Merging intervall for pair Li-Mn. Number of knots reduced from 7 to 6. \n",
      "    Merging intervall for pair Li-Ni. Number of knots reduced from 7 to 7. \n",
      "    Merging intervall for pair Li-O. Number of knots reduced from 10 to 9. \n",
      "    Merging intervall for pair Li-Ta. Number of knots reduced from 7 to 7. \n",
      "    Merging intervall for pair Mn-Mn. Number of knots reduced from 2 to 2. \n",
      "    Merging intervall for pair Mn-Ni. Number of knots reduced from 8 to 6. \n",
      "    Merging intervall for pair Mn-O. Number of knots reduced from 10 to 7. \n",
      "    Merging intervall for pair Mn-Ta. Number of knots reduced from 8 to 5. \n",
      "    Merging intervall for pair Ni-Ni. Number of knots reduced from 9 to 7. \n",
      "    Merging intervall for pair Ni-O. Number of knots reduced from 10 to 10. \n",
      "    Merging intervall for pair Ni-Ta. Number of knots reduced from 8 to 8. \n",
      "    Merging intervall for pair O-O. Number of knots reduced from 9 to 9. \n",
      "    Merging intervall for pair O-Ta. Number of knots reduced from 10 to 9. \n",
      "    Merging intervall for pair Ta-Ta. Number of knots reduced from 4 to 3. \n",
      "    There is linear dependence in stochiometry matrix!\n",
      "    Removing onebody term: Mn\n",
      "    There is linear dependence in stochiometry matrix!\n",
      "    Removing onebody term: O\n",
      "    There is linear dependence in stochiometry matrix!\n",
      "    Removing onebody term: Ta\n",
      "    Condition number is: 1.4369621115411468e+41 ( 135 27596587.034222826 0.0)\n",
      "    MSE of unconstrained problem is:  0.0012177021234452395\n",
      "    Final root mean square error in energy:  0.00613471487292504  (eV/atoms) [NOTE: Only elements specified in Onebody are considered in atom count!]\n",
      "    Merging intervall for pair Co-Co. Number of knots reduced from 2 to 2. \n"
     ]
    },
    {
     "name": "stderr",
     "output_type": "stream",
     "text": [
      "/home/thism292/Documents/repos/CCS_fit/src/ccs_fit/fitting/spline_functions.py:320: RuntimeWarning: invalid value encountered in log\n",
      "  beta = alpha * r0 + np.log(cc / alpha**2)\n"
     ]
    },
    {
     "name": "stdout",
     "output_type": "stream",
     "text": [
      "    Merging intervall for pair Co-Li. Number of knots reduced from 7 to 6. \n",
      "    Merging intervall for pair Co-Mn. Number of knots reduced from 4 to 4. \n",
      "    Merging intervall for pair Co-Ni. Number of knots reduced from 8 to 6. \n",
      "    Merging intervall for pair Co-O. Number of knots reduced from 10 to 8. \n",
      "    Merging intervall for pair Co-Ta. Number of knots reduced from 8 to 5. \n",
      "    Merging intervall for pair Li-Li. Number of knots reduced from 9 to 7. \n",
      "    Merging intervall for pair Li-Mn. Number of knots reduced from 7 to 6. \n",
      "    Merging intervall for pair Li-Ni. Number of knots reduced from 7 to 7. \n",
      "    Merging intervall for pair Li-O. Number of knots reduced from 10 to 9. \n",
      "    Merging intervall for pair Li-Ta. Number of knots reduced from 7 to 7. \n",
      "    Merging intervall for pair Mn-Mn. Number of knots reduced from 2 to 2. \n",
      "    Merging intervall for pair Mn-Ni. Number of knots reduced from 8 to 6. \n",
      "    Merging intervall for pair Mn-O. Number of knots reduced from 10 to 7. \n",
      "    Merging intervall for pair Mn-Ta. Number of knots reduced from 8 to 5. \n",
      "    Merging intervall for pair Ni-Ni. Number of knots reduced from 9 to 7. \n",
      "    Merging intervall for pair Ni-O. Number of knots reduced from 10 to 10. \n",
      "    Merging intervall for pair Ni-Ta. Number of knots reduced from 8 to 8. \n",
      "    Merging intervall for pair O-O. Number of knots reduced from 9 to 9. \n",
      "    Merging intervall for pair O-Ta. Number of knots reduced from 10 to 9. \n",
      "    Merging intervall for pair Ta-Ta. Number of knots reduced from 4 to 3. \n"
     ]
    },
    {
     "name": "stderr",
     "output_type": "stream",
     "text": [
      "    Finding optimum switch: 100%|\u001b[38;2;128;0;128m██████████████████████████████████████████████████████████████\u001b[0m| 1/1 [00:00<00:00, 56.02it/s]\u001b[0m"
     ]
    },
    {
     "name": "stdout",
     "output_type": "stream",
     "text": [
      "    The best switch is (2, 6, 4, 6, 8, 5, 7, 6, 7, 9, 7, 2, 6, 7, 5, 7, 10, 8, 9, 9, 3) with mse: 0.52861, corresponding to distances of [5.56 5.5  6.47 5.5  5.61 5.17 5.94 5.58 5.94 6.19 6.14 5.56 5.48 5.07\n",
      " 5.11 5.97 6.58 6.51 6.67 6.09 6.08] Å for element pairs ['Co-Co', 'Co-Li', 'Co-Mn', 'Co-Ni', 'Co-O', 'Co-Ta', 'Li-Li', 'Li-Mn', 'Li-Ni', 'Li-O', 'Li-Ta', 'Mn-Mn', 'Mn-Ni', 'Mn-O', 'Mn-Ta', 'Ni-Ni', 'Ni-O', 'Ni-Ta', 'O-O', 'O-Ta', 'Ta-Ta'].\n",
      "    Final root mean square error in energy:  0.008332632936189927  (eV/atoms) [NOTE: Only elements specified in Onebody are considered in atom count!]\n"
     ]
    },
    {
     "name": "stderr",
     "output_type": "stream",
     "text": [
      "\n"
     ]
    }
   ],
   "source": [
    "#RUN FIT\n",
    "from ccs_fit import ccs_fit\n",
    "\n",
    "ccs_fit(\"CCS_input.json\")"
   ]
  },
  {
   "cell_type": "markdown",
   "id": "2ce06ae5",
   "metadata": {},
   "source": [
    "### Validate your potential\n",
    "Make sure your potential (at least) reproduce the data points in your training-set. Performin further tests on strucutres not included in the training-set is recomended but not included in the tutorial."
   ]
  },
  {
   "cell_type": "code",
   "execution_count": 9,
   "id": "7e429885",
   "metadata": {},
   "outputs": [
    {
     "name": "stderr",
     "output_type": "stream",
     "text": [
      "  0%|\u001b[38;2;128;0;0m                                                                                                 \u001b[0m| 0/19 [00:00<?, ?it/s]\u001b[0m/home/thism292/anaconda3/envs/CCS_fit_search_mode/lib/python3.9/site-packages/ase/utils/__init__.py:62: FutureWarning: Please use atoms.cell.rank instead\n",
      "  warnings.warn(warning)\n",
      "100%|\u001b[38;2;128;0;0m████████████████████████████████████████████████████████████████████████████████████████\u001b[0m| 19/19 [00:00<00:00, 24.54it/s]\u001b[0m\n"
     ]
    }
   ],
   "source": [
    "from ccs_fit.scripts.ccs_validate import ccs_validate\n",
    "ccs_validate(mode=\"CCS\",CCS_params=\"CCS_params.json\",DFT_DB=\"DFT.db\")"
   ]
  },
  {
   "cell_type": "code",
   "execution_count": 10,
   "id": "26234bd3",
   "metadata": {},
   "outputs": [
    {
     "data": {
      "image/png": "[encoded data removed]",
      "text/plain": [
       "<Figure size 640x480 with 1 Axes>"
      ]
     },
     "metadata": {},
     "output_type": "display_data"
    },
    {
     "data": {
      "image/png": "[encoded data removed]",
      "text/plain": [
       "<Figure size 640x480 with 1 Axes>"
      ]
     },
     "metadata": {},
     "output_type": "display_data"
    }
   ],
   "source": [
    "try:\n",
    "    err=np.loadtxt(\"CCS_validate.dat\")\n",
    "    plt.xlabel('Reference energy (eV)')\n",
    "    plt.ylabel('Validation energy (eV)')\n",
    "    plt.plot( [min(err[:,0]),max(err[:,0])],[min(err[:,0]),max(err[:,0])],'--',color='black'  )\n",
    "    plt.scatter(err[:,0],err[:,1],facecolors='none', edgecolors='red')\n",
    "    plt.show()\n",
    "    plt.xlabel('Reference energy (eV)')\n",
    "    plt.ylabel('Error in fit (eV)')\n",
    "    plt.scatter(err[:,0],err[:,2],facecolors='none', edgecolors='red')\n",
    "    plt.show()\n",
    "except:\n",
    "    pass"
   ]
  },
  {
   "cell_type": "markdown",
   "id": "34edf9a9",
   "metadata": {},
   "source": [
    "### Cleaning up"
   ]
  },
  {
   "cell_type": "code",
   "execution_count": 11,
   "id": "6b63718b",
   "metadata": {},
   "outputs": [],
   "source": [
    "# import glob\n",
    "\n",
    "# def rm(file):\n",
    "#     try:\n",
    "#         os.remove(file)\n",
    "#     except OSError:\n",
    "#         pass\n",
    "\n",
    "\n",
    "# list=glob.glob(\"CALCULATED_DATA/*\")\n",
    "# for file in list:\n",
    "#     rm(file)\n",
    "# list=glob.glob(\"CCS_*\")\n",
    "# for file in list:\n",
    "#     rm(file)\n",
    "# list=glob.glob(\"UNC_*\")\n",
    "# for file in list:\n",
    "#     rm(file)\n",
    "# rm(\"structures.json\")\n",
    "# rm(\"file_list\")\n",
    "# rm(\"LJ.db\")"
   ]
  },
  {
   "cell_type": "markdown",
   "id": "1bb3295f-817b-4618-b63d-e019598b2a46",
   "metadata": {},
   "source": [
    "### Running MD"
   ]
  },
  {
   "cell_type": "code",
   "execution_count": 3,
   "id": "779408c2-46fc-4f36-8065-4a9b4c993a5d",
   "metadata": {},
   "outputs": [],
   "source": [
    "# CCS\n",
    "from ccs_fit.ase_calculator.ccs_ase_calculator import CCS \n",
    "from ase import io\n",
    "from ase.optimize import FIRE\n",
    "import json\n",
    "\n",
    "with open(\"CCS_params.json\", 'r') as f:\n",
    "    CCS_params = json.load(f)\n",
    "\n",
    "CCS_calc=CCS(CCS_params=CCS_params)\n",
    "\n",
    "atoms = io.read(\"DFT.db@0\")\n",
    "                \n",
    "atoms.calc = CCS_calc"
   ]
  },
  {
   "cell_type": "code",
   "execution_count": 7,
   "id": "c0db8da7-b69d-4a77-bc3e-6a54064b1a06",
   "metadata": {},
   "outputs": [
    {
     "name": "stderr",
     "output_type": "stream",
     "text": [
      "/home/thism292/anaconda3/envs/CCS_fit_search_mode/lib/python3.9/site-packages/ase/md/md.py:48: FutureWarning: Specify the temperature in K using the 'temperature_K' argument\n",
      "  warnings.warn(FutureWarning(w))\n",
      "/home/thism292/anaconda3/envs/CCS_fit_search_mode/lib/python3.9/site-packages/ase/utils/__init__.py:62: FutureWarning: Please use atoms.cell.rank instead\n",
      "  warnings.warn(warning)\n"
     ]
    },
    {
     "data": {
      "text/plain": [
       "True"
      ]
     },
     "execution_count": 7,
     "metadata": {},
     "output_type": "execute_result"
    }
   ],
   "source": [
    "# Read geometry optimized structure and run NVE Molecular dynamics \n",
    "from ase import units\n",
    "from ase.io import read, write\n",
    "from ase.io.trajectory import Trajectory\n",
    "from ase.md import MDLogger\n",
    "from ase.md.velocitydistribution import MaxwellBoltzmannDistribution\n",
    "from ase.md.nptberendsen import NPTBerendsen\n",
    "from ase.md.nvtberendsen import NVTBerendsen\n",
    "from ase.md.verlet import VelocityVerlet\n",
    "import numpy as np\n",
    "from ase.io import read, write\n",
    "\n",
    "rng = np.random.default_rng(10)\n",
    "MaxwellBoltzmannDistribution(atoms, 873*units.kB, rng=rng)\n",
    "dt = 0.5 * units.fs\n",
    "steps = int(10)\n",
    "dyn = VelocityVerlet(atoms, timestep=dt)\n",
    "interval = int(1)\n",
    "dyn.attach(MDLogger(dyn, atoms, 'output.log', mode=\"a\"), interval=interval)\n",
    "dyn.attach(Trajectory('output.traj', 'a', atoms).write, interval=interval)\n",
    "dyn.run(steps)"
   ]
  },
  {
   "cell_type": "code",
   "execution_count": 9,
   "id": "7ce53dc5-2760-4aaf-8a5a-b09801e35e60",
   "metadata": {},
   "outputs": [
    {
     "name": "stdout",
     "output_type": "stream",
     "text": [
      "Traceback (most recent call last):\n",
      "  File \"/usr/lib/python3.10/runpy.py\", line 196, in _run_module_as_main\n",
      "    return _run_code(code, main_globals, None,\n",
      "  File \"/usr/lib/python3.10/runpy.py\", line 86, in _run_code\n",
      "    exec(code, run_globals)\n",
      "  File \"/home/thism292/.local/lib/python3.10/site-packages/ase/gui/pipe.py\", line 32, in <module>\n",
      "    main()\n",
      "  File \"/home/thism292/.local/lib/python3.10/site-packages/ase/gui/pipe.py\", line 19, in main\n",
      "    make_plot(show=False, *data)\n",
      "  File \"/home/thism292/.local/lib/python3.10/site-packages/ase/gui/graphs.py\", line 78, in make_plot\n",
      "    plt.figure(figsize=(basesize * 2.5**0.5, basesize))\n",
      "  File \"/home/thism292/.local/lib/python3.10/site-packages/matplotlib/_api/deprecation.py\", line 454, in wrapper\n",
      "    return func(*args, **kwargs)\n",
      "  File \"/home/thism292/.local/lib/python3.10/site-packages/matplotlib/pyplot.py\", line 783, in figure\n",
      "    manager = new_figure_manager(\n",
      "  File \"/home/thism292/.local/lib/python3.10/site-packages/matplotlib/pyplot.py\", line 358, in new_figure_manager\n",
      "    _warn_if_gui_out_of_main_thread()\n",
      "  File \"/home/thism292/.local/lib/python3.10/site-packages/matplotlib/pyplot.py\", line 336, in _warn_if_gui_out_of_main_thread\n",
      "    if _get_required_interactive_framework(_get_backend_mod()):\n",
      "  File \"/home/thism292/.local/lib/python3.10/site-packages/matplotlib/pyplot.py\", line 207, in _get_backend_mod\n",
      "    switch_backend(dict.__getitem__(rcParams, \"backend\"))\n",
      "  File \"/home/thism292/.local/lib/python3.10/site-packages/matplotlib/pyplot.py\", line 265, in switch_backend\n",
      "    backend_mod = importlib.import_module(\n",
      "  File \"/usr/lib/python3.10/importlib/__init__.py\", line 126, in import_module\n",
      "    return _bootstrap._gcd_import(name[level:], package, level)\n",
      "  File \"<frozen importlib._bootstrap>\", line 1050, in _gcd_import\n",
      "  File \"<frozen importlib._bootstrap>\", line 1027, in _find_and_load\n",
      "  File \"<frozen importlib._bootstrap>\", line 992, in _find_and_load_unlocked\n",
      "  File \"<frozen importlib._bootstrap>\", line 241, in _call_with_frames_removed\n",
      "  File \"<frozen importlib._bootstrap>\", line 1050, in _gcd_import\n",
      "  File \"<frozen importlib._bootstrap>\", line 1027, in _find_and_load\n",
      "  File \"<frozen importlib._bootstrap>\", line 1004, in _find_and_load_unlocked\n",
      "ModuleNotFoundError: No module named 'matplotlib_inline'\n"
     ]
    }
   ],
   "source": [
    "!ase gui output.traj"
   ]
  },
  {
   "cell_type": "code",
   "execution_count": null,
   "id": "2649907b-d035-4d10-a5eb-8a2015777030",
   "metadata": {},
   "outputs": [],
   "source": []
  }
 ],
 "metadata": {
  "kernelspec": {
   "display_name": "CCS_fit_search_mode",
   "language": "python",
   "name": "ccs_fit_search_mode"
  },
  "language_info": {
   "codemirror_mode": {
    "name": "ipython",
    "version": 3
   },
   "file_extension": ".py",
   "mimetype": "text/x-python",
   "name": "python",
   "nbconvert_exporter": "python",
   "pygments_lexer": "ipython3",
   "version": "3.9.15"
  },
  "vscode": {
   "interpreter": {
    "hash": "f9cf24ff20edf0aae28141210fc773ab63efd2a56eb4d7d08651373a5d8a7dcd"
   }
  }
 },
 "nbformat": 4,
 "nbformat_minor": 5
}
