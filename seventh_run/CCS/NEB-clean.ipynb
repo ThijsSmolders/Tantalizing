{
 "cells": [
  {
   "cell_type": "markdown",
   "id": "e8fc01a3-f9d4-4d77-bb75-648242b17093",
   "metadata": {},
   "source": [
    "## NEB"
   ]
  },
  {
   "cell_type": "code",
   "execution_count": 9,
   "id": "96835b70-fd78-49e7-a739-594e307a76ff",
   "metadata": {
    "tags": []
   },
   "outputs": [
    {
     "ename": "KeyboardInterrupt",
     "evalue": "",
     "output_type": "error",
     "traceback": [
      "\u001b[1;31m---------------------------------------------------------------------------\u001b[0m",
      "\u001b[1;31mKeyboardInterrupt\u001b[0m                         Traceback (most recent call last)",
      "Cell \u001b[1;32mIn[9], line 17\u001b[0m\n\u001b[0;32m     14\u001b[0m struct\u001b[38;5;241m.\u001b[39mcalc \u001b[38;5;241m=\u001b[39m CCS_calc\n\u001b[0;32m     16\u001b[0m opt \u001b[38;5;241m=\u001b[39m BFGS(struct, trajectory\u001b[38;5;241m=\u001b[39m\u001b[38;5;124m'\u001b[39m\u001b[38;5;124mopt_init.traj\u001b[39m\u001b[38;5;124m'\u001b[39m)\n\u001b[1;32m---> 17\u001b[0m \u001b[43mopt\u001b[49m\u001b[38;5;241;43m.\u001b[39;49m\u001b[43mrun\u001b[49m\u001b[43m(\u001b[49m\u001b[43mfmax\u001b[49m\u001b[38;5;241;43m=\u001b[39;49m\u001b[38;5;241;43m0.005\u001b[39;49m\u001b[43m)\u001b[49m\n",
      "File \u001b[1;32m~\\Anaconda3\\envs\\Tantalizing\\lib\\site-packages\\ase\\optimize\\optimize.py:269\u001b[0m, in \u001b[0;36mOptimizer.run\u001b[1;34m(self, fmax, steps)\u001b[0m\n\u001b[0;32m    267\u001b[0m \u001b[38;5;28;01mif\u001b[39;00m steps:\n\u001b[0;32m    268\u001b[0m     \u001b[38;5;28mself\u001b[39m\u001b[38;5;241m.\u001b[39mmax_steps \u001b[38;5;241m=\u001b[39m steps\n\u001b[1;32m--> 269\u001b[0m \u001b[38;5;28;01mreturn\u001b[39;00m \u001b[43mDynamics\u001b[49m\u001b[38;5;241;43m.\u001b[39;49m\u001b[43mrun\u001b[49m\u001b[43m(\u001b[49m\u001b[38;5;28;43mself\u001b[39;49m\u001b[43m)\u001b[49m\n",
      "File \u001b[1;32m~\\Anaconda3\\envs\\Tantalizing\\lib\\site-packages\\ase\\optimize\\optimize.py:156\u001b[0m, in \u001b[0;36mDynamics.run\u001b[1;34m(self)\u001b[0m\n\u001b[0;32m    149\u001b[0m \u001b[38;5;28;01mdef\u001b[39;00m \u001b[38;5;21mrun\u001b[39m(\u001b[38;5;28mself\u001b[39m):\n\u001b[0;32m    150\u001b[0m     \u001b[38;5;124;03m\"\"\"Run dynamics algorithm.\u001b[39;00m\n\u001b[0;32m    151\u001b[0m \n\u001b[0;32m    152\u001b[0m \u001b[38;5;124;03m    This method will return when the forces on all individual\u001b[39;00m\n\u001b[0;32m    153\u001b[0m \u001b[38;5;124;03m    atoms are less than *fmax* or when the number of steps exceeds\u001b[39;00m\n\u001b[0;32m    154\u001b[0m \u001b[38;5;124;03m    *steps*.\"\"\"\u001b[39;00m\n\u001b[1;32m--> 156\u001b[0m     \u001b[38;5;28;01mfor\u001b[39;00m converged \u001b[38;5;129;01min\u001b[39;00m Dynamics\u001b[38;5;241m.\u001b[39mirun(\u001b[38;5;28mself\u001b[39m):\n\u001b[0;32m    157\u001b[0m         \u001b[38;5;28;01mpass\u001b[39;00m\n\u001b[0;32m    158\u001b[0m     \u001b[38;5;28;01mreturn\u001b[39;00m converged\n",
      "File \u001b[1;32m~\\Anaconda3\\envs\\Tantalizing\\lib\\site-packages\\ase\\optimize\\optimize.py:128\u001b[0m, in \u001b[0;36mDynamics.irun\u001b[1;34m(self)\u001b[0m\n\u001b[0;32m    125\u001b[0m \u001b[38;5;28;01myield\u001b[39;00m \u001b[38;5;28;01mFalse\u001b[39;00m\n\u001b[0;32m    127\u001b[0m \u001b[38;5;28;01mif\u001b[39;00m \u001b[38;5;28mself\u001b[39m\u001b[38;5;241m.\u001b[39mnsteps \u001b[38;5;241m==\u001b[39m \u001b[38;5;241m0\u001b[39m:\n\u001b[1;32m--> 128\u001b[0m     \u001b[38;5;28;43mself\u001b[39;49m\u001b[38;5;241;43m.\u001b[39;49m\u001b[43mlog\u001b[49m\u001b[43m(\u001b[49m\u001b[43m)\u001b[49m\n\u001b[0;32m    129\u001b[0m     \u001b[38;5;28mself\u001b[39m\u001b[38;5;241m.\u001b[39mcall_observers()\n\u001b[0;32m    131\u001b[0m \u001b[38;5;66;03m# run the algorithm until converged or max_steps reached\u001b[39;00m\n",
      "File \u001b[1;32m~\\Anaconda3\\envs\\Tantalizing\\lib\\site-packages\\ase\\optimize\\optimize.py:283\u001b[0m, in \u001b[0;36mOptimizer.log\u001b[1;34m(self, forces)\u001b[0m\n\u001b[0;32m    281\u001b[0m \u001b[38;5;28;01mdef\u001b[39;00m \u001b[38;5;21mlog\u001b[39m(\u001b[38;5;28mself\u001b[39m, forces\u001b[38;5;241m=\u001b[39m\u001b[38;5;28;01mNone\u001b[39;00m):\n\u001b[0;32m    282\u001b[0m     \u001b[38;5;28;01mif\u001b[39;00m forces \u001b[38;5;129;01mis\u001b[39;00m \u001b[38;5;28;01mNone\u001b[39;00m:\n\u001b[1;32m--> 283\u001b[0m         forces \u001b[38;5;241m=\u001b[39m \u001b[38;5;28;43mself\u001b[39;49m\u001b[38;5;241;43m.\u001b[39;49m\u001b[43matoms\u001b[49m\u001b[38;5;241;43m.\u001b[39;49m\u001b[43mget_forces\u001b[49m\u001b[43m(\u001b[49m\u001b[43m)\u001b[49m\n\u001b[0;32m    284\u001b[0m     fmax \u001b[38;5;241m=\u001b[39m sqrt((forces \u001b[38;5;241m*\u001b[39m\u001b[38;5;241m*\u001b[39m \u001b[38;5;241m2\u001b[39m)\u001b[38;5;241m.\u001b[39msum(axis\u001b[38;5;241m=\u001b[39m\u001b[38;5;241m1\u001b[39m)\u001b[38;5;241m.\u001b[39mmax())\n\u001b[0;32m    285\u001b[0m     e \u001b[38;5;241m=\u001b[39m \u001b[38;5;28mself\u001b[39m\u001b[38;5;241m.\u001b[39matoms\u001b[38;5;241m.\u001b[39mget_potential_energy(\n\u001b[0;32m    286\u001b[0m         force_consistent\u001b[38;5;241m=\u001b[39m\u001b[38;5;28mself\u001b[39m\u001b[38;5;241m.\u001b[39mforce_consistent\n\u001b[0;32m    287\u001b[0m     )\n",
      "File \u001b[1;32m~\\Anaconda3\\envs\\Tantalizing\\lib\\site-packages\\ase\\atoms.py:788\u001b[0m, in \u001b[0;36mAtoms.get_forces\u001b[1;34m(self, apply_constraint, md)\u001b[0m\n\u001b[0;32m    786\u001b[0m \u001b[38;5;28;01mif\u001b[39;00m \u001b[38;5;28mself\u001b[39m\u001b[38;5;241m.\u001b[39m_calc \u001b[38;5;129;01mis\u001b[39;00m \u001b[38;5;28;01mNone\u001b[39;00m:\n\u001b[0;32m    787\u001b[0m     \u001b[38;5;28;01mraise\u001b[39;00m \u001b[38;5;167;01mRuntimeError\u001b[39;00m(\u001b[38;5;124m'\u001b[39m\u001b[38;5;124mAtoms object has no calculator.\u001b[39m\u001b[38;5;124m'\u001b[39m)\n\u001b[1;32m--> 788\u001b[0m forces \u001b[38;5;241m=\u001b[39m \u001b[38;5;28;43mself\u001b[39;49m\u001b[38;5;241;43m.\u001b[39;49m\u001b[43m_calc\u001b[49m\u001b[38;5;241;43m.\u001b[39;49m\u001b[43mget_forces\u001b[49m\u001b[43m(\u001b[49m\u001b[38;5;28;43mself\u001b[39;49m\u001b[43m)\u001b[49m\n\u001b[0;32m    790\u001b[0m \u001b[38;5;28;01mif\u001b[39;00m apply_constraint:\n\u001b[0;32m    791\u001b[0m     \u001b[38;5;66;03m# We need a special md flag here because for MD we want\u001b[39;00m\n\u001b[0;32m    792\u001b[0m     \u001b[38;5;66;03m# to skip real constraints but include special \"constraints\"\u001b[39;00m\n\u001b[0;32m    793\u001b[0m     \u001b[38;5;66;03m# Like Hookean.\u001b[39;00m\n\u001b[0;32m    794\u001b[0m     \u001b[38;5;28;01mfor\u001b[39;00m constraint \u001b[38;5;129;01min\u001b[39;00m \u001b[38;5;28mself\u001b[39m\u001b[38;5;241m.\u001b[39mconstraints:\n",
      "File \u001b[1;32m~\\Anaconda3\\envs\\Tantalizing\\lib\\site-packages\\ase\\calculators\\abc.py:23\u001b[0m, in \u001b[0;36mGetPropertiesMixin.get_forces\u001b[1;34m(self, atoms)\u001b[0m\n\u001b[0;32m     22\u001b[0m \u001b[38;5;28;01mdef\u001b[39;00m \u001b[38;5;21mget_forces\u001b[39m(\u001b[38;5;28mself\u001b[39m, atoms\u001b[38;5;241m=\u001b[39m\u001b[38;5;28;01mNone\u001b[39;00m):\n\u001b[1;32m---> 23\u001b[0m     \u001b[38;5;28;01mreturn\u001b[39;00m \u001b[38;5;28;43mself\u001b[39;49m\u001b[38;5;241;43m.\u001b[39;49m\u001b[43mget_property\u001b[49m\u001b[43m(\u001b[49m\u001b[38;5;124;43m'\u001b[39;49m\u001b[38;5;124;43mforces\u001b[39;49m\u001b[38;5;124;43m'\u001b[39;49m\u001b[43m,\u001b[49m\u001b[43m \u001b[49m\u001b[43matoms\u001b[49m\u001b[43m)\u001b[49m\n",
      "File \u001b[1;32m~\\Anaconda3\\envs\\Tantalizing\\lib\\site-packages\\ase\\calculators\\calculator.py:737\u001b[0m, in \u001b[0;36mCalculator.get_property\u001b[1;34m(self, name, atoms, allow_calculation)\u001b[0m\n\u001b[0;32m    735\u001b[0m     \u001b[38;5;28;01mif\u001b[39;00m \u001b[38;5;129;01mnot\u001b[39;00m allow_calculation:\n\u001b[0;32m    736\u001b[0m         \u001b[38;5;28;01mreturn\u001b[39;00m \u001b[38;5;28;01mNone\u001b[39;00m\n\u001b[1;32m--> 737\u001b[0m     \u001b[38;5;28;43mself\u001b[39;49m\u001b[38;5;241;43m.\u001b[39;49m\u001b[43mcalculate\u001b[49m\u001b[43m(\u001b[49m\u001b[43matoms\u001b[49m\u001b[43m,\u001b[49m\u001b[43m \u001b[49m\u001b[43m[\u001b[49m\u001b[43mname\u001b[49m\u001b[43m]\u001b[49m\u001b[43m,\u001b[49m\u001b[43m \u001b[49m\u001b[43msystem_changes\u001b[49m\u001b[43m)\u001b[49m\n\u001b[0;32m    739\u001b[0m \u001b[38;5;28;01mif\u001b[39;00m name \u001b[38;5;129;01mnot\u001b[39;00m \u001b[38;5;129;01min\u001b[39;00m \u001b[38;5;28mself\u001b[39m\u001b[38;5;241m.\u001b[39mresults:\n\u001b[0;32m    740\u001b[0m     \u001b[38;5;66;03m# For some reason the calculator was not able to do what we want,\u001b[39;00m\n\u001b[0;32m    741\u001b[0m     \u001b[38;5;66;03m# and that is OK.\u001b[39;00m\n\u001b[0;32m    742\u001b[0m     \u001b[38;5;28;01mraise\u001b[39;00m PropertyNotImplementedError(\u001b[38;5;124m'\u001b[39m\u001b[38;5;132;01m{}\u001b[39;00m\u001b[38;5;124m not present in this \u001b[39m\u001b[38;5;124m'\u001b[39m\n\u001b[0;32m    743\u001b[0m                                       \u001b[38;5;124m'\u001b[39m\u001b[38;5;124mcalculation\u001b[39m\u001b[38;5;124m'\u001b[39m\u001b[38;5;241m.\u001b[39mformat(name))\n",
      "File \u001b[1;32m~\\Anaconda3\\envs\\Tantalizing\\lib\\site-packages\\ccs_fit\\ase_calculator\\ccs_ase_calculator.py:208\u001b[0m, in \u001b[0;36mCCS.calculate\u001b[1;34m(self, atoms, properties, system_changes)\u001b[0m\n\u001b[0;32m    206\u001b[0m \u001b[38;5;28;01mfor\u001b[39;00m p1, \u001b[38;5;28mid\u001b[39m \u001b[38;5;129;01min\u001b[39;00m \u001b[38;5;28mzip\u001b[39m(pos1, index1):\n\u001b[0;32m    207\u001b[0m     dist \u001b[38;5;241m=\u001b[39m pos2 \u001b[38;5;241m-\u001b[39m p1\n\u001b[1;32m--> 208\u001b[0m     norm_dist \u001b[38;5;241m=\u001b[39m \u001b[43mnp\u001b[49m\u001b[38;5;241;43m.\u001b[39;49m\u001b[43mlinalg\u001b[49m\u001b[38;5;241;43m.\u001b[39;49m\u001b[43mnorm\u001b[49m\u001b[43m(\u001b[49m\u001b[43mdist\u001b[49m\u001b[43m,\u001b[49m\u001b[43m \u001b[49m\u001b[43maxis\u001b[49m\u001b[38;5;241;43m=\u001b[39;49m\u001b[38;5;241;43m1\u001b[39;49m\u001b[43m)\u001b[49m\n\u001b[0;32m    209\u001b[0m     dist_mask \u001b[38;5;241m=\u001b[39m (norm_dist \u001b[38;5;241m<\u001b[39m \u001b[38;5;28mself\u001b[39m\u001b[38;5;241m.\u001b[39mrc) \u001b[38;5;241m&\u001b[39m (norm_dist \u001b[38;5;241m>\u001b[39m \u001b[38;5;241m0\u001b[39m)\n\u001b[0;32m    210\u001b[0m     xy_distances\u001b[38;5;241m.\u001b[39mextend(norm_dist[dist_mask]\u001b[38;5;241m.\u001b[39mtolist())\n",
      "File \u001b[1;32m<__array_function__ internals>:180\u001b[0m, in \u001b[0;36mnorm\u001b[1;34m(*args, **kwargs)\u001b[0m\n",
      "File \u001b[1;32m~\\Anaconda3\\envs\\Tantalizing\\lib\\site-packages\\numpy\\linalg\\linalg.py:2547\u001b[0m, in \u001b[0;36mnorm\u001b[1;34m(x, ord, axis, keepdims)\u001b[0m\n\u001b[0;32m   2544\u001b[0m \u001b[38;5;28;01melif\u001b[39;00m \u001b[38;5;28mord\u001b[39m \u001b[38;5;129;01mis\u001b[39;00m \u001b[38;5;28;01mNone\u001b[39;00m \u001b[38;5;129;01mor\u001b[39;00m \u001b[38;5;28mord\u001b[39m \u001b[38;5;241m==\u001b[39m \u001b[38;5;241m2\u001b[39m:\n\u001b[0;32m   2545\u001b[0m     \u001b[38;5;66;03m# special case for speedup\u001b[39;00m\n\u001b[0;32m   2546\u001b[0m     s \u001b[38;5;241m=\u001b[39m (x\u001b[38;5;241m.\u001b[39mconj() \u001b[38;5;241m*\u001b[39m x)\u001b[38;5;241m.\u001b[39mreal\n\u001b[1;32m-> 2547\u001b[0m     \u001b[38;5;28;01mreturn\u001b[39;00m sqrt(\u001b[43madd\u001b[49m\u001b[38;5;241;43m.\u001b[39;49m\u001b[43mreduce\u001b[49m\u001b[43m(\u001b[49m\u001b[43ms\u001b[49m\u001b[43m,\u001b[49m\u001b[43m \u001b[49m\u001b[43maxis\u001b[49m\u001b[38;5;241;43m=\u001b[39;49m\u001b[43maxis\u001b[49m\u001b[43m,\u001b[49m\u001b[43m \u001b[49m\u001b[43mkeepdims\u001b[49m\u001b[38;5;241;43m=\u001b[39;49m\u001b[43mkeepdims\u001b[49m\u001b[43m)\u001b[49m)\n\u001b[0;32m   2548\u001b[0m \u001b[38;5;66;03m# None of the str-type keywords for ord ('fro', 'nuc')\u001b[39;00m\n\u001b[0;32m   2549\u001b[0m \u001b[38;5;66;03m# are valid for vectors\u001b[39;00m\n\u001b[0;32m   2550\u001b[0m \u001b[38;5;28;01melif\u001b[39;00m \u001b[38;5;28misinstance\u001b[39m(\u001b[38;5;28mord\u001b[39m, \u001b[38;5;28mstr\u001b[39m):\n",
      "\u001b[1;31mKeyboardInterrupt\u001b[0m: "
     ]
    }
   ],
   "source": [
    "from ase.optimize import BFGS\n",
    "from ccs_fit.ase_calculator.ccs_ase_calculator import CCS\n",
    "from tqdm import tqdm\n",
    "from ase import io\n",
    "import json\n",
    "\n",
    "struct = io.read('DFT.db@11')\n",
    "with open(\"CCS_params.json\", 'r') as f:\n",
    "    CCS_params = json.load(f)\n",
    "\n",
    "CCS_calc = CCS(CCS_params=CCS_params)\n",
    "\n",
    "#struct.rattle(0.05)\n",
    "struct.calc = CCS_calc\n",
    "\n",
    "opt = BFGS(struct, trajectory='opt_init.traj')\n",
    "opt.run(fmax=0.005)"
   ]
  },
  {
   "cell_type": "code",
   "execution_count": 8,
   "id": "3dea621b",
   "metadata": {},
   "outputs": [
    {
     "name": "stderr",
     "output_type": "stream",
     "text": [
      "'ase' is not recognized as an internal or external command,\n",
      "operable program or batch file.\n"
     ]
    }
   ],
   "source": [
    "import ase\n",
    "\n",
    "!ase gui 'opt_init.traj'"
   ]
  },
  {
   "cell_type": "code",
   "execution_count": 4,
   "id": "ce95eaa5-4d49-4f2f-a3e7-4753a95c2bb1",
   "metadata": {
    "tags": []
   },
   "outputs": [
    {
     "data": {
      "text/plain": [
       "<Popen: returncode: None args: ['C:\\\\Users\\\\Fremo211\\\\Anaconda3\\\\envs\\\\Tanta...>"
      ]
     },
     "execution_count": 4,
     "metadata": {},
     "output_type": "execute_result"
    }
   ],
   "source": [
    "from ase.visualize import view\n",
    "init = io.read(\"opt_init.traj\")\n",
    "\n",
    "view(init)"
   ]
  },
  {
   "cell_type": "code",
   "execution_count": 7,
   "id": "a9cedf67-7eaa-4b94-a37b-b1b1869e3e4e",
   "metadata": {
    "tags": []
   },
   "outputs": [
    {
     "name": "stdout",
     "output_type": "stream",
     "text": [
      "      Step     Time          Energy         fmax\n",
      "BFGS:    0 13:52:54     -561.357678        0.0317\n",
      "BFGS:    1 13:52:55     -561.357798        0.0315\n",
      "BFGS:    2 13:52:56     -561.368203        0.0199\n",
      "BFGS:    3 13:52:58     -561.368764        0.0282\n",
      "BFGS:    4 13:52:59     -561.368854        0.0302\n",
      "BFGS:    5 13:53:01     -561.369026        0.0324\n",
      "BFGS:    6 13:53:02     -561.369442        0.0349\n",
      "BFGS:    7 13:53:03     -561.370316        0.0357\n",
      "BFGS:    8 13:53:05     -561.371728        0.0315\n",
      "BFGS:    9 13:53:06     -561.372986        0.0209\n",
      "BFGS:   10 13:53:07     -561.373508        0.0138\n",
      "BFGS:   11 13:53:09     -561.373654        0.0149\n",
      "BFGS:   12 13:53:10     -561.373698        0.0146\n",
      "BFGS:   13 13:53:11     -561.373834        0.0132\n",
      "BFGS:   14 13:53:13     -561.374085        0.0111\n",
      "BFGS:   15 13:53:14     -561.374688        0.0101\n",
      "BFGS:   16 13:53:16     -561.375679        0.0128\n",
      "BFGS:   17 13:53:17     -561.376472        0.0235\n",
      "BFGS:   18 13:53:18     -561.376700        0.0223\n",
      "BFGS:   19 13:53:20     -561.376777        0.0188\n",
      "BFGS:   20 13:53:21     -561.376825        0.0167\n",
      "BFGS:   21 13:53:23     -561.377028        0.0107\n",
      "BFGS:   22 13:53:24     -561.377388        0.0113\n",
      "BFGS:   23 13:53:25     -561.378181        0.0122\n",
      "BFGS:   24 13:53:27     -561.378935        0.0219\n",
      "BFGS:   25 13:53:28     -561.379116        0.0226\n",
      "BFGS:   26 13:53:29     -561.379236        0.0215\n",
      "BFGS:   27 13:53:31     -561.379279        0.0209\n",
      "BFGS:   28 13:53:32     -561.379468        0.0180\n",
      "BFGS:   29 13:53:34     -561.379787        0.0136\n",
      "BFGS:   30 13:53:35     -561.380406        0.0093\n",
      "BFGS:   31 13:53:36     -561.380896        0.0194\n",
      "BFGS:   32 13:53:38     -561.381171        0.0101\n",
      "BFGS:   33 13:53:39     -561.381205        0.0083\n",
      "BFGS:   34 13:53:40     -561.381225        0.0084\n",
      "BFGS:   35 13:53:42     -561.381248        0.0092\n",
      "BFGS:   36 13:53:43     -561.381398        0.0113\n",
      "BFGS:   37 13:53:45     -561.381686        0.0140\n",
      "BFGS:   38 13:53:46     -561.381753        0.0175\n",
      "BFGS:   39 13:53:48     -561.382118        0.0135\n",
      "BFGS:   40 13:53:49     -561.382305        0.0109\n",
      "BFGS:   41 13:53:50     -561.382490        0.0098\n",
      "BFGS:   42 13:53:52     -561.382539        0.0123\n",
      "BFGS:   43 13:53:53     -561.382563        0.0130\n",
      "BFGS:   44 13:53:54     -561.382659        0.0142\n",
      "BFGS:   45 13:53:56     -561.382842        0.0147\n",
      "BFGS:   46 13:53:57     -561.383201        0.0130\n",
      "BFGS:   47 13:53:59     -561.383613        0.0134\n",
      "BFGS:   48 13:54:00     -561.383886        0.0103\n",
      "BFGS:   49 13:54:01     -561.383912        0.0088\n",
      "BFGS:   50 13:54:03     -561.383925        0.0077\n",
      "BFGS:   51 13:54:04     -561.383950        0.0068\n",
      "BFGS:   52 13:54:06     -561.384057        0.0047\n"
     ]
    },
    {
     "data": {
      "text/plain": [
       "True"
      ]
     },
     "execution_count": 7,
     "metadata": {},
     "output_type": "execute_result"
    }
   ],
   "source": [
    "final = init.copy()\n",
    "\n",
    "final_pos = final.get_positions()\n",
    "final_pos[24,:] = [-0.1, 3.2, 11.9]\n",
    "\n",
    "final.set_positions(final_pos)\n",
    "\n",
    "# view(final)\n",
    "\n",
    "final.calc = CCS_calc\n",
    "opt = BFGS(final, trajectory='final_opt.traj')\n",
    "opt.run(fmax=0.005)"
   ]
  },
  {
   "cell_type": "code",
   "execution_count": 1,
   "id": "6481afb5-15f8-472e-8a1c-377f10a67ad3",
   "metadata": {
    "tags": []
   },
   "outputs": [
    {
     "name": "stderr",
     "output_type": "stream",
     "text": [
      "'ase' is not recognized as an internal or external command,\n",
      "operable program or batch file.\n"
     ]
    }
   ],
   "source": [
    "!ase gui final_opt.traj"
   ]
  },
  {
   "cell_type": "code",
   "execution_count": 15,
   "id": "6551b5c6-4643-43d5-bbe7-6e304fe7d639",
   "metadata": {},
   "outputs": [
    {
     "name": "stdout",
     "output_type": "stream",
     "text": [
      "       Step     Time          Energy         fmax\n",
      "MDMin:    0 16:24:00     -561.338510        0.1147\n",
      "MDMin:    1 16:24:07     -561.339001        0.1116\n",
      "MDMin:    2 16:24:13     -561.340382        0.1027\n",
      "MDMin:    3 16:24:19     -561.342409        0.0893\n",
      "MDMin:    4 16:24:25     -561.344762        0.0731\n",
      "MDMin:    5 16:24:31     -561.347149        0.0568\n",
      "MDMin:    6 16:24:37     -561.349372        0.0482\n"
     ]
    },
    {
     "data": {
      "text/plain": [
       "True"
      ]
     },
     "execution_count": 15,
     "metadata": {},
     "output_type": "execute_result"
    }
   ],
   "source": [
    "from ase import io\n",
    "from ase.neb import NEB\n",
    "from ase.optimize import MDMin\n",
    "\n",
    "# Read initial and final states:\n",
    "initial = io.read('opt_init.traj')\n",
    "final = io.read('final_opt.traj')\n",
    "\n",
    "# Make a band consisting of 5 images:\n",
    "images = [init]\n",
    "images += [init.copy() for i in range(3)]\n",
    "images += [final]\n",
    "neb = NEB(images)\n",
    "\n",
    "# Interpolate linearly the potisions of the three middle images:\n",
    "neb.interpolate()\n",
    "\n",
    "# Set calculators:\n",
    "for image in images[1:4]:\n",
    "    CCS_calc = CCS(CCS_params=CCS_params)\n",
    "    image.calc = CCS_calc\n",
    "    \n",
    "# Optimize:\n",
    "optimizer = MDMin(neb, trajectory='NEB.traj')\n",
    "optimizer.run(fmax=0.05)"
   ]
  },
  {
   "cell_type": "code",
   "execution_count": 18,
   "id": "8c718e0a-28fc-4e00-9e50-8c1fdde737f3",
   "metadata": {},
   "outputs": [],
   "source": [
    "saddle_point = io.read('NEB.traj@-3')\n",
    "\n",
    "view(saddle_point)\n",
    "\n",
    "io.write(\"saddle.POSCAR\", saddle_point)"
   ]
  },
  {
   "cell_type": "code",
   "execution_count": 17,
   "id": "b918671d-6356-4fdc-93b5-a788bf9dc8ed",
   "metadata": {},
   "outputs": [
    {
     "name": "stdout",
     "output_type": "stream",
     "text": [
      "4\n"
     ]
    }
   ],
   "source": [
    "neb_images = io.read('NEB.traj@-5:-1')\n",
    "print(len(neb_images))"
   ]
  },
  {
   "cell_type": "code",
   "execution_count": 23,
   "id": "fec6cd54-626a-4c7a-8ef5-24196f5e6d7b",
   "metadata": {},
   "outputs": [],
   "source": [
    "for i in range(3):\n",
    "    view(neb_images[i+1])\n",
    "    io.write(str(i+1) + \".POSCAR\", neb_images[i+1])"
   ]
  },
  {
   "cell_type": "code",
   "execution_count": null,
   "id": "241dd1a2-89f7-4921-9479-052a356330a0",
   "metadata": {},
   "outputs": [],
   "source": []
  }
 ],
 "metadata": {
  "kernelspec": {
   "display_name": "Tantalizing",
   "language": "python",
   "name": "tantalizing"
  },
  "language_info": {
   "codemirror_mode": {
    "name": "ipython",
    "version": 3
   },
   "file_extension": ".py",
   "mimetype": "text/x-python",
   "name": "python",
   "nbconvert_exporter": "python",
   "pygments_lexer": "ipython3",
   "version": "3.9.16"
  }
 },
 "nbformat": 4,
 "nbformat_minor": 5
}
