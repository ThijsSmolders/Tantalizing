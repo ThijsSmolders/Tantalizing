{
 "cells": [
  {
   "cell_type": "code",
   "execution_count": null,
   "id": "0e2a53dd-5c66-4f73-ab4a-005f0ebe9dee",
   "metadata": {},
   "outputs": [],
   "source": [
    "from ase import io\n",
    "from ase.neb import NEB\n",
    "from ase.optimize import MDMin\n",
    "\n",
    "# Read initial and final states:\n",
    "initial = io.read('A.traj')\n",
    "final = io.read('B.traj')\n",
    "\n",
    "# Make a band consisting of 5 images:\n",
    "images = [initial]\n",
    "images += [initial.copy() for i in range(3)]\n",
    "images += [final]\n",
    "neb = NEB(images)\n",
    "\n",
    "# Interpolate linearly the potisions of the three middle images:\n",
    "neb.interpolate()\n",
    "\n",
    "# Set calculators:\n",
    "for image in images[1:4]:\n",
    "    image.calc = MyCalculator(...)\n",
    "    \n",
    "# Optimize:\n",
    "optimizer = MDMin(neb, trajectory='A2B.traj')\n",
    "optimizer.run(fmax=0.04)"
   ]
  }
 ],
 "metadata": {
  "kernelspec": {
   "display_name": "Tantalizing",
   "language": "python",
   "name": "tantalizing"
  },
  "language_info": {
   "codemirror_mode": {
    "name": "ipython",
    "version": 3
   },
   "file_extension": ".py",
   "mimetype": "text/x-python",
   "name": "python",
   "nbconvert_exporter": "python",
   "pygments_lexer": "ipython3",
   "version": "3.9.16"
  }
 },
 "nbformat": 4,
 "nbformat_minor": 5
}
