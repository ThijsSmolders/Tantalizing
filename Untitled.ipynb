{
 "cells": [
  {
   "cell_type": "code",
   "execution_count": 3,
   "id": "737997f1-dcb8-4c02-94c8-986eca0c834c",
   "metadata": {},
   "outputs": [],
   "source": [
    "import os"
   ]
  },
  {
   "cell_type": "code",
   "execution_count": 4,
   "id": "01c92512-e9c0-4d4b-b6c1-88f83c235e04",
   "metadata": {},
   "outputs": [
    {
     "data": {
      "text/plain": [
       "['.git',\n",
       " '.gitignore',\n",
       " '.ipynb_checkpoints',\n",
       " '.vs',\n",
       " 'CE_Ta_TrainingData',\n",
       " 'eighth_run',\n",
       " 'fifth_run',\n",
       " 'first_run',\n",
       " 'fourth_run',\n",
       " 'Iterative_Fitting',\n",
       " 'jupyter_dataprep.ipynb',\n",
       " 'NEB',\n",
       " 'ninth_run',\n",
       " 'README.md',\n",
       " 'second_run',\n",
       " 'seventh_run',\n",
       " 'sixth_run',\n",
       " 'third_run',\n",
       " 'Untitled.ipynb']"
      ]
     },
     "execution_count": 4,
     "metadata": {},
     "output_type": "execute_result"
    }
   ],
   "source": [
    "os.listdir()\n",
    "\n",
    "\n",
    "os.chdir(\"\\\\wsl.localhost\\Ubuntu\\home\\rike\")"
   ]
  }
 ],
 "metadata": {
  "kernelspec": {
   "display_name": "Python 3 (ipykernel)",
   "language": "python",
   "name": "python3"
  },
  "language_info": {
   "codemirror_mode": {
    "name": "ipython",
    "version": 3
   },
   "file_extension": ".py",
   "mimetype": "text/x-python",
   "name": "python",
   "nbconvert_exporter": "python",
   "pygments_lexer": "ipython3",
   "version": "3.9.16"
  }
 },
 "nbformat": 4,
 "nbformat_minor": 5
}
