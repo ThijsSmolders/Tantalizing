{
 "cells": [
  {
   "cell_type": "markdown",
   "id": "74f144dd",
   "metadata": {},
   "source": [
    "# Building separate Ni2+/3+/4+ force fields"
   ]
  },
  {
   "cell_type": "code",
   "execution_count": 1,
   "id": "d88f1c57-aa71-4a19-9b6b-e9ada91bb1e6",
   "metadata": {
    "tags": []
   },
   "outputs": [],
   "source": [
    "import matplotlib.pyplot as plt\n",
    "\n",
    "from ase.io import read,write\n",
    "from ase.build import bulk\n",
    "import numpy as np\n",
    "import ase.db as db\n",
    "from ase.visualize import view\n",
    "from ase.optimize import BFGS\n",
    "Fit_on_forces=False"
   ]
  },
  {
   "cell_type": "markdown",
   "id": "16cf8943-479f-4215-b40e-863f22c69e1e",
   "metadata": {},
   "source": [
    "### Generate training data\n",
    "Curvature Constrained Splines can be fitted to a reference data-set with energies (and optionally forces) of pre-calculated structures. In this example we generate the reference data-set using a Lennard-Jones potential. We use a LJ bulk structure that we randomly rattle and scale. \n"
   ]
  },
  {
   "cell_type": "markdown",
   "id": "34765459-6e0a-455e-81f2-333dd7ec88a8",
   "metadata": {},
   "source": [
    "for i in {1..19}; do (mkdir \"outcar${i}\"; mv \"outcar${i}.txt\" \"outcar${i}/OUTCAR\"); done\n",
    "for i in {1..19}; do (echo \"outcar/outcar${i}\" >> data_list.txt); done\n",
    "for f in $(ls OUTCARS/); do echo \"OUTCARS/$f\" >> data_list.txt; done"
   ]
  },
  {
   "cell_type": "code",
   "execution_count": 2,
   "id": "d18988f8-4e7a-4f2b-8297-597c35999d0b",
   "metadata": {
    "tags": []
   },
   "outputs": [
    {
     "name": "stdout",
     "output_type": "stream",
     "text": [
      "id|age|user   |formula|calculator|  energy|natoms|  fmax|pbc| volume|charge|    mass| smax\n",
      " 1| 2s|tjams20|Ni18O36|vasp      |-323.985|    54| 7.129|TTT|603.577| 0.000|1632.445|0.062\n",
      " 2| 2s|tjams20|Ni18O36|vasp      |-320.967|    54| 8.127|TTT|603.577| 0.000|1632.445|0.044\n",
      " 3| 2s|tjams20|Ni18O36|vasp      |-323.830|    54| 5.253|TTT|603.577| 0.000|1632.445|0.078\n",
      " 4| 2s|tjams20|Ni18O36|vasp      |-321.649|    54| 8.199|TTT|603.577| 0.000|1632.445|0.056\n",
      " 5| 2s|tjams20|Ni18O36|vasp      |-326.494|    54| 5.622|TTT|603.577| 0.000|1632.445|0.078\n",
      " 6| 2s|tjams20|Ni18O36|vasp      |-325.994|    54| 6.301|TTT|603.577| 0.000|1632.445|0.072\n",
      " 7| 2s|tjams20|Ni18O36|vasp      |-329.366|    54| 3.871|TTT|603.577| 0.000|1632.445|0.079\n",
      " 8| 2s|tjams20|Ni18O36|vasp      |-328.416|    54| 3.880|TTT|603.577| 0.000|1632.445|0.080\n",
      " 9| 2s|tjams20|Ni18O36|vasp      |-321.260|    54|14.413|TTT|560.481| 0.000|1632.445|0.081\n",
      "10| 2s|tjams20|Ni18O36|vasp      |-325.080|    54|10.728|TTT|560.481| 0.000|1632.445|0.053\n",
      "11| 2s|tjams20|Ni18O36|vasp      |-327.476|    54| 9.008|TTT|560.481| 0.000|1632.445|0.055\n",
      "12| 2s|tjams20|Ni18O36|vasp      |-329.875|    54| 6.731|TTT|560.481| 0.000|1632.445|0.036\n",
      "13| 2s|tjams20|Ni18O36|vasp      |-331.417|    54| 5.249|TTT|560.481| 0.000|1632.445|0.022\n",
      "14| 2s|tjams20|Ni18O36|vasp      |-334.212|    54| 6.019|TTT|560.481| 0.000|1632.445|0.019\n",
      "15| 2s|tjams20|Ni18O36|vasp      |-333.485|    54| 6.112|TTT|560.481| 0.000|1632.445|0.025\n",
      "16| 2s|tjams20|Ni18O36|vasp      |-336.261|    54| 2.719|TTT|560.481| 0.000|1632.445|0.006\n",
      "17| 2s|tjams20|Ni18O36|vasp      |-336.487|    54| 1.983|TTT|560.481| 0.000|1632.445|0.006\n",
      "18| 2s|tjams20|Ni18O36|vasp      |-320.700|    54|10.445|TTT|519.487| 0.000|1632.445|0.236\n",
      "19| 2s|tjams20|Ni18O36|vasp      |-321.224|    54|11.467|TTT|519.487| 0.000|1632.445|0.237\n",
      "20| 2s|tjams20|Ni18O36|vasp      |-322.413|    54|12.061|TTT|519.487| 0.000|1632.445|0.223\n",
      "Rows: 22 (showing first 20)\n"
     ]
    }
   ],
   "source": [
    "# !ase db DFT.db\n",
    "\n",
    "import ase\n",
    "from ase import db\n",
    "\n",
    "db_selection = db.connect(\"DFT_selection.db\")\n",
    "db_ref = db.connect(\"DFT.db\")\n",
    "\n",
    "for row in db_ref.select():\n",
    "    if row.energy<-320:\n",
    "        db_selection.write(row.toatoms())\n",
    "        \n",
    "!ase db DFT_selection.db"
   ]
  },
  {
   "cell_type": "code",
   "execution_count": 2,
   "id": "173e8740-d4d9-4d0e-83ca-37ddf7f01cf3",
   "metadata": {
    "tags": []
   },
   "outputs": [
    {
     "name": "stderr",
     "output_type": "stream",
     "text": [
      "    Fetching data: 0it [00:00, ?it/s]\n"
     ]
    },
    {
     "name": "stdout",
     "output_type": "stream",
     "text": [
      "    Generating one-body information from training-set.\n",
      "        Added elements:  []\n",
      "    Generating two-body potentials from one-body information.\n"
     ]
    },
    {
     "ename": "ValueError",
     "evalue": "zero-size array to reduction operation maximum which has no identity",
     "output_type": "error",
     "traceback": [
      "\u001b[0;31m---------------------------------------------------------------------------\u001b[0m",
      "\u001b[0;31mValueError\u001b[0m                                Traceback (most recent call last)",
      "Cell \u001b[0;32mIn[2], line 33\u001b[0m\n\u001b[1;32m     31\u001b[0m \u001b[38;5;66;03m# Run ccs_fit\u001b[39;00m\n\u001b[1;32m     32\u001b[0m \u001b[38;5;28;01mfrom\u001b[39;00m \u001b[38;5;21;01mccs_fit\u001b[39;00m \u001b[38;5;28;01mimport\u001b[39;00m ccs_fit\n\u001b[0;32m---> 33\u001b[0m \u001b[43mccs_fit\u001b[49m\u001b[43m(\u001b[49m\u001b[38;5;124;43m\"\u001b[39;49m\u001b[38;5;124;43mCCS_input.json\u001b[39;49m\u001b[38;5;124;43m\"\u001b[39;49m\u001b[43m)\u001b[49m\n\u001b[1;32m     35\u001b[0m \u001b[38;5;66;03m# Define ccs calculator\u001b[39;00m\n\u001b[1;32m     36\u001b[0m \u001b[38;5;28;01mfrom\u001b[39;00m \u001b[38;5;21;01mccs_fit\u001b[39;00m\u001b[38;5;21;01m.\u001b[39;00m\u001b[38;5;21;01mase_calculator\u001b[39;00m\u001b[38;5;21;01m.\u001b[39;00m\u001b[38;5;21;01mccs_ase_calculator\u001b[39;00m \u001b[38;5;28;01mimport\u001b[39;00m CCS\n",
      "File \u001b[0;32m~/Documents/repos/CCS/src/ccs_fit/fitting/main.py:411\u001b[0m, in \u001b[0;36mtwp_fit\u001b[0;34m(filename)\u001b[0m\n\u001b[1;32m    399\u001b[0m nn \u001b[38;5;241m=\u001b[39m Objective(\n\u001b[1;32m    400\u001b[0m     atom_pairs,\n\u001b[1;32m    401\u001b[0m     atom_onebodies,\n\u001b[0;32m   (...)\u001b[0m\n\u001b[1;32m    407\u001b[0m     force_ewald\u001b[38;5;241m=\u001b[39mewald_forces,\n\u001b[1;32m    408\u001b[0m )\n\u001b[1;32m    410\u001b[0m \u001b[38;5;66;03m# Solve QP problem\u001b[39;00m\n\u001b[0;32m--> 411\u001b[0m predicted_energies, mse, xx_unfolded \u001b[38;5;241m=\u001b[39m \u001b[43mnn\u001b[49m\u001b[38;5;241;43m.\u001b[39;49m\u001b[43msolution\u001b[49m\u001b[43m(\u001b[49m\u001b[43m)\u001b[49m\n",
      "File \u001b[0;32m~/Documents/repos/CCS/src/ccs_fit/fitting/objective.py:134\u001b[0m, in \u001b[0;36mObjective.solution\u001b[0;34m(self)\u001b[0m\n\u001b[1;32m    131\u001b[0m     \u001b[38;5;28;01mpass\u001b[39;00m\n\u001b[1;32m    133\u001b[0m \u001b[38;5;66;03m# Reduce stoichiometry\u001b[39;00m\n\u001b[0;32m--> 134\u001b[0m \u001b[38;5;28;43mself\u001b[39;49m\u001b[38;5;241;43m.\u001b[39;49m\u001b[43mreduce_stoichiometry\u001b[49m\u001b[43m(\u001b[49m\u001b[43m)\u001b[49m\n\u001b[1;32m    136\u001b[0m \u001b[38;5;28mself\u001b[39m\u001b[38;5;241m.\u001b[39mmm \u001b[38;5;241m=\u001b[39m \u001b[38;5;28mself\u001b[39m\u001b[38;5;241m.\u001b[39mget_m()\n\u001b[1;32m    137\u001b[0m logger\u001b[38;5;241m.\u001b[39mdebug(\u001b[38;5;124m\"\u001b[39m\u001b[38;5;130;01m\\n\u001b[39;00m\u001b[38;5;124m Shape of M matrix is : \u001b[39m\u001b[38;5;132;01m%s\u001b[39;00m\u001b[38;5;124m\"\u001b[39m, \u001b[38;5;28mself\u001b[39m\u001b[38;5;241m.\u001b[39mmm\u001b[38;5;241m.\u001b[39mshape)\n",
      "File \u001b[0;32m~/Documents/repos/CCS/src/ccs_fit/fitting/objective.py:118\u001b[0m, in \u001b[0;36mObjective.reduce_stoichiometry\u001b[0;34m(self)\u001b[0m\n\u001b[1;32m    115\u001b[0m     \u001b[38;5;28;01mif\u001b[39;00m check \u001b[38;5;241m==\u001b[39m \u001b[38;5;241m0\u001b[39m:\n\u001b[1;32m    116\u001b[0m         reduce \u001b[38;5;241m=\u001b[39m \u001b[38;5;28;01mFalse\u001b[39;00m\n\u001b[0;32m--> 118\u001b[0m \u001b[38;5;28;01massert\u001b[39;00m \u001b[38;5;28mself\u001b[39m\u001b[38;5;241m.\u001b[39msto\u001b[38;5;241m.\u001b[39mshape[\u001b[38;5;241m1\u001b[39m] \u001b[38;5;241m==\u001b[39m \u001b[43mnp\u001b[49m\u001b[38;5;241;43m.\u001b[39;49m\u001b[43mlinalg\u001b[49m\u001b[38;5;241;43m.\u001b[39;49m\u001b[43mmatrix_rank\u001b[49m\u001b[43m(\u001b[49m\n\u001b[1;32m    119\u001b[0m \u001b[43m    \u001b[49m\u001b[38;5;28;43mself\u001b[39;49m\u001b[38;5;241;43m.\u001b[39;49m\u001b[43msto\u001b[49m\n\u001b[1;32m    120\u001b[0m \u001b[43m\u001b[49m\u001b[43m)\u001b[49m, \u001b[38;5;124m\"\u001b[39m\u001b[38;5;124mLinear dependence in stochiometry matrix\u001b[39m\u001b[38;5;124m\"\u001b[39m\n\u001b[1;32m    121\u001b[0m \u001b[38;5;28mself\u001b[39m\u001b[38;5;241m.\u001b[39mcols_sto \u001b[38;5;241m=\u001b[39m \u001b[38;5;28mself\u001b[39m\u001b[38;5;241m.\u001b[39msto\u001b[38;5;241m.\u001b[39mshape[\u001b[38;5;241m1\u001b[39m]\n",
      "File \u001b[0;32m<__array_function__ internals>:180\u001b[0m, in \u001b[0;36mmatrix_rank\u001b[0;34m(*args, **kwargs)\u001b[0m\n",
      "File \u001b[0;32m/usr/local/anaconda3/envs/Tantalizing/lib/python3.9/site-packages/numpy/linalg/linalg.py:1900\u001b[0m, in \u001b[0;36mmatrix_rank\u001b[0;34m(A, tol, hermitian)\u001b[0m\n\u001b[1;32m   1898\u001b[0m S \u001b[38;5;241m=\u001b[39m svd(A, compute_uv\u001b[38;5;241m=\u001b[39m\u001b[38;5;28;01mFalse\u001b[39;00m, hermitian\u001b[38;5;241m=\u001b[39mhermitian)\n\u001b[1;32m   1899\u001b[0m \u001b[38;5;28;01mif\u001b[39;00m tol \u001b[38;5;129;01mis\u001b[39;00m \u001b[38;5;28;01mNone\u001b[39;00m:\n\u001b[0;32m-> 1900\u001b[0m     tol \u001b[38;5;241m=\u001b[39m \u001b[43mS\u001b[49m\u001b[38;5;241;43m.\u001b[39;49m\u001b[43mmax\u001b[49m\u001b[43m(\u001b[49m\u001b[43maxis\u001b[49m\u001b[38;5;241;43m=\u001b[39;49m\u001b[38;5;241;43m-\u001b[39;49m\u001b[38;5;241;43m1\u001b[39;49m\u001b[43m,\u001b[49m\u001b[43m \u001b[49m\u001b[43mkeepdims\u001b[49m\u001b[38;5;241;43m=\u001b[39;49m\u001b[38;5;28;43;01mTrue\u001b[39;49;00m\u001b[43m)\u001b[49m \u001b[38;5;241m*\u001b[39m \u001b[38;5;28mmax\u001b[39m(A\u001b[38;5;241m.\u001b[39mshape[\u001b[38;5;241m-\u001b[39m\u001b[38;5;241m2\u001b[39m:]) \u001b[38;5;241m*\u001b[39m finfo(S\u001b[38;5;241m.\u001b[39mdtype)\u001b[38;5;241m.\u001b[39meps\n\u001b[1;32m   1901\u001b[0m \u001b[38;5;28;01melse\u001b[39;00m:\n\u001b[1;32m   1902\u001b[0m     tol \u001b[38;5;241m=\u001b[39m asarray(tol)[\u001b[38;5;241m.\u001b[39m\u001b[38;5;241m.\u001b[39m\u001b[38;5;241m.\u001b[39m, newaxis]\n",
      "File \u001b[0;32m/usr/local/anaconda3/envs/Tantalizing/lib/python3.9/site-packages/numpy/core/_methods.py:40\u001b[0m, in \u001b[0;36m_amax\u001b[0;34m(a, axis, out, keepdims, initial, where)\u001b[0m\n\u001b[1;32m     38\u001b[0m \u001b[38;5;28;01mdef\u001b[39;00m \u001b[38;5;21m_amax\u001b[39m(a, axis\u001b[38;5;241m=\u001b[39m\u001b[38;5;28;01mNone\u001b[39;00m, out\u001b[38;5;241m=\u001b[39m\u001b[38;5;28;01mNone\u001b[39;00m, keepdims\u001b[38;5;241m=\u001b[39m\u001b[38;5;28;01mFalse\u001b[39;00m,\n\u001b[1;32m     39\u001b[0m           initial\u001b[38;5;241m=\u001b[39m_NoValue, where\u001b[38;5;241m=\u001b[39m\u001b[38;5;28;01mTrue\u001b[39;00m):\n\u001b[0;32m---> 40\u001b[0m     \u001b[38;5;28;01mreturn\u001b[39;00m \u001b[43mumr_maximum\u001b[49m\u001b[43m(\u001b[49m\u001b[43ma\u001b[49m\u001b[43m,\u001b[49m\u001b[43m \u001b[49m\u001b[43maxis\u001b[49m\u001b[43m,\u001b[49m\u001b[43m \u001b[49m\u001b[38;5;28;43;01mNone\u001b[39;49;00m\u001b[43m,\u001b[49m\u001b[43m \u001b[49m\u001b[43mout\u001b[49m\u001b[43m,\u001b[49m\u001b[43m \u001b[49m\u001b[43mkeepdims\u001b[49m\u001b[43m,\u001b[49m\u001b[43m \u001b[49m\u001b[43minitial\u001b[49m\u001b[43m,\u001b[49m\u001b[43m \u001b[49m\u001b[43mwhere\u001b[49m\u001b[43m)\u001b[49m\n",
      "\u001b[0;31mValueError\u001b[0m: zero-size array to reduction operation maximum which has no identity"
     ]
    }
   ],
   "source": [
    "# Fetch the data from the database and generate structures.json\n",
    "from ccs_fit.scripts.ccs_fetch import ccs_fetch\n",
    "\n",
    "charge_dict={\"Ni\": 4.0, \"O\": -2.0}\n",
    "ccs_fetch(mode=\"CCS+Q\", DFT_DB=\"XXX.db\", include_forces=True, charge_dict=charge_dict, R_c=6.0)\n",
    "\n",
    "\n",
    "### Generate CCS_input.json file\n",
    "import json\n",
    "\n",
    "input={\n",
    "    \"General\": {\n",
    "        \"interface\": \"CCS+Q\",\n",
    "        \"merging\"  : \"True\",\n",
    "        \"do_unconstrained_fit\": \"False\" # It could be interesting to see what the fit would like to do if it is unconstrained, but that's an option you could test later\n",
    "    },\n",
    "    \"Twobody\": {\n",
    "                \"Xx-Xx\": {\n",
    "                        \"Rcut\": 6.0,\n",
    "                        \"Resolution\": 0.25,\n",
    "                        \"Swtype\": \"sw\",\n",
    "                        \"const_type\" : \"Mono\"   \n",
    "                }\n",
    "        }\n",
    "}\n",
    "\n",
    "# CCS_input.json\n",
    "with open('CCS_input.json', 'w') as f:\n",
    "    json.dump(input, f, indent=8)\n",
    "    \n",
    "# Run ccs_fit\n",
    "from ccs_fit import ccs_fit\n",
    "ccs_fit(\"CCS_input.json\")\n",
    "\n",
    "# Define ccs calculator\n",
    "from ccs_fit.ase_calculator.ccs_ase_calculator import CCS\n",
    "with open(\"CCS_params_ZnO.json\", \"r\") as f:\n",
    "    CCS_params = json.load(f)\n",
    "    \n",
    "ccs= CCS(CCS_params,charge=True,q=charges,charge_scaling=True)"
   ]
  },
  {
   "cell_type": "code",
   "execution_count": 3,
   "id": "387f54e1-dac6-4fc1-a0a9-b9ba8c045ec0",
   "metadata": {
    "tags": []
   },
   "outputs": [
    {
     "name": "stderr",
     "output_type": "stream",
     "text": [
      "    Building data-bases: 100%|██████████████████████████████████████████████████████████████████████████████████████████████████████████████████████████████████████████| 122/122 [00:03<00:00, 32.54it/s]\n"
     ]
    }
   ],
   "source": [
    "from ccs_fit.scripts.ccs_build_db import ccs_build_db\n",
    "\n",
    "ccs_build_db(mode=\"CCS+Q\",DFT_DB=\"DFT.db\",file_list=\"data_list.txt\", overwrite=True, greedy=False) #false only takes last Outcars"
   ]
  },
  {
   "cell_type": "markdown",
   "id": "bdb9cdef",
   "metadata": {},
   "source": [
    "### Generate the CCS_fit input file; structures.json\n",
    "The next commands fetch the training-set data from the ASE database containing the LJ structures and the corresponding energies. The reference data is called ``DFT_DB`` since the most common source of reference data is DFT."
   ]
  },
  {
   "cell_type": "code",
   "execution_count": 4,
   "id": "e02a39cf-98d1-4d64-be50-87e95823d352",
   "metadata": {
    "tags": []
   },
   "outputs": [
    {
     "name": "stdout",
     "output_type": "stream",
     "text": [
      "id|age|user   |formula|calculator|  energy|natoms|  fmax|pbc| volume|charge|    mass| smax\n",
      " 1|32m|tjams20|Ni16O32|vasp      |-265.420|    48|16.357|TTT|563.563| 0.000|1451.062|0.008\n",
      " 2|32m|tjams20|Ni16O32|vasp      |-268.483|    48|33.020|TTT|563.563| 0.000|1451.062|0.045\n",
      " 3|32m|tjams20|Ni16O32|vasp      |-275.676|    48| 8.622|TTT|563.563| 0.000|1451.062|0.049\n",
      " 4|32m|tjams20|Ni16O32|vasp      |-277.214|    48| 9.612|TTT|563.563| 0.000|1451.062|0.059\n",
      " 5|32m|tjams20|Ni16O32|vasp      |-279.572|    48| 7.750|TTT|563.563| 0.000|1451.062|0.076\n",
      " 6|32m|tjams20|Ni16O32|vasp      |-277.604|    48|23.071|TTT|563.563| 0.000|1451.062|0.059\n",
      " 7|32m|tjams20|Ni16O32|vasp      |-283.575|    48| 5.495|TTT|563.563| 0.000|1451.062|0.076\n",
      " 8|32m|tjams20|Ni16O32|vasp      |-281.972|    48|10.288|TTT|563.563| 0.000|1451.062|0.080\n",
      " 9|32m|tjams20|Ni16O32|vasp      |-285.291|    48| 4.518|TTT|563.563| 0.000|1451.062|0.079\n",
      "10|32m|tjams20|Ni16O32|vasp      |-284.171|    48| 5.234|TTT|563.563| 0.000|1451.062|0.082\n",
      "11|32m|tjams20|Ni16O32|vasp      |-286.296|    48| 4.444|TTT|563.563| 0.000|1451.062|0.083\n",
      "12|32m|tjams20|Ni16O32|vasp      |-286.075|    48| 3.128|TTT|563.563| 0.000|1451.062|0.081\n",
      "13|32m|tjams20|Ni16O32|vasp      |-269.682|    48|20.169|TTT|524.259| 0.000|1451.062|0.098\n",
      "14|32m|tjams20|Ni16O32|vasp      |-274.906|    48|28.818|TTT|524.259| 0.000|1451.062|0.103\n",
      "15|32m|tjams20|Ni16O32|vasp      |-280.205|    48|24.737|TTT|524.259| 0.000|1451.062|0.057\n",
      "16|32m|tjams20|Ni16O32|vasp      |-282.627|    48|14.175|TTT|524.259| 0.000|1451.062|0.021\n",
      "17|32m|tjams20|Ni16O32|vasp      |-287.675|    48| 9.651|TTT|524.259| 0.000|1451.062|0.061\n",
      "18|32m|tjams20|Ni16O32|vasp      |-283.668|    48|12.669|TTT|524.259| 0.000|1451.062|0.018\n",
      "19|32m|tjams20|Ni16O32|vasp      |-290.320|    48| 5.899|TTT|524.259| 0.000|1451.062|0.067\n",
      "20|32m|tjams20|Ni16O32|vasp      |-288.600|    48|10.566|TTT|524.259| 0.000|1451.062|0.058\n",
      "Rows: 122 (showing first 20)\n",
      "Keys: PBE, key\n"
     ]
    }
   ],
   "source": [
    "!ase db DFT.db"
   ]
  },
  {
   "cell_type": "code",
   "execution_count": 3,
   "id": "e096b5f0",
   "metadata": {
    "tags": []
   },
   "outputs": [
    {
     "name": "stderr",
     "output_type": "stream",
     "text": [
      "    Fetching data: 100%|\u001b[38;2;0;128;128m███████████████████████████████████████████████████████████████████████████████████████████\u001b[0m| 22/22 [00:04<00:00,  4.59it/s]\u001b[0m\n"
     ]
    }
   ],
   "source": [
    "from ccs_fit.scripts.ccs_fetch import ccs_fetch\n",
    "\n",
    "charge_dict={\"Ni\": 4.0, \"O\": -2.0}\n",
    "ccs_fetch(mode=\"CCS+Q\",DFT_DB=\"DFT_selection.db\", charge_dict=charge_dict, include_forces=Fit_on_forces)"
   ]
  },
  {
   "cell_type": "markdown",
   "id": "59be3faa",
   "metadata": {},
   "source": [
    "### Fit training data to Curvature Constrained Splines\n",
    "Finally, the splines are fitted to the target defined in the structures.json input file. The splines can be restricted to be fully repulsive (\"rep\"), or have a turning point/switch (\"sw\"), which is defined by the \"Swtype\" key.\n"
   ]
  },
  {
   "cell_type": "code",
   "execution_count": 4,
   "id": "8c3ac0c1",
   "metadata": {
    "tags": []
   },
   "outputs": [],
   "source": [
    "### Generate input.json file\n",
    "import json\n",
    "\n",
    "input={\n",
    "    \"General\": {\n",
    "        \"interface\": \"CCS+Q\",\n",
    "        \"merging\"  : \"True\",\n",
    "        \"do_unconstrained_fit\": \"True\"\n",
    "    },\n",
    "    \"Twobody\": {\n",
    "                \"Xx-Xx\": {\n",
    "                        \"Rcut\": 5.0,\n",
    "                        \"Resolution\": 0.1,\n",
    "                        \"Swtype\": \"sw\",\n",
    "                        \"const_type\" : \"Mono\"\n",
    "                },\n",
    "                # \"Ni-Ni\": {\n",
    "                #         \"Rcut\": 5.0,\n",
    "                #         \"Resolution\": 0.1,\n",
    "                #         \"Swtype\": \"rep\",\n",
    "                #         \"const_type\" : \"Mono\"\n",
    "                # },\n",
    "                # \"O-O\": {\n",
    "                #         \"Rcut\": 5.0,\n",
    "                #         \"Resolution\": 0.1,\n",
    "                #         \"Swtype\": \"rep\",\n",
    "                #         \"const_type\" : \"Mono\"\n",
    "                # }\n",
    "        }\n",
    "}\n",
    "#SAVE TO FILE\n",
    "with open('CCS_input.json', 'w') as f:\n",
    "    json.dump(input, f, indent=8)"
   ]
  },
  {
   "cell_type": "code",
   "execution_count": 5,
   "id": "df1f9f0f",
   "metadata": {
    "tags": []
   },
   "outputs": [
    {
     "name": "stdout",
     "output_type": "stream",
     "text": [
      "    Generating one-body information from training-set.\n",
      "        Added elements:  ['Ni', 'O']\n",
      "    Generating two-body potentials from one-body information.\n",
      "    Adding pair: Ni-Ni\n",
      "    Adding pair: Ni-O\n",
      "    Adding pair: O-O\n",
      "    Applying monotonic constraints for pair:  Ni-Ni\n",
      "    Applying monotonic constraints for pair:  Ni-O\n",
      "    Applying monotonic constraints for pair:  O-O\n",
      "    Merging intervals for pair Ni-Ni; number of intervals reduced from 27 to 17. \n",
      "    Merging intervals for pair Ni-O; number of intervals reduced from 37 to 31. \n",
      "    There is linear dependence in stochiometry matrix!\n",
      "    Removing onebody term: O\n",
      "    MSE of unconstrained problem is:  1.7330843799939144e-26\n",
      "STRONG WARNING: THE EXPONENTIAL WALL IS ACTUALLY ATTRACTIVE!!!!!!!\n",
      "WARNING: THE PAIR Ni-Ni IS ONLY SAMPLED IN A REGION WHERE IT IS STILL REPULSIVE. THIS INDICATES THAT THE INTERACTION IS MOST LIKELY POORLY RESOLVED, PROCEED WITH CAUTION!\n",
      "STRONG WARNING: THE EXPONENTIAL WALL IS ACTUALLY ATTRACTIVE!!!!!!!\n",
      "WARNING: THE PAIR Ni-O IS ONLY SAMPLED IN A REGION WHERE IT IS STILL REPULSIVE. THIS INDICATES THAT THE INTERACTION IS MOST LIKELY POORLY RESOLVED, PROCEED WITH CAUTION!\n",
      "WARNING: THE EXPONENTIAL FOR PAIR O-O IS POORLY RESOLVED, PROCEED WITH CAUTION!\n",
      "STRONG WARNING: THE EXPONENTIAL WALL IS ACTUALLY ATTRACTIVE!!!!!!!\n",
      "    Merging intervals for pair Ni-Ni; number of intervals reduced from 27 to 17. \n"
     ]
    },
    {
     "name": "stderr",
     "output_type": "stream",
     "text": [
      "/Users/tjams20/Documents/repos/CCS/src/ccs_fit/fitting/objective.py:326: RuntimeWarning: invalid value encountered in sqrt\n",
      "  self.charge_scaling = xx[-1] ** 0.5\n",
      "/Users/tjams20/Documents/repos/CCS/src/ccs_fit/fitting/spline_functions.py:321: RuntimeWarning: invalid value encountered in log\n",
      "  beta = alpha * r0 + np.log(cc / alpha**2)\n"
     ]
    },
    {
     "name": "stdout",
     "output_type": "stream",
     "text": [
      "    Merging intervals for pair Ni-O; number of intervals reduced from 37 to 31. \n"
     ]
    },
    {
     "name": "stderr",
     "output_type": "stream",
     "text": [
      "    Finding optimum switch: 100%|\u001b[38;2;128;0;128m███████████████████████████████████████████████████████████████████████████\u001b[0m| 16337/16337 [01:48<00:00, 150.80it/s]\u001b[0m\n"
     ]
    },
    {
     "name": "stdout",
     "output_type": "stream",
     "text": [
      "    The best switch is (4, 30, 4) with rmse: 0.02457844584183467, corresponding to distances of [2.83 4.46 2.47] Å for element pairs ['Ni-Ni', 'Ni-O', 'O-O'].\n",
      "STRONG WARNING: THE EXPONENTIAL WALL IS ACTUALLY ATTRACTIVE!!!!!!!\n",
      "WARNING: THE PAIR Ni-Ni IS ONLY SAMPLED IN A REGION WHERE IT IS STILL REPULSIVE. THIS INDICATES THAT THE INTERACTION IS MOST LIKELY POORLY RESOLVED, PROCEED WITH CAUTION!\n",
      "STRONG WARNING: THE EXPONENTIAL WALL IS ACTUALLY ATTRACTIVE!!!!!!!\n",
      "WARNING: THE PAIR O-O IS ONLY SAMPLED IN A REGION WHERE IT IS STILL REPULSIVE. THIS INDICATES THAT THE INTERACTION IS MOST LIKELY POORLY RESOLVED, PROCEED WITH CAUTION!\n"
     ]
    }
   ],
   "source": [
    "#RUN FIT\n",
    "from ccs_fit import ccs_fit\n",
    "\n",
    "ccs_fit(\"CCS_input.json\")"
   ]
  },
  {
   "cell_type": "markdown",
   "id": "2ce06ae5",
   "metadata": {},
   "source": [
    "### Validate your potential\n",
    "Make sure your potential (at least) reproduce the data points in your training-set. Performin further tests on strucutres not included in the training-set is recomended but not included in the tutorial."
   ]
  },
  {
   "cell_type": "code",
   "execution_count": 6,
   "id": "7e429885",
   "metadata": {
    "tags": []
   },
   "outputs": [
    {
     "name": "stderr",
     "output_type": "stream",
     "text": [
      "  0%|\u001b[38;2;128;0;0m                                                                                                                       \u001b[0m| 0/22 [00:00<?, ?it/s]\u001b[0m/usr/local/anaconda3/envs/Tantalizing/lib/python3.9/site-packages/ase/utils/__init__.py:62: FutureWarning: Please use atoms.cell.rank instead\n",
      "  warnings.warn(warning)\n",
      "100%|\u001b[38;2;128;0;0m██████████████████████████████████████████████████████████████████████████████████████████████████████████████\u001b[0m| 22/22 [00:13<00:00,  1.64it/s]\u001b[0m\n"
     ]
    }
   ],
   "source": [
    "from ccs_fit.scripts.ccs_validate import ccs_validate\n",
    "ccs_validate(mode=\"CCS\",CCS_params=\"CCS_params.json\",DFT_DB=\"DFT_selection.db\")"
   ]
  },
  {
   "cell_type": "code",
   "execution_count": 7,
   "id": "26234bd3",
   "metadata": {
    "tags": []
   },
   "outputs": [
    {
     "data": {
      "image/png": "[encoded data removed]",
      "text/plain": [
       "<Figure size 640x480 with 1 Axes>"
      ]
     },
     "metadata": {},
     "output_type": "display_data"
    },
    {
     "data": {
      "image/png": "[encoded data removed]",
      "text/plain": [
       "<Figure size 640x480 with 1 Axes>"
      ]
     },
     "metadata": {},
     "output_type": "display_data"
    },
    {
     "data": {
      "image/png": "[encoded data removed]",
      "text/plain": [
       "<Figure size 640x480 with 1 Axes>"
      ]
     },
     "metadata": {},
     "output_type": "display_data"
    },
    {
     "data": {
      "image/png": "[encoded data removed]",
      "text/plain": [
       "<Figure size 640x480 with 1 Axes>"
      ]
     },
     "metadata": {},
     "output_type": "display_data"
    }
   ],
   "source": [
    "try:\n",
    "    err=np.loadtxt(\"CCS_validate.dat\")\n",
    "    plt.xlabel('Reference energy (eV)')\n",
    "    plt.ylabel('Validation energy (eV)')\n",
    "    plt.plot( [min(err[:,0]),max(err[:,0])],[min(err[:,0]),max(err[:,0])],'--',color='black'  )\n",
    "    plt.scatter(err[:,0],err[:,1],facecolors='none', edgecolors='red')\n",
    "    plt.show()\n",
    "    plt.xlabel('Reference energy (eV)')\n",
    "    plt.ylabel('Error in fit (eV)')\n",
    "    plt.scatter(err[:,0],err[:,2],facecolors='none', edgecolors='red')\n",
    "    plt.show()\n",
    "except:\n",
    "    pass\n",
    "\n",
    "\n",
    "with open(\"CCS_params.json\", \"r\") as f:\n",
    "    CCS_params = json.load(f)\n",
    "\n",
    "r = np.array(CCS_params[\"Two_body\"][f'Ni-O'][\"r\"])\n",
    "e=CCS_params[\"Two_body\"][f'Ni-O'][\"spl_a\"]\n",
    "\n",
    "plt.xlim(1, 3)\n",
    "plt.ylim(-3, 4)\n",
    "plt.xlabel('Distance (Å)')\n",
    "plt.ylabel('Potential (eV)')\n",
    "plt.plot(r, e ,'--', color='red', label=\"Fitted potential\")\n",
    "plt.legend()\n",
    "plt.show()\n",
    "\n",
    "with open(\"UNC_params.json\", \"r\") as f:\n",
    "    UNC_params = json.load(f)\n",
    "\n",
    "r = np.array(UNC_params[\"Two_body\"][f'Ni-O'][\"r\"])\n",
    "e=UNC_params[\"Two_body\"][f'Ni-O'][\"spl_a\"]\n",
    "\n",
    "plt.xlim(1, 5)\n",
    "plt.ylim(-3, 4)\n",
    "plt.xlabel('Distance (Å)')\n",
    "plt.ylabel('Potential (eV)')\n",
    "plt.plot(r, e ,'--', color='red', label=\"Fitted potential\")\n",
    "plt.legend()\n",
    "plt.show()"
   ]
  },
  {
   "cell_type": "code",
   "execution_count": 9,
   "id": "5eb00c3e-8eef-4f88-b81e-262d60f27a45",
   "metadata": {
    "tags": []
   },
   "outputs": [
    {
     "name": "stdout",
     "output_type": "stream",
     "text": [
      "Writing LAMMPS and GULP splines.\n"
     ]
    },
    {
     "name": "stderr",
     "output_type": "stream",
     "text": [
      "/usr/local/anaconda3/envs/Tantalizing/lib/python3.9/site-packages/scipy/optimize/_minpack_py.py:881: OptimizeWarning: Covariance of the parameters could not be estimated\n",
      "  warnings.warn('Covariance of the parameters could not be estimated',\n"
     ]
    },
    {
     "ename": "RuntimeError",
     "evalue": "Optimal parameters not found: Number of calls to function has reached maxfev = 5000.",
     "output_type": "error",
     "traceback": [
      "\u001b[0;31m---------------------------------------------------------------------------\u001b[0m",
      "\u001b[0;31mRuntimeError\u001b[0m                              Traceback (most recent call last)",
      "Cell \u001b[0;32mIn[9], line 2\u001b[0m\n\u001b[1;32m      1\u001b[0m \u001b[38;5;28;01mfrom\u001b[39;00m \u001b[38;5;21;01mccs_fit\u001b[39;00m\u001b[38;5;21;01m.\u001b[39;00m\u001b[38;5;21;01mscripts\u001b[39;00m\u001b[38;5;21;01m.\u001b[39;00m\u001b[38;5;21;01mccs_export_FF\u001b[39;00m \u001b[38;5;28;01mimport\u001b[39;00m write_FF\n\u001b[0;32m----> 2\u001b[0m \u001b[43mwrite_FF\u001b[49m\u001b[43m(\u001b[49m\u001b[38;5;124;43m\"\u001b[39;49m\u001b[38;5;124;43mCCS_params.json\u001b[39;49m\u001b[38;5;124;43m\"\u001b[39;49m\u001b[43m)\u001b[49m\n",
      "File \u001b[0;32m~/Documents/repos/CCS/src/ccs_fit/scripts/ccs_export_FF.py:183\u001b[0m, in \u001b[0;36mwrite_FF\u001b[0;34m(CCS_params_file)\u001b[0m\n\u001b[1;32m    181\u001b[0m \u001b[38;5;28;01mfor\u001b[39;00m pair \u001b[38;5;129;01min\u001b[39;00m CCS_params[\u001b[38;5;124m\"\u001b[39m\u001b[38;5;124mTwo_body\u001b[39m\u001b[38;5;124m\"\u001b[39m]:\n\u001b[1;32m    182\u001b[0m     elem \u001b[38;5;241m=\u001b[39m pair\u001b[38;5;241m.\u001b[39msplit(\u001b[38;5;124m\"\u001b[39m\u001b[38;5;124m-\u001b[39m\u001b[38;5;124m\"\u001b[39m)\n\u001b[0;32m--> 183\u001b[0m     \u001b[43m_write\u001b[49m\u001b[43m(\u001b[49m\u001b[43melem\u001b[49m\u001b[43m[\u001b[49m\u001b[38;5;241;43m0\u001b[39;49m\u001b[43m]\u001b[49m\u001b[43m,\u001b[49m\u001b[43m \u001b[49m\u001b[43melem\u001b[49m\u001b[43m[\u001b[49m\u001b[38;5;241;43m1\u001b[39;49m\u001b[43m]\u001b[49m\u001b[43m,\u001b[49m\u001b[43m \u001b[49m\u001b[43mCCS_params\u001b[49m\u001b[43m,\u001b[49m\u001b[43m \u001b[49m\u001b[43mexp\u001b[49m\u001b[38;5;241;43m=\u001b[39;49m\u001b[38;5;28;43;01mTrue\u001b[39;49;00m\u001b[43m,\u001b[49m\u001b[43m \u001b[49m\u001b[43mf_Buck\u001b[49m\u001b[38;5;241;43m=\u001b[39;49m\u001b[43mf_Buck\u001b[49m\u001b[43m,\u001b[49m\u001b[43m \u001b[49m\u001b[43mf_LJ\u001b[49m\u001b[38;5;241;43m=\u001b[39;49m\u001b[43mf_LJ\u001b[49m\u001b[43m,\u001b[49m\u001b[43m \u001b[49m\u001b[43mf_Mor\u001b[49m\u001b[38;5;241;43m=\u001b[39;49m\u001b[43mf_Mor\u001b[49m\u001b[43m,\u001b[49m\u001b[43m \u001b[49m\u001b[43mf_Ped\u001b[49m\u001b[38;5;241;43m=\u001b[39;49m\u001b[43mf_Ped\u001b[49m\u001b[43m)\u001b[49m\n",
      "File \u001b[0;32m~/Documents/repos/CCS/src/ccs_fit/scripts/ccs_export_FF.py:78\u001b[0m, in \u001b[0;36m_write\u001b[0;34m(elem1, elem2, CCS_params, f_Buck, f_LJ, f_Mor, f_Ped, exp)\u001b[0m\n\u001b[1;32m     75\u001b[0m         spl_to_fit\u001b[38;5;241m.\u001b[39mappend(\u001b[38;5;241m0\u001b[39m)\n\u001b[1;32m     77\u001b[0m popt_Buck, pcov \u001b[38;5;241m=\u001b[39m curve_fit(Buckingham, r, spl_to_fit, maxfev\u001b[38;5;241m=\u001b[39m\u001b[38;5;241m5000\u001b[39m)\n\u001b[0;32m---> 78\u001b[0m popt_Mor, pcov \u001b[38;5;241m=\u001b[39m \u001b[43mcurve_fit\u001b[49m\u001b[43m(\u001b[49m\u001b[43mMorse\u001b[49m\u001b[43m,\u001b[49m\u001b[43m \u001b[49m\u001b[43mr\u001b[49m\u001b[43m,\u001b[49m\u001b[43m \u001b[49m\u001b[43mspl_to_fit\u001b[49m\u001b[43m,\u001b[49m\u001b[43m \u001b[49m\u001b[43mp0\u001b[49m\u001b[38;5;241;43m=\u001b[39;49m\u001b[43m[\u001b[49m\u001b[38;5;241;43m2\u001b[39;49m\u001b[43m,\u001b[49m\u001b[38;5;241;43m1\u001b[39;49m\u001b[43m,\u001b[49m\u001b[38;5;241;43m1\u001b[39;49m\u001b[43m]\u001b[49m\u001b[43m,\u001b[49m\u001b[43m \u001b[49m\u001b[43mmaxfev\u001b[49m\u001b[38;5;241;43m=\u001b[39;49m\u001b[38;5;241;43m5000\u001b[39;49m\u001b[43m)\u001b[49m\n\u001b[1;32m     79\u001b[0m popt_LJ, pcov \u001b[38;5;241m=\u001b[39m curve_fit(Lennard_Jones, r, spl_to_fit, p0\u001b[38;5;241m=\u001b[39m[\u001b[38;5;241m1\u001b[39m,\u001b[38;5;241m1\u001b[39m], maxfev\u001b[38;5;241m=\u001b[39m\u001b[38;5;241m5000\u001b[39m)\n\u001b[1;32m     80\u001b[0m popt_Ped, pcov \u001b[38;5;241m=\u001b[39m curve_fit(Pedone, r, spl_to_fit, p0\u001b[38;5;241m=\u001b[39m[popt_Mor[\u001b[38;5;241m0\u001b[39m], popt_Mor[\u001b[38;5;241m1\u001b[39m], popt_Mor[\u001b[38;5;241m2\u001b[39m], \u001b[38;5;241m1\u001b[39m], maxfev\u001b[38;5;241m=\u001b[39m\u001b[38;5;241m5000\u001b[39m)\n",
      "File \u001b[0;32m/usr/local/anaconda3/envs/Tantalizing/lib/python3.9/site-packages/scipy/optimize/_minpack_py.py:839\u001b[0m, in \u001b[0;36mcurve_fit\u001b[0;34m(f, xdata, ydata, p0, sigma, absolute_sigma, check_finite, bounds, method, jac, full_output, **kwargs)\u001b[0m\n\u001b[1;32m    837\u001b[0m     cost \u001b[38;5;241m=\u001b[39m np\u001b[38;5;241m.\u001b[39msum(infodict[\u001b[38;5;124m'\u001b[39m\u001b[38;5;124mfvec\u001b[39m\u001b[38;5;124m'\u001b[39m] \u001b[38;5;241m*\u001b[39m\u001b[38;5;241m*\u001b[39m \u001b[38;5;241m2\u001b[39m)\n\u001b[1;32m    838\u001b[0m     \u001b[38;5;28;01mif\u001b[39;00m ier \u001b[38;5;129;01mnot\u001b[39;00m \u001b[38;5;129;01min\u001b[39;00m [\u001b[38;5;241m1\u001b[39m, \u001b[38;5;241m2\u001b[39m, \u001b[38;5;241m3\u001b[39m, \u001b[38;5;241m4\u001b[39m]:\n\u001b[0;32m--> 839\u001b[0m         \u001b[38;5;28;01mraise\u001b[39;00m \u001b[38;5;167;01mRuntimeError\u001b[39;00m(\u001b[38;5;124m\"\u001b[39m\u001b[38;5;124mOptimal parameters not found: \u001b[39m\u001b[38;5;124m\"\u001b[39m \u001b[38;5;241m+\u001b[39m errmsg)\n\u001b[1;32m    840\u001b[0m \u001b[38;5;28;01melse\u001b[39;00m:\n\u001b[1;32m    841\u001b[0m     \u001b[38;5;66;03m# Rename maxfev (leastsq) to max_nfev (least_squares), if specified.\u001b[39;00m\n\u001b[1;32m    842\u001b[0m     \u001b[38;5;28;01mif\u001b[39;00m \u001b[38;5;124m'\u001b[39m\u001b[38;5;124mmax_nfev\u001b[39m\u001b[38;5;124m'\u001b[39m \u001b[38;5;129;01mnot\u001b[39;00m \u001b[38;5;129;01min\u001b[39;00m kwargs:\n",
      "\u001b[0;31mRuntimeError\u001b[0m: Optimal parameters not found: Number of calls to function has reached maxfev = 5000."
     ]
    }
   ],
   "source": [
    "from ccs_fit.scripts.ccs_export_FF import write_FF\n",
    "write_FF(\"CCS_params.json\")"
   ]
  },
  {
   "cell_type": "markdown",
   "id": "34edf9a9",
   "metadata": {},
   "source": [
    "### Cleaning up"
   ]
  },
  {
   "cell_type": "code",
   "execution_count": 21,
   "id": "573c14c4-3ab2-4b17-bf0f-4b1b41cf4c82",
   "metadata": {
    "tags": []
   },
   "outputs": [
    {
     "name": "stdout",
     "output_type": "stream",
     "text": [
      "[ 0.468336    0.53671444  0.52146363  0.01524351 -0.01714075  0.00777316]\n",
      "      Step     Time          Energy         fmax\n",
      "BFGS:    0 11:44:43     -278.018753      398.3344\n",
      "BFGS:    1 11:44:43     -177.781879     1043.4549\n",
      "BFGS:    2 11:44:44      131.719404     2488.5257\n",
      "BFGS:    3 11:44:45      547.469130     4045.8514\n",
      "BFGS:    4 11:44:45     1156.832421     5547.9458\n",
      "BFGS:    5 11:44:46     1919.782165     6843.6616\n",
      "BFGS:    6 11:44:47     3813.573932    10658.8095\n",
      "BFGS:    7 11:44:48     4980.968668    12885.5056\n",
      "BFGS:    8 11:44:50     7492.691347    18808.6133\n",
      "BFGS:    9 11:44:51     7121.658629    17397.7962\n"
     ]
    },
    {
     "ename": "KeyboardInterrupt",
     "evalue": "",
     "output_type": "error",
     "traceback": [
      "\u001b[0;31m---------------------------------------------------------------------------\u001b[0m",
      "\u001b[0;31mKeyboardInterrupt\u001b[0m                         Traceback (most recent call last)",
      "Cell \u001b[0;32mIn[21], line 22\u001b[0m\n\u001b[1;32m     20\u001b[0m sf \u001b[38;5;241m=\u001b[39m StrainFilter(opt_struct)\n\u001b[1;32m     21\u001b[0m opt \u001b[38;5;241m=\u001b[39m BFGS(sf, trajectory\u001b[38;5;241m=\u001b[39m\u001b[38;5;124m'\u001b[39m\u001b[38;5;124mCCS_strain.traj\u001b[39m\u001b[38;5;124m'\u001b[39m)\n\u001b[0;32m---> 22\u001b[0m \u001b[43mopt\u001b[49m\u001b[38;5;241;43m.\u001b[39;49m\u001b[43mrun\u001b[49m\u001b[43m(\u001b[49m\u001b[43mfmax\u001b[49m\u001b[38;5;241;43m=\u001b[39;49m\u001b[38;5;241;43m1e-4\u001b[39;49m\u001b[43m)\u001b[49m\n\u001b[1;32m     23\u001b[0m alat \u001b[38;5;241m=\u001b[39m opt_struct\u001b[38;5;241m.\u001b[39mcell[\u001b[38;5;241m0\u001b[39m][\u001b[38;5;241m1\u001b[39m] \u001b[38;5;241m-\u001b[39m opt_struct\u001b[38;5;241m.\u001b[39mcell[\u001b[38;5;241m0\u001b[39m][\u001b[38;5;241m0\u001b[39m]\n\u001b[1;32m     25\u001b[0m CCS_strain_opt \u001b[38;5;241m=\u001b[39m read(\u001b[38;5;124m'\u001b[39m\u001b[38;5;124mCCS_strain.traj\u001b[39m\u001b[38;5;124m'\u001b[39m)\n",
      "File \u001b[0;32m/usr/local/anaconda3/envs/Tantalizing/lib/python3.9/site-packages/ase/optimize/optimize.py:269\u001b[0m, in \u001b[0;36mOptimizer.run\u001b[0;34m(self, fmax, steps)\u001b[0m\n\u001b[1;32m    267\u001b[0m \u001b[38;5;28;01mif\u001b[39;00m steps:\n\u001b[1;32m    268\u001b[0m     \u001b[38;5;28mself\u001b[39m\u001b[38;5;241m.\u001b[39mmax_steps \u001b[38;5;241m=\u001b[39m steps\n\u001b[0;32m--> 269\u001b[0m \u001b[38;5;28;01mreturn\u001b[39;00m \u001b[43mDynamics\u001b[49m\u001b[38;5;241;43m.\u001b[39;49m\u001b[43mrun\u001b[49m\u001b[43m(\u001b[49m\u001b[38;5;28;43mself\u001b[39;49m\u001b[43m)\u001b[49m\n",
      "File \u001b[0;32m/usr/local/anaconda3/envs/Tantalizing/lib/python3.9/site-packages/ase/optimize/optimize.py:156\u001b[0m, in \u001b[0;36mDynamics.run\u001b[0;34m(self)\u001b[0m\n\u001b[1;32m    149\u001b[0m \u001b[38;5;28;01mdef\u001b[39;00m \u001b[38;5;21mrun\u001b[39m(\u001b[38;5;28mself\u001b[39m):\n\u001b[1;32m    150\u001b[0m \u001b[38;5;250m    \u001b[39m\u001b[38;5;124;03m\"\"\"Run dynamics algorithm.\u001b[39;00m\n\u001b[1;32m    151\u001b[0m \n\u001b[1;32m    152\u001b[0m \u001b[38;5;124;03m    This method will return when the forces on all individual\u001b[39;00m\n\u001b[1;32m    153\u001b[0m \u001b[38;5;124;03m    atoms are less than *fmax* or when the number of steps exceeds\u001b[39;00m\n\u001b[1;32m    154\u001b[0m \u001b[38;5;124;03m    *steps*.\"\"\"\u001b[39;00m\n\u001b[0;32m--> 156\u001b[0m     \u001b[38;5;28;01mfor\u001b[39;00m converged \u001b[38;5;129;01min\u001b[39;00m Dynamics\u001b[38;5;241m.\u001b[39mirun(\u001b[38;5;28mself\u001b[39m):\n\u001b[1;32m    157\u001b[0m         \u001b[38;5;28;01mpass\u001b[39;00m\n\u001b[1;32m    158\u001b[0m     \u001b[38;5;28;01mreturn\u001b[39;00m converged\n",
      "File \u001b[0;32m/usr/local/anaconda3/envs/Tantalizing/lib/python3.9/site-packages/ase/optimize/optimize.py:143\u001b[0m, in \u001b[0;36mDynamics.irun\u001b[0;34m(self)\u001b[0m\n\u001b[1;32m    140\u001b[0m     \u001b[38;5;28;01myield\u001b[39;00m \u001b[38;5;28;01mFalse\u001b[39;00m\n\u001b[1;32m    142\u001b[0m     \u001b[38;5;66;03m# log the step\u001b[39;00m\n\u001b[0;32m--> 143\u001b[0m     \u001b[38;5;28;43mself\u001b[39;49m\u001b[38;5;241;43m.\u001b[39;49m\u001b[43mlog\u001b[49m\u001b[43m(\u001b[49m\u001b[43m)\u001b[49m\n\u001b[1;32m    144\u001b[0m     \u001b[38;5;28mself\u001b[39m\u001b[38;5;241m.\u001b[39mcall_observers()\n\u001b[1;32m    146\u001b[0m \u001b[38;5;66;03m# finally check if algorithm was converged\u001b[39;00m\n",
      "File \u001b[0;32m/usr/local/anaconda3/envs/Tantalizing/lib/python3.9/site-packages/ase/optimize/optimize.py:283\u001b[0m, in \u001b[0;36mOptimizer.log\u001b[0;34m(self, forces)\u001b[0m\n\u001b[1;32m    281\u001b[0m \u001b[38;5;28;01mdef\u001b[39;00m \u001b[38;5;21mlog\u001b[39m(\u001b[38;5;28mself\u001b[39m, forces\u001b[38;5;241m=\u001b[39m\u001b[38;5;28;01mNone\u001b[39;00m):\n\u001b[1;32m    282\u001b[0m     \u001b[38;5;28;01mif\u001b[39;00m forces \u001b[38;5;129;01mis\u001b[39;00m \u001b[38;5;28;01mNone\u001b[39;00m:\n\u001b[0;32m--> 283\u001b[0m         forces \u001b[38;5;241m=\u001b[39m \u001b[38;5;28;43mself\u001b[39;49m\u001b[38;5;241;43m.\u001b[39;49m\u001b[43matoms\u001b[49m\u001b[38;5;241;43m.\u001b[39;49m\u001b[43mget_forces\u001b[49m\u001b[43m(\u001b[49m\u001b[43m)\u001b[49m\n\u001b[1;32m    284\u001b[0m     fmax \u001b[38;5;241m=\u001b[39m sqrt((forces \u001b[38;5;241m*\u001b[39m\u001b[38;5;241m*\u001b[39m \u001b[38;5;241m2\u001b[39m)\u001b[38;5;241m.\u001b[39msum(axis\u001b[38;5;241m=\u001b[39m\u001b[38;5;241m1\u001b[39m)\u001b[38;5;241m.\u001b[39mmax())\n\u001b[1;32m    285\u001b[0m     e \u001b[38;5;241m=\u001b[39m \u001b[38;5;28mself\u001b[39m\u001b[38;5;241m.\u001b[39matoms\u001b[38;5;241m.\u001b[39mget_potential_energy(\n\u001b[1;32m    286\u001b[0m         force_consistent\u001b[38;5;241m=\u001b[39m\u001b[38;5;28mself\u001b[39m\u001b[38;5;241m.\u001b[39mforce_consistent\n\u001b[1;32m    287\u001b[0m     )\n",
      "File \u001b[0;32m/usr/local/anaconda3/envs/Tantalizing/lib/python3.9/site-packages/ase/constraints.py:2250\u001b[0m, in \u001b[0;36mStrainFilter.get_forces\u001b[0;34m(self, **kwargs)\u001b[0m\n\u001b[1;32m   2249\u001b[0m \u001b[38;5;28;01mdef\u001b[39;00m \u001b[38;5;21mget_forces\u001b[39m(\u001b[38;5;28mself\u001b[39m, \u001b[38;5;241m*\u001b[39m\u001b[38;5;241m*\u001b[39mkwargs):\n\u001b[0;32m-> 2250\u001b[0m     stress \u001b[38;5;241m=\u001b[39m \u001b[38;5;28;43mself\u001b[39;49m\u001b[38;5;241;43m.\u001b[39;49m\u001b[43matoms\u001b[49m\u001b[38;5;241;43m.\u001b[39;49m\u001b[43mget_stress\u001b[49m\u001b[43m(\u001b[49m\u001b[43minclude_ideal_gas\u001b[49m\u001b[38;5;241;43m=\u001b[39;49m\u001b[38;5;28;43mself\u001b[39;49m\u001b[38;5;241;43m.\u001b[39;49m\u001b[43minclude_ideal_gas\u001b[49m\u001b[43m)\u001b[49m\n\u001b[1;32m   2251\u001b[0m     \u001b[38;5;28;01mreturn\u001b[39;00m \u001b[38;5;241m-\u001b[39m\u001b[38;5;28mself\u001b[39m\u001b[38;5;241m.\u001b[39matoms\u001b[38;5;241m.\u001b[39mget_volume() \u001b[38;5;241m*\u001b[39m (stress \u001b[38;5;241m*\u001b[39m \u001b[38;5;28mself\u001b[39m\u001b[38;5;241m.\u001b[39mmask)\u001b[38;5;241m.\u001b[39mreshape((\u001b[38;5;241m2\u001b[39m, \u001b[38;5;241m3\u001b[39m))\n",
      "File \u001b[0;32m/usr/local/anaconda3/envs/Tantalizing/lib/python3.9/site-packages/ase/atoms.py:820\u001b[0m, in \u001b[0;36mAtoms.get_stress\u001b[0;34m(self, voigt, apply_constraint, include_ideal_gas)\u001b[0m\n\u001b[1;32m    817\u001b[0m \u001b[38;5;28;01mif\u001b[39;00m \u001b[38;5;28mself\u001b[39m\u001b[38;5;241m.\u001b[39m_calc \u001b[38;5;129;01mis\u001b[39;00m \u001b[38;5;28;01mNone\u001b[39;00m:\n\u001b[1;32m    818\u001b[0m     \u001b[38;5;28;01mraise\u001b[39;00m \u001b[38;5;167;01mRuntimeError\u001b[39;00m(\u001b[38;5;124m'\u001b[39m\u001b[38;5;124mAtoms object has no calculator.\u001b[39m\u001b[38;5;124m'\u001b[39m)\n\u001b[0;32m--> 820\u001b[0m stress \u001b[38;5;241m=\u001b[39m \u001b[38;5;28;43mself\u001b[39;49m\u001b[38;5;241;43m.\u001b[39;49m\u001b[43m_calc\u001b[49m\u001b[38;5;241;43m.\u001b[39;49m\u001b[43mget_stress\u001b[49m\u001b[43m(\u001b[49m\u001b[38;5;28;43mself\u001b[39;49m\u001b[43m)\u001b[49m\n\u001b[1;32m    821\u001b[0m shape \u001b[38;5;241m=\u001b[39m stress\u001b[38;5;241m.\u001b[39mshape\n\u001b[1;32m    823\u001b[0m \u001b[38;5;28;01mif\u001b[39;00m shape \u001b[38;5;241m==\u001b[39m (\u001b[38;5;241m3\u001b[39m, \u001b[38;5;241m3\u001b[39m):\n\u001b[1;32m    824\u001b[0m     \u001b[38;5;66;03m# Convert to the Voigt form before possibly applying\u001b[39;00m\n\u001b[1;32m    825\u001b[0m     \u001b[38;5;66;03m# constraints and adding the dynamic part of the stress\u001b[39;00m\n\u001b[1;32m    826\u001b[0m     \u001b[38;5;66;03m# (the \"ideal gas contribution\").\u001b[39;00m\n",
      "File \u001b[0;32m/usr/local/anaconda3/envs/Tantalizing/lib/python3.9/site-packages/ase/calculators/abc.py:26\u001b[0m, in \u001b[0;36mGetPropertiesMixin.get_stress\u001b[0;34m(self, atoms)\u001b[0m\n\u001b[1;32m     25\u001b[0m \u001b[38;5;28;01mdef\u001b[39;00m \u001b[38;5;21mget_stress\u001b[39m(\u001b[38;5;28mself\u001b[39m, atoms\u001b[38;5;241m=\u001b[39m\u001b[38;5;28;01mNone\u001b[39;00m):\n\u001b[0;32m---> 26\u001b[0m     \u001b[38;5;28;01mreturn\u001b[39;00m \u001b[38;5;28;43mself\u001b[39;49m\u001b[38;5;241;43m.\u001b[39;49m\u001b[43mget_property\u001b[49m\u001b[43m(\u001b[49m\u001b[38;5;124;43m'\u001b[39;49m\u001b[38;5;124;43mstress\u001b[39;49m\u001b[38;5;124;43m'\u001b[39;49m\u001b[43m,\u001b[49m\u001b[43m \u001b[49m\u001b[43matoms\u001b[49m\u001b[43m)\u001b[49m\n",
      "File \u001b[0;32m/usr/local/anaconda3/envs/Tantalizing/lib/python3.9/site-packages/ase/calculators/calculator.py:737\u001b[0m, in \u001b[0;36mCalculator.get_property\u001b[0;34m(self, name, atoms, allow_calculation)\u001b[0m\n\u001b[1;32m    735\u001b[0m     \u001b[38;5;28;01mif\u001b[39;00m \u001b[38;5;129;01mnot\u001b[39;00m allow_calculation:\n\u001b[1;32m    736\u001b[0m         \u001b[38;5;28;01mreturn\u001b[39;00m \u001b[38;5;28;01mNone\u001b[39;00m\n\u001b[0;32m--> 737\u001b[0m     \u001b[38;5;28;43mself\u001b[39;49m\u001b[38;5;241;43m.\u001b[39;49m\u001b[43mcalculate\u001b[49m\u001b[43m(\u001b[49m\u001b[43matoms\u001b[49m\u001b[43m,\u001b[49m\u001b[43m \u001b[49m\u001b[43m[\u001b[49m\u001b[43mname\u001b[49m\u001b[43m]\u001b[49m\u001b[43m,\u001b[49m\u001b[43m \u001b[49m\u001b[43msystem_changes\u001b[49m\u001b[43m)\u001b[49m\n\u001b[1;32m    739\u001b[0m \u001b[38;5;28;01mif\u001b[39;00m name \u001b[38;5;129;01mnot\u001b[39;00m \u001b[38;5;129;01min\u001b[39;00m \u001b[38;5;28mself\u001b[39m\u001b[38;5;241m.\u001b[39mresults:\n\u001b[1;32m    740\u001b[0m     \u001b[38;5;66;03m# For some reason the calculator was not able to do what we want,\u001b[39;00m\n\u001b[1;32m    741\u001b[0m     \u001b[38;5;66;03m# and that is OK.\u001b[39;00m\n\u001b[1;32m    742\u001b[0m     \u001b[38;5;28;01mraise\u001b[39;00m PropertyNotImplementedError(\u001b[38;5;124m'\u001b[39m\u001b[38;5;132;01m{}\u001b[39;00m\u001b[38;5;124m not present in this \u001b[39m\u001b[38;5;124m'\u001b[39m\n\u001b[1;32m    743\u001b[0m                                       \u001b[38;5;124m'\u001b[39m\u001b[38;5;124mcalculation\u001b[39m\u001b[38;5;124m'\u001b[39m\u001b[38;5;241m.\u001b[39mformat(name))\n",
      "File \u001b[0;32m~/Documents/repos/CCS/src/ccs_fit/ase_calculator/ccs_ase_calculator.py:214\u001b[0m, in \u001b[0;36mCCS.calculate\u001b[0;34m(self, atoms, properties, system_changes)\u001b[0m\n\u001b[1;32m    211\u001b[0m     \u001b[38;5;28;01mpass\u001b[39;00m\n\u001b[1;32m    213\u001b[0m \u001b[38;5;66;03m# Stress calculation\u001b[39;00m\n\u001b[0;32m--> 214\u001b[0m id2s \u001b[38;5;241m=\u001b[39m [i \u001b[38;5;28;01mfor\u001b[39;00m i, x \u001b[38;5;129;01min\u001b[39;00m \u001b[38;5;28menumerate\u001b[39m(dist_mask) \u001b[38;5;28;01mif\u001b[39;00m x]\n\u001b[1;32m    215\u001b[0m \u001b[38;5;28;01mif\u001b[39;00m norm_dist \u001b[38;5;241m!=\u001b[39m []:\n\u001b[1;32m    216\u001b[0m     \u001b[38;5;28;01mfor\u001b[39;00m id2 \u001b[38;5;129;01min\u001b[39;00m id2s:\n",
      "File \u001b[0;32m~/Documents/repos/CCS/src/ccs_fit/ase_calculator/ccs_ase_calculator.py:214\u001b[0m, in \u001b[0;36m<listcomp>\u001b[0;34m(.0)\u001b[0m\n\u001b[1;32m    211\u001b[0m     \u001b[38;5;28;01mpass\u001b[39;00m\n\u001b[1;32m    213\u001b[0m \u001b[38;5;66;03m# Stress calculation\u001b[39;00m\n\u001b[0;32m--> 214\u001b[0m id2s \u001b[38;5;241m=\u001b[39m [i \u001b[38;5;28;01mfor\u001b[39;00m i, x \u001b[38;5;129;01min\u001b[39;00m \u001b[38;5;28menumerate\u001b[39m(dist_mask) \u001b[38;5;28;01mif\u001b[39;00m x]\n\u001b[1;32m    215\u001b[0m \u001b[38;5;28;01mif\u001b[39;00m norm_dist \u001b[38;5;241m!=\u001b[39m []:\n\u001b[1;32m    216\u001b[0m     \u001b[38;5;28;01mfor\u001b[39;00m id2 \u001b[38;5;129;01min\u001b[39;00m id2s:\n",
      "\u001b[0;31mKeyboardInterrupt\u001b[0m: "
     ]
    }
   ],
   "source": [
    "from ase.io import read, write\n",
    "from ase.constraints import StrainFilter\n",
    "from ccs_fit.ase_calculator.ccs_ase_calculator import CCS\n",
    "import json\n",
    "from ase.optimize import BFGS\n",
    "\n",
    "opt_struct = read('DFT.db@40')\n",
    "\n",
    "with open ('CCS_params.json','r') as f:\n",
    "    CCS_params=json.load(f)\n",
    "\n",
    "CCS_calc = CCS(CCS_params=CCS_params, charge=True,q=charge_dict,charge_scaling=True)\n",
    "    \n",
    "opt_struct.calc = CCS_calc\n",
    "\n",
    "print(opt_struct.get_stress())\n",
    "\n",
    "orig_cell = opt_struct.cell.copy()\n",
    "\n",
    "sf = StrainFilter(opt_struct)\n",
    "opt = BFGS(sf, trajectory='CCS_strain.traj')\n",
    "opt.run(fmax=1e-4)\n",
    "alat = opt_struct.cell[0][1] - opt_struct.cell[0][0]\n",
    "\n",
    "CCS_strain_opt = read('CCS_strain.traj')\n",
    "CCS_strain_opt_cell = CCS_strain_opt.cell\n",
    "\n",
    "old_vol = np.prod(np.diag(orig_cell))\n",
    "new_vol = np.prod(np.diag(CCS_strain_opt_cell))\n",
    "\n",
    "write(\"NiO2_opt_ccs.POSCAR\", CCS_strain_opt)\n",
    "\n",
    "print(\"Volume change of {} %, as a result of the following lattice parameter changes:\".format((new_vol-old_vol)/old_vol*100))\n",
    "print([np.diag(CCS_strain_opt_cell-orig_cell)[i]/np.diag(orig_cell)[i]*100 for i in range(3)])\n",
    "\n",
    "print(np.diag(CCS_strain_opt_cell))"
   ]
  },
  {
   "cell_type": "code",
   "execution_count": 11,
   "id": "3131a848-f375-41c5-9cf7-d437aafb698a",
   "metadata": {
    "tags": []
   },
   "outputs": [
    {
     "name": "stdout",
     "output_type": "stream",
     "text": [
      "      Step     Time          Energy         fmax\n",
      "BFGS:    0 11:14:32    10159.501814      620.0609\n",
      "BFGS:    1 11:14:38     8880.913437      305.6270\n",
      "BFGS:    2 11:14:44     8685.138860      497.8411\n",
      "BFGS:    3 11:14:50     8469.187523      345.4139\n",
      "BFGS:    4 11:14:56     8318.032389      304.3596\n",
      "BFGS:    5 11:15:02     8163.802200      290.2422\n",
      "BFGS:    6 11:15:08     8014.287989      225.4463\n",
      "BFGS:    7 11:15:14     7881.282117      206.7641\n",
      "BFGS:    8 11:15:20     7780.509367      137.5330\n",
      "BFGS:    9 11:15:26     7722.589658      146.9033\n",
      "BFGS:   10 11:15:32     7644.300487      141.8962\n",
      "BFGS:   11 11:15:38     7623.604740      214.9205\n",
      "BFGS:   12 11:15:44     7577.739909      155.1083\n",
      "BFGS:   13 11:15:50     7505.309204      197.3189\n",
      "BFGS:   14 11:15:55     7403.074980      161.3107\n",
      "BFGS:   15 11:16:01     7300.417430      123.0253\n",
      "BFGS:   16 11:16:07     7199.438530      141.1321\n",
      "BFGS:   17 11:16:13     7123.979447      146.2079\n",
      "BFGS:   18 11:16:19     7058.635364      144.3080\n",
      "BFGS:   19 11:16:24     7023.090702      166.9810\n",
      "BFGS:   20 11:16:30     7044.117118      253.6705\n",
      "BFGS:   21 11:16:37     7040.279837      192.8677\n",
      "BFGS:   22 11:16:43     6984.079648       98.6988\n",
      "BFGS:   23 11:16:49     6957.664678      133.4458\n",
      "BFGS:   24 11:16:56     6984.707091      131.5935\n",
      "BFGS:   25 11:17:02     6971.389726      148.4362\n",
      "BFGS:   26 11:17:08     6931.131864      149.3257\n",
      "BFGS:   27 11:17:14     6904.037457      120.7400\n",
      "BFGS:   28 11:17:21     6886.028761      100.0541\n",
      "BFGS:   29 11:17:27     6959.882605      171.0636\n",
      "BFGS:   30 11:17:33     6939.195016      107.7041\n",
      "BFGS:   31 11:17:39     6885.438556       85.4324\n",
      "BFGS:   32 11:17:45     6880.565836      138.6507\n",
      "BFGS:   33 11:17:52     6867.120176      111.7544\n",
      "BFGS:   34 11:17:59     6885.758838      204.8140\n",
      "BFGS:   35 11:18:05     6865.885988       76.1239\n",
      "BFGS:   36 11:18:12     6860.269164       99.7892\n",
      "BFGS:   37 11:18:19     6869.846740      163.4726\n",
      "BFGS:   38 11:18:25     6880.235785      112.9846\n",
      "BFGS:   39 11:18:31     6919.474994      155.5687\n",
      "BFGS:   40 11:18:38     6879.626525      105.9959\n",
      "BFGS:   41 11:18:44     6863.147054      120.5322\n",
      "BFGS:   42 11:18:50     6850.312125       99.2537\n",
      "BFGS:   43 11:18:57     6852.844665      125.2656\n",
      "BFGS:   44 11:19:03     6840.454205       83.1704\n",
      "BFGS:   45 11:19:09     6845.114117      114.4456\n",
      "BFGS:   46 11:19:15     6849.535189      121.0319\n",
      "BFGS:   47 11:19:22     6883.344717      140.0617\n",
      "BFGS:   48 11:19:29     6854.872585      103.6905\n",
      "BFGS:   49 11:19:35     6829.408473      113.6621\n",
      "BFGS:   50 11:19:42     6828.173885      129.7141\n",
      "BFGS:   51 11:19:49     6870.456586      204.4383\n",
      "BFGS:   52 11:19:55     6895.810971      152.0224\n",
      "BFGS:   53 11:20:01     6903.675138      164.4626\n",
      "BFGS:   54 11:20:08     6848.580272       98.5630\n",
      "BFGS:   55 11:20:14     6826.706855       56.0886\n",
      "BFGS:   56 11:20:20     6809.918639       82.7954\n",
      "BFGS:   57 11:20:26     6839.157609      109.0069\n",
      "BFGS:   58 11:20:32     6847.068073      103.3666\n",
      "BFGS:   59 11:20:38     6824.060478      101.9104\n",
      "BFGS:   60 11:20:44     6807.995769       65.4426\n",
      "BFGS:   61 11:20:50     6831.367556       84.8161\n",
      "BFGS:   62 11:20:56     6837.068958       87.0369\n",
      "BFGS:   63 11:21:02     6844.893062      133.0489\n",
      "BFGS:   64 11:21:08     6820.669608       83.7021\n",
      "BFGS:   65 11:21:14     6822.058852       97.6607\n",
      "BFGS:   66 11:21:20     6839.377703      165.7126\n",
      "BFGS:   67 11:21:26     6832.852139      143.2236\n",
      "BFGS:   68 11:21:32     6828.460097       81.7724\n",
      "BFGS:   69 11:21:38     6812.925562       79.9916\n",
      "BFGS:   70 11:21:44     6808.238262       82.7856\n",
      "BFGS:   71 11:21:50     6800.469996       72.4035\n",
      "BFGS:   72 11:21:58     6794.324833       73.8457\n",
      "BFGS:   73 11:22:12     6805.385669      141.6500\n",
      "BFGS:   74 11:22:18     6823.404720       98.7110\n",
      "BFGS:   75 11:22:24     6850.864018      130.4167\n",
      "BFGS:   76 11:22:29     6817.470009      112.5473\n",
      "BFGS:   77 11:22:36     6806.117705       84.0174\n",
      "BFGS:   78 11:22:42     6786.903152       67.5782\n",
      "BFGS:   79 11:22:47     6783.180865       72.2208\n",
      "BFGS:   80 11:22:53     6777.195513       67.0008\n",
      "BFGS:   81 11:22:59     6787.972864       82.6954\n",
      "BFGS:   82 11:23:05     6778.526026       81.4243\n",
      "BFGS:   83 11:23:11     6813.339956      130.7941\n",
      "BFGS:   84 11:23:17     6813.743004      133.8477\n",
      "BFGS:   85 11:23:23     6805.597173      107.2221\n"
     ]
    },
    {
     "ename": "KeyboardInterrupt",
     "evalue": "",
     "output_type": "error",
     "traceback": [
      "\u001b[0;31m---------------------------------------------------------------------------\u001b[0m",
      "\u001b[0;31mKeyboardInterrupt\u001b[0m                         Traceback (most recent call last)",
      "Cell \u001b[0;32mIn[11], line 8\u001b[0m\n\u001b[1;32m      5\u001b[0m struct\u001b[38;5;241m.\u001b[39mcalc \u001b[38;5;241m=\u001b[39m CCS_calc\n\u001b[1;32m      7\u001b[0m opt \u001b[38;5;241m=\u001b[39m BFGS(struct, trajectory\u001b[38;5;241m=\u001b[39m\u001b[38;5;124m'\u001b[39m\u001b[38;5;124mopt.traj\u001b[39m\u001b[38;5;124m'\u001b[39m)\n\u001b[0;32m----> 8\u001b[0m \u001b[43mopt\u001b[49m\u001b[38;5;241;43m.\u001b[39;49m\u001b[43mrun\u001b[49m\u001b[43m(\u001b[49m\u001b[43mfmax\u001b[49m\u001b[38;5;241;43m=\u001b[39;49m\u001b[38;5;241;43m0.001\u001b[39;49m\u001b[43m)\u001b[49m\n",
      "File \u001b[0;32m/usr/local/anaconda3/envs/Tantalizing/lib/python3.9/site-packages/ase/optimize/optimize.py:269\u001b[0m, in \u001b[0;36mOptimizer.run\u001b[0;34m(self, fmax, steps)\u001b[0m\n\u001b[1;32m    267\u001b[0m \u001b[38;5;28;01mif\u001b[39;00m steps:\n\u001b[1;32m    268\u001b[0m     \u001b[38;5;28mself\u001b[39m\u001b[38;5;241m.\u001b[39mmax_steps \u001b[38;5;241m=\u001b[39m steps\n\u001b[0;32m--> 269\u001b[0m \u001b[38;5;28;01mreturn\u001b[39;00m \u001b[43mDynamics\u001b[49m\u001b[38;5;241;43m.\u001b[39;49m\u001b[43mrun\u001b[49m\u001b[43m(\u001b[49m\u001b[38;5;28;43mself\u001b[39;49m\u001b[43m)\u001b[49m\n",
      "File \u001b[0;32m/usr/local/anaconda3/envs/Tantalizing/lib/python3.9/site-packages/ase/optimize/optimize.py:156\u001b[0m, in \u001b[0;36mDynamics.run\u001b[0;34m(self)\u001b[0m\n\u001b[1;32m    149\u001b[0m \u001b[38;5;28;01mdef\u001b[39;00m \u001b[38;5;21mrun\u001b[39m(\u001b[38;5;28mself\u001b[39m):\n\u001b[1;32m    150\u001b[0m \u001b[38;5;250m    \u001b[39m\u001b[38;5;124;03m\"\"\"Run dynamics algorithm.\u001b[39;00m\n\u001b[1;32m    151\u001b[0m \n\u001b[1;32m    152\u001b[0m \u001b[38;5;124;03m    This method will return when the forces on all individual\u001b[39;00m\n\u001b[1;32m    153\u001b[0m \u001b[38;5;124;03m    atoms are less than *fmax* or when the number of steps exceeds\u001b[39;00m\n\u001b[1;32m    154\u001b[0m \u001b[38;5;124;03m    *steps*.\"\"\"\u001b[39;00m\n\u001b[0;32m--> 156\u001b[0m     \u001b[38;5;28;01mfor\u001b[39;00m converged \u001b[38;5;129;01min\u001b[39;00m Dynamics\u001b[38;5;241m.\u001b[39mirun(\u001b[38;5;28mself\u001b[39m):\n\u001b[1;32m    157\u001b[0m         \u001b[38;5;28;01mpass\u001b[39;00m\n\u001b[1;32m    158\u001b[0m     \u001b[38;5;28;01mreturn\u001b[39;00m converged\n",
      "File \u001b[0;32m/usr/local/anaconda3/envs/Tantalizing/lib/python3.9/site-packages/ase/optimize/optimize.py:135\u001b[0m, in \u001b[0;36mDynamics.irun\u001b[0;34m(self)\u001b[0m\n\u001b[1;32m    131\u001b[0m \u001b[38;5;66;03m# run the algorithm until converged or max_steps reached\u001b[39;00m\n\u001b[1;32m    132\u001b[0m \u001b[38;5;28;01mwhile\u001b[39;00m \u001b[38;5;129;01mnot\u001b[39;00m \u001b[38;5;28mself\u001b[39m\u001b[38;5;241m.\u001b[39mconverged() \u001b[38;5;129;01mand\u001b[39;00m \u001b[38;5;28mself\u001b[39m\u001b[38;5;241m.\u001b[39mnsteps \u001b[38;5;241m<\u001b[39m \u001b[38;5;28mself\u001b[39m\u001b[38;5;241m.\u001b[39mmax_steps:\n\u001b[1;32m    133\u001b[0m \n\u001b[1;32m    134\u001b[0m     \u001b[38;5;66;03m# compute the next step\u001b[39;00m\n\u001b[0;32m--> 135\u001b[0m     \u001b[38;5;28;43mself\u001b[39;49m\u001b[38;5;241;43m.\u001b[39;49m\u001b[43mstep\u001b[49m\u001b[43m(\u001b[49m\u001b[43m)\u001b[49m\n\u001b[1;32m    136\u001b[0m     \u001b[38;5;28mself\u001b[39m\u001b[38;5;241m.\u001b[39mnsteps \u001b[38;5;241m+\u001b[39m\u001b[38;5;241m=\u001b[39m \u001b[38;5;241m1\u001b[39m\n\u001b[1;32m    138\u001b[0m     \u001b[38;5;66;03m# let the user inspect the step and change things before logging\u001b[39;00m\n\u001b[1;32m    139\u001b[0m     \u001b[38;5;66;03m# and predicting the next step\u001b[39;00m\n",
      "File \u001b[0;32m/usr/local/anaconda3/envs/Tantalizing/lib/python3.9/site-packages/ase/optimize/bfgs.py:85\u001b[0m, in \u001b[0;36mBFGS.step\u001b[0;34m(self, f)\u001b[0m\n\u001b[1;32m     82\u001b[0m atoms \u001b[38;5;241m=\u001b[39m \u001b[38;5;28mself\u001b[39m\u001b[38;5;241m.\u001b[39matoms\n\u001b[1;32m     84\u001b[0m \u001b[38;5;28;01mif\u001b[39;00m f \u001b[38;5;129;01mis\u001b[39;00m \u001b[38;5;28;01mNone\u001b[39;00m:\n\u001b[0;32m---> 85\u001b[0m     f \u001b[38;5;241m=\u001b[39m \u001b[43matoms\u001b[49m\u001b[38;5;241;43m.\u001b[39;49m\u001b[43mget_forces\u001b[49m\u001b[43m(\u001b[49m\u001b[43m)\u001b[49m\n\u001b[1;32m     87\u001b[0m r \u001b[38;5;241m=\u001b[39m atoms\u001b[38;5;241m.\u001b[39mget_positions()\n\u001b[1;32m     88\u001b[0m f \u001b[38;5;241m=\u001b[39m f\u001b[38;5;241m.\u001b[39mreshape(\u001b[38;5;241m-\u001b[39m\u001b[38;5;241m1\u001b[39m)\n",
      "File \u001b[0;32m/usr/local/anaconda3/envs/Tantalizing/lib/python3.9/site-packages/ase/atoms.py:788\u001b[0m, in \u001b[0;36mAtoms.get_forces\u001b[0;34m(self, apply_constraint, md)\u001b[0m\n\u001b[1;32m    786\u001b[0m \u001b[38;5;28;01mif\u001b[39;00m \u001b[38;5;28mself\u001b[39m\u001b[38;5;241m.\u001b[39m_calc \u001b[38;5;129;01mis\u001b[39;00m \u001b[38;5;28;01mNone\u001b[39;00m:\n\u001b[1;32m    787\u001b[0m     \u001b[38;5;28;01mraise\u001b[39;00m \u001b[38;5;167;01mRuntimeError\u001b[39;00m(\u001b[38;5;124m'\u001b[39m\u001b[38;5;124mAtoms object has no calculator.\u001b[39m\u001b[38;5;124m'\u001b[39m)\n\u001b[0;32m--> 788\u001b[0m forces \u001b[38;5;241m=\u001b[39m \u001b[38;5;28;43mself\u001b[39;49m\u001b[38;5;241;43m.\u001b[39;49m\u001b[43m_calc\u001b[49m\u001b[38;5;241;43m.\u001b[39;49m\u001b[43mget_forces\u001b[49m\u001b[43m(\u001b[49m\u001b[38;5;28;43mself\u001b[39;49m\u001b[43m)\u001b[49m\n\u001b[1;32m    790\u001b[0m \u001b[38;5;28;01mif\u001b[39;00m apply_constraint:\n\u001b[1;32m    791\u001b[0m     \u001b[38;5;66;03m# We need a special md flag here because for MD we want\u001b[39;00m\n\u001b[1;32m    792\u001b[0m     \u001b[38;5;66;03m# to skip real constraints but include special \"constraints\"\u001b[39;00m\n\u001b[1;32m    793\u001b[0m     \u001b[38;5;66;03m# Like Hookean.\u001b[39;00m\n\u001b[1;32m    794\u001b[0m     \u001b[38;5;28;01mfor\u001b[39;00m constraint \u001b[38;5;129;01min\u001b[39;00m \u001b[38;5;28mself\u001b[39m\u001b[38;5;241m.\u001b[39mconstraints:\n",
      "File \u001b[0;32m/usr/local/anaconda3/envs/Tantalizing/lib/python3.9/site-packages/ase/calculators/abc.py:23\u001b[0m, in \u001b[0;36mGetPropertiesMixin.get_forces\u001b[0;34m(self, atoms)\u001b[0m\n\u001b[1;32m     22\u001b[0m \u001b[38;5;28;01mdef\u001b[39;00m \u001b[38;5;21mget_forces\u001b[39m(\u001b[38;5;28mself\u001b[39m, atoms\u001b[38;5;241m=\u001b[39m\u001b[38;5;28;01mNone\u001b[39;00m):\n\u001b[0;32m---> 23\u001b[0m     \u001b[38;5;28;01mreturn\u001b[39;00m \u001b[38;5;28;43mself\u001b[39;49m\u001b[38;5;241;43m.\u001b[39;49m\u001b[43mget_property\u001b[49m\u001b[43m(\u001b[49m\u001b[38;5;124;43m'\u001b[39;49m\u001b[38;5;124;43mforces\u001b[39;49m\u001b[38;5;124;43m'\u001b[39;49m\u001b[43m,\u001b[49m\u001b[43m \u001b[49m\u001b[43matoms\u001b[49m\u001b[43m)\u001b[49m\n",
      "File \u001b[0;32m/usr/local/anaconda3/envs/Tantalizing/lib/python3.9/site-packages/ase/calculators/calculator.py:737\u001b[0m, in \u001b[0;36mCalculator.get_property\u001b[0;34m(self, name, atoms, allow_calculation)\u001b[0m\n\u001b[1;32m    735\u001b[0m     \u001b[38;5;28;01mif\u001b[39;00m \u001b[38;5;129;01mnot\u001b[39;00m allow_calculation:\n\u001b[1;32m    736\u001b[0m         \u001b[38;5;28;01mreturn\u001b[39;00m \u001b[38;5;28;01mNone\u001b[39;00m\n\u001b[0;32m--> 737\u001b[0m     \u001b[38;5;28;43mself\u001b[39;49m\u001b[38;5;241;43m.\u001b[39;49m\u001b[43mcalculate\u001b[49m\u001b[43m(\u001b[49m\u001b[43matoms\u001b[49m\u001b[43m,\u001b[49m\u001b[43m \u001b[49m\u001b[43m[\u001b[49m\u001b[43mname\u001b[49m\u001b[43m]\u001b[49m\u001b[43m,\u001b[49m\u001b[43m \u001b[49m\u001b[43msystem_changes\u001b[49m\u001b[43m)\u001b[49m\n\u001b[1;32m    739\u001b[0m \u001b[38;5;28;01mif\u001b[39;00m name \u001b[38;5;129;01mnot\u001b[39;00m \u001b[38;5;129;01min\u001b[39;00m \u001b[38;5;28mself\u001b[39m\u001b[38;5;241m.\u001b[39mresults:\n\u001b[1;32m    740\u001b[0m     \u001b[38;5;66;03m# For some reason the calculator was not able to do what we want,\u001b[39;00m\n\u001b[1;32m    741\u001b[0m     \u001b[38;5;66;03m# and that is OK.\u001b[39;00m\n\u001b[1;32m    742\u001b[0m     \u001b[38;5;28;01mraise\u001b[39;00m PropertyNotImplementedError(\u001b[38;5;124m'\u001b[39m\u001b[38;5;132;01m{}\u001b[39;00m\u001b[38;5;124m not present in this \u001b[39m\u001b[38;5;124m'\u001b[39m\n\u001b[1;32m    743\u001b[0m                                       \u001b[38;5;124m'\u001b[39m\u001b[38;5;124mcalculation\u001b[39m\u001b[38;5;124m'\u001b[39m\u001b[38;5;241m.\u001b[39mformat(name))\n",
      "File \u001b[0;32m~/Documents/repos/CCS/src/ccs_fit/ase_calculator/ccs_ase_calculator.py:223\u001b[0m, in \u001b[0;36mCCS.calculate\u001b[0;34m(self, atoms, properties, system_changes)\u001b[0m\n\u001b[1;32m    220\u001b[0m                 \u001b[38;5;66;03m# print(cur_f, cur_dist, cur_stress)\u001b[39;00m\n\u001b[1;32m    221\u001b[0m                 stresses[\u001b[38;5;28mid\u001b[39m, :, :] \u001b[38;5;241m+\u001b[39m\u001b[38;5;241m=\u001b[39m cur_stress\n\u001b[0;32m--> 223\u001b[0m     energy \u001b[38;5;241m+\u001b[39m\u001b[38;5;241m=\u001b[39m \u001b[38;5;241m0.5\u001b[39m \u001b[38;5;241m*\u001b[39m \u001b[38;5;28;43msum\u001b[39;49m\u001b[43m(\u001b[49m\u001b[38;5;28;43mmap\u001b[39;49m\u001b[43m(\u001b[49m\u001b[38;5;28;43mself\u001b[39;49m\u001b[38;5;241;43m.\u001b[39;49m\u001b[43mpair\u001b[49m\u001b[43m[\u001b[49m\u001b[43mx\u001b[49m\u001b[43m \u001b[49m\u001b[38;5;241;43m+\u001b[39;49m\u001b[43m \u001b[49m\u001b[43my\u001b[49m\u001b[43m]\u001b[49m\u001b[38;5;241;43m.\u001b[39;49m\u001b[43meval_energy\u001b[49m\u001b[43m,\u001b[49m\u001b[43m \u001b[49m\u001b[43mxy_distances\u001b[49m\u001b[43m)\u001b[49m\u001b[43m)\u001b[49m\n\u001b[1;32m    225\u001b[0m \u001b[38;5;28;01mif\u001b[39;00m \u001b[38;5;28mself\u001b[39m\u001b[38;5;241m.\u001b[39mcharge:\n\u001b[1;32m    226\u001b[0m     ewa \u001b[38;5;241m=\u001b[39m ew(\u001b[38;5;28mself\u001b[39m\u001b[38;5;241m.\u001b[39matoms, \u001b[38;5;28mself\u001b[39m\u001b[38;5;241m.\u001b[39mq)\n",
      "File \u001b[0;32m~/Documents/repos/CCS/src/ccs_fit/ase_calculator/ccs_ase_calculator.py:69\u001b[0m, in \u001b[0;36mspline_table.eval_energy\u001b[0;34m(self, r)\u001b[0m\n\u001b[1;32m     68\u001b[0m \u001b[38;5;28;01mdef\u001b[39;00m \u001b[38;5;21meval_energy\u001b[39m(\u001b[38;5;28mself\u001b[39m, r):\n\u001b[0;32m---> 69\u001b[0m     index \u001b[38;5;241m=\u001b[39m \u001b[38;5;28;43mint\u001b[39;49m\u001b[43m(\u001b[49m\u001b[43mnp\u001b[49m\u001b[38;5;241;43m.\u001b[39;49m\u001b[43mfloor\u001b[49m\u001b[43m(\u001b[49m\u001b[43m(\u001b[49m\u001b[43mr\u001b[49m\u001b[43m \u001b[49m\u001b[38;5;241;43m-\u001b[39;49m\u001b[43m \u001b[49m\u001b[38;5;28;43mself\u001b[39;49m\u001b[38;5;241;43m.\u001b[39;49m\u001b[43mRmin\u001b[49m\u001b[43m)\u001b[49m\u001b[43m \u001b[49m\u001b[38;5;241;43m/\u001b[39;49m\u001b[43m \u001b[49m\u001b[38;5;28;43mself\u001b[39;49m\u001b[38;5;241;43m.\u001b[39;49m\u001b[43mdx\u001b[49m\u001b[43m)\u001b[49m\u001b[43m)\u001b[49m\n\u001b[1;32m     71\u001b[0m     \u001b[38;5;28;01mif\u001b[39;00m r \u001b[38;5;241m>\u001b[39m\u001b[38;5;241m=\u001b[39m \u001b[38;5;28mself\u001b[39m\u001b[38;5;241m.\u001b[39mRmin \u001b[38;5;129;01mand\u001b[39;00m r \u001b[38;5;241m<\u001b[39m\u001b[38;5;241m=\u001b[39m \u001b[38;5;28mself\u001b[39m\u001b[38;5;241m.\u001b[39mrcut:\n\u001b[1;32m     72\u001b[0m         dr \u001b[38;5;241m=\u001b[39m r \u001b[38;5;241m-\u001b[39m \u001b[38;5;28mself\u001b[39m\u001b[38;5;241m.\u001b[39mx[index]\n",
      "\u001b[0;31mKeyboardInterrupt\u001b[0m: "
     ]
    }
   ],
   "source": [
    "struct = read('CCS_strain.traj')\n",
    "\n",
    "CCS_calc = CCS(CCS_params=CCS_params)\n",
    "\n",
    "struct.calc = CCS_calc\n",
    "\n",
    "opt = BFGS(struct, trajectory='opt.traj')\n",
    "opt.run(fmax=0.001)"
   ]
  },
  {
   "cell_type": "code",
   "execution_count": null,
   "id": "4d72920f-6c7f-490c-bf07-46f4f7cc24f0",
   "metadata": {
    "tags": []
   },
   "outputs": [],
   "source": [
    "!ase gui CCS_strain.traj"
   ]
  },
  {
   "cell_type": "code",
   "execution_count": 6,
   "id": "f920709e-eb63-4393-8553-8a129b22a241",
   "metadata": {
    "tags": []
   },
   "outputs": [
    {
     "data": {
      "text/plain": [
       "True"
      ]
     },
     "execution_count": 6,
     "metadata": {},
     "output_type": "execute_result"
    }
   ],
   "source": [
    "# Read geometry optimized structure and run NVE Molecular dynamics \n",
    "import numpy as np\n",
    "from ase import units\n",
    "from ase.io import read, write\n",
    "from ase.io.trajectory import Trajectory\n",
    "from ase.md import MDLogger\n",
    "from ase.md.verlet import VelocityVerlet\n",
    "from ase.md.velocitydistribution import (MaxwellBoltzmannDistribution,\n",
    "                                         Stationary, ZeroRotation)\n",
    "\n",
    "dt = 0.5 * units.fs\n",
    "steps = int(300)\n",
    "MaxwellBoltzmannDistribution(struct, temperature_K=600)\n",
    "dyn = VelocityVerlet(struct, timestep=dt)\n",
    "interval = int(1)\n",
    "dyn.attach(MDLogger(dyn, struct, 'output.log', mode=\"a\"), interval=interval)\n",
    "dyn.attach(Trajectory('output.traj', 'a', struct).write, interval=interval)\n",
    "dyn.run(steps)"
   ]
  },
  {
   "cell_type": "code",
   "execution_count": 8,
   "id": "7141703f-c730-4316-89f8-f40f060f9e3e",
   "metadata": {
    "tags": []
   },
   "outputs": [],
   "source": [
    "!ase gui output.traj"
   ]
  },
  {
   "cell_type": "code",
   "execution_count": 127,
   "id": "34105646-c4dd-44ad-9a0f-e93492042ee6",
   "metadata": {
    "scrolled": true,
    "tags": []
   },
   "outputs": [
    {
     "ename": "RuntimeError",
     "evalue": "Optimal parameters not found: Number of calls to function has reached maxfev = 5000.",
     "output_type": "error",
     "traceback": [
      "\u001b[0;31m---------------------------------------------------------------------------\u001b[0m",
      "\u001b[0;31mRuntimeError\u001b[0m                              Traceback (most recent call last)",
      "Cell \u001b[0;32mIn[127], line 2\u001b[0m\n\u001b[1;32m      1\u001b[0m \u001b[38;5;28;01mfrom\u001b[39;00m \u001b[38;5;21;01mccs_fit\u001b[39;00m\u001b[38;5;21;01m.\u001b[39;00m\u001b[38;5;21;01mscripts\u001b[39;00m\u001b[38;5;21;01m.\u001b[39;00m\u001b[38;5;21;01mccs_export_FF\u001b[39;00m \u001b[38;5;28;01mimport\u001b[39;00m write_FF\n\u001b[0;32m----> 2\u001b[0m \u001b[43mwrite_FF\u001b[49m\u001b[43m(\u001b[49m\u001b[38;5;124;43m\"\u001b[39;49m\u001b[38;5;124;43mCCS_params.json\u001b[39;49m\u001b[38;5;124;43m\"\u001b[39;49m\u001b[43m)\u001b[49m\n",
      "File \u001b[0;32m~/anaconda3/envs/Tantalizing/lib/python3.9/site-packages/ccs_fit/scripts/ccs_export_FF.py:147\u001b[0m, in \u001b[0;36mwrite_FF\u001b[0;34m(CCS_params_file)\u001b[0m\n\u001b[1;32m    145\u001b[0m \u001b[38;5;28;01mfor\u001b[39;00m pair \u001b[38;5;129;01min\u001b[39;00m CCS_params[\u001b[38;5;124m\"\u001b[39m\u001b[38;5;124mTwo_body\u001b[39m\u001b[38;5;124m\"\u001b[39m]:\n\u001b[1;32m    146\u001b[0m     elem \u001b[38;5;241m=\u001b[39m pair\u001b[38;5;241m.\u001b[39msplit(\u001b[38;5;124m\"\u001b[39m\u001b[38;5;124m-\u001b[39m\u001b[38;5;124m\"\u001b[39m)\n\u001b[0;32m--> 147\u001b[0m     \u001b[43m_write\u001b[49m\u001b[43m(\u001b[49m\u001b[43melem\u001b[49m\u001b[43m[\u001b[49m\u001b[38;5;241;43m0\u001b[39;49m\u001b[43m]\u001b[49m\u001b[43m,\u001b[49m\u001b[43m \u001b[49m\u001b[43melem\u001b[49m\u001b[43m[\u001b[49m\u001b[38;5;241;43m1\u001b[39;49m\u001b[43m]\u001b[49m\u001b[43m,\u001b[49m\u001b[43m \u001b[49m\u001b[43mCCS_params\u001b[49m\u001b[43m,\u001b[49m\u001b[43m \u001b[49m\u001b[43mexp\u001b[49m\u001b[38;5;241;43m=\u001b[39;49m\u001b[38;5;28;43;01mTrue\u001b[39;49;00m\u001b[43m,\u001b[49m\u001b[43m \u001b[49m\u001b[43mf_Buck\u001b[49m\u001b[38;5;241;43m=\u001b[39;49m\u001b[43mf_Buck\u001b[49m\u001b[43m,\u001b[49m\u001b[43m \u001b[49m\u001b[43mf_LJ\u001b[49m\u001b[38;5;241;43m=\u001b[39;49m\u001b[43mf_LJ\u001b[49m\u001b[43m,\u001b[49m\u001b[43m \u001b[49m\u001b[43mf_Mor\u001b[49m\u001b[38;5;241;43m=\u001b[39;49m\u001b[43mf_Mor\u001b[49m\u001b[43m,\u001b[49m\u001b[43m \u001b[49m\u001b[43mf_Ped\u001b[49m\u001b[38;5;241;43m=\u001b[39;49m\u001b[43mf_Ped\u001b[49m\u001b[43m)\u001b[49m\n\u001b[1;32m    149\u001b[0m write_dense_spline(CCS_params_file)\n",
      "File \u001b[0;32m~/anaconda3/envs/Tantalizing/lib/python3.9/site-packages/ccs_fit/scripts/ccs_export_FF.py:78\u001b[0m, in \u001b[0;36m_write\u001b[0;34m(elem1, elem2, CCS_params, f_Buck, f_LJ, f_Mor, f_Ped, exp)\u001b[0m\n\u001b[1;32m     75\u001b[0m         spl_to_fit\u001b[38;5;241m.\u001b[39mappend(\u001b[38;5;241m0\u001b[39m)\n\u001b[1;32m     77\u001b[0m popt_Buck, pcov \u001b[38;5;241m=\u001b[39m curve_fit(Buckingham, r, spl_to_fit, maxfev\u001b[38;5;241m=\u001b[39m\u001b[38;5;241m5000\u001b[39m)\n\u001b[0;32m---> 78\u001b[0m popt_Mor, pcov \u001b[38;5;241m=\u001b[39m \u001b[43mcurve_fit\u001b[49m\u001b[43m(\u001b[49m\u001b[43mMorse\u001b[49m\u001b[43m,\u001b[49m\u001b[43m \u001b[49m\u001b[43mr\u001b[49m\u001b[43m,\u001b[49m\u001b[43m \u001b[49m\u001b[43mspl_to_fit\u001b[49m\u001b[43m,\u001b[49m\u001b[43m \u001b[49m\u001b[43mp0\u001b[49m\u001b[38;5;241;43m=\u001b[39;49m\u001b[43m[\u001b[49m\u001b[38;5;241;43m2\u001b[39;49m\u001b[43m,\u001b[49m\u001b[38;5;241;43m1\u001b[39;49m\u001b[43m,\u001b[49m\u001b[38;5;241;43m1\u001b[39;49m\u001b[43m]\u001b[49m\u001b[43m,\u001b[49m\u001b[43m \u001b[49m\u001b[43mmaxfev\u001b[49m\u001b[38;5;241;43m=\u001b[39;49m\u001b[38;5;241;43m5000\u001b[39;49m\u001b[43m)\u001b[49m\n\u001b[1;32m     79\u001b[0m popt_LJ, pcov \u001b[38;5;241m=\u001b[39m curve_fit(Lennard_Jones, r, spl_to_fit, p0\u001b[38;5;241m=\u001b[39m[\u001b[38;5;241m1\u001b[39m,\u001b[38;5;241m1\u001b[39m], maxfev\u001b[38;5;241m=\u001b[39m\u001b[38;5;241m5000\u001b[39m)\n\u001b[1;32m     80\u001b[0m popt_Ped, pcov \u001b[38;5;241m=\u001b[39m curve_fit(Pedone, r, spl_to_fit, p0\u001b[38;5;241m=\u001b[39m[popt_Mor[\u001b[38;5;241m0\u001b[39m], popt_Mor[\u001b[38;5;241m1\u001b[39m], popt_Mor[\u001b[38;5;241m2\u001b[39m], \u001b[38;5;241m1\u001b[39m], maxfev\u001b[38;5;241m=\u001b[39m\u001b[38;5;241m5000\u001b[39m)\n",
      "File \u001b[0;32m~/anaconda3/envs/Tantalizing/lib/python3.9/site-packages/scipy/optimize/_minpack_py.py:864\u001b[0m, in \u001b[0;36mcurve_fit\u001b[0;34m(f, xdata, ydata, p0, sigma, absolute_sigma, check_finite, bounds, method, jac, full_output, **kwargs)\u001b[0m\n\u001b[1;32m    862\u001b[0m     cost \u001b[38;5;241m=\u001b[39m np\u001b[38;5;241m.\u001b[39msum(infodict[\u001b[38;5;124m'\u001b[39m\u001b[38;5;124mfvec\u001b[39m\u001b[38;5;124m'\u001b[39m] \u001b[38;5;241m*\u001b[39m\u001b[38;5;241m*\u001b[39m \u001b[38;5;241m2\u001b[39m)\n\u001b[1;32m    863\u001b[0m     \u001b[38;5;28;01mif\u001b[39;00m ier \u001b[38;5;129;01mnot\u001b[39;00m \u001b[38;5;129;01min\u001b[39;00m [\u001b[38;5;241m1\u001b[39m, \u001b[38;5;241m2\u001b[39m, \u001b[38;5;241m3\u001b[39m, \u001b[38;5;241m4\u001b[39m]:\n\u001b[0;32m--> 864\u001b[0m         \u001b[38;5;28;01mraise\u001b[39;00m \u001b[38;5;167;01mRuntimeError\u001b[39;00m(\u001b[38;5;124m\"\u001b[39m\u001b[38;5;124mOptimal parameters not found: \u001b[39m\u001b[38;5;124m\"\u001b[39m \u001b[38;5;241m+\u001b[39m errmsg)\n\u001b[1;32m    865\u001b[0m \u001b[38;5;28;01melse\u001b[39;00m:\n\u001b[1;32m    866\u001b[0m     \u001b[38;5;66;03m# Rename maxfev (leastsq) to max_nfev (least_squares), if specified.\u001b[39;00m\n\u001b[1;32m    867\u001b[0m     \u001b[38;5;28;01mif\u001b[39;00m \u001b[38;5;124m'\u001b[39m\u001b[38;5;124mmax_nfev\u001b[39m\u001b[38;5;124m'\u001b[39m \u001b[38;5;129;01mnot\u001b[39;00m \u001b[38;5;129;01min\u001b[39;00m kwargs:\n",
      "\u001b[0;31mRuntimeError\u001b[0m: Optimal parameters not found: Number of calls to function has reached maxfev = 5000."
     ]
    }
   ],
   "source": []
  },
  {
   "cell_type": "code",
   "execution_count": null,
   "id": "fe5ae0df",
   "metadata": {},
   "outputs": [],
   "source": []
  }
 ],
 "metadata": {
  "kernelspec": {
   "display_name": "Tantalizing",
   "language": "python",
   "name": "tantalizing"
  },
  "language_info": {
   "codemirror_mode": {
    "name": "ipython",
    "version": 3
   },
   "file_extension": ".py",
   "mimetype": "text/x-python",
   "name": "python",
   "nbconvert_exporter": "python",
   "pygments_lexer": "ipython3",
   "version": "3.9.16"
  },
  "vscode": {
   "interpreter": {
    "hash": "f9cf24ff20edf0aae28141210fc773ab63efd2a56eb4d7d08651373a5d8a7dcd"
   }
  }
 },
 "nbformat": 4,
 "nbformat_minor": 5
}
