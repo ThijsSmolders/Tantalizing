{
 "cells": [
  {
   "cell_type": "markdown",
   "id": "74f144dd",
   "metadata": {},
   "source": [
    "# A simple, yet complete, tutorial on how use the CCS_fit module to fit two-body interactions for solid Ne"
   ]
  },
  {
   "cell_type": "code",
   "execution_count": 1,
   "id": "d88f1c57-aa71-4a19-9b6b-e9ada91bb1e6",
   "metadata": {},
   "outputs": [],
   "source": [
    "# Load in the relevant packages\n",
    "\n",
    "from ase.io import read,write\n",
    "\n",
    "import numpy as np\n",
    "import ase.db as db\n",
    "from ase.visualize import view\n",
    "from ase.calculators.lj import LennardJones\n",
    "import matplotlib.pyplot as plt\n",
    "from ase.spacegroup import get_spacegroup\n",
    "\n",
    "CIFS = [\"NiO_Supercell_1.cif\", \"NiO_Supercell_2.cif\", \"NiO_Supercell_3.cif\", \"Ni2O3_Supercell_1.cif\", \"Ni2O3_Supercell_2.cif\", \"NiO2_Supercell_1.cif\", \"NiO2_Supercell_2.cif\"]"
   ]
  },
  {
   "cell_type": "markdown",
   "id": "16cf8943-479f-4215-b40e-863f22c69e1e",
   "metadata": {},
   "source": [
    "### Generate training data\n",
    "Curvature Constrained Splines can be fitted to a reference data-set with energies (and optionally forces) of pre-calculated structures. In this example we generate the reference data-set using a Lennard-Jones potential. We use a LJ bulk structure that we randomly rattle and scale. \n"
   ]
  },
  {
   "cell_type": "code",
   "execution_count": 3,
   "id": "08462efc-3e68-413a-8f15-08d51af53223",
   "metadata": {},
   "outputs": [
    {
     "name": "stdout",
     "output_type": "stream",
     "text": [
      "Cell([[8.77452, 0.0, 0.0], [-4.387259999999999, 7.598957226014634, 0.0], [0.0, 0.0, 10.32679]])\n",
      "Cell([8.21989, 8.21989, 8.21989])\n",
      "Cell([[8.72242, 0.0, 0.0], [-4.361209999999998, 7.553837302477463, 0.0], [0.0, 0.0, 7.11127]])\n",
      "Cell([[9.46689, 0.0, 0.0], [0.0, 11.1435, 0.0], [-6.539539785404572, 0.0, 10.035461963338344]])\n",
      "Cell([8.70827, 9.70656, 14.57661])\n",
      "Cell([[8.36287, 0.0, 0.0], [-4.181434999999998, 7.242457868546768, 0.0], [0.0, 0.0, 9.25379]])\n",
      "Cell([7.94189, 7.94189, 7.94189])\n"
     ]
    }
   ],
   "source": [
    "for CIF in CIFS:\n",
    "    cif = read(CIF)\n",
    "\n",
    "    print(cif.cell)\n",
    "    \n",
    "    sg = get_spacegroup(cif)\n",
    "    sg_name = sg.symbol.replace(' ','').replace('/','_')\n",
    "\n",
    "    orig_struc = cif.copy()\n",
    "\n",
    "    displacement_magnitude=0.05\n",
    "    disp_steps=4\n",
    "    rounds=2\n",
    "    counter=0\n",
    "\n",
    "    new_name_base = \"RATTLED_STRUCTURES/\" + CIF.split(\"_\")[0] + \"_\" + sg_name\n",
    "\n",
    "    write(new_name_base + \"_pris.POSCAR\", cif)\n",
    "    for scale in np.linspace(0.95, 1.05, 5):\n",
    "        for round in range(rounds):\n",
    "            new_cell = orig_struc.get_cell()*scale\n",
    "            new_struc = orig_struc.copy()\n",
    "            new_struc.set_cell(new_cell)\n",
    "            for i in range(disp_steps):\n",
    "                rattle_struc = new_struc.copy()\n",
    "                rattle_struc.rattle(displacement_magnitude*(i+1), seed=counter)\n",
    "                \n",
    "                POS_file = new_name_base + \"_scale_\" + \"{:.3f}\".format(scale).replace(\".\",\"_\") + \"_disp_\" + \"{:.2f}\".format((i+1)*displacement_magnitude).replace(\".\",\"_\") + \"_round_\" + str(round + 1) + \".POSCAR\"\n",
    "                write(POS_file, rattle_struc)\n",
    "                counter += 1"
   ]
  },
  {
   "cell_type": "code",
   "execution_count": null,
   "id": "3061f620-ed1a-45d9-92c6-b701b58bb49b",
   "metadata": {},
   "outputs": [],
   "source": []
  }
 ],
 "metadata": {
  "kernelspec": {
   "display_name": "CCS_fit",
   "language": "python",
   "name": "ccs_fit"
  },
  "language_info": {
   "codemirror_mode": {
    "name": "ipython",
    "version": 3
   },
   "file_extension": ".py",
   "mimetype": "text/x-python",
   "name": "python",
   "nbconvert_exporter": "python",
   "pygments_lexer": "ipython3",
   "version": "3.9.15"
  },
  "vscode": {
   "interpreter": {
    "hash": "f9cf24ff20edf0aae28141210fc773ab63efd2a56eb4d7d08651373a5d8a7dcd"
   }
  }
 },
 "nbformat": 4,
 "nbformat_minor": 5
}
