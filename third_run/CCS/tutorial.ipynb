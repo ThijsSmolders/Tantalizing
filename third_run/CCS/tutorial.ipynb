{
 "cells": [
  {
   "cell_type": "markdown",
   "id": "74f144dd",
   "metadata": {},
   "source": [
    "# Building Frederike's third force field"
   ]
  },
  {
   "cell_type": "code",
   "execution_count": 1,
   "id": "d88f1c57-aa71-4a19-9b6b-e9ada91bb1e6",
   "metadata": {},
   "outputs": [],
   "source": [
    "import matplotlib.pyplot as plt\n",
    "import ase.io as io\n",
    "from ase.io import read,write\n",
    "from ase.build import bulk\n",
    "import numpy as np\n",
    "import ase.db as db\n",
    "from ase.visualize import view\n",
    "from ase.optimize import BFGS\n",
    "Fit_on_forces=False"
   ]
  },
  {
   "cell_type": "code",
   "execution_count": 2,
   "id": "997a8ae1-0fff-4a1f-a697-fe58cb51fa2b",
   "metadata": {},
   "outputs": [
    {
     "name": "stdout",
     "output_type": "stream",
     "text": [
      "/home/thism292/Documents/repos/Tantalizing/third_run/CCS\n"
     ]
    }
   ],
   "source": [
    "import os\n",
    "print(os.getcwd())"
   ]
  },
  {
   "cell_type": "markdown",
   "id": "16cf8943-479f-4215-b40e-863f22c69e1e",
   "metadata": {},
   "source": [
    "### Generate training data\n",
    "Curvature Constrained Splines can be fitted to a reference data-set with energies (and optionally forces) of pre-calculated structures. In this example we generate the reference data-set using a Lennard-Jones potential. We use a LJ bulk structure that we randomly rattle and scale. \n"
   ]
  },
  {
   "cell_type": "markdown",
   "id": "34765459-6e0a-455e-81f2-333dd7ec88a8",
   "metadata": {},
   "source": [
    "for i in {1..19}; do (mkdir \"outcar${i}\"; mv \"outcar${i}.txt\" \"outcar${i}/OUTCAR\"); done\n",
    "for i in {1..19}; do (echo \"outcar/outcar${i}\" >> data_list.txt); done\n",
    "for f in $(ls OUTCARS/); do echo \"OUTCARS/$f\" >> data_list.txt; done"
   ]
  },
  {
   "cell_type": "code",
   "execution_count": 49,
   "id": "387f54e1-dac6-4fc1-a0a9-b9ba8c045ec0",
   "metadata": {},
   "outputs": [
    {
     "name": "stderr",
     "output_type": "stream",
     "text": [
      "    Building data-bases: 100%|█████████████████████████████████████████████████████████████████████████████████████████████████████████████████████████████████████████████████████████████████████████████████████████████████| 82/82 [00:00<00:00, 105.12it/s]\n"
     ]
    }
   ],
   "source": [
    "from ccs_fit.scripts.ccs_build_db import ccs_build_db\n",
    "\n",
    "ccs_build_db(mode=\"CCS\",DFT_DB=\"DFT.db\",file_list=\"data_list.txt\",overwrite=True, greedy=False)"
   ]
  },
  {
   "cell_type": "markdown",
   "id": "bdb9cdef",
   "metadata": {},
   "source": [
    "### Generate the CCS_fit input file; structures.json\n",
    "The next commands fetch the training-set data from the ASE database containing the LJ structures and the corresponding energies. The reference data is called ``DFT_DB`` since the most common source of reference data is DFT."
   ]
  },
  {
   "cell_type": "code",
   "execution_count": 50,
   "id": "01508dd9-a761-4197-a132-114a87c0bc8b",
   "metadata": {},
   "outputs": [
    {
     "name": "stdout",
     "output_type": "stream",
     "text": [
      "id|age|user    |formula    |calculator|  energy|natoms| fmax|pbc| volume|charge|    mass| smax|magmom\n",
      " 1| 4s|thism292|Li13Ni27O54|vasp      |-574.107|    94|0.018|TTT|868.408| 0.000|2538.888|0.001| 9.359\n",
      " 2| 4s|thism292|Li17Ni27O54|vasp      |-595.854|    98|0.018|TTT|884.767| 0.000|2566.648|0.001|17.010\n",
      " 3| 4s|thism292|Li20Ni27O54|vasp      |-611.175|   101|0.013|TTT|888.860| 0.000|2587.468|0.001|20.000\n",
      " 4| 4s|thism292|Li4Ni27O54 |vasp      |-528.892|    85|0.011|TTT|856.196| 0.000|2476.428|0.000| 3.992\n",
      " 5| 4s|thism292|Li7Ni27O54 |vasp      |-545.210|    88|0.015|TTT|863.845| 0.000|2497.248|0.000| 4.935\n",
      " 6| 4s|thism292|Li18Ni27O54|vasp      |-601.983|    99|0.019|TTT|884.190| 0.000|2573.588|0.001|18.004\n",
      " 7| 4s|thism292|Li20Ni27O54|vasp      |-611.432|   101|0.014|TTT|887.953| 0.000|2587.468|0.000|19.985\n",
      " 8| 4s|thism292|Li16Ni27O54|vasp      |-591.886|    97|0.020|TTT|886.356| 0.000|2559.708|0.000|16.000\n",
      " 9| 4s|thism292|Li15Ni27O54|vasp      |-586.868|    96|0.019|TTT|887.602| 0.000|2552.768|0.000|15.000\n",
      "10| 4s|thism292|Li8Ni27O54 |vasp      |-550.365|    89|0.019|TTT|868.568| 0.000|2504.188|0.000| 3.994\n",
      "11| 4s|thism292|Li27Ni27O54|vasp      |-644.165|   108|0.018|TTT|896.047| 0.000|2636.048|0.002|26.990\n",
      "12| 4s|thism292|Li10Ni27O54|vasp      |-561.355|    91|0.020|TTT|879.434| 0.000|2518.068|0.000| 9.966\n",
      "13| 4s|thism292|Li17Ni27O54|vasp      |-596.928|    98|0.018|TTT|885.389| 0.000|2566.648|0.000|17.000\n",
      "14| 4s|thism292|Li4Ni27O54 |vasp      |-528.991|    85|0.017|TTT|854.294| 0.000|2476.428|0.000| 3.969\n",
      "15| 4s|thism292|LiNi27O54  |vasp      |-512.533|    82|0.019|TTT|841.249| 0.000|2455.608|0.001| 0.874\n",
      "16| 4s|thism292|Li24Ni27O54|vasp      |-630.232|   105|0.011|TTT|893.247| 0.000|2615.228|0.000|24.002\n",
      "17| 4s|thism292|Li5Ni27O54 |vasp      |-534.468|    86|0.017|TTT|856.667| 0.000|2483.368|0.001| 4.905\n",
      "18| 4s|thism292|Li23Ni27O54|vasp      |-625.519|   104|0.016|TTT|892.287| 0.000|2608.288|0.001|22.998\n",
      "19| 4s|thism292|Li6Ni27O54 |vasp      |-539.982|    87|0.015|TTT|860.575| 0.000|2490.308|0.000| 5.838\n",
      "20| 3s|thism292|Li19Ni27O54|vasp      |-606.705|   100|0.017|TTT|886.851| 0.000|2580.528|0.000|19.007\n",
      "Rows: 82 (showing first 20)\n",
      "Keys: PBE, key\n"
     ]
    }
   ],
   "source": [
    "!ase db DFT.db"
   ]
  },
  {
   "cell_type": "code",
   "execution_count": 51,
   "id": "e096b5f0",
   "metadata": {},
   "outputs": [
    {
     "name": "stderr",
     "output_type": "stream",
     "text": [
      "    Fetching data: 100%|\u001b[38;2;0;128;128m████████████████████████████████████████████████████████████████████████████████████████████████████████████████████████████████████████████████████████████████████████████████████████████████████████\u001b[0m| 82/82 [00:01<00:00, 55.96it/s]\u001b[0m\n"
     ]
    }
   ],
   "source": [
    "from ccs_fit.scripts.ccs_fetch import ccs_fetch\n",
    "\n",
    "ccs_fetch(mode=\"CCS\",DFT_DB=\"DFT.db\",include_forces=Fit_on_forces)"
   ]
  },
  {
   "cell_type": "markdown",
   "id": "59be3faa",
   "metadata": {},
   "source": [
    "### Fit training data to Curvature Constrained Splines\n",
    "Finally, the splines are fitted to the target defined in the structures.json input file. The splines can be restricted to be fully repulsive (\"rep\"), or have a turning point/switch (\"sw\"), which is defined by the \"Swtype\" key.\n"
   ]
  },
  {
   "cell_type": "code",
   "execution_count": 52,
   "id": "8c3ac0c1",
   "metadata": {},
   "outputs": [],
   "source": [
    "### Generate input.json file\n",
    "import json\n",
    "\n",
    "input={\n",
    "    \"General\": {\n",
    "        \"interface\": \"CCS\",\n",
    "        \"merging\"  : \"True\"\n",
    "    },\n",
    "    \"Twobody\": {\n",
    "                \"Xx-Xx\": {\n",
    "                        \"Rcut\": 6.0,\n",
    "                        \"Resolution\": 0.25,\n",
    "                        \"Swtype\": \"sw\",\n",
    "                        \"const_type\" : \"Mono\"\n",
    "                },\n",
    "                \"O-O\": {\n",
    "                        \"Rcut\": 6.0,\n",
    "                        \"Resolution\": 0.25,\n",
    "                        \"Swtype\": \"rep\",\n",
    "                        \"const_type\" : \"Mono\"\n",
    "                },\n",
    "                \"Ni-Ni\": {\n",
    "                        \"Rcut\": 6.0,\n",
    "                        \"Resolution\": 0.25,\n",
    "                        \"Swtype\": \"rep\",\n",
    "                        \"const_type\" : \"Mono\"\n",
    "                },\n",
    "                \"Li-Li\": {\n",
    "                        \"Rcut\": 6.0,\n",
    "                        \"Resolution\": 0.25,\n",
    "                        \"Swtype\": \"rep\",\n",
    "                        \"const_type\" : \"Mono\"\n",
    "                }\n",
    "        }\n",
    "}\n",
    "#SAVE TO FILE\n",
    "with open('CCS_input.json', 'w') as f:\n",
    "    json.dump(input, f, indent=8)"
   ]
  },
  {
   "cell_type": "code",
   "execution_count": 53,
   "id": "df1f9f0f",
   "metadata": {},
   "outputs": [
    {
     "name": "stdout",
     "output_type": "stream",
     "text": [
      "    Generating one-body information from training-set.\n",
      "        Added elements:  ['Li', 'Ni', 'O']\n",
      "    Generating two-body potentials from one-body information.\n",
      "    Adding pair: Li-Ni\n",
      "    Adding pair: Li-O\n",
      "    Adding pair: Ni-O\n",
      "    Applying monotonous constraints for pair:  O-O\n",
      "    Applying monotonous constraints for pair:  Ni-Ni\n",
      "    Applying monotonous constraints for pair:  Li-Li\n",
      "    Applying monotonous constraints for pair:  Li-Ni\n",
      "    Applying monotonous constraints for pair:  Li-O\n",
      "    Applying monotonous constraints for pair:  Ni-O\n",
      "    Merging intervals for pair Ni-Ni; number of intervals reduced from 16 to 12. \n",
      "    Merging intervals for pair Li-Li; number of intervals reduced from 15 to 12. \n",
      "    Merging intervals for pair Li-Ni; number of intervals reduced from 12 to 10. \n",
      "    Merging intervals for pair Li-O; number of intervals reduced from 18 to 13. \n",
      "    Merging intervals for pair Ni-O; number of intervals reduced from 19 to 16. \n",
      "    There is linear dependence in stochiometry matrix!\n",
      "    Removing onebody term: O\n"
     ]
    },
    {
     "name": "stderr",
     "output_type": "stream",
     "text": [
      "    Finding optimum switch: 100%|\u001b[38;2;128;0;128m██████████████████████████████████████████████████████████████████████████████████████████████████████████████████████████████████████████████████████████████████████████████████████████\u001b[0m| 2080/2080 [00:08<00:00, 251.55it/s]\u001b[0m"
     ]
    },
    {
     "name": "stdout",
     "output_type": "stream",
     "text": [
      "    The best switch is (17, 12, 12, 7, 12, 0) with rmse: 0.04275160815688692, corresponding to distances of [6.34 5.47 5.55 4.34 4.82 1.56] Å for element pairs ['O-O', 'Ni-Ni', 'Li-Li', 'Li-Ni', 'Li-O', 'Ni-O'].\n"
     ]
    },
    {
     "name": "stderr",
     "output_type": "stream",
     "text": [
      "\n",
      "/home/thism292/Documents/repos/CCS_fit/src/ccs_fit/fitting/spline_functions.py:321: RuntimeWarning: invalid value encountered in log\n",
      "  beta = alpha * r0 + np.log(cc / alpha**2)\n"
     ]
    }
   ],
   "source": [
    "#RUN FIT\n",
    "from ccs_fit import ccs_fit\n",
    "\n",
    "ccs_fit(\"CCS_input.json\")"
   ]
  },
  {
   "cell_type": "markdown",
   "id": "3d1f3117-cc0b-4a64-b62f-9ca57a3f0579",
   "metadata": {},
   "source": [
    "### 2nd iteration of fitting"
   ]
  },
  {
   "cell_type": "code",
   "execution_count": 54,
   "id": "dc7a2966-0d9b-40ab-90d4-cf155c134381",
   "metadata": {},
   "outputs": [],
   "source": [
    "### Generate input.json file\n",
    "import json\n",
    "\n",
    "input={\n",
    "    \"General\": {\n",
    "        \"interface\": \"CCS\",\n",
    "        \"merging\"  : \"True\"\n",
    "    },\n",
    "    \"Twobody\": {\n",
    "                \"Li-Ni\": {\n",
    "                        \"Rcut\": 6.0,\n",
    "                        \"Resolution\": 0.1,\n",
    "                        \"Swtype\": \"sw\",\n",
    "                        \"const_type\" : \"Mono\",\n",
    "                        \"search_mode\": \"full\",\n",
    "                        \"range_center\": 4.34,\n",
    "                        \"range_width\": 0.5\n",
    "                },\n",
    "                \"Li-O\": {\n",
    "                        \"Rcut\": 6.0,\n",
    "                        \"Resolution\": 0.1,\n",
    "                        \"Swtype\": \"sw\",\n",
    "                        \"const_type\" : \"Mono\",\n",
    "                        \"search_mode\": \"full\",\n",
    "                        \"range_center\": 4.82,\n",
    "                        \"range_width\": 0.5\n",
    "                },\n",
    "                \"Ni-O\": {\n",
    "                        \"Rcut\": 6.0,\n",
    "                        \"Resolution\": 0.1,\n",
    "                        \"Swtype\": \"sw\",\n",
    "                        \"const_type\" : \"Mono\",\n",
    "                        \"search_mode\": \"range\",\n",
    "                        \"range_center\": 1.56,\n",
    "                        \"range_width\": 0.5\n",
    "                },\n",
    "                \"O-O\": {\n",
    "                        \"Rcut\": 8.0,\n",
    "                        \"Resolution\": 0.1,\n",
    "                        \"Swtype\": \"sw\",\n",
    "                        \"const_type\" : \"Mono\",\n",
    "                        \"search_mode\": \"range\",\n",
    "                        \"range_center\": 5.78,\n",
    "                        \"range_width\": 0.5\n",
    "                },\n",
    "                \"Ni-Ni\": {\n",
    "                        \"Rcut\": 8.0,\n",
    "                        \"Resolution\": 0.1,\n",
    "                        \"Swtype\": \"sw\",\n",
    "                        \"const_type\" : \"Mono\",\n",
    "                        \"search_mode\": \"range\",\n",
    "                        \"range_center\": 4.1,\n",
    "                        \"range_width\": 0.5\n",
    "                },\n",
    "                \"Li-Li\": {\n",
    "                        \"Rcut\": 8.0,\n",
    "                        \"Resolution\": 0.1,\n",
    "                        \"Swtype\": \"sw\",\n",
    "                        \"const_type\" : \"Mono\",\n",
    "                        \"search_mode\": \"range\",\n",
    "                        \"range_center\": 5.02,\n",
    "                        \"range_width\": 0.5\n",
    "                }\n",
    "        }\n",
    "}\n",
    "#SAVE TO FILE\n",
    "with open('CCS_input.json', 'w') as f:\n",
    "    json.dump(input, f, indent=8)"
   ]
  },
  {
   "cell_type": "code",
   "execution_count": 55,
   "id": "73c38d09-fa8b-4445-a742-a00cea4069cc",
   "metadata": {},
   "outputs": [
    {
     "name": "stdout",
     "output_type": "stream",
     "text": [
      "    Generating one-body information from training-set.\n",
      "        Added elements:  ['Li', 'Ni', 'O']\n",
      "    Applying monotonous constraints for pair:  Li-Ni\n",
      "    Applying monotonous constraints for pair:  Li-O\n",
      "    Applying monotonous constraints for pair:  Ni-O\n",
      "    Applying monotonous constraints for pair:  O-O\n",
      "    Applying monotonous constraints for pair:  Ni-Ni\n",
      "    Applying monotonous constraints for pair:  Li-Li\n",
      "    Merging intervals for pair Li-Ni; number of intervals reduced from 27 to 18. \n",
      "    Merging intervals for pair Li-O; number of intervals reduced from 43 to 26. \n",
      "    Merging intervals for pair Ni-O; number of intervals reduced from 45 to 36. \n",
      "    Merging intervals for pair Ni-Ni; number of intervals reduced from 36 to 25. \n",
      "    Merging intervals for pair Li-Li; number of intervals reduced from 35 to 24. \n",
      "    There is linear dependence in stochiometry matrix!\n",
      "    Removing onebody term: O\n",
      "    Range search turned on for element pair Ni-O; 2 possible switch indices in range of 1.64-2.04 Å.\n",
      "    Range search turned on for element pair O-O; 5 possible switch indices in range of 5.27-6.07 Å.\n",
      "    Range search turned on for element pair Ni-Ni; 2 possible switch indices in range of 3.55-4.55 Å.\n",
      "    Range search turned on for element pair Li-Li; 5 possible switch indices in range of 4.42-5.42 Å.\n"
     ]
    },
    {
     "name": "stderr",
     "output_type": "stream",
     "text": [
      "    Finding optimum switch: 100%|\u001b[38;2;128;0;128m█████████████████████████████████████████████████████████████████████████████████████████████████████████████████████████████████████████████████████████████████████████████████████████\u001b[0m| 46800/46800 [20:10<00:00, 38.66it/s]\u001b[0m"
     ]
    },
    {
     "name": "stdout",
     "output_type": "stream",
     "text": [
      "    The best switch is (14, 25, 0, 34, 18, 22) with rmse: 0.026795148814664195, corresponding to distances of [4.07 4.39 1.64 5.57 4.35 4.82] Å for element pairs ['Li-Ni', 'Li-O', 'Ni-O', 'O-O', 'Ni-Ni', 'Li-Li'].\n"
     ]
    },
    {
     "name": "stderr",
     "output_type": "stream",
     "text": [
      "\n",
      "/home/thism292/Documents/repos/CCS_fit/src/ccs_fit/fitting/spline_functions.py:321: RuntimeWarning: invalid value encountered in log\n",
      "  beta = alpha * r0 + np.log(cc / alpha**2)\n"
     ]
    }
   ],
   "source": [
    "#RUN FIT\n",
    "from ccs_fit import ccs_fit\n",
    "\n",
    "ccs_fit(\"CCS_input.json\")"
   ]
  },
  {
   "cell_type": "code",
   "execution_count": 56,
   "id": "1af53432-6863-46bf-a481-4a1a42c19145",
   "metadata": {},
   "outputs": [],
   "source": [
    "### Generate input.json file\n",
    "import json\n",
    "\n",
    "input={\n",
    "    \"General\": {\n",
    "        \"interface\": \"CCS\",\n",
    "        \"merging\"  : \"True\"\n",
    "    },\n",
    "    \"Twobody\": {\n",
    "                \"Li-Ni\": {\n",
    "                        \"Rcut\": 6.0,\n",
    "                        \"Resolution\": 0.1,\n",
    "                        \"Swtype\": \"sw\",\n",
    "                        \"const_type\" : \"Mono\",\n",
    "                        \"search_mode\": \"range\",\n",
    "                        \"range_center\": 4.07,\n",
    "                        \"range_width\": 0.5\n",
    "                },\n",
    "                \"Li-O\": {\n",
    "                        \"Rcut\": 6.0,\n",
    "                        \"Resolution\": 0.1,\n",
    "                        \"Swtype\": \"sw\",\n",
    "                        \"const_type\" : \"Mono\",\n",
    "                        \"search_mode\": \"range\",\n",
    "                        \"range_center\": 4.39,\n",
    "                        \"range_width\": 0.5\n",
    "                },\n",
    "                \"Ni-O\": {\n",
    "                        \"Rcut\": 6.0,\n",
    "                        \"Resolution\": 0.1,\n",
    "                        \"Swtype\": \"sw\",\n",
    "                        \"const_type\" : \"Mono\",\n",
    "                        \"search_mode\": \"range\",\n",
    "                        \"range_center\": 1.64,\n",
    "                        \"range_width\": 0.5\n",
    "                },\n",
    "                \"O-O\": {\n",
    "                        \"Rcut\": 8.0,\n",
    "                        \"Resolution\": 0.1,\n",
    "                        \"Swtype\": \"sw\",\n",
    "                        \"const_type\" : \"Mono\",\n",
    "                        \"search_mode\": \"range\",\n",
    "                        \"range_center\": 5.57,\n",
    "                        \"range_width\": 0.1\n",
    "                },\n",
    "                \"Ni-Ni\": {\n",
    "                        \"Rcut\": 8.0,\n",
    "                        \"Resolution\": 0.1,\n",
    "                        \"Swtype\": \"sw\",\n",
    "                        \"const_type\" : \"Mono\",\n",
    "                        \"search_mode\": \"range\",\n",
    "                        \"range_center\": 4.35,\n",
    "                        \"range_width\": 0.1\n",
    "                },\n",
    "                \"Li-Li\": {\n",
    "                        \"Rcut\": 8.0,\n",
    "                        \"Resolution\": 0.1,\n",
    "                        \"Swtype\": \"sw\",\n",
    "                        \"const_type\" : \"Mono\",\n",
    "                        \"search_mode\": \"range\",\n",
    "                        \"range_center\": 4.82,\n",
    "                        \"range_width\": 0.1\n",
    "                }\n",
    "        }\n",
    "}\n",
    "#SAVE TO FILE\n",
    "with open('CCS_input.json', 'w') as f:\n",
    "    json.dump(input, f, indent=8)"
   ]
  },
  {
   "cell_type": "code",
   "execution_count": 57,
   "id": "15d03f11-b515-4372-a616-8fadc4fc0bd7",
   "metadata": {},
   "outputs": [
    {
     "name": "stdout",
     "output_type": "stream",
     "text": [
      "    Generating one-body information from training-set.\n",
      "        Added elements:  ['Li', 'Ni', 'O']\n",
      "    Applying monotonous constraints for pair:  Li-Ni\n",
      "    Applying monotonous constraints for pair:  Li-O\n",
      "    Applying monotonous constraints for pair:  Ni-O\n",
      "    Applying monotonous constraints for pair:  O-O\n",
      "    Applying monotonous constraints for pair:  Ni-Ni\n",
      "    Applying monotonous constraints for pair:  Li-Li\n",
      "    Merging intervals for pair Li-Ni; number of intervals reduced from 27 to 18. \n",
      "    Merging intervals for pair Li-O; number of intervals reduced from 43 to 26. \n",
      "    Merging intervals for pair Ni-O; number of intervals reduced from 45 to 36. \n",
      "    Merging intervals for pair Ni-Ni; number of intervals reduced from 36 to 25. \n",
      "    Merging intervals for pair Li-Li; number of intervals reduced from 35 to 24. \n",
      "    There is linear dependence in stochiometry matrix!\n",
      "    Removing onebody term: O\n",
      "    Range search turned on for element pair Li-Ni; 5 possible switch indices in range of 3.57-4.57 Å.\n",
      "    Range search turned on for element pair Li-O; 5 possible switch indices in range of 3.79-4.79 Å.\n",
      "    Range search turned on for element pair Ni-O; 3 possible switch indices in range of 1.64-2.14 Å.\n",
      "    Range search turned on for element pair O-O; 1 possible switch indices in range of 5.47-5.67 Å.\n",
      "    Range search turned on for element pair Ni-Ni; 1 possible switch indices in range of 4.25-4.45 Å.\n",
      "    Range search turned on for element pair Li-Li; 1 possible switch indices in range of 4.62-4.82 Å.\n"
     ]
    },
    {
     "name": "stderr",
     "output_type": "stream",
     "text": [
      "    Finding optimum switch: 100%|\u001b[38;2;128;0;128m███████████████████████████████████████████████████████████████████████████████████████████████████████████████████████████████████████████████████████████████████████████████████████████████\u001b[0m| 75/75 [00:01<00:00, 41.06it/s]\u001b[0m\n"
     ]
    },
    {
     "name": "stdout",
     "output_type": "stream",
     "text": [
      "    The best switch is (14, 25, 2, 34, 18, 22) with rmse: 0.02673836195431575, corresponding to distances of [4.07 4.39 1.84 5.57 4.35 4.82] Å for element pairs ['Li-Ni', 'Li-O', 'Ni-O', 'O-O', 'Ni-Ni', 'Li-Li'].\n"
     ]
    }
   ],
   "source": [
    "#RUN FIT\n",
    "from ccs_fit import ccs_fit\n",
    "\n",
    "ccs_fit(\"CCS_input.json\")"
   ]
  },
  {
   "cell_type": "code",
   "execution_count": 60,
   "id": "c5bc0105-8ad0-4ebf-8293-06a841a2b916",
   "metadata": {},
   "outputs": [],
   "source": [
    "### Generate input.json file\n",
    "import json\n",
    "\n",
    "input={\n",
    "    \"General\": {\n",
    "        \"interface\": \"CCS\",\n",
    "        \"merging\"  : \"True\"\n",
    "    },\n",
    "    \"Twobody\": {\n",
    "                \"Li-Ni\": {\n",
    "                        \"Rcut\": 6.0,\n",
    "                        \"Resolution\": 0.02,\n",
    "                        \"Swtype\": \"sw\",\n",
    "                        \"const_type\" : \"Mono\",\n",
    "                        \"search_mode\": \"range\",\n",
    "                        \"range_center\": 4.07,\n",
    "                        \"range_width\": 0.1\n",
    "                },\n",
    "                \"Li-O\": {\n",
    "                        \"Rcut\": 6.0,\n",
    "                        \"Resolution\": 0.02,\n",
    "                        \"Swtype\": \"sw\",\n",
    "                        \"const_type\" : \"Mono\",\n",
    "                        \"search_mode\": \"range\",\n",
    "                        \"range_center\": 4.39,\n",
    "                        \"range_width\": 0.1\n",
    "                },\n",
    "                \"Ni-O\": {\n",
    "                        \"Rcut\": 6.0,\n",
    "                        \"Resolution\": 0.02,\n",
    "                        \"Swtype\": \"sw\",\n",
    "                        \"const_type\" : \"Mono\",\n",
    "                        \"search_mode\": \"range\",\n",
    "                        \"range_center\": 1.84,\n",
    "                        \"range_width\": 0.2\n",
    "                },\n",
    "                \"O-O\": {\n",
    "                        \"Rcut\": 8.0,\n",
    "                        \"Resolution\": 0.02,\n",
    "                        \"Swtype\": \"sw\",\n",
    "                        \"const_type\" : \"Mono\",\n",
    "                        \"search_mode\": \"point\",\n",
    "                        \"search_points\": [5.57],\n",
    "                        \"range_width\": 0.1\n",
    "                },\n",
    "                \"Ni-Ni\": {\n",
    "                        \"Rcut\": 8.0,\n",
    "                        \"Resolution\": 0.02,\n",
    "                        \"Swtype\": \"sw\",\n",
    "                        \"const_type\" : \"Mono\",\n",
    "                        \"search_mode\": \"point\",\n",
    "                        \"search_points\": [4.35],\n",
    "                        \"range_width\": 0.1\n",
    "                },\n",
    "                \"Li-Li\": {\n",
    "                        \"Rcut\": 8.0,\n",
    "                        \"Resolution\": 0.02,\n",
    "                        \"Swtype\": \"sw\",\n",
    "                        \"const_type\" : \"Mono\",\n",
    "                        \"search_mode\": \"point\",\n",
    "                        \"search_points\": [4.82],\n",
    "                        \"range_width\": 0.1\n",
    "                }\n",
    "        }\n",
    "}\n",
    "#SAVE TO FILE\n",
    "with open('CCS_input.json', 'w') as f:\n",
    "    json.dump(input, f, indent=8)"
   ]
  },
  {
   "cell_type": "code",
   "execution_count": 61,
   "id": "9788a70b-520a-4d0f-90d0-7969fee105c3",
   "metadata": {},
   "outputs": [
    {
     "name": "stdout",
     "output_type": "stream",
     "text": [
      "    Generating one-body information from training-set.\n",
      "        Added elements:  ['Li', 'Ni', 'O']\n",
      "    Applying monotonous constraints for pair:  Li-Ni\n",
      "    Applying monotonous constraints for pair:  Li-O\n",
      "    Applying monotonous constraints for pair:  Ni-O\n",
      "    Applying monotonous constraints for pair:  O-O\n",
      "    Applying monotonous constraints for pair:  Ni-Ni\n",
      "    Applying monotonous constraints for pair:  Li-Li\n",
      "    Merging intervals for pair Li-Ni; number of intervals reduced from 125 to 73. \n",
      "    Merging intervals for pair Li-O; number of intervals reduced from 205 to 104. \n",
      "    Merging intervals for pair Ni-O; number of intervals reduced from 218 to 162. \n",
      "    Merging intervals for pair O-O; number of intervals reduced from 191 to 190. \n",
      "    Merging intervals for pair Ni-Ni; number of intervals reduced from 172 to 104. \n",
      "    Merging intervals for pair Li-Li; number of intervals reduced from 168 to 109. \n",
      "    There is linear dependence in stochiometry matrix!\n",
      "    Removing onebody term: O\n",
      "    Range search turned on for element pair Li-Ni; 5 possible switch indices in range of 3.97-4.17 Å.\n",
      "    Range search turned on for element pair Li-O; 5 possible switch indices in range of 4.27-4.47 Å.\n",
      "    Range search turned on for element pair Ni-O; 10 possible switch indices in range of 1.68-2.04 Å.\n",
      "    Switch points located at [5.59] Å to for element pair O-O based on point search.\n",
      "    Switch points located at [4.39] Å to for element pair Ni-Ni based on point search.\n",
      "    Switch points located at [4.82] Å to for element pair Li-Li based on point search.\n"
     ]
    },
    {
     "name": "stderr",
     "output_type": "stream",
     "text": [
      "    Finding optimum switch: 100%|\u001b[38;2;128;0;128m█████████████████████████████████████████████████████████████████████████████████████████████████████████████████████████████████████████████████████████████████████████████████████████████\u001b[0m| 250/250 [01:24<00:00,  2.96it/s]\u001b[0m\n"
     ]
    },
    {
     "name": "stdout",
     "output_type": "stream",
     "text": [
      "    The best switch is (66, 121, 9, 169, 90, 108) with rmse: 0.021869156362329115, corresponding to distances of [4.03 4.35 1.86 5.59 4.39 4.82] Å for element pairs ['Li-Ni', 'Li-O', 'Ni-O', 'O-O', 'Ni-Ni', 'Li-Li'].\n"
     ]
    }
   ],
   "source": [
    "#RUN FIT\n",
    "from ccs_fit import ccs_fit\n",
    "\n",
    "ccs_fit(\"CCS_input.json\")"
   ]
  },
  {
   "cell_type": "markdown",
   "id": "2ce06ae5",
   "metadata": {},
   "source": [
    "### Validate your potential\n",
    "Make sure your potential (at least) reproduce the data points in your training-set. Performin further tests on strucutres not included in the training-set is recomended but not included in the tutorial."
   ]
  },
  {
   "cell_type": "code",
   "execution_count": 1,
   "id": "7e429885",
   "metadata": {},
   "outputs": [
    {
     "name": "stderr",
     "output_type": "stream",
     "text": [
      "  0%|\u001b[38;2;128;0;0m                                                                                                                                                                                                                                    \u001b[0m| 0/82 [00:00<?, ?it/s]\u001b[0m/home/thism292/anaconda3/envs/CCS_fit/lib/python3.9/site-packages/ase/utils/__init__.py:62: FutureWarning: Please use atoms.cell.rank instead\n",
      "  warnings.warn(warning)\n",
      "100%|\u001b[38;2;128;0;0m███████████████████████████████████████████████████████████████████████████████████████████████████████████████████████████████████████████████████████████████████████████████████████████████████████████████████████████\u001b[0m| 82/82 [00:08<00:00,  9.27it/s]\u001b[0m\n"
     ]
    }
   ],
   "source": [
    "from ccs_fit.scripts.ccs_validate import ccs_validate\n",
    "ccs_validate(mode=\"CCS\",CCS_params=\"CCS_params.json\",DFT_DB=\"DFT.db\")"
   ]
  },
  {
   "cell_type": "code",
   "execution_count": 63,
   "id": "26234bd3",
   "metadata": {},
   "outputs": [
    {
     "data": {
      "image/png": "[encoded data removed]",
      "text/plain": [
       "<Figure size 640x480 with 1 Axes>"
      ]
     },
     "metadata": {},
     "output_type": "display_data"
    },
    {
     "data": {
      "image/png": "[encoded data removed]",
      "text/plain": [
       "<Figure size 640x480 with 1 Axes>"
      ]
     },
     "metadata": {},
     "output_type": "display_data"
    }
   ],
   "source": [
    "try:\n",
    "    err=np.loadtxt(\"CCS_validate.dat\")\n",
    "    plt.xlabel('Reference energy (eV)')\n",
    "    plt.ylabel('Validation energy (eV)')\n",
    "    plt.plot( [min(err[:,0]),max(err[:,0])],[min(err[:,0]),max(err[:,0])],'--',color='black'  )\n",
    "    plt.scatter(err[:,0],err[:,1],facecolors='none', edgecolors='red')\n",
    "    plt.show()\n",
    "    plt.xlabel('Reference energy (eV)')\n",
    "    plt.ylabel('Error in fit (eV)')\n",
    "    plt.scatter(err[:,0],err[:,2],facecolors='none', edgecolors='red')\n",
    "    plt.show()\n",
    "except:\n",
    "    pass"
   ]
  },
  {
   "cell_type": "markdown",
   "id": "34edf9a9",
   "metadata": {},
   "source": [
    "### Cleaning up"
   ]
  },
  {
   "cell_type": "code",
   "execution_count": 11,
   "id": "6b63718b",
   "metadata": {},
   "outputs": [],
   "source": [
    "# import glob\n",
    "\n",
    "# def rm(file):\n",
    "#     try:\n",
    "#         os.remove(file)\n",
    "#     except OSError:\n",
    "#         pass\n",
    "\n",
    "\n",
    "# list=glob.glob(\"CALCULATED_DATA/*\")\n",
    "# for file in list:\n",
    "#     rm(file)\n",
    "# list=glob.glob(\"CCS_*\")\n",
    "# for file in list:\n",
    "#     rm(file)\n",
    "# list=glob.glob(\"UNC_*\")\n",
    "# for file in list:\n",
    "#     rm(file)\n",
    "# rm(\"structures.json\")\n",
    "# rm(\"file_list\")\n",
    "# rm(\"LJ.db\")"
   ]
  },
  {
   "cell_type": "markdown",
   "id": "1bb3295f-817b-4618-b63d-e019598b2a46",
   "metadata": {},
   "source": [
    "### Convex hull"
   ]
  },
  {
   "cell_type": "code",
   "execution_count": 64,
   "id": "291f7065-302e-4605-80fa-d8dd4c16137a",
   "metadata": {
    "tags": []
   },
   "outputs": [
    {
     "name": "stdout",
     "output_type": "stream",
     "text": [
      "Ni27O54\n",
      "Li27Ni27O54\n"
     ]
    }
   ],
   "source": [
    "struct_no_Li = io.read('DFT.db@21')\n",
    "struct_full_Li = io.read('DFT.db@10')\n",
    "\n",
    "nrg_0 = struct_no_Li.get_potential_energy()\n",
    "nrg_1 = struct_full_Li.get_potential_energy()\n",
    "\n",
    "print(struct_no_Li.get_chemical_formula())\n",
    "print(struct_full_Li.get_chemical_formula())"
   ]
  },
  {
   "cell_type": "code",
   "execution_count": 65,
   "id": "779408c2-46fc-4f36-8065-4a9b4c993a5d",
   "metadata": {},
   "outputs": [
    {
     "data": {
      "text/plain": [
       "Text(0, 0.5, 'Energy')"
      ]
     },
     "execution_count": 65,
     "metadata": {},
     "output_type": "execute_result"
    },
    {
     "data": {
      "image/png": "[encoded data removed]",
      "text/plain": [
       "<Figure size 640x480 with 1 Axes>"
      ]
     },
     "metadata": {},
     "output_type": "display_data"
    }
   ],
   "source": [
    "# CCS\n",
    "from ccs_fit.ase_calculator.ccs_ase_calculator import CCS \n",
    "from ase import io\n",
    "import json\n",
    "import ase.db as db\n",
    "import matplotlib.pyplot as plt\n",
    "\n",
    "with open(\"CCS_params.json\", 'r') as f:\n",
    "    CCS_params = json.load(f)\n",
    "\n",
    "nrg_Li = CCS_params['One_body']['Li']\n",
    "    \n",
    "CCS_calc=CCS(CCS_params=CCS_params)\n",
    "    \n",
    "DFT_DB = db.connect('DFT.db')\n",
    "    \n",
    "xs = []\n",
    "CCS_nrgs = []\n",
    "\n",
    "i = 0\n",
    "\n",
    "struct_no_Li_CCS = struct_no_Li.copy()\n",
    "struct_full_Li_CCS = struct_full_Li.copy()\n",
    "\n",
    "struct_no_Li_CCS.calc = CCS_calc\n",
    "struct_full_Li_CCS.calc = CCS_calc\n",
    "\n",
    "ECCS_no_Li = struct_no_Li_CCS.get_potential_energy()\n",
    "ECCS_full_Li = struct_full_Li_CCS.get_potential_energy()\n",
    "\n",
    "for row in DFT_DB.select():\n",
    "    structure = row.toatoms()\n",
    "    # print(structure.get_magnetic_moments())\n",
    "    elems = structure.get_chemical_symbols()\n",
    "    nr_Li = elems.count('Li')\n",
    "    nr_Ni = elems.count('Ni')\n",
    "    x = nr_Li/nr_Ni\n",
    "    EDFT = structure.get_potential_energy()\n",
    "    structure.calc = CCS_calc\n",
    "    ECCS = structure.get_potential_energy() - (ECCS_no_Li) - (ECCS_full_Li-ECCS_no_Li)/27*nr_Li\n",
    "    xs.append(x)\n",
    "    CCS_nrgs.append(ECCS)\n",
    "    i += 1\n",
    "\n",
    "plt.ylim(-5, 0.2)\n",
    "plt.scatter(xs, CCS_nrgs)\n",
    "plt.xlabel(\"Li concentration\")\n",
    "plt.ylabel(\"Energy\")"
   ]
  },
  {
   "cell_type": "code",
   "execution_count": 66,
   "id": "4d6039ac-2120-4fb5-8463-749d3d8d5b6a",
   "metadata": {},
   "outputs": [
    {
     "data": {
      "text/plain": [
       "Text(0, 0.5, 'Energy')"
      ]
     },
     "execution_count": 66,
     "metadata": {},
     "output_type": "execute_result"
    },
    {
     "data": {
      "image/png": "[encoded data removed]",
      "text/plain": [
       "<Figure size 640x480 with 1 Axes>"
      ]
     },
     "metadata": {},
     "output_type": "display_data"
    }
   ],
   "source": [
    "# CCS\n",
    "from ccs_fit.ase_calculator.ccs_ase_calculator import CCS \n",
    "from ase import io\n",
    "import json\n",
    "import ase.db as db\n",
    "\n",
    "with open(\"CCS_params.json\", 'r') as f:\n",
    "    CCS_params = json.load(f)\n",
    "\n",
    "nrg_Li = CCS_params['One_body']['Li']\n",
    "    \n",
    "CCS_calc=CCS(CCS_params=CCS_params)\n",
    "    \n",
    "DFT_DB = db.connect('DFT.db')\n",
    "    \n",
    "xs = []\n",
    "DFT_nrgs = []\n",
    "\n",
    "i = 0\n",
    "\n",
    "for row in DFT_DB.select():\n",
    "    structure = row.toatoms()\n",
    "    # print(i)\n",
    "    # print(dir(structure))\n",
    "    # print(structure.get_magnetic_moment())\n",
    "    elems = structure.get_chemical_symbols()\n",
    "    nr_Li = elems.count('Li')\n",
    "    nr_Ni = elems.count('Ni')\n",
    "    x = nr_Li/nr_Ni\n",
    "    EDFT = structure.get_potential_energy() - (nrg_0) - (nrg_1-nrg_0)/27*nr_Li\n",
    "    xs.append(x)\n",
    "    DFT_nrgs.append(EDFT)\n",
    "    i += 1\n",
    "\n",
    "plt.ylim(-5, 0.2)\n",
    "plt.scatter(xs, DFT_nrgs)\n",
    "plt.xlabel(\"Li concentration\")\n",
    "plt.ylabel(\"Energy\")"
   ]
  },
  {
   "cell_type": "code",
   "execution_count": 36,
   "id": "cb61cdcf-733a-4d22-8952-f451493a387b",
   "metadata": {},
   "outputs": [
    {
     "name": "stdout",
     "output_type": "stream",
     "text": [
      "Ni27O54\n"
     ]
    }
   ],
   "source": [
    "print(io.read('DFT.db@80').get_chemical_formula())"
   ]
  },
  {
   "cell_type": "code",
   "execution_count": 70,
   "id": "3131a848-f375-41c5-9cf7-d437aafb698a",
   "metadata": {},
   "outputs": [
    {
     "name": "stdout",
     "output_type": "stream",
     "text": [
      "      Step     Time          Energy         fmax\n",
      "BFGS:    0 10:41:34    -5153.287470        0.5704\n",
      "BFGS:    1 10:41:35    -5154.924206        0.3601\n",
      "BFGS:    2 10:41:37    -5156.018157        0.0039\n",
      "BFGS:    3 10:41:39    -5156.018284        0.0001\n"
     ]
    },
    {
     "data": {
      "text/plain": [
       "True"
      ]
     },
     "execution_count": 70,
     "metadata": {},
     "output_type": "execute_result"
    }
   ],
   "source": [
    "from ase.optimize import BFGS\n",
    "from ccs_fit.ase_calculator.ccs_ase_calculator import CCS\n",
    "from tqdm import tqdm\n",
    "from ase import io\n",
    "\n",
    "struct = io.read('DFT.db@10')\n",
    "\n",
    "struct = struct * [2,2,2]\n",
    "\n",
    "CCS_calc = CCS(CCS_params=CCS_params)\n",
    "\n",
    "# struct.rattle(0.05)\n",
    "struct.calc = CCS_calc\n",
    "\n",
    "opt = BFGS(struct, trajectory='opt.traj')\n",
    "opt.run(fmax=0.0001)"
   ]
  },
  {
   "cell_type": "code",
   "execution_count": 71,
   "id": "4d72920f-6c7f-490c-bf07-46f4f7cc24f0",
   "metadata": {
    "tags": []
   },
   "outputs": [
    {
     "name": "stdout",
     "output_type": "stream",
     "text": [
      "Traceback (most recent call last):\n",
      "  File \"/usr/lib/python3.10/runpy.py\", line 196, in _run_module_as_main\n",
      "    return _run_code(code, main_globals, None,\n",
      "  File \"/usr/lib/python3.10/runpy.py\", line 86, in _run_code\n",
      "    exec(code, run_globals)\n",
      "  File \"/home/thism292/.local/lib/python3.10/site-packages/ase/gui/pipe.py\", line 32, in <module>\n",
      "    main()\n",
      "  File \"/home/thism292/.local/lib/python3.10/site-packages/ase/gui/pipe.py\", line 19, in main\n",
      "    make_plot(show=False, *data)\n",
      "  File \"/home/thism292/.local/lib/python3.10/site-packages/ase/gui/graphs.py\", line 78, in make_plot\n",
      "    plt.figure(figsize=(basesize * 2.5**0.5, basesize))\n",
      "  File \"/home/thism292/.local/lib/python3.10/site-packages/matplotlib/_api/deprecation.py\", line 454, in wrapper\n",
      "    return func(*args, **kwargs)\n",
      "  File \"/home/thism292/.local/lib/python3.10/site-packages/matplotlib/pyplot.py\", line 783, in figure\n",
      "    manager = new_figure_manager(\n",
      "  File \"/home/thism292/.local/lib/python3.10/site-packages/matplotlib/pyplot.py\", line 358, in new_figure_manager\n",
      "    _warn_if_gui_out_of_main_thread()\n",
      "  File \"/home/thism292/.local/lib/python3.10/site-packages/matplotlib/pyplot.py\", line 336, in _warn_if_gui_out_of_main_thread\n",
      "    if _get_required_interactive_framework(_get_backend_mod()):\n",
      "  File \"/home/thism292/.local/lib/python3.10/site-packages/matplotlib/pyplot.py\", line 207, in _get_backend_mod\n",
      "    switch_backend(dict.__getitem__(rcParams, \"backend\"))\n",
      "  File \"/home/thism292/.local/lib/python3.10/site-packages/matplotlib/pyplot.py\", line 265, in switch_backend\n",
      "    backend_mod = importlib.import_module(\n",
      "  File \"/usr/lib/python3.10/importlib/__init__.py\", line 126, in import_module\n",
      "    return _bootstrap._gcd_import(name[level:], package, level)\n",
      "  File \"<frozen importlib._bootstrap>\", line 1050, in _gcd_import\n",
      "  File \"<frozen importlib._bootstrap>\", line 1027, in _find_and_load\n",
      "  File \"<frozen importlib._bootstrap>\", line 992, in _find_and_load_unlocked\n",
      "  File \"<frozen importlib._bootstrap>\", line 241, in _call_with_frames_removed\n",
      "  File \"<frozen importlib._bootstrap>\", line 1050, in _gcd_import\n",
      "  File \"<frozen importlib._bootstrap>\", line 1027, in _find_and_load\n",
      "  File \"<frozen importlib._bootstrap>\", line 1004, in _find_and_load_unlocked\n",
      "ModuleNotFoundError: No module named 'matplotlib_inline'\n"
     ]
    }
   ],
   "source": [
    "!ase gui opt.traj"
   ]
  },
  {
   "cell_type": "code",
   "execution_count": 72,
   "id": "f920709e-eb63-4393-8553-8a129b22a241",
   "metadata": {
    "tags": []
   },
   "outputs": [
    {
     "data": {
      "text/plain": [
       "True"
      ]
     },
     "execution_count": 72,
     "metadata": {},
     "output_type": "execute_result"
    }
   ],
   "source": [
    "# Read geometry optimized structure and run NVE Molecular dynamics \n",
    "import numpy as np\n",
    "from ase import units\n",
    "from ase.io import read, write\n",
    "from ase.io.trajectory import Trajectory\n",
    "from ase.md import MDLogger\n",
    "from ase.md.verlet import VelocityVerlet\n",
    "\n",
    "dt = 0.5 * units.fs\n",
    "steps = int(300)\n",
    "dyn = VelocityVerlet(struct, timestep=dt)\n",
    "interval = int(1)\n",
    "dyn.attach(MDLogger(dyn, struct, 'output.log', mode=\"a\"), interval=interval)\n",
    "dyn.attach(Trajectory('output.traj', 'a', struct).write, interval=interval)\n",
    "dyn.run(steps)"
   ]
  },
  {
   "cell_type": "code",
   "execution_count": 73,
   "id": "7141703f-c730-4316-89f8-f40f060f9e3e",
   "metadata": {
    "tags": []
   },
   "outputs": [
    {
     "name": "stdout",
     "output_type": "stream",
     "text": [
      "Traceback (most recent call last):\n",
      "  File \"/usr/lib/python3.10/runpy.py\", line 196, in _run_module_as_main\n",
      "    return _run_code(code, main_globals, None,\n",
      "  File \"/usr/lib/python3.10/runpy.py\", line 86, in _run_code\n",
      "    exec(code, run_globals)\n",
      "  File \"/home/thism292/.local/lib/python3.10/site-packages/ase/gui/pipe.py\", line 32, in <module>\n",
      "    main()\n",
      "  File \"/home/thism292/.local/lib/python3.10/site-packages/ase/gui/pipe.py\", line 19, in main\n",
      "    make_plot(show=False, *data)\n",
      "  File \"/home/thism292/.local/lib/python3.10/site-packages/ase/gui/graphs.py\", line 78, in make_plot\n",
      "    plt.figure(figsize=(basesize * 2.5**0.5, basesize))\n",
      "  File \"/home/thism292/.local/lib/python3.10/site-packages/matplotlib/_api/deprecation.py\", line 454, in wrapper\n",
      "    return func(*args, **kwargs)\n",
      "  File \"/home/thism292/.local/lib/python3.10/site-packages/matplotlib/pyplot.py\", line 783, in figure\n",
      "    manager = new_figure_manager(\n",
      "  File \"/home/thism292/.local/lib/python3.10/site-packages/matplotlib/pyplot.py\", line 358, in new_figure_manager\n",
      "    _warn_if_gui_out_of_main_thread()\n",
      "  File \"/home/thism292/.local/lib/python3.10/site-packages/matplotlib/pyplot.py\", line 336, in _warn_if_gui_out_of_main_thread\n",
      "    if _get_required_interactive_framework(_get_backend_mod()):\n",
      "  File \"/home/thism292/.local/lib/python3.10/site-packages/matplotlib/pyplot.py\", line 207, in _get_backend_mod\n",
      "    switch_backend(dict.__getitem__(rcParams, \"backend\"))\n",
      "  File \"/home/thism292/.local/lib/python3.10/site-packages/matplotlib/pyplot.py\", line 265, in switch_backend\n",
      "    backend_mod = importlib.import_module(\n",
      "  File \"/usr/lib/python3.10/importlib/__init__.py\", line 126, in import_module\n",
      "    return _bootstrap._gcd_import(name[level:], package, level)\n",
      "  File \"<frozen importlib._bootstrap>\", line 1050, in _gcd_import\n",
      "  File \"<frozen importlib._bootstrap>\", line 1027, in _find_and_load\n",
      "  File \"<frozen importlib._bootstrap>\", line 992, in _find_and_load_unlocked\n",
      "  File \"<frozen importlib._bootstrap>\", line 241, in _call_with_frames_removed\n",
      "  File \"<frozen importlib._bootstrap>\", line 1050, in _gcd_import\n",
      "  File \"<frozen importlib._bootstrap>\", line 1027, in _find_and_load\n",
      "  File \"<frozen importlib._bootstrap>\", line 1004, in _find_and_load_unlocked\n",
      "ModuleNotFoundError: No module named 'matplotlib_inline'\n"
     ]
    }
   ],
   "source": [
    "!ase gui output.traj"
   ]
  },
  {
   "cell_type": "code",
   "execution_count": 11,
   "id": "5a1203b4-384e-41b6-9fb1-c8c0cb7f02b1",
   "metadata": {},
   "outputs": [
    {
     "name": "stdout",
     "output_type": "stream",
     "text": [
      "      Step     Time          Energy         fmax\n",
      "BFGS:    0 11:50:33     -644.160934      168.2128\n",
      "BFGS:    1 11:50:34     -618.307712      962.7039\n",
      "BFGS:    2 11:50:34     -641.370457      926.0122\n",
      "BFGS:    3 11:50:34     -685.457270      263.6745\n",
      "BFGS:    4 11:50:34     -690.714326      131.0993\n",
      "BFGS:    5 11:50:34     -692.776762      186.1767\n",
      "BFGS:    6 11:50:34     -697.762451      114.1498\n",
      "BFGS:    7 11:50:34     -698.306111      100.1626\n",
      "BFGS:    8 11:50:34     -696.740793      144.2429\n",
      "BFGS:    9 11:50:34     -695.369286      255.7066\n",
      "BFGS:   10 11:50:34     -699.528439       83.4098\n",
      "BFGS:   11 11:50:34     -700.385711       36.2512\n",
      "BFGS:   12 11:50:34     -695.830411      117.7843\n",
      "BFGS:   13 11:50:35     -700.866373       14.1685\n",
      "BFGS:   14 11:50:35     -699.328262       54.9023\n",
      "BFGS:   15 11:50:35     -700.970581       11.5703\n",
      "BFGS:   16 11:50:35     -700.853850       17.6003\n",
      "BFGS:   17 11:50:35     -701.008541        9.1961\n",
      "BFGS:   18 11:50:35     -701.010223        6.6111\n",
      "BFGS:   19 11:50:35     -701.024606        2.3253\n",
      "BFGS:   20 11:50:35     -701.025194        2.0027\n",
      "BFGS:   21 11:50:35     -701.025534        0.3697\n",
      "BFGS:   22 11:50:35     -701.025560        0.0486\n",
      "BFGS:   23 11:50:35     -701.025561        0.0166\n",
      "BFGS:   24 11:50:35     -701.025561        0.0058\n",
      "BFGS:   25 11:50:36     -701.025561        0.0001\n"
     ]
    },
    {
     "data": {
      "text/plain": [
       "True"
      ]
     },
     "execution_count": 11,
     "metadata": {},
     "output_type": "execute_result"
    }
   ],
   "source": [
    "## Stresses not currently implemented in ccs_fit yet!\n",
    "from ase import io\n",
    "from ase.constraints import StrainFilter\n",
    "from ase.optimize import BFGS\n",
    "from ccs_fit.ase_calculator.ccs_ase_calculator import CCS\n",
    "import json\n",
    "\n",
    "with open(\"CCS_params.json\", 'r') as f:\n",
    "    CCS_params = json.load(f)\n",
    "\n",
    "struct = io.read('DFT.db@10')\n",
    "struct = struct # * [2,2,2]\n",
    "\n",
    "CCS_calc = CCS(CCS_params=CCS_params)\n",
    "struct.calc = CCS_calc\n",
    "\n",
    "sf = StrainFilter(struct)\n",
    "opt = BFGS(sf, trajectory=\"strain.traj\")\n",
    "opt.run(0.005)"
   ]
  },
  {
   "cell_type": "code",
   "execution_count": 8,
   "id": "abad8982-9a00-482e-9418-2628cd0f242c",
   "metadata": {},
   "outputs": [
    {
     "name": "stdout",
     "output_type": "stream",
     "text": [
      "Traceback (most recent call last):\n",
      "  File \"/usr/lib/python3.10/runpy.py\", line 196, in _run_module_as_main\n",
      "    return _run_code(code, main_globals, None,\n",
      "  File \"/usr/lib/python3.10/runpy.py\", line 86, in _run_code\n",
      "    exec(code, run_globals)\n",
      "  File \"/home/thism292/.local/lib/python3.10/site-packages/ase/gui/pipe.py\", line 32, in <module>\n",
      "    main()\n",
      "  File \"/home/thism292/.local/lib/python3.10/site-packages/ase/gui/pipe.py\", line 19, in main\n",
      "    make_plot(show=False, *data)\n",
      "  File \"/home/thism292/.local/lib/python3.10/site-packages/ase/gui/graphs.py\", line 78, in make_plot\n",
      "    plt.figure(figsize=(basesize * 2.5**0.5, basesize))\n",
      "  File \"/home/thism292/.local/lib/python3.10/site-packages/matplotlib/_api/deprecation.py\", line 454, in wrapper\n",
      "    return func(*args, **kwargs)\n",
      "  File \"/home/thism292/.local/lib/python3.10/site-packages/matplotlib/pyplot.py\", line 783, in figure\n",
      "    manager = new_figure_manager(\n",
      "  File \"/home/thism292/.local/lib/python3.10/site-packages/matplotlib/pyplot.py\", line 358, in new_figure_manager\n",
      "    _warn_if_gui_out_of_main_thread()\n",
      "  File \"/home/thism292/.local/lib/python3.10/site-packages/matplotlib/pyplot.py\", line 336, in _warn_if_gui_out_of_main_thread\n",
      "    if _get_required_interactive_framework(_get_backend_mod()):\n",
      "  File \"/home/thism292/.local/lib/python3.10/site-packages/matplotlib/pyplot.py\", line 207, in _get_backend_mod\n",
      "    switch_backend(dict.__getitem__(rcParams, \"backend\"))\n",
      "  File \"/home/thism292/.local/lib/python3.10/site-packages/matplotlib/pyplot.py\", line 265, in switch_backend\n",
      "    backend_mod = importlib.import_module(\n",
      "  File \"/usr/lib/python3.10/importlib/__init__.py\", line 126, in import_module\n",
      "    return _bootstrap._gcd_import(name[level:], package, level)\n",
      "  File \"<frozen importlib._bootstrap>\", line 1050, in _gcd_import\n",
      "  File \"<frozen importlib._bootstrap>\", line 1027, in _find_and_load\n",
      "  File \"<frozen importlib._bootstrap>\", line 992, in _find_and_load_unlocked\n",
      "  File \"<frozen importlib._bootstrap>\", line 241, in _call_with_frames_removed\n",
      "  File \"<frozen importlib._bootstrap>\", line 1050, in _gcd_import\n",
      "  File \"<frozen importlib._bootstrap>\", line 1027, in _find_and_load\n",
      "  File \"<frozen importlib._bootstrap>\", line 1004, in _find_and_load_unlocked\n",
      "ModuleNotFoundError: No module named 'matplotlib_inline'\n",
      "^C\n"
     ]
    }
   ],
   "source": [
    "!ase gui strain.traj"
   ]
  },
  {
   "cell_type": "code",
   "execution_count": null,
   "id": "8c2cf79c-4df4-4276-92b6-c610dc759831",
   "metadata": {},
   "outputs": [],
   "source": []
  }
 ],
 "metadata": {
  "kernelspec": {
   "display_name": "CCS_fit",
   "language": "python",
   "name": "ccs_fit"
  },
  "language_info": {
   "codemirror_mode": {
    "name": "ipython",
    "version": 3
   },
   "file_extension": ".py",
   "mimetype": "text/x-python",
   "name": "python",
   "nbconvert_exporter": "python",
   "pygments_lexer": "ipython3",
   "version": "3.9.15"
  },
  "vscode": {
   "interpreter": {
    "hash": "f9cf24ff20edf0aae28141210fc773ab63efd2a56eb4d7d08651373a5d8a7dcd"
   }
  }
 },
 "nbformat": 4,
 "nbformat_minor": 5
}
